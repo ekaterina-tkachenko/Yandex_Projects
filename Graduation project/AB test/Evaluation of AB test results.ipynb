{
 "cells": [
  {
   "cell_type": "markdown",
   "metadata": {},
   "source": [
    "# A/B-тестирование"
   ]
  },
  {
   "cell_type": "markdown",
   "metadata": {},
   "source": [
    "Анализируются результаты А/В теста.\n",
    "\n",
    "**Цель А/В теста**:\n",
    "Внедрение улучшенной рекомендательной системы с целью улучшения каждой метрики не менее, чем на 10% в течение 14 дней с момента регистрации пользователей\n",
    "\n",
    "\n",
    "**Ход исследования**:\n",
    "- Предобработка данных\n",
    "- Оценка корректности проведения теста\n",
    "- Исследовательский анализ данных\n",
    "- Оценка результатов теста\n",
    "\n",
    "**Техническое задание А/В теста:**\n",
    "\n",
    "Название теста: `recommender_system_test`\n",
    "\n",
    "Группы: А (контрольная), B (новая платёжная воронка)\n",
    "\n",
    "Дата запуска: `2020-12-07`\n",
    "\n",
    "Дата остановки набора новых пользователей: `2020-12-21`\n",
    "\n",
    "Дата остановки: `2021-01-04`\n",
    "\n",
    "Аудитория: 15% новых пользователей из региона EU\n",
    "\n",
    "Назначение теста: тестирование изменений, связанных с внедрением улучшенной рекомендательной системы\n",
    "\n",
    "Ожидаемое количество участников теста: 6000\n",
    "\n",
    "Ожидаемый эффект: за 14 дней с момента регистрации в системе пользователи покажут улучшение каждой метрики не менее, чем на 10%:\n",
    "- конверсии в просмотр карточек товаров — событие `product_page`\n",
    "- просмотры корзины — `product_cart`\n",
    "- покупки — `purchase`.\n"
   ]
  },
  {
   "cell_type": "markdown",
   "metadata": {},
   "source": [
    "## Общая информация"
   ]
  },
  {
   "cell_type": "code",
   "execution_count": 58,
   "metadata": {},
   "outputs": [],
   "source": [
    "# импорт библиотек \n",
    "import pandas as pd\n",
    "import datetime as dt\n",
    "import numpy as np\n",
    "import matplotlib.pyplot as plt\n",
    "import seaborn as sns\n",
    "from pandas.plotting import register_matplotlib_converters\n",
    "import scipy.stats as stats\n",
    "import warnings\n",
    "import pylab\n",
    "import plotly.express as px\n",
    "from plotly import graph_objects as go\n",
    "import math as mth\n",
    "import scipy.stats as st\n",
    "warnings.filterwarnings('ignore')\n",
    "register_matplotlib_converters()"
   ]
  },
  {
   "cell_type": "code",
   "execution_count": 59,
   "metadata": {},
   "outputs": [],
   "source": [
    "# чтение файла\n",
    "try:\n",
    "    events = pd.read_csv('/datasets/final_ab_events.csv')\n",
    "except:\n",
    "    events = pd.read_csv('https://code.s3.yandex.net/datasets/final_ab_events.csv')"
   ]
  },
  {
   "cell_type": "code",
   "execution_count": 60,
   "metadata": {},
   "outputs": [],
   "source": [
    "# чтение файла\n",
    "try:\n",
    "    marketing_events = pd.read_csv('/datasets/ab_project_marketing_events.csv')\n",
    "except:\n",
    "    marketing_events = pd.read_csv('https://code.s3.yandex.net/datasets/ab_project_marketing_events.csv')"
   ]
  },
  {
   "cell_type": "code",
   "execution_count": 61,
   "metadata": {},
   "outputs": [],
   "source": [
    "# чтение файла\n",
    "try:\n",
    "    users = pd.read_csv('/datasets/final_ab_new_users.csv')\n",
    "except:\n",
    "    users = pd.read_csv('https://code.s3.yandex.net/datasets/final_ab_new_users.csv')"
   ]
  },
  {
   "cell_type": "code",
   "execution_count": 62,
   "metadata": {},
   "outputs": [],
   "source": [
    "# чтение файла\n",
    "try:\n",
    "    participants = pd.read_csv('/datasets/final_ab_participants.csv')\n",
    "except:\n",
    "    participants = pd.read_csv('https://code.s3.yandex.net/datasets/final_ab_participants.csv')"
   ]
  },
  {
   "cell_type": "code",
   "execution_count": 63,
   "metadata": {},
   "outputs": [],
   "source": [
    "def get_info(table):\n",
    "    \"\"\" Функция выводит рандомные 10 строк таблицы и общую информацию по таблице\n",
    "    \n",
    "    Она принимает на вход название таблицы\n",
    "    \"\"\"\n",
    "    table.info()#общая информация\n",
    "    display(table.sample(10))#рандомные 10 строк"
   ]
  },
  {
   "cell_type": "code",
   "execution_count": 64,
   "metadata": {},
   "outputs": [
    {
     "name": "stdout",
     "output_type": "stream",
     "text": [
      "<class 'pandas.core.frame.DataFrame'>\n",
      "RangeIndex: 440317 entries, 0 to 440316\n",
      "Data columns (total 4 columns):\n",
      " #   Column      Non-Null Count   Dtype  \n",
      "---  ------      --------------   -----  \n",
      " 0   user_id     440317 non-null  object \n",
      " 1   event_dt    440317 non-null  object \n",
      " 2   event_name  440317 non-null  object \n",
      " 3   details     62740 non-null   float64\n",
      "dtypes: float64(1), object(3)\n",
      "memory usage: 13.4+ MB\n"
     ]
    },
    {
     "data": {
      "text/html": [
       "<div>\n",
       "<style scoped>\n",
       "    .dataframe tbody tr th:only-of-type {\n",
       "        vertical-align: middle;\n",
       "    }\n",
       "\n",
       "    .dataframe tbody tr th {\n",
       "        vertical-align: top;\n",
       "    }\n",
       "\n",
       "    .dataframe thead th {\n",
       "        text-align: right;\n",
       "    }\n",
       "</style>\n",
       "<table border=\"1\" class=\"dataframe\">\n",
       "  <thead>\n",
       "    <tr style=\"text-align: right;\">\n",
       "      <th></th>\n",
       "      <th>user_id</th>\n",
       "      <th>event_dt</th>\n",
       "      <th>event_name</th>\n",
       "      <th>details</th>\n",
       "    </tr>\n",
       "  </thead>\n",
       "  <tbody>\n",
       "    <tr>\n",
       "      <th>245248</th>\n",
       "      <td>982DFC4351DA5CD5</td>\n",
       "      <td>2020-12-28 07:07:55</td>\n",
       "      <td>product_page</td>\n",
       "      <td>NaN</td>\n",
       "    </tr>\n",
       "    <tr>\n",
       "      <th>137025</th>\n",
       "      <td>447838073AE4D246</td>\n",
       "      <td>2020-12-10 15:46:23</td>\n",
       "      <td>product_page</td>\n",
       "      <td>NaN</td>\n",
       "    </tr>\n",
       "    <tr>\n",
       "      <th>270401</th>\n",
       "      <td>4A7569745B3E507D</td>\n",
       "      <td>2020-12-10 12:59:15</td>\n",
       "      <td>login</td>\n",
       "      <td>NaN</td>\n",
       "    </tr>\n",
       "    <tr>\n",
       "      <th>397872</th>\n",
       "      <td>507ABEA60E9CEED9</td>\n",
       "      <td>2020-12-23 20:57:51</td>\n",
       "      <td>login</td>\n",
       "      <td>NaN</td>\n",
       "    </tr>\n",
       "    <tr>\n",
       "      <th>297356</th>\n",
       "      <td>575C3CBCAEFCD118</td>\n",
       "      <td>2020-12-14 16:36:04</td>\n",
       "      <td>login</td>\n",
       "      <td>NaN</td>\n",
       "    </tr>\n",
       "    <tr>\n",
       "      <th>342706</th>\n",
       "      <td>17893CC3EA3474EE</td>\n",
       "      <td>2020-12-18 06:33:03</td>\n",
       "      <td>login</td>\n",
       "      <td>NaN</td>\n",
       "    </tr>\n",
       "    <tr>\n",
       "      <th>140039</th>\n",
       "      <td>025FF5E4C068D8E1</td>\n",
       "      <td>2020-12-11 04:18:18</td>\n",
       "      <td>product_page</td>\n",
       "      <td>NaN</td>\n",
       "    </tr>\n",
       "    <tr>\n",
       "      <th>8822</th>\n",
       "      <td>3ADA2133D081A3DA</td>\n",
       "      <td>2020-12-11 20:16:35</td>\n",
       "      <td>purchase</td>\n",
       "      <td>499.99</td>\n",
       "    </tr>\n",
       "    <tr>\n",
       "      <th>207017</th>\n",
       "      <td>A62FA46D975B05D0</td>\n",
       "      <td>2020-12-21 14:46:32</td>\n",
       "      <td>product_page</td>\n",
       "      <td>NaN</td>\n",
       "    </tr>\n",
       "    <tr>\n",
       "      <th>311126</th>\n",
       "      <td>7EE96EBF3CC535BE</td>\n",
       "      <td>2020-12-15 05:26:32</td>\n",
       "      <td>login</td>\n",
       "      <td>NaN</td>\n",
       "    </tr>\n",
       "  </tbody>\n",
       "</table>\n",
       "</div>"
      ],
      "text/plain": [
       "                 user_id             event_dt    event_name  details\n",
       "245248  982DFC4351DA5CD5  2020-12-28 07:07:55  product_page      NaN\n",
       "137025  447838073AE4D246  2020-12-10 15:46:23  product_page      NaN\n",
       "270401  4A7569745B3E507D  2020-12-10 12:59:15         login      NaN\n",
       "397872  507ABEA60E9CEED9  2020-12-23 20:57:51         login      NaN\n",
       "297356  575C3CBCAEFCD118  2020-12-14 16:36:04         login      NaN\n",
       "342706  17893CC3EA3474EE  2020-12-18 06:33:03         login      NaN\n",
       "140039  025FF5E4C068D8E1  2020-12-11 04:18:18  product_page      NaN\n",
       "8822    3ADA2133D081A3DA  2020-12-11 20:16:35      purchase   499.99\n",
       "207017  A62FA46D975B05D0  2020-12-21 14:46:32  product_page      NaN\n",
       "311126  7EE96EBF3CC535BE  2020-12-15 05:26:32         login      NaN"
      ]
     },
     "metadata": {},
     "output_type": "display_data"
    }
   ],
   "source": [
    "get_info(events)"
   ]
  },
  {
   "cell_type": "markdown",
   "metadata": {},
   "source": [
    "**Описание данных**\n",
    "\n",
    "- `user_id` — идентификатор пользователя;\n",
    "- `event_dt` — дата и время события;\n",
    "- `event_name` — тип события;\n",
    "- `details` — дополнительные данные о событии. Например, для покупок, `purchase,` в этом поле хранится стоимость покупки в долларах."
   ]
  },
  {
   "cell_type": "code",
   "execution_count": 65,
   "metadata": {},
   "outputs": [
    {
     "name": "stdout",
     "output_type": "stream",
     "text": [
      "<class 'pandas.core.frame.DataFrame'>\n",
      "RangeIndex: 14 entries, 0 to 13\n",
      "Data columns (total 4 columns):\n",
      " #   Column     Non-Null Count  Dtype \n",
      "---  ------     --------------  ----- \n",
      " 0   name       14 non-null     object\n",
      " 1   regions    14 non-null     object\n",
      " 2   start_dt   14 non-null     object\n",
      " 3   finish_dt  14 non-null     object\n",
      "dtypes: object(4)\n",
      "memory usage: 576.0+ bytes\n"
     ]
    },
    {
     "data": {
      "text/html": [
       "<div>\n",
       "<style scoped>\n",
       "    .dataframe tbody tr th:only-of-type {\n",
       "        vertical-align: middle;\n",
       "    }\n",
       "\n",
       "    .dataframe tbody tr th {\n",
       "        vertical-align: top;\n",
       "    }\n",
       "\n",
       "    .dataframe thead th {\n",
       "        text-align: right;\n",
       "    }\n",
       "</style>\n",
       "<table border=\"1\" class=\"dataframe\">\n",
       "  <thead>\n",
       "    <tr style=\"text-align: right;\">\n",
       "      <th></th>\n",
       "      <th>name</th>\n",
       "      <th>regions</th>\n",
       "      <th>start_dt</th>\n",
       "      <th>finish_dt</th>\n",
       "    </tr>\n",
       "  </thead>\n",
       "  <tbody>\n",
       "    <tr>\n",
       "      <th>2</th>\n",
       "      <td>St. Patric's Day Promo</td>\n",
       "      <td>EU, N.America</td>\n",
       "      <td>2020-03-17</td>\n",
       "      <td>2020-03-19</td>\n",
       "    </tr>\n",
       "    <tr>\n",
       "      <th>11</th>\n",
       "      <td>Dragon Boat Festival Giveaway</td>\n",
       "      <td>APAC</td>\n",
       "      <td>2020-06-25</td>\n",
       "      <td>2020-07-01</td>\n",
       "    </tr>\n",
       "    <tr>\n",
       "      <th>4</th>\n",
       "      <td>4th of July Promo</td>\n",
       "      <td>N.America</td>\n",
       "      <td>2020-07-04</td>\n",
       "      <td>2020-07-11</td>\n",
       "    </tr>\n",
       "    <tr>\n",
       "      <th>5</th>\n",
       "      <td>Black Friday Ads Campaign</td>\n",
       "      <td>EU, CIS, APAC, N.America</td>\n",
       "      <td>2020-11-26</td>\n",
       "      <td>2020-12-01</td>\n",
       "    </tr>\n",
       "    <tr>\n",
       "      <th>6</th>\n",
       "      <td>Chinese New Year Promo</td>\n",
       "      <td>APAC</td>\n",
       "      <td>2020-01-25</td>\n",
       "      <td>2020-02-07</td>\n",
       "    </tr>\n",
       "    <tr>\n",
       "      <th>1</th>\n",
       "      <td>St. Valentine's Day Giveaway</td>\n",
       "      <td>EU, CIS, APAC, N.America</td>\n",
       "      <td>2020-02-14</td>\n",
       "      <td>2020-02-16</td>\n",
       "    </tr>\n",
       "    <tr>\n",
       "      <th>7</th>\n",
       "      <td>Labor day (May 1st) Ads Campaign</td>\n",
       "      <td>EU, CIS, APAC</td>\n",
       "      <td>2020-05-01</td>\n",
       "      <td>2020-05-03</td>\n",
       "    </tr>\n",
       "    <tr>\n",
       "      <th>13</th>\n",
       "      <td>Chinese Moon Festival</td>\n",
       "      <td>APAC</td>\n",
       "      <td>2020-10-01</td>\n",
       "      <td>2020-10-07</td>\n",
       "    </tr>\n",
       "    <tr>\n",
       "      <th>8</th>\n",
       "      <td>International Women's Day Promo</td>\n",
       "      <td>EU, CIS, APAC</td>\n",
       "      <td>2020-03-08</td>\n",
       "      <td>2020-03-10</td>\n",
       "    </tr>\n",
       "    <tr>\n",
       "      <th>9</th>\n",
       "      <td>Victory Day CIS (May 9th) Event</td>\n",
       "      <td>CIS</td>\n",
       "      <td>2020-05-09</td>\n",
       "      <td>2020-05-11</td>\n",
       "    </tr>\n",
       "  </tbody>\n",
       "</table>\n",
       "</div>"
      ],
      "text/plain": [
       "                                name                   regions    start_dt  \\\n",
       "2             St. Patric's Day Promo             EU, N.America  2020-03-17   \n",
       "11     Dragon Boat Festival Giveaway                      APAC  2020-06-25   \n",
       "4                  4th of July Promo                 N.America  2020-07-04   \n",
       "5          Black Friday Ads Campaign  EU, CIS, APAC, N.America  2020-11-26   \n",
       "6             Chinese New Year Promo                      APAC  2020-01-25   \n",
       "1       St. Valentine's Day Giveaway  EU, CIS, APAC, N.America  2020-02-14   \n",
       "7   Labor day (May 1st) Ads Campaign             EU, CIS, APAC  2020-05-01   \n",
       "13             Chinese Moon Festival                      APAC  2020-10-01   \n",
       "8    International Women's Day Promo             EU, CIS, APAC  2020-03-08   \n",
       "9    Victory Day CIS (May 9th) Event                       CIS  2020-05-09   \n",
       "\n",
       "     finish_dt  \n",
       "2   2020-03-19  \n",
       "11  2020-07-01  \n",
       "4   2020-07-11  \n",
       "5   2020-12-01  \n",
       "6   2020-02-07  \n",
       "1   2020-02-16  \n",
       "7   2020-05-03  \n",
       "13  2020-10-07  \n",
       "8   2020-03-10  \n",
       "9   2020-05-11  "
      ]
     },
     "metadata": {},
     "output_type": "display_data"
    }
   ],
   "source": [
    "get_info(marketing_events)"
   ]
  },
  {
   "cell_type": "markdown",
   "metadata": {},
   "source": [
    "**Описание данных**\n",
    "- `name` — название маркетингового события;\n",
    "- `regions` — регионы, в которых будет проводиться рекламная кампания;\n",
    "- `start_dt` — дата начала кампании;\n",
    "- `finish_dt` — дата завершения кампании."
   ]
  },
  {
   "cell_type": "code",
   "execution_count": 66,
   "metadata": {},
   "outputs": [
    {
     "name": "stdout",
     "output_type": "stream",
     "text": [
      "<class 'pandas.core.frame.DataFrame'>\n",
      "RangeIndex: 61733 entries, 0 to 61732\n",
      "Data columns (total 4 columns):\n",
      " #   Column      Non-Null Count  Dtype \n",
      "---  ------      --------------  ----- \n",
      " 0   user_id     61733 non-null  object\n",
      " 1   first_date  61733 non-null  object\n",
      " 2   region      61733 non-null  object\n",
      " 3   device      61733 non-null  object\n",
      "dtypes: object(4)\n",
      "memory usage: 1.9+ MB\n"
     ]
    },
    {
     "data": {
      "text/html": [
       "<div>\n",
       "<style scoped>\n",
       "    .dataframe tbody tr th:only-of-type {\n",
       "        vertical-align: middle;\n",
       "    }\n",
       "\n",
       "    .dataframe tbody tr th {\n",
       "        vertical-align: top;\n",
       "    }\n",
       "\n",
       "    .dataframe thead th {\n",
       "        text-align: right;\n",
       "    }\n",
       "</style>\n",
       "<table border=\"1\" class=\"dataframe\">\n",
       "  <thead>\n",
       "    <tr style=\"text-align: right;\">\n",
       "      <th></th>\n",
       "      <th>user_id</th>\n",
       "      <th>first_date</th>\n",
       "      <th>region</th>\n",
       "      <th>device</th>\n",
       "    </tr>\n",
       "  </thead>\n",
       "  <tbody>\n",
       "    <tr>\n",
       "      <th>47908</th>\n",
       "      <td>8C819478F2623906</td>\n",
       "      <td>2020-12-12</td>\n",
       "      <td>APAC</td>\n",
       "      <td>Android</td>\n",
       "    </tr>\n",
       "    <tr>\n",
       "      <th>49225</th>\n",
       "      <td>E5E9B30C2F43C01E</td>\n",
       "      <td>2020-12-19</td>\n",
       "      <td>EU</td>\n",
       "      <td>Android</td>\n",
       "    </tr>\n",
       "    <tr>\n",
       "      <th>54894</th>\n",
       "      <td>1650F5C42843AF51</td>\n",
       "      <td>2020-12-13</td>\n",
       "      <td>EU</td>\n",
       "      <td>Android</td>\n",
       "    </tr>\n",
       "    <tr>\n",
       "      <th>25319</th>\n",
       "      <td>9237971D97737528</td>\n",
       "      <td>2020-12-22</td>\n",
       "      <td>N.America</td>\n",
       "      <td>Android</td>\n",
       "    </tr>\n",
       "    <tr>\n",
       "      <th>56757</th>\n",
       "      <td>3796AB2EF394DE20</td>\n",
       "      <td>2020-12-13</td>\n",
       "      <td>EU</td>\n",
       "      <td>iPhone</td>\n",
       "    </tr>\n",
       "    <tr>\n",
       "      <th>42934</th>\n",
       "      <td>225E72BD156DC921</td>\n",
       "      <td>2020-12-18</td>\n",
       "      <td>EU</td>\n",
       "      <td>Android</td>\n",
       "    </tr>\n",
       "    <tr>\n",
       "      <th>39804</th>\n",
       "      <td>708BA4C23A50F3C6</td>\n",
       "      <td>2020-12-11</td>\n",
       "      <td>EU</td>\n",
       "      <td>Android</td>\n",
       "    </tr>\n",
       "    <tr>\n",
       "      <th>50033</th>\n",
       "      <td>1A0510704E316536</td>\n",
       "      <td>2020-12-19</td>\n",
       "      <td>EU</td>\n",
       "      <td>iPhone</td>\n",
       "    </tr>\n",
       "    <tr>\n",
       "      <th>13385</th>\n",
       "      <td>1D5CFBAD0A524B5C</td>\n",
       "      <td>2020-12-21</td>\n",
       "      <td>CIS</td>\n",
       "      <td>Android</td>\n",
       "    </tr>\n",
       "    <tr>\n",
       "      <th>14847</th>\n",
       "      <td>3FD6BEE55BA39ED5</td>\n",
       "      <td>2020-12-21</td>\n",
       "      <td>EU</td>\n",
       "      <td>Android</td>\n",
       "    </tr>\n",
       "  </tbody>\n",
       "</table>\n",
       "</div>"
      ],
      "text/plain": [
       "                user_id  first_date     region   device\n",
       "47908  8C819478F2623906  2020-12-12       APAC  Android\n",
       "49225  E5E9B30C2F43C01E  2020-12-19         EU  Android\n",
       "54894  1650F5C42843AF51  2020-12-13         EU  Android\n",
       "25319  9237971D97737528  2020-12-22  N.America  Android\n",
       "56757  3796AB2EF394DE20  2020-12-13         EU   iPhone\n",
       "42934  225E72BD156DC921  2020-12-18         EU  Android\n",
       "39804  708BA4C23A50F3C6  2020-12-11         EU  Android\n",
       "50033  1A0510704E316536  2020-12-19         EU   iPhone\n",
       "13385  1D5CFBAD0A524B5C  2020-12-21        CIS  Android\n",
       "14847  3FD6BEE55BA39ED5  2020-12-21         EU  Android"
      ]
     },
     "metadata": {},
     "output_type": "display_data"
    }
   ],
   "source": [
    "get_info(users)"
   ]
  },
  {
   "cell_type": "markdown",
   "metadata": {},
   "source": [
    "**Описание данных**\n",
    "- `user_id` — идентификатор пользователя;\n",
    "- `first_date` — дата регистрации;\n",
    "- `region` — регион пользователя;\n",
    "- `device` — устройство, с которого происходила регистрация."
   ]
  },
  {
   "cell_type": "code",
   "execution_count": 67,
   "metadata": {},
   "outputs": [
    {
     "name": "stdout",
     "output_type": "stream",
     "text": [
      "<class 'pandas.core.frame.DataFrame'>\n",
      "RangeIndex: 18268 entries, 0 to 18267\n",
      "Data columns (total 3 columns):\n",
      " #   Column   Non-Null Count  Dtype \n",
      "---  ------   --------------  ----- \n",
      " 0   user_id  18268 non-null  object\n",
      " 1   group    18268 non-null  object\n",
      " 2   ab_test  18268 non-null  object\n",
      "dtypes: object(3)\n",
      "memory usage: 428.3+ KB\n"
     ]
    },
    {
     "data": {
      "text/html": [
       "<div>\n",
       "<style scoped>\n",
       "    .dataframe tbody tr th:only-of-type {\n",
       "        vertical-align: middle;\n",
       "    }\n",
       "\n",
       "    .dataframe tbody tr th {\n",
       "        vertical-align: top;\n",
       "    }\n",
       "\n",
       "    .dataframe thead th {\n",
       "        text-align: right;\n",
       "    }\n",
       "</style>\n",
       "<table border=\"1\" class=\"dataframe\">\n",
       "  <thead>\n",
       "    <tr style=\"text-align: right;\">\n",
       "      <th></th>\n",
       "      <th>user_id</th>\n",
       "      <th>group</th>\n",
       "      <th>ab_test</th>\n",
       "    </tr>\n",
       "  </thead>\n",
       "  <tbody>\n",
       "    <tr>\n",
       "      <th>5763</th>\n",
       "      <td>6703B80A2ADCC7C7</td>\n",
       "      <td>A</td>\n",
       "      <td>recommender_system_test</td>\n",
       "    </tr>\n",
       "    <tr>\n",
       "      <th>1704</th>\n",
       "      <td>AF330F766D3B2205</td>\n",
       "      <td>B</td>\n",
       "      <td>recommender_system_test</td>\n",
       "    </tr>\n",
       "    <tr>\n",
       "      <th>15713</th>\n",
       "      <td>846E57ABF8527672</td>\n",
       "      <td>B</td>\n",
       "      <td>interface_eu_test</td>\n",
       "    </tr>\n",
       "    <tr>\n",
       "      <th>9332</th>\n",
       "      <td>552592C48DDE575F</td>\n",
       "      <td>A</td>\n",
       "      <td>interface_eu_test</td>\n",
       "    </tr>\n",
       "    <tr>\n",
       "      <th>1130</th>\n",
       "      <td>EBBE8317E9D7B490</td>\n",
       "      <td>B</td>\n",
       "      <td>recommender_system_test</td>\n",
       "    </tr>\n",
       "    <tr>\n",
       "      <th>2598</th>\n",
       "      <td>2874E1C3F517893F</td>\n",
       "      <td>B</td>\n",
       "      <td>recommender_system_test</td>\n",
       "    </tr>\n",
       "    <tr>\n",
       "      <th>15271</th>\n",
       "      <td>C17F1113553BB04A</td>\n",
       "      <td>A</td>\n",
       "      <td>interface_eu_test</td>\n",
       "    </tr>\n",
       "    <tr>\n",
       "      <th>8957</th>\n",
       "      <td>7DF64AF19246381A</td>\n",
       "      <td>A</td>\n",
       "      <td>interface_eu_test</td>\n",
       "    </tr>\n",
       "    <tr>\n",
       "      <th>7407</th>\n",
       "      <td>C1899DFB2B114541</td>\n",
       "      <td>B</td>\n",
       "      <td>interface_eu_test</td>\n",
       "    </tr>\n",
       "    <tr>\n",
       "      <th>7808</th>\n",
       "      <td>319B40A70C7139F7</td>\n",
       "      <td>B</td>\n",
       "      <td>interface_eu_test</td>\n",
       "    </tr>\n",
       "  </tbody>\n",
       "</table>\n",
       "</div>"
      ],
      "text/plain": [
       "                user_id group                  ab_test\n",
       "5763   6703B80A2ADCC7C7     A  recommender_system_test\n",
       "1704   AF330F766D3B2205     B  recommender_system_test\n",
       "15713  846E57ABF8527672     B        interface_eu_test\n",
       "9332   552592C48DDE575F     A        interface_eu_test\n",
       "1130   EBBE8317E9D7B490     B  recommender_system_test\n",
       "2598   2874E1C3F517893F     B  recommender_system_test\n",
       "15271  C17F1113553BB04A     A        interface_eu_test\n",
       "8957   7DF64AF19246381A     A        interface_eu_test\n",
       "7407   C1899DFB2B114541     B        interface_eu_test\n",
       "7808   319B40A70C7139F7     B        interface_eu_test"
      ]
     },
     "metadata": {},
     "output_type": "display_data"
    }
   ],
   "source": [
    "get_info(participants)"
   ]
  },
  {
   "cell_type": "markdown",
   "metadata": {},
   "source": [
    "**Описание данных**\n",
    "- `user_id` — идентификатор пользователя;\n",
    "- `ab_test` — название теста;\n",
    "- `group` — группа пользователя."
   ]
  },
  {
   "cell_type": "markdown",
   "metadata": {},
   "source": [
    "**Вывод:**\n",
    "\n",
    "Названия столбцов корректны во всех датафреймах. \n",
    "\n",
    "\n",
    "Пропуски встречаются только в таблице **events**, в столбце:`details`. \n",
    "    \n",
    "Тип данных требуется поменять на `date` у всех столбцов с датами:\n",
    "- `event_dt` - таблица **events**.  \n",
    "- `start_dt` и `finish_dt` - таблица **marketing_events**. \n",
    "- `first_date` - таблица **new_users**"
   ]
  },
  {
   "cell_type": "markdown",
   "metadata": {},
   "source": [
    "## Предобработка данных"
   ]
  },
  {
   "cell_type": "markdown",
   "metadata": {},
   "source": [
    "### Изменение типа данных"
   ]
  },
  {
   "cell_type": "code",
   "execution_count": 68,
   "metadata": {},
   "outputs": [],
   "source": [
    "events['event_dt'] = pd.to_datetime(events['event_dt'])# изменение типа"
   ]
  },
  {
   "cell_type": "code",
   "execution_count": 69,
   "metadata": {},
   "outputs": [],
   "source": [
    "marketing_events['finish_dt'] = pd.to_datetime(marketing_events['finish_dt'])# изменение типа"
   ]
  },
  {
   "cell_type": "code",
   "execution_count": 70,
   "metadata": {},
   "outputs": [],
   "source": [
    "marketing_events['start_dt'] = pd.to_datetime(marketing_events['start_dt'])# изменение типа"
   ]
  },
  {
   "cell_type": "code",
   "execution_count": 71,
   "metadata": {},
   "outputs": [],
   "source": [
    "users['first_date'] = pd.to_datetime(users['first_date'])# изменение типа"
   ]
  },
  {
   "cell_type": "code",
   "execution_count": 72,
   "metadata": {},
   "outputs": [
    {
     "name": "stdout",
     "output_type": "stream",
     "text": [
      "<class 'pandas.core.frame.DataFrame'>\n",
      "RangeIndex: 440317 entries, 0 to 440316\n",
      "Data columns (total 4 columns):\n",
      " #   Column      Non-Null Count   Dtype         \n",
      "---  ------      --------------   -----         \n",
      " 0   user_id     440317 non-null  object        \n",
      " 1   event_dt    440317 non-null  datetime64[ns]\n",
      " 2   event_name  440317 non-null  object        \n",
      " 3   details     62740 non-null   float64       \n",
      "dtypes: datetime64[ns](1), float64(1), object(2)\n",
      "memory usage: 13.4+ MB\n"
     ]
    }
   ],
   "source": [
    "events.info()"
   ]
  },
  {
   "cell_type": "markdown",
   "metadata": {},
   "source": [
    "### Обработка дубликатов"
   ]
  },
  {
   "cell_type": "code",
   "execution_count": 73,
   "metadata": {},
   "outputs": [
    {
     "data": {
      "text/plain": [
       "0"
      ]
     },
     "execution_count": 73,
     "metadata": {},
     "output_type": "execute_result"
    }
   ],
   "source": [
    "events.duplicated().sum()"
   ]
  },
  {
   "cell_type": "code",
   "execution_count": 74,
   "metadata": {},
   "outputs": [
    {
     "data": {
      "text/plain": [
       "0"
      ]
     },
     "execution_count": 74,
     "metadata": {},
     "output_type": "execute_result"
    }
   ],
   "source": [
    "marketing_events.duplicated().sum()"
   ]
  },
  {
   "cell_type": "code",
   "execution_count": 75,
   "metadata": {},
   "outputs": [
    {
     "data": {
      "text/plain": [
       "0"
      ]
     },
     "execution_count": 75,
     "metadata": {},
     "output_type": "execute_result"
    }
   ],
   "source": [
    "users.duplicated().sum()"
   ]
  },
  {
   "cell_type": "code",
   "execution_count": 76,
   "metadata": {},
   "outputs": [
    {
     "data": {
      "text/plain": [
       "0"
      ]
     },
     "execution_count": 76,
     "metadata": {},
     "output_type": "execute_result"
    }
   ],
   "source": [
    "participants.duplicated().sum()"
   ]
  },
  {
   "cell_type": "markdown",
   "metadata": {},
   "source": [
    "Проверим неявные дубликаты. Например, может быть путаница с строчными и прописными буквами"
   ]
  },
  {
   "cell_type": "code",
   "execution_count": 77,
   "metadata": {},
   "outputs": [
    {
     "data": {
      "text/plain": [
       "Christmas&New Year Promo            1\n",
       "St. Valentine's Day Giveaway        1\n",
       "St. Patric's Day Promo              1\n",
       "Easter Promo                        1\n",
       "4th of July Promo                   1\n",
       "Black Friday Ads Campaign           1\n",
       "Chinese New Year Promo              1\n",
       "Labor day (May 1st) Ads Campaign    1\n",
       "International Women's Day Promo     1\n",
       "Victory Day CIS (May 9th) Event     1\n",
       "CIS New Year Gift Lottery           1\n",
       "Dragon Boat Festival Giveaway       1\n",
       "Single's Day Gift Promo             1\n",
       "Chinese Moon Festival               1\n",
       "Name: name, dtype: int64"
      ]
     },
     "execution_count": 77,
     "metadata": {},
     "output_type": "execute_result"
    }
   ],
   "source": [
    "marketing_events['name'].value_counts()"
   ]
  },
  {
   "cell_type": "code",
   "execution_count": 78,
   "metadata": {},
   "outputs": [
    {
     "data": {
      "text/plain": [
       "Android    27520\n",
       "PC         15599\n",
       "iPhone     12530\n",
       "Mac         6084\n",
       "Name: device, dtype: int64"
      ]
     },
     "execution_count": 78,
     "metadata": {},
     "output_type": "execute_result"
    }
   ],
   "source": [
    "users['device'].value_counts()"
   ]
  },
  {
   "cell_type": "code",
   "execution_count": 79,
   "metadata": {},
   "outputs": [
    {
     "data": {
      "text/plain": [
       "interface_eu_test          11567\n",
       "recommender_system_test     6701\n",
       "Name: ab_test, dtype: int64"
      ]
     },
     "execution_count": 79,
     "metadata": {},
     "output_type": "execute_result"
    }
   ],
   "source": [
    "participants['ab_test'].value_counts()"
   ]
  },
  {
   "cell_type": "markdown",
   "metadata": {},
   "source": [
    "### Обработка пропусков"
   ]
  },
  {
   "cell_type": "code",
   "execution_count": 80,
   "metadata": {},
   "outputs": [
    {
     "data": {
      "text/plain": [
       "user_id            0\n",
       "event_dt           0\n",
       "event_name         0\n",
       "details       377577\n",
       "dtype: int64"
      ]
     },
     "execution_count": 80,
     "metadata": {},
     "output_type": "execute_result"
    }
   ],
   "source": [
    "events.isna().sum()"
   ]
  },
  {
   "cell_type": "code",
   "execution_count": 81,
   "metadata": {},
   "outputs": [
    {
     "data": {
      "text/html": [
       "<div>\n",
       "<style scoped>\n",
       "    .dataframe tbody tr th:only-of-type {\n",
       "        vertical-align: middle;\n",
       "    }\n",
       "\n",
       "    .dataframe tbody tr th {\n",
       "        vertical-align: top;\n",
       "    }\n",
       "\n",
       "    .dataframe thead th {\n",
       "        text-align: right;\n",
       "    }\n",
       "</style>\n",
       "<table border=\"1\" class=\"dataframe\">\n",
       "  <thead>\n",
       "    <tr style=\"text-align: right;\">\n",
       "      <th></th>\n",
       "      <th>details</th>\n",
       "    </tr>\n",
       "    <tr>\n",
       "      <th>event_name</th>\n",
       "      <th></th>\n",
       "    </tr>\n",
       "  </thead>\n",
       "  <tbody>\n",
       "    <tr>\n",
       "      <th>login</th>\n",
       "      <td>0</td>\n",
       "    </tr>\n",
       "    <tr>\n",
       "      <th>product_cart</th>\n",
       "      <td>0</td>\n",
       "    </tr>\n",
       "    <tr>\n",
       "      <th>product_page</th>\n",
       "      <td>0</td>\n",
       "    </tr>\n",
       "    <tr>\n",
       "      <th>purchase</th>\n",
       "      <td>62740</td>\n",
       "    </tr>\n",
       "  </tbody>\n",
       "</table>\n",
       "</div>"
      ],
      "text/plain": [
       "              details\n",
       "event_name           \n",
       "login               0\n",
       "product_cart        0\n",
       "product_page        0\n",
       "purchase        62740"
      ]
     },
     "execution_count": 81,
     "metadata": {},
     "output_type": "execute_result"
    }
   ],
   "source": [
    "# сводная по типу события\n",
    "events.pivot_table(index='event_name', values='details', aggfunc='count')"
   ]
  },
  {
   "cell_type": "code",
   "execution_count": 82,
   "metadata": {},
   "outputs": [
    {
     "name": "stdout",
     "output_type": "stream",
     "text": [
      "<class 'pandas.core.frame.DataFrame'>\n",
      "RangeIndex: 440317 entries, 0 to 440316\n",
      "Data columns (total 4 columns):\n",
      " #   Column      Non-Null Count   Dtype         \n",
      "---  ------      --------------   -----         \n",
      " 0   user_id     440317 non-null  object        \n",
      " 1   event_dt    440317 non-null  datetime64[ns]\n",
      " 2   event_name  440317 non-null  object        \n",
      " 3   details     62740 non-null   float64       \n",
      "dtypes: datetime64[ns](1), float64(1), object(2)\n",
      "memory usage: 13.4+ MB\n"
     ]
    },
    {
     "data": {
      "text/html": [
       "<div>\n",
       "<style scoped>\n",
       "    .dataframe tbody tr th:only-of-type {\n",
       "        vertical-align: middle;\n",
       "    }\n",
       "\n",
       "    .dataframe tbody tr th {\n",
       "        vertical-align: top;\n",
       "    }\n",
       "\n",
       "    .dataframe thead th {\n",
       "        text-align: right;\n",
       "    }\n",
       "</style>\n",
       "<table border=\"1\" class=\"dataframe\">\n",
       "  <thead>\n",
       "    <tr style=\"text-align: right;\">\n",
       "      <th></th>\n",
       "      <th>user_id</th>\n",
       "      <th>event_dt</th>\n",
       "      <th>event_name</th>\n",
       "      <th>details</th>\n",
       "    </tr>\n",
       "  </thead>\n",
       "  <tbody>\n",
       "    <tr>\n",
       "      <th>198478</th>\n",
       "      <td>8866F4F079244080</td>\n",
       "      <td>2020-12-20 02:12:21</td>\n",
       "      <td>product_page</td>\n",
       "      <td>NaN</td>\n",
       "    </tr>\n",
       "    <tr>\n",
       "      <th>432492</th>\n",
       "      <td>9FD052EE2EAF7724</td>\n",
       "      <td>2020-12-28 23:52:45</td>\n",
       "      <td>login</td>\n",
       "      <td>NaN</td>\n",
       "    </tr>\n",
       "    <tr>\n",
       "      <th>145844</th>\n",
       "      <td>D7D4B5FF0AA741B3</td>\n",
       "      <td>2020-12-12 18:08:35</td>\n",
       "      <td>product_page</td>\n",
       "      <td>NaN</td>\n",
       "    </tr>\n",
       "    <tr>\n",
       "      <th>169833</th>\n",
       "      <td>A53A88F3D41512CC</td>\n",
       "      <td>2020-12-16 21:37:52</td>\n",
       "      <td>product_page</td>\n",
       "      <td>NaN</td>\n",
       "    </tr>\n",
       "    <tr>\n",
       "      <th>432160</th>\n",
       "      <td>EC5CB6F1DE9590AB</td>\n",
       "      <td>2020-12-28 11:00:22</td>\n",
       "      <td>login</td>\n",
       "      <td>NaN</td>\n",
       "    </tr>\n",
       "    <tr>\n",
       "      <th>137360</th>\n",
       "      <td>A4D974A73374C3E7</td>\n",
       "      <td>2020-12-10 02:58:38</td>\n",
       "      <td>product_page</td>\n",
       "      <td>NaN</td>\n",
       "    </tr>\n",
       "    <tr>\n",
       "      <th>201028</th>\n",
       "      <td>B533DC25BB693DA9</td>\n",
       "      <td>2020-12-20 10:21:29</td>\n",
       "      <td>product_page</td>\n",
       "      <td>NaN</td>\n",
       "    </tr>\n",
       "    <tr>\n",
       "      <th>338284</th>\n",
       "      <td>C889BEEF240BF1AC</td>\n",
       "      <td>2020-12-18 03:38:28</td>\n",
       "      <td>login</td>\n",
       "      <td>NaN</td>\n",
       "    </tr>\n",
       "    <tr>\n",
       "      <th>140687</th>\n",
       "      <td>F5DE81C5E066FD5D</td>\n",
       "      <td>2020-12-11 18:47:39</td>\n",
       "      <td>product_page</td>\n",
       "      <td>NaN</td>\n",
       "    </tr>\n",
       "    <tr>\n",
       "      <th>220480</th>\n",
       "      <td>379D7DFCE16A0CCE</td>\n",
       "      <td>2020-12-23 21:43:15</td>\n",
       "      <td>product_page</td>\n",
       "      <td>NaN</td>\n",
       "    </tr>\n",
       "  </tbody>\n",
       "</table>\n",
       "</div>"
      ],
      "text/plain": [
       "                 user_id            event_dt    event_name  details\n",
       "198478  8866F4F079244080 2020-12-20 02:12:21  product_page      NaN\n",
       "432492  9FD052EE2EAF7724 2020-12-28 23:52:45         login      NaN\n",
       "145844  D7D4B5FF0AA741B3 2020-12-12 18:08:35  product_page      NaN\n",
       "169833  A53A88F3D41512CC 2020-12-16 21:37:52  product_page      NaN\n",
       "432160  EC5CB6F1DE9590AB 2020-12-28 11:00:22         login      NaN\n",
       "137360  A4D974A73374C3E7 2020-12-10 02:58:38  product_page      NaN\n",
       "201028  B533DC25BB693DA9 2020-12-20 10:21:29  product_page      NaN\n",
       "338284  C889BEEF240BF1AC 2020-12-18 03:38:28         login      NaN\n",
       "140687  F5DE81C5E066FD5D 2020-12-11 18:47:39  product_page      NaN\n",
       "220480  379D7DFCE16A0CCE 2020-12-23 21:43:15  product_page      NaN"
      ]
     },
     "metadata": {},
     "output_type": "display_data"
    }
   ],
   "source": [
    "get_info(events)"
   ]
  },
  {
   "cell_type": "markdown",
   "metadata": {},
   "source": [
    "В столбце `details` заполнены только ячейки, относящиеся к типу события: `purchase`. В строках с типом события `purchase` -  пропусков нет. Оставим строки с пропущенными значениями"
   ]
  },
  {
   "cell_type": "markdown",
   "metadata": {},
   "source": [
    "**Вывод:**\n",
    "Пропусков и дубликатов нет. Были изменен тип данных столбцов с датами на соответствующий. "
   ]
  },
  {
   "cell_type": "markdown",
   "metadata": {},
   "source": [
    "## Оценка корректности проведения теста"
   ]
  },
  {
   "cell_type": "markdown",
   "metadata": {},
   "source": [
    "### Соответствие данных требованиям технического задания"
   ]
  },
  {
   "cell_type": "markdown",
   "metadata": {},
   "source": [
    "#### Название теста: recommender_system_test"
   ]
  },
  {
   "cell_type": "code",
   "execution_count": 83,
   "metadata": {},
   "outputs": [
    {
     "data": {
      "text/plain": [
       "interface_eu_test          11567\n",
       "recommender_system_test     6701\n",
       "Name: ab_test, dtype: int64"
      ]
     },
     "execution_count": 83,
     "metadata": {},
     "output_type": "execute_result"
    }
   ],
   "source": [
    "participants['ab_test'].value_counts()"
   ]
  },
  {
   "cell_type": "markdown",
   "metadata": {},
   "source": [
    "В данных пресутсвуют два типа тестов. Отфильтруем таблицу по релевантному тесту"
   ]
  },
  {
   "cell_type": "code",
   "execution_count": 84,
   "metadata": {},
   "outputs": [],
   "source": [
    "#участники релевантного теста\n",
    "final_participants = participants.query('ab_test == \"recommender_system_test\"')"
   ]
  },
  {
   "cell_type": "markdown",
   "metadata": {},
   "source": [
    "Проверим, есть ли среди участников релевантного теста - те, кто участвовал во 2м тесте датасета."
   ]
  },
  {
   "cell_type": "code",
   "execution_count": 85,
   "metadata": {},
   "outputs": [],
   "source": [
    "#участники нерелевантного теста\n",
    "ir= participants.query('ab_test == \"interface_eu_test\"')['user_id']"
   ]
  },
  {
   "cell_type": "code",
   "execution_count": 86,
   "metadata": {},
   "outputs": [
    {
     "data": {
      "text/plain": [
       "1602"
      ]
     },
     "execution_count": 86,
     "metadata": {},
     "output_type": "execute_result"
    }
   ],
   "source": [
    "#количество дубль-участников\n",
    "double_participants = final_participants.query('user_id in @ir')['user_id']\n",
    "double_participants.shape[0]"
   ]
  },
  {
   "cell_type": "markdown",
   "metadata": {},
   "source": [
    "Таких пользователей 1602. Посмотрим на разбивку по группам таких пользователей."
   ]
  },
  {
   "cell_type": "code",
   "execution_count": 87,
   "metadata": {},
   "outputs": [
    {
     "data": {
      "text/html": [
       "<div>\n",
       "<style scoped>\n",
       "    .dataframe tbody tr th:only-of-type {\n",
       "        vertical-align: middle;\n",
       "    }\n",
       "\n",
       "    .dataframe tbody tr th {\n",
       "        vertical-align: top;\n",
       "    }\n",
       "\n",
       "    .dataframe thead th {\n",
       "        text-align: right;\n",
       "    }\n",
       "</style>\n",
       "<table border=\"1\" class=\"dataframe\">\n",
       "  <thead>\n",
       "    <tr style=\"text-align: right;\">\n",
       "      <th>group</th>\n",
       "      <th>A</th>\n",
       "      <th>B</th>\n",
       "    </tr>\n",
       "    <tr>\n",
       "      <th>ab_test</th>\n",
       "      <th></th>\n",
       "      <th></th>\n",
       "    </tr>\n",
       "  </thead>\n",
       "  <tbody>\n",
       "    <tr>\n",
       "      <th>recommender_system_test</th>\n",
       "      <td>921</td>\n",
       "      <td>681</td>\n",
       "    </tr>\n",
       "  </tbody>\n",
       "</table>\n",
       "</div>"
      ],
      "text/plain": [
       "group                      A    B\n",
       "ab_test                          \n",
       "recommender_system_test  921  681"
      ]
     },
     "execution_count": 87,
     "metadata": {},
     "output_type": "execute_result"
    }
   ],
   "source": [
    "#разбивка по группам дубль-участников\n",
    "final_participants.query('user_id in @double_participants')\\\n",
    ".pivot_table(index='ab_test', columns='group', values='user_id', aggfunc='nunique')"
   ]
  },
  {
   "cell_type": "markdown",
   "metadata": {},
   "source": [
    "Дубль-участники распределены относительно равномерно по группам. Поэтому не будем удалять их из датасета."
   ]
  },
  {
   "cell_type": "markdown",
   "metadata": {},
   "source": [
    "Также отфильтруем таблицу с информацией о пользователях."
   ]
  },
  {
   "cell_type": "code",
   "execution_count": 88,
   "metadata": {},
   "outputs": [],
   "source": [
    "relevant_users = final_participants['user_id']"
   ]
  },
  {
   "cell_type": "code",
   "execution_count": 89,
   "metadata": {},
   "outputs": [],
   "source": [
    "new_users = users.query('user_id in @relevant_users')"
   ]
  },
  {
   "cell_type": "markdown",
   "metadata": {},
   "source": [
    "#### Даты запуска и остановки теста"
   ]
  },
  {
   "cell_type": "markdown",
   "metadata": {},
   "source": [
    "Критерии в ТЗ:\n",
    "- Дата запуска: 2020-12-07\n",
    "- Дата остановки набора новых пользователей: 2020-12-21\n",
    "- Дата остановки: 2021-01-04"
   ]
  },
  {
   "cell_type": "code",
   "execution_count": 90,
   "metadata": {},
   "outputs": [
    {
     "data": {
      "text/plain": [
       "Timestamp('2020-12-07 00:00:00')"
      ]
     },
     "execution_count": 90,
     "metadata": {},
     "output_type": "execute_result"
    }
   ],
   "source": [
    "# дата запуска\n",
    "new_users['first_date'].min()"
   ]
  },
  {
   "cell_type": "code",
   "execution_count": 91,
   "metadata": {},
   "outputs": [
    {
     "data": {
      "text/plain": [
       "Timestamp('2020-12-21 00:00:00')"
      ]
     },
     "execution_count": 91,
     "metadata": {},
     "output_type": "execute_result"
    }
   ],
   "source": [
    "# дата остановки набора новых пользователей\n",
    "new_users['first_date'].max()"
   ]
  },
  {
   "cell_type": "code",
   "execution_count": 92,
   "metadata": {},
   "outputs": [
    {
     "data": {
      "text/plain": [
       "Timestamp('2020-12-07 00:00:33')"
      ]
     },
     "execution_count": 92,
     "metadata": {},
     "output_type": "execute_result"
    }
   ],
   "source": [
    "# дата запуска\n",
    "events['event_dt'].min()"
   ]
  },
  {
   "cell_type": "code",
   "execution_count": 93,
   "metadata": {},
   "outputs": [
    {
     "data": {
      "text/plain": [
       "Timestamp('2020-12-30 23:36:33')"
      ]
     },
     "execution_count": 93,
     "metadata": {},
     "output_type": "execute_result"
    }
   ],
   "source": [
    "# дата оставновки\n",
    "events['event_dt'].max()"
   ]
  },
  {
   "cell_type": "markdown",
   "metadata": {},
   "source": [
    "Фактическая дата остановки на несколько дней раньше заявленной. \n",
    "\n",
    "Скорее всего, заявленная дата была получена путем расчетов: 21 декабря (последний день регистрации новых пользователей) + 14 дней."
   ]
  },
  {
   "cell_type": "markdown",
   "metadata": {},
   "source": [
    "#### Аудитория: 15% новых пользователей из региона EU"
   ]
  },
  {
   "cell_type": "code",
   "execution_count": 94,
   "metadata": {},
   "outputs": [
    {
     "data": {
      "text/plain": [
       "EU           6351\n",
       "N.America     223\n",
       "APAC           72\n",
       "CIS            55\n",
       "Name: region, dtype: int64"
      ]
     },
     "execution_count": 94,
     "metadata": {},
     "output_type": "execute_result"
    }
   ],
   "source": [
    "# регионы\n",
    "new_users['region'].value_counts()"
   ]
  },
  {
   "cell_type": "code",
   "execution_count": 95,
   "metadata": {},
   "outputs": [
    {
     "data": {
      "text/plain": [
       "13.73"
      ]
     },
     "execution_count": 95,
     "metadata": {},
     "output_type": "execute_result"
    }
   ],
   "source": [
    "# процент новых пользователей из Европы, участвующих в нашем тесте, от всех новых пользователей из Европы\n",
    "round(100*new_users.query('region==\"EU\"')['user_id'].nunique()/users.query('region==\"EU\"')\\\n",
    "      ['user_id'].nunique(),2)"
   ]
  },
  {
   "cell_type": "markdown",
   "metadata": {},
   "source": [
    "В тесте участвуют 13.7% новых пользователей из Европы."
   ]
  },
  {
   "cell_type": "markdown",
   "metadata": {},
   "source": [
    "Отфильтруем таблицу только по пользователям из Европы согласно ТЗ."
   ]
  },
  {
   "cell_type": "code",
   "execution_count": 96,
   "metadata": {},
   "outputs": [],
   "source": [
    "new_users = new_users.query('region==\"EU\"')"
   ]
  },
  {
   "cell_type": "markdown",
   "metadata": {},
   "source": [
    "#### Ожидаемый эффект"
   ]
  },
  {
   "cell_type": "markdown",
   "metadata": {},
   "source": [
    "**ТЗ**: \n",
    "За 14 дней с момента регистрации в системе пользователи покажут улучшение каждой метрики не менее, чем на 10%: конверсии в \n",
    "- просмотр карточек товаров — событие product_page\n",
    "- просмотры корзины — product_cart\n",
    "- покупки — purchase."
   ]
  },
  {
   "cell_type": "markdown",
   "metadata": {},
   "source": [
    "Для того чтобы можно было вычислить конверсию для каждого события и лайфтайм, объединим таблицы между собой."
   ]
  },
  {
   "cell_type": "code",
   "execution_count": 97,
   "metadata": {},
   "outputs": [],
   "source": [
    "data = participants.merge(new_users, on='user_id', how='right')\n",
    "data = data.merge(events, on='user_id', how='left')"
   ]
  },
  {
   "cell_type": "code",
   "execution_count": 98,
   "metadata": {},
   "outputs": [
    {
     "name": "stdout",
     "output_type": "stream",
     "text": [
      "<class 'pandas.core.frame.DataFrame'>\n",
      "Int64Index: 32899 entries, 0 to 32898\n",
      "Data columns (total 9 columns):\n",
      " #   Column      Non-Null Count  Dtype         \n",
      "---  ------      --------------  -----         \n",
      " 0   user_id     32899 non-null  object        \n",
      " 1   group       32899 non-null  object        \n",
      " 2   ab_test     32899 non-null  object        \n",
      " 3   first_date  32899 non-null  datetime64[ns]\n",
      " 4   region      32899 non-null  object        \n",
      " 5   device      32899 non-null  object        \n",
      " 6   event_dt    29314 non-null  datetime64[ns]\n",
      " 7   event_name  29314 non-null  object        \n",
      " 8   details     4044 non-null   float64       \n",
      "dtypes: datetime64[ns](2), float64(1), object(6)\n",
      "memory usage: 2.5+ MB\n"
     ]
    }
   ],
   "source": [
    "data.info()# проверка кол-ва строк после объединения"
   ]
  },
  {
   "cell_type": "markdown",
   "metadata": {},
   "source": [
    "Судя по наличию пропусков в столбцах `event_name` и `event_dt` в данных есть пользователи, которые не совершили ни одного события.\n",
    "Удалим строки с пропусками, но прежде посмотрим на них поподробнее."
   ]
  },
  {
   "cell_type": "code",
   "execution_count": 99,
   "metadata": {},
   "outputs": [],
   "source": [
    "users_without_event = data.loc[data['event_dt'].isna()]# пользователи без событий"
   ]
  },
  {
   "cell_type": "code",
   "execution_count": 100,
   "metadata": {},
   "outputs": [
    {
     "data": {
      "image/png": "[encoded data removed]",
      "text/plain": [
       "<Figure size 1080x504 with 1 Axes>"
      ]
     },
     "metadata": {
      "needs_background": "light"
     },
     "output_type": "display_data"
    }
   ],
   "source": [
    "plt.figure(figsize=(15,7))\n",
    "colors=['#FFEBB7','#AD8E70']\n",
    "sns.histplot(users_without_event, x='first_date', hue='group', multiple='dodge', palette=colors)\n",
    "\n",
    "plt.title('Гистограмма по пользователям, не совершавших событий')\n",
    "plt.xlabel('Дата')\n",
    "plt.ylabel('Количество пользователей')\n",
    "plt.grid();"
   ]
  },
  {
   "cell_type": "markdown",
   "metadata": {},
   "source": [
    "После 13 декабря, пользователи без событий практически принадлежали только группе В. В группе А пользователей без событий осталось совсем немного. Возможно, для группы А исправили какие-то ошибки и пользователи начали/смогли совершать события. В группе В все осталось без изменений."
   ]
  },
  {
   "cell_type": "code",
   "execution_count": 101,
   "metadata": {},
   "outputs": [],
   "source": [
    "data = data.dropna(subset=['event_dt'])# удаление пропусков"
   ]
  },
  {
   "cell_type": "markdown",
   "metadata": {},
   "source": [
    "Рассчитаем лайфтайм. "
   ]
  },
  {
   "cell_type": "code",
   "execution_count": 102,
   "metadata": {},
   "outputs": [],
   "source": [
    "# добавление колонки lifetime\n",
    "data['lifetime'] =  (data['event_dt'] - data['first_date']).dt.days"
   ]
  },
  {
   "cell_type": "markdown",
   "metadata": {},
   "source": [
    "Проверим и исключим события, которые были совершены не в течение 14 дней с момента регистрации."
   ]
  },
  {
   "cell_type": "code",
   "execution_count": 103,
   "metadata": {},
   "outputs": [],
   "source": [
    "# удаление строк с лайфтамом >14\n",
    "data = data.query('lifetime<14').reset_index(drop=True)"
   ]
  },
  {
   "cell_type": "markdown",
   "metadata": {},
   "source": [
    "Рассчитаем конверсию для каждого события: отношение числа пользователей события к общему числу пользователей."
   ]
  },
  {
   "cell_type": "code",
   "execution_count": 104,
   "metadata": {},
   "outputs": [
    {
     "data": {
      "text/html": [
       "<div>\n",
       "<style scoped>\n",
       "    .dataframe tbody tr th:only-of-type {\n",
       "        vertical-align: middle;\n",
       "    }\n",
       "\n",
       "    .dataframe tbody tr th {\n",
       "        vertical-align: top;\n",
       "    }\n",
       "\n",
       "    .dataframe thead th {\n",
       "        text-align: right;\n",
       "    }\n",
       "</style>\n",
       "<table border=\"1\" class=\"dataframe\">\n",
       "  <thead>\n",
       "    <tr style=\"text-align: right;\">\n",
       "      <th>group</th>\n",
       "      <th>event_name</th>\n",
       "      <th>A</th>\n",
       "      <th>B</th>\n",
       "    </tr>\n",
       "  </thead>\n",
       "  <tbody>\n",
       "    <tr>\n",
       "      <th>0</th>\n",
       "      <td>login</td>\n",
       "      <td>2720</td>\n",
       "      <td>1201</td>\n",
       "    </tr>\n",
       "    <tr>\n",
       "      <th>1</th>\n",
       "      <td>product_cart</td>\n",
       "      <td>812</td>\n",
       "      <td>340</td>\n",
       "    </tr>\n",
       "    <tr>\n",
       "      <th>2</th>\n",
       "      <td>product_page</td>\n",
       "      <td>1747</td>\n",
       "      <td>702</td>\n",
       "    </tr>\n",
       "    <tr>\n",
       "      <th>3</th>\n",
       "      <td>purchase</td>\n",
       "      <td>861</td>\n",
       "      <td>348</td>\n",
       "    </tr>\n",
       "  </tbody>\n",
       "</table>\n",
       "</div>"
      ],
      "text/plain": [
       "group    event_name     A     B\n",
       "0             login  2720  1201\n",
       "1      product_cart   812   340\n",
       "2      product_page  1747   702\n",
       "3          purchase   861   348"
      ]
     },
     "execution_count": 104,
     "metadata": {},
     "output_type": "execute_result"
    }
   ],
   "source": [
    "# сводная таблица с количеством пользователей для каждого события каждой группы\n",
    "cv = data.pivot_table(index='event_name', columns='group', values='user_id', aggfunc='nunique').reset_index()\n",
    "cv"
   ]
  },
  {
   "cell_type": "markdown",
   "metadata": {},
   "source": [
    "Порядок событий отличается от порядка, указанного в ТЗ и логики воронки. Сначала пользователь нажимает на карточку товара, а затем уже на корзину.\n",
    "Необходимо поменять события местами."
   ]
  },
  {
   "cell_type": "code",
   "execution_count": 105,
   "metadata": {},
   "outputs": [
    {
     "data": {
      "text/html": [
       "<div>\n",
       "<style scoped>\n",
       "    .dataframe tbody tr th:only-of-type {\n",
       "        vertical-align: middle;\n",
       "    }\n",
       "\n",
       "    .dataframe tbody tr th {\n",
       "        vertical-align: top;\n",
       "    }\n",
       "\n",
       "    .dataframe thead th {\n",
       "        text-align: right;\n",
       "    }\n",
       "</style>\n",
       "<table border=\"1\" class=\"dataframe\">\n",
       "  <thead>\n",
       "    <tr style=\"text-align: right;\">\n",
       "      <th>group</th>\n",
       "      <th>event_name</th>\n",
       "      <th>A</th>\n",
       "      <th>B</th>\n",
       "      <th>conversion_a</th>\n",
       "      <th>conversion_b</th>\n",
       "      <th>difference</th>\n",
       "    </tr>\n",
       "  </thead>\n",
       "  <tbody>\n",
       "    <tr>\n",
       "      <th>0</th>\n",
       "      <td>login</td>\n",
       "      <td>2720</td>\n",
       "      <td>1201</td>\n",
       "      <td>100.00</td>\n",
       "      <td>99.92</td>\n",
       "      <td>-0.08</td>\n",
       "    </tr>\n",
       "    <tr>\n",
       "      <th>1</th>\n",
       "      <td>product_page</td>\n",
       "      <td>1747</td>\n",
       "      <td>702</td>\n",
       "      <td>64.23</td>\n",
       "      <td>58.40</td>\n",
       "      <td>-5.83</td>\n",
       "    </tr>\n",
       "    <tr>\n",
       "      <th>2</th>\n",
       "      <td>product_cart</td>\n",
       "      <td>812</td>\n",
       "      <td>340</td>\n",
       "      <td>29.85</td>\n",
       "      <td>28.29</td>\n",
       "      <td>-1.56</td>\n",
       "    </tr>\n",
       "    <tr>\n",
       "      <th>3</th>\n",
       "      <td>purchase</td>\n",
       "      <td>861</td>\n",
       "      <td>348</td>\n",
       "      <td>31.65</td>\n",
       "      <td>28.95</td>\n",
       "      <td>-2.70</td>\n",
       "    </tr>\n",
       "  </tbody>\n",
       "</table>\n",
       "</div>"
      ],
      "text/plain": [
       "group    event_name     A     B  conversion_a  conversion_b  difference\n",
       "0             login  2720  1201        100.00         99.92       -0.08\n",
       "1      product_page  1747   702         64.23         58.40       -5.83\n",
       "2      product_cart   812   340         29.85         28.29       -1.56\n",
       "3          purchase   861   348         31.65         28.95       -2.70"
      ]
     },
     "execution_count": 105,
     "metadata": {},
     "output_type": "execute_result"
    }
   ],
   "source": [
    "# вычисление конверсии для группы А и В\n",
    "cv['conversion_a'] = round(100*cv['A'] / data.query('group==\"A\"')['user_id'].nunique(),2)\n",
    "cv['conversion_b'] = round(100*cv['B'] /  data.query('group==\"B\"')['user_id'].nunique(),2)\n",
    "#разница конверсий \n",
    "cv['difference'] = cv['conversion_b'] - cv['conversion_a']\n",
    "\n",
    "# изменение порядка событий\n",
    "cv = cv.reindex([0, 2, 1, 3]).reset_index(drop=True)\n",
    "cv"
   ]
  },
  {
   "cell_type": "markdown",
   "metadata": {},
   "source": [
    "Конверсия не улучшилась на ожидаемые 10%, а даже ухудшилась."
   ]
  },
  {
   "cell_type": "markdown",
   "metadata": {},
   "source": [
    "### Время проведения теста"
   ]
  },
  {
   "cell_type": "markdown",
   "metadata": {},
   "source": [
    "Проверим наличие маркетинговых кампаний, которые пересекаются со временем проведения тестирования."
   ]
  },
  {
   "cell_type": "code",
   "execution_count": 106,
   "metadata": {},
   "outputs": [
    {
     "data": {
      "text/html": [
       "<div>\n",
       "<style scoped>\n",
       "    .dataframe tbody tr th:only-of-type {\n",
       "        vertical-align: middle;\n",
       "    }\n",
       "\n",
       "    .dataframe tbody tr th {\n",
       "        vertical-align: top;\n",
       "    }\n",
       "\n",
       "    .dataframe thead th {\n",
       "        text-align: right;\n",
       "    }\n",
       "</style>\n",
       "<table border=\"1\" class=\"dataframe\">\n",
       "  <thead>\n",
       "    <tr style=\"text-align: right;\">\n",
       "      <th></th>\n",
       "      <th>name</th>\n",
       "      <th>regions</th>\n",
       "      <th>start_dt</th>\n",
       "      <th>finish_dt</th>\n",
       "    </tr>\n",
       "  </thead>\n",
       "  <tbody>\n",
       "    <tr>\n",
       "      <th>0</th>\n",
       "      <td>Christmas&amp;New Year Promo</td>\n",
       "      <td>EU, N.America</td>\n",
       "      <td>2020-12-25</td>\n",
       "      <td>2021-01-03</td>\n",
       "    </tr>\n",
       "    <tr>\n",
       "      <th>10</th>\n",
       "      <td>CIS New Year Gift Lottery</td>\n",
       "      <td>CIS</td>\n",
       "      <td>2020-12-30</td>\n",
       "      <td>2021-01-07</td>\n",
       "    </tr>\n",
       "  </tbody>\n",
       "</table>\n",
       "</div>"
      ],
      "text/plain": [
       "                         name        regions   start_dt  finish_dt\n",
       "0    Christmas&New Year Promo  EU, N.America 2020-12-25 2021-01-03\n",
       "10  CIS New Year Gift Lottery            CIS 2020-12-30 2021-01-07"
      ]
     },
     "execution_count": 106,
     "metadata": {},
     "output_type": "execute_result"
    }
   ],
   "source": [
    "marketing_events.query('(start_dt <= \"2020-01-04\") or (finish_dt >= \"2020-12-07\")')"
   ]
  },
  {
   "cell_type": "markdown",
   "metadata": {},
   "source": [
    "Компания `CIS New Year Gift Lottery` проводится не в Европе. А вот `Christmas&New Year Promo` может повлиять на результаты исследования. Но эта компания проводилась только во 2ю половину периода нашего теста. "
   ]
  },
  {
   "cell_type": "markdown",
   "metadata": {},
   "source": [
    "### Аудитория теста"
   ]
  },
  {
   "cell_type": "markdown",
   "metadata": {},
   "source": [
    "Проверим есть ли пользователи, находящиеся сразу в 2-х группах."
   ]
  },
  {
   "cell_type": "code",
   "execution_count": 107,
   "metadata": {},
   "outputs": [
    {
     "data": {
      "text/plain": [
       "ab_test\n",
       "interface_eu_test          0\n",
       "recommender_system_test    0\n",
       "dtype: int64"
      ]
     },
     "execution_count": 107,
     "metadata": {},
     "output_type": "execute_result"
    }
   ],
   "source": [
    "data.pivot_table(index='user_id', columns='ab_test', values='group', aggfunc='nunique').\\\n",
    "query('recommender_system_test==2').count()"
   ]
  },
  {
   "cell_type": "markdown",
   "metadata": {},
   "source": [
    "Пользователей, которые находятся в 2х группах сразу -  нет."
   ]
  },
  {
   "cell_type": "markdown",
   "metadata": {},
   "source": [
    "Проверим равномерность распределения пользователей по тестовым группам."
   ]
  },
  {
   "cell_type": "code",
   "execution_count": 108,
   "metadata": {},
   "outputs": [
    {
     "data": {
      "image/png": "[encoded data removed]",
      "text/plain": [
       "<Figure size 504x504 with 1 Axes>"
      ]
     },
     "metadata": {},
     "output_type": "display_data"
    }
   ],
   "source": [
    "plt.figure(figsize=(7, 7))\n",
    "explode = (0, 0.03)\n",
    "valu1 = data.groupby('group')['user_id'].nunique().tolist()\n",
    "def make_autopct(valu1):\n",
    "    \"\"\" Эта функция позволяет показать на круговой диаграмме относительные и абсолютные значения\n",
    "    \n",
    "    Она принимает на вход список из абсолютных значений, по которым строится диаграмма\n",
    "    \"\"\"\n",
    "    def my_autopct(pct):\n",
    "        total = sum(valu1)\n",
    "        val = int(round(pct*total/100.0))\n",
    "        return '{p:.2f}%  ({v:d})'.format(p=pct,v=val)\n",
    "    return my_autopct\n",
    "data.groupby('group')['user_id'].nunique().\\\n",
    "plot(kind='pie',autopct=make_autopct(valu1),ylabel='',colors=['#AD8E70','#FFEBB7'], explode=explode,\\\n",
    "     startangle=90, title='Cоотношение количества пользователей по группам');"
   ]
  },
  {
   "cell_type": "markdown",
   "metadata": {},
   "source": [
    "Разделение участников по группам А и В неравномерное. "
   ]
  },
  {
   "cell_type": "markdown",
   "metadata": {},
   "source": [
    "Также по графику видно, что в итоге всех итераций у нас осталось всего 3922 пользователей. Проверим достаточного ли этого количества для достоверных результатов. Для этого воспользуемся [калькулятором](https://mindbox.ru/academy/ab-test-calculator/). При среднем показателе в 50% и ожидаемом приросте в 10%, получается, что в каждой группе должно быть не меньше 392 человека. Это условие выполняется. "
   ]
  },
  {
   "cell_type": "markdown",
   "metadata": {},
   "source": [
    "**Вывод:**\n",
    "\n",
    "Данные были отфильтрованы по релевантному тесту, согласно ТЗ: `recommender_system_test`. Есть 1602 пользователей, которые принимали участие в 2х тестах сразу. Они не были удалены, так как равномерно распределены по группам А/В. Скорее всего эти пользователи не могли исказить результаты. \n",
    "\n",
    "Фактическая дата остановки на несколько дней раньше заявленной. Дата по ТЗ: 4 января. Фактическая: 30 декабря.\n",
    "\n",
    "В тесте участвуют 13.7% новых пользователей из Европы. За 14 дней с момента регистрации в системе пользователи не показали улучшение каждой метрики не менее, чем на 10%. Конверсия наоборот ухудшилась.\n",
    "\n",
    "На результаты могла повлиять маркетинговая кампания: `Christmas&New Year Promo`, проводимая во 2ю половину периода нашего теста. Также разделение участников по группам А и В неравномерное. После фильтрации осталось всего 3922 пользователей, участвующих в тесте. Согласно калькулятору этого достаточно, но все равно уменьшает мощность нашего теста."
   ]
  },
  {
   "cell_type": "markdown",
   "metadata": {},
   "source": [
    "## Исследовательский анализ данных"
   ]
  },
  {
   "cell_type": "markdown",
   "metadata": {},
   "source": [
    "### Распределение количества событий на пользователя"
   ]
  },
  {
   "cell_type": "code",
   "execution_count": 109,
   "metadata": {},
   "outputs": [],
   "source": [
    "# сводная таблица с расчетом кол-ва событий на пользователя \n",
    "events_per_user = data.pivot_table(index=['user_id', 'group'],  values='event_name', aggfunc='count')\\\n",
    ".reset_index()"
   ]
  },
  {
   "cell_type": "code",
   "execution_count": 110,
   "metadata": {},
   "outputs": [
    {
     "data": {
      "image/png": "[encoded data removed]",
      "text/plain": [
       "<Figure size 1080x504 with 1 Axes>"
      ]
     },
     "metadata": {
      "needs_background": "light"
     },
     "output_type": "display_data"
    }
   ],
   "source": [
    "# распределение количества событий на пользователя\n",
    "plt.figure(figsize=(15,7))\n",
    "colors=['#FFEBB7','#AD8E70']\n",
    "sns.histplot(events_per_user, x='event_name', hue='group',discrete=True,palette=colors, kde=True, multiple=\"dodge\")\n",
    "plt.title(\"Распределение количества событий на пользователя\")\n",
    "plt.xlabel('Кол-во событий')\n",
    "plt.ylabel('Кол-во повторений')\n",
    "plt.grid();"
   ]
  },
  {
   "cell_type": "code",
   "execution_count": 111,
   "metadata": {},
   "outputs": [
    {
     "data": {
      "text/plain": [
       "7.634558823529412"
      ]
     },
     "execution_count": 111,
     "metadata": {},
     "output_type": "execute_result"
    }
   ],
   "source": [
    "# среднее число событий для пользователей группы А\n",
    "events_per_user.query('group == \"A\"')['event_name'].mean()"
   ]
  },
  {
   "cell_type": "code",
   "execution_count": 112,
   "metadata": {},
   "outputs": [
    {
     "data": {
      "text/plain": [
       "6.286189683860233"
      ]
     },
     "execution_count": 112,
     "metadata": {},
     "output_type": "execute_result"
    }
   ],
   "source": [
    "# среднее число событий для пользователей группы В\n",
    "events_per_user.query('group == \"B\"')['event_name'].mean()"
   ]
  },
  {
   "cell_type": "markdown",
   "metadata": {},
   "source": [
    "Типы распределений числа событий на пользователя одинаковы. Но так как в группе А больше пользователей, то и событий они совершали больше. Среднее число событий на пользователей группы А больше на 1 событие чем у группы В. "
   ]
  },
  {
   "cell_type": "markdown",
   "metadata": {},
   "source": [
    "### Распределение количества событий по дням"
   ]
  },
  {
   "cell_type": "code",
   "execution_count": 113,
   "metadata": {},
   "outputs": [],
   "source": [
    "data['event_dt'] = data['event_dt'].dt.date # изменение типа данных для постройки графика"
   ]
  },
  {
   "cell_type": "code",
   "execution_count": 114,
   "metadata": {},
   "outputs": [],
   "source": [
    "# сводная таблица с расчетом кол-ва событий по дням\n",
    "events_per_date = data.pivot_table(index=['event_dt', 'group'],  values='event_name', aggfunc='count')\\\n",
    ".reset_index()"
   ]
  },
  {
   "cell_type": "code",
   "execution_count": 115,
   "metadata": {},
   "outputs": [
    {
     "data": {
      "image/png": "[encoded data removed]",
      "text/plain": [
       "<Figure size 1080x504 with 1 Axes>"
      ]
     },
     "metadata": {
      "needs_background": "light"
     },
     "output_type": "display_data"
    }
   ],
   "source": [
    "# распределение количества событий на пользователя\n",
    "plt.figure(figsize=(15,7))\n",
    "colors=['#AD8E70','#FFEBB7']\n",
    "sns.barplot(x='event_name', y='event_dt', data = events_per_date, hue='group',palette=colors)\n",
    "plt.title(\"Распределение количества событий на пользователя\")\n",
    "plt.xlabel('Кол-во событий')\n",
    "plt.ylabel('Кол-во повторений')\n",
    "plt.grid();"
   ]
  },
  {
   "cell_type": "markdown",
   "metadata": {},
   "source": [
    "В группе А с 14 декабря наблюдается резкое увеличение числа событий. \n",
    "Максимальное количество событий - 21 декабря.\n",
    "В группе В всплеска активности пользователей не было.\n",
    "Выглядит, что рост числа событий группы А связан с отсутствием с 14 декабря пользователей без событий."
   ]
  },
  {
   "cell_type": "markdown",
   "metadata": {},
   "source": [
    "### Конверсия в воронке в выборках на разных этапах"
   ]
  },
  {
   "cell_type": "markdown",
   "metadata": {},
   "source": [
    "Ранее мы уже считали количество конверсию и меняли порядок событий местами."
   ]
  },
  {
   "cell_type": "code",
   "execution_count": 116,
   "metadata": {},
   "outputs": [
    {
     "data": {
      "text/html": [
       "<div>\n",
       "<style scoped>\n",
       "    .dataframe tbody tr th:only-of-type {\n",
       "        vertical-align: middle;\n",
       "    }\n",
       "\n",
       "    .dataframe tbody tr th {\n",
       "        vertical-align: top;\n",
       "    }\n",
       "\n",
       "    .dataframe thead th {\n",
       "        text-align: right;\n",
       "    }\n",
       "</style>\n",
       "<table border=\"1\" class=\"dataframe\">\n",
       "  <thead>\n",
       "    <tr style=\"text-align: right;\">\n",
       "      <th>group</th>\n",
       "      <th>event_name</th>\n",
       "      <th>A</th>\n",
       "      <th>B</th>\n",
       "      <th>conversion_a</th>\n",
       "      <th>conversion_b</th>\n",
       "      <th>difference</th>\n",
       "    </tr>\n",
       "  </thead>\n",
       "  <tbody>\n",
       "    <tr>\n",
       "      <th>0</th>\n",
       "      <td>login</td>\n",
       "      <td>2720</td>\n",
       "      <td>1201</td>\n",
       "      <td>100.00</td>\n",
       "      <td>99.92</td>\n",
       "      <td>-0.08</td>\n",
       "    </tr>\n",
       "    <tr>\n",
       "      <th>1</th>\n",
       "      <td>product_page</td>\n",
       "      <td>1747</td>\n",
       "      <td>702</td>\n",
       "      <td>64.23</td>\n",
       "      <td>58.40</td>\n",
       "      <td>-5.83</td>\n",
       "    </tr>\n",
       "    <tr>\n",
       "      <th>2</th>\n",
       "      <td>product_cart</td>\n",
       "      <td>812</td>\n",
       "      <td>340</td>\n",
       "      <td>29.85</td>\n",
       "      <td>28.29</td>\n",
       "      <td>-1.56</td>\n",
       "    </tr>\n",
       "    <tr>\n",
       "      <th>3</th>\n",
       "      <td>purchase</td>\n",
       "      <td>861</td>\n",
       "      <td>348</td>\n",
       "      <td>31.65</td>\n",
       "      <td>28.95</td>\n",
       "      <td>-2.70</td>\n",
       "    </tr>\n",
       "  </tbody>\n",
       "</table>\n",
       "</div>"
      ],
      "text/plain": [
       "group    event_name     A     B  conversion_a  conversion_b  difference\n",
       "0             login  2720  1201        100.00         99.92       -0.08\n",
       "1      product_page  1747   702         64.23         58.40       -5.83\n",
       "2      product_cart   812   340         29.85         28.29       -1.56\n",
       "3          purchase   861   348         31.65         28.95       -2.70"
      ]
     },
     "execution_count": 116,
     "metadata": {},
     "output_type": "execute_result"
    }
   ],
   "source": [
    "cv # сводная таблица с количеством пользователей для каждого события каждой группы и конверсией"
   ]
  },
  {
   "cell_type": "code",
   "execution_count": 122,
   "metadata": {},
   "outputs": [],
   "source": [
    "# воронка\n",
    "#fig = go.Figure()\n",
    "\n",
    "#fig.add_trace(go.Funnel(\n",
    "    #name = 'группа А',\n",
    "    #y = cv['event_name'],\n",
    "    #x = cv['A'],\n",
    "    #textinfo = 'value+percent initial', \n",
    "    #marker = {\"color\":'#243763'}))\n",
    "\n",
    "#fig.add_trace(go.Funnel(\n",
    "    #name = 'группа В',\n",
    "    #y = cv['event_name'],\n",
    "    #x = cv['B'],\n",
    "    #textinfo = 'value+percent initial',\n",
    "    #marker = {\"color\":'#FF6E31'}))"
   ]
  },
  {
   "cell_type": "markdown",
   "metadata": {},
   "source": [
    "Так как на последнем этапе воронки количество пользователей больше чем на предыдущем, следовательно, есть возможность купить товары в 1 клик. Больше всего пользователей теряется после просмотра карточки товара при переходе в корзину."
   ]
  },
  {
   "cell_type": "markdown",
   "metadata": {},
   "source": [
    "**Вывод:**\n",
    "\n",
    "Типы распределений числа событий на пользователя одинаковы. Но так как в группе А больше пользователей, то и событий они совершали больше. Среднее число событий на пользователей группы А больше на 1 событие чем у группы В. \n",
    "\n",
    "В группе А с 14 декабря наблюдается резкое увеличение числа событий. \n",
    "Максимальное количество событий - 21 декабря.\n",
    "В группе В всплеска активности пользователей не было.\n",
    "\n",
    "Конверсия группы А на всех этапах воронки больше конверсии группы В."
   ]
  },
  {
   "cell_type": "markdown",
   "metadata": {},
   "source": [
    "## Оценка результатов A/B-тестирования"
   ]
  },
  {
   "cell_type": "markdown",
   "metadata": {},
   "source": [
    "Для оценки результатов А/В теста еще раз посчитаем количество пользователей по группам"
   ]
  },
  {
   "cell_type": "code",
   "execution_count": 118,
   "metadata": {},
   "outputs": [
    {
     "data": {
      "text/html": [
       "<div>\n",
       "<style scoped>\n",
       "    .dataframe tbody tr th:only-of-type {\n",
       "        vertical-align: middle;\n",
       "    }\n",
       "\n",
       "    .dataframe tbody tr th {\n",
       "        vertical-align: top;\n",
       "    }\n",
       "\n",
       "    .dataframe thead th {\n",
       "        text-align: right;\n",
       "    }\n",
       "</style>\n",
       "<table border=\"1\" class=\"dataframe\">\n",
       "  <thead>\n",
       "    <tr style=\"text-align: right;\">\n",
       "      <th></th>\n",
       "      <th>group</th>\n",
       "      <th>user_id</th>\n",
       "    </tr>\n",
       "  </thead>\n",
       "  <tbody>\n",
       "    <tr>\n",
       "      <th>0</th>\n",
       "      <td>A</td>\n",
       "      <td>2720</td>\n",
       "    </tr>\n",
       "    <tr>\n",
       "      <th>1</th>\n",
       "      <td>B</td>\n",
       "      <td>1202</td>\n",
       "    </tr>\n",
       "  </tbody>\n",
       "</table>\n",
       "</div>"
      ],
      "text/plain": [
       "  group  user_id\n",
       "0     A     2720\n",
       "1     B     1202"
      ]
     },
     "execution_count": 118,
     "metadata": {},
     "output_type": "execute_result"
    }
   ],
   "source": [
    "# пользователи по группам\n",
    "user_per_gr = data.pivot_table(index='group', values='user_id', aggfunc='nunique').reset_index()\n",
    "user_per_gr"
   ]
  },
  {
   "cell_type": "markdown",
   "metadata": {},
   "source": [
    "Количество пользователей по группам и конверсия в разрезе событий: "
   ]
  },
  {
   "cell_type": "code",
   "execution_count": 119,
   "metadata": {},
   "outputs": [
    {
     "data": {
      "text/html": [
       "<div>\n",
       "<style scoped>\n",
       "    .dataframe tbody tr th:only-of-type {\n",
       "        vertical-align: middle;\n",
       "    }\n",
       "\n",
       "    .dataframe tbody tr th {\n",
       "        vertical-align: top;\n",
       "    }\n",
       "\n",
       "    .dataframe thead th {\n",
       "        text-align: right;\n",
       "    }\n",
       "</style>\n",
       "<table border=\"1\" class=\"dataframe\">\n",
       "  <thead>\n",
       "    <tr style=\"text-align: right;\">\n",
       "      <th>group</th>\n",
       "      <th>event_name</th>\n",
       "      <th>A</th>\n",
       "      <th>B</th>\n",
       "      <th>conversion_a</th>\n",
       "      <th>conversion_b</th>\n",
       "      <th>difference</th>\n",
       "    </tr>\n",
       "  </thead>\n",
       "  <tbody>\n",
       "    <tr>\n",
       "      <th>1</th>\n",
       "      <td>product_page</td>\n",
       "      <td>1747</td>\n",
       "      <td>702</td>\n",
       "      <td>64.23</td>\n",
       "      <td>58.40</td>\n",
       "      <td>-5.83</td>\n",
       "    </tr>\n",
       "    <tr>\n",
       "      <th>2</th>\n",
       "      <td>product_cart</td>\n",
       "      <td>812</td>\n",
       "      <td>340</td>\n",
       "      <td>29.85</td>\n",
       "      <td>28.29</td>\n",
       "      <td>-1.56</td>\n",
       "    </tr>\n",
       "    <tr>\n",
       "      <th>3</th>\n",
       "      <td>purchase</td>\n",
       "      <td>861</td>\n",
       "      <td>348</td>\n",
       "      <td>31.65</td>\n",
       "      <td>28.95</td>\n",
       "      <td>-2.70</td>\n",
       "    </tr>\n",
       "  </tbody>\n",
       "</table>\n",
       "</div>"
      ],
      "text/plain": [
       "group    event_name     A    B  conversion_a  conversion_b  difference\n",
       "1      product_page  1747  702         64.23         58.40       -5.83\n",
       "2      product_cart   812  340         29.85         28.29       -1.56\n",
       "3          purchase   861  348         31.65         28.95       -2.70"
      ]
     },
     "execution_count": 119,
     "metadata": {},
     "output_type": "execute_result"
    }
   ],
   "source": [
    "cv = cv.query('event_name !=\"login\"') # первое событие убираем, так нет пред. шага\n",
    "cv"
   ]
  },
  {
   "cell_type": "code",
   "execution_count": 120,
   "metadata": {},
   "outputs": [],
   "source": [
    "# функция для проверки гипотезы о равенстве долей\n",
    "def check_rate(event, a):\n",
    "    alpha = a # критический уровень статистической значимости\n",
    "\n",
    "    successes_A = np.array(cv[cv['event_name']==event][\"A\"].values.tolist()[0])\n",
    "    successes_B = np.array(cv[cv['event_name']==event][\"B\"].values.tolist()[0])\n",
    "    trials_A = np.array(user_per_gr[user_per_gr['group']==\"A\"]['user_id'].values.tolist()[0])\n",
    "    trials_B = np.array(user_per_gr[user_per_gr['group']==\"B\"]['user_id'].values.tolist()[0])\n",
    "     # пропорция успехов в первой группе:\n",
    "    p1 = successes_A/trials_A\n",
    "\n",
    "# пропорция успехов во второй группе:\n",
    "    p2 = successes_B/trials_B\n",
    "\n",
    "# пропорция успехов в комбинированном датасете:\n",
    "    p_combined = (successes_A + successes_B) / (trials_A + trials_B)\n",
    "\n",
    "# разница пропорций в датасетах\n",
    "    difference = p1 - p2 \n",
    "# считаем статистику в ст.отклонениях стандартного нормального распределения\n",
    "    z_value = difference / mth.sqrt(p_combined * (1 - p_combined) * (1/trials_A + 1/trials_B))\n",
    "\n",
    "# задаем стандартное нормальное распределение (среднее 0, ст.отклонение 1)\n",
    "    distr = st.norm(0, 1)  \n",
    "    p_value = (1 - distr.cdf(abs(z_value))) * 2\n",
    "    \n",
    "    \n",
    "    print('Событие: {}'.format(event) )\n",
    "    \n",
    "    print('p-значение: ', p_value)\n",
    "\n",
    "    if p_value < alpha:\n",
    "        print('Отвергаем нулевую гипотезу: между конверсиями есть значимая разница')\n",
    "    else:\n",
    "        print(\n",
    "        'Не получилось отвергнуть нулевую гипотезу, нет оснований считать конверсии разными') "
   ]
  },
  {
   "cell_type": "markdown",
   "metadata": {},
   "source": [
    "**Гипотезы** \n",
    "\n",
    "Нулевая гипотеза: различий между конверсиями групп нет\n",
    "\n",
    "Альтернативная гипотеза: различия между конверсией групп есть. "
   ]
  },
  {
   "cell_type": "markdown",
   "metadata": {},
   "source": [
    "Так как будет проведено несколько сравнений на одних и тех же данных, то это множественнй тест. Скорректируем уровень значимости методом Бонферрони с целью уменьшения вероятности ошибки первого рода. Всего произведено 3 сравнения."
   ]
  },
  {
   "cell_type": "code",
   "execution_count": 121,
   "metadata": {},
   "outputs": [
    {
     "name": "stdout",
     "output_type": "stream",
     "text": [
      "Событие: product_page\n",
      "p-значение:  0.0005145732643381251\n",
      "Отвергаем нулевую гипотезу: между конверсиями есть значимая разница\n",
      "Событие: product_cart\n",
      "p-значение:  0.3206261339753127\n",
      "Не получилось отвергнуть нулевую гипотезу, нет оснований считать конверсии разными\n",
      "Событие: purchase\n",
      "p-значение:  0.09105930412098906\n",
      "Не получилось отвергнуть нулевую гипотезу, нет оснований считать конверсии разными\n"
     ]
    }
   ],
   "source": [
    "for event in cv['event_name']:\n",
    "    check_rate(event, a=0.05/3)"
   ]
  },
  {
   "cell_type": "markdown",
   "metadata": {},
   "source": [
    "**Вывод**\n",
    "\n",
    "Для событий `product_cart`  и `purchase` нет статистически достоверных отличий между контрольной группой и экспериментальной, даже с учетом поправки Бонферрони. \n",
    "Для события `product_page` есть статистически значимая разница между группами теста.\n"
   ]
  },
  {
   "cell_type": "markdown",
   "metadata": {},
   "source": [
    "## Итоги"
   ]
  },
  {
   "cell_type": "markdown",
   "metadata": {},
   "source": [
    "Согласно текущим данным внедрение улучшенной рекомендательной системы не приводит к желаемым результатам. Конверсия группы А на всех этапах воронки больше конверсии группы В. Статистически достоверных отличий между группами А и В нет для  событий `product_cart`  и `purchase`. Для события `product_page` есть статистически значимая разница между группами теста. \n",
    "\n",
    "Но согласно исследованию, стоит провести тест заново, так как:\n",
    "- есть пересечение с конкурирующим тестом\n",
    "- тест закончился раньше: 30.12.2020\n",
    "- в тесте участвуют 13.7% новых пользователей из Европы (по ТЗ 15%)\n",
    "- разделение участников по группам А и В неравномерное: 2720 и 1202 соответственно. Также в группе А с 14 декабря наблюдается резкое увеличение числа событий. В группе В всплесков -  нет.\n",
    "- всего 3922 участников против 6000\n",
    "- период проведения  теста пересекается с маркетинговой кампанией `Christmas&New Year Promo`\n"
   ]
  },
  {
   "cell_type": "code",
   "execution_count": null,
   "metadata": {},
   "outputs": [],
   "source": []
  }
 ],
 "metadata": {
  "ExecuteTimeLog": [
   {
    "duration": 1258,
    "start_time": "2023-03-15T12:37:53.323Z"
   },
   {
    "duration": 568,
    "start_time": "2023-03-15T12:38:05.200Z"
   },
   {
    "duration": 4,
    "start_time": "2023-03-15T12:38:26.500Z"
   },
   {
    "duration": 583,
    "start_time": "2023-03-15T12:38:26.506Z"
   },
   {
    "duration": 16,
    "start_time": "2023-03-15T12:38:27.091Z"
   },
   {
    "duration": 74,
    "start_time": "2023-03-15T12:38:27.109Z"
   },
   {
    "duration": 29,
    "start_time": "2023-03-15T12:38:27.185Z"
   },
   {
    "duration": 4,
    "start_time": "2023-03-15T12:38:42.128Z"
   },
   {
    "duration": 79,
    "start_time": "2023-03-15T12:39:09.632Z"
   },
   {
    "duration": 17,
    "start_time": "2023-03-15T12:39:25.094Z"
   },
   {
    "duration": 30,
    "start_time": "2023-03-15T12:39:51.825Z"
   },
   {
    "duration": 18,
    "start_time": "2023-03-15T12:40:00.009Z"
   },
   {
    "duration": 4,
    "start_time": "2023-03-15T12:40:11.355Z"
   },
   {
    "duration": 597,
    "start_time": "2023-03-15T12:40:11.372Z"
   },
   {
    "duration": 16,
    "start_time": "2023-03-15T12:40:11.971Z"
   },
   {
    "duration": 90,
    "start_time": "2023-03-15T12:40:11.988Z"
   },
   {
    "duration": 34,
    "start_time": "2023-03-15T12:40:12.081Z"
   },
   {
    "duration": 4,
    "start_time": "2023-03-15T12:40:12.118Z"
   },
   {
    "duration": 94,
    "start_time": "2023-03-15T12:40:12.124Z"
   },
   {
    "duration": 20,
    "start_time": "2023-03-15T12:40:12.220Z"
   },
   {
    "duration": 64,
    "start_time": "2023-03-15T12:40:12.242Z"
   },
   {
    "duration": 21,
    "start_time": "2023-03-15T12:40:12.308Z"
   },
   {
    "duration": 98,
    "start_time": "2023-03-15T12:41:23.807Z"
   },
   {
    "duration": 4,
    "start_time": "2023-03-15T12:41:25.569Z"
   },
   {
    "duration": 600,
    "start_time": "2023-03-15T12:41:25.576Z"
   },
   {
    "duration": 16,
    "start_time": "2023-03-15T12:41:26.178Z"
   },
   {
    "duration": 73,
    "start_time": "2023-03-15T12:41:26.196Z"
   },
   {
    "duration": 27,
    "start_time": "2023-03-15T12:41:26.272Z"
   },
   {
    "duration": 3,
    "start_time": "2023-03-15T12:41:26.300Z"
   },
   {
    "duration": 100,
    "start_time": "2023-03-15T12:41:26.305Z"
   },
   {
    "duration": 19,
    "start_time": "2023-03-15T12:41:26.407Z"
   },
   {
    "duration": 34,
    "start_time": "2023-03-15T12:41:26.428Z"
   },
   {
    "duration": 20,
    "start_time": "2023-03-15T12:41:26.482Z"
   },
   {
    "duration": 124,
    "start_time": "2023-03-15T12:41:26.504Z"
   },
   {
    "duration": 5,
    "start_time": "2023-03-15T12:41:26.631Z"
   },
   {
    "duration": 28,
    "start_time": "2023-03-15T12:41:26.638Z"
   },
   {
    "duration": 31,
    "start_time": "2023-03-15T12:41:26.668Z"
   },
   {
    "duration": 1482,
    "start_time": "2023-03-16T08:19:57.812Z"
   },
   {
    "duration": 737,
    "start_time": "2023-03-16T08:19:59.296Z"
   },
   {
    "duration": 61,
    "start_time": "2023-03-16T08:20:00.035Z"
   },
   {
    "duration": 136,
    "start_time": "2023-03-16T08:20:00.098Z"
   },
   {
    "duration": 81,
    "start_time": "2023-03-16T08:20:00.236Z"
   },
   {
    "duration": 4,
    "start_time": "2023-03-16T08:20:00.319Z"
   },
   {
    "duration": 137,
    "start_time": "2023-03-16T08:20:00.326Z"
   },
   {
    "duration": 21,
    "start_time": "2023-03-16T08:20:00.466Z"
   },
   {
    "duration": 67,
    "start_time": "2023-03-16T08:20:00.489Z"
   },
   {
    "duration": 50,
    "start_time": "2023-03-16T08:20:00.557Z"
   },
   {
    "duration": 162,
    "start_time": "2023-03-16T08:20:00.609Z"
   },
   {
    "duration": 5,
    "start_time": "2023-03-16T08:20:00.773Z"
   },
   {
    "duration": 45,
    "start_time": "2023-03-16T08:20:00.780Z"
   },
   {
    "duration": 53,
    "start_time": "2023-03-16T08:20:00.828Z"
   },
   {
    "duration": 262,
    "start_time": "2023-03-16T08:20:00.884Z"
   },
   {
    "duration": 6,
    "start_time": "2023-03-16T08:20:01.148Z"
   },
   {
    "duration": 57,
    "start_time": "2023-03-16T08:20:01.165Z"
   },
   {
    "duration": 11,
    "start_time": "2023-03-16T08:20:01.224Z"
   },
   {
    "duration": 35,
    "start_time": "2023-03-16T08:20:01.237Z"
   },
   {
    "duration": 66,
    "start_time": "2023-03-16T08:20:01.274Z"
   },
   {
    "duration": 77,
    "start_time": "2023-03-16T08:20:01.342Z"
   },
   {
    "duration": 86,
    "start_time": "2023-03-16T08:20:01.420Z"
   },
   {
    "duration": 51,
    "start_time": "2023-03-16T08:20:01.508Z"
   },
   {
    "duration": 77,
    "start_time": "2023-03-16T08:20:01.561Z"
   },
   {
    "duration": 117,
    "start_time": "2023-03-16T08:20:01.640Z"
   },
   {
    "duration": 79,
    "start_time": "2023-03-16T08:52:34.808Z"
   },
   {
    "duration": 92,
    "start_time": "2023-03-16T08:53:26.994Z"
   },
   {
    "duration": 4,
    "start_time": "2023-03-16T10:20:51.193Z"
   },
   {
    "duration": 581,
    "start_time": "2023-03-16T10:20:51.201Z"
   },
   {
    "duration": 17,
    "start_time": "2023-03-16T10:20:51.784Z"
   },
   {
    "duration": 100,
    "start_time": "2023-03-16T10:20:51.803Z"
   },
   {
    "duration": 29,
    "start_time": "2023-03-16T10:20:51.906Z"
   },
   {
    "duration": 3,
    "start_time": "2023-03-16T10:20:51.937Z"
   },
   {
    "duration": 115,
    "start_time": "2023-03-16T10:20:51.942Z"
   },
   {
    "duration": 21,
    "start_time": "2023-03-16T10:20:52.063Z"
   },
   {
    "duration": 35,
    "start_time": "2023-03-16T10:20:52.087Z"
   },
   {
    "duration": 44,
    "start_time": "2023-03-16T10:20:52.123Z"
   },
   {
    "duration": 120,
    "start_time": "2023-03-16T10:20:52.169Z"
   },
   {
    "duration": 5,
    "start_time": "2023-03-16T10:20:52.291Z"
   },
   {
    "duration": 25,
    "start_time": "2023-03-16T10:20:52.299Z"
   },
   {
    "duration": 30,
    "start_time": "2023-03-16T10:20:52.327Z"
   },
   {
    "duration": 271,
    "start_time": "2023-03-16T10:20:52.359Z"
   },
   {
    "duration": 6,
    "start_time": "2023-03-16T10:20:52.632Z"
   },
   {
    "duration": 52,
    "start_time": "2023-03-16T10:20:52.640Z"
   },
   {
    "duration": 20,
    "start_time": "2023-03-16T10:20:52.694Z"
   },
   {
    "duration": 11,
    "start_time": "2023-03-16T10:20:52.716Z"
   },
   {
    "duration": 21,
    "start_time": "2023-03-16T10:20:52.729Z"
   },
   {
    "duration": 27,
    "start_time": "2023-03-16T10:20:52.752Z"
   },
   {
    "duration": 69,
    "start_time": "2023-03-16T10:20:52.782Z"
   },
   {
    "duration": 70,
    "start_time": "2023-03-16T10:20:52.852Z"
   },
   {
    "duration": 5,
    "start_time": "2023-03-16T10:55:34.371Z"
   },
   {
    "duration": 678,
    "start_time": "2023-03-16T10:55:34.383Z"
   },
   {
    "duration": 18,
    "start_time": "2023-03-16T10:55:35.063Z"
   },
   {
    "duration": 76,
    "start_time": "2023-03-16T10:55:35.084Z"
   },
   {
    "duration": 34,
    "start_time": "2023-03-16T10:55:35.162Z"
   },
   {
    "duration": 5,
    "start_time": "2023-03-16T10:55:35.199Z"
   },
   {
    "duration": 105,
    "start_time": "2023-03-16T10:55:35.206Z"
   },
   {
    "duration": 18,
    "start_time": "2023-03-16T10:55:35.313Z"
   },
   {
    "duration": 52,
    "start_time": "2023-03-16T10:55:35.333Z"
   },
   {
    "duration": 25,
    "start_time": "2023-03-16T10:55:35.387Z"
   },
   {
    "duration": 139,
    "start_time": "2023-03-16T10:55:35.413Z"
   },
   {
    "duration": 11,
    "start_time": "2023-03-16T10:55:35.554Z"
   },
   {
    "duration": 18,
    "start_time": "2023-03-16T10:55:35.567Z"
   },
   {
    "duration": 29,
    "start_time": "2023-03-16T10:55:35.588Z"
   },
   {
    "duration": 274,
    "start_time": "2023-03-16T10:55:35.620Z"
   },
   {
    "duration": 8,
    "start_time": "2023-03-16T10:55:35.896Z"
   },
   {
    "duration": 51,
    "start_time": "2023-03-16T10:55:35.905Z"
   },
   {
    "duration": 19,
    "start_time": "2023-03-16T10:55:35.957Z"
   },
   {
    "duration": 15,
    "start_time": "2023-03-16T10:55:35.978Z"
   },
   {
    "duration": 24,
    "start_time": "2023-03-16T10:55:35.996Z"
   },
   {
    "duration": 34,
    "start_time": "2023-03-16T10:55:36.022Z"
   },
   {
    "duration": 75,
    "start_time": "2023-03-16T10:55:36.058Z"
   },
   {
    "duration": 64,
    "start_time": "2023-03-16T10:55:36.135Z"
   },
   {
    "duration": 11,
    "start_time": "2023-03-16T11:01:50.924Z"
   },
   {
    "duration": 9,
    "start_time": "2023-03-16T11:04:10.850Z"
   },
   {
    "duration": 17,
    "start_time": "2023-03-16T11:06:01.038Z"
   },
   {
    "duration": 9,
    "start_time": "2023-03-16T11:06:17.729Z"
   },
   {
    "duration": 13,
    "start_time": "2023-03-16T11:10:02.721Z"
   },
   {
    "duration": 8,
    "start_time": "2023-03-16T11:10:59.993Z"
   },
   {
    "duration": 11,
    "start_time": "2023-03-16T11:11:06.939Z"
   },
   {
    "duration": 5,
    "start_time": "2023-03-16T11:11:09.004Z"
   },
   {
    "duration": 746,
    "start_time": "2023-03-16T11:11:09.012Z"
   },
   {
    "duration": 30,
    "start_time": "2023-03-16T11:11:09.760Z"
   },
   {
    "duration": 94,
    "start_time": "2023-03-16T11:11:09.793Z"
   },
   {
    "duration": 40,
    "start_time": "2023-03-16T11:11:09.894Z"
   },
   {
    "duration": 5,
    "start_time": "2023-03-16T11:11:09.939Z"
   },
   {
    "duration": 156,
    "start_time": "2023-03-16T11:11:09.946Z"
   },
   {
    "duration": 29,
    "start_time": "2023-03-16T11:11:10.105Z"
   },
   {
    "duration": 64,
    "start_time": "2023-03-16T11:11:10.137Z"
   },
   {
    "duration": 31,
    "start_time": "2023-03-16T11:11:10.203Z"
   },
   {
    "duration": 152,
    "start_time": "2023-03-16T11:11:10.237Z"
   },
   {
    "duration": 6,
    "start_time": "2023-03-16T11:11:10.392Z"
   },
   {
    "duration": 13,
    "start_time": "2023-03-16T11:11:10.402Z"
   },
   {
    "duration": 19,
    "start_time": "2023-03-16T11:11:10.419Z"
   },
   {
    "duration": 259,
    "start_time": "2023-03-16T11:11:10.441Z"
   },
   {
    "duration": 10,
    "start_time": "2023-03-16T11:11:10.703Z"
   },
   {
    "duration": 81,
    "start_time": "2023-03-16T11:11:10.717Z"
   },
   {
    "duration": 15,
    "start_time": "2023-03-16T11:11:10.801Z"
   },
   {
    "duration": 8,
    "start_time": "2023-03-16T11:11:10.819Z"
   },
   {
    "duration": 72,
    "start_time": "2023-03-16T11:11:10.830Z"
   },
   {
    "duration": 22,
    "start_time": "2023-03-16T11:11:10.905Z"
   },
   {
    "duration": 90,
    "start_time": "2023-03-16T11:11:10.930Z"
   },
   {
    "duration": 109,
    "start_time": "2023-03-16T11:11:11.022Z"
   },
   {
    "duration": 11,
    "start_time": "2023-03-16T11:11:11.134Z"
   },
   {
    "duration": 48,
    "start_time": "2023-03-16T11:11:11.147Z"
   },
   {
    "duration": 24,
    "start_time": "2023-03-16T11:11:11.198Z"
   },
   {
    "duration": 20,
    "start_time": "2023-03-16T11:11:18.231Z"
   },
   {
    "duration": 21,
    "start_time": "2023-03-16T11:11:23.390Z"
   },
   {
    "duration": 28,
    "start_time": "2023-03-16T11:11:34.036Z"
   },
   {
    "duration": 72,
    "start_time": "2023-03-16T11:13:40.353Z"
   },
   {
    "duration": 47,
    "start_time": "2023-03-16T11:13:46.106Z"
   },
   {
    "duration": 17,
    "start_time": "2023-03-16T11:14:33.716Z"
   },
   {
    "duration": 27,
    "start_time": "2023-03-16T11:19:23.853Z"
   },
   {
    "duration": 29,
    "start_time": "2023-03-16T11:19:51.517Z"
   },
   {
    "duration": 44,
    "start_time": "2023-03-16T11:20:56.886Z"
   },
   {
    "duration": 69,
    "start_time": "2023-03-16T11:21:14.841Z"
   },
   {
    "duration": 48,
    "start_time": "2023-03-16T11:21:20.926Z"
   },
   {
    "duration": 83,
    "start_time": "2023-03-16T11:23:26.602Z"
   },
   {
    "duration": 159,
    "start_time": "2023-03-16T11:24:32.742Z"
   },
   {
    "duration": 66,
    "start_time": "2023-03-16T11:24:52.149Z"
   },
   {
    "duration": 13,
    "start_time": "2023-03-16T11:24:53.511Z"
   },
   {
    "duration": 58,
    "start_time": "2023-03-16T11:25:03.788Z"
   },
   {
    "duration": 77,
    "start_time": "2023-03-16T11:25:15.352Z"
   },
   {
    "duration": 80,
    "start_time": "2023-03-16T11:25:36.754Z"
   },
   {
    "duration": 5,
    "start_time": "2023-03-16T11:26:08.109Z"
   },
   {
    "duration": 41,
    "start_time": "2023-03-16T11:26:39.104Z"
   },
   {
    "duration": 10,
    "start_time": "2023-03-16T11:26:57.926Z"
   },
   {
    "duration": 5,
    "start_time": "2023-03-16T11:27:04.596Z"
   },
   {
    "duration": 873,
    "start_time": "2023-03-16T11:27:04.605Z"
   },
   {
    "duration": 28,
    "start_time": "2023-03-16T11:27:05.480Z"
   },
   {
    "duration": 158,
    "start_time": "2023-03-16T11:27:05.513Z"
   },
   {
    "duration": 63,
    "start_time": "2023-03-16T11:27:05.674Z"
   },
   {
    "duration": 4,
    "start_time": "2023-03-16T11:27:05.739Z"
   },
   {
    "duration": 238,
    "start_time": "2023-03-16T11:27:05.745Z"
   },
   {
    "duration": 33,
    "start_time": "2023-03-16T11:27:05.985Z"
   },
   {
    "duration": 116,
    "start_time": "2023-03-16T11:27:06.022Z"
   },
   {
    "duration": 41,
    "start_time": "2023-03-16T11:27:06.140Z"
   },
   {
    "duration": 196,
    "start_time": "2023-03-16T11:27:06.184Z"
   },
   {
    "duration": 5,
    "start_time": "2023-03-16T11:27:06.383Z"
   },
   {
    "duration": 42,
    "start_time": "2023-03-16T11:27:06.391Z"
   },
   {
    "duration": 20,
    "start_time": "2023-03-16T11:27:06.436Z"
   },
   {
    "duration": 312,
    "start_time": "2023-03-16T11:27:06.458Z"
   },
   {
    "duration": 8,
    "start_time": "2023-03-16T11:27:06.772Z"
   },
   {
    "duration": 148,
    "start_time": "2023-03-16T11:27:06.783Z"
   },
   {
    "duration": 12,
    "start_time": "2023-03-16T11:27:06.934Z"
   },
   {
    "duration": 26,
    "start_time": "2023-03-16T11:27:06.948Z"
   },
   {
    "duration": 62,
    "start_time": "2023-03-16T11:27:06.978Z"
   },
   {
    "duration": 22,
    "start_time": "2023-03-16T11:27:07.042Z"
   },
   {
    "duration": 150,
    "start_time": "2023-03-16T11:27:07.066Z"
   },
   {
    "duration": 93,
    "start_time": "2023-03-16T11:27:07.218Z"
   },
   {
    "duration": 16,
    "start_time": "2023-03-16T11:27:07.320Z"
   },
   {
    "duration": 97,
    "start_time": "2023-03-16T11:27:07.338Z"
   },
   {
    "duration": 26,
    "start_time": "2023-03-16T11:27:07.437Z"
   },
   {
    "duration": 110,
    "start_time": "2023-03-16T11:27:07.467Z"
   },
   {
    "duration": 43,
    "start_time": "2023-03-16T11:27:07.580Z"
   },
   {
    "duration": 21,
    "start_time": "2023-03-16T11:27:07.625Z"
   },
   {
    "duration": 14,
    "start_time": "2023-03-16T11:27:16.028Z"
   },
   {
    "duration": 11,
    "start_time": "2023-03-16T11:27:20.250Z"
   },
   {
    "duration": 23,
    "start_time": "2023-03-16T11:27:22.531Z"
   },
   {
    "duration": 12,
    "start_time": "2023-03-16T11:28:56.013Z"
   },
   {
    "duration": 17,
    "start_time": "2023-03-16T11:28:58.820Z"
   },
   {
    "duration": 17,
    "start_time": "2023-03-16T11:29:06.591Z"
   },
   {
    "duration": 5,
    "start_time": "2023-03-16T11:29:09.121Z"
   },
   {
    "duration": 754,
    "start_time": "2023-03-16T11:29:09.130Z"
   },
   {
    "duration": 25,
    "start_time": "2023-03-16T11:29:09.895Z"
   },
   {
    "duration": 135,
    "start_time": "2023-03-16T11:29:09.922Z"
   },
   {
    "duration": 47,
    "start_time": "2023-03-16T11:29:10.061Z"
   },
   {
    "duration": 15,
    "start_time": "2023-03-16T11:29:10.110Z"
   },
   {
    "duration": 150,
    "start_time": "2023-03-16T11:29:10.127Z"
   },
   {
    "duration": 33,
    "start_time": "2023-03-16T11:29:10.284Z"
   },
   {
    "duration": 57,
    "start_time": "2023-03-16T11:29:10.320Z"
   },
   {
    "duration": 31,
    "start_time": "2023-03-16T11:29:10.381Z"
   },
   {
    "duration": 191,
    "start_time": "2023-03-16T11:29:10.415Z"
   },
   {
    "duration": 12,
    "start_time": "2023-03-16T11:29:10.609Z"
   },
   {
    "duration": 10,
    "start_time": "2023-03-16T11:29:10.623Z"
   },
   {
    "duration": 19,
    "start_time": "2023-03-16T11:29:10.638Z"
   },
   {
    "duration": 303,
    "start_time": "2023-03-16T11:29:10.665Z"
   },
   {
    "duration": 17,
    "start_time": "2023-03-16T11:29:10.970Z"
   },
   {
    "duration": 70,
    "start_time": "2023-03-16T11:29:10.989Z"
   },
   {
    "duration": 21,
    "start_time": "2023-03-16T11:29:11.061Z"
   },
   {
    "duration": 35,
    "start_time": "2023-03-16T11:29:11.084Z"
   },
   {
    "duration": 22,
    "start_time": "2023-03-16T11:29:11.122Z"
   },
   {
    "duration": 26,
    "start_time": "2023-03-16T11:29:11.147Z"
   },
   {
    "duration": 120,
    "start_time": "2023-03-16T11:29:11.175Z"
   },
   {
    "duration": 75,
    "start_time": "2023-03-16T11:29:11.299Z"
   },
   {
    "duration": 12,
    "start_time": "2023-03-16T11:29:11.377Z"
   },
   {
    "duration": 89,
    "start_time": "2023-03-16T11:29:11.392Z"
   },
   {
    "duration": 5,
    "start_time": "2023-03-16T11:29:11.483Z"
   },
   {
    "duration": 42,
    "start_time": "2023-03-16T11:29:11.491Z"
   },
   {
    "duration": 14,
    "start_time": "2023-03-16T11:29:11.536Z"
   },
   {
    "duration": 21,
    "start_time": "2023-03-16T11:29:11.553Z"
   },
   {
    "duration": 35,
    "start_time": "2023-03-16T11:29:24.147Z"
   },
   {
    "duration": 46,
    "start_time": "2023-03-16T11:29:34.309Z"
   },
   {
    "duration": 21,
    "start_time": "2023-03-16T11:29:39.232Z"
   },
   {
    "duration": 29,
    "start_time": "2023-03-16T11:29:46.450Z"
   },
   {
    "duration": 14,
    "start_time": "2023-03-16T11:52:46.298Z"
   },
   {
    "duration": 7,
    "start_time": "2023-03-16T11:53:01.420Z"
   },
   {
    "duration": 10,
    "start_time": "2023-03-16T11:56:04.012Z"
   },
   {
    "duration": 4,
    "start_time": "2023-03-16T12:45:29.011Z"
   },
   {
    "duration": 582,
    "start_time": "2023-03-16T12:45:29.029Z"
   },
   {
    "duration": 17,
    "start_time": "2023-03-16T12:45:29.615Z"
   },
   {
    "duration": 73,
    "start_time": "2023-03-16T12:45:29.634Z"
   },
   {
    "duration": 30,
    "start_time": "2023-03-16T12:45:29.709Z"
   },
   {
    "duration": 4,
    "start_time": "2023-03-16T12:45:29.742Z"
   },
   {
    "duration": 103,
    "start_time": "2023-03-16T12:45:29.748Z"
   },
   {
    "duration": 21,
    "start_time": "2023-03-16T12:45:29.853Z"
   },
   {
    "duration": 29,
    "start_time": "2023-03-16T12:45:29.877Z"
   },
   {
    "duration": 25,
    "start_time": "2023-03-16T12:45:29.908Z"
   },
   {
    "duration": 136,
    "start_time": "2023-03-16T12:45:29.935Z"
   },
   {
    "duration": 9,
    "start_time": "2023-03-16T12:45:30.073Z"
   },
   {
    "duration": 44,
    "start_time": "2023-03-16T12:45:30.084Z"
   },
   {
    "duration": 31,
    "start_time": "2023-03-16T12:45:30.129Z"
   },
   {
    "duration": 228,
    "start_time": "2023-03-16T12:45:30.163Z"
   },
   {
    "duration": 7,
    "start_time": "2023-03-16T12:45:30.393Z"
   },
   {
    "duration": 74,
    "start_time": "2023-03-16T12:45:30.402Z"
   },
   {
    "duration": 18,
    "start_time": "2023-03-16T12:45:30.478Z"
   },
   {
    "duration": 37,
    "start_time": "2023-03-16T12:45:30.498Z"
   },
   {
    "duration": 37,
    "start_time": "2023-03-16T12:45:30.537Z"
   },
   {
    "duration": 36,
    "start_time": "2023-03-16T12:45:30.576Z"
   },
   {
    "duration": 80,
    "start_time": "2023-03-16T12:45:30.614Z"
   },
   {
    "duration": 61,
    "start_time": "2023-03-16T12:45:30.696Z"
   },
   {
    "duration": 21,
    "start_time": "2023-03-16T12:45:30.763Z"
   },
   {
    "duration": 135,
    "start_time": "2023-03-16T12:45:30.786Z"
   },
   {
    "duration": 4,
    "start_time": "2023-03-16T12:45:30.923Z"
   },
   {
    "duration": 89,
    "start_time": "2023-03-16T12:45:30.929Z"
   },
   {
    "duration": 21,
    "start_time": "2023-03-16T12:45:31.020Z"
   },
   {
    "duration": 39,
    "start_time": "2023-03-16T12:45:31.044Z"
   },
   {
    "duration": 54,
    "start_time": "2023-03-16T12:45:31.085Z"
   },
   {
    "duration": 10,
    "start_time": "2023-03-16T12:46:22.798Z"
   },
   {
    "duration": 8,
    "start_time": "2023-03-16T12:50:29.265Z"
   },
   {
    "duration": 17,
    "start_time": "2023-03-16T12:52:28.340Z"
   },
   {
    "duration": 18,
    "start_time": "2023-03-16T12:52:34.220Z"
   },
   {
    "duration": 11,
    "start_time": "2023-03-16T12:56:18.914Z"
   },
   {
    "duration": 9,
    "start_time": "2023-03-16T12:56:28.009Z"
   },
   {
    "duration": 23,
    "start_time": "2023-03-16T12:56:34.664Z"
   },
   {
    "duration": 6,
    "start_time": "2023-03-16T12:56:37.183Z"
   },
   {
    "duration": 600,
    "start_time": "2023-03-16T12:56:37.191Z"
   },
   {
    "duration": 17,
    "start_time": "2023-03-16T12:56:37.793Z"
   },
   {
    "duration": 71,
    "start_time": "2023-03-16T12:56:37.812Z"
   },
   {
    "duration": 30,
    "start_time": "2023-03-16T12:56:37.886Z"
   },
   {
    "duration": 4,
    "start_time": "2023-03-16T12:56:37.917Z"
   },
   {
    "duration": 103,
    "start_time": "2023-03-16T12:56:37.923Z"
   },
   {
    "duration": 19,
    "start_time": "2023-03-16T12:56:38.028Z"
   },
   {
    "duration": 30,
    "start_time": "2023-03-16T12:56:38.065Z"
   },
   {
    "duration": 21,
    "start_time": "2023-03-16T12:56:38.097Z"
   },
   {
    "duration": 131,
    "start_time": "2023-03-16T12:56:38.120Z"
   },
   {
    "duration": 14,
    "start_time": "2023-03-16T12:56:38.253Z"
   },
   {
    "duration": 10,
    "start_time": "2023-03-16T12:56:38.269Z"
   },
   {
    "duration": 22,
    "start_time": "2023-03-16T12:56:38.282Z"
   },
   {
    "duration": 268,
    "start_time": "2023-03-16T12:56:38.307Z"
   },
   {
    "duration": 7,
    "start_time": "2023-03-16T12:56:38.578Z"
   },
   {
    "duration": 45,
    "start_time": "2023-03-16T12:56:38.588Z"
   },
   {
    "duration": 30,
    "start_time": "2023-03-16T12:56:38.635Z"
   },
   {
    "duration": 6,
    "start_time": "2023-03-16T12:56:38.668Z"
   },
   {
    "duration": 14,
    "start_time": "2023-03-16T12:56:38.676Z"
   },
   {
    "duration": 11,
    "start_time": "2023-03-16T12:56:38.695Z"
   },
   {
    "duration": 78,
    "start_time": "2023-03-16T12:56:38.708Z"
   },
   {
    "duration": 57,
    "start_time": "2023-03-16T12:56:38.788Z"
   },
   {
    "duration": 22,
    "start_time": "2023-03-16T12:56:38.847Z"
   },
   {
    "duration": 11,
    "start_time": "2023-03-16T12:56:38.872Z"
   },
   {
    "duration": 10,
    "start_time": "2023-03-16T12:56:38.885Z"
   },
   {
    "duration": 14,
    "start_time": "2023-03-16T12:56:38.897Z"
   },
   {
    "duration": 20,
    "start_time": "2023-03-16T12:56:38.913Z"
   },
   {
    "duration": 15,
    "start_time": "2023-03-16T12:56:55.603Z"
   },
   {
    "duration": 10,
    "start_time": "2023-03-16T12:57:15.292Z"
   },
   {
    "duration": 17,
    "start_time": "2023-03-16T12:57:19.041Z"
   },
   {
    "duration": 17,
    "start_time": "2023-03-16T12:57:42.495Z"
   },
   {
    "duration": 1484,
    "start_time": "2023-03-16T12:57:56.137Z"
   },
   {
    "duration": 655,
    "start_time": "2023-03-16T12:57:57.624Z"
   },
   {
    "duration": 23,
    "start_time": "2023-03-16T12:57:58.282Z"
   },
   {
    "duration": 110,
    "start_time": "2023-03-16T12:57:58.308Z"
   },
   {
    "duration": 30,
    "start_time": "2023-03-16T12:57:58.421Z"
   },
   {
    "duration": 5,
    "start_time": "2023-03-16T12:57:58.453Z"
   },
   {
    "duration": 176,
    "start_time": "2023-03-16T12:57:58.460Z"
   },
   {
    "duration": 32,
    "start_time": "2023-03-16T12:57:58.638Z"
   },
   {
    "duration": 59,
    "start_time": "2023-03-16T12:57:58.672Z"
   },
   {
    "duration": 48,
    "start_time": "2023-03-16T12:57:58.734Z"
   },
   {
    "duration": 133,
    "start_time": "2023-03-16T12:57:58.788Z"
   },
   {
    "duration": 4,
    "start_time": "2023-03-16T12:57:58.925Z"
   },
   {
    "duration": 15,
    "start_time": "2023-03-16T12:57:58.932Z"
   },
   {
    "duration": 49,
    "start_time": "2023-03-16T12:57:58.952Z"
   },
   {
    "duration": 267,
    "start_time": "2023-03-16T12:57:59.004Z"
   },
   {
    "duration": 10,
    "start_time": "2023-03-16T12:57:59.278Z"
   },
   {
    "duration": 65,
    "start_time": "2023-03-16T12:57:59.290Z"
   },
   {
    "duration": 55,
    "start_time": "2023-03-16T12:57:59.359Z"
   },
   {
    "duration": 19,
    "start_time": "2023-03-16T12:57:59.417Z"
   },
   {
    "duration": 49,
    "start_time": "2023-03-16T12:57:59.438Z"
   },
   {
    "duration": 15,
    "start_time": "2023-03-16T12:57:59.490Z"
   },
   {
    "duration": 55,
    "start_time": "2023-03-16T12:57:59.507Z"
   },
   {
    "duration": 76,
    "start_time": "2023-03-16T12:57:59.575Z"
   },
   {
    "duration": 16,
    "start_time": "2023-03-16T12:57:59.654Z"
   },
   {
    "duration": 25,
    "start_time": "2023-03-16T12:57:59.674Z"
   },
   {
    "duration": 10,
    "start_time": "2023-03-16T12:57:59.702Z"
   },
   {
    "duration": 14,
    "start_time": "2023-03-16T12:57:59.714Z"
   },
   {
    "duration": 27,
    "start_time": "2023-03-16T12:57:59.731Z"
   },
   {
    "duration": 12,
    "start_time": "2023-03-16T12:58:51.732Z"
   },
   {
    "duration": 27,
    "start_time": "2023-03-16T12:58:53.201Z"
   },
   {
    "duration": 18,
    "start_time": "2023-03-16T12:59:22.171Z"
   },
   {
    "duration": 142,
    "start_time": "2023-03-16T13:09:58.411Z"
   },
   {
    "duration": 16,
    "start_time": "2023-03-16T13:10:06.084Z"
   },
   {
    "duration": 22,
    "start_time": "2023-03-16T13:10:48.483Z"
   },
   {
    "duration": 20,
    "start_time": "2023-03-16T13:12:24.376Z"
   },
   {
    "duration": 24,
    "start_time": "2023-03-16T13:15:04.017Z"
   },
   {
    "duration": 77,
    "start_time": "2023-03-16T13:15:27.791Z"
   },
   {
    "duration": 54,
    "start_time": "2023-03-16T13:15:31.348Z"
   },
   {
    "duration": 35,
    "start_time": "2023-03-16T13:15:48.558Z"
   },
   {
    "duration": 18,
    "start_time": "2023-03-16T13:15:57.124Z"
   },
   {
    "duration": 192,
    "start_time": "2023-03-16T13:16:03.819Z"
   },
   {
    "duration": 118,
    "start_time": "2023-03-16T13:18:28.077Z"
   },
   {
    "duration": 118,
    "start_time": "2023-03-16T13:18:57.677Z"
   },
   {
    "duration": 5,
    "start_time": "2023-03-16T14:06:50.329Z"
   },
   {
    "duration": 646,
    "start_time": "2023-03-16T14:06:50.337Z"
   },
   {
    "duration": 17,
    "start_time": "2023-03-16T14:06:50.985Z"
   },
   {
    "duration": 75,
    "start_time": "2023-03-16T14:06:51.004Z"
   },
   {
    "duration": 29,
    "start_time": "2023-03-16T14:06:51.082Z"
   },
   {
    "duration": 10,
    "start_time": "2023-03-16T14:06:51.113Z"
   },
   {
    "duration": 108,
    "start_time": "2023-03-16T14:06:51.125Z"
   },
   {
    "duration": 38,
    "start_time": "2023-03-16T14:06:51.235Z"
   },
   {
    "duration": 59,
    "start_time": "2023-03-16T14:06:51.275Z"
   },
   {
    "duration": 31,
    "start_time": "2023-03-16T14:06:51.337Z"
   },
   {
    "duration": 129,
    "start_time": "2023-03-16T14:06:51.370Z"
   },
   {
    "duration": 6,
    "start_time": "2023-03-16T14:06:51.501Z"
   },
   {
    "duration": 30,
    "start_time": "2023-03-16T14:06:51.509Z"
   },
   {
    "duration": 34,
    "start_time": "2023-03-16T14:06:51.543Z"
   },
   {
    "duration": 263,
    "start_time": "2023-03-16T14:06:51.579Z"
   },
   {
    "duration": 8,
    "start_time": "2023-03-16T14:06:51.844Z"
   },
   {
    "duration": 61,
    "start_time": "2023-03-16T14:06:51.863Z"
   },
   {
    "duration": 14,
    "start_time": "2023-03-16T14:06:51.927Z"
   },
   {
    "duration": 26,
    "start_time": "2023-03-16T14:06:51.944Z"
   },
   {
    "duration": 38,
    "start_time": "2023-03-16T14:06:51.972Z"
   },
   {
    "duration": 22,
    "start_time": "2023-03-16T14:06:52.013Z"
   },
   {
    "duration": 57,
    "start_time": "2023-03-16T14:06:52.037Z"
   },
   {
    "duration": 55,
    "start_time": "2023-03-16T14:06:52.096Z"
   },
   {
    "duration": 9,
    "start_time": "2023-03-16T14:06:52.163Z"
   },
   {
    "duration": 20,
    "start_time": "2023-03-16T14:06:52.175Z"
   },
   {
    "duration": 14,
    "start_time": "2023-03-16T14:06:52.197Z"
   },
   {
    "duration": 24,
    "start_time": "2023-03-16T14:06:52.213Z"
   },
   {
    "duration": 32,
    "start_time": "2023-03-16T14:06:52.239Z"
   },
   {
    "duration": 11,
    "start_time": "2023-03-16T14:06:52.273Z"
   },
   {
    "duration": 132,
    "start_time": "2023-03-16T14:06:52.286Z"
   },
   {
    "duration": 15,
    "start_time": "2023-03-16T14:06:52.420Z"
   },
   {
    "duration": 4,
    "start_time": "2023-03-16T14:10:02.717Z"
   },
   {
    "duration": 607,
    "start_time": "2023-03-16T14:10:02.723Z"
   },
   {
    "duration": 17,
    "start_time": "2023-03-16T14:10:03.332Z"
   },
   {
    "duration": 84,
    "start_time": "2023-03-16T14:10:03.351Z"
   },
   {
    "duration": 29,
    "start_time": "2023-03-16T14:10:03.437Z"
   },
   {
    "duration": 3,
    "start_time": "2023-03-16T14:10:03.469Z"
   },
   {
    "duration": 122,
    "start_time": "2023-03-16T14:10:03.474Z"
   },
   {
    "duration": 29,
    "start_time": "2023-03-16T14:10:03.599Z"
   },
   {
    "duration": 66,
    "start_time": "2023-03-16T14:10:03.631Z"
   },
   {
    "duration": 22,
    "start_time": "2023-03-16T14:10:03.699Z"
   },
   {
    "duration": 125,
    "start_time": "2023-03-16T14:10:03.724Z"
   },
   {
    "duration": 13,
    "start_time": "2023-03-16T14:10:03.851Z"
   },
   {
    "duration": 9,
    "start_time": "2023-03-16T14:10:03.867Z"
   },
   {
    "duration": 37,
    "start_time": "2023-03-16T14:10:03.879Z"
   },
   {
    "duration": 287,
    "start_time": "2023-03-16T14:10:03.920Z"
   },
   {
    "duration": 7,
    "start_time": "2023-03-16T14:10:04.209Z"
   },
   {
    "duration": 63,
    "start_time": "2023-03-16T14:10:04.218Z"
   },
   {
    "duration": 12,
    "start_time": "2023-03-16T14:10:04.283Z"
   },
   {
    "duration": 7,
    "start_time": "2023-03-16T14:10:04.297Z"
   },
   {
    "duration": 16,
    "start_time": "2023-03-16T14:10:04.306Z"
   },
   {
    "duration": 17,
    "start_time": "2023-03-16T14:10:04.324Z"
   },
   {
    "duration": 49,
    "start_time": "2023-03-16T14:10:04.368Z"
   },
   {
    "duration": 67,
    "start_time": "2023-03-16T14:10:04.420Z"
   },
   {
    "duration": 8,
    "start_time": "2023-03-16T14:10:04.489Z"
   },
   {
    "duration": 103,
    "start_time": "2023-03-16T14:10:04.499Z"
   },
   {
    "duration": 0,
    "start_time": "2023-03-16T14:10:04.604Z"
   },
   {
    "duration": 0,
    "start_time": "2023-03-16T14:10:04.606Z"
   },
   {
    "duration": 0,
    "start_time": "2023-03-16T14:10:04.608Z"
   },
   {
    "duration": 0,
    "start_time": "2023-03-16T14:10:04.609Z"
   },
   {
    "duration": 0,
    "start_time": "2023-03-16T14:10:04.611Z"
   },
   {
    "duration": 0,
    "start_time": "2023-03-16T14:10:04.612Z"
   },
   {
    "duration": 6,
    "start_time": "2023-03-16T14:10:17.195Z"
   },
   {
    "duration": 18,
    "start_time": "2023-03-16T14:11:02.438Z"
   },
   {
    "duration": 19,
    "start_time": "2023-03-16T14:11:25.311Z"
   },
   {
    "duration": 117,
    "start_time": "2023-03-16T14:11:41.321Z"
   },
   {
    "duration": 8,
    "start_time": "2023-03-16T14:12:19.951Z"
   },
   {
    "duration": 4,
    "start_time": "2023-03-16T14:21:51.741Z"
   },
   {
    "duration": 7,
    "start_time": "2023-03-16T14:21:55.210Z"
   },
   {
    "duration": 12,
    "start_time": "2023-03-16T14:22:36.310Z"
   },
   {
    "duration": 6,
    "start_time": "2023-03-16T14:22:42.723Z"
   },
   {
    "duration": 5,
    "start_time": "2023-03-16T14:23:31.536Z"
   },
   {
    "duration": 776,
    "start_time": "2023-03-16T14:23:31.544Z"
   },
   {
    "duration": 17,
    "start_time": "2023-03-16T14:23:32.322Z"
   },
   {
    "duration": 112,
    "start_time": "2023-03-16T14:23:32.341Z"
   },
   {
    "duration": 39,
    "start_time": "2023-03-16T14:23:32.456Z"
   },
   {
    "duration": 18,
    "start_time": "2023-03-16T14:23:32.497Z"
   },
   {
    "duration": 128,
    "start_time": "2023-03-16T14:23:32.517Z"
   },
   {
    "duration": 34,
    "start_time": "2023-03-16T14:23:32.646Z"
   },
   {
    "duration": 77,
    "start_time": "2023-03-16T14:23:32.683Z"
   },
   {
    "duration": 59,
    "start_time": "2023-03-16T14:23:32.762Z"
   },
   {
    "duration": 142,
    "start_time": "2023-03-16T14:23:32.823Z"
   },
   {
    "duration": 36,
    "start_time": "2023-03-16T14:23:32.968Z"
   },
   {
    "duration": 58,
    "start_time": "2023-03-16T14:23:33.006Z"
   },
   {
    "duration": 52,
    "start_time": "2023-03-16T14:23:33.070Z"
   },
   {
    "duration": 271,
    "start_time": "2023-03-16T14:23:33.124Z"
   },
   {
    "duration": 8,
    "start_time": "2023-03-16T14:23:33.398Z"
   },
   {
    "duration": 100,
    "start_time": "2023-03-16T14:23:33.408Z"
   },
   {
    "duration": 13,
    "start_time": "2023-03-16T14:23:33.511Z"
   },
   {
    "duration": 32,
    "start_time": "2023-03-16T14:23:33.526Z"
   },
   {
    "duration": 43,
    "start_time": "2023-03-16T14:23:33.560Z"
   },
   {
    "duration": 17,
    "start_time": "2023-03-16T14:23:33.605Z"
   },
   {
    "duration": 80,
    "start_time": "2023-03-16T14:23:33.623Z"
   },
   {
    "duration": 68,
    "start_time": "2023-03-16T14:23:33.705Z"
   },
   {
    "duration": 12,
    "start_time": "2023-03-16T14:23:33.776Z"
   },
   {
    "duration": 22,
    "start_time": "2023-03-16T14:23:33.790Z"
   },
   {
    "duration": 42,
    "start_time": "2023-03-16T14:23:33.814Z"
   },
   {
    "duration": 33,
    "start_time": "2023-03-16T14:23:33.858Z"
   },
   {
    "duration": 43,
    "start_time": "2023-03-16T14:23:33.893Z"
   },
   {
    "duration": 52,
    "start_time": "2023-03-16T14:23:33.938Z"
   },
   {
    "duration": 0,
    "start_time": "2023-03-16T14:23:33.992Z"
   },
   {
    "duration": 0,
    "start_time": "2023-03-16T14:23:33.993Z"
   },
   {
    "duration": 0,
    "start_time": "2023-03-16T14:23:33.995Z"
   },
   {
    "duration": 1,
    "start_time": "2023-03-16T14:23:33.996Z"
   },
   {
    "duration": 8,
    "start_time": "2023-03-16T14:23:53.540Z"
   },
   {
    "duration": 3,
    "start_time": "2023-03-16T14:24:59.938Z"
   },
   {
    "duration": 9,
    "start_time": "2023-03-16T14:25:06.287Z"
   },
   {
    "duration": 8,
    "start_time": "2023-03-16T14:25:07.640Z"
   },
   {
    "duration": 11,
    "start_time": "2023-03-16T14:25:09.978Z"
   },
   {
    "duration": 634,
    "start_time": "2023-03-16T14:25:09.993Z"
   },
   {
    "duration": 17,
    "start_time": "2023-03-16T14:25:10.629Z"
   },
   {
    "duration": 83,
    "start_time": "2023-03-16T14:25:10.648Z"
   },
   {
    "duration": 31,
    "start_time": "2023-03-16T14:25:10.734Z"
   },
   {
    "duration": 4,
    "start_time": "2023-03-16T14:25:10.768Z"
   },
   {
    "duration": 114,
    "start_time": "2023-03-16T14:25:10.775Z"
   },
   {
    "duration": 22,
    "start_time": "2023-03-16T14:25:10.892Z"
   },
   {
    "duration": 70,
    "start_time": "2023-03-16T14:25:10.917Z"
   },
   {
    "duration": 37,
    "start_time": "2023-03-16T14:25:10.989Z"
   },
   {
    "duration": 130,
    "start_time": "2023-03-16T14:25:11.029Z"
   },
   {
    "duration": 8,
    "start_time": "2023-03-16T14:25:11.161Z"
   },
   {
    "duration": 28,
    "start_time": "2023-03-16T14:25:11.172Z"
   },
   {
    "duration": 20,
    "start_time": "2023-03-16T14:25:11.205Z"
   },
   {
    "duration": 269,
    "start_time": "2023-03-16T14:25:11.228Z"
   },
   {
    "duration": 7,
    "start_time": "2023-03-16T14:25:11.500Z"
   },
   {
    "duration": 57,
    "start_time": "2023-03-16T14:25:11.509Z"
   },
   {
    "duration": 19,
    "start_time": "2023-03-16T14:25:11.568Z"
   },
   {
    "duration": 26,
    "start_time": "2023-03-16T14:25:11.590Z"
   },
   {
    "duration": 26,
    "start_time": "2023-03-16T14:25:11.619Z"
   },
   {
    "duration": 24,
    "start_time": "2023-03-16T14:25:11.647Z"
   },
   {
    "duration": 106,
    "start_time": "2023-03-16T14:25:11.674Z"
   },
   {
    "duration": 50,
    "start_time": "2023-03-16T14:25:11.782Z"
   },
   {
    "duration": 9,
    "start_time": "2023-03-16T14:25:11.834Z"
   },
   {
    "duration": 40,
    "start_time": "2023-03-16T14:25:11.845Z"
   },
   {
    "duration": 18,
    "start_time": "2023-03-16T14:25:11.887Z"
   },
   {
    "duration": 32,
    "start_time": "2023-03-16T14:25:11.908Z"
   },
   {
    "duration": 18,
    "start_time": "2023-03-16T14:25:11.943Z"
   },
   {
    "duration": 37,
    "start_time": "2023-03-16T14:25:11.963Z"
   },
   {
    "duration": 17,
    "start_time": "2023-03-16T14:25:12.002Z"
   },
   {
    "duration": 71,
    "start_time": "2023-03-16T14:25:12.022Z"
   },
   {
    "duration": 0,
    "start_time": "2023-03-16T14:25:12.095Z"
   },
   {
    "duration": 0,
    "start_time": "2023-03-16T14:25:12.096Z"
   },
   {
    "duration": 0,
    "start_time": "2023-03-16T14:25:12.098Z"
   },
   {
    "duration": 0,
    "start_time": "2023-03-16T14:25:12.099Z"
   },
   {
    "duration": 5,
    "start_time": "2023-03-16T14:25:23.549Z"
   },
   {
    "duration": 6,
    "start_time": "2023-03-16T14:25:32.541Z"
   },
   {
    "duration": 7,
    "start_time": "2023-03-16T14:27:33.698Z"
   },
   {
    "duration": 8,
    "start_time": "2023-03-16T14:27:45.017Z"
   },
   {
    "duration": 1407,
    "start_time": "2023-03-16T14:30:25.384Z"
   },
   {
    "duration": 700,
    "start_time": "2023-03-16T14:30:26.794Z"
   },
   {
    "duration": 16,
    "start_time": "2023-03-16T14:30:27.497Z"
   },
   {
    "duration": 101,
    "start_time": "2023-03-16T14:30:27.516Z"
   },
   {
    "duration": 31,
    "start_time": "2023-03-16T14:30:27.620Z"
   },
   {
    "duration": 4,
    "start_time": "2023-03-16T14:30:27.653Z"
   },
   {
    "duration": 136,
    "start_time": "2023-03-16T14:30:27.660Z"
   },
   {
    "duration": 21,
    "start_time": "2023-03-16T14:30:27.798Z"
   },
   {
    "duration": 56,
    "start_time": "2023-03-16T14:30:27.821Z"
   },
   {
    "duration": 25,
    "start_time": "2023-03-16T14:30:27.882Z"
   },
   {
    "duration": 149,
    "start_time": "2023-03-16T14:30:27.909Z"
   },
   {
    "duration": 6,
    "start_time": "2023-03-16T14:30:28.065Z"
   },
   {
    "duration": 23,
    "start_time": "2023-03-16T14:30:28.073Z"
   },
   {
    "duration": 17,
    "start_time": "2023-03-16T14:30:28.101Z"
   },
   {
    "duration": 291,
    "start_time": "2023-03-16T14:30:28.120Z"
   },
   {
    "duration": 8,
    "start_time": "2023-03-16T14:30:28.414Z"
   },
   {
    "duration": 66,
    "start_time": "2023-03-16T14:30:28.424Z"
   },
   {
    "duration": 13,
    "start_time": "2023-03-16T14:30:28.492Z"
   },
   {
    "duration": 8,
    "start_time": "2023-03-16T14:30:28.507Z"
   },
   {
    "duration": 19,
    "start_time": "2023-03-16T14:30:28.516Z"
   },
   {
    "duration": 37,
    "start_time": "2023-03-16T14:30:28.538Z"
   },
   {
    "duration": 63,
    "start_time": "2023-03-16T14:30:28.579Z"
   },
   {
    "duration": 77,
    "start_time": "2023-03-16T14:30:28.644Z"
   },
   {
    "duration": 8,
    "start_time": "2023-03-16T14:30:28.724Z"
   },
   {
    "duration": 36,
    "start_time": "2023-03-16T14:30:28.734Z"
   },
   {
    "duration": 8,
    "start_time": "2023-03-16T14:30:28.773Z"
   },
   {
    "duration": 28,
    "start_time": "2023-03-16T14:30:28.787Z"
   },
   {
    "duration": 10,
    "start_time": "2023-03-16T14:30:28.818Z"
   },
   {
    "duration": 19,
    "start_time": "2023-03-16T14:30:28.830Z"
   },
   {
    "duration": 23,
    "start_time": "2023-03-16T14:30:28.852Z"
   },
   {
    "duration": 32,
    "start_time": "2023-03-16T14:30:28.878Z"
   },
   {
    "duration": 21,
    "start_time": "2023-03-16T14:30:28.913Z"
   },
   {
    "duration": 142,
    "start_time": "2023-03-16T14:30:28.936Z"
   },
   {
    "duration": 15,
    "start_time": "2023-03-16T14:30:29.080Z"
   },
   {
    "duration": 17,
    "start_time": "2023-03-16T14:30:29.097Z"
   },
   {
    "duration": 9,
    "start_time": "2023-03-16T14:33:34.936Z"
   },
   {
    "duration": 15,
    "start_time": "2023-03-16T14:38:13.014Z"
   },
   {
    "duration": 125,
    "start_time": "2023-03-16T14:40:28.104Z"
   },
   {
    "duration": 64,
    "start_time": "2023-03-16T14:40:40.698Z"
   },
   {
    "duration": 34,
    "start_time": "2023-03-16T14:40:46.260Z"
   },
   {
    "duration": 14,
    "start_time": "2023-03-16T14:40:56.839Z"
   },
   {
    "duration": 10,
    "start_time": "2023-03-16T14:41:03.191Z"
   },
   {
    "duration": 10,
    "start_time": "2023-03-16T14:41:04.791Z"
   },
   {
    "duration": 8,
    "start_time": "2023-03-16T14:41:14.228Z"
   },
   {
    "duration": 38,
    "start_time": "2023-03-16T14:41:19.594Z"
   },
   {
    "duration": 5,
    "start_time": "2023-03-16T14:41:23.009Z"
   },
   {
    "duration": 719,
    "start_time": "2023-03-16T14:41:23.016Z"
   },
   {
    "duration": 17,
    "start_time": "2023-03-16T14:41:23.737Z"
   },
   {
    "duration": 106,
    "start_time": "2023-03-16T14:41:23.756Z"
   },
   {
    "duration": 37,
    "start_time": "2023-03-16T14:41:23.865Z"
   },
   {
    "duration": 4,
    "start_time": "2023-03-16T14:41:23.904Z"
   },
   {
    "duration": 144,
    "start_time": "2023-03-16T14:41:23.911Z"
   },
   {
    "duration": 31,
    "start_time": "2023-03-16T14:41:24.057Z"
   },
   {
    "duration": 38,
    "start_time": "2023-03-16T14:41:24.098Z"
   },
   {
    "duration": 45,
    "start_time": "2023-03-16T14:41:24.139Z"
   },
   {
    "duration": 148,
    "start_time": "2023-03-16T14:41:24.197Z"
   },
   {
    "duration": 7,
    "start_time": "2023-03-16T14:41:24.347Z"
   },
   {
    "duration": 40,
    "start_time": "2023-03-16T14:41:24.356Z"
   },
   {
    "duration": 14,
    "start_time": "2023-03-16T14:41:24.401Z"
   },
   {
    "duration": 314,
    "start_time": "2023-03-16T14:41:24.417Z"
   },
   {
    "duration": 10,
    "start_time": "2023-03-16T14:41:24.733Z"
   },
   {
    "duration": 89,
    "start_time": "2023-03-16T14:41:24.745Z"
   },
   {
    "duration": 20,
    "start_time": "2023-03-16T14:41:24.836Z"
   },
   {
    "duration": 22,
    "start_time": "2023-03-16T14:41:24.859Z"
   },
   {
    "duration": 51,
    "start_time": "2023-03-16T14:41:24.883Z"
   },
   {
    "duration": 25,
    "start_time": "2023-03-16T14:41:24.937Z"
   },
   {
    "duration": 135,
    "start_time": "2023-03-16T14:41:24.965Z"
   },
   {
    "duration": 64,
    "start_time": "2023-03-16T14:41:25.105Z"
   },
   {
    "duration": 18,
    "start_time": "2023-03-16T14:41:25.171Z"
   },
   {
    "duration": 29,
    "start_time": "2023-03-16T14:41:25.192Z"
   },
   {
    "duration": 14,
    "start_time": "2023-03-16T14:41:25.223Z"
   },
   {
    "duration": 18,
    "start_time": "2023-03-16T14:41:25.240Z"
   },
   {
    "duration": 7,
    "start_time": "2023-03-16T14:41:25.261Z"
   },
   {
    "duration": 51,
    "start_time": "2023-03-16T14:41:25.270Z"
   },
   {
    "duration": 22,
    "start_time": "2023-03-16T14:41:25.323Z"
   },
   {
    "duration": 22,
    "start_time": "2023-03-16T14:41:25.348Z"
   },
   {
    "duration": 47,
    "start_time": "2023-03-16T14:41:25.373Z"
   },
   {
    "duration": 16,
    "start_time": "2023-03-16T14:41:25.423Z"
   },
   {
    "duration": 57,
    "start_time": "2023-03-16T14:41:25.441Z"
   },
   {
    "duration": 140,
    "start_time": "2023-03-16T14:41:25.501Z"
   },
   {
    "duration": 25,
    "start_time": "2023-03-16T14:41:25.644Z"
   },
   {
    "duration": 42,
    "start_time": "2023-03-16T14:41:25.671Z"
   },
   {
    "duration": 33,
    "start_time": "2023-03-16T14:41:45.721Z"
   },
   {
    "duration": 10,
    "start_time": "2023-03-16T14:42:35.695Z"
   },
   {
    "duration": 34,
    "start_time": "2023-03-16T14:43:31.725Z"
   },
   {
    "duration": 7,
    "start_time": "2023-03-16T14:43:50.516Z"
   },
   {
    "duration": 5,
    "start_time": "2023-03-16T14:44:07.518Z"
   },
   {
    "duration": 703,
    "start_time": "2023-03-16T14:44:07.525Z"
   },
   {
    "duration": 17,
    "start_time": "2023-03-16T14:44:08.230Z"
   },
   {
    "duration": 94,
    "start_time": "2023-03-16T14:44:08.249Z"
   },
   {
    "duration": 35,
    "start_time": "2023-03-16T14:44:08.345Z"
   },
   {
    "duration": 5,
    "start_time": "2023-03-16T14:44:08.382Z"
   },
   {
    "duration": 138,
    "start_time": "2023-03-16T14:44:08.390Z"
   },
   {
    "duration": 21,
    "start_time": "2023-03-16T14:44:08.531Z"
   },
   {
    "duration": 33,
    "start_time": "2023-03-16T14:44:08.554Z"
   },
   {
    "duration": 46,
    "start_time": "2023-03-16T14:44:08.591Z"
   },
   {
    "duration": 140,
    "start_time": "2023-03-16T14:44:08.639Z"
   },
   {
    "duration": 11,
    "start_time": "2023-03-16T14:44:08.781Z"
   },
   {
    "duration": 26,
    "start_time": "2023-03-16T14:44:08.793Z"
   },
   {
    "duration": 12,
    "start_time": "2023-03-16T14:44:08.822Z"
   },
   {
    "duration": 295,
    "start_time": "2023-03-16T14:44:08.836Z"
   },
   {
    "duration": 7,
    "start_time": "2023-03-16T14:44:09.134Z"
   },
   {
    "duration": 85,
    "start_time": "2023-03-16T14:44:09.144Z"
   },
   {
    "duration": 13,
    "start_time": "2023-03-16T14:44:09.231Z"
   },
   {
    "duration": 26,
    "start_time": "2023-03-16T14:44:09.247Z"
   },
   {
    "duration": 36,
    "start_time": "2023-03-16T14:44:09.275Z"
   },
   {
    "duration": 25,
    "start_time": "2023-03-16T14:44:09.314Z"
   },
   {
    "duration": 96,
    "start_time": "2023-03-16T14:44:09.341Z"
   },
   {
    "duration": 101,
    "start_time": "2023-03-16T14:44:09.440Z"
   },
   {
    "duration": 10,
    "start_time": "2023-03-16T14:44:09.544Z"
   },
   {
    "duration": 39,
    "start_time": "2023-03-16T14:44:09.557Z"
   },
   {
    "duration": 28,
    "start_time": "2023-03-16T14:44:09.599Z"
   },
   {
    "duration": 25,
    "start_time": "2023-03-16T14:44:09.630Z"
   },
   {
    "duration": 46,
    "start_time": "2023-03-16T14:44:09.659Z"
   },
   {
    "duration": 18,
    "start_time": "2023-03-16T14:44:09.708Z"
   },
   {
    "duration": 26,
    "start_time": "2023-03-16T14:44:09.728Z"
   },
   {
    "duration": 51,
    "start_time": "2023-03-16T14:44:09.757Z"
   },
   {
    "duration": 27,
    "start_time": "2023-03-16T14:44:09.811Z"
   },
   {
    "duration": 10,
    "start_time": "2023-03-16T14:44:09.841Z"
   },
   {
    "duration": 98,
    "start_time": "2023-03-16T14:44:09.854Z"
   },
   {
    "duration": 13,
    "start_time": "2023-03-16T14:44:09.955Z"
   },
   {
    "duration": 146,
    "start_time": "2023-03-16T14:44:09.970Z"
   },
   {
    "duration": 13,
    "start_time": "2023-03-16T14:44:10.118Z"
   },
   {
    "duration": 37,
    "start_time": "2023-03-16T14:44:10.133Z"
   },
   {
    "duration": 34,
    "start_time": "2023-03-16T14:45:03.355Z"
   },
   {
    "duration": 32,
    "start_time": "2023-03-16T14:45:08.306Z"
   },
   {
    "duration": 127,
    "start_time": "2023-03-16T15:17:01.113Z"
   },
   {
    "duration": 205,
    "start_time": "2023-03-16T15:17:22.992Z"
   },
   {
    "duration": 22,
    "start_time": "2023-03-16T15:17:30.896Z"
   },
   {
    "duration": 5,
    "start_time": "2023-03-16T15:18:07.714Z"
   },
   {
    "duration": 618,
    "start_time": "2023-03-16T15:18:07.722Z"
   },
   {
    "duration": 17,
    "start_time": "2023-03-16T15:18:08.342Z"
   },
   {
    "duration": 89,
    "start_time": "2023-03-16T15:18:08.361Z"
   },
   {
    "duration": 35,
    "start_time": "2023-03-16T15:18:08.453Z"
   },
   {
    "duration": 4,
    "start_time": "2023-03-16T15:18:08.490Z"
   },
   {
    "duration": 101,
    "start_time": "2023-03-16T15:18:08.496Z"
   },
   {
    "duration": 19,
    "start_time": "2023-03-16T15:18:08.599Z"
   },
   {
    "duration": 46,
    "start_time": "2023-03-16T15:18:08.620Z"
   },
   {
    "duration": 22,
    "start_time": "2023-03-16T15:18:08.669Z"
   },
   {
    "duration": 138,
    "start_time": "2023-03-16T15:18:08.693Z"
   },
   {
    "duration": 5,
    "start_time": "2023-03-16T15:18:08.834Z"
   },
   {
    "duration": 26,
    "start_time": "2023-03-16T15:18:08.841Z"
   },
   {
    "duration": 20,
    "start_time": "2023-03-16T15:18:08.872Z"
   },
   {
    "duration": 211,
    "start_time": "2023-03-16T15:18:08.894Z"
   },
   {
    "duration": 8,
    "start_time": "2023-03-16T15:18:09.108Z"
   },
   {
    "duration": 73,
    "start_time": "2023-03-16T15:18:09.119Z"
   },
   {
    "duration": 13,
    "start_time": "2023-03-16T15:18:09.194Z"
   },
   {
    "duration": 9,
    "start_time": "2023-03-16T15:18:09.209Z"
   },
   {
    "duration": 23,
    "start_time": "2023-03-16T15:18:09.220Z"
   },
   {
    "duration": 14,
    "start_time": "2023-03-16T15:18:09.265Z"
   },
   {
    "duration": 62,
    "start_time": "2023-03-16T15:18:09.281Z"
   },
   {
    "duration": 62,
    "start_time": "2023-03-16T15:18:09.345Z"
   },
   {
    "duration": 7,
    "start_time": "2023-03-16T15:18:09.409Z"
   },
   {
    "duration": 9,
    "start_time": "2023-03-16T15:18:09.418Z"
   },
   {
    "duration": 4,
    "start_time": "2023-03-16T15:18:09.429Z"
   },
   {
    "duration": 53,
    "start_time": "2023-03-16T15:18:09.435Z"
   },
   {
    "duration": 11,
    "start_time": "2023-03-16T15:18:09.492Z"
   },
   {
    "duration": 14,
    "start_time": "2023-03-16T15:18:09.504Z"
   },
   {
    "duration": 16,
    "start_time": "2023-03-16T15:18:09.520Z"
   },
   {
    "duration": 14,
    "start_time": "2023-03-16T15:18:09.538Z"
   },
   {
    "duration": 14,
    "start_time": "2023-03-16T15:18:09.555Z"
   },
   {
    "duration": 23,
    "start_time": "2023-03-16T15:18:09.571Z"
   },
   {
    "duration": 48,
    "start_time": "2023-03-16T15:18:09.596Z"
   },
   {
    "duration": 17,
    "start_time": "2023-03-16T15:18:09.647Z"
   },
   {
    "duration": 178,
    "start_time": "2023-03-16T15:18:09.669Z"
   },
   {
    "duration": 40,
    "start_time": "2023-03-16T15:18:09.849Z"
   },
   {
    "duration": 145,
    "start_time": "2023-03-16T15:18:09.891Z"
   },
   {
    "duration": 32,
    "start_time": "2023-03-16T15:18:10.039Z"
   },
   {
    "duration": 21,
    "start_time": "2023-03-16T15:18:10.073Z"
   },
   {
    "duration": 254,
    "start_time": "2023-03-16T15:18:37.347Z"
   },
   {
    "duration": 60,
    "start_time": "2023-03-16T15:18:39.243Z"
   },
   {
    "duration": 180,
    "start_time": "2023-03-16T15:19:07.150Z"
   },
   {
    "duration": 25,
    "start_time": "2023-03-16T15:19:08.697Z"
   },
   {
    "duration": 105,
    "start_time": "2023-03-16T15:23:32.269Z"
   },
   {
    "duration": 18,
    "start_time": "2023-03-16T15:28:01.330Z"
   },
   {
    "duration": 11,
    "start_time": "2023-03-16T15:28:11.390Z"
   },
   {
    "duration": 10,
    "start_time": "2023-03-16T15:34:25.114Z"
   },
   {
    "duration": 8,
    "start_time": "2023-03-16T15:34:27.725Z"
   },
   {
    "duration": 8,
    "start_time": "2023-03-16T15:35:39.655Z"
   },
   {
    "duration": 9,
    "start_time": "2023-03-16T15:35:44.967Z"
   },
   {
    "duration": 22,
    "start_time": "2023-03-16T15:39:04.603Z"
   },
   {
    "duration": 22,
    "start_time": "2023-03-16T15:44:18.197Z"
   },
   {
    "duration": 82,
    "start_time": "2023-03-16T15:49:10.886Z"
   },
   {
    "duration": 4,
    "start_time": "2023-03-16T15:49:36.033Z"
   },
   {
    "duration": 546,
    "start_time": "2023-03-16T15:49:36.039Z"
   },
   {
    "duration": 17,
    "start_time": "2023-03-16T15:49:36.587Z"
   },
   {
    "duration": 77,
    "start_time": "2023-03-16T15:49:36.606Z"
   },
   {
    "duration": 35,
    "start_time": "2023-03-16T15:49:36.684Z"
   },
   {
    "duration": 26,
    "start_time": "2023-03-16T15:49:36.723Z"
   },
   {
    "duration": 108,
    "start_time": "2023-03-16T15:49:36.751Z"
   },
   {
    "duration": 17,
    "start_time": "2023-03-16T15:49:36.864Z"
   },
   {
    "duration": 21,
    "start_time": "2023-03-16T15:49:36.883Z"
   },
   {
    "duration": 38,
    "start_time": "2023-03-16T15:49:36.907Z"
   },
   {
    "duration": 118,
    "start_time": "2023-03-16T15:49:36.947Z"
   },
   {
    "duration": 4,
    "start_time": "2023-03-16T15:49:37.067Z"
   },
   {
    "duration": 8,
    "start_time": "2023-03-16T15:49:37.073Z"
   },
   {
    "duration": 11,
    "start_time": "2023-03-16T15:49:37.084Z"
   },
   {
    "duration": 213,
    "start_time": "2023-03-16T15:49:37.097Z"
   },
   {
    "duration": 7,
    "start_time": "2023-03-16T15:49:37.311Z"
   },
   {
    "duration": 57,
    "start_time": "2023-03-16T15:49:37.319Z"
   },
   {
    "duration": 11,
    "start_time": "2023-03-16T15:49:37.378Z"
   },
   {
    "duration": 6,
    "start_time": "2023-03-16T15:49:37.391Z"
   },
   {
    "duration": 12,
    "start_time": "2023-03-16T15:49:37.399Z"
   },
   {
    "duration": 15,
    "start_time": "2023-03-16T15:49:37.412Z"
   },
   {
    "duration": 75,
    "start_time": "2023-03-16T15:49:37.429Z"
   },
   {
    "duration": 43,
    "start_time": "2023-03-16T15:49:37.506Z"
   },
   {
    "duration": 8,
    "start_time": "2023-03-16T15:49:37.564Z"
   },
   {
    "duration": 9,
    "start_time": "2023-03-16T15:49:37.574Z"
   },
   {
    "duration": 7,
    "start_time": "2023-03-16T15:49:37.584Z"
   },
   {
    "duration": 11,
    "start_time": "2023-03-16T15:49:37.593Z"
   },
   {
    "duration": 20,
    "start_time": "2023-03-16T15:49:37.608Z"
   },
   {
    "duration": 35,
    "start_time": "2023-03-16T15:49:37.630Z"
   },
   {
    "duration": 17,
    "start_time": "2023-03-16T15:49:37.667Z"
   },
   {
    "duration": 4,
    "start_time": "2023-03-16T15:49:37.686Z"
   },
   {
    "duration": 11,
    "start_time": "2023-03-16T15:49:37.692Z"
   },
   {
    "duration": 7,
    "start_time": "2023-03-16T15:49:37.704Z"
   },
   {
    "duration": 7,
    "start_time": "2023-03-16T15:49:37.713Z"
   },
   {
    "duration": 9,
    "start_time": "2023-03-16T15:49:37.722Z"
   },
   {
    "duration": 61,
    "start_time": "2023-03-16T15:49:37.732Z"
   },
   {
    "duration": 6,
    "start_time": "2023-03-16T15:49:37.794Z"
   },
   {
    "duration": 187,
    "start_time": "2023-03-16T15:49:37.802Z"
   },
   {
    "duration": 27,
    "start_time": "2023-03-16T15:49:37.991Z"
   },
   {
    "duration": 13,
    "start_time": "2023-03-16T15:49:38.021Z"
   },
   {
    "duration": 34,
    "start_time": "2023-03-16T15:49:38.036Z"
   },
   {
    "duration": 0,
    "start_time": "2023-03-16T15:49:38.072Z"
   },
   {
    "duration": 0,
    "start_time": "2023-03-16T15:49:38.074Z"
   },
   {
    "duration": 108,
    "start_time": "2023-03-16T15:51:11.688Z"
   },
   {
    "duration": 194,
    "start_time": "2023-03-16T15:51:56.025Z"
   },
   {
    "duration": 5,
    "start_time": "2023-03-16T15:52:01.492Z"
   },
   {
    "duration": 644,
    "start_time": "2023-03-16T15:52:01.499Z"
   },
   {
    "duration": 17,
    "start_time": "2023-03-16T15:52:02.146Z"
   },
   {
    "duration": 102,
    "start_time": "2023-03-16T15:52:02.167Z"
   },
   {
    "duration": 29,
    "start_time": "2023-03-16T15:52:02.272Z"
   },
   {
    "duration": 5,
    "start_time": "2023-03-16T15:52:02.303Z"
   },
   {
    "duration": 130,
    "start_time": "2023-03-16T15:52:02.310Z"
   },
   {
    "duration": 24,
    "start_time": "2023-03-16T15:52:02.442Z"
   },
   {
    "duration": 54,
    "start_time": "2023-03-16T15:52:02.469Z"
   },
   {
    "duration": 36,
    "start_time": "2023-03-16T15:52:02.526Z"
   },
   {
    "duration": 126,
    "start_time": "2023-03-16T15:52:02.565Z"
   },
   {
    "duration": 25,
    "start_time": "2023-03-16T15:52:02.694Z"
   },
   {
    "duration": 31,
    "start_time": "2023-03-16T15:52:02.721Z"
   },
   {
    "duration": 33,
    "start_time": "2023-03-16T15:52:02.754Z"
   },
   {
    "duration": 231,
    "start_time": "2023-03-16T15:52:02.790Z"
   },
   {
    "duration": 6,
    "start_time": "2023-03-16T15:52:03.023Z"
   },
   {
    "duration": 66,
    "start_time": "2023-03-16T15:52:03.031Z"
   },
   {
    "duration": 11,
    "start_time": "2023-03-16T15:52:03.099Z"
   },
   {
    "duration": 14,
    "start_time": "2023-03-16T15:52:03.112Z"
   },
   {
    "duration": 23,
    "start_time": "2023-03-16T15:52:03.127Z"
   },
   {
    "duration": 43,
    "start_time": "2023-03-16T15:52:03.152Z"
   },
   {
    "duration": 59,
    "start_time": "2023-03-16T15:52:03.196Z"
   },
   {
    "duration": 46,
    "start_time": "2023-03-16T15:52:03.256Z"
   },
   {
    "duration": 8,
    "start_time": "2023-03-16T15:52:03.303Z"
   },
   {
    "duration": 19,
    "start_time": "2023-03-16T15:52:03.313Z"
   },
   {
    "duration": 22,
    "start_time": "2023-03-16T15:52:03.334Z"
   },
   {
    "duration": 26,
    "start_time": "2023-03-16T15:52:03.359Z"
   },
   {
    "duration": 37,
    "start_time": "2023-03-16T15:52:03.388Z"
   },
   {
    "duration": 3,
    "start_time": "2023-03-16T15:52:03.427Z"
   },
   {
    "duration": 20,
    "start_time": "2023-03-16T15:52:03.432Z"
   },
   {
    "duration": 5,
    "start_time": "2023-03-16T15:52:03.454Z"
   },
   {
    "duration": 15,
    "start_time": "2023-03-16T15:52:03.461Z"
   },
   {
    "duration": 17,
    "start_time": "2023-03-16T15:52:03.479Z"
   },
   {
    "duration": 9,
    "start_time": "2023-03-16T15:52:03.498Z"
   },
   {
    "duration": 13,
    "start_time": "2023-03-16T15:52:03.508Z"
   },
   {
    "duration": 42,
    "start_time": "2023-03-16T15:52:03.523Z"
   },
   {
    "duration": 9,
    "start_time": "2023-03-16T15:52:03.567Z"
   },
   {
    "duration": 223,
    "start_time": "2023-03-16T15:52:03.578Z"
   },
   {
    "duration": 26,
    "start_time": "2023-03-16T15:52:03.803Z"
   },
   {
    "duration": 12,
    "start_time": "2023-03-16T15:52:03.832Z"
   },
   {
    "duration": 133,
    "start_time": "2023-03-16T15:52:03.846Z"
   },
   {
    "duration": 0,
    "start_time": "2023-03-16T15:52:03.982Z"
   },
   {
    "duration": 0,
    "start_time": "2023-03-16T15:52:03.984Z"
   },
   {
    "duration": 0,
    "start_time": "2023-03-16T15:52:03.986Z"
   },
   {
    "duration": 1397,
    "start_time": "2023-03-16T15:52:13.371Z"
   },
   {
    "duration": 690,
    "start_time": "2023-03-16T15:52:14.772Z"
   },
   {
    "duration": 18,
    "start_time": "2023-03-16T15:52:15.465Z"
   },
   {
    "duration": 79,
    "start_time": "2023-03-16T15:52:15.487Z"
   },
   {
    "duration": 36,
    "start_time": "2023-03-16T15:52:15.570Z"
   },
   {
    "duration": 4,
    "start_time": "2023-03-16T15:52:15.607Z"
   },
   {
    "duration": 111,
    "start_time": "2023-03-16T15:52:15.613Z"
   },
   {
    "duration": 18,
    "start_time": "2023-03-16T15:52:15.726Z"
   },
   {
    "duration": 132,
    "start_time": "2023-03-16T15:52:15.746Z"
   },
   {
    "duration": 0,
    "start_time": "2023-03-16T15:52:15.881Z"
   },
   {
    "duration": 0,
    "start_time": "2023-03-16T15:52:15.882Z"
   },
   {
    "duration": 0,
    "start_time": "2023-03-16T15:52:15.884Z"
   },
   {
    "duration": 0,
    "start_time": "2023-03-16T15:52:15.886Z"
   },
   {
    "duration": 0,
    "start_time": "2023-03-16T15:52:15.887Z"
   },
   {
    "duration": 0,
    "start_time": "2023-03-16T15:52:15.888Z"
   },
   {
    "duration": 0,
    "start_time": "2023-03-16T15:52:15.890Z"
   },
   {
    "duration": 0,
    "start_time": "2023-03-16T15:52:15.891Z"
   },
   {
    "duration": 0,
    "start_time": "2023-03-16T15:52:15.892Z"
   },
   {
    "duration": 0,
    "start_time": "2023-03-16T15:52:15.894Z"
   },
   {
    "duration": 0,
    "start_time": "2023-03-16T15:52:15.895Z"
   },
   {
    "duration": 0,
    "start_time": "2023-03-16T15:52:15.896Z"
   },
   {
    "duration": 0,
    "start_time": "2023-03-16T15:52:15.896Z"
   },
   {
    "duration": 0,
    "start_time": "2023-03-16T15:52:15.897Z"
   },
   {
    "duration": 0,
    "start_time": "2023-03-16T15:52:15.898Z"
   },
   {
    "duration": 0,
    "start_time": "2023-03-16T15:52:15.900Z"
   },
   {
    "duration": 0,
    "start_time": "2023-03-16T15:52:15.901Z"
   },
   {
    "duration": 0,
    "start_time": "2023-03-16T15:52:15.902Z"
   },
   {
    "duration": 0,
    "start_time": "2023-03-16T15:52:15.903Z"
   },
   {
    "duration": 0,
    "start_time": "2023-03-16T15:52:15.904Z"
   },
   {
    "duration": 0,
    "start_time": "2023-03-16T15:52:15.905Z"
   },
   {
    "duration": 1,
    "start_time": "2023-03-16T15:52:15.906Z"
   },
   {
    "duration": 0,
    "start_time": "2023-03-16T15:52:15.908Z"
   },
   {
    "duration": 0,
    "start_time": "2023-03-16T15:52:15.909Z"
   },
   {
    "duration": 0,
    "start_time": "2023-03-16T15:52:15.910Z"
   },
   {
    "duration": 0,
    "start_time": "2023-03-16T15:52:15.965Z"
   },
   {
    "duration": 0,
    "start_time": "2023-03-16T15:52:15.967Z"
   },
   {
    "duration": 0,
    "start_time": "2023-03-16T15:52:15.969Z"
   },
   {
    "duration": 0,
    "start_time": "2023-03-16T15:52:15.970Z"
   },
   {
    "duration": 0,
    "start_time": "2023-03-16T15:52:15.972Z"
   },
   {
    "duration": 0,
    "start_time": "2023-03-16T15:52:15.974Z"
   },
   {
    "duration": 0,
    "start_time": "2023-03-16T15:52:15.975Z"
   },
   {
    "duration": 0,
    "start_time": "2023-03-16T15:52:15.977Z"
   },
   {
    "duration": 0,
    "start_time": "2023-03-16T15:52:15.982Z"
   },
   {
    "duration": 0,
    "start_time": "2023-03-16T15:52:15.983Z"
   },
   {
    "duration": 13,
    "start_time": "2023-03-16T15:53:24.826Z"
   },
   {
    "duration": 4,
    "start_time": "2023-03-16T15:53:39.796Z"
   },
   {
    "duration": 673,
    "start_time": "2023-03-16T15:53:39.803Z"
   },
   {
    "duration": 17,
    "start_time": "2023-03-16T15:53:40.478Z"
   },
   {
    "duration": 76,
    "start_time": "2023-03-16T15:53:40.497Z"
   },
   {
    "duration": 31,
    "start_time": "2023-03-16T15:53:40.578Z"
   },
   {
    "duration": 4,
    "start_time": "2023-03-16T15:53:40.610Z"
   },
   {
    "duration": 111,
    "start_time": "2023-03-16T15:53:40.616Z"
   },
   {
    "duration": 17,
    "start_time": "2023-03-16T15:53:40.728Z"
   },
   {
    "duration": 56,
    "start_time": "2023-03-16T15:53:40.747Z"
   },
   {
    "duration": 19,
    "start_time": "2023-03-16T15:53:40.804Z"
   },
   {
    "duration": 132,
    "start_time": "2023-03-16T15:53:40.825Z"
   },
   {
    "duration": 8,
    "start_time": "2023-03-16T15:53:40.959Z"
   },
   {
    "duration": 27,
    "start_time": "2023-03-16T15:53:40.969Z"
   },
   {
    "duration": 23,
    "start_time": "2023-03-16T15:53:40.999Z"
   },
   {
    "duration": 0,
    "start_time": "2023-03-16T15:53:41.024Z"
   },
   {
    "duration": 0,
    "start_time": "2023-03-16T15:53:41.025Z"
   },
   {
    "duration": 0,
    "start_time": "2023-03-16T15:53:41.025Z"
   },
   {
    "duration": 0,
    "start_time": "2023-03-16T15:53:41.027Z"
   },
   {
    "duration": 0,
    "start_time": "2023-03-16T15:53:41.028Z"
   },
   {
    "duration": 0,
    "start_time": "2023-03-16T15:53:41.029Z"
   },
   {
    "duration": 0,
    "start_time": "2023-03-16T15:53:41.030Z"
   },
   {
    "duration": 0,
    "start_time": "2023-03-16T15:53:41.031Z"
   },
   {
    "duration": 0,
    "start_time": "2023-03-16T15:53:41.032Z"
   },
   {
    "duration": 0,
    "start_time": "2023-03-16T15:53:41.033Z"
   },
   {
    "duration": 0,
    "start_time": "2023-03-16T15:53:41.034Z"
   },
   {
    "duration": 0,
    "start_time": "2023-03-16T15:53:41.035Z"
   },
   {
    "duration": 0,
    "start_time": "2023-03-16T15:53:41.036Z"
   },
   {
    "duration": 0,
    "start_time": "2023-03-16T15:53:41.039Z"
   },
   {
    "duration": 0,
    "start_time": "2023-03-16T15:53:41.040Z"
   },
   {
    "duration": 0,
    "start_time": "2023-03-16T15:53:41.041Z"
   },
   {
    "duration": 0,
    "start_time": "2023-03-16T15:53:41.042Z"
   },
   {
    "duration": 0,
    "start_time": "2023-03-16T15:53:41.043Z"
   },
   {
    "duration": 0,
    "start_time": "2023-03-16T15:53:41.065Z"
   },
   {
    "duration": 0,
    "start_time": "2023-03-16T15:53:41.066Z"
   },
   {
    "duration": 0,
    "start_time": "2023-03-16T15:53:41.067Z"
   },
   {
    "duration": 0,
    "start_time": "2023-03-16T15:53:41.068Z"
   },
   {
    "duration": 0,
    "start_time": "2023-03-16T15:53:41.069Z"
   },
   {
    "duration": 0,
    "start_time": "2023-03-16T15:53:41.069Z"
   },
   {
    "duration": 0,
    "start_time": "2023-03-16T15:53:41.071Z"
   },
   {
    "duration": 0,
    "start_time": "2023-03-16T15:53:41.072Z"
   },
   {
    "duration": 0,
    "start_time": "2023-03-16T15:53:41.073Z"
   },
   {
    "duration": 0,
    "start_time": "2023-03-16T15:53:41.074Z"
   },
   {
    "duration": 0,
    "start_time": "2023-03-16T15:53:41.076Z"
   },
   {
    "duration": 19,
    "start_time": "2023-03-16T15:53:59.950Z"
   },
   {
    "duration": 5,
    "start_time": "2023-03-16T15:54:01.262Z"
   },
   {
    "duration": 619,
    "start_time": "2023-03-16T15:54:01.272Z"
   },
   {
    "duration": 17,
    "start_time": "2023-03-16T15:54:01.894Z"
   },
   {
    "duration": 118,
    "start_time": "2023-03-16T15:54:01.914Z"
   },
   {
    "duration": 32,
    "start_time": "2023-03-16T15:54:02.034Z"
   },
   {
    "duration": 7,
    "start_time": "2023-03-16T15:54:02.081Z"
   },
   {
    "duration": 122,
    "start_time": "2023-03-16T15:54:02.092Z"
   },
   {
    "duration": 17,
    "start_time": "2023-03-16T15:54:02.216Z"
   },
   {
    "duration": 76,
    "start_time": "2023-03-16T15:54:02.235Z"
   },
   {
    "duration": 18,
    "start_time": "2023-03-16T15:54:02.313Z"
   },
   {
    "duration": 132,
    "start_time": "2023-03-16T15:54:02.333Z"
   },
   {
    "duration": 16,
    "start_time": "2023-03-16T15:54:02.468Z"
   },
   {
    "duration": 32,
    "start_time": "2023-03-16T15:54:02.486Z"
   },
   {
    "duration": 45,
    "start_time": "2023-03-16T15:54:02.521Z"
   },
   {
    "duration": 202,
    "start_time": "2023-03-16T15:54:02.571Z"
   },
   {
    "duration": 11,
    "start_time": "2023-03-16T15:54:02.777Z"
   },
   {
    "duration": 44,
    "start_time": "2023-03-16T15:54:02.790Z"
   },
   {
    "duration": 11,
    "start_time": "2023-03-16T15:54:02.836Z"
   },
   {
    "duration": 9,
    "start_time": "2023-03-16T15:54:02.865Z"
   },
   {
    "duration": 27,
    "start_time": "2023-03-16T15:54:02.876Z"
   },
   {
    "duration": 25,
    "start_time": "2023-03-16T15:54:02.906Z"
   },
   {
    "duration": 64,
    "start_time": "2023-03-16T15:54:02.933Z"
   },
   {
    "duration": 48,
    "start_time": "2023-03-16T15:54:02.999Z"
   },
   {
    "duration": 10,
    "start_time": "2023-03-16T15:54:03.063Z"
   },
   {
    "duration": 26,
    "start_time": "2023-03-16T15:54:03.075Z"
   },
   {
    "duration": 11,
    "start_time": "2023-03-16T15:54:03.104Z"
   },
   {
    "duration": 30,
    "start_time": "2023-03-16T15:54:03.117Z"
   },
   {
    "duration": 31,
    "start_time": "2023-03-16T15:54:03.149Z"
   },
   {
    "duration": 3,
    "start_time": "2023-03-16T15:54:03.182Z"
   },
   {
    "duration": 16,
    "start_time": "2023-03-16T15:54:03.187Z"
   },
   {
    "duration": 4,
    "start_time": "2023-03-16T15:54:03.205Z"
   },
   {
    "duration": 8,
    "start_time": "2023-03-16T15:54:03.211Z"
   },
   {
    "duration": 8,
    "start_time": "2023-03-16T15:54:03.221Z"
   },
   {
    "duration": 38,
    "start_time": "2023-03-16T15:54:03.231Z"
   },
   {
    "duration": 19,
    "start_time": "2023-03-16T15:54:03.272Z"
   },
   {
    "duration": 39,
    "start_time": "2023-03-16T15:54:03.293Z"
   },
   {
    "duration": 7,
    "start_time": "2023-03-16T15:54:03.334Z"
   },
   {
    "duration": 159,
    "start_time": "2023-03-16T15:54:03.343Z"
   },
   {
    "duration": 22,
    "start_time": "2023-03-16T15:54:03.504Z"
   },
   {
    "duration": 11,
    "start_time": "2023-03-16T15:54:03.528Z"
   },
   {
    "duration": 28,
    "start_time": "2023-03-16T15:54:03.541Z"
   },
   {
    "duration": 15,
    "start_time": "2023-03-16T15:54:03.574Z"
   },
   {
    "duration": 0,
    "start_time": "2023-03-16T15:54:03.591Z"
   },
   {
    "duration": 8,
    "start_time": "2023-03-16T15:57:02.894Z"
   },
   {
    "duration": 16,
    "start_time": "2023-03-16T16:01:56.884Z"
   },
   {
    "duration": 21,
    "start_time": "2023-03-16T16:01:59.678Z"
   },
   {
    "duration": 9,
    "start_time": "2023-03-16T16:04:56.029Z"
   },
   {
    "duration": 34,
    "start_time": "2023-03-16T16:06:14.551Z"
   },
   {
    "duration": 20,
    "start_time": "2023-03-16T16:08:57.533Z"
   },
   {
    "duration": 5,
    "start_time": "2023-03-16T16:09:37.823Z"
   },
   {
    "duration": 698,
    "start_time": "2023-03-16T16:09:37.830Z"
   },
   {
    "duration": 17,
    "start_time": "2023-03-16T16:09:38.530Z"
   },
   {
    "duration": 80,
    "start_time": "2023-03-16T16:09:38.550Z"
   },
   {
    "duration": 29,
    "start_time": "2023-03-16T16:09:38.632Z"
   },
   {
    "duration": 5,
    "start_time": "2023-03-16T16:09:38.663Z"
   },
   {
    "duration": 116,
    "start_time": "2023-03-16T16:09:38.670Z"
   },
   {
    "duration": 19,
    "start_time": "2023-03-16T16:09:38.788Z"
   },
   {
    "duration": 34,
    "start_time": "2023-03-16T16:09:38.808Z"
   },
   {
    "duration": 32,
    "start_time": "2023-03-16T16:09:38.866Z"
   },
   {
    "duration": 135,
    "start_time": "2023-03-16T16:09:38.900Z"
   },
   {
    "duration": 4,
    "start_time": "2023-03-16T16:09:39.037Z"
   },
   {
    "duration": 21,
    "start_time": "2023-03-16T16:09:39.043Z"
   },
   {
    "duration": 13,
    "start_time": "2023-03-16T16:09:39.068Z"
   },
   {
    "duration": 245,
    "start_time": "2023-03-16T16:09:39.083Z"
   },
   {
    "duration": 7,
    "start_time": "2023-03-16T16:09:39.330Z"
   },
   {
    "duration": 58,
    "start_time": "2023-03-16T16:09:39.339Z"
   },
   {
    "duration": 11,
    "start_time": "2023-03-16T16:09:39.399Z"
   },
   {
    "duration": 7,
    "start_time": "2023-03-16T16:09:39.412Z"
   },
   {
    "duration": 45,
    "start_time": "2023-03-16T16:09:39.421Z"
   },
   {
    "duration": 12,
    "start_time": "2023-03-16T16:09:39.469Z"
   },
   {
    "duration": 59,
    "start_time": "2023-03-16T16:09:39.483Z"
   },
   {
    "duration": 52,
    "start_time": "2023-03-16T16:09:39.544Z"
   },
   {
    "duration": 8,
    "start_time": "2023-03-16T16:09:39.598Z"
   },
   {
    "duration": 20,
    "start_time": "2023-03-16T16:09:39.608Z"
   },
   {
    "duration": 11,
    "start_time": "2023-03-16T16:09:39.630Z"
   },
   {
    "duration": 28,
    "start_time": "2023-03-16T16:09:39.643Z"
   },
   {
    "duration": 32,
    "start_time": "2023-03-16T16:09:39.674Z"
   },
   {
    "duration": 3,
    "start_time": "2023-03-16T16:09:39.708Z"
   },
   {
    "duration": 22,
    "start_time": "2023-03-16T16:09:39.712Z"
   },
   {
    "duration": 50,
    "start_time": "2023-03-16T16:09:39.736Z"
   },
   {
    "duration": 16,
    "start_time": "2023-03-16T16:09:39.789Z"
   },
   {
    "duration": 13,
    "start_time": "2023-03-16T16:09:39.808Z"
   },
   {
    "duration": 36,
    "start_time": "2023-03-16T16:09:39.823Z"
   },
   {
    "duration": 49,
    "start_time": "2023-03-16T16:09:39.861Z"
   },
   {
    "duration": 70,
    "start_time": "2023-03-16T16:09:39.911Z"
   },
   {
    "duration": 10,
    "start_time": "2023-03-16T16:09:39.983Z"
   },
   {
    "duration": 172,
    "start_time": "2023-03-16T16:09:39.996Z"
   },
   {
    "duration": 22,
    "start_time": "2023-03-16T16:09:40.171Z"
   },
   {
    "duration": 30,
    "start_time": "2023-03-16T16:09:40.195Z"
   },
   {
    "duration": 13,
    "start_time": "2023-03-16T16:09:40.230Z"
   },
   {
    "duration": 15,
    "start_time": "2023-03-16T16:09:40.245Z"
   },
   {
    "duration": 64,
    "start_time": "2023-03-16T16:09:40.262Z"
   },
   {
    "duration": 23,
    "start_time": "2023-03-16T16:09:40.328Z"
   },
   {
    "duration": 141,
    "start_time": "2023-03-16T16:09:40.353Z"
   },
   {
    "duration": 27,
    "start_time": "2023-03-16T16:18:16.112Z"
   },
   {
    "duration": 11,
    "start_time": "2023-03-16T16:52:01.480Z"
   },
   {
    "duration": 11,
    "start_time": "2023-03-16T16:53:00.477Z"
   },
   {
    "duration": 4,
    "start_time": "2023-03-16T16:53:04.899Z"
   },
   {
    "duration": 552,
    "start_time": "2023-03-16T16:53:04.906Z"
   },
   {
    "duration": 16,
    "start_time": "2023-03-16T16:53:05.460Z"
   },
   {
    "duration": 67,
    "start_time": "2023-03-16T16:53:05.478Z"
   },
   {
    "duration": 27,
    "start_time": "2023-03-16T16:53:05.547Z"
   },
   {
    "duration": 5,
    "start_time": "2023-03-16T16:53:05.576Z"
   },
   {
    "duration": 94,
    "start_time": "2023-03-16T16:53:05.583Z"
   },
   {
    "duration": 19,
    "start_time": "2023-03-16T16:53:05.679Z"
   },
   {
    "duration": 68,
    "start_time": "2023-03-16T16:53:05.701Z"
   },
   {
    "duration": 27,
    "start_time": "2023-03-16T16:53:05.771Z"
   },
   {
    "duration": 121,
    "start_time": "2023-03-16T16:53:05.800Z"
   },
   {
    "duration": 4,
    "start_time": "2023-03-16T16:53:05.923Z"
   },
   {
    "duration": 54,
    "start_time": "2023-03-16T16:53:05.929Z"
   },
   {
    "duration": 42,
    "start_time": "2023-03-16T16:53:05.985Z"
   },
   {
    "duration": 236,
    "start_time": "2023-03-16T16:53:06.029Z"
   },
   {
    "duration": 8,
    "start_time": "2023-03-16T16:53:06.267Z"
   },
   {
    "duration": 52,
    "start_time": "2023-03-16T16:53:06.277Z"
   },
   {
    "duration": 14,
    "start_time": "2023-03-16T16:53:06.330Z"
   },
   {
    "duration": 23,
    "start_time": "2023-03-16T16:53:06.346Z"
   },
   {
    "duration": 26,
    "start_time": "2023-03-16T16:53:06.371Z"
   },
   {
    "duration": 17,
    "start_time": "2023-03-16T16:53:06.400Z"
   },
   {
    "duration": 50,
    "start_time": "2023-03-16T16:53:06.419Z"
   },
   {
    "duration": 53,
    "start_time": "2023-03-16T16:53:06.471Z"
   },
   {
    "duration": 8,
    "start_time": "2023-03-16T16:53:06.527Z"
   },
   {
    "duration": 34,
    "start_time": "2023-03-16T16:53:06.537Z"
   },
   {
    "duration": 17,
    "start_time": "2023-03-16T16:53:06.573Z"
   },
   {
    "duration": 12,
    "start_time": "2023-03-16T16:53:06.592Z"
   },
   {
    "duration": 22,
    "start_time": "2023-03-16T16:53:06.606Z"
   },
   {
    "duration": 5,
    "start_time": "2023-03-16T16:53:06.630Z"
   },
   {
    "duration": 33,
    "start_time": "2023-03-16T16:53:06.637Z"
   },
   {
    "duration": 8,
    "start_time": "2023-03-16T16:53:06.673Z"
   },
   {
    "duration": 10,
    "start_time": "2023-03-16T16:53:06.683Z"
   },
   {
    "duration": 18,
    "start_time": "2023-03-16T16:53:06.695Z"
   },
   {
    "duration": 40,
    "start_time": "2023-03-16T16:53:06.715Z"
   },
   {
    "duration": 27,
    "start_time": "2023-03-16T16:53:06.757Z"
   },
   {
    "duration": 42,
    "start_time": "2023-03-16T16:53:06.786Z"
   },
   {
    "duration": 8,
    "start_time": "2023-03-16T16:53:06.830Z"
   },
   {
    "duration": 170,
    "start_time": "2023-03-16T16:53:06.840Z"
   },
   {
    "duration": 21,
    "start_time": "2023-03-16T16:53:07.013Z"
   },
   {
    "duration": 10,
    "start_time": "2023-03-16T16:53:07.036Z"
   },
   {
    "duration": 6,
    "start_time": "2023-03-16T16:53:07.065Z"
   },
   {
    "duration": 8,
    "start_time": "2023-03-16T16:53:07.073Z"
   },
   {
    "duration": 23,
    "start_time": "2023-03-16T16:53:07.083Z"
   },
   {
    "duration": 23,
    "start_time": "2023-03-16T16:53:07.108Z"
   },
   {
    "duration": 38,
    "start_time": "2023-03-16T16:53:07.133Z"
   },
   {
    "duration": 115,
    "start_time": "2023-03-16T16:53:07.173Z"
   },
   {
    "duration": 11,
    "start_time": "2023-03-16T16:53:34.223Z"
   },
   {
    "duration": 1471,
    "start_time": "2023-03-16T16:54:13.664Z"
   },
   {
    "duration": 586,
    "start_time": "2023-03-16T16:54:15.138Z"
   },
   {
    "duration": 17,
    "start_time": "2023-03-16T16:54:15.727Z"
   },
   {
    "duration": 133,
    "start_time": "2023-03-16T16:54:15.746Z"
   },
   {
    "duration": 30,
    "start_time": "2023-03-16T16:54:15.882Z"
   },
   {
    "duration": 4,
    "start_time": "2023-03-16T16:54:15.914Z"
   },
   {
    "duration": 126,
    "start_time": "2023-03-16T16:54:15.920Z"
   },
   {
    "duration": 19,
    "start_time": "2023-03-16T16:54:16.048Z"
   },
   {
    "duration": 37,
    "start_time": "2023-03-16T16:54:16.069Z"
   },
   {
    "duration": 21,
    "start_time": "2023-03-16T16:54:16.109Z"
   },
   {
    "duration": 147,
    "start_time": "2023-03-16T16:54:16.132Z"
   },
   {
    "duration": 6,
    "start_time": "2023-03-16T16:54:16.281Z"
   },
   {
    "duration": 9,
    "start_time": "2023-03-16T16:54:16.290Z"
   },
   {
    "duration": 19,
    "start_time": "2023-03-16T16:54:16.301Z"
   },
   {
    "duration": 247,
    "start_time": "2023-03-16T16:54:16.322Z"
   },
   {
    "duration": 7,
    "start_time": "2023-03-16T16:54:16.571Z"
   },
   {
    "duration": 40,
    "start_time": "2023-03-16T16:54:16.580Z"
   },
   {
    "duration": 18,
    "start_time": "2023-03-16T16:54:16.622Z"
   },
   {
    "duration": 13,
    "start_time": "2023-03-16T16:54:16.668Z"
   },
   {
    "duration": 18,
    "start_time": "2023-03-16T16:54:16.682Z"
   },
   {
    "duration": 40,
    "start_time": "2023-03-16T16:54:16.703Z"
   },
   {
    "duration": 66,
    "start_time": "2023-03-16T16:54:16.745Z"
   },
   {
    "duration": 82,
    "start_time": "2023-03-16T16:54:16.814Z"
   },
   {
    "duration": 9,
    "start_time": "2023-03-16T16:54:16.898Z"
   },
   {
    "duration": 12,
    "start_time": "2023-03-16T16:54:16.908Z"
   },
   {
    "duration": 18,
    "start_time": "2023-03-16T16:54:16.923Z"
   },
   {
    "duration": 26,
    "start_time": "2023-03-16T16:54:16.943Z"
   },
   {
    "duration": 25,
    "start_time": "2023-03-16T16:54:16.973Z"
   },
   {
    "duration": 3,
    "start_time": "2023-03-16T16:54:17.000Z"
   },
   {
    "duration": 22,
    "start_time": "2023-03-16T16:54:17.005Z"
   },
   {
    "duration": 8,
    "start_time": "2023-03-16T16:54:17.029Z"
   },
   {
    "duration": 26,
    "start_time": "2023-03-16T16:54:17.039Z"
   },
   {
    "duration": 9,
    "start_time": "2023-03-16T16:54:17.068Z"
   },
   {
    "duration": 7,
    "start_time": "2023-03-16T16:54:17.080Z"
   },
   {
    "duration": 9,
    "start_time": "2023-03-16T16:54:17.089Z"
   },
   {
    "duration": 31,
    "start_time": "2023-03-16T16:54:17.100Z"
   },
   {
    "duration": 8,
    "start_time": "2023-03-16T16:54:17.163Z"
   },
   {
    "duration": 196,
    "start_time": "2023-03-16T16:54:17.172Z"
   },
   {
    "duration": 22,
    "start_time": "2023-03-16T16:54:17.370Z"
   },
   {
    "duration": 12,
    "start_time": "2023-03-16T16:54:17.393Z"
   },
   {
    "duration": 6,
    "start_time": "2023-03-16T16:54:17.407Z"
   },
   {
    "duration": 10,
    "start_time": "2023-03-16T16:54:17.415Z"
   },
   {
    "duration": 55,
    "start_time": "2023-03-16T16:54:17.427Z"
   },
   {
    "duration": 21,
    "start_time": "2023-03-16T16:54:17.484Z"
   },
   {
    "duration": 11,
    "start_time": "2023-03-16T16:54:17.507Z"
   },
   {
    "duration": 157,
    "start_time": "2023-03-16T16:54:17.520Z"
   },
   {
    "duration": 167,
    "start_time": "2023-03-16T16:56:22.666Z"
   },
   {
    "duration": 35,
    "start_time": "2023-03-16T16:56:34.840Z"
   },
   {
    "duration": 11,
    "start_time": "2023-03-16T16:57:02.315Z"
   },
   {
    "duration": 10,
    "start_time": "2023-03-16T16:57:50.214Z"
   },
   {
    "duration": 4,
    "start_time": "2023-03-16T16:57:53.109Z"
   },
   {
    "duration": 567,
    "start_time": "2023-03-16T16:57:53.115Z"
   },
   {
    "duration": 17,
    "start_time": "2023-03-16T16:57:53.685Z"
   },
   {
    "duration": 70,
    "start_time": "2023-03-16T16:57:53.704Z"
   },
   {
    "duration": 28,
    "start_time": "2023-03-16T16:57:53.777Z"
   },
   {
    "duration": 4,
    "start_time": "2023-03-16T16:57:53.807Z"
   },
   {
    "duration": 103,
    "start_time": "2023-03-16T16:57:53.812Z"
   },
   {
    "duration": 19,
    "start_time": "2023-03-16T16:57:53.918Z"
   },
   {
    "duration": 55,
    "start_time": "2023-03-16T16:57:53.939Z"
   },
   {
    "duration": 29,
    "start_time": "2023-03-16T16:57:53.996Z"
   },
   {
    "duration": 128,
    "start_time": "2023-03-16T16:57:54.027Z"
   },
   {
    "duration": 8,
    "start_time": "2023-03-16T16:57:54.157Z"
   },
   {
    "duration": 13,
    "start_time": "2023-03-16T16:57:54.168Z"
   },
   {
    "duration": 20,
    "start_time": "2023-03-16T16:57:54.185Z"
   },
   {
    "duration": 228,
    "start_time": "2023-03-16T16:57:54.208Z"
   },
   {
    "duration": 6,
    "start_time": "2023-03-16T16:57:54.438Z"
   },
   {
    "duration": 50,
    "start_time": "2023-03-16T16:57:54.446Z"
   },
   {
    "duration": 11,
    "start_time": "2023-03-16T16:57:54.499Z"
   },
   {
    "duration": 7,
    "start_time": "2023-03-16T16:57:54.511Z"
   },
   {
    "duration": 13,
    "start_time": "2023-03-16T16:57:54.520Z"
   },
   {
    "duration": 8,
    "start_time": "2023-03-16T16:57:54.564Z"
   },
   {
    "duration": 47,
    "start_time": "2023-03-16T16:57:54.574Z"
   },
   {
    "duration": 87,
    "start_time": "2023-03-16T16:57:54.624Z"
   },
   {
    "duration": 7,
    "start_time": "2023-03-16T16:57:54.713Z"
   },
   {
    "duration": 9,
    "start_time": "2023-03-16T16:57:54.722Z"
   },
   {
    "duration": 10,
    "start_time": "2023-03-16T16:57:54.733Z"
   },
   {
    "duration": 10,
    "start_time": "2023-03-16T16:57:54.765Z"
   },
   {
    "duration": 25,
    "start_time": "2023-03-16T16:57:54.777Z"
   },
   {
    "duration": 3,
    "start_time": "2023-03-16T16:57:54.804Z"
   },
   {
    "duration": 26,
    "start_time": "2023-03-16T16:57:54.809Z"
   },
   {
    "duration": 29,
    "start_time": "2023-03-16T16:57:54.838Z"
   },
   {
    "duration": 18,
    "start_time": "2023-03-16T16:57:54.870Z"
   },
   {
    "duration": 13,
    "start_time": "2023-03-16T16:57:54.890Z"
   },
   {
    "duration": 16,
    "start_time": "2023-03-16T16:57:54.906Z"
   },
   {
    "duration": 12,
    "start_time": "2023-03-16T16:57:54.924Z"
   },
   {
    "duration": 57,
    "start_time": "2023-03-16T16:57:54.938Z"
   },
   {
    "duration": 18,
    "start_time": "2023-03-16T16:57:54.998Z"
   },
   {
    "duration": 224,
    "start_time": "2023-03-16T16:57:55.018Z"
   },
   {
    "duration": 30,
    "start_time": "2023-03-16T16:57:55.244Z"
   },
   {
    "duration": 14,
    "start_time": "2023-03-16T16:57:55.276Z"
   },
   {
    "duration": 7,
    "start_time": "2023-03-16T16:57:55.295Z"
   },
   {
    "duration": 8,
    "start_time": "2023-03-16T16:57:55.304Z"
   },
   {
    "duration": 50,
    "start_time": "2023-03-16T16:57:55.314Z"
   },
   {
    "duration": 25,
    "start_time": "2023-03-16T16:57:55.366Z"
   },
   {
    "duration": 11,
    "start_time": "2023-03-16T16:57:55.393Z"
   },
   {
    "duration": 154,
    "start_time": "2023-03-16T16:57:55.406Z"
   },
   {
    "duration": 11,
    "start_time": "2023-03-16T16:58:11.686Z"
   },
   {
    "duration": 56,
    "start_time": "2023-03-16T16:58:38.903Z"
   },
   {
    "duration": 11,
    "start_time": "2023-03-16T17:00:10.679Z"
   },
   {
    "duration": 11,
    "start_time": "2023-03-16T17:01:01.615Z"
   },
   {
    "duration": 11,
    "start_time": "2023-03-16T17:01:05.613Z"
   },
   {
    "duration": 12,
    "start_time": "2023-03-16T17:01:33.723Z"
   },
   {
    "duration": 14,
    "start_time": "2023-03-16T17:06:51.293Z"
   },
   {
    "duration": 15,
    "start_time": "2023-03-16T17:07:20.344Z"
   },
   {
    "duration": 15,
    "start_time": "2023-03-16T17:07:27.902Z"
   },
   {
    "duration": 16,
    "start_time": "2023-03-16T17:07:41.138Z"
   },
   {
    "duration": 16,
    "start_time": "2023-03-16T17:07:57.844Z"
   },
   {
    "duration": 14,
    "start_time": "2023-03-16T17:10:43.290Z"
   },
   {
    "duration": 1414,
    "start_time": "2023-03-16T17:12:31.751Z"
   },
   {
    "duration": 643,
    "start_time": "2023-03-16T17:12:33.169Z"
   },
   {
    "duration": 17,
    "start_time": "2023-03-16T17:12:33.813Z"
   },
   {
    "duration": 90,
    "start_time": "2023-03-16T17:12:33.833Z"
   },
   {
    "duration": 32,
    "start_time": "2023-03-16T17:12:33.925Z"
   },
   {
    "duration": 4,
    "start_time": "2023-03-16T17:12:33.959Z"
   },
   {
    "duration": 129,
    "start_time": "2023-03-16T17:12:33.965Z"
   },
   {
    "duration": 18,
    "start_time": "2023-03-16T17:12:34.095Z"
   },
   {
    "duration": 50,
    "start_time": "2023-03-16T17:12:34.114Z"
   },
   {
    "duration": 30,
    "start_time": "2023-03-16T17:12:34.170Z"
   },
   {
    "duration": 141,
    "start_time": "2023-03-16T17:12:34.202Z"
   },
   {
    "duration": 5,
    "start_time": "2023-03-16T17:12:34.344Z"
   },
   {
    "duration": 27,
    "start_time": "2023-03-16T17:12:34.350Z"
   },
   {
    "duration": 29,
    "start_time": "2023-03-16T17:12:34.381Z"
   },
   {
    "duration": 293,
    "start_time": "2023-03-16T17:12:34.412Z"
   },
   {
    "duration": 8,
    "start_time": "2023-03-16T17:12:34.707Z"
   },
   {
    "duration": 74,
    "start_time": "2023-03-16T17:12:34.718Z"
   },
   {
    "duration": 12,
    "start_time": "2023-03-16T17:12:34.795Z"
   },
   {
    "duration": 7,
    "start_time": "2023-03-16T17:12:34.810Z"
   },
   {
    "duration": 23,
    "start_time": "2023-03-16T17:12:34.819Z"
   },
   {
    "duration": 19,
    "start_time": "2023-03-16T17:12:34.866Z"
   },
   {
    "duration": 48,
    "start_time": "2023-03-16T17:12:34.887Z"
   },
   {
    "duration": 90,
    "start_time": "2023-03-16T17:12:34.937Z"
   },
   {
    "duration": 8,
    "start_time": "2023-03-16T17:12:35.030Z"
   },
   {
    "duration": 13,
    "start_time": "2023-03-16T17:12:35.040Z"
   },
   {
    "duration": 8,
    "start_time": "2023-03-16T17:12:35.065Z"
   },
   {
    "duration": 33,
    "start_time": "2023-03-16T17:12:35.076Z"
   },
   {
    "duration": 28,
    "start_time": "2023-03-16T17:12:35.112Z"
   },
   {
    "duration": 3,
    "start_time": "2023-03-16T17:12:35.143Z"
   },
   {
    "duration": 34,
    "start_time": "2023-03-16T17:12:35.148Z"
   },
   {
    "duration": 22,
    "start_time": "2023-03-16T17:12:35.186Z"
   },
   {
    "duration": 20,
    "start_time": "2023-03-16T17:12:35.210Z"
   },
   {
    "duration": 26,
    "start_time": "2023-03-16T17:12:35.232Z"
   },
   {
    "duration": 20,
    "start_time": "2023-03-16T17:12:35.260Z"
   },
   {
    "duration": 19,
    "start_time": "2023-03-16T17:12:35.283Z"
   },
   {
    "duration": 52,
    "start_time": "2023-03-16T17:12:35.304Z"
   },
   {
    "duration": 7,
    "start_time": "2023-03-16T17:12:35.358Z"
   },
   {
    "duration": 217,
    "start_time": "2023-03-16T17:12:35.369Z"
   },
   {
    "duration": 29,
    "start_time": "2023-03-16T17:12:35.589Z"
   },
   {
    "duration": 13,
    "start_time": "2023-03-16T17:12:35.620Z"
   },
   {
    "duration": 36,
    "start_time": "2023-03-16T17:12:35.635Z"
   },
   {
    "duration": 10,
    "start_time": "2023-03-16T17:12:35.673Z"
   },
   {
    "duration": 41,
    "start_time": "2023-03-16T17:12:35.685Z"
   },
   {
    "duration": 25,
    "start_time": "2023-03-16T17:12:35.728Z"
   },
   {
    "duration": 14,
    "start_time": "2023-03-16T17:12:35.770Z"
   },
   {
    "duration": 29,
    "start_time": "2023-03-16T17:12:35.787Z"
   },
   {
    "duration": 13,
    "start_time": "2023-03-16T17:12:35.818Z"
   },
   {
    "duration": 126,
    "start_time": "2023-03-16T17:12:35.833Z"
   },
   {
    "duration": 26,
    "start_time": "2023-03-16T17:12:52.057Z"
   },
   {
    "duration": 16,
    "start_time": "2023-03-16T17:13:10.632Z"
   },
   {
    "duration": 16,
    "start_time": "2023-03-16T17:19:22.917Z"
   },
   {
    "duration": 13,
    "start_time": "2023-03-16T17:20:55.197Z"
   },
   {
    "duration": 13,
    "start_time": "2023-03-16T17:21:12.034Z"
   },
   {
    "duration": 14,
    "start_time": "2023-03-16T17:21:17.917Z"
   },
   {
    "duration": 4,
    "start_time": "2023-03-16T17:21:21.583Z"
   },
   {
    "duration": 596,
    "start_time": "2023-03-16T17:21:21.590Z"
   },
   {
    "duration": 18,
    "start_time": "2023-03-16T17:21:22.188Z"
   },
   {
    "duration": 72,
    "start_time": "2023-03-16T17:21:22.208Z"
   },
   {
    "duration": 39,
    "start_time": "2023-03-16T17:21:22.282Z"
   },
   {
    "duration": 4,
    "start_time": "2023-03-16T17:21:22.323Z"
   },
   {
    "duration": 108,
    "start_time": "2023-03-16T17:21:22.328Z"
   },
   {
    "duration": 26,
    "start_time": "2023-03-16T17:21:22.438Z"
   },
   {
    "duration": 37,
    "start_time": "2023-03-16T17:21:22.466Z"
   },
   {
    "duration": 21,
    "start_time": "2023-03-16T17:21:22.504Z"
   },
   {
    "duration": 134,
    "start_time": "2023-03-16T17:21:22.527Z"
   },
   {
    "duration": 4,
    "start_time": "2023-03-16T17:21:22.665Z"
   },
   {
    "duration": 25,
    "start_time": "2023-03-16T17:21:22.674Z"
   },
   {
    "duration": 26,
    "start_time": "2023-03-16T17:21:22.700Z"
   },
   {
    "duration": 246,
    "start_time": "2023-03-16T17:21:22.728Z"
   },
   {
    "duration": 7,
    "start_time": "2023-03-16T17:21:22.977Z"
   },
   {
    "duration": 41,
    "start_time": "2023-03-16T17:21:22.986Z"
   },
   {
    "duration": 11,
    "start_time": "2023-03-16T17:21:23.029Z"
   },
   {
    "duration": 25,
    "start_time": "2023-03-16T17:21:23.042Z"
   },
   {
    "duration": 30,
    "start_time": "2023-03-16T17:21:23.069Z"
   },
   {
    "duration": 12,
    "start_time": "2023-03-16T17:21:23.101Z"
   },
   {
    "duration": 56,
    "start_time": "2023-03-16T17:21:23.115Z"
   },
   {
    "duration": 62,
    "start_time": "2023-03-16T17:21:23.172Z"
   },
   {
    "duration": 8,
    "start_time": "2023-03-16T17:21:23.237Z"
   },
   {
    "duration": 15,
    "start_time": "2023-03-16T17:21:23.265Z"
   },
   {
    "duration": 14,
    "start_time": "2023-03-16T17:21:23.283Z"
   },
   {
    "duration": 16,
    "start_time": "2023-03-16T17:21:23.300Z"
   },
   {
    "duration": 53,
    "start_time": "2023-03-16T17:21:23.319Z"
   },
   {
    "duration": 4,
    "start_time": "2023-03-16T17:21:23.375Z"
   },
   {
    "duration": 46,
    "start_time": "2023-03-16T17:21:23.381Z"
   },
   {
    "duration": 15,
    "start_time": "2023-03-16T17:21:23.429Z"
   },
   {
    "duration": 8,
    "start_time": "2023-03-16T17:21:23.446Z"
   },
   {
    "duration": 22,
    "start_time": "2023-03-16T17:21:23.456Z"
   },
   {
    "duration": 21,
    "start_time": "2023-03-16T17:21:23.481Z"
   },
   {
    "duration": 25,
    "start_time": "2023-03-16T17:21:23.504Z"
   },
   {
    "duration": 45,
    "start_time": "2023-03-16T17:21:23.531Z"
   },
   {
    "duration": 11,
    "start_time": "2023-03-16T17:21:23.581Z"
   },
   {
    "duration": 196,
    "start_time": "2023-03-16T17:21:23.594Z"
   },
   {
    "duration": 26,
    "start_time": "2023-03-16T17:21:23.792Z"
   },
   {
    "duration": 30,
    "start_time": "2023-03-16T17:21:23.866Z"
   },
   {
    "duration": 11,
    "start_time": "2023-03-16T17:21:23.898Z"
   },
   {
    "duration": 23,
    "start_time": "2023-03-16T17:21:23.912Z"
   },
   {
    "duration": 7,
    "start_time": "2023-03-16T17:21:23.965Z"
   },
   {
    "duration": 28,
    "start_time": "2023-03-16T17:21:23.974Z"
   },
   {
    "duration": 61,
    "start_time": "2023-03-16T17:21:24.005Z"
   },
   {
    "duration": 31,
    "start_time": "2023-03-16T17:21:24.069Z"
   },
   {
    "duration": 68,
    "start_time": "2023-03-16T17:21:24.102Z"
   },
   {
    "duration": 23,
    "start_time": "2023-03-16T17:21:24.172Z"
   },
   {
    "duration": 18,
    "start_time": "2023-03-16T17:21:24.197Z"
   },
   {
    "duration": 136,
    "start_time": "2023-03-16T17:21:24.216Z"
   },
   {
    "duration": 23,
    "start_time": "2023-03-16T17:22:14.358Z"
   },
   {
    "duration": 17,
    "start_time": "2023-03-16T17:22:20.584Z"
   },
   {
    "duration": 4,
    "start_time": "2023-03-16T17:22:22.661Z"
   },
   {
    "duration": 576,
    "start_time": "2023-03-16T17:22:22.667Z"
   },
   {
    "duration": 17,
    "start_time": "2023-03-16T17:22:23.245Z"
   },
   {
    "duration": 109,
    "start_time": "2023-03-16T17:22:23.264Z"
   },
   {
    "duration": 29,
    "start_time": "2023-03-16T17:22:23.377Z"
   },
   {
    "duration": 23,
    "start_time": "2023-03-16T17:22:23.408Z"
   },
   {
    "duration": 125,
    "start_time": "2023-03-16T17:22:23.433Z"
   },
   {
    "duration": 25,
    "start_time": "2023-03-16T17:22:23.560Z"
   },
   {
    "duration": 46,
    "start_time": "2023-03-16T17:22:23.587Z"
   },
   {
    "duration": 30,
    "start_time": "2023-03-16T17:22:23.635Z"
   },
   {
    "duration": 131,
    "start_time": "2023-03-16T17:22:23.667Z"
   },
   {
    "duration": 5,
    "start_time": "2023-03-16T17:22:23.799Z"
   },
   {
    "duration": 26,
    "start_time": "2023-03-16T17:22:23.807Z"
   },
   {
    "duration": 38,
    "start_time": "2023-03-16T17:22:23.835Z"
   },
   {
    "duration": 207,
    "start_time": "2023-03-16T17:22:23.875Z"
   },
   {
    "duration": 9,
    "start_time": "2023-03-16T17:22:24.087Z"
   },
   {
    "duration": 41,
    "start_time": "2023-03-16T17:22:24.097Z"
   },
   {
    "duration": 25,
    "start_time": "2023-03-16T17:22:24.140Z"
   },
   {
    "duration": 16,
    "start_time": "2023-03-16T17:22:24.167Z"
   },
   {
    "duration": 26,
    "start_time": "2023-03-16T17:22:24.185Z"
   },
   {
    "duration": 25,
    "start_time": "2023-03-16T17:22:24.213Z"
   },
   {
    "duration": 87,
    "start_time": "2023-03-16T17:22:24.240Z"
   },
   {
    "duration": 50,
    "start_time": "2023-03-16T17:22:24.329Z"
   },
   {
    "duration": 8,
    "start_time": "2023-03-16T17:22:24.380Z"
   },
   {
    "duration": 54,
    "start_time": "2023-03-16T17:22:24.390Z"
   },
   {
    "duration": 33,
    "start_time": "2023-03-16T17:22:24.446Z"
   },
   {
    "duration": 55,
    "start_time": "2023-03-16T17:22:24.482Z"
   },
   {
    "duration": 63,
    "start_time": "2023-03-16T17:22:24.539Z"
   },
   {
    "duration": 6,
    "start_time": "2023-03-16T17:22:24.605Z"
   },
   {
    "duration": 26,
    "start_time": "2023-03-16T17:22:24.613Z"
   },
   {
    "duration": 14,
    "start_time": "2023-03-16T17:22:24.641Z"
   },
   {
    "duration": 25,
    "start_time": "2023-03-16T17:22:24.657Z"
   },
   {
    "duration": 31,
    "start_time": "2023-03-16T17:22:24.684Z"
   },
   {
    "duration": 20,
    "start_time": "2023-03-16T17:22:24.717Z"
   },
   {
    "duration": 10,
    "start_time": "2023-03-16T17:22:24.740Z"
   },
   {
    "duration": 42,
    "start_time": "2023-03-16T17:22:24.752Z"
   },
   {
    "duration": 6,
    "start_time": "2023-03-16T17:22:24.800Z"
   },
   {
    "duration": 186,
    "start_time": "2023-03-16T17:22:24.808Z"
   },
   {
    "duration": 23,
    "start_time": "2023-03-16T17:22:24.995Z"
   },
   {
    "duration": 34,
    "start_time": "2023-03-16T17:22:25.021Z"
   },
   {
    "duration": 9,
    "start_time": "2023-03-16T17:22:25.057Z"
   },
   {
    "duration": 46,
    "start_time": "2023-03-16T17:22:25.068Z"
   },
   {
    "duration": 19,
    "start_time": "2023-03-16T17:22:25.116Z"
   },
   {
    "duration": 21,
    "start_time": "2023-03-16T17:22:25.137Z"
   },
   {
    "duration": 39,
    "start_time": "2023-03-16T17:22:25.161Z"
   },
   {
    "duration": 28,
    "start_time": "2023-03-16T17:22:25.202Z"
   },
   {
    "duration": 16,
    "start_time": "2023-03-16T17:22:25.232Z"
   },
   {
    "duration": 15,
    "start_time": "2023-03-16T17:22:25.250Z"
   },
   {
    "duration": 21,
    "start_time": "2023-03-16T17:22:25.267Z"
   },
   {
    "duration": 129,
    "start_time": "2023-03-16T17:22:25.290Z"
   },
   {
    "duration": 6,
    "start_time": "2023-03-16T17:23:11.502Z"
   },
   {
    "duration": 12,
    "start_time": "2023-03-16T17:23:13.348Z"
   },
   {
    "duration": 4,
    "start_time": "2023-03-16T17:23:20.268Z"
   },
   {
    "duration": 561,
    "start_time": "2023-03-16T17:23:20.275Z"
   },
   {
    "duration": 17,
    "start_time": "2023-03-16T17:23:20.838Z"
   },
   {
    "duration": 92,
    "start_time": "2023-03-16T17:23:20.857Z"
   },
   {
    "duration": 34,
    "start_time": "2023-03-16T17:23:20.951Z"
   },
   {
    "duration": 4,
    "start_time": "2023-03-16T17:23:20.987Z"
   },
   {
    "duration": 120,
    "start_time": "2023-03-16T17:23:20.992Z"
   },
   {
    "duration": 17,
    "start_time": "2023-03-16T17:23:21.114Z"
   },
   {
    "duration": 50,
    "start_time": "2023-03-16T17:23:21.133Z"
   },
   {
    "duration": 20,
    "start_time": "2023-03-16T17:23:21.184Z"
   },
   {
    "duration": 119,
    "start_time": "2023-03-16T17:23:21.206Z"
   },
   {
    "duration": 5,
    "start_time": "2023-03-16T17:23:21.326Z"
   },
   {
    "duration": 7,
    "start_time": "2023-03-16T17:23:21.334Z"
   },
   {
    "duration": 38,
    "start_time": "2023-03-16T17:23:21.343Z"
   },
   {
    "duration": 228,
    "start_time": "2023-03-16T17:23:21.383Z"
   },
   {
    "duration": 7,
    "start_time": "2023-03-16T17:23:21.613Z"
   },
   {
    "duration": 47,
    "start_time": "2023-03-16T17:23:21.622Z"
   },
   {
    "duration": 10,
    "start_time": "2023-03-16T17:23:21.671Z"
   },
   {
    "duration": 8,
    "start_time": "2023-03-16T17:23:21.683Z"
   },
   {
    "duration": 23,
    "start_time": "2023-03-16T17:23:21.693Z"
   },
   {
    "duration": 13,
    "start_time": "2023-03-16T17:23:21.718Z"
   },
   {
    "duration": 88,
    "start_time": "2023-03-16T17:23:21.733Z"
   },
   {
    "duration": 46,
    "start_time": "2023-03-16T17:23:21.823Z"
   },
   {
    "duration": 11,
    "start_time": "2023-03-16T17:23:21.872Z"
   },
   {
    "duration": 32,
    "start_time": "2023-03-16T17:23:21.885Z"
   },
   {
    "duration": 10,
    "start_time": "2023-03-16T17:23:21.919Z"
   },
   {
    "duration": 30,
    "start_time": "2023-03-16T17:23:21.931Z"
   },
   {
    "duration": 59,
    "start_time": "2023-03-16T17:23:21.963Z"
   },
   {
    "duration": 3,
    "start_time": "2023-03-16T17:23:22.024Z"
   },
   {
    "duration": 28,
    "start_time": "2023-03-16T17:23:22.029Z"
   },
   {
    "duration": 18,
    "start_time": "2023-03-16T17:23:22.060Z"
   },
   {
    "duration": 24,
    "start_time": "2023-03-16T17:23:22.080Z"
   },
   {
    "duration": 10,
    "start_time": "2023-03-16T17:23:22.106Z"
   },
   {
    "duration": 8,
    "start_time": "2023-03-16T17:23:22.118Z"
   },
   {
    "duration": 6,
    "start_time": "2023-03-16T17:23:22.128Z"
   },
   {
    "duration": 39,
    "start_time": "2023-03-16T17:23:22.136Z"
   },
   {
    "duration": 7,
    "start_time": "2023-03-16T17:23:22.180Z"
   },
   {
    "duration": 181,
    "start_time": "2023-03-16T17:23:22.189Z"
   },
   {
    "duration": 25,
    "start_time": "2023-03-16T17:23:22.372Z"
   },
   {
    "duration": 11,
    "start_time": "2023-03-16T17:23:22.398Z"
   },
   {
    "duration": 6,
    "start_time": "2023-03-16T17:23:22.411Z"
   },
   {
    "duration": 51,
    "start_time": "2023-03-16T17:23:22.419Z"
   },
   {
    "duration": 13,
    "start_time": "2023-03-16T17:23:22.473Z"
   },
   {
    "duration": 28,
    "start_time": "2023-03-16T17:23:22.488Z"
   },
   {
    "duration": 48,
    "start_time": "2023-03-16T17:23:22.518Z"
   },
   {
    "duration": 35,
    "start_time": "2023-03-16T17:23:22.569Z"
   },
   {
    "duration": 13,
    "start_time": "2023-03-16T17:23:22.605Z"
   },
   {
    "duration": 45,
    "start_time": "2023-03-16T17:23:22.620Z"
   },
   {
    "duration": 36,
    "start_time": "2023-03-16T17:23:22.667Z"
   },
   {
    "duration": 128,
    "start_time": "2023-03-16T17:23:22.705Z"
   },
   {
    "duration": 24,
    "start_time": "2023-03-16T17:23:48.781Z"
   },
   {
    "duration": 4,
    "start_time": "2023-03-16T17:23:50.971Z"
   },
   {
    "duration": 593,
    "start_time": "2023-03-16T17:23:51.004Z"
   },
   {
    "duration": 16,
    "start_time": "2023-03-16T17:23:51.600Z"
   },
   {
    "duration": 82,
    "start_time": "2023-03-16T17:23:51.619Z"
   },
   {
    "duration": 29,
    "start_time": "2023-03-16T17:23:51.703Z"
   },
   {
    "duration": 3,
    "start_time": "2023-03-16T17:23:51.734Z"
   },
   {
    "duration": 118,
    "start_time": "2023-03-16T17:23:51.739Z"
   },
   {
    "duration": 26,
    "start_time": "2023-03-16T17:23:51.863Z"
   },
   {
    "duration": 31,
    "start_time": "2023-03-16T17:23:51.891Z"
   },
   {
    "duration": 53,
    "start_time": "2023-03-16T17:23:51.924Z"
   },
   {
    "duration": 123,
    "start_time": "2023-03-16T17:23:51.980Z"
   },
   {
    "duration": 5,
    "start_time": "2023-03-16T17:23:52.105Z"
   },
   {
    "duration": 16,
    "start_time": "2023-03-16T17:23:52.112Z"
   },
   {
    "duration": 33,
    "start_time": "2023-03-16T17:23:52.131Z"
   },
   {
    "duration": 250,
    "start_time": "2023-03-16T17:23:52.168Z"
   },
   {
    "duration": 7,
    "start_time": "2023-03-16T17:23:52.420Z"
   },
   {
    "duration": 68,
    "start_time": "2023-03-16T17:23:52.429Z"
   },
   {
    "duration": 11,
    "start_time": "2023-03-16T17:23:52.500Z"
   },
   {
    "duration": 16,
    "start_time": "2023-03-16T17:23:52.513Z"
   },
   {
    "duration": 35,
    "start_time": "2023-03-16T17:23:52.531Z"
   },
   {
    "duration": 32,
    "start_time": "2023-03-16T17:23:52.569Z"
   },
   {
    "duration": 53,
    "start_time": "2023-03-16T17:23:52.604Z"
   },
   {
    "duration": 54,
    "start_time": "2023-03-16T17:23:52.659Z"
   },
   {
    "duration": 8,
    "start_time": "2023-03-16T17:23:52.714Z"
   },
   {
    "duration": 9,
    "start_time": "2023-03-16T17:23:52.724Z"
   },
   {
    "duration": 29,
    "start_time": "2023-03-16T17:23:52.735Z"
   },
   {
    "duration": 11,
    "start_time": "2023-03-16T17:23:52.766Z"
   },
   {
    "duration": 27,
    "start_time": "2023-03-16T17:23:52.779Z"
   },
   {
    "duration": 20,
    "start_time": "2023-03-16T17:23:52.808Z"
   },
   {
    "duration": 23,
    "start_time": "2023-03-16T17:23:52.831Z"
   },
   {
    "duration": 25,
    "start_time": "2023-03-16T17:23:52.856Z"
   },
   {
    "duration": 12,
    "start_time": "2023-03-16T17:23:52.883Z"
   },
   {
    "duration": 12,
    "start_time": "2023-03-16T17:23:52.897Z"
   },
   {
    "duration": 12,
    "start_time": "2023-03-16T17:23:52.911Z"
   },
   {
    "duration": 15,
    "start_time": "2023-03-16T17:23:52.927Z"
   },
   {
    "duration": 58,
    "start_time": "2023-03-16T17:23:52.944Z"
   },
   {
    "duration": 8,
    "start_time": "2023-03-16T17:23:53.004Z"
   },
   {
    "duration": 226,
    "start_time": "2023-03-16T17:23:53.015Z"
   },
   {
    "duration": 43,
    "start_time": "2023-03-16T17:23:53.244Z"
   },
   {
    "duration": 17,
    "start_time": "2023-03-16T17:23:53.291Z"
   },
   {
    "duration": 7,
    "start_time": "2023-03-16T17:23:53.311Z"
   },
   {
    "duration": 42,
    "start_time": "2023-03-16T17:23:53.322Z"
   },
   {
    "duration": 15,
    "start_time": "2023-03-16T17:23:53.366Z"
   },
   {
    "duration": 43,
    "start_time": "2023-03-16T17:23:53.383Z"
   },
   {
    "duration": 53,
    "start_time": "2023-03-16T17:23:53.428Z"
   },
   {
    "duration": 18,
    "start_time": "2023-03-16T17:23:53.484Z"
   },
   {
    "duration": 43,
    "start_time": "2023-03-16T17:23:53.505Z"
   },
   {
    "duration": 133,
    "start_time": "2023-03-16T17:23:53.549Z"
   },
   {
    "duration": 31,
    "start_time": "2023-03-16T17:24:42.180Z"
   },
   {
    "duration": 26,
    "start_time": "2023-03-16T17:24:51.094Z"
   },
   {
    "duration": 26,
    "start_time": "2023-03-16T17:25:12.276Z"
   },
   {
    "duration": 9,
    "start_time": "2023-03-16T17:25:34.908Z"
   },
   {
    "duration": 30,
    "start_time": "2023-03-16T17:29:06.338Z"
   },
   {
    "duration": 138,
    "start_time": "2023-03-16T17:32:06.690Z"
   },
   {
    "duration": 17,
    "start_time": "2023-03-16T17:32:47.079Z"
   },
   {
    "duration": 24,
    "start_time": "2023-03-16T17:32:48.895Z"
   },
   {
    "duration": 9,
    "start_time": "2023-03-16T17:33:11.896Z"
   },
   {
    "duration": 133,
    "start_time": "2023-03-16T17:35:25.139Z"
   },
   {
    "duration": 4,
    "start_time": "2023-03-16T17:35:30.892Z"
   },
   {
    "duration": 644,
    "start_time": "2023-03-16T17:35:30.898Z"
   },
   {
    "duration": 16,
    "start_time": "2023-03-16T17:35:31.544Z"
   },
   {
    "duration": 90,
    "start_time": "2023-03-16T17:35:31.562Z"
   },
   {
    "duration": 49,
    "start_time": "2023-03-16T17:35:31.654Z"
   },
   {
    "duration": 24,
    "start_time": "2023-03-16T17:35:31.705Z"
   },
   {
    "duration": 130,
    "start_time": "2023-03-16T17:35:31.731Z"
   },
   {
    "duration": 40,
    "start_time": "2023-03-16T17:35:31.863Z"
   },
   {
    "duration": 47,
    "start_time": "2023-03-16T17:35:31.905Z"
   },
   {
    "duration": 73,
    "start_time": "2023-03-16T17:35:31.954Z"
   },
   {
    "duration": 125,
    "start_time": "2023-03-16T17:35:32.029Z"
   },
   {
    "duration": 35,
    "start_time": "2023-03-16T17:35:32.156Z"
   },
   {
    "duration": 33,
    "start_time": "2023-03-16T17:35:32.193Z"
   },
   {
    "duration": 31,
    "start_time": "2023-03-16T17:35:32.229Z"
   },
   {
    "duration": 260,
    "start_time": "2023-03-16T17:35:32.262Z"
   },
   {
    "duration": 7,
    "start_time": "2023-03-16T17:35:32.524Z"
   },
   {
    "duration": 68,
    "start_time": "2023-03-16T17:35:32.532Z"
   },
   {
    "duration": 12,
    "start_time": "2023-03-16T17:35:32.603Z"
   },
   {
    "duration": 17,
    "start_time": "2023-03-16T17:35:32.617Z"
   },
   {
    "duration": 26,
    "start_time": "2023-03-16T17:35:32.636Z"
   },
   {
    "duration": 24,
    "start_time": "2023-03-16T17:35:32.672Z"
   },
   {
    "duration": 57,
    "start_time": "2023-03-16T17:35:32.697Z"
   },
   {
    "duration": 60,
    "start_time": "2023-03-16T17:35:32.756Z"
   },
   {
    "duration": 8,
    "start_time": "2023-03-16T17:35:32.817Z"
   },
   {
    "duration": 10,
    "start_time": "2023-03-16T17:35:32.827Z"
   },
   {
    "duration": 11,
    "start_time": "2023-03-16T17:35:32.839Z"
   },
   {
    "duration": 33,
    "start_time": "2023-03-16T17:35:32.865Z"
   },
   {
    "duration": 48,
    "start_time": "2023-03-16T17:35:32.900Z"
   },
   {
    "duration": 3,
    "start_time": "2023-03-16T17:35:32.950Z"
   },
   {
    "duration": 48,
    "start_time": "2023-03-16T17:35:32.955Z"
   },
   {
    "duration": 27,
    "start_time": "2023-03-16T17:35:33.005Z"
   },
   {
    "duration": 39,
    "start_time": "2023-03-16T17:35:33.034Z"
   },
   {
    "duration": 27,
    "start_time": "2023-03-16T17:35:33.082Z"
   },
   {
    "duration": 15,
    "start_time": "2023-03-16T17:35:33.112Z"
   },
   {
    "duration": 7,
    "start_time": "2023-03-16T17:35:33.129Z"
   },
   {
    "duration": 55,
    "start_time": "2023-03-16T17:35:33.138Z"
   },
   {
    "duration": 6,
    "start_time": "2023-03-16T17:35:33.195Z"
   },
   {
    "duration": 190,
    "start_time": "2023-03-16T17:35:33.204Z"
   },
   {
    "duration": 23,
    "start_time": "2023-03-16T17:35:33.396Z"
   },
   {
    "duration": 33,
    "start_time": "2023-03-16T17:35:33.421Z"
   },
   {
    "duration": 9,
    "start_time": "2023-03-16T17:35:33.460Z"
   },
   {
    "duration": 51,
    "start_time": "2023-03-16T17:35:33.471Z"
   },
   {
    "duration": 15,
    "start_time": "2023-03-16T17:35:33.524Z"
   },
   {
    "duration": 58,
    "start_time": "2023-03-16T17:35:33.541Z"
   },
   {
    "duration": 36,
    "start_time": "2023-03-16T17:35:33.601Z"
   },
   {
    "duration": 13,
    "start_time": "2023-03-16T17:35:33.639Z"
   },
   {
    "duration": 52,
    "start_time": "2023-03-16T17:35:33.654Z"
   },
   {
    "duration": 44,
    "start_time": "2023-03-16T17:35:33.709Z"
   },
   {
    "duration": 15,
    "start_time": "2023-03-16T17:35:33.755Z"
   },
   {
    "duration": 88,
    "start_time": "2023-03-16T17:35:33.773Z"
   },
   {
    "duration": 141,
    "start_time": "2023-03-16T17:35:33.864Z"
   },
   {
    "duration": 25,
    "start_time": "2023-03-16T17:36:23.592Z"
   },
   {
    "duration": 36,
    "start_time": "2023-03-16T17:36:32.453Z"
   },
   {
    "duration": 73,
    "start_time": "2023-03-16T17:37:57.558Z"
   },
   {
    "duration": 55,
    "start_time": "2023-03-16T17:38:20.459Z"
   },
   {
    "duration": 251,
    "start_time": "2023-03-16T17:40:15.208Z"
   },
   {
    "duration": 50,
    "start_time": "2023-03-16T17:40:22.348Z"
   },
   {
    "duration": 44,
    "start_time": "2023-03-16T17:41:17.389Z"
   },
   {
    "duration": 51,
    "start_time": "2023-03-16T17:41:53.745Z"
   },
   {
    "duration": 132,
    "start_time": "2023-03-16T17:43:06.796Z"
   },
   {
    "duration": 5,
    "start_time": "2023-03-16T17:43:15.988Z"
   },
   {
    "duration": 605,
    "start_time": "2023-03-16T17:43:15.997Z"
   },
   {
    "duration": 16,
    "start_time": "2023-03-16T17:43:16.604Z"
   },
   {
    "duration": 92,
    "start_time": "2023-03-16T17:43:16.622Z"
   },
   {
    "duration": 32,
    "start_time": "2023-03-16T17:43:16.717Z"
   },
   {
    "duration": 3,
    "start_time": "2023-03-16T17:43:16.752Z"
   },
   {
    "duration": 137,
    "start_time": "2023-03-16T17:43:16.757Z"
   },
   {
    "duration": 19,
    "start_time": "2023-03-16T17:43:16.896Z"
   },
   {
    "duration": 35,
    "start_time": "2023-03-16T17:43:16.917Z"
   },
   {
    "duration": 60,
    "start_time": "2023-03-16T17:43:16.953Z"
   },
   {
    "duration": 120,
    "start_time": "2023-03-16T17:43:17.015Z"
   },
   {
    "duration": 4,
    "start_time": "2023-03-16T17:43:17.137Z"
   },
   {
    "duration": 14,
    "start_time": "2023-03-16T17:43:17.143Z"
   },
   {
    "duration": 34,
    "start_time": "2023-03-16T17:43:17.248Z"
   },
   {
    "duration": 212,
    "start_time": "2023-03-16T17:43:17.288Z"
   },
   {
    "duration": 6,
    "start_time": "2023-03-16T17:43:17.503Z"
   },
   {
    "duration": 60,
    "start_time": "2023-03-16T17:43:17.512Z"
   },
   {
    "duration": 23,
    "start_time": "2023-03-16T17:43:17.574Z"
   },
   {
    "duration": 14,
    "start_time": "2023-03-16T17:43:17.599Z"
   },
   {
    "duration": 16,
    "start_time": "2023-03-16T17:43:17.616Z"
   },
   {
    "duration": 12,
    "start_time": "2023-03-16T17:43:17.634Z"
   },
   {
    "duration": 69,
    "start_time": "2023-03-16T17:43:17.648Z"
   },
   {
    "duration": 69,
    "start_time": "2023-03-16T17:43:17.719Z"
   },
   {
    "duration": 8,
    "start_time": "2023-03-16T17:43:17.791Z"
   },
   {
    "duration": 10,
    "start_time": "2023-03-16T17:43:17.801Z"
   },
   {
    "duration": 10,
    "start_time": "2023-03-16T17:43:17.813Z"
   },
   {
    "duration": 18,
    "start_time": "2023-03-16T17:43:17.825Z"
   },
   {
    "duration": 29,
    "start_time": "2023-03-16T17:43:17.845Z"
   },
   {
    "duration": 13,
    "start_time": "2023-03-16T17:43:17.877Z"
   },
   {
    "duration": 17,
    "start_time": "2023-03-16T17:43:17.893Z"
   },
   {
    "duration": 6,
    "start_time": "2023-03-16T17:43:17.912Z"
   },
   {
    "duration": 6,
    "start_time": "2023-03-16T17:43:17.920Z"
   },
   {
    "duration": 48,
    "start_time": "2023-03-16T17:43:17.928Z"
   },
   {
    "duration": 10,
    "start_time": "2023-03-16T17:43:17.982Z"
   },
   {
    "duration": 13,
    "start_time": "2023-03-16T17:43:17.995Z"
   },
   {
    "duration": 36,
    "start_time": "2023-03-16T17:43:18.010Z"
   },
   {
    "duration": 6,
    "start_time": "2023-03-16T17:43:18.048Z"
   },
   {
    "duration": 196,
    "start_time": "2023-03-16T17:43:18.056Z"
   },
   {
    "duration": 42,
    "start_time": "2023-03-16T17:43:18.253Z"
   },
   {
    "duration": 14,
    "start_time": "2023-03-16T17:43:18.297Z"
   },
   {
    "duration": 6,
    "start_time": "2023-03-16T17:43:18.316Z"
   },
   {
    "duration": 56,
    "start_time": "2023-03-16T17:43:18.324Z"
   },
   {
    "duration": 13,
    "start_time": "2023-03-16T17:43:18.388Z"
   },
   {
    "duration": 34,
    "start_time": "2023-03-16T17:43:18.404Z"
   },
   {
    "duration": 42,
    "start_time": "2023-03-16T17:43:18.440Z"
   },
   {
    "duration": 16,
    "start_time": "2023-03-16T17:43:18.484Z"
   },
   {
    "duration": 38,
    "start_time": "2023-03-16T17:43:18.503Z"
   },
   {
    "duration": 161,
    "start_time": "2023-03-16T17:43:18.543Z"
   },
   {
    "duration": 85,
    "start_time": "2023-03-16T17:44:52.012Z"
   },
   {
    "duration": 7,
    "start_time": "2023-03-16T17:51:39.781Z"
   },
   {
    "duration": 610,
    "start_time": "2023-03-16T17:51:39.797Z"
   },
   {
    "duration": 17,
    "start_time": "2023-03-16T17:51:40.410Z"
   },
   {
    "duration": 82,
    "start_time": "2023-03-16T17:51:40.429Z"
   },
   {
    "duration": 29,
    "start_time": "2023-03-16T17:51:40.514Z"
   },
   {
    "duration": 4,
    "start_time": "2023-03-16T17:51:40.546Z"
   },
   {
    "duration": 113,
    "start_time": "2023-03-16T17:51:40.552Z"
   },
   {
    "duration": 32,
    "start_time": "2023-03-16T17:51:40.669Z"
   },
   {
    "duration": 33,
    "start_time": "2023-03-16T17:51:40.703Z"
   },
   {
    "duration": 40,
    "start_time": "2023-03-16T17:51:40.738Z"
   },
   {
    "duration": 131,
    "start_time": "2023-03-16T17:51:40.782Z"
   },
   {
    "duration": 4,
    "start_time": "2023-03-16T17:51:40.915Z"
   },
   {
    "duration": 10,
    "start_time": "2023-03-16T17:51:40.921Z"
   },
   {
    "duration": 31,
    "start_time": "2023-03-16T17:51:40.933Z"
   },
   {
    "duration": 245,
    "start_time": "2023-03-16T17:51:40.971Z"
   },
   {
    "duration": 6,
    "start_time": "2023-03-16T17:51:41.218Z"
   },
   {
    "duration": 63,
    "start_time": "2023-03-16T17:51:41.226Z"
   },
   {
    "duration": 11,
    "start_time": "2023-03-16T17:51:41.294Z"
   },
   {
    "duration": 6,
    "start_time": "2023-03-16T17:51:41.306Z"
   },
   {
    "duration": 14,
    "start_time": "2023-03-16T17:51:41.314Z"
   },
   {
    "duration": 10,
    "start_time": "2023-03-16T17:51:41.330Z"
   },
   {
    "duration": 61,
    "start_time": "2023-03-16T17:51:41.366Z"
   },
   {
    "duration": 70,
    "start_time": "2023-03-16T17:51:41.429Z"
   },
   {
    "duration": 8,
    "start_time": "2023-03-16T17:51:41.501Z"
   },
   {
    "duration": 8,
    "start_time": "2023-03-16T17:51:41.511Z"
   },
   {
    "duration": 8,
    "start_time": "2023-03-16T17:51:41.521Z"
   },
   {
    "duration": 37,
    "start_time": "2023-03-16T17:51:41.531Z"
   },
   {
    "duration": 30,
    "start_time": "2023-03-16T17:51:41.570Z"
   },
   {
    "duration": 3,
    "start_time": "2023-03-16T17:51:41.603Z"
   },
   {
    "duration": 23,
    "start_time": "2023-03-16T17:51:41.608Z"
   },
   {
    "duration": 20,
    "start_time": "2023-03-16T17:51:41.633Z"
   },
   {
    "duration": 14,
    "start_time": "2023-03-16T17:51:41.655Z"
   },
   {
    "duration": 33,
    "start_time": "2023-03-16T17:51:41.671Z"
   },
   {
    "duration": 9,
    "start_time": "2023-03-16T17:51:41.705Z"
   },
   {
    "duration": 10,
    "start_time": "2023-03-16T17:51:41.716Z"
   },
   {
    "duration": 34,
    "start_time": "2023-03-16T17:51:41.728Z"
   },
   {
    "duration": 12,
    "start_time": "2023-03-16T17:51:41.764Z"
   },
   {
    "duration": 204,
    "start_time": "2023-03-16T17:51:41.780Z"
   },
   {
    "duration": 27,
    "start_time": "2023-03-16T17:51:41.991Z"
   },
   {
    "duration": 6,
    "start_time": "2023-03-16T17:51:42.020Z"
   },
   {
    "duration": 21,
    "start_time": "2023-03-16T17:51:42.028Z"
   },
   {
    "duration": 34,
    "start_time": "2023-03-16T17:51:42.053Z"
   },
   {
    "duration": 28,
    "start_time": "2023-03-16T17:51:42.092Z"
   },
   {
    "duration": 30,
    "start_time": "2023-03-16T17:51:42.122Z"
   },
   {
    "duration": 29,
    "start_time": "2023-03-16T17:51:42.154Z"
   },
   {
    "duration": 48,
    "start_time": "2023-03-16T17:51:42.186Z"
   },
   {
    "duration": 123,
    "start_time": "2023-03-16T17:51:42.236Z"
   },
   {
    "duration": 1334,
    "start_time": "2023-03-16T17:51:52.713Z"
   },
   {
    "duration": 628,
    "start_time": "2023-03-16T17:51:54.049Z"
   },
   {
    "duration": 20,
    "start_time": "2023-03-16T17:51:54.682Z"
   },
   {
    "duration": 105,
    "start_time": "2023-03-16T17:51:54.704Z"
   },
   {
    "duration": 31,
    "start_time": "2023-03-16T17:51:54.813Z"
   },
   {
    "duration": 4,
    "start_time": "2023-03-16T17:51:54.846Z"
   },
   {
    "duration": 146,
    "start_time": "2023-03-16T17:51:54.852Z"
   },
   {
    "duration": 23,
    "start_time": "2023-03-16T17:51:55.001Z"
   },
   {
    "duration": 54,
    "start_time": "2023-03-16T17:51:55.026Z"
   },
   {
    "duration": 28,
    "start_time": "2023-03-16T17:51:55.082Z"
   },
   {
    "duration": 163,
    "start_time": "2023-03-16T17:51:55.112Z"
   },
   {
    "duration": 6,
    "start_time": "2023-03-16T17:51:55.277Z"
   },
   {
    "duration": 26,
    "start_time": "2023-03-16T17:51:55.286Z"
   },
   {
    "duration": 14,
    "start_time": "2023-03-16T17:51:55.316Z"
   },
   {
    "duration": 269,
    "start_time": "2023-03-16T17:51:55.332Z"
   },
   {
    "duration": 7,
    "start_time": "2023-03-16T17:51:55.603Z"
   },
   {
    "duration": 39,
    "start_time": "2023-03-16T17:51:55.611Z"
   },
   {
    "duration": 17,
    "start_time": "2023-03-16T17:51:55.665Z"
   },
   {
    "duration": 21,
    "start_time": "2023-03-16T17:51:55.685Z"
   },
   {
    "duration": 12,
    "start_time": "2023-03-16T17:51:55.709Z"
   },
   {
    "duration": 16,
    "start_time": "2023-03-16T17:51:55.723Z"
   },
   {
    "duration": 71,
    "start_time": "2023-03-16T17:51:55.741Z"
   },
   {
    "duration": 104,
    "start_time": "2023-03-16T17:51:55.813Z"
   },
   {
    "duration": 7,
    "start_time": "2023-03-16T17:51:55.919Z"
   },
   {
    "duration": 10,
    "start_time": "2023-03-16T17:51:55.927Z"
   },
   {
    "duration": 12,
    "start_time": "2023-03-16T17:51:55.939Z"
   },
   {
    "duration": 19,
    "start_time": "2023-03-16T17:51:55.954Z"
   },
   {
    "duration": 62,
    "start_time": "2023-03-16T17:51:55.975Z"
   },
   {
    "duration": 9,
    "start_time": "2023-03-16T17:51:56.040Z"
   },
   {
    "duration": 16,
    "start_time": "2023-03-16T17:51:56.051Z"
   },
   {
    "duration": 6,
    "start_time": "2023-03-16T17:51:56.074Z"
   },
   {
    "duration": 18,
    "start_time": "2023-03-16T17:51:56.082Z"
   },
   {
    "duration": 9,
    "start_time": "2023-03-16T17:51:56.102Z"
   },
   {
    "duration": 6,
    "start_time": "2023-03-16T17:51:56.113Z"
   },
   {
    "duration": 7,
    "start_time": "2023-03-16T17:51:56.121Z"
   },
   {
    "duration": 62,
    "start_time": "2023-03-16T17:51:56.130Z"
   },
   {
    "duration": 6,
    "start_time": "2023-03-16T17:51:56.195Z"
   },
   {
    "duration": 219,
    "start_time": "2023-03-16T17:51:56.202Z"
   },
   {
    "duration": 23,
    "start_time": "2023-03-16T17:51:56.423Z"
   },
   {
    "duration": 22,
    "start_time": "2023-03-16T17:51:56.448Z"
   },
   {
    "duration": 30,
    "start_time": "2023-03-16T17:51:56.477Z"
   },
   {
    "duration": 14,
    "start_time": "2023-03-16T17:51:56.509Z"
   },
   {
    "duration": 58,
    "start_time": "2023-03-16T17:51:56.525Z"
   },
   {
    "duration": 37,
    "start_time": "2023-03-16T17:51:56.585Z"
   },
   {
    "duration": 15,
    "start_time": "2023-03-16T17:51:56.624Z"
   },
   {
    "duration": 96,
    "start_time": "2023-03-16T17:51:56.642Z"
   },
   {
    "duration": 156,
    "start_time": "2023-03-16T17:51:56.742Z"
   },
   {
    "duration": 138,
    "start_time": "2023-03-16T17:52:28.661Z"
   },
   {
    "duration": 25,
    "start_time": "2023-03-16T17:53:26.629Z"
   },
   {
    "duration": 8,
    "start_time": "2023-03-16T17:55:22.897Z"
   },
   {
    "duration": 1543,
    "start_time": "2023-03-18T14:27:45.408Z"
   },
   {
    "duration": 864,
    "start_time": "2023-03-18T14:27:46.956Z"
   },
   {
    "duration": 75,
    "start_time": "2023-03-18T14:27:47.821Z"
   },
   {
    "duration": 154,
    "start_time": "2023-03-18T14:27:47.904Z"
   },
   {
    "duration": 103,
    "start_time": "2023-03-18T14:27:48.060Z"
   },
   {
    "duration": 4,
    "start_time": "2023-03-18T14:27:48.165Z"
   },
   {
    "duration": 137,
    "start_time": "2023-03-18T14:27:48.171Z"
   },
   {
    "duration": 17,
    "start_time": "2023-03-18T14:27:48.310Z"
   },
   {
    "duration": 32,
    "start_time": "2023-03-18T14:27:48.329Z"
   },
   {
    "duration": 34,
    "start_time": "2023-03-18T14:27:48.362Z"
   },
   {
    "duration": 140,
    "start_time": "2023-03-18T14:27:48.398Z"
   },
   {
    "duration": 4,
    "start_time": "2023-03-18T14:27:48.540Z"
   },
   {
    "duration": 10,
    "start_time": "2023-03-18T14:27:48.546Z"
   },
   {
    "duration": 33,
    "start_time": "2023-03-18T14:27:48.559Z"
   },
   {
    "duration": 249,
    "start_time": "2023-03-18T14:27:48.596Z"
   },
   {
    "duration": 8,
    "start_time": "2023-03-18T14:27:48.847Z"
   },
   {
    "duration": 52,
    "start_time": "2023-03-18T14:27:48.857Z"
   },
   {
    "duration": 12,
    "start_time": "2023-03-18T14:27:48.912Z"
   },
   {
    "duration": 8,
    "start_time": "2023-03-18T14:27:48.927Z"
   },
   {
    "duration": 48,
    "start_time": "2023-03-18T14:27:48.937Z"
   },
   {
    "duration": 34,
    "start_time": "2023-03-18T14:27:48.986Z"
   },
   {
    "duration": 62,
    "start_time": "2023-03-18T14:27:49.023Z"
   },
   {
    "duration": 64,
    "start_time": "2023-03-18T14:27:49.096Z"
   },
   {
    "duration": 7,
    "start_time": "2023-03-18T14:27:49.161Z"
   },
   {
    "duration": 10,
    "start_time": "2023-03-18T14:27:49.170Z"
   },
   {
    "duration": 36,
    "start_time": "2023-03-18T14:27:49.181Z"
   },
   {
    "duration": 15,
    "start_time": "2023-03-18T14:27:49.219Z"
   },
   {
    "duration": 24,
    "start_time": "2023-03-18T14:27:49.235Z"
   },
   {
    "duration": 3,
    "start_time": "2023-03-18T14:27:49.261Z"
   },
   {
    "duration": 22,
    "start_time": "2023-03-18T14:27:49.266Z"
   },
   {
    "duration": 22,
    "start_time": "2023-03-18T14:27:49.290Z"
   },
   {
    "duration": 6,
    "start_time": "2023-03-18T14:27:49.314Z"
   },
   {
    "duration": 8,
    "start_time": "2023-03-18T14:27:49.322Z"
   },
   {
    "duration": 6,
    "start_time": "2023-03-18T14:27:49.331Z"
   },
   {
    "duration": 8,
    "start_time": "2023-03-18T14:27:49.339Z"
   },
   {
    "duration": 59,
    "start_time": "2023-03-18T14:27:49.349Z"
   },
   {
    "duration": 6,
    "start_time": "2023-03-18T14:27:49.410Z"
   },
   {
    "duration": 183,
    "start_time": "2023-03-18T14:27:49.418Z"
   },
   {
    "duration": 21,
    "start_time": "2023-03-18T14:27:49.604Z"
   },
   {
    "duration": 11,
    "start_time": "2023-03-18T14:27:49.627Z"
   },
   {
    "duration": 6,
    "start_time": "2023-03-18T14:27:49.644Z"
   },
   {
    "duration": 48,
    "start_time": "2023-03-18T14:27:49.652Z"
   },
   {
    "duration": 13,
    "start_time": "2023-03-18T14:27:49.708Z"
   },
   {
    "duration": 26,
    "start_time": "2023-03-18T14:27:49.723Z"
   },
   {
    "duration": 59,
    "start_time": "2023-03-18T14:27:49.751Z"
   },
   {
    "duration": 13,
    "start_time": "2023-03-18T14:27:49.811Z"
   },
   {
    "duration": 35,
    "start_time": "2023-03-18T14:27:49.826Z"
   },
   {
    "duration": 147,
    "start_time": "2023-03-18T14:27:49.863Z"
   },
   {
    "duration": 27,
    "start_time": "2023-03-18T15:05:51.901Z"
   },
   {
    "duration": 13,
    "start_time": "2023-03-18T15:05:55.495Z"
   },
   {
    "duration": 31,
    "start_time": "2023-03-18T15:06:05.804Z"
   },
   {
    "duration": 11,
    "start_time": "2023-03-18T15:06:08.095Z"
   },
   {
    "duration": 353,
    "start_time": "2023-03-18T15:07:13.349Z"
   },
   {
    "duration": 12,
    "start_time": "2023-03-18T15:07:19.690Z"
   },
   {
    "duration": 21,
    "start_time": "2023-03-18T15:07:45.039Z"
   },
   {
    "duration": 14,
    "start_time": "2023-03-18T15:07:46.897Z"
   },
   {
    "duration": 290,
    "start_time": "2023-03-18T15:08:05.548Z"
   },
   {
    "duration": 12,
    "start_time": "2023-03-18T15:08:06.658Z"
   },
   {
    "duration": 21,
    "start_time": "2023-03-18T15:08:13.939Z"
   },
   {
    "duration": 20,
    "start_time": "2023-03-18T15:08:22.646Z"
   },
   {
    "duration": 11,
    "start_time": "2023-03-18T15:08:25.230Z"
   },
   {
    "duration": 116,
    "start_time": "2023-03-18T15:08:45.989Z"
   },
   {
    "duration": 326,
    "start_time": "2023-03-18T15:09:27.281Z"
   },
   {
    "duration": 365,
    "start_time": "2023-03-18T15:11:27.522Z"
   },
   {
    "duration": 17,
    "start_time": "2023-03-18T15:11:42.807Z"
   },
   {
    "duration": 22,
    "start_time": "2023-03-18T15:12:45.797Z"
   },
   {
    "duration": 15,
    "start_time": "2023-03-18T15:12:47.141Z"
   },
   {
    "duration": 22,
    "start_time": "2023-03-18T15:12:49.616Z"
   },
   {
    "duration": 411,
    "start_time": "2023-03-18T15:15:33.746Z"
   },
   {
    "duration": 18,
    "start_time": "2023-03-18T15:16:07.602Z"
   },
   {
    "duration": 21,
    "start_time": "2023-03-18T15:16:10.104Z"
   },
   {
    "duration": 339,
    "start_time": "2023-03-18T15:16:11.295Z"
   },
   {
    "duration": 356,
    "start_time": "2023-03-18T15:16:14.507Z"
   },
   {
    "duration": 371,
    "start_time": "2023-03-18T15:17:07.503Z"
   },
   {
    "duration": 443,
    "start_time": "2023-03-18T15:17:18.961Z"
   },
   {
    "duration": 466,
    "start_time": "2023-03-18T15:17:24.893Z"
   },
   {
    "duration": 398,
    "start_time": "2023-03-18T15:18:34.254Z"
   },
   {
    "duration": 371,
    "start_time": "2023-03-18T15:19:25.501Z"
   },
   {
    "duration": 418,
    "start_time": "2023-03-18T15:19:37.004Z"
   },
   {
    "duration": 367,
    "start_time": "2023-03-18T15:19:58.391Z"
   },
   {
    "duration": 10,
    "start_time": "2023-03-18T15:22:23.253Z"
   },
   {
    "duration": 5,
    "start_time": "2023-03-18T15:22:44.925Z"
   },
   {
    "duration": 9,
    "start_time": "2023-03-18T15:22:48.136Z"
   },
   {
    "duration": 8,
    "start_time": "2023-03-18T15:23:07.758Z"
   },
   {
    "duration": 9,
    "start_time": "2023-03-18T15:23:16.733Z"
   },
   {
    "duration": 8,
    "start_time": "2023-03-18T15:27:01.062Z"
   },
   {
    "duration": 534,
    "start_time": "2023-03-18T15:27:30.416Z"
   },
   {
    "duration": 284,
    "start_time": "2023-03-18T15:27:37.613Z"
   },
   {
    "duration": 444,
    "start_time": "2023-03-18T15:27:47.797Z"
   },
   {
    "duration": 401,
    "start_time": "2023-03-18T15:27:54.220Z"
   },
   {
    "duration": 384,
    "start_time": "2023-03-18T15:28:08.413Z"
   },
   {
    "duration": 438,
    "start_time": "2023-03-18T15:29:02.116Z"
   },
   {
    "duration": 502,
    "start_time": "2023-03-18T15:32:56.701Z"
   },
   {
    "duration": 389,
    "start_time": "2023-03-18T15:33:06.960Z"
   },
   {
    "duration": 398,
    "start_time": "2023-03-18T15:33:35.843Z"
   },
   {
    "duration": 26,
    "start_time": "2023-03-18T15:41:31.125Z"
   },
   {
    "duration": 15,
    "start_time": "2023-03-18T15:41:35.062Z"
   },
   {
    "duration": 908,
    "start_time": "2023-03-18T15:42:54.340Z"
   },
   {
    "duration": 24,
    "start_time": "2023-03-18T15:43:22.094Z"
   },
   {
    "duration": 1006,
    "start_time": "2023-03-18T15:43:27.152Z"
   },
   {
    "duration": 788,
    "start_time": "2023-03-18T15:43:32.998Z"
   },
   {
    "duration": 15,
    "start_time": "2023-03-18T15:44:49.543Z"
   },
   {
    "duration": 149,
    "start_time": "2023-03-18T15:47:43.199Z"
   },
   {
    "duration": 541,
    "start_time": "2023-03-18T15:47:52.453Z"
   },
   {
    "duration": 5,
    "start_time": "2023-03-18T15:47:55.608Z"
   },
   {
    "duration": 556,
    "start_time": "2023-03-18T15:47:55.616Z"
   },
   {
    "duration": 17,
    "start_time": "2023-03-18T15:47:56.174Z"
   },
   {
    "duration": 67,
    "start_time": "2023-03-18T15:47:56.193Z"
   },
   {
    "duration": 40,
    "start_time": "2023-03-18T15:47:56.265Z"
   },
   {
    "duration": 4,
    "start_time": "2023-03-18T15:47:56.308Z"
   },
   {
    "duration": 92,
    "start_time": "2023-03-18T15:47:56.314Z"
   },
   {
    "duration": 18,
    "start_time": "2023-03-18T15:47:56.408Z"
   },
   {
    "duration": 46,
    "start_time": "2023-03-18T15:47:56.429Z"
   },
   {
    "duration": 20,
    "start_time": "2023-03-18T15:47:56.477Z"
   },
   {
    "duration": 245,
    "start_time": "2023-03-18T15:47:56.499Z"
   },
   {
    "duration": 5,
    "start_time": "2023-03-18T15:47:56.746Z"
   },
   {
    "duration": 7,
    "start_time": "2023-03-18T15:47:56.753Z"
   },
   {
    "duration": 15,
    "start_time": "2023-03-18T15:47:56.774Z"
   },
   {
    "duration": 272,
    "start_time": "2023-03-18T15:47:56.791Z"
   },
   {
    "duration": 10,
    "start_time": "2023-03-18T15:47:57.065Z"
   },
   {
    "duration": 46,
    "start_time": "2023-03-18T15:47:57.078Z"
   },
   {
    "duration": 12,
    "start_time": "2023-03-18T15:47:57.126Z"
   },
   {
    "duration": 33,
    "start_time": "2023-03-18T15:47:57.141Z"
   },
   {
    "duration": 12,
    "start_time": "2023-03-18T15:47:57.176Z"
   },
   {
    "duration": 11,
    "start_time": "2023-03-18T15:47:57.190Z"
   },
   {
    "duration": 131,
    "start_time": "2023-03-18T15:47:57.204Z"
   },
   {
    "duration": 64,
    "start_time": "2023-03-18T15:47:57.338Z"
   },
   {
    "duration": 8,
    "start_time": "2023-03-18T15:47:57.404Z"
   },
   {
    "duration": 9,
    "start_time": "2023-03-18T15:47:57.415Z"
   },
   {
    "duration": 10,
    "start_time": "2023-03-18T15:47:57.427Z"
   },
   {
    "duration": 42,
    "start_time": "2023-03-18T15:47:57.440Z"
   },
   {
    "duration": 22,
    "start_time": "2023-03-18T15:47:57.483Z"
   },
   {
    "duration": 4,
    "start_time": "2023-03-18T15:47:57.507Z"
   },
   {
    "duration": 18,
    "start_time": "2023-03-18T15:47:57.513Z"
   },
   {
    "duration": 12,
    "start_time": "2023-03-18T15:47:57.533Z"
   },
   {
    "duration": 30,
    "start_time": "2023-03-18T15:47:57.547Z"
   },
   {
    "duration": 33,
    "start_time": "2023-03-18T15:47:57.578Z"
   },
   {
    "duration": 46,
    "start_time": "2023-03-18T15:47:57.613Z"
   },
   {
    "duration": 16,
    "start_time": "2023-03-18T15:47:57.661Z"
   },
   {
    "duration": 32,
    "start_time": "2023-03-18T15:47:57.679Z"
   },
   {
    "duration": 8,
    "start_time": "2023-03-18T15:47:57.713Z"
   },
   {
    "duration": 192,
    "start_time": "2023-03-18T15:47:57.723Z"
   },
   {
    "duration": 34,
    "start_time": "2023-03-18T15:47:57.918Z"
   },
   {
    "duration": 32,
    "start_time": "2023-03-18T15:47:57.953Z"
   },
   {
    "duration": 15,
    "start_time": "2023-03-18T15:47:57.990Z"
   },
   {
    "duration": 0,
    "start_time": "2023-03-18T15:47:58.008Z"
   },
   {
    "duration": 0,
    "start_time": "2023-03-18T15:47:58.009Z"
   },
   {
    "duration": 0,
    "start_time": "2023-03-18T15:47:58.011Z"
   },
   {
    "duration": 0,
    "start_time": "2023-03-18T15:47:58.012Z"
   },
   {
    "duration": 0,
    "start_time": "2023-03-18T15:47:58.013Z"
   },
   {
    "duration": 0,
    "start_time": "2023-03-18T15:47:58.015Z"
   },
   {
    "duration": 0,
    "start_time": "2023-03-18T15:47:58.016Z"
   },
   {
    "duration": 0,
    "start_time": "2023-03-18T15:47:58.017Z"
   },
   {
    "duration": 0,
    "start_time": "2023-03-18T15:47:58.019Z"
   },
   {
    "duration": 1,
    "start_time": "2023-03-18T15:47:58.020Z"
   },
   {
    "duration": 0,
    "start_time": "2023-03-18T15:47:58.022Z"
   },
   {
    "duration": 0,
    "start_time": "2023-03-18T15:47:58.024Z"
   },
   {
    "duration": 0,
    "start_time": "2023-03-18T15:47:58.073Z"
   },
   {
    "duration": 0,
    "start_time": "2023-03-18T15:47:58.074Z"
   },
   {
    "duration": 6,
    "start_time": "2023-03-18T15:48:22.340Z"
   },
   {
    "duration": 550,
    "start_time": "2023-03-18T15:48:22.348Z"
   },
   {
    "duration": 16,
    "start_time": "2023-03-18T15:48:22.900Z"
   },
   {
    "duration": 66,
    "start_time": "2023-03-18T15:48:22.920Z"
   },
   {
    "duration": 29,
    "start_time": "2023-03-18T15:48:22.989Z"
   },
   {
    "duration": 4,
    "start_time": "2023-03-18T15:48:23.020Z"
   },
   {
    "duration": 101,
    "start_time": "2023-03-18T15:48:23.026Z"
   },
   {
    "duration": 18,
    "start_time": "2023-03-18T15:48:23.129Z"
   },
   {
    "duration": 48,
    "start_time": "2023-03-18T15:48:23.149Z"
   },
   {
    "duration": 21,
    "start_time": "2023-03-18T15:48:23.200Z"
   },
   {
    "duration": 125,
    "start_time": "2023-03-18T15:48:23.223Z"
   },
   {
    "duration": 5,
    "start_time": "2023-03-18T15:48:23.351Z"
   },
   {
    "duration": 17,
    "start_time": "2023-03-18T15:48:23.358Z"
   },
   {
    "duration": 25,
    "start_time": "2023-03-18T15:48:23.378Z"
   },
   {
    "duration": 227,
    "start_time": "2023-03-18T15:48:23.406Z"
   },
   {
    "duration": 7,
    "start_time": "2023-03-18T15:48:23.635Z"
   },
   {
    "duration": 52,
    "start_time": "2023-03-18T15:48:23.644Z"
   },
   {
    "duration": 11,
    "start_time": "2023-03-18T15:48:23.698Z"
   },
   {
    "duration": 6,
    "start_time": "2023-03-18T15:48:23.710Z"
   },
   {
    "duration": 22,
    "start_time": "2023-03-18T15:48:23.718Z"
   },
   {
    "duration": 33,
    "start_time": "2023-03-18T15:48:23.743Z"
   },
   {
    "duration": 52,
    "start_time": "2023-03-18T15:48:23.778Z"
   },
   {
    "duration": 66,
    "start_time": "2023-03-18T15:48:23.832Z"
   },
   {
    "duration": 11,
    "start_time": "2023-03-18T15:48:23.901Z"
   },
   {
    "duration": 8,
    "start_time": "2023-03-18T15:48:23.915Z"
   },
   {
    "duration": 11,
    "start_time": "2023-03-18T15:48:23.925Z"
   },
   {
    "duration": 38,
    "start_time": "2023-03-18T15:48:23.938Z"
   },
   {
    "duration": 21,
    "start_time": "2023-03-18T15:48:23.981Z"
   },
   {
    "duration": 3,
    "start_time": "2023-03-18T15:48:24.004Z"
   },
   {
    "duration": 21,
    "start_time": "2023-03-18T15:48:24.010Z"
   },
   {
    "duration": 7,
    "start_time": "2023-03-18T15:48:24.033Z"
   },
   {
    "duration": 6,
    "start_time": "2023-03-18T15:48:24.072Z"
   },
   {
    "duration": 10,
    "start_time": "2023-03-18T15:48:24.080Z"
   },
   {
    "duration": 8,
    "start_time": "2023-03-18T15:48:24.092Z"
   },
   {
    "duration": 7,
    "start_time": "2023-03-18T15:48:24.102Z"
   },
   {
    "duration": 90,
    "start_time": "2023-03-18T15:48:24.111Z"
   },
   {
    "duration": 8,
    "start_time": "2023-03-18T15:48:24.203Z"
   },
   {
    "duration": 202,
    "start_time": "2023-03-18T15:48:24.213Z"
   },
   {
    "duration": 22,
    "start_time": "2023-03-18T15:48:24.418Z"
   },
   {
    "duration": 32,
    "start_time": "2023-03-18T15:48:24.441Z"
   },
   {
    "duration": 6,
    "start_time": "2023-03-18T15:48:24.475Z"
   },
   {
    "duration": 20,
    "start_time": "2023-03-18T15:48:24.482Z"
   },
   {
    "duration": 10,
    "start_time": "2023-03-18T15:48:24.504Z"
   },
   {
    "duration": 59,
    "start_time": "2023-03-18T15:48:24.516Z"
   },
   {
    "duration": 31,
    "start_time": "2023-03-18T15:48:24.577Z"
   },
   {
    "duration": 20,
    "start_time": "2023-03-18T15:48:24.611Z"
   },
   {
    "duration": 74,
    "start_time": "2023-03-18T15:48:24.634Z"
   },
   {
    "duration": 129,
    "start_time": "2023-03-18T15:48:24.711Z"
   },
   {
    "duration": 31,
    "start_time": "2023-03-18T15:48:24.842Z"
   },
   {
    "duration": 428,
    "start_time": "2023-03-18T15:48:24.875Z"
   },
   {
    "duration": 9,
    "start_time": "2023-03-18T15:48:25.305Z"
   },
   {
    "duration": 18,
    "start_time": "2023-03-18T15:48:25.315Z"
   },
   {
    "duration": 16,
    "start_time": "2023-03-18T15:48:25.336Z"
   },
   {
    "duration": 40,
    "start_time": "2023-03-18T15:48:25.354Z"
   },
   {
    "duration": 594,
    "start_time": "2023-03-18T15:48:25.396Z"
   },
   {
    "duration": 19,
    "start_time": "2023-03-18T15:49:10.108Z"
   },
   {
    "duration": 26,
    "start_time": "2023-03-18T15:49:11.702Z"
   },
   {
    "duration": 5228,
    "start_time": "2023-03-18T15:49:22.649Z"
   },
   {
    "duration": 287,
    "start_time": "2023-03-18T15:49:42.902Z"
   },
   {
    "duration": 772,
    "start_time": "2023-03-18T15:49:57.502Z"
   },
   {
    "duration": 14,
    "start_time": "2023-03-18T15:51:39.914Z"
   },
   {
    "duration": 468,
    "start_time": "2023-03-18T15:52:17.618Z"
   },
   {
    "duration": 619,
    "start_time": "2023-03-18T15:52:24.154Z"
   },
   {
    "duration": 563,
    "start_time": "2023-03-18T15:52:39.211Z"
   },
   {
    "duration": 4720,
    "start_time": "2023-03-18T15:52:49.914Z"
   },
   {
    "duration": 276,
    "start_time": "2023-03-18T15:53:45.624Z"
   },
   {
    "duration": 11,
    "start_time": "2023-03-18T15:55:23.106Z"
   },
   {
    "duration": 89,
    "start_time": "2023-03-18T15:56:24.795Z"
   },
   {
    "duration": 415,
    "start_time": "2023-03-18T15:56:29.351Z"
   },
   {
    "duration": 115,
    "start_time": "2023-03-18T15:57:43.260Z"
   },
   {
    "duration": 15,
    "start_time": "2023-03-18T15:57:53.498Z"
   },
   {
    "duration": 18,
    "start_time": "2023-03-18T15:58:17.116Z"
   },
   {
    "duration": 196,
    "start_time": "2023-03-18T16:01:53.505Z"
   },
   {
    "duration": 177,
    "start_time": "2023-03-18T16:02:11.202Z"
   },
   {
    "duration": 450,
    "start_time": "2023-03-18T16:02:22.665Z"
   },
   {
    "duration": 1304,
    "start_time": "2023-03-18T16:08:38.048Z"
   },
   {
    "duration": 511,
    "start_time": "2023-03-18T16:09:31.841Z"
   },
   {
    "duration": 546,
    "start_time": "2023-03-18T16:10:14.206Z"
   },
   {
    "duration": 495,
    "start_time": "2023-03-18T16:10:26.149Z"
   },
   {
    "duration": 6,
    "start_time": "2023-03-18T18:22:05.158Z"
   },
   {
    "duration": 593,
    "start_time": "2023-03-18T18:22:05.166Z"
   },
   {
    "duration": 18,
    "start_time": "2023-03-18T18:22:05.760Z"
   },
   {
    "duration": 71,
    "start_time": "2023-03-18T18:22:05.781Z"
   },
   {
    "duration": 29,
    "start_time": "2023-03-18T18:22:05.855Z"
   },
   {
    "duration": 5,
    "start_time": "2023-03-18T18:22:05.886Z"
   },
   {
    "duration": 144,
    "start_time": "2023-03-18T18:22:05.893Z"
   },
   {
    "duration": 36,
    "start_time": "2023-03-18T18:22:06.039Z"
   },
   {
    "duration": 30,
    "start_time": "2023-03-18T18:22:06.077Z"
   },
   {
    "duration": 29,
    "start_time": "2023-03-18T18:22:06.109Z"
   },
   {
    "duration": 165,
    "start_time": "2023-03-18T18:22:06.141Z"
   },
   {
    "duration": 6,
    "start_time": "2023-03-18T18:22:06.309Z"
   },
   {
    "duration": 6,
    "start_time": "2023-03-18T18:22:06.317Z"
   },
   {
    "duration": 16,
    "start_time": "2023-03-18T18:22:06.328Z"
   },
   {
    "duration": 272,
    "start_time": "2023-03-18T18:22:06.346Z"
   },
   {
    "duration": 6,
    "start_time": "2023-03-18T18:22:06.620Z"
   },
   {
    "duration": 54,
    "start_time": "2023-03-18T18:22:06.628Z"
   },
   {
    "duration": 19,
    "start_time": "2023-03-18T18:22:06.684Z"
   },
   {
    "duration": 10,
    "start_time": "2023-03-18T18:22:06.706Z"
   },
   {
    "duration": 11,
    "start_time": "2023-03-18T18:22:06.719Z"
   },
   {
    "duration": 45,
    "start_time": "2023-03-18T18:22:06.732Z"
   },
   {
    "duration": 53,
    "start_time": "2023-03-18T18:22:06.779Z"
   },
   {
    "duration": 70,
    "start_time": "2023-03-18T18:22:06.835Z"
   },
   {
    "duration": 8,
    "start_time": "2023-03-18T18:22:06.907Z"
   },
   {
    "duration": 10,
    "start_time": "2023-03-18T18:22:06.918Z"
   },
   {
    "duration": 14,
    "start_time": "2023-03-18T18:22:06.931Z"
   },
   {
    "duration": 28,
    "start_time": "2023-03-18T18:22:06.948Z"
   },
   {
    "duration": 21,
    "start_time": "2023-03-18T18:22:06.977Z"
   },
   {
    "duration": 3,
    "start_time": "2023-03-18T18:22:07.000Z"
   },
   {
    "duration": 18,
    "start_time": "2023-03-18T18:22:07.005Z"
   },
   {
    "duration": 12,
    "start_time": "2023-03-18T18:22:07.025Z"
   },
   {
    "duration": 5,
    "start_time": "2023-03-18T18:22:07.072Z"
   },
   {
    "duration": 15,
    "start_time": "2023-03-18T18:22:07.080Z"
   },
   {
    "duration": 12,
    "start_time": "2023-03-18T18:22:07.097Z"
   },
   {
    "duration": 23,
    "start_time": "2023-03-18T18:22:07.112Z"
   },
   {
    "duration": 53,
    "start_time": "2023-03-18T18:22:07.137Z"
   },
   {
    "duration": 7,
    "start_time": "2023-03-18T18:22:07.192Z"
   },
   {
    "duration": 258,
    "start_time": "2023-03-18T18:22:07.202Z"
   },
   {
    "duration": 32,
    "start_time": "2023-03-18T18:22:07.462Z"
   },
   {
    "duration": 12,
    "start_time": "2023-03-18T18:22:07.496Z"
   },
   {
    "duration": 9,
    "start_time": "2023-03-18T18:22:07.512Z"
   },
   {
    "duration": 49,
    "start_time": "2023-03-18T18:22:07.525Z"
   },
   {
    "duration": 10,
    "start_time": "2023-03-18T18:22:07.575Z"
   },
   {
    "duration": 33,
    "start_time": "2023-03-18T18:22:07.587Z"
   },
   {
    "duration": 75,
    "start_time": "2023-03-18T18:22:07.623Z"
   },
   {
    "duration": 20,
    "start_time": "2023-03-18T18:22:07.701Z"
   },
   {
    "duration": 52,
    "start_time": "2023-03-18T18:22:07.723Z"
   },
   {
    "duration": 141,
    "start_time": "2023-03-18T18:22:07.777Z"
   },
   {
    "duration": 22,
    "start_time": "2023-03-18T18:22:07.921Z"
   },
   {
    "duration": 445,
    "start_time": "2023-03-18T18:22:07.946Z"
   },
   {
    "duration": 13,
    "start_time": "2023-03-18T18:22:08.394Z"
   },
   {
    "duration": 18,
    "start_time": "2023-03-18T18:22:08.410Z"
   },
   {
    "duration": 25,
    "start_time": "2023-03-18T18:22:08.431Z"
   },
   {
    "duration": 13,
    "start_time": "2023-03-18T18:22:08.472Z"
   },
   {
    "duration": 22,
    "start_time": "2023-03-18T18:22:08.487Z"
   },
   {
    "duration": 11,
    "start_time": "2023-03-18T18:22:08.511Z"
   },
   {
    "duration": 653,
    "start_time": "2023-03-18T18:22:08.525Z"
   },
   {
    "duration": 12,
    "start_time": "2023-03-18T18:22:09.180Z"
   },
   {
    "duration": 24,
    "start_time": "2023-03-18T18:22:48.990Z"
   },
   {
    "duration": 309,
    "start_time": "2023-03-18T18:22:58.389Z"
   },
   {
    "duration": 219,
    "start_time": "2023-03-18T18:23:14.919Z"
   },
   {
    "duration": 10,
    "start_time": "2023-03-18T18:34:33.158Z"
   },
   {
    "duration": 19,
    "start_time": "2023-03-18T18:40:15.467Z"
   },
   {
    "duration": 4,
    "start_time": "2023-03-18T18:40:47.138Z"
   },
   {
    "duration": 17,
    "start_time": "2023-03-18T18:40:50.595Z"
   },
   {
    "duration": 1369,
    "start_time": "2023-03-18T18:41:02.734Z"
   },
   {
    "duration": 573,
    "start_time": "2023-03-18T18:41:04.105Z"
   },
   {
    "duration": 15,
    "start_time": "2023-03-18T18:41:04.680Z"
   },
   {
    "duration": 77,
    "start_time": "2023-03-18T18:41:04.697Z"
   },
   {
    "duration": 29,
    "start_time": "2023-03-18T18:41:04.776Z"
   },
   {
    "duration": 15,
    "start_time": "2023-03-18T18:41:04.807Z"
   },
   {
    "duration": 95,
    "start_time": "2023-03-18T18:41:04.824Z"
   },
   {
    "duration": 16,
    "start_time": "2023-03-18T18:41:04.921Z"
   },
   {
    "duration": 49,
    "start_time": "2023-03-18T18:41:04.939Z"
   },
   {
    "duration": 25,
    "start_time": "2023-03-18T18:41:04.990Z"
   },
   {
    "duration": 141,
    "start_time": "2023-03-18T18:41:05.017Z"
   },
   {
    "duration": 15,
    "start_time": "2023-03-18T18:41:05.160Z"
   },
   {
    "duration": 21,
    "start_time": "2023-03-18T18:41:05.177Z"
   },
   {
    "duration": 39,
    "start_time": "2023-03-18T18:41:05.201Z"
   },
   {
    "duration": 217,
    "start_time": "2023-03-18T18:41:05.242Z"
   },
   {
    "duration": 7,
    "start_time": "2023-03-18T18:41:05.461Z"
   },
   {
    "duration": 36,
    "start_time": "2023-03-18T18:41:05.472Z"
   },
   {
    "duration": 11,
    "start_time": "2023-03-18T18:41:05.510Z"
   },
   {
    "duration": 9,
    "start_time": "2023-03-18T18:41:05.522Z"
   },
   {
    "duration": 15,
    "start_time": "2023-03-18T18:41:05.532Z"
   },
   {
    "duration": 10,
    "start_time": "2023-03-18T18:41:05.574Z"
   },
   {
    "duration": 59,
    "start_time": "2023-03-18T18:41:05.587Z"
   },
   {
    "duration": 71,
    "start_time": "2023-03-18T18:41:05.647Z"
   },
   {
    "duration": 7,
    "start_time": "2023-03-18T18:41:05.720Z"
   },
   {
    "duration": 20,
    "start_time": "2023-03-18T18:41:05.729Z"
   },
   {
    "duration": 5,
    "start_time": "2023-03-18T18:41:05.752Z"
   },
   {
    "duration": 17,
    "start_time": "2023-03-18T18:41:05.773Z"
   },
   {
    "duration": 21,
    "start_time": "2023-03-18T18:41:05.792Z"
   },
   {
    "duration": 3,
    "start_time": "2023-03-18T18:41:05.814Z"
   },
   {
    "duration": 23,
    "start_time": "2023-03-18T18:41:05.819Z"
   },
   {
    "duration": 5,
    "start_time": "2023-03-18T18:41:05.845Z"
   },
   {
    "duration": 6,
    "start_time": "2023-03-18T18:41:05.873Z"
   },
   {
    "duration": 12,
    "start_time": "2023-03-18T18:41:05.881Z"
   },
   {
    "duration": 6,
    "start_time": "2023-03-18T18:41:05.895Z"
   },
   {
    "duration": 87,
    "start_time": "2023-03-18T18:41:05.903Z"
   },
   {
    "duration": 35,
    "start_time": "2023-03-18T18:41:05.992Z"
   },
   {
    "duration": 6,
    "start_time": "2023-03-18T18:41:06.029Z"
   },
   {
    "duration": 176,
    "start_time": "2023-03-18T18:41:06.037Z"
   },
   {
    "duration": 24,
    "start_time": "2023-03-18T18:41:06.215Z"
   },
   {
    "duration": 21,
    "start_time": "2023-03-18T18:41:06.241Z"
   },
   {
    "duration": 14,
    "start_time": "2023-03-18T18:41:06.266Z"
   },
   {
    "duration": 32,
    "start_time": "2023-03-18T18:41:06.283Z"
   },
   {
    "duration": 9,
    "start_time": "2023-03-18T18:41:06.317Z"
   },
   {
    "duration": 26,
    "start_time": "2023-03-18T18:41:06.327Z"
   },
   {
    "duration": 43,
    "start_time": "2023-03-18T18:41:06.354Z"
   },
   {
    "duration": 23,
    "start_time": "2023-03-18T18:41:06.399Z"
   },
   {
    "duration": 32,
    "start_time": "2023-03-18T18:41:06.424Z"
   },
   {
    "duration": 116,
    "start_time": "2023-03-18T18:41:06.482Z"
   },
   {
    "duration": 27,
    "start_time": "2023-03-18T18:41:06.600Z"
   },
   {
    "duration": 436,
    "start_time": "2023-03-18T18:41:06.629Z"
   },
   {
    "duration": 11,
    "start_time": "2023-03-18T18:41:07.067Z"
   },
   {
    "duration": 24,
    "start_time": "2023-03-18T18:41:07.080Z"
   },
   {
    "duration": 23,
    "start_time": "2023-03-18T18:41:07.105Z"
   },
   {
    "duration": 19,
    "start_time": "2023-03-18T18:41:07.129Z"
   },
   {
    "duration": 28,
    "start_time": "2023-03-18T18:41:07.149Z"
   },
   {
    "duration": 511,
    "start_time": "2023-03-18T18:41:07.179Z"
   },
   {
    "duration": 10,
    "start_time": "2023-03-18T18:41:07.692Z"
   },
   {
    "duration": 161,
    "start_time": "2023-03-18T18:41:07.704Z"
   },
   {
    "duration": 5,
    "start_time": "2023-03-18T18:43:57.661Z"
   },
   {
    "duration": 515,
    "start_time": "2023-03-18T18:43:57.668Z"
   },
   {
    "duration": 16,
    "start_time": "2023-03-18T18:43:58.185Z"
   },
   {
    "duration": 63,
    "start_time": "2023-03-18T18:43:58.203Z"
   },
   {
    "duration": 26,
    "start_time": "2023-03-18T18:43:58.268Z"
   },
   {
    "duration": 4,
    "start_time": "2023-03-18T18:43:58.296Z"
   },
   {
    "duration": 98,
    "start_time": "2023-03-18T18:43:58.302Z"
   },
   {
    "duration": 16,
    "start_time": "2023-03-18T18:43:58.402Z"
   },
   {
    "duration": 53,
    "start_time": "2023-03-18T18:43:58.421Z"
   },
   {
    "duration": 17,
    "start_time": "2023-03-18T18:43:58.477Z"
   },
   {
    "duration": 125,
    "start_time": "2023-03-18T18:43:58.496Z"
   },
   {
    "duration": 4,
    "start_time": "2023-03-18T18:43:58.623Z"
   },
   {
    "duration": 7,
    "start_time": "2023-03-18T18:43:58.629Z"
   },
   {
    "duration": 34,
    "start_time": "2023-03-18T18:43:58.639Z"
   },
   {
    "duration": 222,
    "start_time": "2023-03-18T18:43:58.675Z"
   },
   {
    "duration": 9,
    "start_time": "2023-03-18T18:43:58.899Z"
   },
   {
    "duration": 41,
    "start_time": "2023-03-18T18:43:58.911Z"
   },
   {
    "duration": 34,
    "start_time": "2023-03-18T18:43:58.953Z"
   },
   {
    "duration": 6,
    "start_time": "2023-03-18T18:43:58.991Z"
   },
   {
    "duration": 17,
    "start_time": "2023-03-18T18:43:59.000Z"
   },
   {
    "duration": 15,
    "start_time": "2023-03-18T18:43:59.019Z"
   },
   {
    "duration": 105,
    "start_time": "2023-03-18T18:43:59.037Z"
   },
   {
    "duration": 88,
    "start_time": "2023-03-18T18:43:59.145Z"
   },
   {
    "duration": 9,
    "start_time": "2023-03-18T18:43:59.236Z"
   },
   {
    "duration": 8,
    "start_time": "2023-03-18T18:43:59.247Z"
   },
   {
    "duration": 7,
    "start_time": "2023-03-18T18:43:59.273Z"
   },
   {
    "duration": 16,
    "start_time": "2023-03-18T18:43:59.282Z"
   },
   {
    "duration": 24,
    "start_time": "2023-03-18T18:43:59.303Z"
   },
   {
    "duration": 4,
    "start_time": "2023-03-18T18:43:59.329Z"
   },
   {
    "duration": 44,
    "start_time": "2023-03-18T18:43:59.335Z"
   },
   {
    "duration": 5,
    "start_time": "2023-03-18T18:43:59.380Z"
   },
   {
    "duration": 6,
    "start_time": "2023-03-18T18:43:59.387Z"
   },
   {
    "duration": 15,
    "start_time": "2023-03-18T18:43:59.395Z"
   },
   {
    "duration": 11,
    "start_time": "2023-03-18T18:43:59.412Z"
   },
   {
    "duration": 17,
    "start_time": "2023-03-18T18:43:59.425Z"
   },
   {
    "duration": 50,
    "start_time": "2023-03-18T18:43:59.444Z"
   },
   {
    "duration": 6,
    "start_time": "2023-03-18T18:43:59.496Z"
   },
   {
    "duration": 208,
    "start_time": "2023-03-18T18:43:59.504Z"
   },
   {
    "duration": 21,
    "start_time": "2023-03-18T18:43:59.714Z"
   },
   {
    "duration": 10,
    "start_time": "2023-03-18T18:43:59.737Z"
   },
   {
    "duration": 28,
    "start_time": "2023-03-18T18:43:59.749Z"
   },
   {
    "duration": 26,
    "start_time": "2023-03-18T18:43:59.780Z"
   },
   {
    "duration": 11,
    "start_time": "2023-03-18T18:43:59.808Z"
   },
   {
    "duration": 56,
    "start_time": "2023-03-18T18:43:59.821Z"
   },
   {
    "duration": 32,
    "start_time": "2023-03-18T18:43:59.879Z"
   },
   {
    "duration": 11,
    "start_time": "2023-03-18T18:43:59.913Z"
   },
   {
    "duration": 58,
    "start_time": "2023-03-18T18:43:59.926Z"
   },
   {
    "duration": 206,
    "start_time": "2023-03-18T18:43:59.986Z"
   },
   {
    "duration": 21,
    "start_time": "2023-03-18T18:44:00.194Z"
   },
   {
    "duration": 446,
    "start_time": "2023-03-18T18:44:00.217Z"
   },
   {
    "duration": 18,
    "start_time": "2023-03-18T18:44:00.665Z"
   },
   {
    "duration": 31,
    "start_time": "2023-03-18T18:44:00.685Z"
   },
   {
    "duration": 66,
    "start_time": "2023-03-18T18:44:00.720Z"
   },
   {
    "duration": 1272,
    "start_time": "2023-03-18T18:44:54.632Z"
   },
   {
    "duration": 550,
    "start_time": "2023-03-18T18:44:55.906Z"
   },
   {
    "duration": 16,
    "start_time": "2023-03-18T18:44:56.458Z"
   },
   {
    "duration": 75,
    "start_time": "2023-03-18T18:44:56.475Z"
   },
   {
    "duration": 29,
    "start_time": "2023-03-18T18:44:56.552Z"
   },
   {
    "duration": 3,
    "start_time": "2023-03-18T18:44:56.583Z"
   },
   {
    "duration": 98,
    "start_time": "2023-03-18T18:44:56.588Z"
   },
   {
    "duration": 16,
    "start_time": "2023-03-18T18:44:56.688Z"
   },
   {
    "duration": 27,
    "start_time": "2023-03-18T18:44:56.706Z"
   },
   {
    "duration": 46,
    "start_time": "2023-03-18T18:44:56.735Z"
   },
   {
    "duration": 121,
    "start_time": "2023-03-18T18:44:56.783Z"
   },
   {
    "duration": 5,
    "start_time": "2023-03-18T18:44:56.906Z"
   },
   {
    "duration": 8,
    "start_time": "2023-03-18T18:44:56.912Z"
   },
   {
    "duration": 16,
    "start_time": "2023-03-18T18:44:56.921Z"
   },
   {
    "duration": 230,
    "start_time": "2023-03-18T18:44:56.939Z"
   },
   {
    "duration": 6,
    "start_time": "2023-03-18T18:44:57.173Z"
   },
   {
    "duration": 37,
    "start_time": "2023-03-18T18:44:57.180Z"
   },
   {
    "duration": 10,
    "start_time": "2023-03-18T18:44:57.218Z"
   },
   {
    "duration": 10,
    "start_time": "2023-03-18T18:44:57.229Z"
   },
   {
    "duration": 39,
    "start_time": "2023-03-18T18:44:57.241Z"
   },
   {
    "duration": 14,
    "start_time": "2023-03-18T18:44:57.282Z"
   },
   {
    "duration": 46,
    "start_time": "2023-03-18T18:44:57.298Z"
   },
   {
    "duration": 77,
    "start_time": "2023-03-18T18:44:57.345Z"
   },
   {
    "duration": 6,
    "start_time": "2023-03-18T18:44:57.424Z"
   },
   {
    "duration": 9,
    "start_time": "2023-03-18T18:44:57.432Z"
   },
   {
    "duration": 30,
    "start_time": "2023-03-18T18:44:57.443Z"
   },
   {
    "duration": 9,
    "start_time": "2023-03-18T18:44:57.475Z"
   },
   {
    "duration": 19,
    "start_time": "2023-03-18T18:44:57.487Z"
   },
   {
    "duration": 3,
    "start_time": "2023-03-18T18:44:57.507Z"
   },
   {
    "duration": 15,
    "start_time": "2023-03-18T18:44:57.511Z"
   },
   {
    "duration": 4,
    "start_time": "2023-03-18T18:44:57.528Z"
   },
   {
    "duration": 40,
    "start_time": "2023-03-18T18:44:57.534Z"
   },
   {
    "duration": 8,
    "start_time": "2023-03-18T18:44:57.576Z"
   },
   {
    "duration": 6,
    "start_time": "2023-03-18T18:44:57.585Z"
   },
   {
    "duration": 10,
    "start_time": "2023-03-18T18:44:57.593Z"
   },
   {
    "duration": 26,
    "start_time": "2023-03-18T18:44:57.605Z"
   },
   {
    "duration": 5,
    "start_time": "2023-03-18T18:44:57.633Z"
   },
   {
    "duration": 168,
    "start_time": "2023-03-18T18:44:57.673Z"
   },
   {
    "duration": 20,
    "start_time": "2023-03-18T18:44:57.843Z"
   },
   {
    "duration": 14,
    "start_time": "2023-03-18T18:44:57.873Z"
   },
   {
    "duration": 6,
    "start_time": "2023-03-18T18:44:57.888Z"
   },
   {
    "duration": 19,
    "start_time": "2023-03-18T18:44:57.896Z"
   },
   {
    "duration": 11,
    "start_time": "2023-03-18T18:44:57.916Z"
   },
   {
    "duration": 57,
    "start_time": "2023-03-18T18:44:57.928Z"
   },
   {
    "duration": 27,
    "start_time": "2023-03-18T18:44:57.986Z"
   },
   {
    "duration": 15,
    "start_time": "2023-03-18T18:44:58.015Z"
   },
   {
    "duration": 65,
    "start_time": "2023-03-18T18:44:58.032Z"
   },
   {
    "duration": 135,
    "start_time": "2023-03-18T18:44:58.099Z"
   },
   {
    "duration": 21,
    "start_time": "2023-03-18T18:44:58.236Z"
   },
   {
    "duration": 416,
    "start_time": "2023-03-18T18:44:58.259Z"
   },
   {
    "duration": 10,
    "start_time": "2023-03-18T18:44:58.677Z"
   },
   {
    "duration": 9,
    "start_time": "2023-03-18T18:44:58.689Z"
   },
   {
    "duration": 14,
    "start_time": "2023-03-18T18:44:58.700Z"
   },
   {
    "duration": 21,
    "start_time": "2023-03-18T18:44:58.716Z"
   },
   {
    "duration": 484,
    "start_time": "2023-03-18T18:44:58.772Z"
   },
   {
    "duration": 15,
    "start_time": "2023-03-18T18:44:59.258Z"
   },
   {
    "duration": 136,
    "start_time": "2023-03-18T18:44:59.275Z"
   },
   {
    "duration": 24,
    "start_time": "2023-03-18T18:47:49.273Z"
   },
   {
    "duration": 18,
    "start_time": "2023-03-18T18:47:56.114Z"
   },
   {
    "duration": 16,
    "start_time": "2023-03-18T18:49:22.431Z"
   },
   {
    "duration": 16,
    "start_time": "2023-03-18T18:49:37.547Z"
   },
   {
    "duration": 106,
    "start_time": "2023-03-18T18:50:08.508Z"
   },
   {
    "duration": 14,
    "start_time": "2023-03-18T18:50:32.881Z"
   },
   {
    "duration": 12,
    "start_time": "2023-03-18T18:50:43.613Z"
   },
   {
    "duration": 15,
    "start_time": "2023-03-18T18:50:55.015Z"
   },
   {
    "duration": 5,
    "start_time": "2023-03-18T18:52:33.775Z"
   },
   {
    "duration": 123,
    "start_time": "2023-03-18T18:52:42.117Z"
   },
   {
    "duration": 19,
    "start_time": "2023-03-18T18:53:01.568Z"
   },
   {
    "duration": 88,
    "start_time": "2023-03-18T18:53:17.703Z"
   },
   {
    "duration": 13,
    "start_time": "2023-03-18T18:53:25.150Z"
   },
   {
    "duration": 78,
    "start_time": "2023-03-18T18:53:37.405Z"
   },
   {
    "duration": 77,
    "start_time": "2023-03-18T18:56:08.642Z"
   },
   {
    "duration": 82,
    "start_time": "2023-03-18T18:56:22.420Z"
   },
   {
    "duration": 87,
    "start_time": "2023-03-18T18:56:28.785Z"
   },
   {
    "duration": 97,
    "start_time": "2023-03-18T18:56:36.936Z"
   },
   {
    "duration": 14,
    "start_time": "2023-03-18T18:57:20.273Z"
   },
   {
    "duration": 13,
    "start_time": "2023-03-18T19:02:42.369Z"
   },
   {
    "duration": 76,
    "start_time": "2023-03-18T19:05:51.260Z"
   },
   {
    "duration": 13,
    "start_time": "2023-03-18T19:06:27.218Z"
   },
   {
    "duration": 25,
    "start_time": "2023-03-18T19:06:48.202Z"
   },
   {
    "duration": 14,
    "start_time": "2023-03-18T19:08:30.882Z"
   },
   {
    "duration": 90,
    "start_time": "2023-03-18T19:08:42.110Z"
   },
   {
    "duration": 28,
    "start_time": "2023-03-18T19:08:48.572Z"
   },
   {
    "duration": 12,
    "start_time": "2023-03-18T19:08:57.325Z"
   },
   {
    "duration": 18,
    "start_time": "2023-03-18T19:10:55.846Z"
   },
   {
    "duration": 12,
    "start_time": "2023-03-18T19:11:11.948Z"
   },
   {
    "duration": 13,
    "start_time": "2023-03-18T19:11:48.298Z"
   },
   {
    "duration": 12,
    "start_time": "2023-03-18T19:12:05.835Z"
   },
   {
    "duration": 447,
    "start_time": "2023-03-18T19:15:30.048Z"
   },
   {
    "duration": 17,
    "start_time": "2023-03-18T19:17:58.559Z"
   },
   {
    "duration": 1447,
    "start_time": "2023-03-19T08:04:25.738Z"
   },
   {
    "duration": 1558,
    "start_time": "2023-03-19T08:04:27.187Z"
   },
   {
    "duration": 82,
    "start_time": "2023-03-19T08:04:28.746Z"
   },
   {
    "duration": 227,
    "start_time": "2023-03-19T08:04:28.830Z"
   },
   {
    "duration": 114,
    "start_time": "2023-03-19T08:04:29.059Z"
   },
   {
    "duration": 4,
    "start_time": "2023-03-19T08:04:29.175Z"
   },
   {
    "duration": 74,
    "start_time": "2023-03-19T08:04:29.180Z"
   },
   {
    "duration": 32,
    "start_time": "2023-03-19T08:04:29.256Z"
   },
   {
    "duration": 23,
    "start_time": "2023-03-19T08:04:29.290Z"
   },
   {
    "duration": 18,
    "start_time": "2023-03-19T08:04:29.317Z"
   },
   {
    "duration": 120,
    "start_time": "2023-03-19T08:04:29.337Z"
   },
   {
    "duration": 4,
    "start_time": "2023-03-19T08:04:29.458Z"
   },
   {
    "duration": 4,
    "start_time": "2023-03-19T08:04:29.475Z"
   },
   {
    "duration": 15,
    "start_time": "2023-03-19T08:04:29.481Z"
   },
   {
    "duration": 198,
    "start_time": "2023-03-19T08:04:29.497Z"
   },
   {
    "duration": 5,
    "start_time": "2023-03-19T08:04:29.696Z"
   },
   {
    "duration": 30,
    "start_time": "2023-03-19T08:04:29.703Z"
   },
   {
    "duration": 10,
    "start_time": "2023-03-19T08:04:29.735Z"
   },
   {
    "duration": 5,
    "start_time": "2023-03-19T08:04:29.747Z"
   },
   {
    "duration": 10,
    "start_time": "2023-03-19T08:04:29.775Z"
   },
   {
    "duration": 7,
    "start_time": "2023-03-19T08:04:29.787Z"
   },
   {
    "duration": 37,
    "start_time": "2023-03-19T08:04:29.795Z"
   },
   {
    "duration": 78,
    "start_time": "2023-03-19T08:04:29.834Z"
   },
   {
    "duration": 7,
    "start_time": "2023-03-19T08:04:29.913Z"
   },
   {
    "duration": 7,
    "start_time": "2023-03-19T08:04:29.921Z"
   },
   {
    "duration": 9,
    "start_time": "2023-03-19T08:04:29.930Z"
   },
   {
    "duration": 12,
    "start_time": "2023-03-19T08:04:29.940Z"
   },
   {
    "duration": 18,
    "start_time": "2023-03-19T08:04:29.976Z"
   },
   {
    "duration": 3,
    "start_time": "2023-03-19T08:04:29.995Z"
   },
   {
    "duration": 20,
    "start_time": "2023-03-19T08:04:29.999Z"
   },
   {
    "duration": 6,
    "start_time": "2023-03-19T08:04:30.021Z"
   },
   {
    "duration": 16,
    "start_time": "2023-03-19T08:04:30.029Z"
   },
   {
    "duration": 27,
    "start_time": "2023-03-19T08:04:30.047Z"
   },
   {
    "duration": 15,
    "start_time": "2023-03-19T08:04:30.077Z"
   },
   {
    "duration": 14,
    "start_time": "2023-03-19T08:04:30.094Z"
   },
   {
    "duration": 35,
    "start_time": "2023-03-19T08:04:30.110Z"
   },
   {
    "duration": 5,
    "start_time": "2023-03-19T08:04:30.148Z"
   },
   {
    "duration": 175,
    "start_time": "2023-03-19T08:04:30.155Z"
   },
   {
    "duration": 19,
    "start_time": "2023-03-19T08:04:30.332Z"
   },
   {
    "duration": 43,
    "start_time": "2023-03-19T08:04:30.353Z"
   },
   {
    "duration": 12,
    "start_time": "2023-03-19T08:04:30.398Z"
   },
   {
    "duration": 26,
    "start_time": "2023-03-19T08:04:30.412Z"
   },
   {
    "duration": 20,
    "start_time": "2023-03-19T08:04:30.440Z"
   },
   {
    "duration": 32,
    "start_time": "2023-03-19T08:04:30.462Z"
   },
   {
    "duration": 30,
    "start_time": "2023-03-19T08:04:30.495Z"
   },
   {
    "duration": 16,
    "start_time": "2023-03-19T08:04:30.526Z"
   },
   {
    "duration": 52,
    "start_time": "2023-03-19T08:04:30.544Z"
   },
   {
    "duration": 112,
    "start_time": "2023-03-19T08:04:30.598Z"
   },
   {
    "duration": 20,
    "start_time": "2023-03-19T08:04:30.712Z"
   },
   {
    "duration": 414,
    "start_time": "2023-03-19T08:04:30.734Z"
   },
   {
    "duration": 9,
    "start_time": "2023-03-19T08:04:31.150Z"
   },
   {
    "duration": 30,
    "start_time": "2023-03-19T08:04:31.174Z"
   },
   {
    "duration": 30,
    "start_time": "2023-03-19T08:04:31.205Z"
   },
   {
    "duration": 37,
    "start_time": "2023-03-19T08:04:31.237Z"
   },
   {
    "duration": 437,
    "start_time": "2023-03-19T08:04:31.275Z"
   },
   {
    "duration": 10,
    "start_time": "2023-03-19T08:04:31.714Z"
   },
   {
    "duration": 187,
    "start_time": "2023-03-19T08:04:31.726Z"
   },
   {
    "duration": 19,
    "start_time": "2023-03-19T08:28:00.232Z"
   },
   {
    "duration": 10,
    "start_time": "2023-03-19T08:28:44.823Z"
   },
   {
    "duration": 8,
    "start_time": "2023-03-19T08:40:13.344Z"
   },
   {
    "duration": 140,
    "start_time": "2023-03-19T08:42:34.612Z"
   },
   {
    "duration": 21,
    "start_time": "2023-03-19T08:43:00.393Z"
   },
   {
    "duration": 15,
    "start_time": "2023-03-19T08:43:48.632Z"
   },
   {
    "duration": 17,
    "start_time": "2023-03-19T08:44:21.938Z"
   },
   {
    "duration": 15,
    "start_time": "2023-03-19T08:44:25.719Z"
   },
   {
    "duration": 11,
    "start_time": "2023-03-19T08:45:05.049Z"
   },
   {
    "duration": 6,
    "start_time": "2023-03-19T08:46:35.638Z"
   },
   {
    "duration": 12,
    "start_time": "2023-03-19T08:46:42.814Z"
   },
   {
    "duration": 18,
    "start_time": "2023-03-19T08:46:49.982Z"
   },
   {
    "duration": 4,
    "start_time": "2023-03-19T08:47:00.605Z"
   },
   {
    "duration": 5,
    "start_time": "2023-03-19T08:47:05.913Z"
   },
   {
    "duration": 4,
    "start_time": "2023-03-19T08:47:28.232Z"
   },
   {
    "duration": 4,
    "start_time": "2023-03-19T08:47:58.494Z"
   },
   {
    "duration": 5,
    "start_time": "2023-03-19T08:48:03.202Z"
   },
   {
    "duration": 8,
    "start_time": "2023-03-19T08:48:12.940Z"
   },
   {
    "duration": 20,
    "start_time": "2023-03-19T08:48:15.398Z"
   },
   {
    "duration": 49,
    "start_time": "2023-03-19T08:48:38.989Z"
   },
   {
    "duration": 13,
    "start_time": "2023-03-19T08:48:41.030Z"
   },
   {
    "duration": 6,
    "start_time": "2023-03-19T08:48:54.392Z"
   },
   {
    "duration": 6,
    "start_time": "2023-03-19T08:49:01.727Z"
   },
   {
    "duration": 15,
    "start_time": "2023-03-19T08:49:06.761Z"
   },
   {
    "duration": 12,
    "start_time": "2023-03-19T08:51:15.078Z"
   },
   {
    "duration": 5,
    "start_time": "2023-03-19T08:51:24.395Z"
   },
   {
    "duration": 17,
    "start_time": "2023-03-19T08:54:44.254Z"
   },
   {
    "duration": 6,
    "start_time": "2023-03-19T08:57:57.851Z"
   },
   {
    "duration": 737,
    "start_time": "2023-03-19T08:58:00.812Z"
   },
   {
    "duration": 7,
    "start_time": "2023-03-19T09:09:59.318Z"
   },
   {
    "duration": 9,
    "start_time": "2023-03-19T09:10:29.258Z"
   },
   {
    "duration": 16,
    "start_time": "2023-03-19T09:10:31.573Z"
   },
   {
    "duration": 4,
    "start_time": "2023-03-19T09:10:55.778Z"
   },
   {
    "duration": 7,
    "start_time": "2023-03-19T09:10:59.080Z"
   },
   {
    "duration": 15,
    "start_time": "2023-03-19T09:11:01.076Z"
   },
   {
    "duration": 4,
    "start_time": "2023-03-19T09:11:13.294Z"
   },
   {
    "duration": 9,
    "start_time": "2023-03-19T09:11:17.486Z"
   },
   {
    "duration": 17,
    "start_time": "2023-03-19T09:11:19.676Z"
   },
   {
    "duration": 7,
    "start_time": "2023-03-19T09:12:37.264Z"
   },
   {
    "duration": 16,
    "start_time": "2023-03-19T09:12:40.973Z"
   },
   {
    "duration": 7,
    "start_time": "2023-03-19T09:14:07.012Z"
   },
   {
    "duration": 16,
    "start_time": "2023-03-19T09:14:09.197Z"
   },
   {
    "duration": 7,
    "start_time": "2023-03-19T09:14:21.756Z"
   },
   {
    "duration": 16,
    "start_time": "2023-03-19T09:14:23.905Z"
   },
   {
    "duration": 6,
    "start_time": "2023-03-19T09:15:22.057Z"
   },
   {
    "duration": 19,
    "start_time": "2023-03-19T09:15:24.208Z"
   },
   {
    "duration": 6,
    "start_time": "2023-03-19T09:15:32.607Z"
   },
   {
    "duration": 20,
    "start_time": "2023-03-19T09:15:34.205Z"
   },
   {
    "duration": 15,
    "start_time": "2023-03-19T09:18:37.431Z"
   },
   {
    "duration": 7,
    "start_time": "2023-03-19T09:29:46.990Z"
   },
   {
    "duration": 7,
    "start_time": "2023-03-19T09:29:51.231Z"
   },
   {
    "duration": 6,
    "start_time": "2023-03-19T09:30:28.792Z"
   },
   {
    "duration": 17,
    "start_time": "2023-03-19T09:30:30.991Z"
   },
   {
    "duration": 5,
    "start_time": "2023-03-19T09:30:33.204Z"
   },
   {
    "duration": 507,
    "start_time": "2023-03-19T09:30:33.211Z"
   },
   {
    "duration": 16,
    "start_time": "2023-03-19T09:30:33.720Z"
   },
   {
    "duration": 63,
    "start_time": "2023-03-19T09:30:33.737Z"
   },
   {
    "duration": 26,
    "start_time": "2023-03-19T09:30:33.802Z"
   },
   {
    "duration": 3,
    "start_time": "2023-03-19T09:30:33.830Z"
   },
   {
    "duration": 97,
    "start_time": "2023-03-19T09:30:33.834Z"
   },
   {
    "duration": 15,
    "start_time": "2023-03-19T09:30:33.933Z"
   },
   {
    "duration": 45,
    "start_time": "2023-03-19T09:30:33.950Z"
   },
   {
    "duration": 19,
    "start_time": "2023-03-19T09:30:33.997Z"
   },
   {
    "duration": 125,
    "start_time": "2023-03-19T09:30:34.019Z"
   },
   {
    "duration": 4,
    "start_time": "2023-03-19T09:30:34.147Z"
   },
   {
    "duration": 22,
    "start_time": "2023-03-19T09:30:34.153Z"
   },
   {
    "duration": 23,
    "start_time": "2023-03-19T09:30:34.178Z"
   },
   {
    "duration": 243,
    "start_time": "2023-03-19T09:30:34.203Z"
   },
   {
    "duration": 7,
    "start_time": "2023-03-19T09:30:34.449Z"
   },
   {
    "duration": 48,
    "start_time": "2023-03-19T09:30:34.458Z"
   },
   {
    "duration": 11,
    "start_time": "2023-03-19T09:30:34.508Z"
   },
   {
    "duration": 6,
    "start_time": "2023-03-19T09:30:34.521Z"
   },
   {
    "duration": 10,
    "start_time": "2023-03-19T09:30:34.528Z"
   },
   {
    "duration": 7,
    "start_time": "2023-03-19T09:30:34.540Z"
   },
   {
    "duration": 48,
    "start_time": "2023-03-19T09:30:34.576Z"
   },
   {
    "duration": 67,
    "start_time": "2023-03-19T09:30:34.625Z"
   },
   {
    "duration": 7,
    "start_time": "2023-03-19T09:30:34.694Z"
   },
   {
    "duration": 13,
    "start_time": "2023-03-19T09:30:34.703Z"
   },
   {
    "duration": 6,
    "start_time": "2023-03-19T09:30:34.718Z"
   },
   {
    "duration": 10,
    "start_time": "2023-03-19T09:30:34.726Z"
   },
   {
    "duration": 45,
    "start_time": "2023-03-19T09:30:34.737Z"
   },
   {
    "duration": 8,
    "start_time": "2023-03-19T09:30:34.785Z"
   },
   {
    "duration": 14,
    "start_time": "2023-03-19T09:30:34.795Z"
   },
   {
    "duration": 5,
    "start_time": "2023-03-19T09:30:34.811Z"
   },
   {
    "duration": 4,
    "start_time": "2023-03-19T09:30:34.818Z"
   },
   {
    "duration": 7,
    "start_time": "2023-03-19T09:30:34.824Z"
   },
   {
    "duration": 5,
    "start_time": "2023-03-19T09:30:34.833Z"
   },
   {
    "duration": 45,
    "start_time": "2023-03-19T09:30:34.840Z"
   },
   {
    "duration": 34,
    "start_time": "2023-03-19T09:30:34.887Z"
   },
   {
    "duration": 11,
    "start_time": "2023-03-19T09:30:34.923Z"
   },
   {
    "duration": 190,
    "start_time": "2023-03-19T09:30:34.935Z"
   },
   {
    "duration": 21,
    "start_time": "2023-03-19T09:30:35.128Z"
   },
   {
    "duration": 24,
    "start_time": "2023-03-19T09:30:35.151Z"
   },
   {
    "duration": 8,
    "start_time": "2023-03-19T09:30:35.182Z"
   },
   {
    "duration": 25,
    "start_time": "2023-03-19T09:30:35.193Z"
   },
   {
    "duration": 8,
    "start_time": "2023-03-19T09:30:35.220Z"
   },
   {
    "duration": 57,
    "start_time": "2023-03-19T09:30:35.230Z"
   },
   {
    "duration": 114,
    "start_time": "2023-03-19T09:30:35.288Z"
   },
   {
    "duration": 11,
    "start_time": "2023-03-19T09:30:35.404Z"
   },
   {
    "duration": 33,
    "start_time": "2023-03-19T09:30:35.417Z"
   },
   {
    "duration": 139,
    "start_time": "2023-03-19T09:30:35.451Z"
   },
   {
    "duration": 23,
    "start_time": "2023-03-19T09:30:35.592Z"
   },
   {
    "duration": 410,
    "start_time": "2023-03-19T09:30:35.617Z"
   },
   {
    "duration": 8,
    "start_time": "2023-03-19T09:30:36.029Z"
   },
   {
    "duration": 9,
    "start_time": "2023-03-19T09:30:36.039Z"
   },
   {
    "duration": 37,
    "start_time": "2023-03-19T09:30:36.050Z"
   },
   {
    "duration": 20,
    "start_time": "2023-03-19T09:30:36.092Z"
   },
   {
    "duration": 466,
    "start_time": "2023-03-19T09:30:36.114Z"
   },
   {
    "duration": 14,
    "start_time": "2023-03-19T09:30:36.581Z"
   },
   {
    "duration": 12,
    "start_time": "2023-03-19T09:30:36.597Z"
   },
   {
    "duration": 22,
    "start_time": "2023-03-19T09:30:36.612Z"
   },
   {
    "duration": 45,
    "start_time": "2023-03-19T09:30:36.636Z"
   },
   {
    "duration": 11,
    "start_time": "2023-03-19T09:30:36.683Z"
   },
   {
    "duration": 17,
    "start_time": "2023-03-19T09:30:36.696Z"
   },
   {
    "duration": 6,
    "start_time": "2023-03-19T09:31:03.031Z"
   },
   {
    "duration": 22,
    "start_time": "2023-03-19T09:31:04.756Z"
   },
   {
    "duration": 5,
    "start_time": "2023-03-19T09:31:06.856Z"
   },
   {
    "duration": 488,
    "start_time": "2023-03-19T09:31:06.863Z"
   },
   {
    "duration": 16,
    "start_time": "2023-03-19T09:31:07.353Z"
   },
   {
    "duration": 69,
    "start_time": "2023-03-19T09:31:07.370Z"
   },
   {
    "duration": 27,
    "start_time": "2023-03-19T09:31:07.441Z"
   },
   {
    "duration": 4,
    "start_time": "2023-03-19T09:31:07.469Z"
   },
   {
    "duration": 80,
    "start_time": "2023-03-19T09:31:07.475Z"
   },
   {
    "duration": 20,
    "start_time": "2023-03-19T09:31:07.557Z"
   },
   {
    "duration": 29,
    "start_time": "2023-03-19T09:31:07.579Z"
   },
   {
    "duration": 18,
    "start_time": "2023-03-19T09:31:07.610Z"
   },
   {
    "duration": 134,
    "start_time": "2023-03-19T09:31:07.630Z"
   },
   {
    "duration": 5,
    "start_time": "2023-03-19T09:31:07.765Z"
   },
   {
    "duration": 9,
    "start_time": "2023-03-19T09:31:07.775Z"
   },
   {
    "duration": 18,
    "start_time": "2023-03-19T09:31:07.788Z"
   },
   {
    "duration": 205,
    "start_time": "2023-03-19T09:31:07.808Z"
   },
   {
    "duration": 6,
    "start_time": "2023-03-19T09:31:08.015Z"
   },
   {
    "duration": 35,
    "start_time": "2023-03-19T09:31:08.022Z"
   },
   {
    "duration": 33,
    "start_time": "2023-03-19T09:31:08.059Z"
   },
   {
    "duration": 5,
    "start_time": "2023-03-19T09:31:08.094Z"
   },
   {
    "duration": 10,
    "start_time": "2023-03-19T09:31:08.100Z"
   },
   {
    "duration": 9,
    "start_time": "2023-03-19T09:31:08.111Z"
   },
   {
    "duration": 57,
    "start_time": "2023-03-19T09:31:08.121Z"
   },
   {
    "duration": 45,
    "start_time": "2023-03-19T09:31:08.179Z"
   },
   {
    "duration": 7,
    "start_time": "2023-03-19T09:31:08.226Z"
   },
   {
    "duration": 21,
    "start_time": "2023-03-19T09:31:08.234Z"
   },
   {
    "duration": 7,
    "start_time": "2023-03-19T09:31:08.257Z"
   },
   {
    "duration": 26,
    "start_time": "2023-03-19T09:31:08.266Z"
   },
   {
    "duration": 18,
    "start_time": "2023-03-19T09:31:08.294Z"
   },
   {
    "duration": 3,
    "start_time": "2023-03-19T09:31:08.314Z"
   },
   {
    "duration": 16,
    "start_time": "2023-03-19T09:31:08.319Z"
   },
   {
    "duration": 5,
    "start_time": "2023-03-19T09:31:08.338Z"
   },
   {
    "duration": 20,
    "start_time": "2023-03-19T09:31:08.344Z"
   },
   {
    "duration": 23,
    "start_time": "2023-03-19T09:31:08.376Z"
   },
   {
    "duration": 12,
    "start_time": "2023-03-19T09:31:08.401Z"
   },
   {
    "duration": 6,
    "start_time": "2023-03-19T09:31:08.415Z"
   },
   {
    "duration": 34,
    "start_time": "2023-03-19T09:31:08.423Z"
   },
   {
    "duration": 6,
    "start_time": "2023-03-19T09:31:08.458Z"
   },
   {
    "duration": 147,
    "start_time": "2023-03-19T09:31:08.480Z"
   },
   {
    "duration": 19,
    "start_time": "2023-03-19T09:31:08.628Z"
   },
   {
    "duration": 27,
    "start_time": "2023-03-19T09:31:08.649Z"
   },
   {
    "duration": 7,
    "start_time": "2023-03-19T09:31:08.691Z"
   },
   {
    "duration": 38,
    "start_time": "2023-03-19T09:31:08.699Z"
   },
   {
    "duration": 11,
    "start_time": "2023-03-19T09:31:08.739Z"
   },
   {
    "duration": 35,
    "start_time": "2023-03-19T09:31:08.752Z"
   },
   {
    "duration": 29,
    "start_time": "2023-03-19T09:31:08.790Z"
   },
   {
    "duration": 10,
    "start_time": "2023-03-19T09:31:08.821Z"
   },
   {
    "duration": 33,
    "start_time": "2023-03-19T09:31:08.832Z"
   },
   {
    "duration": 118,
    "start_time": "2023-03-19T09:31:08.866Z"
   },
   {
    "duration": 23,
    "start_time": "2023-03-19T09:31:08.989Z"
   },
   {
    "duration": 413,
    "start_time": "2023-03-19T09:31:09.014Z"
   },
   {
    "duration": 7,
    "start_time": "2023-03-19T09:31:09.429Z"
   },
   {
    "duration": 9,
    "start_time": "2023-03-19T09:31:09.438Z"
   },
   {
    "duration": 27,
    "start_time": "2023-03-19T09:31:09.449Z"
   },
   {
    "duration": 19,
    "start_time": "2023-03-19T09:31:09.487Z"
   },
   {
    "duration": 452,
    "start_time": "2023-03-19T09:31:09.507Z"
   },
   {
    "duration": 22,
    "start_time": "2023-03-19T09:31:09.961Z"
   },
   {
    "duration": 12,
    "start_time": "2023-03-19T09:31:09.989Z"
   },
   {
    "duration": 20,
    "start_time": "2023-03-19T09:31:10.003Z"
   },
   {
    "duration": 11,
    "start_time": "2023-03-19T09:31:10.025Z"
   },
   {
    "duration": 6,
    "start_time": "2023-03-19T09:31:10.038Z"
   },
   {
    "duration": 42,
    "start_time": "2023-03-19T09:31:10.045Z"
   },
   {
    "duration": 11,
    "start_time": "2023-03-19T09:31:34.867Z"
   },
   {
    "duration": 771,
    "start_time": "2023-03-19T09:31:37.101Z"
   },
   {
    "duration": 10,
    "start_time": "2023-03-19T09:31:44.570Z"
   },
   {
    "duration": 15,
    "start_time": "2023-03-19T09:31:46.953Z"
   },
   {
    "duration": 70,
    "start_time": "2023-03-19T09:41:25.653Z"
   },
   {
    "duration": 11,
    "start_time": "2023-03-19T09:41:50.450Z"
   },
   {
    "duration": 4,
    "start_time": "2023-03-19T09:41:54.726Z"
   },
   {
    "duration": 502,
    "start_time": "2023-03-19T09:41:54.735Z"
   },
   {
    "duration": 16,
    "start_time": "2023-03-19T09:41:55.239Z"
   },
   {
    "duration": 71,
    "start_time": "2023-03-19T09:41:55.257Z"
   },
   {
    "duration": 27,
    "start_time": "2023-03-19T09:41:55.329Z"
   },
   {
    "duration": 4,
    "start_time": "2023-03-19T09:41:55.358Z"
   },
   {
    "duration": 82,
    "start_time": "2023-03-19T09:41:55.364Z"
   },
   {
    "duration": 31,
    "start_time": "2023-03-19T09:41:55.448Z"
   },
   {
    "duration": 30,
    "start_time": "2023-03-19T09:41:55.483Z"
   },
   {
    "duration": 18,
    "start_time": "2023-03-19T09:41:55.515Z"
   },
   {
    "duration": 123,
    "start_time": "2023-03-19T09:41:55.535Z"
   },
   {
    "duration": 4,
    "start_time": "2023-03-19T09:41:55.660Z"
   },
   {
    "duration": 18,
    "start_time": "2023-03-19T09:41:55.665Z"
   },
   {
    "duration": 21,
    "start_time": "2023-03-19T09:41:55.685Z"
   },
   {
    "duration": 168,
    "start_time": "2023-03-19T09:41:55.710Z"
   },
   {
    "duration": 11,
    "start_time": "2023-03-19T09:41:55.879Z"
   },
   {
    "duration": 36,
    "start_time": "2023-03-19T09:41:55.892Z"
   },
   {
    "duration": 10,
    "start_time": "2023-03-19T09:41:55.930Z"
   },
   {
    "duration": 5,
    "start_time": "2023-03-19T09:41:55.942Z"
   },
   {
    "duration": 45,
    "start_time": "2023-03-19T09:41:55.949Z"
   },
   {
    "duration": 10,
    "start_time": "2023-03-19T09:41:55.997Z"
   },
   {
    "duration": 36,
    "start_time": "2023-03-19T09:41:56.008Z"
   },
   {
    "duration": 60,
    "start_time": "2023-03-19T09:41:56.046Z"
   },
   {
    "duration": 7,
    "start_time": "2023-03-19T09:41:56.108Z"
   },
   {
    "duration": 6,
    "start_time": "2023-03-19T09:41:56.116Z"
   },
   {
    "duration": 6,
    "start_time": "2023-03-19T09:41:56.124Z"
   },
   {
    "duration": 10,
    "start_time": "2023-03-19T09:41:56.132Z"
   },
   {
    "duration": 50,
    "start_time": "2023-03-19T09:41:56.143Z"
   },
   {
    "duration": 4,
    "start_time": "2023-03-19T09:41:56.195Z"
   },
   {
    "duration": 21,
    "start_time": "2023-03-19T09:41:56.200Z"
   },
   {
    "duration": 6,
    "start_time": "2023-03-19T09:41:56.224Z"
   },
   {
    "duration": 7,
    "start_time": "2023-03-19T09:41:56.232Z"
   },
   {
    "duration": 28,
    "start_time": "2023-03-19T09:41:56.241Z"
   },
   {
    "duration": 10,
    "start_time": "2023-03-19T09:41:56.270Z"
   },
   {
    "duration": 7,
    "start_time": "2023-03-19T09:41:56.282Z"
   },
   {
    "duration": 29,
    "start_time": "2023-03-19T09:41:56.291Z"
   },
   {
    "duration": 6,
    "start_time": "2023-03-19T09:41:56.322Z"
   },
   {
    "duration": 201,
    "start_time": "2023-03-19T09:41:56.329Z"
   },
   {
    "duration": 27,
    "start_time": "2023-03-19T09:41:56.533Z"
   },
   {
    "duration": 47,
    "start_time": "2023-03-19T09:41:56.562Z"
   },
   {
    "duration": 8,
    "start_time": "2023-03-19T09:41:56.610Z"
   },
   {
    "duration": 6,
    "start_time": "2023-03-19T09:41:56.622Z"
   },
   {
    "duration": 19,
    "start_time": "2023-03-19T09:41:56.629Z"
   },
   {
    "duration": 25,
    "start_time": "2023-03-19T09:41:56.650Z"
   },
   {
    "duration": 34,
    "start_time": "2023-03-19T09:41:56.676Z"
   },
   {
    "duration": 27,
    "start_time": "2023-03-19T09:41:56.712Z"
   },
   {
    "duration": 11,
    "start_time": "2023-03-19T09:41:56.741Z"
   },
   {
    "duration": 57,
    "start_time": "2023-03-19T09:41:56.754Z"
   },
   {
    "duration": 120,
    "start_time": "2023-03-19T09:41:56.813Z"
   },
   {
    "duration": 21,
    "start_time": "2023-03-19T09:41:56.934Z"
   },
   {
    "duration": 532,
    "start_time": "2023-03-19T09:41:56.957Z"
   },
   {
    "duration": 10,
    "start_time": "2023-03-19T09:41:57.491Z"
   },
   {
    "duration": 7,
    "start_time": "2023-03-19T09:41:57.506Z"
   },
   {
    "duration": 13,
    "start_time": "2023-03-19T09:41:57.514Z"
   },
   {
    "duration": 19,
    "start_time": "2023-03-19T09:41:57.529Z"
   },
   {
    "duration": 505,
    "start_time": "2023-03-19T09:41:57.549Z"
   },
   {
    "duration": 22,
    "start_time": "2023-03-19T09:41:58.056Z"
   },
   {
    "duration": 24,
    "start_time": "2023-03-19T09:41:58.081Z"
   },
   {
    "duration": 19,
    "start_time": "2023-03-19T09:41:58.110Z"
   },
   {
    "duration": 11,
    "start_time": "2023-03-19T09:41:58.131Z"
   },
   {
    "duration": 10,
    "start_time": "2023-03-19T09:41:58.144Z"
   },
   {
    "duration": 31,
    "start_time": "2023-03-19T09:41:58.175Z"
   },
   {
    "duration": 166,
    "start_time": "2023-03-19T09:50:23.502Z"
   },
   {
    "duration": 169,
    "start_time": "2023-03-19T09:51:01.528Z"
   },
   {
    "duration": 5,
    "start_time": "2023-03-19T09:51:22.697Z"
   },
   {
    "duration": 11,
    "start_time": "2023-03-19T09:51:29.949Z"
   },
   {
    "duration": 5,
    "start_time": "2023-03-19T09:51:32.921Z"
   },
   {
    "duration": 488,
    "start_time": "2023-03-19T09:51:32.928Z"
   },
   {
    "duration": 25,
    "start_time": "2023-03-19T09:51:33.418Z"
   },
   {
    "duration": 67,
    "start_time": "2023-03-19T09:51:33.445Z"
   },
   {
    "duration": 26,
    "start_time": "2023-03-19T09:51:33.514Z"
   },
   {
    "duration": 3,
    "start_time": "2023-03-19T09:51:33.541Z"
   },
   {
    "duration": 84,
    "start_time": "2023-03-19T09:51:33.546Z"
   },
   {
    "duration": 18,
    "start_time": "2023-03-19T09:51:33.631Z"
   },
   {
    "duration": 47,
    "start_time": "2023-03-19T09:51:33.651Z"
   },
   {
    "duration": 18,
    "start_time": "2023-03-19T09:51:33.699Z"
   },
   {
    "duration": 113,
    "start_time": "2023-03-19T09:51:33.719Z"
   },
   {
    "duration": 4,
    "start_time": "2023-03-19T09:51:33.834Z"
   },
   {
    "duration": 5,
    "start_time": "2023-03-19T09:51:33.839Z"
   },
   {
    "duration": 31,
    "start_time": "2023-03-19T09:51:33.847Z"
   },
   {
    "duration": 187,
    "start_time": "2023-03-19T09:51:33.880Z"
   },
   {
    "duration": 16,
    "start_time": "2023-03-19T09:51:34.074Z"
   },
   {
    "duration": 41,
    "start_time": "2023-03-19T09:51:34.092Z"
   },
   {
    "duration": 13,
    "start_time": "2023-03-19T09:51:34.135Z"
   },
   {
    "duration": 7,
    "start_time": "2023-03-19T09:51:34.150Z"
   },
   {
    "duration": 37,
    "start_time": "2023-03-19T09:51:34.158Z"
   },
   {
    "duration": 11,
    "start_time": "2023-03-19T09:51:34.197Z"
   },
   {
    "duration": 81,
    "start_time": "2023-03-19T09:51:34.210Z"
   },
   {
    "duration": 53,
    "start_time": "2023-03-19T09:51:34.295Z"
   },
   {
    "duration": 9,
    "start_time": "2023-03-19T09:51:34.350Z"
   },
   {
    "duration": 20,
    "start_time": "2023-03-19T09:51:34.361Z"
   },
   {
    "duration": 13,
    "start_time": "2023-03-19T09:51:34.382Z"
   },
   {
    "duration": 12,
    "start_time": "2023-03-19T09:51:34.397Z"
   },
   {
    "duration": 19,
    "start_time": "2023-03-19T09:51:34.410Z"
   },
   {
    "duration": 3,
    "start_time": "2023-03-19T09:51:34.430Z"
   },
   {
    "duration": 19,
    "start_time": "2023-03-19T09:51:34.434Z"
   },
   {
    "duration": 32,
    "start_time": "2023-03-19T09:51:34.455Z"
   },
   {
    "duration": 6,
    "start_time": "2023-03-19T09:51:34.489Z"
   },
   {
    "duration": 6,
    "start_time": "2023-03-19T09:51:34.497Z"
   },
   {
    "duration": 6,
    "start_time": "2023-03-19T09:51:34.505Z"
   },
   {
    "duration": 11,
    "start_time": "2023-03-19T09:51:34.513Z"
   },
   {
    "duration": 67,
    "start_time": "2023-03-19T09:51:34.526Z"
   },
   {
    "duration": 8,
    "start_time": "2023-03-19T09:51:34.596Z"
   },
   {
    "duration": 156,
    "start_time": "2023-03-19T09:51:34.606Z"
   },
   {
    "duration": 29,
    "start_time": "2023-03-19T09:51:34.764Z"
   },
   {
    "duration": 21,
    "start_time": "2023-03-19T09:51:34.794Z"
   },
   {
    "duration": 437,
    "start_time": "2023-03-19T09:51:34.818Z"
   },
   {
    "duration": 8,
    "start_time": "2023-03-19T09:51:35.257Z"
   },
   {
    "duration": 18,
    "start_time": "2023-03-19T09:51:35.274Z"
   },
   {
    "duration": 18,
    "start_time": "2023-03-19T09:51:35.294Z"
   },
   {
    "duration": 8,
    "start_time": "2023-03-19T09:51:35.314Z"
   },
   {
    "duration": 25,
    "start_time": "2023-03-19T09:51:35.324Z"
   },
   {
    "duration": 51,
    "start_time": "2023-03-19T09:51:35.350Z"
   },
   {
    "duration": 12,
    "start_time": "2023-03-19T09:51:35.403Z"
   },
   {
    "duration": 34,
    "start_time": "2023-03-19T09:51:35.417Z"
   },
   {
    "duration": 150,
    "start_time": "2023-03-19T09:51:35.452Z"
   },
   {
    "duration": 20,
    "start_time": "2023-03-19T09:51:35.604Z"
   },
   {
    "duration": 519,
    "start_time": "2023-03-19T09:51:35.626Z"
   },
   {
    "duration": 14,
    "start_time": "2023-03-19T09:51:36.147Z"
   },
   {
    "duration": 26,
    "start_time": "2023-03-19T09:51:36.163Z"
   },
   {
    "duration": 17,
    "start_time": "2023-03-19T09:51:36.192Z"
   },
   {
    "duration": 39,
    "start_time": "2023-03-19T09:51:36.211Z"
   },
   {
    "duration": 467,
    "start_time": "2023-03-19T09:51:36.252Z"
   },
   {
    "duration": 9,
    "start_time": "2023-03-19T09:51:36.721Z"
   },
   {
    "duration": 16,
    "start_time": "2023-03-19T09:51:36.732Z"
   },
   {
    "duration": 39,
    "start_time": "2023-03-19T09:51:36.749Z"
   },
   {
    "duration": 15,
    "start_time": "2023-03-19T09:51:36.790Z"
   },
   {
    "duration": 8,
    "start_time": "2023-03-19T09:51:36.807Z"
   },
   {
    "duration": 20,
    "start_time": "2023-03-19T09:51:36.817Z"
   },
   {
    "duration": 5,
    "start_time": "2023-03-19T09:52:25.471Z"
   },
   {
    "duration": 150,
    "start_time": "2023-03-19T09:52:40.600Z"
   },
   {
    "duration": 5,
    "start_time": "2023-03-19T09:52:51.097Z"
   },
   {
    "duration": 503,
    "start_time": "2023-03-19T09:52:51.104Z"
   },
   {
    "duration": 17,
    "start_time": "2023-03-19T09:52:51.608Z"
   },
   {
    "duration": 68,
    "start_time": "2023-03-19T09:52:51.626Z"
   },
   {
    "duration": 26,
    "start_time": "2023-03-19T09:52:51.697Z"
   },
   {
    "duration": 4,
    "start_time": "2023-03-19T09:52:51.724Z"
   },
   {
    "duration": 85,
    "start_time": "2023-03-19T09:52:51.729Z"
   },
   {
    "duration": 16,
    "start_time": "2023-03-19T09:52:51.815Z"
   },
   {
    "duration": 49,
    "start_time": "2023-03-19T09:52:51.833Z"
   },
   {
    "duration": 20,
    "start_time": "2023-03-19T09:52:51.892Z"
   },
   {
    "duration": 121,
    "start_time": "2023-03-19T09:52:51.913Z"
   },
   {
    "duration": 4,
    "start_time": "2023-03-19T09:52:52.036Z"
   },
   {
    "duration": 13,
    "start_time": "2023-03-19T09:52:52.042Z"
   },
   {
    "duration": 28,
    "start_time": "2023-03-19T09:52:52.059Z"
   },
   {
    "duration": 200,
    "start_time": "2023-03-19T09:52:52.089Z"
   },
   {
    "duration": 6,
    "start_time": "2023-03-19T09:52:52.291Z"
   },
   {
    "duration": 34,
    "start_time": "2023-03-19T09:52:52.298Z"
   },
   {
    "duration": 11,
    "start_time": "2023-03-19T09:52:52.334Z"
   },
   {
    "duration": 5,
    "start_time": "2023-03-19T09:52:52.347Z"
   },
   {
    "duration": 34,
    "start_time": "2023-03-19T09:52:52.354Z"
   },
   {
    "duration": 25,
    "start_time": "2023-03-19T09:52:52.390Z"
   },
   {
    "duration": 39,
    "start_time": "2023-03-19T09:52:52.417Z"
   },
   {
    "duration": 55,
    "start_time": "2023-03-19T09:52:52.458Z"
   },
   {
    "duration": 7,
    "start_time": "2023-03-19T09:52:52.516Z"
   },
   {
    "duration": 7,
    "start_time": "2023-03-19T09:52:52.525Z"
   },
   {
    "duration": 6,
    "start_time": "2023-03-19T09:52:52.534Z"
   },
   {
    "duration": 9,
    "start_time": "2023-03-19T09:52:52.541Z"
   },
   {
    "duration": 21,
    "start_time": "2023-03-19T09:52:52.577Z"
   },
   {
    "duration": 6,
    "start_time": "2023-03-19T09:52:52.600Z"
   },
   {
    "duration": 14,
    "start_time": "2023-03-19T09:52:52.608Z"
   },
   {
    "duration": 10,
    "start_time": "2023-03-19T09:52:52.624Z"
   },
   {
    "duration": 7,
    "start_time": "2023-03-19T09:52:52.636Z"
   },
   {
    "duration": 33,
    "start_time": "2023-03-19T09:52:52.645Z"
   },
   {
    "duration": 7,
    "start_time": "2023-03-19T09:52:52.683Z"
   },
   {
    "duration": 7,
    "start_time": "2023-03-19T09:52:52.692Z"
   },
   {
    "duration": 29,
    "start_time": "2023-03-19T09:52:52.701Z"
   },
   {
    "duration": 6,
    "start_time": "2023-03-19T09:52:52.732Z"
   },
   {
    "duration": 187,
    "start_time": "2023-03-19T09:52:52.740Z"
   },
   {
    "duration": 19,
    "start_time": "2023-03-19T09:52:52.930Z"
   },
   {
    "duration": 8,
    "start_time": "2023-03-19T09:52:52.951Z"
   },
   {
    "duration": 348,
    "start_time": "2023-03-19T09:52:52.979Z"
   },
   {
    "duration": 8,
    "start_time": "2023-03-19T09:52:53.328Z"
   },
   {
    "duration": 5,
    "start_time": "2023-03-19T09:52:53.338Z"
   },
   {
    "duration": 35,
    "start_time": "2023-03-19T09:52:53.345Z"
   },
   {
    "duration": 10,
    "start_time": "2023-03-19T09:52:53.389Z"
   },
   {
    "duration": 30,
    "start_time": "2023-03-19T09:52:53.401Z"
   },
   {
    "duration": 49,
    "start_time": "2023-03-19T09:52:53.432Z"
   },
   {
    "duration": 12,
    "start_time": "2023-03-19T09:52:53.490Z"
   },
   {
    "duration": 29,
    "start_time": "2023-03-19T09:52:53.503Z"
   },
   {
    "duration": 122,
    "start_time": "2023-03-19T09:52:53.534Z"
   },
   {
    "duration": 32,
    "start_time": "2023-03-19T09:52:53.658Z"
   },
   {
    "duration": 429,
    "start_time": "2023-03-19T09:52:53.692Z"
   },
   {
    "duration": 12,
    "start_time": "2023-03-19T09:52:54.123Z"
   },
   {
    "duration": 11,
    "start_time": "2023-03-19T09:52:54.137Z"
   },
   {
    "duration": 46,
    "start_time": "2023-03-19T09:52:54.150Z"
   },
   {
    "duration": 22,
    "start_time": "2023-03-19T09:52:54.198Z"
   },
   {
    "duration": 630,
    "start_time": "2023-03-19T09:52:54.222Z"
   },
   {
    "duration": 11,
    "start_time": "2023-03-19T09:52:54.854Z"
   },
   {
    "duration": 29,
    "start_time": "2023-03-19T09:52:54.867Z"
   },
   {
    "duration": 27,
    "start_time": "2023-03-19T09:52:54.898Z"
   },
   {
    "duration": 15,
    "start_time": "2023-03-19T09:52:54.927Z"
   },
   {
    "duration": 44,
    "start_time": "2023-03-19T09:52:54.944Z"
   },
   {
    "duration": 18,
    "start_time": "2023-03-19T09:52:54.990Z"
   },
   {
    "duration": 364,
    "start_time": "2023-03-19T09:53:15.933Z"
   },
   {
    "duration": 380,
    "start_time": "2023-03-19T09:55:37.046Z"
   },
   {
    "duration": 5,
    "start_time": "2023-03-19T12:37:20.933Z"
   },
   {
    "duration": 509,
    "start_time": "2023-03-19T12:37:20.940Z"
   },
   {
    "duration": 16,
    "start_time": "2023-03-19T12:37:21.451Z"
   },
   {
    "duration": 67,
    "start_time": "2023-03-19T12:37:21.469Z"
   },
   {
    "duration": 27,
    "start_time": "2023-03-19T12:37:21.539Z"
   },
   {
    "duration": 3,
    "start_time": "2023-03-19T12:37:21.568Z"
   },
   {
    "duration": 122,
    "start_time": "2023-03-19T12:37:21.573Z"
   },
   {
    "duration": 18,
    "start_time": "2023-03-19T12:37:21.696Z"
   },
   {
    "duration": 29,
    "start_time": "2023-03-19T12:37:21.716Z"
   },
   {
    "duration": 44,
    "start_time": "2023-03-19T12:37:21.747Z"
   },
   {
    "duration": 113,
    "start_time": "2023-03-19T12:37:21.793Z"
   },
   {
    "duration": 5,
    "start_time": "2023-03-19T12:37:21.908Z"
   },
   {
    "duration": 13,
    "start_time": "2023-03-19T12:37:21.915Z"
   },
   {
    "duration": 22,
    "start_time": "2023-03-19T12:37:21.931Z"
   },
   {
    "duration": 195,
    "start_time": "2023-03-19T12:37:21.955Z"
   },
   {
    "duration": 5,
    "start_time": "2023-03-19T12:37:22.152Z"
   },
   {
    "duration": 50,
    "start_time": "2023-03-19T12:37:22.159Z"
   },
   {
    "duration": 10,
    "start_time": "2023-03-19T12:37:22.211Z"
   },
   {
    "duration": 15,
    "start_time": "2023-03-19T12:37:22.223Z"
   },
   {
    "duration": 18,
    "start_time": "2023-03-19T12:37:22.240Z"
   },
   {
    "duration": 31,
    "start_time": "2023-03-19T12:37:22.259Z"
   },
   {
    "duration": 50,
    "start_time": "2023-03-19T12:37:22.292Z"
   },
   {
    "duration": 45,
    "start_time": "2023-03-19T12:37:22.344Z"
   },
   {
    "duration": 7,
    "start_time": "2023-03-19T12:37:22.391Z"
   },
   {
    "duration": 27,
    "start_time": "2023-03-19T12:37:22.400Z"
   },
   {
    "duration": 12,
    "start_time": "2023-03-19T12:37:22.428Z"
   },
   {
    "duration": 11,
    "start_time": "2023-03-19T12:37:22.442Z"
   },
   {
    "duration": 28,
    "start_time": "2023-03-19T12:37:22.454Z"
   },
   {
    "duration": 3,
    "start_time": "2023-03-19T12:37:22.484Z"
   },
   {
    "duration": 14,
    "start_time": "2023-03-19T12:37:22.489Z"
   },
   {
    "duration": 4,
    "start_time": "2023-03-19T12:37:22.505Z"
   },
   {
    "duration": 10,
    "start_time": "2023-03-19T12:37:22.511Z"
   },
   {
    "duration": 6,
    "start_time": "2023-03-19T12:37:22.523Z"
   },
   {
    "duration": 12,
    "start_time": "2023-03-19T12:37:22.531Z"
   },
   {
    "duration": 34,
    "start_time": "2023-03-19T12:37:22.544Z"
   },
   {
    "duration": 42,
    "start_time": "2023-03-19T12:37:22.580Z"
   },
   {
    "duration": 6,
    "start_time": "2023-03-19T12:37:22.623Z"
   },
   {
    "duration": 141,
    "start_time": "2023-03-19T12:37:22.631Z"
   },
   {
    "duration": 19,
    "start_time": "2023-03-19T12:37:22.775Z"
   },
   {
    "duration": 7,
    "start_time": "2023-03-19T12:37:22.795Z"
   },
   {
    "duration": 362,
    "start_time": "2023-03-19T12:37:22.807Z"
   },
   {
    "duration": 9,
    "start_time": "2023-03-19T12:37:23.171Z"
   },
   {
    "duration": 5,
    "start_time": "2023-03-19T12:37:23.182Z"
   },
   {
    "duration": 16,
    "start_time": "2023-03-19T12:37:23.189Z"
   },
   {
    "duration": 9,
    "start_time": "2023-03-19T12:37:23.207Z"
   },
   {
    "duration": 57,
    "start_time": "2023-03-19T12:37:23.218Z"
   },
   {
    "duration": 129,
    "start_time": "2023-03-19T12:37:23.277Z"
   },
   {
    "duration": 11,
    "start_time": "2023-03-19T12:37:23.408Z"
   },
   {
    "duration": 31,
    "start_time": "2023-03-19T12:37:23.421Z"
   },
   {
    "duration": 110,
    "start_time": "2023-03-19T12:37:23.475Z"
   },
   {
    "duration": 20,
    "start_time": "2023-03-19T12:37:23.586Z"
   },
   {
    "duration": 402,
    "start_time": "2023-03-19T12:37:23.609Z"
   },
   {
    "duration": 9,
    "start_time": "2023-03-19T12:37:24.012Z"
   },
   {
    "duration": 11,
    "start_time": "2023-03-19T12:37:24.022Z"
   },
   {
    "duration": 17,
    "start_time": "2023-03-19T12:37:24.035Z"
   },
   {
    "duration": 22,
    "start_time": "2023-03-19T12:37:24.076Z"
   },
   {
    "duration": 511,
    "start_time": "2023-03-19T12:37:24.100Z"
   },
   {
    "duration": 11,
    "start_time": "2023-03-19T12:37:24.613Z"
   },
   {
    "duration": 13,
    "start_time": "2023-03-19T12:37:24.626Z"
   },
   {
    "duration": 44,
    "start_time": "2023-03-19T12:37:24.641Z"
   },
   {
    "duration": 12,
    "start_time": "2023-03-19T12:37:24.687Z"
   },
   {
    "duration": 8,
    "start_time": "2023-03-19T12:37:24.701Z"
   },
   {
    "duration": 22,
    "start_time": "2023-03-19T12:37:24.711Z"
   },
   {
    "duration": 52,
    "start_time": "2023-03-19T12:39:25.685Z"
   },
   {
    "duration": 4,
    "start_time": "2023-03-19T12:39:30.337Z"
   },
   {
    "duration": 527,
    "start_time": "2023-03-19T12:39:30.343Z"
   },
   {
    "duration": 21,
    "start_time": "2023-03-19T12:39:30.875Z"
   },
   {
    "duration": 97,
    "start_time": "2023-03-19T12:39:30.898Z"
   },
   {
    "duration": 27,
    "start_time": "2023-03-19T12:39:30.997Z"
   },
   {
    "duration": 29,
    "start_time": "2023-03-19T12:39:31.026Z"
   },
   {
    "duration": 107,
    "start_time": "2023-03-19T12:39:31.057Z"
   },
   {
    "duration": 22,
    "start_time": "2023-03-19T12:39:31.165Z"
   },
   {
    "duration": 84,
    "start_time": "2023-03-19T12:39:31.189Z"
   },
   {
    "duration": 70,
    "start_time": "2023-03-19T12:39:31.274Z"
   },
   {
    "duration": 114,
    "start_time": "2023-03-19T12:39:31.346Z"
   },
   {
    "duration": 5,
    "start_time": "2023-03-19T12:39:31.462Z"
   },
   {
    "duration": 55,
    "start_time": "2023-03-19T12:39:31.468Z"
   },
   {
    "duration": 32,
    "start_time": "2023-03-19T12:39:31.528Z"
   },
   {
    "duration": 332,
    "start_time": "2023-03-19T12:39:31.562Z"
   },
   {
    "duration": 7,
    "start_time": "2023-03-19T12:39:31.897Z"
   },
   {
    "duration": 102,
    "start_time": "2023-03-19T12:39:31.906Z"
   },
   {
    "duration": 66,
    "start_time": "2023-03-19T12:39:32.010Z"
   },
   {
    "duration": 12,
    "start_time": "2023-03-19T12:39:32.079Z"
   },
   {
    "duration": 14,
    "start_time": "2023-03-19T12:39:32.093Z"
   },
   {
    "duration": 18,
    "start_time": "2023-03-19T12:39:32.109Z"
   },
   {
    "duration": 161,
    "start_time": "2023-03-19T12:39:32.128Z"
   },
   {
    "duration": 108,
    "start_time": "2023-03-19T12:39:32.293Z"
   },
   {
    "duration": 9,
    "start_time": "2023-03-19T12:39:32.402Z"
   },
   {
    "duration": 7,
    "start_time": "2023-03-19T12:39:32.413Z"
   },
   {
    "duration": 72,
    "start_time": "2023-03-19T12:39:32.422Z"
   },
   {
    "duration": 13,
    "start_time": "2023-03-19T12:39:32.497Z"
   },
   {
    "duration": 77,
    "start_time": "2023-03-19T12:39:32.512Z"
   },
   {
    "duration": 3,
    "start_time": "2023-03-19T12:39:32.597Z"
   },
   {
    "duration": 19,
    "start_time": "2023-03-19T12:39:32.602Z"
   },
   {
    "duration": 62,
    "start_time": "2023-03-19T12:39:32.623Z"
   },
   {
    "duration": 5,
    "start_time": "2023-03-19T12:39:32.686Z"
   },
   {
    "duration": 15,
    "start_time": "2023-03-19T12:39:32.692Z"
   },
   {
    "duration": 9,
    "start_time": "2023-03-19T12:39:32.709Z"
   },
   {
    "duration": 9,
    "start_time": "2023-03-19T12:39:32.720Z"
   },
   {
    "duration": 40,
    "start_time": "2023-03-19T12:39:32.775Z"
   },
   {
    "duration": 6,
    "start_time": "2023-03-19T12:39:32.817Z"
   },
   {
    "duration": 326,
    "start_time": "2023-03-19T12:39:32.875Z"
   },
   {
    "duration": 73,
    "start_time": "2023-03-19T12:39:33.203Z"
   },
   {
    "duration": 9,
    "start_time": "2023-03-19T12:39:33.286Z"
   },
   {
    "duration": 689,
    "start_time": "2023-03-19T12:39:33.302Z"
   },
   {
    "duration": 8,
    "start_time": "2023-03-19T12:39:33.993Z"
   },
   {
    "duration": 7,
    "start_time": "2023-03-19T12:39:34.003Z"
   },
   {
    "duration": 26,
    "start_time": "2023-03-19T12:39:34.011Z"
   },
   {
    "duration": 23,
    "start_time": "2023-03-19T12:39:34.039Z"
   },
   {
    "duration": 35,
    "start_time": "2023-03-19T12:39:34.077Z"
   },
   {
    "duration": 39,
    "start_time": "2023-03-19T12:39:34.116Z"
   },
   {
    "duration": 37,
    "start_time": "2023-03-19T12:39:34.156Z"
   },
   {
    "duration": 42,
    "start_time": "2023-03-19T12:39:34.194Z"
   },
   {
    "duration": 127,
    "start_time": "2023-03-19T12:39:34.238Z"
   },
   {
    "duration": 39,
    "start_time": "2023-03-19T12:39:34.367Z"
   },
   {
    "duration": 420,
    "start_time": "2023-03-19T12:39:34.407Z"
   },
   {
    "duration": 8,
    "start_time": "2023-03-19T12:39:34.829Z"
   },
   {
    "duration": 8,
    "start_time": "2023-03-19T12:39:34.839Z"
   },
   {
    "duration": 40,
    "start_time": "2023-03-19T12:39:34.849Z"
   },
   {
    "duration": 19,
    "start_time": "2023-03-19T12:39:34.890Z"
   },
   {
    "duration": 595,
    "start_time": "2023-03-19T12:39:34.910Z"
   },
   {
    "duration": 9,
    "start_time": "2023-03-19T12:39:35.507Z"
   },
   {
    "duration": 20,
    "start_time": "2023-03-19T12:39:35.518Z"
   },
   {
    "duration": 20,
    "start_time": "2023-03-19T12:39:35.540Z"
   },
   {
    "duration": 31,
    "start_time": "2023-03-19T12:39:35.562Z"
   },
   {
    "duration": 9,
    "start_time": "2023-03-19T12:39:35.596Z"
   },
   {
    "duration": 27,
    "start_time": "2023-03-19T12:39:35.607Z"
   },
   {
    "duration": 40,
    "start_time": "2023-03-19T12:40:25.023Z"
   },
   {
    "duration": 59,
    "start_time": "2023-03-19T12:41:19.397Z"
   },
   {
    "duration": 30,
    "start_time": "2023-03-19T12:45:01.885Z"
   },
   {
    "duration": 12,
    "start_time": "2023-03-19T13:04:51.490Z"
   },
   {
    "duration": 12,
    "start_time": "2023-03-19T13:04:53.909Z"
   },
   {
    "duration": 1303,
    "start_time": "2023-03-19T13:05:15.834Z"
   },
   {
    "duration": 506,
    "start_time": "2023-03-19T13:05:17.139Z"
   },
   {
    "duration": 17,
    "start_time": "2023-03-19T13:05:17.647Z"
   },
   {
    "duration": 89,
    "start_time": "2023-03-19T13:05:17.666Z"
   },
   {
    "duration": 32,
    "start_time": "2023-03-19T13:05:17.757Z"
   },
   {
    "duration": 4,
    "start_time": "2023-03-19T13:05:17.791Z"
   },
   {
    "duration": 98,
    "start_time": "2023-03-19T13:05:17.796Z"
   },
   {
    "duration": 18,
    "start_time": "2023-03-19T13:05:17.896Z"
   },
   {
    "duration": 35,
    "start_time": "2023-03-19T13:05:17.916Z"
   },
   {
    "duration": 20,
    "start_time": "2023-03-19T13:05:17.978Z"
   },
   {
    "duration": 133,
    "start_time": "2023-03-19T13:05:18.000Z"
   },
   {
    "duration": 4,
    "start_time": "2023-03-19T13:05:18.135Z"
   },
   {
    "duration": 5,
    "start_time": "2023-03-19T13:05:18.141Z"
   },
   {
    "duration": 35,
    "start_time": "2023-03-19T13:05:18.148Z"
   },
   {
    "duration": 211,
    "start_time": "2023-03-19T13:05:18.185Z"
   },
   {
    "duration": 7,
    "start_time": "2023-03-19T13:05:18.398Z"
   },
   {
    "duration": 36,
    "start_time": "2023-03-19T13:05:18.407Z"
   },
   {
    "duration": 47,
    "start_time": "2023-03-19T13:05:18.445Z"
   },
   {
    "duration": 6,
    "start_time": "2023-03-19T13:05:18.494Z"
   },
   {
    "duration": 11,
    "start_time": "2023-03-19T13:05:18.502Z"
   },
   {
    "duration": 7,
    "start_time": "2023-03-19T13:05:18.515Z"
   },
   {
    "duration": 60,
    "start_time": "2023-03-19T13:05:18.524Z"
   },
   {
    "duration": 56,
    "start_time": "2023-03-19T13:05:18.586Z"
   },
   {
    "duration": 75,
    "start_time": "2023-03-19T13:05:18.643Z"
   },
   {
    "duration": 7,
    "start_time": "2023-03-19T13:05:18.719Z"
   },
   {
    "duration": 6,
    "start_time": "2023-03-19T13:05:18.728Z"
   },
   {
    "duration": 40,
    "start_time": "2023-03-19T13:05:18.735Z"
   },
   {
    "duration": 15,
    "start_time": "2023-03-19T13:05:18.779Z"
   },
   {
    "duration": 21,
    "start_time": "2023-03-19T13:05:18.795Z"
   },
   {
    "duration": 3,
    "start_time": "2023-03-19T13:05:18.818Z"
   },
   {
    "duration": 12,
    "start_time": "2023-03-19T13:05:18.822Z"
   },
   {
    "duration": 4,
    "start_time": "2023-03-19T13:05:18.836Z"
   },
   {
    "duration": 6,
    "start_time": "2023-03-19T13:05:18.842Z"
   },
   {
    "duration": 33,
    "start_time": "2023-03-19T13:05:18.849Z"
   },
   {
    "duration": 5,
    "start_time": "2023-03-19T13:05:18.891Z"
   },
   {
    "duration": 6,
    "start_time": "2023-03-19T13:05:18.898Z"
   },
   {
    "duration": 27,
    "start_time": "2023-03-19T13:05:18.905Z"
   },
   {
    "duration": 5,
    "start_time": "2023-03-19T13:05:18.934Z"
   },
   {
    "duration": 175,
    "start_time": "2023-03-19T13:05:18.941Z"
   },
   {
    "duration": 80,
    "start_time": "2023-03-19T13:05:19.118Z"
   },
   {
    "duration": 9,
    "start_time": "2023-03-19T13:05:19.201Z"
   },
   {
    "duration": 684,
    "start_time": "2023-03-19T13:05:19.212Z"
   },
   {
    "duration": 8,
    "start_time": "2023-03-19T13:05:19.898Z"
   },
   {
    "duration": 7,
    "start_time": "2023-03-19T13:05:19.907Z"
   },
   {
    "duration": 9,
    "start_time": "2023-03-19T13:05:19.915Z"
   },
   {
    "duration": 25,
    "start_time": "2023-03-19T13:05:19.926Z"
   },
   {
    "duration": 33,
    "start_time": "2023-03-19T13:05:19.978Z"
   },
   {
    "duration": 11,
    "start_time": "2023-03-19T13:05:20.013Z"
   },
   {
    "duration": 63,
    "start_time": "2023-03-19T13:05:20.026Z"
   },
   {
    "duration": 115,
    "start_time": "2023-03-19T13:05:20.091Z"
   },
   {
    "duration": 21,
    "start_time": "2023-03-19T13:05:20.209Z"
   },
   {
    "duration": 451,
    "start_time": "2023-03-19T13:05:20.232Z"
   },
   {
    "duration": 8,
    "start_time": "2023-03-19T13:05:20.688Z"
   },
   {
    "duration": 8,
    "start_time": "2023-03-19T13:05:20.698Z"
   },
   {
    "duration": 12,
    "start_time": "2023-03-19T13:05:20.707Z"
   },
   {
    "duration": 19,
    "start_time": "2023-03-19T13:05:20.721Z"
   },
   {
    "duration": 612,
    "start_time": "2023-03-19T13:05:20.742Z"
   },
   {
    "duration": 9,
    "start_time": "2023-03-19T13:05:21.356Z"
   },
   {
    "duration": 149,
    "start_time": "2023-03-19T13:05:21.367Z"
   },
   {
    "duration": 60,
    "start_time": "2023-03-19T13:05:21.518Z"
   },
   {
    "duration": 15,
    "start_time": "2023-03-19T13:05:21.580Z"
   },
   {
    "duration": 7,
    "start_time": "2023-03-19T13:05:21.597Z"
   },
   {
    "duration": 75,
    "start_time": "2023-03-19T13:05:21.606Z"
   },
   {
    "duration": 10,
    "start_time": "2023-03-19T13:13:50.929Z"
   },
   {
    "duration": 13,
    "start_time": "2023-03-19T13:14:42.738Z"
   },
   {
    "duration": 1258,
    "start_time": "2023-03-19T13:32:10.700Z"
   },
   {
    "duration": 507,
    "start_time": "2023-03-19T13:32:11.960Z"
   },
   {
    "duration": 22,
    "start_time": "2023-03-19T13:32:12.469Z"
   },
   {
    "duration": 69,
    "start_time": "2023-03-19T13:32:12.493Z"
   },
   {
    "duration": 33,
    "start_time": "2023-03-19T13:32:12.565Z"
   },
   {
    "duration": 4,
    "start_time": "2023-03-19T13:32:12.599Z"
   },
   {
    "duration": 85,
    "start_time": "2023-03-19T13:32:12.604Z"
   },
   {
    "duration": 16,
    "start_time": "2023-03-19T13:32:12.692Z"
   },
   {
    "duration": 23,
    "start_time": "2023-03-19T13:32:12.710Z"
   },
   {
    "duration": 56,
    "start_time": "2023-03-19T13:32:12.736Z"
   },
   {
    "duration": 106,
    "start_time": "2023-03-19T13:32:12.793Z"
   },
   {
    "duration": 4,
    "start_time": "2023-03-19T13:32:12.900Z"
   },
   {
    "duration": 7,
    "start_time": "2023-03-19T13:32:12.906Z"
   },
   {
    "duration": 14,
    "start_time": "2023-03-19T13:32:12.916Z"
   },
   {
    "duration": 215,
    "start_time": "2023-03-19T13:32:12.931Z"
   },
   {
    "duration": 5,
    "start_time": "2023-03-19T13:32:13.148Z"
   },
   {
    "duration": 48,
    "start_time": "2023-03-19T13:32:13.155Z"
   },
   {
    "duration": 11,
    "start_time": "2023-03-19T13:32:13.205Z"
   },
   {
    "duration": 5,
    "start_time": "2023-03-19T13:32:13.218Z"
   },
   {
    "duration": 10,
    "start_time": "2023-03-19T13:32:13.226Z"
   },
   {
    "duration": 43,
    "start_time": "2023-03-19T13:32:13.238Z"
   },
   {
    "duration": 52,
    "start_time": "2023-03-19T13:32:13.283Z"
   },
   {
    "duration": 67,
    "start_time": "2023-03-19T13:32:13.337Z"
   },
   {
    "duration": 82,
    "start_time": "2023-03-19T13:32:13.406Z"
   },
   {
    "duration": 8,
    "start_time": "2023-03-19T13:32:13.492Z"
   },
   {
    "duration": 15,
    "start_time": "2023-03-19T13:32:13.501Z"
   },
   {
    "duration": 11,
    "start_time": "2023-03-19T13:32:13.518Z"
   },
   {
    "duration": 9,
    "start_time": "2023-03-19T13:32:13.531Z"
   },
   {
    "duration": 18,
    "start_time": "2023-03-19T13:32:13.542Z"
   },
   {
    "duration": 6,
    "start_time": "2023-03-19T13:32:13.578Z"
   },
   {
    "duration": 13,
    "start_time": "2023-03-19T13:32:13.586Z"
   },
   {
    "duration": 4,
    "start_time": "2023-03-19T13:32:13.601Z"
   },
   {
    "duration": 7,
    "start_time": "2023-03-19T13:32:13.607Z"
   },
   {
    "duration": 7,
    "start_time": "2023-03-19T13:32:13.616Z"
   },
   {
    "duration": 6,
    "start_time": "2023-03-19T13:32:13.625Z"
   },
   {
    "duration": 7,
    "start_time": "2023-03-19T13:32:13.633Z"
   },
   {
    "duration": 61,
    "start_time": "2023-03-19T13:32:13.642Z"
   },
   {
    "duration": 5,
    "start_time": "2023-03-19T13:32:13.705Z"
   },
   {
    "duration": 172,
    "start_time": "2023-03-19T13:32:13.712Z"
   },
   {
    "duration": 31,
    "start_time": "2023-03-19T13:32:13.888Z"
   },
   {
    "duration": 7,
    "start_time": "2023-03-19T13:32:13.924Z"
   },
   {
    "duration": 548,
    "start_time": "2023-03-19T13:32:13.932Z"
   },
   {
    "duration": 9,
    "start_time": "2023-03-19T13:32:14.488Z"
   },
   {
    "duration": 8,
    "start_time": "2023-03-19T13:32:14.498Z"
   },
   {
    "duration": 15,
    "start_time": "2023-03-19T13:32:14.507Z"
   },
   {
    "duration": 25,
    "start_time": "2023-03-19T13:32:14.524Z"
   },
   {
    "duration": 54,
    "start_time": "2023-03-19T13:32:14.551Z"
   },
   {
    "duration": 10,
    "start_time": "2023-03-19T13:32:14.607Z"
   },
   {
    "duration": 32,
    "start_time": "2023-03-19T13:32:14.619Z"
   },
   {
    "duration": 115,
    "start_time": "2023-03-19T13:32:14.652Z"
   },
   {
    "duration": 24,
    "start_time": "2023-03-19T13:32:14.776Z"
   },
   {
    "duration": 409,
    "start_time": "2023-03-19T13:32:14.802Z"
   },
   {
    "duration": 8,
    "start_time": "2023-03-19T13:32:15.213Z"
   },
   {
    "duration": 7,
    "start_time": "2023-03-19T13:32:15.222Z"
   },
   {
    "duration": 17,
    "start_time": "2023-03-19T13:32:15.230Z"
   },
   {
    "duration": 48,
    "start_time": "2023-03-19T13:32:15.249Z"
   },
   {
    "duration": 527,
    "start_time": "2023-03-19T13:32:15.299Z"
   },
   {
    "duration": 9,
    "start_time": "2023-03-19T13:32:15.829Z"
   },
   {
    "duration": 152,
    "start_time": "2023-03-19T13:32:15.840Z"
   },
   {
    "duration": 25,
    "start_time": "2023-03-19T13:32:15.995Z"
   },
   {
    "duration": 56,
    "start_time": "2023-03-19T13:32:16.022Z"
   },
   {
    "duration": 14,
    "start_time": "2023-03-19T13:32:16.080Z"
   },
   {
    "duration": 21,
    "start_time": "2023-03-19T13:32:16.096Z"
   },
   {
    "duration": 1095,
    "start_time": "2023-03-19T14:31:08.889Z"
   },
   {
    "duration": 405,
    "start_time": "2023-03-19T14:31:09.986Z"
   },
   {
    "duration": 15,
    "start_time": "2023-03-19T14:31:10.392Z"
   },
   {
    "duration": 67,
    "start_time": "2023-03-19T14:31:10.409Z"
   },
   {
    "duration": 24,
    "start_time": "2023-03-19T14:31:10.478Z"
   },
   {
    "duration": 3,
    "start_time": "2023-03-19T14:31:10.504Z"
   },
   {
    "duration": 83,
    "start_time": "2023-03-19T14:31:10.508Z"
   },
   {
    "duration": 14,
    "start_time": "2023-03-19T14:31:10.592Z"
   },
   {
    "duration": 35,
    "start_time": "2023-03-19T14:31:10.607Z"
   },
   {
    "duration": 18,
    "start_time": "2023-03-19T14:31:10.644Z"
   },
   {
    "duration": 103,
    "start_time": "2023-03-19T14:31:10.664Z"
   },
   {
    "duration": 4,
    "start_time": "2023-03-19T14:31:10.769Z"
   },
   {
    "duration": 4,
    "start_time": "2023-03-19T14:31:10.774Z"
   },
   {
    "duration": 14,
    "start_time": "2023-03-19T14:31:10.780Z"
   },
   {
    "duration": 158,
    "start_time": "2023-03-19T14:31:10.795Z"
   },
   {
    "duration": 5,
    "start_time": "2023-03-19T14:31:10.955Z"
   },
   {
    "duration": 26,
    "start_time": "2023-03-19T14:31:10.962Z"
   },
   {
    "duration": 9,
    "start_time": "2023-03-19T14:31:10.990Z"
   },
   {
    "duration": 5,
    "start_time": "2023-03-19T14:31:11.000Z"
   },
   {
    "duration": 39,
    "start_time": "2023-03-19T14:31:11.007Z"
   },
   {
    "duration": 6,
    "start_time": "2023-03-19T14:31:11.048Z"
   },
   {
    "duration": 34,
    "start_time": "2023-03-19T14:31:11.056Z"
   },
   {
    "duration": 72,
    "start_time": "2023-03-19T14:31:11.091Z"
   },
   {
    "duration": 52,
    "start_time": "2023-03-19T14:31:11.165Z"
   },
   {
    "duration": 23,
    "start_time": "2023-03-19T14:31:11.219Z"
   },
   {
    "duration": 6,
    "start_time": "2023-03-19T14:31:11.244Z"
   },
   {
    "duration": 6,
    "start_time": "2023-03-19T14:31:11.251Z"
   },
   {
    "duration": 7,
    "start_time": "2023-03-19T14:31:11.258Z"
   },
   {
    "duration": 18,
    "start_time": "2023-03-19T14:31:11.266Z"
   },
   {
    "duration": 2,
    "start_time": "2023-03-19T14:31:11.285Z"
   },
   {
    "duration": 19,
    "start_time": "2023-03-19T14:31:11.288Z"
   },
   {
    "duration": 4,
    "start_time": "2023-03-19T14:31:11.308Z"
   },
   {
    "duration": 30,
    "start_time": "2023-03-19T14:31:11.313Z"
   },
   {
    "duration": 15,
    "start_time": "2023-03-19T14:31:11.344Z"
   },
   {
    "duration": 15,
    "start_time": "2023-03-19T14:31:11.361Z"
   },
   {
    "duration": 6,
    "start_time": "2023-03-19T14:31:11.377Z"
   },
   {
    "duration": 22,
    "start_time": "2023-03-19T14:31:11.385Z"
   },
   {
    "duration": 5,
    "start_time": "2023-03-19T14:31:11.408Z"
   },
   {
    "duration": 127,
    "start_time": "2023-03-19T14:31:11.414Z"
   },
   {
    "duration": 19,
    "start_time": "2023-03-19T14:31:11.542Z"
   },
   {
    "duration": 15,
    "start_time": "2023-03-19T14:31:11.564Z"
   },
   {
    "duration": 377,
    "start_time": "2023-03-19T14:31:11.580Z"
   },
   {
    "duration": 7,
    "start_time": "2023-03-19T14:31:11.959Z"
   },
   {
    "duration": 8,
    "start_time": "2023-03-19T14:31:11.968Z"
   },
   {
    "duration": 17,
    "start_time": "2023-03-19T14:31:11.977Z"
   },
   {
    "duration": 21,
    "start_time": "2023-03-19T14:31:11.996Z"
   },
   {
    "duration": 34,
    "start_time": "2023-03-19T14:31:12.019Z"
   },
   {
    "duration": 9,
    "start_time": "2023-03-19T14:31:12.055Z"
   },
   {
    "duration": 26,
    "start_time": "2023-03-19T14:31:12.065Z"
   },
   {
    "duration": 108,
    "start_time": "2023-03-19T14:31:12.093Z"
   },
   {
    "duration": 16,
    "start_time": "2023-03-19T14:31:12.202Z"
   },
   {
    "duration": 352,
    "start_time": "2023-03-19T14:31:12.220Z"
   },
   {
    "duration": 8,
    "start_time": "2023-03-19T14:31:12.574Z"
   },
   {
    "duration": 6,
    "start_time": "2023-03-19T14:31:12.583Z"
   },
   {
    "duration": 13,
    "start_time": "2023-03-19T14:31:12.591Z"
   },
   {
    "duration": 38,
    "start_time": "2023-03-19T14:31:12.605Z"
   },
   {
    "duration": 420,
    "start_time": "2023-03-19T14:31:12.645Z"
   },
   {
    "duration": 8,
    "start_time": "2023-03-19T14:31:13.067Z"
   },
   {
    "duration": 3952,
    "start_time": "2023-03-19T14:31:13.076Z"
   },
   {
    "duration": 17,
    "start_time": "2023-03-19T14:31:17.029Z"
   },
   {
    "duration": 10,
    "start_time": "2023-03-19T14:31:17.047Z"
   },
   {
    "duration": 6,
    "start_time": "2023-03-19T14:31:17.058Z"
   },
   {
    "duration": 17,
    "start_time": "2023-03-19T14:31:17.065Z"
   },
   {
    "duration": 1562,
    "start_time": "2023-03-22T14:40:46.423Z"
   },
   {
    "duration": 1547,
    "start_time": "2023-03-22T14:40:47.987Z"
   },
   {
    "duration": 76,
    "start_time": "2023-03-22T14:40:49.536Z"
   },
   {
    "duration": 221,
    "start_time": "2023-03-22T14:40:49.614Z"
   },
   {
    "duration": 110,
    "start_time": "2023-03-22T14:40:49.837Z"
   },
   {
    "duration": 3,
    "start_time": "2023-03-22T14:40:49.948Z"
   },
   {
    "duration": 105,
    "start_time": "2023-03-22T14:40:49.952Z"
   },
   {
    "duration": 28,
    "start_time": "2023-03-22T14:40:50.058Z"
   },
   {
    "duration": 28,
    "start_time": "2023-03-22T14:40:50.088Z"
   },
   {
    "duration": 18,
    "start_time": "2023-03-22T14:40:50.118Z"
   },
   {
    "duration": 128,
    "start_time": "2023-03-22T14:40:50.137Z"
   },
   {
    "duration": 7,
    "start_time": "2023-03-22T14:40:50.267Z"
   },
   {
    "duration": 12,
    "start_time": "2023-03-22T14:40:50.277Z"
   },
   {
    "duration": 23,
    "start_time": "2023-03-22T14:40:50.291Z"
   },
   {
    "duration": 206,
    "start_time": "2023-03-22T14:40:50.316Z"
   },
   {
    "duration": 5,
    "start_time": "2023-03-22T14:40:50.524Z"
   },
   {
    "duration": 39,
    "start_time": "2023-03-22T14:40:50.530Z"
   },
   {
    "duration": 14,
    "start_time": "2023-03-22T14:40:50.572Z"
   },
   {
    "duration": 12,
    "start_time": "2023-03-22T14:40:50.588Z"
   },
   {
    "duration": 19,
    "start_time": "2023-03-22T14:40:50.602Z"
   },
   {
    "duration": 10,
    "start_time": "2023-03-22T14:40:50.623Z"
   },
   {
    "duration": 54,
    "start_time": "2023-03-22T14:40:50.634Z"
   },
   {
    "duration": 54,
    "start_time": "2023-03-22T14:40:50.690Z"
   },
   {
    "duration": 74,
    "start_time": "2023-03-22T14:40:50.745Z"
   },
   {
    "duration": 6,
    "start_time": "2023-03-22T14:40:50.821Z"
   },
   {
    "duration": 24,
    "start_time": "2023-03-22T14:40:50.829Z"
   },
   {
    "duration": 22,
    "start_time": "2023-03-22T14:40:50.855Z"
   },
   {
    "duration": 30,
    "start_time": "2023-03-22T14:40:50.880Z"
   },
   {
    "duration": 34,
    "start_time": "2023-03-22T14:40:50.911Z"
   },
   {
    "duration": 19,
    "start_time": "2023-03-22T14:40:50.947Z"
   },
   {
    "duration": 22,
    "start_time": "2023-03-22T14:40:50.969Z"
   },
   {
    "duration": 10,
    "start_time": "2023-03-22T14:40:50.992Z"
   },
   {
    "duration": 14,
    "start_time": "2023-03-22T14:40:51.003Z"
   },
   {
    "duration": 15,
    "start_time": "2023-03-22T14:40:51.018Z"
   },
   {
    "duration": 10,
    "start_time": "2023-03-22T14:40:51.034Z"
   },
   {
    "duration": 24,
    "start_time": "2023-03-22T14:40:51.045Z"
   },
   {
    "duration": 36,
    "start_time": "2023-03-22T14:40:51.072Z"
   },
   {
    "duration": 5,
    "start_time": "2023-03-22T14:40:51.110Z"
   },
   {
    "duration": 181,
    "start_time": "2023-03-22T14:40:51.117Z"
   },
   {
    "duration": 23,
    "start_time": "2023-03-22T14:40:51.300Z"
   },
   {
    "duration": 9,
    "start_time": "2023-03-22T14:40:51.327Z"
   },
   {
    "duration": 478,
    "start_time": "2023-03-22T14:40:51.338Z"
   },
   {
    "duration": 7,
    "start_time": "2023-03-22T14:40:51.818Z"
   },
   {
    "duration": 12,
    "start_time": "2023-03-22T14:40:51.827Z"
   },
   {
    "duration": 28,
    "start_time": "2023-03-22T14:40:51.841Z"
   },
   {
    "duration": 33,
    "start_time": "2023-03-22T14:40:51.872Z"
   },
   {
    "duration": 36,
    "start_time": "2023-03-22T14:40:51.907Z"
   },
   {
    "duration": 18,
    "start_time": "2023-03-22T14:40:51.945Z"
   },
   {
    "duration": 43,
    "start_time": "2023-03-22T14:40:51.966Z"
   },
   {
    "duration": 118,
    "start_time": "2023-03-22T14:40:52.011Z"
   },
   {
    "duration": 19,
    "start_time": "2023-03-22T14:40:52.131Z"
   },
   {
    "duration": 407,
    "start_time": "2023-03-22T14:40:52.152Z"
   },
   {
    "duration": 10,
    "start_time": "2023-03-22T14:40:52.560Z"
   },
   {
    "duration": 11,
    "start_time": "2023-03-22T14:40:52.571Z"
   },
   {
    "duration": 18,
    "start_time": "2023-03-22T14:40:52.585Z"
   },
   {
    "duration": 27,
    "start_time": "2023-03-22T14:40:52.605Z"
   },
   {
    "duration": 1173,
    "start_time": "2023-03-22T14:40:52.633Z"
   },
   {
    "duration": 17,
    "start_time": "2023-03-22T14:40:53.865Z"
   },
   {
    "duration": 391,
    "start_time": "2023-03-22T14:40:53.883Z"
   },
   {
    "duration": 26,
    "start_time": "2023-03-22T14:40:54.277Z"
   },
   {
    "duration": 17,
    "start_time": "2023-03-22T14:40:54.369Z"
   },
   {
    "duration": 6,
    "start_time": "2023-03-22T14:40:54.388Z"
   },
   {
    "duration": 72,
    "start_time": "2023-03-22T14:40:54.396Z"
   },
   {
    "duration": 47,
    "start_time": "2023-03-22T14:41:02.804Z"
   }
  ],
  "kernelspec": {
   "display_name": "Python 3 (ipykernel)",
   "language": "python",
   "name": "python3"
  },
  "language_info": {
   "codemirror_mode": {
    "name": "ipython",
    "version": 3
   },
   "file_extension": ".py",
   "mimetype": "text/x-python",
   "name": "python",
   "nbconvert_exporter": "python",
   "pygments_lexer": "ipython3",
   "version": "3.9.12"
  },
  "toc": {
   "base_numbering": 1,
   "nav_menu": {},
   "number_sections": true,
   "sideBar": true,
   "skip_h1_title": true,
   "title_cell": "Table of Contents",
   "title_sidebar": "Contents",
   "toc_cell": false,
   "toc_position": {
    "height": "calc(100% - 180px)",
    "left": "10px",
    "top": "150px",
    "width": "270.188px"
   },
   "toc_section_display": true,
   "toc_window_display": true
  }
 },
 "nbformat": 4,
 "nbformat_minor": 2
}

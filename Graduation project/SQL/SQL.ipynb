{
 "cells": [
  {
   "cell_type": "markdown",
   "metadata": {},
   "source": [
    "# Анализ данных сервиса для чтения книг по подписке"
   ]
  },
  {
   "cell_type": "markdown",
   "metadata": {},
   "source": [
    " Анализируется база данных сервиса для чтения книг по подписке. На основе исследования будет сформулировано  ценностное предложение для нового продукта. \n",
    " \n",
    "**Задачи исследования** \n",
    "- Определить количество книг, вышедших после 1 января 2000 года\n",
    "- Посчитать количество обзоров и среднюю оценку для каждой книги\n",
    "- Определить издательство, которое выпустило наибольшее число книг толще 50 страниц\n",
    "- Определить автора с самой высокой средней оценкой книг (учитываются только книги с 50 и более оценками)\n",
    "- Определить среднее количество обзоров от пользователей, которые поставили больше 50 оценок."
   ]
  },
  {
   "cell_type": "markdown",
   "metadata": {},
   "source": [
    "## Общая информация"
   ]
  },
  {
   "cell_type": "code",
   "execution_count": 1,
   "metadata": {},
   "outputs": [],
   "source": [
    "# импортируем библиотеки\n",
    "import pandas as pd\n",
    "from sqlalchemy import create_engine\n",
    "# устанавливаем параметры\n",
    "db_config = {'user': 'praktikum_student', # имя пользователя\n",
    "'pwd': 'Sdf4$2;d-d30pp', # пароль\n",
    "'host': 'rc1b-wcoijxj3yxfsf3fs.mdb.yandexcloud.net',\n",
    "'port': 6432, # порт подключения\n",
    "'db': 'data-analyst-final-project-db'} # название базы данных\n",
    "connection_string = 'postgresql://{}:{}@{}:{}/{}'.format(db_config['user'],\n",
    " db_config['pwd'],\n",
    " db_config['host'],\n",
    " db_config['port'],\n",
    " db_config['db'])\n",
    "# сохраняем коннектор\n",
    "engine = create_engine(connection_string, connect_args={'sslmode':'require'}) "
   ]
  },
  {
   "cell_type": "code",
   "execution_count": 2,
   "metadata": {},
   "outputs": [],
   "source": [
    "# функция выполнения SQL запроса\n",
    "def select_data(query):\n",
    "    return pd.io.sql.read_sql(query, con = engine)"
   ]
  },
  {
   "cell_type": "code",
   "execution_count": 3,
   "metadata": {},
   "outputs": [
    {
     "data": {
      "text/html": [
       "<div>\n",
       "<style scoped>\n",
       "    .dataframe tbody tr th:only-of-type {\n",
       "        vertical-align: middle;\n",
       "    }\n",
       "\n",
       "    .dataframe tbody tr th {\n",
       "        vertical-align: top;\n",
       "    }\n",
       "\n",
       "    .dataframe thead th {\n",
       "        text-align: right;\n",
       "    }\n",
       "</style>\n",
       "<table border=\"1\" class=\"dataframe\">\n",
       "  <thead>\n",
       "    <tr style=\"text-align: right;\">\n",
       "      <th></th>\n",
       "      <th>book_id</th>\n",
       "      <th>author_id</th>\n",
       "      <th>title</th>\n",
       "      <th>num_pages</th>\n",
       "      <th>publication_date</th>\n",
       "      <th>publisher_id</th>\n",
       "    </tr>\n",
       "  </thead>\n",
       "  <tbody>\n",
       "    <tr>\n",
       "      <th>0</th>\n",
       "      <td>1</td>\n",
       "      <td>546</td>\n",
       "      <td>'Salem's Lot</td>\n",
       "      <td>594</td>\n",
       "      <td>2005-11-01</td>\n",
       "      <td>93</td>\n",
       "    </tr>\n",
       "    <tr>\n",
       "      <th>1</th>\n",
       "      <td>2</td>\n",
       "      <td>465</td>\n",
       "      <td>1 000 Places to See Before You Die</td>\n",
       "      <td>992</td>\n",
       "      <td>2003-05-22</td>\n",
       "      <td>336</td>\n",
       "    </tr>\n",
       "    <tr>\n",
       "      <th>2</th>\n",
       "      <td>3</td>\n",
       "      <td>407</td>\n",
       "      <td>13 Little Blue Envelopes (Little Blue Envelope...</td>\n",
       "      <td>322</td>\n",
       "      <td>2010-12-21</td>\n",
       "      <td>135</td>\n",
       "    </tr>\n",
       "    <tr>\n",
       "      <th>3</th>\n",
       "      <td>4</td>\n",
       "      <td>82</td>\n",
       "      <td>1491: New Revelations of the Americas Before C...</td>\n",
       "      <td>541</td>\n",
       "      <td>2006-10-10</td>\n",
       "      <td>309</td>\n",
       "    </tr>\n",
       "    <tr>\n",
       "      <th>4</th>\n",
       "      <td>5</td>\n",
       "      <td>125</td>\n",
       "      <td>1776</td>\n",
       "      <td>386</td>\n",
       "      <td>2006-07-04</td>\n",
       "      <td>268</td>\n",
       "    </tr>\n",
       "  </tbody>\n",
       "</table>\n",
       "</div>"
      ],
      "text/plain": [
       "   book_id  author_id                                              title  \\\n",
       "0        1        546                                       'Salem's Lot   \n",
       "1        2        465                 1 000 Places to See Before You Die   \n",
       "2        3        407  13 Little Blue Envelopes (Little Blue Envelope...   \n",
       "3        4         82  1491: New Revelations of the Americas Before C...   \n",
       "4        5        125                                               1776   \n",
       "\n",
       "   num_pages publication_date  publisher_id  \n",
       "0        594       2005-11-01            93  \n",
       "1        992       2003-05-22           336  \n",
       "2        322       2010-12-21           135  \n",
       "3        541       2006-10-10           309  \n",
       "4        386       2006-07-04           268  "
      ]
     },
     "metadata": {},
     "output_type": "display_data"
    },
    {
     "data": {
      "text/html": [
       "<div>\n",
       "<style scoped>\n",
       "    .dataframe tbody tr th:only-of-type {\n",
       "        vertical-align: middle;\n",
       "    }\n",
       "\n",
       "    .dataframe tbody tr th {\n",
       "        vertical-align: top;\n",
       "    }\n",
       "\n",
       "    .dataframe thead th {\n",
       "        text-align: right;\n",
       "    }\n",
       "</style>\n",
       "<table border=\"1\" class=\"dataframe\">\n",
       "  <thead>\n",
       "    <tr style=\"text-align: right;\">\n",
       "      <th></th>\n",
       "      <th>author_id</th>\n",
       "      <th>author</th>\n",
       "    </tr>\n",
       "  </thead>\n",
       "  <tbody>\n",
       "    <tr>\n",
       "      <th>0</th>\n",
       "      <td>1</td>\n",
       "      <td>A.S. Byatt</td>\n",
       "    </tr>\n",
       "    <tr>\n",
       "      <th>1</th>\n",
       "      <td>2</td>\n",
       "      <td>Aesop/Laura Harris/Laura Gibbs</td>\n",
       "    </tr>\n",
       "    <tr>\n",
       "      <th>2</th>\n",
       "      <td>3</td>\n",
       "      <td>Agatha Christie</td>\n",
       "    </tr>\n",
       "    <tr>\n",
       "      <th>3</th>\n",
       "      <td>4</td>\n",
       "      <td>Alan Brennert</td>\n",
       "    </tr>\n",
       "    <tr>\n",
       "      <th>4</th>\n",
       "      <td>5</td>\n",
       "      <td>Alan Moore/David   Lloyd</td>\n",
       "    </tr>\n",
       "  </tbody>\n",
       "</table>\n",
       "</div>"
      ],
      "text/plain": [
       "   author_id                          author\n",
       "0          1                      A.S. Byatt\n",
       "1          2  Aesop/Laura Harris/Laura Gibbs\n",
       "2          3                 Agatha Christie\n",
       "3          4                   Alan Brennert\n",
       "4          5        Alan Moore/David   Lloyd"
      ]
     },
     "metadata": {},
     "output_type": "display_data"
    },
    {
     "data": {
      "text/html": [
       "<div>\n",
       "<style scoped>\n",
       "    .dataframe tbody tr th:only-of-type {\n",
       "        vertical-align: middle;\n",
       "    }\n",
       "\n",
       "    .dataframe tbody tr th {\n",
       "        vertical-align: top;\n",
       "    }\n",
       "\n",
       "    .dataframe thead th {\n",
       "        text-align: right;\n",
       "    }\n",
       "</style>\n",
       "<table border=\"1\" class=\"dataframe\">\n",
       "  <thead>\n",
       "    <tr style=\"text-align: right;\">\n",
       "      <th></th>\n",
       "      <th>publisher_id</th>\n",
       "      <th>publisher</th>\n",
       "    </tr>\n",
       "  </thead>\n",
       "  <tbody>\n",
       "    <tr>\n",
       "      <th>0</th>\n",
       "      <td>1</td>\n",
       "      <td>Ace</td>\n",
       "    </tr>\n",
       "    <tr>\n",
       "      <th>1</th>\n",
       "      <td>2</td>\n",
       "      <td>Ace Book</td>\n",
       "    </tr>\n",
       "    <tr>\n",
       "      <th>2</th>\n",
       "      <td>3</td>\n",
       "      <td>Ace Books</td>\n",
       "    </tr>\n",
       "    <tr>\n",
       "      <th>3</th>\n",
       "      <td>4</td>\n",
       "      <td>Ace Hardcover</td>\n",
       "    </tr>\n",
       "    <tr>\n",
       "      <th>4</th>\n",
       "      <td>5</td>\n",
       "      <td>Addison Wesley Publishing Company</td>\n",
       "    </tr>\n",
       "  </tbody>\n",
       "</table>\n",
       "</div>"
      ],
      "text/plain": [
       "   publisher_id                          publisher\n",
       "0             1                                Ace\n",
       "1             2                           Ace Book\n",
       "2             3                          Ace Books\n",
       "3             4                      Ace Hardcover\n",
       "4             5  Addison Wesley Publishing Company"
      ]
     },
     "metadata": {},
     "output_type": "display_data"
    },
    {
     "data": {
      "text/html": [
       "<div>\n",
       "<style scoped>\n",
       "    .dataframe tbody tr th:only-of-type {\n",
       "        vertical-align: middle;\n",
       "    }\n",
       "\n",
       "    .dataframe tbody tr th {\n",
       "        vertical-align: top;\n",
       "    }\n",
       "\n",
       "    .dataframe thead th {\n",
       "        text-align: right;\n",
       "    }\n",
       "</style>\n",
       "<table border=\"1\" class=\"dataframe\">\n",
       "  <thead>\n",
       "    <tr style=\"text-align: right;\">\n",
       "      <th></th>\n",
       "      <th>rating_id</th>\n",
       "      <th>book_id</th>\n",
       "      <th>username</th>\n",
       "      <th>rating</th>\n",
       "    </tr>\n",
       "  </thead>\n",
       "  <tbody>\n",
       "    <tr>\n",
       "      <th>0</th>\n",
       "      <td>1</td>\n",
       "      <td>1</td>\n",
       "      <td>ryanfranco</td>\n",
       "      <td>4</td>\n",
       "    </tr>\n",
       "    <tr>\n",
       "      <th>1</th>\n",
       "      <td>2</td>\n",
       "      <td>1</td>\n",
       "      <td>grantpatricia</td>\n",
       "      <td>2</td>\n",
       "    </tr>\n",
       "    <tr>\n",
       "      <th>2</th>\n",
       "      <td>3</td>\n",
       "      <td>1</td>\n",
       "      <td>brandtandrea</td>\n",
       "      <td>5</td>\n",
       "    </tr>\n",
       "    <tr>\n",
       "      <th>3</th>\n",
       "      <td>4</td>\n",
       "      <td>2</td>\n",
       "      <td>lorichen</td>\n",
       "      <td>3</td>\n",
       "    </tr>\n",
       "    <tr>\n",
       "      <th>4</th>\n",
       "      <td>5</td>\n",
       "      <td>2</td>\n",
       "      <td>mariokeller</td>\n",
       "      <td>2</td>\n",
       "    </tr>\n",
       "  </tbody>\n",
       "</table>\n",
       "</div>"
      ],
      "text/plain": [
       "   rating_id  book_id       username  rating\n",
       "0          1        1     ryanfranco       4\n",
       "1          2        1  grantpatricia       2\n",
       "2          3        1   brandtandrea       5\n",
       "3          4        2       lorichen       3\n",
       "4          5        2    mariokeller       2"
      ]
     },
     "metadata": {},
     "output_type": "display_data"
    },
    {
     "data": {
      "text/html": [
       "<div>\n",
       "<style scoped>\n",
       "    .dataframe tbody tr th:only-of-type {\n",
       "        vertical-align: middle;\n",
       "    }\n",
       "\n",
       "    .dataframe tbody tr th {\n",
       "        vertical-align: top;\n",
       "    }\n",
       "\n",
       "    .dataframe thead th {\n",
       "        text-align: right;\n",
       "    }\n",
       "</style>\n",
       "<table border=\"1\" class=\"dataframe\">\n",
       "  <thead>\n",
       "    <tr style=\"text-align: right;\">\n",
       "      <th></th>\n",
       "      <th>review_id</th>\n",
       "      <th>book_id</th>\n",
       "      <th>username</th>\n",
       "      <th>text</th>\n",
       "    </tr>\n",
       "  </thead>\n",
       "  <tbody>\n",
       "    <tr>\n",
       "      <th>0</th>\n",
       "      <td>1</td>\n",
       "      <td>1</td>\n",
       "      <td>brandtandrea</td>\n",
       "      <td>Mention society tell send professor analysis. ...</td>\n",
       "    </tr>\n",
       "    <tr>\n",
       "      <th>1</th>\n",
       "      <td>2</td>\n",
       "      <td>1</td>\n",
       "      <td>ryanfranco</td>\n",
       "      <td>Foot glass pretty audience hit themselves. Amo...</td>\n",
       "    </tr>\n",
       "    <tr>\n",
       "      <th>2</th>\n",
       "      <td>3</td>\n",
       "      <td>2</td>\n",
       "      <td>lorichen</td>\n",
       "      <td>Listen treat keep worry. Miss husband tax but ...</td>\n",
       "    </tr>\n",
       "    <tr>\n",
       "      <th>3</th>\n",
       "      <td>4</td>\n",
       "      <td>3</td>\n",
       "      <td>johnsonamanda</td>\n",
       "      <td>Finally month interesting blue could nature cu...</td>\n",
       "    </tr>\n",
       "    <tr>\n",
       "      <th>4</th>\n",
       "      <td>5</td>\n",
       "      <td>3</td>\n",
       "      <td>scotttamara</td>\n",
       "      <td>Nation purpose heavy give wait song will. List...</td>\n",
       "    </tr>\n",
       "  </tbody>\n",
       "</table>\n",
       "</div>"
      ],
      "text/plain": [
       "   review_id  book_id       username  \\\n",
       "0          1        1   brandtandrea   \n",
       "1          2        1     ryanfranco   \n",
       "2          3        2       lorichen   \n",
       "3          4        3  johnsonamanda   \n",
       "4          5        3    scotttamara   \n",
       "\n",
       "                                                text  \n",
       "0  Mention society tell send professor analysis. ...  \n",
       "1  Foot glass pretty audience hit themselves. Amo...  \n",
       "2  Listen treat keep worry. Miss husband tax but ...  \n",
       "3  Finally month interesting blue could nature cu...  \n",
       "4  Nation purpose heavy give wait song will. List...  "
      ]
     },
     "metadata": {},
     "output_type": "display_data"
    }
   ],
   "source": [
    "# цикл для получения первых строк каждой таблицы \n",
    "tables = ('books', 'authors','publishers','ratings','reviews')\n",
    "for table in tables:\n",
    "    query = '''SELECT * FROM {} LIMIT 5'''.format(table)\n",
    "    display(select_data(query))"
   ]
  },
  {
   "cell_type": "markdown",
   "metadata": {},
   "source": [
    "## Количество книг, вышедших после 1 января 2000 года"
   ]
  },
  {
   "cell_type": "code",
   "execution_count": 4,
   "metadata": {},
   "outputs": [],
   "source": [
    "query = '''\n",
    "SELECT COUNT(book_id) AS qn_book\n",
    "FROM books \n",
    "WHERE publication_date > '2000-01-01'\n",
    "'''"
   ]
  },
  {
   "cell_type": "code",
   "execution_count": 5,
   "metadata": {},
   "outputs": [
    {
     "data": {
      "text/html": [
       "<div>\n",
       "<style scoped>\n",
       "    .dataframe tbody tr th:only-of-type {\n",
       "        vertical-align: middle;\n",
       "    }\n",
       "\n",
       "    .dataframe tbody tr th {\n",
       "        vertical-align: top;\n",
       "    }\n",
       "\n",
       "    .dataframe thead th {\n",
       "        text-align: right;\n",
       "    }\n",
       "</style>\n",
       "<table border=\"1\" class=\"dataframe\">\n",
       "  <thead>\n",
       "    <tr style=\"text-align: right;\">\n",
       "      <th></th>\n",
       "      <th>qn_book</th>\n",
       "    </tr>\n",
       "  </thead>\n",
       "  <tbody>\n",
       "    <tr>\n",
       "      <th>0</th>\n",
       "      <td>819</td>\n",
       "    </tr>\n",
       "  </tbody>\n",
       "</table>\n",
       "</div>"
      ],
      "text/plain": [
       "   qn_book\n",
       "0      819"
      ]
     },
     "execution_count": 5,
     "metadata": {},
     "output_type": "execute_result"
    }
   ],
   "source": [
    "select_data(query)"
   ]
  },
  {
   "cell_type": "markdown",
   "metadata": {},
   "source": [
    "Количество книг, вышедших после 1 января 2000 года:819 книг.\n"
   ]
  },
  {
   "cell_type": "markdown",
   "metadata": {},
   "source": [
    "## Количество обзоров и средняя оценка для каждой книги"
   ]
  },
  {
   "cell_type": "code",
   "execution_count": 6,
   "metadata": {},
   "outputs": [],
   "source": [
    "query = '''\n",
    "SELECT b.book_id,\n",
    "b.title,\n",
    "r.qn_review,\n",
    "ra.avg_rating\n",
    "FROM books b\n",
    "LEFT JOIN (SELECT book_id,\n",
    "                    COUNT (review_id) as qn_review\n",
    "                    FROM reviews\n",
    "                    GROUP BY book_id) as r ON b.book_id = r.book_id\n",
    "LEFT JOIN (SELECT book_id,\n",
    "                    ROUND(AVG(rating),2) as avg_rating\n",
    "             FROM ratings\n",
    "             GROUP BY book_id) as ra ON b.book_id = ra.book_id\n",
    "ORDER BY ra.avg_rating  DESC \n",
    "'''"
   ]
  },
  {
   "cell_type": "code",
   "execution_count": 7,
   "metadata": {},
   "outputs": [
    {
     "data": {
      "text/html": [
       "<div>\n",
       "<style scoped>\n",
       "    .dataframe tbody tr th:only-of-type {\n",
       "        vertical-align: middle;\n",
       "    }\n",
       "\n",
       "    .dataframe tbody tr th {\n",
       "        vertical-align: top;\n",
       "    }\n",
       "\n",
       "    .dataframe thead th {\n",
       "        text-align: right;\n",
       "    }\n",
       "</style>\n",
       "<table border=\"1\" class=\"dataframe\">\n",
       "  <thead>\n",
       "    <tr style=\"text-align: right;\">\n",
       "      <th></th>\n",
       "      <th>book_id</th>\n",
       "      <th>title</th>\n",
       "      <th>qn_review</th>\n",
       "      <th>avg_rating</th>\n",
       "    </tr>\n",
       "  </thead>\n",
       "  <tbody>\n",
       "    <tr>\n",
       "      <th>0</th>\n",
       "      <td>518</td>\n",
       "      <td>Pop Goes the Weasel (Alex Cross  #5)</td>\n",
       "      <td>2.0</td>\n",
       "      <td>5.00</td>\n",
       "    </tr>\n",
       "    <tr>\n",
       "      <th>1</th>\n",
       "      <td>732</td>\n",
       "      <td>The Ghost Map: The Story of London's Most Terr...</td>\n",
       "      <td>2.0</td>\n",
       "      <td>5.00</td>\n",
       "    </tr>\n",
       "    <tr>\n",
       "      <th>2</th>\n",
       "      <td>347</td>\n",
       "      <td>In the Hand of the Goddess (Song of the Liones...</td>\n",
       "      <td>2.0</td>\n",
       "      <td>5.00</td>\n",
       "    </tr>\n",
       "    <tr>\n",
       "      <th>3</th>\n",
       "      <td>610</td>\n",
       "      <td>Tai-Pan (Asian Saga  #2)</td>\n",
       "      <td>2.0</td>\n",
       "      <td>5.00</td>\n",
       "    </tr>\n",
       "    <tr>\n",
       "      <th>4</th>\n",
       "      <td>330</td>\n",
       "      <td>How to Be a Domestic Goddess: Baking and the A...</td>\n",
       "      <td>1.0</td>\n",
       "      <td>5.00</td>\n",
       "    </tr>\n",
       "    <tr>\n",
       "      <th>...</th>\n",
       "      <td>...</td>\n",
       "      <td>...</td>\n",
       "      <td>...</td>\n",
       "      <td>...</td>\n",
       "    </tr>\n",
       "    <tr>\n",
       "      <th>995</th>\n",
       "      <td>915</td>\n",
       "      <td>The World Is Flat: A Brief History of the Twen...</td>\n",
       "      <td>3.0</td>\n",
       "      <td>2.25</td>\n",
       "    </tr>\n",
       "    <tr>\n",
       "      <th>996</th>\n",
       "      <td>371</td>\n",
       "      <td>Junky</td>\n",
       "      <td>2.0</td>\n",
       "      <td>2.00</td>\n",
       "    </tr>\n",
       "    <tr>\n",
       "      <th>997</th>\n",
       "      <td>316</td>\n",
       "      <td>His Excellency: George Washington</td>\n",
       "      <td>2.0</td>\n",
       "      <td>2.00</td>\n",
       "    </tr>\n",
       "    <tr>\n",
       "      <th>998</th>\n",
       "      <td>202</td>\n",
       "      <td>Drowning Ruth</td>\n",
       "      <td>3.0</td>\n",
       "      <td>2.00</td>\n",
       "    </tr>\n",
       "    <tr>\n",
       "      <th>999</th>\n",
       "      <td>303</td>\n",
       "      <td>Harvesting the Heart</td>\n",
       "      <td>2.0</td>\n",
       "      <td>1.50</td>\n",
       "    </tr>\n",
       "  </tbody>\n",
       "</table>\n",
       "<p>1000 rows × 4 columns</p>\n",
       "</div>"
      ],
      "text/plain": [
       "     book_id                                              title  qn_review  \\\n",
       "0        518               Pop Goes the Weasel (Alex Cross  #5)        2.0   \n",
       "1        732  The Ghost Map: The Story of London's Most Terr...        2.0   \n",
       "2        347  In the Hand of the Goddess (Song of the Liones...        2.0   \n",
       "3        610                           Tai-Pan (Asian Saga  #2)        2.0   \n",
       "4        330  How to Be a Domestic Goddess: Baking and the A...        1.0   \n",
       "..       ...                                                ...        ...   \n",
       "995      915  The World Is Flat: A Brief History of the Twen...        3.0   \n",
       "996      371                                              Junky        2.0   \n",
       "997      316                  His Excellency: George Washington        2.0   \n",
       "998      202                                      Drowning Ruth        3.0   \n",
       "999      303                               Harvesting the Heart        2.0   \n",
       "\n",
       "     avg_rating  \n",
       "0          5.00  \n",
       "1          5.00  \n",
       "2          5.00  \n",
       "3          5.00  \n",
       "4          5.00  \n",
       "..          ...  \n",
       "995        2.25  \n",
       "996        2.00  \n",
       "997        2.00  \n",
       "998        2.00  \n",
       "999        1.50  \n",
       "\n",
       "[1000 rows x 4 columns]"
      ]
     },
     "execution_count": 7,
     "metadata": {},
     "output_type": "execute_result"
    }
   ],
   "source": [
    "select_data(query)"
   ]
  },
  {
   "cell_type": "markdown",
   "metadata": {},
   "source": [
    "Диапозон количества обзоров: от 1120 до 2.  \n",
    "Максимальная оценка у книги: 5.0; минимальная: 1.5. \n",
    "Стоит отметить, что в таблице с обзорами, есть обзоры на 994 книги из 1000."
   ]
  },
  {
   "cell_type": "markdown",
   "metadata": {},
   "source": [
    "## Издательство, которое выпустило наибольшее число книг толще 50 страниц"
   ]
  },
  {
   "cell_type": "code",
   "execution_count": 8,
   "metadata": {},
   "outputs": [],
   "source": [
    "query = '''\n",
    "SELECT b.publisher_id,\n",
    "p.publisher,\n",
    "COUNT(b.book_id) as book_qn\n",
    "FROM books b \n",
    "JOIN publishers p ON b.publisher_id = p.publisher_id\n",
    "WHERE num_pages>50\n",
    "GROUP BY b.publisher_id, p.publisher\n",
    "ORDER BY book_qn DESC \n",
    "LIMIT 1\n",
    "'''"
   ]
  },
  {
   "cell_type": "code",
   "execution_count": 9,
   "metadata": {},
   "outputs": [
    {
     "data": {
      "text/html": [
       "<div>\n",
       "<style scoped>\n",
       "    .dataframe tbody tr th:only-of-type {\n",
       "        vertical-align: middle;\n",
       "    }\n",
       "\n",
       "    .dataframe tbody tr th {\n",
       "        vertical-align: top;\n",
       "    }\n",
       "\n",
       "    .dataframe thead th {\n",
       "        text-align: right;\n",
       "    }\n",
       "</style>\n",
       "<table border=\"1\" class=\"dataframe\">\n",
       "  <thead>\n",
       "    <tr style=\"text-align: right;\">\n",
       "      <th></th>\n",
       "      <th>publisher_id</th>\n",
       "      <th>publisher</th>\n",
       "      <th>book_qn</th>\n",
       "    </tr>\n",
       "  </thead>\n",
       "  <tbody>\n",
       "    <tr>\n",
       "      <th>0</th>\n",
       "      <td>212</td>\n",
       "      <td>Penguin Books</td>\n",
       "      <td>42</td>\n",
       "    </tr>\n",
       "  </tbody>\n",
       "</table>\n",
       "</div>"
      ],
      "text/plain": [
       "   publisher_id      publisher  book_qn\n",
       "0           212  Penguin Books       42"
      ]
     },
     "execution_count": 9,
     "metadata": {},
     "output_type": "execute_result"
    }
   ],
   "source": [
    "select_data(query) "
   ]
  },
  {
   "cell_type": "markdown",
   "metadata": {},
   "source": [
    "Издательство Penguin Books выпустило больше всего книг толщиной больше 50 страниц"
   ]
  },
  {
   "cell_type": "markdown",
   "metadata": {},
   "source": [
    "## Автор с самой высокой средней оценкой книг "
   ]
  },
  {
   "cell_type": "code",
   "execution_count": 10,
   "metadata": {},
   "outputs": [],
   "source": [
    "query = '''\n",
    "SELECT b.author_id,\n",
    "author,\n",
    "AVG(q.avg_rating)\n",
    "FROM books b JOIN \n",
    "(SELECT book_id, AVG(rating) as avg_rating\n",
    "FROM ratings\n",
    "GROUP BY book_id\n",
    "HAVING  COUNT(rating)>50) q ON b.book_id = q.book_id\n",
    "JOIN authors a ON b.author_id = a.author_id\n",
    "GROUP BY b.author_id, author\n",
    "ORDER BY avg DESC\n",
    "LIMIT 1\n",
    "'''"
   ]
  },
  {
   "cell_type": "code",
   "execution_count": 11,
   "metadata": {},
   "outputs": [
    {
     "data": {
      "text/html": [
       "<div>\n",
       "<style scoped>\n",
       "    .dataframe tbody tr th:only-of-type {\n",
       "        vertical-align: middle;\n",
       "    }\n",
       "\n",
       "    .dataframe tbody tr th {\n",
       "        vertical-align: top;\n",
       "    }\n",
       "\n",
       "    .dataframe thead th {\n",
       "        text-align: right;\n",
       "    }\n",
       "</style>\n",
       "<table border=\"1\" class=\"dataframe\">\n",
       "  <thead>\n",
       "    <tr style=\"text-align: right;\">\n",
       "      <th></th>\n",
       "      <th>author_id</th>\n",
       "      <th>author</th>\n",
       "      <th>avg</th>\n",
       "    </tr>\n",
       "  </thead>\n",
       "  <tbody>\n",
       "    <tr>\n",
       "      <th>0</th>\n",
       "      <td>236</td>\n",
       "      <td>J.K. Rowling/Mary GrandPré</td>\n",
       "      <td>4.283844</td>\n",
       "    </tr>\n",
       "  </tbody>\n",
       "</table>\n",
       "</div>"
      ],
      "text/plain": [
       "   author_id                      author       avg\n",
       "0        236  J.K. Rowling/Mary GrandPré  4.283844"
      ]
     },
     "execution_count": 11,
     "metadata": {},
     "output_type": "execute_result"
    }
   ],
   "source": [
    "select_data(query) "
   ]
  },
  {
   "cell_type": "markdown",
   "metadata": {},
   "source": [
    "Автор с самой высокой средней оценкой книг: J.K. Rowling"
   ]
  },
  {
   "cell_type": "markdown",
   "metadata": {},
   "source": [
    "## Среднее количество обзоров от пользователей, которые поставили больше 50 оценок."
   ]
  },
  {
   "cell_type": "code",
   "execution_count": 12,
   "metadata": {},
   "outputs": [],
   "source": [
    "query = '''\n",
    "SELECT AVG (qn_review)::int as avg_qn\n",
    "FROM (SELECT username,\n",
    "COUNT(review_id) as qn_review\n",
    "FROM reviews\n",
    "GROUP BY username) q\n",
    "WHERE username in (SELECT username\n",
    "FROM ratings \n",
    "GROUP BY username\n",
    "HAVING COUNT(rating)>50)\n",
    "\n",
    "'''"
   ]
  },
  {
   "cell_type": "code",
   "execution_count": 13,
   "metadata": {},
   "outputs": [
    {
     "data": {
      "text/html": [
       "<div>\n",
       "<style scoped>\n",
       "    .dataframe tbody tr th:only-of-type {\n",
       "        vertical-align: middle;\n",
       "    }\n",
       "\n",
       "    .dataframe tbody tr th {\n",
       "        vertical-align: top;\n",
       "    }\n",
       "\n",
       "    .dataframe thead th {\n",
       "        text-align: right;\n",
       "    }\n",
       "</style>\n",
       "<table border=\"1\" class=\"dataframe\">\n",
       "  <thead>\n",
       "    <tr style=\"text-align: right;\">\n",
       "      <th></th>\n",
       "      <th>avg_qn</th>\n",
       "    </tr>\n",
       "  </thead>\n",
       "  <tbody>\n",
       "    <tr>\n",
       "      <th>0</th>\n",
       "      <td>24</td>\n",
       "    </tr>\n",
       "  </tbody>\n",
       "</table>\n",
       "</div>"
      ],
      "text/plain": [
       "   avg_qn\n",
       "0      24"
      ]
     },
     "execution_count": 13,
     "metadata": {},
     "output_type": "execute_result"
    }
   ],
   "source": [
    "select_data(query) "
   ]
  },
  {
   "cell_type": "markdown",
   "metadata": {},
   "source": [
    "Среднее количество обзоров от пользователей, которые поставили больше 50 оценок: 24"
   ]
  },
  {
   "cell_type": "markdown",
   "metadata": {},
   "source": [
    "**Вывод**\n",
    "\n",
    "В базе данных: 5 таблиц с информацией о книгах, авторах, издательствах, а также пользовательские обзоры книг. \n",
    "- books            \n",
    "- authors\n",
    "- publishers\n",
    "- ratings\n",
    "- reviews\n",
    "\n",
    "Количество книг, вышедших после 1 января 2000 года:819 книг.\n",
    "Диапозон количества обзоров: от 1120 до 2.  \n",
    "Максимальная оценка у книги: 5.0; минимальная: 1.5. \n",
    "Издательство Penguin Books выпустило больше всего книг толщиной больше 50 страниц\n",
    "Автор с самой высокой средней оценкой книг: J.K. Rowling"
   ]
  },
  {
   "cell_type": "code",
   "execution_count": null,
   "metadata": {},
   "outputs": [],
   "source": []
  }
 ],
 "metadata": {
  "ExecuteTimeLog": [
   {
    "duration": 5751,
    "start_time": "2023-03-19T14:47:34.457Z"
   },
   {
    "duration": 2,
    "start_time": "2023-03-19T14:48:02.902Z"
   },
   {
    "duration": 104,
    "start_time": "2023-03-19T14:48:11.290Z"
   },
   {
    "duration": 3,
    "start_time": "2023-03-19T14:49:08.099Z"
   },
   {
    "duration": 10,
    "start_time": "2023-03-19T14:49:13.924Z"
   },
   {
    "duration": 4,
    "start_time": "2023-03-19T14:50:10.885Z"
   },
   {
    "duration": 30,
    "start_time": "2023-03-19T14:50:20.442Z"
   },
   {
    "duration": 2,
    "start_time": "2023-03-19T14:50:51.158Z"
   },
   {
    "duration": 13,
    "start_time": "2023-03-19T14:50:57.446Z"
   },
   {
    "duration": 3,
    "start_time": "2023-03-19T14:51:29.819Z"
   },
   {
    "duration": 15,
    "start_time": "2023-03-19T14:51:37.516Z"
   },
   {
    "duration": 3,
    "start_time": "2023-03-19T14:52:05.620Z"
   },
   {
    "duration": 16,
    "start_time": "2023-03-19T14:52:13.099Z"
   },
   {
    "duration": 42,
    "start_time": "2023-03-19T14:52:35.300Z"
   },
   {
    "duration": 5499,
    "start_time": "2023-03-19T14:54:20.307Z"
   },
   {
    "duration": 4,
    "start_time": "2023-03-19T14:54:25.808Z"
   },
   {
    "duration": 81,
    "start_time": "2023-03-19T14:54:25.813Z"
   },
   {
    "duration": 0,
    "start_time": "2023-03-19T14:54:25.896Z"
   },
   {
    "duration": 0,
    "start_time": "2023-03-19T14:54:25.898Z"
   },
   {
    "duration": 0,
    "start_time": "2023-03-19T14:54:25.899Z"
   },
   {
    "duration": 0,
    "start_time": "2023-03-19T14:54:25.900Z"
   },
   {
    "duration": 0,
    "start_time": "2023-03-19T14:54:25.902Z"
   },
   {
    "duration": 0,
    "start_time": "2023-03-19T14:54:25.903Z"
   },
   {
    "duration": 0,
    "start_time": "2023-03-19T14:54:25.905Z"
   },
   {
    "duration": 0,
    "start_time": "2023-03-19T14:54:25.906Z"
   },
   {
    "duration": 0,
    "start_time": "2023-03-19T14:54:25.908Z"
   },
   {
    "duration": 0,
    "start_time": "2023-03-19T14:54:25.909Z"
   },
   {
    "duration": 116,
    "start_time": "2023-03-19T14:54:56.126Z"
   },
   {
    "duration": 5716,
    "start_time": "2023-03-19T14:55:03.108Z"
   },
   {
    "duration": 3,
    "start_time": "2023-03-19T14:55:08.826Z"
   },
   {
    "duration": 103,
    "start_time": "2023-03-19T14:55:08.831Z"
   },
   {
    "duration": 3,
    "start_time": "2023-03-19T14:55:08.936Z"
   },
   {
    "duration": 18,
    "start_time": "2023-03-19T14:55:08.942Z"
   },
   {
    "duration": 2,
    "start_time": "2023-03-19T14:55:08.961Z"
   },
   {
    "duration": 60,
    "start_time": "2023-03-19T14:55:08.966Z"
   },
   {
    "duration": 3,
    "start_time": "2023-03-19T14:55:09.028Z"
   },
   {
    "duration": 19,
    "start_time": "2023-03-19T14:55:09.033Z"
   },
   {
    "duration": 3,
    "start_time": "2023-03-19T14:55:09.055Z"
   },
   {
    "duration": 24,
    "start_time": "2023-03-19T14:55:09.060Z"
   },
   {
    "duration": 3,
    "start_time": "2023-03-19T14:55:09.092Z"
   },
   {
    "duration": 17,
    "start_time": "2023-03-19T14:55:09.097Z"
   },
   {
    "duration": 3,
    "start_time": "2023-03-19T16:17:16.427Z"
   },
   {
    "duration": 6,
    "start_time": "2023-03-19T16:17:18.622Z"
   },
   {
    "duration": 4,
    "start_time": "2023-03-19T16:17:18.631Z"
   },
   {
    "duration": 93,
    "start_time": "2023-03-19T16:17:18.636Z"
   },
   {
    "duration": 3,
    "start_time": "2023-03-19T16:17:18.731Z"
   },
   {
    "duration": 17,
    "start_time": "2023-03-19T16:17:18.736Z"
   },
   {
    "duration": 3,
    "start_time": "2023-03-19T16:17:18.754Z"
   },
   {
    "duration": 34,
    "start_time": "2023-03-19T16:17:18.759Z"
   },
   {
    "duration": 3,
    "start_time": "2023-03-19T16:17:18.794Z"
   },
   {
    "duration": 15,
    "start_time": "2023-03-19T16:17:18.798Z"
   },
   {
    "duration": 3,
    "start_time": "2023-03-19T16:17:18.816Z"
   },
   {
    "duration": 22,
    "start_time": "2023-03-19T16:17:18.821Z"
   },
   {
    "duration": 3,
    "start_time": "2023-03-19T16:17:18.845Z"
   },
   {
    "duration": 26,
    "start_time": "2023-03-19T16:17:18.850Z"
   },
   {
    "duration": 3,
    "start_time": "2023-03-19T16:18:56.658Z"
   },
   {
    "duration": 31,
    "start_time": "2023-03-19T16:18:59.184Z"
   },
   {
    "duration": 5407,
    "start_time": "2023-03-19T16:19:06.713Z"
   },
   {
    "duration": 3,
    "start_time": "2023-03-19T16:19:12.122Z"
   },
   {
    "duration": 90,
    "start_time": "2023-03-19T16:19:12.126Z"
   },
   {
    "duration": 3,
    "start_time": "2023-03-19T16:19:12.218Z"
   },
   {
    "duration": 15,
    "start_time": "2023-03-19T16:19:12.223Z"
   },
   {
    "duration": 3,
    "start_time": "2023-03-19T16:19:12.239Z"
   },
   {
    "duration": 37,
    "start_time": "2023-03-19T16:19:12.244Z"
   },
   {
    "duration": 3,
    "start_time": "2023-03-19T16:19:12.282Z"
   },
   {
    "duration": 16,
    "start_time": "2023-03-19T16:19:12.287Z"
   },
   {
    "duration": 2,
    "start_time": "2023-03-19T16:19:12.305Z"
   },
   {
    "duration": 18,
    "start_time": "2023-03-19T16:19:12.309Z"
   },
   {
    "duration": 4,
    "start_time": "2023-03-19T16:19:12.329Z"
   },
   {
    "duration": 15,
    "start_time": "2023-03-19T16:19:12.334Z"
   },
   {
    "duration": 3,
    "start_time": "2023-03-19T16:20:01.546Z"
   },
   {
    "duration": 159,
    "start_time": "2023-03-19T16:20:03.469Z"
   },
   {
    "duration": 11,
    "start_time": "2023-03-19T16:20:10.509Z"
   },
   {
    "duration": 15,
    "start_time": "2023-03-19T16:20:12.257Z"
   },
   {
    "duration": 4,
    "start_time": "2023-03-19T16:20:36.427Z"
   },
   {
    "duration": 41,
    "start_time": "2023-03-19T16:20:38.095Z"
   },
   {
    "duration": 3,
    "start_time": "2023-03-19T16:20:46.958Z"
   },
   {
    "duration": 39,
    "start_time": "2023-03-19T16:20:48.303Z"
   },
   {
    "duration": 2,
    "start_time": "2023-03-19T16:23:58.817Z"
   },
   {
    "duration": 33,
    "start_time": "2023-03-19T16:24:04.166Z"
   },
   {
    "duration": 3,
    "start_time": "2023-03-19T16:24:26.547Z"
   },
   {
    "duration": 68,
    "start_time": "2023-03-19T16:24:28.124Z"
   },
   {
    "duration": 3,
    "start_time": "2023-03-19T16:24:47.840Z"
   },
   {
    "duration": 17,
    "start_time": "2023-03-19T16:24:49.614Z"
   },
   {
    "duration": 3,
    "start_time": "2023-03-19T16:25:00.064Z"
   },
   {
    "duration": 30,
    "start_time": "2023-03-19T16:25:02.405Z"
   },
   {
    "duration": 2,
    "start_time": "2023-03-19T16:25:23.485Z"
   },
   {
    "duration": 15,
    "start_time": "2023-03-19T16:25:24.901Z"
   },
   {
    "duration": 45,
    "start_time": "2023-03-19T16:27:08.981Z"
   },
   {
    "duration": 3,
    "start_time": "2023-03-19T16:27:59.269Z"
   },
   {
    "duration": 18,
    "start_time": "2023-03-19T16:28:00.466Z"
   },
   {
    "duration": 3,
    "start_time": "2023-03-19T16:28:08.606Z"
   },
   {
    "duration": 19,
    "start_time": "2023-03-19T16:28:10.101Z"
   },
   {
    "duration": 3,
    "start_time": "2023-03-19T16:28:57.241Z"
   },
   {
    "duration": 33,
    "start_time": "2023-03-19T16:29:00.111Z"
   },
   {
    "duration": 3,
    "start_time": "2023-03-19T16:29:58.127Z"
   },
   {
    "duration": 14,
    "start_time": "2023-03-19T16:29:59.361Z"
   },
   {
    "duration": 3,
    "start_time": "2023-03-19T16:30:33.075Z"
   },
   {
    "duration": 90,
    "start_time": "2023-03-19T16:30:34.613Z"
   },
   {
    "duration": 3,
    "start_time": "2023-03-19T16:30:42.300Z"
   },
   {
    "duration": 79,
    "start_time": "2023-03-19T16:30:43.499Z"
   },
   {
    "duration": 4,
    "start_time": "2023-03-19T16:30:51.636Z"
   },
   {
    "duration": 87,
    "start_time": "2023-03-19T16:30:53.133Z"
   },
   {
    "duration": 4,
    "start_time": "2023-03-19T16:31:02.899Z"
   },
   {
    "duration": 34,
    "start_time": "2023-03-19T16:31:03.952Z"
   },
   {
    "duration": 3,
    "start_time": "2023-03-19T16:32:31.612Z"
   },
   {
    "duration": 55,
    "start_time": "2023-03-19T16:32:34.063Z"
   },
   {
    "duration": 3,
    "start_time": "2023-03-19T16:32:47.449Z"
   },
   {
    "duration": 3,
    "start_time": "2023-03-19T16:34:47.641Z"
   },
   {
    "duration": 25,
    "start_time": "2023-03-19T16:34:49.236Z"
   },
   {
    "duration": 3,
    "start_time": "2023-03-19T16:35:03.721Z"
   },
   {
    "duration": 23,
    "start_time": "2023-03-19T16:35:05.422Z"
   },
   {
    "duration": 3,
    "start_time": "2023-03-19T16:35:24.924Z"
   },
   {
    "duration": 89,
    "start_time": "2023-03-19T16:35:26.956Z"
   },
   {
    "duration": 3,
    "start_time": "2023-03-19T16:35:46.151Z"
   },
   {
    "duration": 38,
    "start_time": "2023-03-19T16:35:47.308Z"
   },
   {
    "duration": 46,
    "start_time": "2023-03-19T16:37:54.774Z"
   },
   {
    "duration": 3,
    "start_time": "2023-03-19T16:38:01.726Z"
   },
   {
    "duration": 87,
    "start_time": "2023-03-19T16:38:03.259Z"
   },
   {
    "duration": 4,
    "start_time": "2023-03-19T16:38:28.726Z"
   },
   {
    "duration": 74,
    "start_time": "2023-03-19T16:38:30.093Z"
   },
   {
    "duration": 4,
    "start_time": "2023-03-19T16:38:57.061Z"
   },
   {
    "duration": 30,
    "start_time": "2023-03-19T16:38:58.559Z"
   },
   {
    "duration": 4,
    "start_time": "2023-03-19T16:40:29.249Z"
   },
   {
    "duration": 68,
    "start_time": "2023-03-19T16:40:30.225Z"
   },
   {
    "duration": 4,
    "start_time": "2023-03-19T16:40:46.198Z"
   },
   {
    "duration": 27,
    "start_time": "2023-03-19T16:40:47.361Z"
   },
   {
    "duration": 3,
    "start_time": "2023-03-19T16:40:54.487Z"
   },
   {
    "duration": 24,
    "start_time": "2023-03-19T16:40:55.705Z"
   },
   {
    "duration": 3,
    "start_time": "2023-03-19T16:42:06.623Z"
   },
   {
    "duration": 26,
    "start_time": "2023-03-19T16:42:08.160Z"
   },
   {
    "duration": 2,
    "start_time": "2023-03-19T16:42:22.338Z"
   },
   {
    "duration": 45,
    "start_time": "2023-03-19T16:42:24.209Z"
   },
   {
    "duration": 3,
    "start_time": "2023-03-19T16:43:20.717Z"
   },
   {
    "duration": 24,
    "start_time": "2023-03-19T16:43:22.240Z"
   },
   {
    "duration": 2,
    "start_time": "2023-03-19T16:44:22.805Z"
   },
   {
    "duration": 6249,
    "start_time": "2023-03-19T16:45:00.406Z"
   },
   {
    "duration": 4,
    "start_time": "2023-03-19T16:45:06.658Z"
   },
   {
    "duration": 98,
    "start_time": "2023-03-19T16:45:06.664Z"
   },
   {
    "duration": 2,
    "start_time": "2023-03-19T16:45:06.764Z"
   },
   {
    "duration": 12,
    "start_time": "2023-03-19T16:45:06.769Z"
   },
   {
    "duration": 4,
    "start_time": "2023-03-19T16:45:06.784Z"
   },
   {
    "duration": 48,
    "start_time": "2023-03-19T16:45:06.790Z"
   },
   {
    "duration": 3,
    "start_time": "2023-03-19T16:45:06.840Z"
   },
   {
    "duration": 23,
    "start_time": "2023-03-19T16:45:06.845Z"
   },
   {
    "duration": 3,
    "start_time": "2023-03-19T16:45:06.870Z"
   },
   {
    "duration": 21,
    "start_time": "2023-03-19T16:45:06.875Z"
   },
   {
    "duration": 3,
    "start_time": "2023-03-19T16:45:06.898Z"
   },
   {
    "duration": 22,
    "start_time": "2023-03-19T16:45:06.903Z"
   }
  ],
  "kernelspec": {
   "display_name": "Python 3 (ipykernel)",
   "language": "python",
   "name": "python3"
  },
  "language_info": {
   "codemirror_mode": {
    "name": "ipython",
    "version": 3
   },
   "file_extension": ".py",
   "mimetype": "text/x-python",
   "name": "python",
   "nbconvert_exporter": "python",
   "pygments_lexer": "ipython3",
   "version": "3.9.12"
  },
  "toc": {
   "base_numbering": 1,
   "nav_menu": {},
   "number_sections": true,
   "sideBar": true,
   "skip_h1_title": true,
   "title_cell": "Table of Contents",
   "title_sidebar": "Contents",
   "toc_cell": false,
   "toc_position": {
    "height": "calc(100% - 180px)",
    "left": "10px",
    "top": "150px",
    "width": "165px"
   },
   "toc_section_display": true,
   "toc_window_display": true
  }
 },
 "nbformat": 4,
 "nbformat_minor": 2
}

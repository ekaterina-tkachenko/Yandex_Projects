{
 "cells": [
  {
   "cell_type": "markdown",
   "metadata": {},
   "source": [
    "# Исследование поведения пользователей"
   ]
  },
  {
   "cell_type": "markdown",
   "metadata": {},
   "source": [
    "Для стартапа по продаже продуктов питания анализируется поведение пользователей мобильного приложения\n",
    "\n",
    "Задачи:\n",
    "- изучение воронки продаж\n",
    "- анализ результатов A/A/B-эксперимента: изменение шрифта во всём приложении"
   ]
  },
  {
   "cell_type": "markdown",
   "metadata": {},
   "source": [
    "## Общая информация"
   ]
  },
  {
   "cell_type": "code",
   "execution_count": 1,
   "metadata": {},
   "outputs": [],
   "source": [
    "#импорт библиотек \n",
    "import pandas as pd\n",
    "import datetime as dt\n",
    "import numpy as np\n",
    "import matplotlib.pyplot as plt\n",
    "import seaborn as sns\n",
    "from pandas.plotting import register_matplotlib_converters\n",
    "import scipy.stats as st\n",
    "import warnings\n",
    "import plotly.express as px\n",
    "import numpy as np\n",
    "import math as mth\n",
    "warnings.filterwarnings('ignore')\n",
    "register_matplotlib_converters()"
   ]
  },
  {
   "cell_type": "code",
   "execution_count": 2,
   "metadata": {},
   "outputs": [],
   "source": [
    "#чтение файла\n",
    "try:\n",
    "    data = pd.read_csv('/datasets/logs_exp.csv', '\\t')\n",
    "except:\n",
    "    data = pd.read_csv('https://code.s3.yandex.net/datasets/logs_exp.csv','\\t')"
   ]
  },
  {
   "cell_type": "code",
   "execution_count": 3,
   "metadata": {},
   "outputs": [
    {
     "data": {
      "text/html": [
       "<div>\n",
       "<style scoped>\n",
       "    .dataframe tbody tr th:only-of-type {\n",
       "        vertical-align: middle;\n",
       "    }\n",
       "\n",
       "    .dataframe tbody tr th {\n",
       "        vertical-align: top;\n",
       "    }\n",
       "\n",
       "    .dataframe thead th {\n",
       "        text-align: right;\n",
       "    }\n",
       "</style>\n",
       "<table border=\"1\" class=\"dataframe\">\n",
       "  <thead>\n",
       "    <tr style=\"text-align: right;\">\n",
       "      <th></th>\n",
       "      <th>EventName</th>\n",
       "      <th>DeviceIDHash</th>\n",
       "      <th>EventTimestamp</th>\n",
       "      <th>ExpId</th>\n",
       "    </tr>\n",
       "  </thead>\n",
       "  <tbody>\n",
       "    <tr>\n",
       "      <th>167055</th>\n",
       "      <td>MainScreenAppear</td>\n",
       "      <td>2730869064219188185</td>\n",
       "      <td>1565021624</td>\n",
       "      <td>248</td>\n",
       "    </tr>\n",
       "    <tr>\n",
       "      <th>74857</th>\n",
       "      <td>MainScreenAppear</td>\n",
       "      <td>5114418573701865043</td>\n",
       "      <td>1564796865</td>\n",
       "      <td>246</td>\n",
       "    </tr>\n",
       "    <tr>\n",
       "      <th>75150</th>\n",
       "      <td>CartScreenAppear</td>\n",
       "      <td>1754140665440434215</td>\n",
       "      <td>1564799143</td>\n",
       "      <td>247</td>\n",
       "    </tr>\n",
       "    <tr>\n",
       "      <th>210275</th>\n",
       "      <td>CartScreenAppear</td>\n",
       "      <td>2496839711239211376</td>\n",
       "      <td>1565119780</td>\n",
       "      <td>248</td>\n",
       "    </tr>\n",
       "    <tr>\n",
       "      <th>183579</th>\n",
       "      <td>OffersScreenAppear</td>\n",
       "      <td>736519707444721968</td>\n",
       "      <td>1565075617</td>\n",
       "      <td>246</td>\n",
       "    </tr>\n",
       "    <tr>\n",
       "      <th>7652</th>\n",
       "      <td>MainScreenAppear</td>\n",
       "      <td>33852999260079575</td>\n",
       "      <td>1564642896</td>\n",
       "      <td>246</td>\n",
       "    </tr>\n",
       "    <tr>\n",
       "      <th>140989</th>\n",
       "      <td>OffersScreenAppear</td>\n",
       "      <td>4127885408060891243</td>\n",
       "      <td>1564962155</td>\n",
       "      <td>248</td>\n",
       "    </tr>\n",
       "    <tr>\n",
       "      <th>126888</th>\n",
       "      <td>MainScreenAppear</td>\n",
       "      <td>18658818197810381</td>\n",
       "      <td>1564926874</td>\n",
       "      <td>246</td>\n",
       "    </tr>\n",
       "    <tr>\n",
       "      <th>34829</th>\n",
       "      <td>PaymentScreenSuccessful</td>\n",
       "      <td>197027893265565660</td>\n",
       "      <td>1564685722</td>\n",
       "      <td>246</td>\n",
       "    </tr>\n",
       "    <tr>\n",
       "      <th>189013</th>\n",
       "      <td>MainScreenAppear</td>\n",
       "      <td>6511166396888043920</td>\n",
       "      <td>1565085922</td>\n",
       "      <td>247</td>\n",
       "    </tr>\n",
       "  </tbody>\n",
       "</table>\n",
       "</div>"
      ],
      "text/plain": [
       "                      EventName         DeviceIDHash  EventTimestamp  ExpId\n",
       "167055         MainScreenAppear  2730869064219188185      1565021624    248\n",
       "74857          MainScreenAppear  5114418573701865043      1564796865    246\n",
       "75150          CartScreenAppear  1754140665440434215      1564799143    247\n",
       "210275         CartScreenAppear  2496839711239211376      1565119780    248\n",
       "183579       OffersScreenAppear   736519707444721968      1565075617    246\n",
       "7652           MainScreenAppear    33852999260079575      1564642896    246\n",
       "140989       OffersScreenAppear  4127885408060891243      1564962155    248\n",
       "126888         MainScreenAppear    18658818197810381      1564926874    246\n",
       "34829   PaymentScreenSuccessful   197027893265565660      1564685722    246\n",
       "189013         MainScreenAppear  6511166396888043920      1565085922    247"
      ]
     },
     "execution_count": 3,
     "metadata": {},
     "output_type": "execute_result"
    }
   ],
   "source": [
    "data.sample(10)#рандомные 10 строк"
   ]
  },
  {
   "cell_type": "code",
   "execution_count": 4,
   "metadata": {},
   "outputs": [
    {
     "name": "stdout",
     "output_type": "stream",
     "text": [
      "<class 'pandas.core.frame.DataFrame'>\n",
      "RangeIndex: 244126 entries, 0 to 244125\n",
      "Data columns (total 4 columns):\n",
      " #   Column          Non-Null Count   Dtype \n",
      "---  ------          --------------   ----- \n",
      " 0   EventName       244126 non-null  object\n",
      " 1   DeviceIDHash    244126 non-null  int64 \n",
      " 2   EventTimestamp  244126 non-null  int64 \n",
      " 3   ExpId           244126 non-null  int64 \n",
      "dtypes: int64(3), object(1)\n",
      "memory usage: 7.5+ MB\n"
     ]
    }
   ],
   "source": [
    "data.info()#общая информация"
   ]
  },
  {
   "cell_type": "markdown",
   "metadata": {},
   "source": [
    "**Вывод**\n",
    "\n",
    "В датасете 4 столбца с данным, необходимо переименовать столбцы согласно PEP 8 и добавить столбец с датой и времени в соотвествующем типе. Также данные не имеют пропусков."
   ]
  },
  {
   "cell_type": "markdown",
   "metadata": {},
   "source": [
    "## Предобработка данных"
   ]
  },
  {
   "cell_type": "code",
   "execution_count": 5,
   "metadata": {},
   "outputs": [],
   "source": [
    "# переименуем столбцы \n",
    "data.columns=['event_name','user_id','event_timestamp','exp_id']"
   ]
  },
  {
   "cell_type": "code",
   "execution_count": 6,
   "metadata": {},
   "outputs": [
    {
     "data": {
      "text/plain": [
       "413"
      ]
     },
     "execution_count": 6,
     "metadata": {},
     "output_type": "execute_result"
    }
   ],
   "source": [
    "data.duplicated().sum()# дубликаты"
   ]
  },
  {
   "cell_type": "code",
   "execution_count": 7,
   "metadata": {},
   "outputs": [],
   "source": [
    "data = data.drop_duplicates().reset_index()# удаляем дубликаты в виду их небольшего % от общего кол-ва строк"
   ]
  },
  {
   "cell_type": "code",
   "execution_count": 8,
   "metadata": {},
   "outputs": [
    {
     "data": {
      "text/html": [
       "<div>\n",
       "<style scoped>\n",
       "    .dataframe tbody tr th:only-of-type {\n",
       "        vertical-align: middle;\n",
       "    }\n",
       "\n",
       "    .dataframe tbody tr th {\n",
       "        vertical-align: top;\n",
       "    }\n",
       "\n",
       "    .dataframe thead th {\n",
       "        text-align: right;\n",
       "    }\n",
       "</style>\n",
       "<table border=\"1\" class=\"dataframe\">\n",
       "  <thead>\n",
       "    <tr style=\"text-align: right;\">\n",
       "      <th></th>\n",
       "      <th>index</th>\n",
       "      <th>event_name</th>\n",
       "      <th>user_id</th>\n",
       "      <th>event_timestamp</th>\n",
       "      <th>exp_id</th>\n",
       "      <th>date</th>\n",
       "    </tr>\n",
       "  </thead>\n",
       "  <tbody>\n",
       "    <tr>\n",
       "      <th>0</th>\n",
       "      <td>0</td>\n",
       "      <td>MainScreenAppear</td>\n",
       "      <td>4575588528974610257</td>\n",
       "      <td>2019-07-25 04:43:36</td>\n",
       "      <td>246</td>\n",
       "      <td>2019-07-25</td>\n",
       "    </tr>\n",
       "    <tr>\n",
       "      <th>1</th>\n",
       "      <td>1</td>\n",
       "      <td>MainScreenAppear</td>\n",
       "      <td>7416695313311560658</td>\n",
       "      <td>2019-07-25 11:11:42</td>\n",
       "      <td>246</td>\n",
       "      <td>2019-07-25</td>\n",
       "    </tr>\n",
       "    <tr>\n",
       "      <th>2</th>\n",
       "      <td>2</td>\n",
       "      <td>PaymentScreenSuccessful</td>\n",
       "      <td>3518123091307005509</td>\n",
       "      <td>2019-07-25 11:28:47</td>\n",
       "      <td>248</td>\n",
       "      <td>2019-07-25</td>\n",
       "    </tr>\n",
       "    <tr>\n",
       "      <th>3</th>\n",
       "      <td>3</td>\n",
       "      <td>CartScreenAppear</td>\n",
       "      <td>3518123091307005509</td>\n",
       "      <td>2019-07-25 11:28:47</td>\n",
       "      <td>248</td>\n",
       "      <td>2019-07-25</td>\n",
       "    </tr>\n",
       "    <tr>\n",
       "      <th>4</th>\n",
       "      <td>4</td>\n",
       "      <td>PaymentScreenSuccessful</td>\n",
       "      <td>6217807653094995999</td>\n",
       "      <td>2019-07-25 11:48:42</td>\n",
       "      <td>248</td>\n",
       "      <td>2019-07-25</td>\n",
       "    </tr>\n",
       "    <tr>\n",
       "      <th>5</th>\n",
       "      <td>5</td>\n",
       "      <td>CartScreenAppear</td>\n",
       "      <td>6217807653094995999</td>\n",
       "      <td>2019-07-25 11:48:43</td>\n",
       "      <td>248</td>\n",
       "      <td>2019-07-25</td>\n",
       "    </tr>\n",
       "    <tr>\n",
       "      <th>6</th>\n",
       "      <td>6</td>\n",
       "      <td>OffersScreenAppear</td>\n",
       "      <td>8351860793733343758</td>\n",
       "      <td>2019-07-25 14:50:42</td>\n",
       "      <td>246</td>\n",
       "      <td>2019-07-25</td>\n",
       "    </tr>\n",
       "    <tr>\n",
       "      <th>7</th>\n",
       "      <td>7</td>\n",
       "      <td>MainScreenAppear</td>\n",
       "      <td>5682100281902512875</td>\n",
       "      <td>2019-07-25 20:14:37</td>\n",
       "      <td>246</td>\n",
       "      <td>2019-07-25</td>\n",
       "    </tr>\n",
       "    <tr>\n",
       "      <th>8</th>\n",
       "      <td>8</td>\n",
       "      <td>MainScreenAppear</td>\n",
       "      <td>1850981295691852772</td>\n",
       "      <td>2019-07-25 20:31:42</td>\n",
       "      <td>247</td>\n",
       "      <td>2019-07-25</td>\n",
       "    </tr>\n",
       "    <tr>\n",
       "      <th>9</th>\n",
       "      <td>9</td>\n",
       "      <td>MainScreenAppear</td>\n",
       "      <td>5407636962369102641</td>\n",
       "      <td>2019-07-26 03:35:12</td>\n",
       "      <td>246</td>\n",
       "      <td>2019-07-26</td>\n",
       "    </tr>\n",
       "  </tbody>\n",
       "</table>\n",
       "</div>"
      ],
      "text/plain": [
       "   index               event_name              user_id     event_timestamp  \\\n",
       "0      0         MainScreenAppear  4575588528974610257 2019-07-25 04:43:36   \n",
       "1      1         MainScreenAppear  7416695313311560658 2019-07-25 11:11:42   \n",
       "2      2  PaymentScreenSuccessful  3518123091307005509 2019-07-25 11:28:47   \n",
       "3      3         CartScreenAppear  3518123091307005509 2019-07-25 11:28:47   \n",
       "4      4  PaymentScreenSuccessful  6217807653094995999 2019-07-25 11:48:42   \n",
       "5      5         CartScreenAppear  6217807653094995999 2019-07-25 11:48:43   \n",
       "6      6       OffersScreenAppear  8351860793733343758 2019-07-25 14:50:42   \n",
       "7      7         MainScreenAppear  5682100281902512875 2019-07-25 20:14:37   \n",
       "8      8         MainScreenAppear  1850981295691852772 2019-07-25 20:31:42   \n",
       "9      9         MainScreenAppear  5407636962369102641 2019-07-26 03:35:12   \n",
       "\n",
       "   exp_id        date  \n",
       "0     246  2019-07-25  \n",
       "1     246  2019-07-25  \n",
       "2     248  2019-07-25  \n",
       "3     248  2019-07-25  \n",
       "4     248  2019-07-25  \n",
       "5     248  2019-07-25  \n",
       "6     246  2019-07-25  \n",
       "7     246  2019-07-25  \n",
       "8     247  2019-07-25  \n",
       "9     246  2019-07-26  "
      ]
     },
     "execution_count": 8,
     "metadata": {},
     "output_type": "execute_result"
    }
   ],
   "source": [
    "# добавление столбцов даты + времени и дат\n",
    "data['event_timestamp'] = pd.to_datetime(data['event_timestamp'],unit='s')\n",
    "data['date'] = data['event_timestamp'].dt.date\n",
    "data.head(10)"
   ]
  },
  {
   "cell_type": "code",
   "execution_count": 9,
   "metadata": {},
   "outputs": [
    {
     "data": {
      "text/plain": [
       "MainScreenAppear           119101\n",
       "OffersScreenAppear          46808\n",
       "CartScreenAppear            42668\n",
       "PaymentScreenSuccessful     34118\n",
       "Tutorial                     1018\n",
       "Name: event_name, dtype: int64"
      ]
     },
     "execution_count": 9,
     "metadata": {},
     "output_type": "execute_result"
    }
   ],
   "source": [
    "data['event_name'].value_counts()# проверка неявных дубликатов"
   ]
  },
  {
   "cell_type": "code",
   "execution_count": 10,
   "metadata": {},
   "outputs": [
    {
     "data": {
      "text/plain": [
       "exp_id    0\n",
       "dtype: int64"
      ]
     },
     "execution_count": 10,
     "metadata": {},
     "output_type": "execute_result"
    }
   ],
   "source": [
    "qn_users = data.pivot_table(index='user_id', values='exp_id', aggfunc='nunique')\n",
    "qn_users.query('exp_id>1').count()# проверка наличия пользователей в нескольких группах сразу"
   ]
  },
  {
   "cell_type": "markdown",
   "metadata": {},
   "source": [
    "**Вывод**\n",
    "\n",
    "В названиях событий отсутствуют неявные дубликаты. Полные дубликаты были удалены, так как составляют всего 0.2% строк. Также были добавлены столбцы с датой и временем и отдельный столбец дат. Пользователи, находящиеся сразу в нескольких группах, отсутствуют."
   ]
  },
  {
   "cell_type": "markdown",
   "metadata": {},
   "source": [
    "## Анализ данных"
   ]
  },
  {
   "cell_type": "code",
   "execution_count": 11,
   "metadata": {},
   "outputs": [
    {
     "data": {
      "text/plain": [
       "243713"
      ]
     },
     "execution_count": 11,
     "metadata": {},
     "output_type": "execute_result"
    }
   ],
   "source": [
    "event_qn = data['event_name'].count()# всего событий в логе\n",
    "event_qn "
   ]
  },
  {
   "cell_type": "code",
   "execution_count": 12,
   "metadata": {},
   "outputs": [
    {
     "data": {
      "text/plain": [
       "7551"
      ]
     },
     "execution_count": 12,
     "metadata": {},
     "output_type": "execute_result"
    }
   ],
   "source": [
    "user_qn = data['user_id'].nunique()# всего пользователей в логе \n",
    "user_qn"
   ]
  },
  {
   "cell_type": "code",
   "execution_count": 13,
   "metadata": {},
   "outputs": [],
   "source": [
    "#сводная таблица событий  на пользователя\n",
    "ev_per_us = data.pivot_table(index='user_id',values='event_name' , aggfunc=['count']).reset_index()\n",
    "ev_per_us.columns =['user_id','count']"
   ]
  },
  {
   "cell_type": "code",
   "execution_count": 14,
   "metadata": {},
   "outputs": [
    {
     "data": {
      "image/png": "[encoded data removed]",
      "text/plain": [
       "<Figure size 720x360 with 1 Axes>"
      ]
     },
     "metadata": {
      "needs_background": "light"
     },
     "output_type": "display_data"
    }
   ],
   "source": [
    "plt.figure(figsize=(10,5))\n",
    "ev_per_us['count'].plot(kind='hist',range=(0,100), bins=60, grid = True, ec='black',color='steelblue');\n",
    "plt.title('Гистограмма событий на пользователя')\n",
    "plt.ylabel('Кол-во пользователей')\n",
    "plt.xlabel('Кол-во событий');"
   ]
  },
  {
   "cell_type": "code",
   "execution_count": 15,
   "metadata": {},
   "outputs": [
    {
     "data": {
      "text/plain": [
       "32.0"
      ]
     },
     "execution_count": 15,
     "metadata": {},
     "output_type": "execute_result"
    }
   ],
   "source": [
    "ev_per_us['count'].mean().round()#среднее число событий на пользователя"
   ]
  },
  {
   "cell_type": "code",
   "execution_count": 16,
   "metadata": {},
   "outputs": [
    {
     "data": {
      "text/plain": [
       "20.0"
      ]
     },
     "execution_count": 16,
     "metadata": {},
     "output_type": "execute_result"
    }
   ],
   "source": [
    "ev_per_us['count'].median().round()#медианное значение числа событий на пользователя"
   ]
  },
  {
   "cell_type": "markdown",
   "metadata": {},
   "source": [
    "Согласно графику большинство пользователей совершали до 20 событий. Распределение экспоненциальное. Медиана в данном случае более предпочтительна, так как меньше подвержена влиянию выбросов."
   ]
  },
  {
   "cell_type": "code",
   "execution_count": 17,
   "metadata": {},
   "outputs": [
    {
     "data": {
      "text/plain": [
       "datetime.date(2019, 8, 7)"
      ]
     },
     "execution_count": 17,
     "metadata": {},
     "output_type": "execute_result"
    }
   ],
   "source": [
    "data['date'].max()"
   ]
  },
  {
   "cell_type": "code",
   "execution_count": 18,
   "metadata": {},
   "outputs": [
    {
     "data": {
      "text/plain": [
       "datetime.date(2019, 7, 25)"
      ]
     },
     "execution_count": 18,
     "metadata": {},
     "output_type": "execute_result"
    }
   ],
   "source": [
    "data['date'].min()"
   ]
  },
  {
   "cell_type": "code",
   "execution_count": 19,
   "metadata": {},
   "outputs": [
    {
     "data": {
      "image/png": "[encoded data removed]",
      "text/plain": [
       "<Figure size 720x360 with 1 Axes>"
      ]
     },
     "metadata": {
      "needs_background": "light"
     },
     "output_type": "display_data"
    }
   ],
   "source": [
    "# гистрограмма по дате и времени\n",
    "plt.figure(figsize=(10,5))\n",
    "sns.histplot(data=data,x='event_timestamp', bins=14)\n",
    "plt.title('Гистограмма по дате и времени')\n",
    "plt.ylabel('Кол-во событий')\n",
    "plt.grid()\n",
    "plt.xticks(rotation=45 );"
   ]
  },
  {
   "cell_type": "code",
   "execution_count": 20,
   "metadata": {},
   "outputs": [],
   "source": [
    "data_up = data[data['event_timestamp']>='2019-08-01']# обрежем данные "
   ]
  },
  {
   "cell_type": "code",
   "execution_count": 21,
   "metadata": {},
   "outputs": [
    {
     "data": {
      "text/plain": [
       "17"
      ]
     },
     "execution_count": 21,
     "metadata": {},
     "output_type": "execute_result"
    }
   ],
   "source": [
    "#количество утеряннях пользователей \n",
    "user_qn_up = data_up['user_id'].nunique()\n",
    "user_qn - user_qn_up"
   ]
  },
  {
   "cell_type": "code",
   "execution_count": 22,
   "metadata": {},
   "outputs": [
    {
     "data": {
      "text/plain": [
       "2826"
      ]
     },
     "execution_count": 22,
     "metadata": {},
     "output_type": "execute_result"
    }
   ],
   "source": [
    "#количество утеряннях событий\n",
    "event_qn -data_up['event_name'].count()"
   ]
  },
  {
   "cell_type": "code",
   "execution_count": 23,
   "metadata": {},
   "outputs": [
    {
     "data": {
      "text/plain": [
       "1.1595606307418973"
      ]
     },
     "execution_count": 23,
     "metadata": {},
     "output_type": "execute_result"
    }
   ],
   "source": [
    "(data.shape[0]-data_up.shape[0])*100/data.shape[0]# % утерянных данных"
   ]
  },
  {
   "cell_type": "code",
   "execution_count": 24,
   "metadata": {},
   "outputs": [
    {
     "data": {
      "text/html": [
       "<div>\n",
       "<style scoped>\n",
       "    .dataframe tbody tr th:only-of-type {\n",
       "        vertical-align: middle;\n",
       "    }\n",
       "\n",
       "    .dataframe tbody tr th {\n",
       "        vertical-align: top;\n",
       "    }\n",
       "\n",
       "    .dataframe thead th {\n",
       "        text-align: right;\n",
       "    }\n",
       "</style>\n",
       "<table border=\"1\" class=\"dataframe\">\n",
       "  <thead>\n",
       "    <tr style=\"text-align: right;\">\n",
       "      <th></th>\n",
       "      <th>user_id</th>\n",
       "    </tr>\n",
       "    <tr>\n",
       "      <th>exp_id</th>\n",
       "      <th></th>\n",
       "    </tr>\n",
       "  </thead>\n",
       "  <tbody>\n",
       "    <tr>\n",
       "      <th>246</th>\n",
       "      <td>2484</td>\n",
       "    </tr>\n",
       "    <tr>\n",
       "      <th>247</th>\n",
       "      <td>2513</td>\n",
       "    </tr>\n",
       "    <tr>\n",
       "      <th>248</th>\n",
       "      <td>2537</td>\n",
       "    </tr>\n",
       "  </tbody>\n",
       "</table>\n",
       "</div>"
      ],
      "text/plain": [
       "        user_id\n",
       "exp_id         \n",
       "246        2484\n",
       "247        2513\n",
       "248        2537"
      ]
     },
     "execution_count": 24,
     "metadata": {},
     "output_type": "execute_result"
    }
   ],
   "source": [
    "data_up.pivot_table( index='exp_id', values='user_id', aggfunc='nunique')# пользователи по группам"
   ]
  },
  {
   "cell_type": "markdown",
   "metadata": {},
   "source": [
    "**Вывод**\n",
    "\n",
    "Данные представлены в период с 25 июля по 7 августа 2019 года. В среднем всего по 20 событий на пользователя. Но полные данные только с 1 августа. При удалении старых событий утеряно всего 1.16% данных. Также при этом сохранились пользователи из всех трёх экспериментальных групп."
   ]
  },
  {
   "cell_type": "markdown",
   "metadata": {},
   "source": [
    "## Воронка событий"
   ]
  },
  {
   "cell_type": "code",
   "execution_count": 25,
   "metadata": {},
   "outputs": [
    {
     "data": {
      "text/html": [
       "<div>\n",
       "<style scoped>\n",
       "    .dataframe tbody tr th:only-of-type {\n",
       "        vertical-align: middle;\n",
       "    }\n",
       "\n",
       "    .dataframe tbody tr th {\n",
       "        vertical-align: top;\n",
       "    }\n",
       "\n",
       "    .dataframe thead th {\n",
       "        text-align: right;\n",
       "    }\n",
       "</style>\n",
       "<table border=\"1\" class=\"dataframe\">\n",
       "  <thead>\n",
       "    <tr style=\"text-align: right;\">\n",
       "      <th></th>\n",
       "      <th>event_name</th>\n",
       "      <th>qn_event</th>\n",
       "      <th>qn_user</th>\n",
       "    </tr>\n",
       "  </thead>\n",
       "  <tbody>\n",
       "    <tr>\n",
       "      <th>0</th>\n",
       "      <td>MainScreenAppear</td>\n",
       "      <td>117328</td>\n",
       "      <td>7419</td>\n",
       "    </tr>\n",
       "    <tr>\n",
       "      <th>1</th>\n",
       "      <td>OffersScreenAppear</td>\n",
       "      <td>46333</td>\n",
       "      <td>4593</td>\n",
       "    </tr>\n",
       "    <tr>\n",
       "      <th>2</th>\n",
       "      <td>CartScreenAppear</td>\n",
       "      <td>42303</td>\n",
       "      <td>3734</td>\n",
       "    </tr>\n",
       "    <tr>\n",
       "      <th>3</th>\n",
       "      <td>PaymentScreenSuccessful</td>\n",
       "      <td>33918</td>\n",
       "      <td>3539</td>\n",
       "    </tr>\n",
       "    <tr>\n",
       "      <th>4</th>\n",
       "      <td>Tutorial</td>\n",
       "      <td>1005</td>\n",
       "      <td>840</td>\n",
       "    </tr>\n",
       "  </tbody>\n",
       "</table>\n",
       "</div>"
      ],
      "text/plain": [
       "                event_name  qn_event  qn_user\n",
       "0         MainScreenAppear    117328     7419\n",
       "1       OffersScreenAppear     46333     4593\n",
       "2         CartScreenAppear     42303     3734\n",
       "3  PaymentScreenSuccessful     33918     3539\n",
       "4                 Tutorial      1005      840"
      ]
     },
     "execution_count": 25,
     "metadata": {},
     "output_type": "execute_result"
    }
   ],
   "source": [
    "# уникальные события и кол-во пользователей их совершивших\n",
    "event_log = data_up.pivot_table(index='event_name',values = 'user_id', aggfunc=['count','nunique'])\n",
    "event_log.columns = ['qn_event','qn_user']\n",
    "event_log = event_log.sort_values(by='qn_event', ascending=False).reset_index()\n",
    "event_log"
   ]
  },
  {
   "cell_type": "code",
   "execution_count": 26,
   "metadata": {},
   "outputs": [
    {
     "data": {
      "text/html": [
       "<div>\n",
       "<style scoped>\n",
       "    .dataframe tbody tr th:only-of-type {\n",
       "        vertical-align: middle;\n",
       "    }\n",
       "\n",
       "    .dataframe tbody tr th {\n",
       "        vertical-align: top;\n",
       "    }\n",
       "\n",
       "    .dataframe thead th {\n",
       "        text-align: right;\n",
       "    }\n",
       "</style>\n",
       "<table border=\"1\" class=\"dataframe\">\n",
       "  <thead>\n",
       "    <tr style=\"text-align: right;\">\n",
       "      <th></th>\n",
       "      <th>event_name</th>\n",
       "      <th>qn_event</th>\n",
       "      <th>qn_user</th>\n",
       "      <th>rate</th>\n",
       "    </tr>\n",
       "  </thead>\n",
       "  <tbody>\n",
       "    <tr>\n",
       "      <th>0</th>\n",
       "      <td>MainScreenAppear</td>\n",
       "      <td>117328</td>\n",
       "      <td>7419</td>\n",
       "      <td>98.47</td>\n",
       "    </tr>\n",
       "    <tr>\n",
       "      <th>1</th>\n",
       "      <td>OffersScreenAppear</td>\n",
       "      <td>46333</td>\n",
       "      <td>4593</td>\n",
       "      <td>60.96</td>\n",
       "    </tr>\n",
       "    <tr>\n",
       "      <th>2</th>\n",
       "      <td>CartScreenAppear</td>\n",
       "      <td>42303</td>\n",
       "      <td>3734</td>\n",
       "      <td>49.56</td>\n",
       "    </tr>\n",
       "    <tr>\n",
       "      <th>3</th>\n",
       "      <td>PaymentScreenSuccessful</td>\n",
       "      <td>33918</td>\n",
       "      <td>3539</td>\n",
       "      <td>46.97</td>\n",
       "    </tr>\n",
       "    <tr>\n",
       "      <th>4</th>\n",
       "      <td>Tutorial</td>\n",
       "      <td>1005</td>\n",
       "      <td>840</td>\n",
       "      <td>11.15</td>\n",
       "    </tr>\n",
       "  </tbody>\n",
       "</table>\n",
       "</div>"
      ],
      "text/plain": [
       "                event_name  qn_event  qn_user   rate\n",
       "0         MainScreenAppear    117328     7419  98.47\n",
       "1       OffersScreenAppear     46333     4593  60.96\n",
       "2         CartScreenAppear     42303     3734  49.56\n",
       "3  PaymentScreenSuccessful     33918     3539  46.97\n",
       "4                 Tutorial      1005      840  11.15"
      ]
     },
     "execution_count": 26,
     "metadata": {},
     "output_type": "execute_result"
    }
   ],
   "source": [
    "# доля пользователей, которые хоть раз совершали событие\n",
    "event_log['rate'] = (event_log['qn_user']*100/(user_qn_up)).round(2)\n",
    "event_log"
   ]
  },
  {
   "cell_type": "markdown",
   "metadata": {},
   "source": [
    "Просмотр туториала является необязательной частью для того чтобы перейти на любой другой из имеющихся шагов.Соотвественно, данный шаг не вписывается в последовательную цепочку. "
   ]
  },
  {
   "cell_type": "code",
   "execution_count": 27,
   "metadata": {},
   "outputs": [],
   "source": [
    "# обрезка туториала\n",
    "data_up = data_up[data['event_name']!= 'Tutorial']\n",
    "event_log = event_log[event_log['event_name']!= 'Tutorial']"
   ]
  },
  {
   "cell_type": "code",
   "execution_count": 28,
   "metadata": {},
   "outputs": [
    {
     "data": {
      "text/html": [
       "<div>\n",
       "<style scoped>\n",
       "    .dataframe tbody tr th:only-of-type {\n",
       "        vertical-align: middle;\n",
       "    }\n",
       "\n",
       "    .dataframe tbody tr th {\n",
       "        vertical-align: top;\n",
       "    }\n",
       "\n",
       "    .dataframe thead th {\n",
       "        text-align: right;\n",
       "    }\n",
       "</style>\n",
       "<table border=\"1\" class=\"dataframe\">\n",
       "  <thead>\n",
       "    <tr style=\"text-align: right;\">\n",
       "      <th></th>\n",
       "      <th>index</th>\n",
       "      <th>event_name</th>\n",
       "      <th>user_id</th>\n",
       "      <th>event_timestamp</th>\n",
       "      <th>exp_id</th>\n",
       "      <th>date</th>\n",
       "    </tr>\n",
       "  </thead>\n",
       "  <tbody>\n",
       "    <tr>\n",
       "      <th>2827</th>\n",
       "      <td>2829</td>\n",
       "      <td>MainScreenAppear</td>\n",
       "      <td>3737462046622621720</td>\n",
       "      <td>2019-08-01 00:08:00</td>\n",
       "      <td>246</td>\n",
       "      <td>2019-08-01</td>\n",
       "    </tr>\n",
       "    <tr>\n",
       "      <th>2828</th>\n",
       "      <td>2830</td>\n",
       "      <td>MainScreenAppear</td>\n",
       "      <td>3737462046622621720</td>\n",
       "      <td>2019-08-01 00:08:55</td>\n",
       "      <td>246</td>\n",
       "      <td>2019-08-01</td>\n",
       "    </tr>\n",
       "    <tr>\n",
       "      <th>2829</th>\n",
       "      <td>2831</td>\n",
       "      <td>OffersScreenAppear</td>\n",
       "      <td>3737462046622621720</td>\n",
       "      <td>2019-08-01 00:08:58</td>\n",
       "      <td>246</td>\n",
       "      <td>2019-08-01</td>\n",
       "    </tr>\n",
       "    <tr>\n",
       "      <th>2830</th>\n",
       "      <td>2832</td>\n",
       "      <td>MainScreenAppear</td>\n",
       "      <td>1433840883824088890</td>\n",
       "      <td>2019-08-01 00:08:59</td>\n",
       "      <td>247</td>\n",
       "      <td>2019-08-01</td>\n",
       "    </tr>\n",
       "    <tr>\n",
       "      <th>2831</th>\n",
       "      <td>2833</td>\n",
       "      <td>MainScreenAppear</td>\n",
       "      <td>4899590676214355127</td>\n",
       "      <td>2019-08-01 00:10:15</td>\n",
       "      <td>247</td>\n",
       "      <td>2019-08-01</td>\n",
       "    </tr>\n",
       "  </tbody>\n",
       "</table>\n",
       "</div>"
      ],
      "text/plain": [
       "      index          event_name              user_id     event_timestamp  \\\n",
       "2827   2829    MainScreenAppear  3737462046622621720 2019-08-01 00:08:00   \n",
       "2828   2830    MainScreenAppear  3737462046622621720 2019-08-01 00:08:55   \n",
       "2829   2831  OffersScreenAppear  3737462046622621720 2019-08-01 00:08:58   \n",
       "2830   2832    MainScreenAppear  1433840883824088890 2019-08-01 00:08:59   \n",
       "2831   2833    MainScreenAppear  4899590676214355127 2019-08-01 00:10:15   \n",
       "\n",
       "      exp_id        date  \n",
       "2827     246  2019-08-01  \n",
       "2828     246  2019-08-01  \n",
       "2829     246  2019-08-01  \n",
       "2830     247  2019-08-01  \n",
       "2831     247  2019-08-01  "
      ]
     },
     "execution_count": 28,
     "metadata": {},
     "output_type": "execute_result"
    }
   ],
   "source": [
    "data_up.head()"
   ]
  },
  {
   "cell_type": "code",
   "execution_count": 1,
   "metadata": {},
   "outputs": [],
   "source": [
    "#fig = px.funnel(event_log, y='event_name', x='qn_user',title='Воронка событий')\n",
    "#fig.show()"
   ]
  },
  {
   "cell_type": "code",
   "execution_count": 30,
   "metadata": {},
   "outputs": [
    {
     "data": {
      "text/html": [
       "<div>\n",
       "<style scoped>\n",
       "    .dataframe tbody tr th:only-of-type {\n",
       "        vertical-align: middle;\n",
       "    }\n",
       "\n",
       "    .dataframe tbody tr th {\n",
       "        vertical-align: top;\n",
       "    }\n",
       "\n",
       "    .dataframe thead th {\n",
       "        text-align: right;\n",
       "    }\n",
       "</style>\n",
       "<table border=\"1\" class=\"dataframe\">\n",
       "  <thead>\n",
       "    <tr style=\"text-align: right;\">\n",
       "      <th></th>\n",
       "      <th>event_name</th>\n",
       "      <th>qn_event</th>\n",
       "      <th>qn_user</th>\n",
       "      <th>rate</th>\n",
       "      <th>prev_step</th>\n",
       "      <th>rate_next_step</th>\n",
       "    </tr>\n",
       "  </thead>\n",
       "  <tbody>\n",
       "    <tr>\n",
       "      <th>0</th>\n",
       "      <td>MainScreenAppear</td>\n",
       "      <td>117328</td>\n",
       "      <td>7419</td>\n",
       "      <td>98.47</td>\n",
       "      <td>0</td>\n",
       "      <td>inf</td>\n",
       "    </tr>\n",
       "    <tr>\n",
       "      <th>1</th>\n",
       "      <td>OffersScreenAppear</td>\n",
       "      <td>46333</td>\n",
       "      <td>4593</td>\n",
       "      <td>60.96</td>\n",
       "      <td>7419</td>\n",
       "      <td>61.91</td>\n",
       "    </tr>\n",
       "    <tr>\n",
       "      <th>2</th>\n",
       "      <td>CartScreenAppear</td>\n",
       "      <td>42303</td>\n",
       "      <td>3734</td>\n",
       "      <td>49.56</td>\n",
       "      <td>4593</td>\n",
       "      <td>81.30</td>\n",
       "    </tr>\n",
       "    <tr>\n",
       "      <th>3</th>\n",
       "      <td>PaymentScreenSuccessful</td>\n",
       "      <td>33918</td>\n",
       "      <td>3539</td>\n",
       "      <td>46.97</td>\n",
       "      <td>3734</td>\n",
       "      <td>94.78</td>\n",
       "    </tr>\n",
       "  </tbody>\n",
       "</table>\n",
       "</div>"
      ],
      "text/plain": [
       "                event_name  qn_event  qn_user   rate  prev_step  \\\n",
       "0         MainScreenAppear    117328     7419  98.47          0   \n",
       "1       OffersScreenAppear     46333     4593  60.96       7419   \n",
       "2         CartScreenAppear     42303     3734  49.56       4593   \n",
       "3  PaymentScreenSuccessful     33918     3539  46.97       3734   \n",
       "\n",
       "   rate_next_step  \n",
       "0             inf  \n",
       "1           61.91  \n",
       "2           81.30  \n",
       "3           94.78  "
      ]
     },
     "execution_count": 30,
     "metadata": {},
     "output_type": "execute_result"
    }
   ],
   "source": [
    "# доля пользователей, проходящая на следующий шаг воронки\n",
    "event_log['prev_step'] = event_log.shift(1,fill_value=0)['qn_user']\n",
    "event_log['rate_next_step'] = round(event_log['qn_user']*100/event_log['prev_step'],2)\n",
    "event_log"
   ]
  },
  {
   "cell_type": "code",
   "execution_count": 31,
   "metadata": {},
   "outputs": [
    {
     "data": {
      "text/plain": [
       "47.7"
      ]
     },
     "execution_count": 31,
     "metadata": {},
     "output_type": "execute_result"
    }
   ],
   "source": [
    "# доля пользователей, которые дошли до оплаты\n",
    "rate_user_payment = round(event_log.iloc[3]['qn_user']*100/event_log.iloc[0]['qn_user'],2)\n",
    "rate_user_payment"
   ]
  },
  {
   "cell_type": "markdown",
   "metadata": {},
   "source": [
    "**Вывод**\n",
    "\n",
    "Больше всего пользователей теряется на втором шаге.Только 60% пользователей переходят к странице с предложением после главной страницы. И только 48% клиентов доходят до оплаты"
   ]
  },
  {
   "cell_type": "markdown",
   "metadata": {},
   "source": [
    "## Анализ результатов A/A/B-эксперимента"
   ]
  },
  {
   "cell_type": "code",
   "execution_count": 32,
   "metadata": {},
   "outputs": [
    {
     "data": {
      "text/html": [
       "<div>\n",
       "<style scoped>\n",
       "    .dataframe tbody tr th:only-of-type {\n",
       "        vertical-align: middle;\n",
       "    }\n",
       "\n",
       "    .dataframe tbody tr th {\n",
       "        vertical-align: top;\n",
       "    }\n",
       "\n",
       "    .dataframe thead th {\n",
       "        text-align: right;\n",
       "    }\n",
       "</style>\n",
       "<table border=\"1\" class=\"dataframe\">\n",
       "  <thead>\n",
       "    <tr style=\"text-align: right;\">\n",
       "      <th></th>\n",
       "      <th>exp_id</th>\n",
       "      <th>user_id</th>\n",
       "    </tr>\n",
       "  </thead>\n",
       "  <tbody>\n",
       "    <tr>\n",
       "      <th>0</th>\n",
       "      <td>246</td>\n",
       "      <td>2483</td>\n",
       "    </tr>\n",
       "    <tr>\n",
       "      <th>1</th>\n",
       "      <td>247</td>\n",
       "      <td>2512</td>\n",
       "    </tr>\n",
       "    <tr>\n",
       "      <th>2</th>\n",
       "      <td>248</td>\n",
       "      <td>2535</td>\n",
       "    </tr>\n",
       "  </tbody>\n",
       "</table>\n",
       "</div>"
      ],
      "text/plain": [
       "   exp_id  user_id\n",
       "0     246     2483\n",
       "1     247     2512\n",
       "2     248     2535"
      ]
     },
     "execution_count": 32,
     "metadata": {},
     "output_type": "execute_result"
    }
   ],
   "source": [
    "# пользователи по группам\n",
    "user_per_gr = data_up.pivot_table( index='exp_id', values='user_id', aggfunc='nunique').reset_index()\n",
    "user_per_gr"
   ]
  },
  {
   "cell_type": "code",
   "execution_count": 33,
   "metadata": {},
   "outputs": [
    {
     "data": {
      "text/html": [
       "<div>\n",
       "<style scoped>\n",
       "    .dataframe tbody tr th:only-of-type {\n",
       "        vertical-align: middle;\n",
       "    }\n",
       "\n",
       "    .dataframe tbody tr th {\n",
       "        vertical-align: top;\n",
       "    }\n",
       "\n",
       "    .dataframe thead th {\n",
       "        text-align: right;\n",
       "    }\n",
       "</style>\n",
       "<table border=\"1\" class=\"dataframe\">\n",
       "  <thead>\n",
       "    <tr style=\"text-align: right;\">\n",
       "      <th></th>\n",
       "      <th>event_name</th>\n",
       "      <th>246</th>\n",
       "      <th>247</th>\n",
       "      <th>248</th>\n",
       "    </tr>\n",
       "  </thead>\n",
       "  <tbody>\n",
       "    <tr>\n",
       "      <th>0</th>\n",
       "      <td>MainScreenAppear</td>\n",
       "      <td>2450</td>\n",
       "      <td>2476</td>\n",
       "      <td>2493</td>\n",
       "    </tr>\n",
       "    <tr>\n",
       "      <th>1</th>\n",
       "      <td>OffersScreenAppear</td>\n",
       "      <td>1542</td>\n",
       "      <td>1520</td>\n",
       "      <td>1531</td>\n",
       "    </tr>\n",
       "    <tr>\n",
       "      <th>2</th>\n",
       "      <td>CartScreenAppear</td>\n",
       "      <td>1266</td>\n",
       "      <td>1238</td>\n",
       "      <td>1230</td>\n",
       "    </tr>\n",
       "    <tr>\n",
       "      <th>3</th>\n",
       "      <td>PaymentScreenSuccessful</td>\n",
       "      <td>1200</td>\n",
       "      <td>1158</td>\n",
       "      <td>1181</td>\n",
       "    </tr>\n",
       "  </tbody>\n",
       "</table>\n",
       "</div>"
      ],
      "text/plain": [
       "                event_name   246   247   248\n",
       "0         MainScreenAppear  2450  2476  2493\n",
       "1       OffersScreenAppear  1542  1520  1531\n",
       "2         CartScreenAppear  1266  1238  1230\n",
       "3  PaymentScreenSuccessful  1200  1158  1181"
      ]
     },
     "execution_count": 33,
     "metadata": {},
     "output_type": "execute_result"
    }
   ],
   "source": [
    "# пользователи по группами и по событиям\n",
    "users_per_event = data_up.pivot_table( index='event_name', columns = 'exp_id', values='user_id', aggfunc='nunique')\\\n",
    ".sort_values(by=246, ascending=False).reset_index()\n",
    "users_per_event.columns = ['event_name','246','247','248']\n",
    "users_per_event"
   ]
  },
  {
   "cell_type": "code",
   "execution_count": 2,
   "metadata": {},
   "outputs": [],
   "source": [
    "#fig = px.funnel(users_per_event, y='event_name', x=['246','247','248'],title='Воронка событий в разрезе групп')\n",
    "#fig.show()"
   ]
  },
  {
   "cell_type": "code",
   "execution_count": 35,
   "metadata": {},
   "outputs": [],
   "source": [
    "# объеденная контрольная группа\n",
    "users_per_event['246+247'] = users_per_event['246']+users_per_event['247']"
   ]
  },
  {
   "cell_type": "code",
   "execution_count": 36,
   "metadata": {},
   "outputs": [
    {
     "data": {
      "text/html": [
       "<div>\n",
       "<style scoped>\n",
       "    .dataframe tbody tr th:only-of-type {\n",
       "        vertical-align: middle;\n",
       "    }\n",
       "\n",
       "    .dataframe tbody tr th {\n",
       "        vertical-align: top;\n",
       "    }\n",
       "\n",
       "    .dataframe thead th {\n",
       "        text-align: right;\n",
       "    }\n",
       "</style>\n",
       "<table border=\"1\" class=\"dataframe\">\n",
       "  <thead>\n",
       "    <tr style=\"text-align: right;\">\n",
       "      <th></th>\n",
       "      <th>event_name</th>\n",
       "      <th>246</th>\n",
       "      <th>247</th>\n",
       "      <th>248</th>\n",
       "      <th>246+247</th>\n",
       "      <th>rate_A</th>\n",
       "      <th>rate_A1</th>\n",
       "      <th>rate_B</th>\n",
       "    </tr>\n",
       "  </thead>\n",
       "  <tbody>\n",
       "    <tr>\n",
       "      <th>0</th>\n",
       "      <td>MainScreenAppear</td>\n",
       "      <td>2450</td>\n",
       "      <td>2476</td>\n",
       "      <td>2493</td>\n",
       "      <td>4926</td>\n",
       "      <td>98.67</td>\n",
       "      <td>98.57</td>\n",
       "      <td>98.34</td>\n",
       "    </tr>\n",
       "    <tr>\n",
       "      <th>1</th>\n",
       "      <td>OffersScreenAppear</td>\n",
       "      <td>1542</td>\n",
       "      <td>1520</td>\n",
       "      <td>1531</td>\n",
       "      <td>3062</td>\n",
       "      <td>62.10</td>\n",
       "      <td>60.51</td>\n",
       "      <td>60.39</td>\n",
       "    </tr>\n",
       "    <tr>\n",
       "      <th>2</th>\n",
       "      <td>CartScreenAppear</td>\n",
       "      <td>1266</td>\n",
       "      <td>1238</td>\n",
       "      <td>1230</td>\n",
       "      <td>2504</td>\n",
       "      <td>50.99</td>\n",
       "      <td>49.28</td>\n",
       "      <td>48.52</td>\n",
       "    </tr>\n",
       "    <tr>\n",
       "      <th>3</th>\n",
       "      <td>PaymentScreenSuccessful</td>\n",
       "      <td>1200</td>\n",
       "      <td>1158</td>\n",
       "      <td>1181</td>\n",
       "      <td>2358</td>\n",
       "      <td>48.33</td>\n",
       "      <td>46.10</td>\n",
       "      <td>46.59</td>\n",
       "    </tr>\n",
       "  </tbody>\n",
       "</table>\n",
       "</div>"
      ],
      "text/plain": [
       "                event_name   246   247   248  246+247  rate_A  rate_A1  rate_B\n",
       "0         MainScreenAppear  2450  2476  2493     4926   98.67    98.57   98.34\n",
       "1       OffersScreenAppear  1542  1520  1531     3062   62.10    60.51   60.39\n",
       "2         CartScreenAppear  1266  1238  1230     2504   50.99    49.28   48.52\n",
       "3  PaymentScreenSuccessful  1200  1158  1181     2358   48.33    46.10   46.59"
      ]
     },
     "execution_count": 36,
     "metadata": {},
     "output_type": "execute_result"
    }
   ],
   "source": [
    "# доля пользователей, совершивших событие\n",
    "users_per_event['rate_A'] = round(users_per_event['246']*100/user_per_gr.iloc[0][1],2)\n",
    "users_per_event['rate_A1'] = round(users_per_event['247']*100/user_per_gr.iloc[1][1],2)\n",
    "users_per_event['rate_B'] = round(users_per_event['248']*100/user_per_gr.iloc[2][1],2)   \n",
    "users_per_event"
   ]
  },
  {
   "cell_type": "code",
   "execution_count": 37,
   "metadata": {},
   "outputs": [],
   "source": [
    "# функция для проверки гипотезы о равенстве долей\n",
    "def check_rate(ex,ev,n,a):\n",
    "    alpha = a # критический уровень статистической значимости\n",
    "\n",
    "    successes = np.array(users_per_event[users_per_event['event_name']==ev][ex].values.tolist()[0])\n",
    "    trials = np.array(n)\n",
    "\n",
    "     # пропорция успехов в первой группе:\n",
    "    p1 = successes[0]/trials[0]\n",
    "\n",
    "# пропорция успехов во второй группе:\n",
    "    p2 = successes[1]/trials[1]\n",
    "\n",
    "# пропорция успехов в комбинированном датасете:\n",
    "    p_combined = (successes[0] + successes[1]) / (trials[0] + trials[1])\n",
    "\n",
    "# разница пропорций в датасетах\n",
    "    difference = p1 - p2 \n",
    "# считаем статистику в ст.отклонениях стандартного нормального распределения\n",
    "    z_value = difference / mth.sqrt(p_combined * (1 - p_combined) * (1/trials[0] + 1/trials[1]))\n",
    "\n",
    "# задаем стандартное нормальное распределение (среднее 0, ст.отклонение 1)\n",
    "    distr = st.norm(0, 1)  \n",
    "    p_value = (1 - distr.cdf(abs(z_value))) * 2\n",
    "    print('Проверка гипотезы о равенстве долей между группами {}. Событие: {}'.format(ex,ev) )\n",
    "    \n",
    "    print('p-значение: ', p_value)\n",
    "\n",
    "    if p_value < alpha:\n",
    "        print('Отвергаем нулевую гипотезу: между долями есть значимая разница')\n",
    "    else:\n",
    "        print(\n",
    "        'Не получилось отвергнуть нулевую гипотезу, нет оснований считать доли разными'\n",
    "    ) \n",
    "    "
   ]
  },
  {
   "cell_type": "markdown",
   "metadata": {},
   "source": [
    "**Гипотезы** \n",
    "\n",
    "Нулевая гипотеза: различий между долями групп нет. \n",
    "\n",
    "Альтернативная гипотеза: различия между долями групп есть. \n"
   ]
  },
  {
   "cell_type": "code",
   "execution_count": 38,
   "metadata": {},
   "outputs": [
    {
     "name": "stdout",
     "output_type": "stream",
     "text": [
      "Проверка гипотезы о равенстве долей между группами ['246', '247']. Событие: MainScreenAppear\n",
      "p-значение:  0.7526703436483038\n",
      "Не получилось отвергнуть нулевую гипотезу, нет оснований считать доли разными\n",
      "Проверка гипотезы о равенстве долей между группами ['246', '247']. Событие: OffersScreenAppear\n",
      "p-значение:  0.24786096925282264\n",
      "Не получилось отвергнуть нулевую гипотезу, нет оснований считать доли разными\n",
      "Проверка гипотезы о равенстве долей между группами ['246', '247']. Событие: CartScreenAppear\n",
      "p-значение:  0.22867643757335676\n",
      "Не получилось отвергнуть нулевую гипотезу, нет оснований считать доли разными\n",
      "Проверка гипотезы о равенстве долей между группами ['246', '247']. Событие: PaymentScreenSuccessful\n",
      "p-значение:  0.11446627829276612\n",
      "Не получилось отвергнуть нулевую гипотезу, нет оснований считать доли разными\n",
      "Проверка гипотезы о равенстве долей между группами ['246', '248']. Событие: MainScreenAppear\n",
      "p-значение:  0.3387114076159288\n",
      "Не получилось отвергнуть нулевую гипотезу, нет оснований считать доли разными\n",
      "Проверка гипотезы о равенстве долей между группами ['246', '248']. Событие: OffersScreenAppear\n",
      "p-значение:  0.21442476639710506\n",
      "Не получилось отвергнуть нулевую гипотезу, нет оснований считать доли разными\n",
      "Проверка гипотезы о равенстве долей между группами ['246', '248']. Событие: CartScreenAppear\n",
      "p-значение:  0.08067367598823139\n",
      "Не получилось отвергнуть нулевую гипотезу, нет оснований считать доли разными\n",
      "Проверка гипотезы о равенстве долей между группами ['246', '248']. Событие: PaymentScreenSuccessful\n",
      "p-значение:  0.21693033984516674\n",
      "Не получилось отвергнуть нулевую гипотезу, нет оснований считать доли разными\n",
      "Проверка гипотезы о равенстве долей между группами ['247', '248']. Событие: MainScreenAppear\n",
      "p-значение:  0.5194964354051703\n",
      "Не получилось отвергнуть нулевую гипотезу, нет оснований считать доли разными\n",
      "Проверка гипотезы о равенстве долей между группами ['247', '248']. Событие: OffersScreenAppear\n",
      "p-значение:  0.9333751305879443\n",
      "Не получилось отвергнуть нулевую гипотезу, нет оснований считать доли разными\n",
      "Проверка гипотезы о равенстве долей между группами ['247', '248']. Событие: CartScreenAppear\n",
      "p-значение:  0.5878284605111943\n",
      "Не получилось отвергнуть нулевую гипотезу, нет оснований считать доли разными\n",
      "Проверка гипотезы о равенстве долей между группами ['247', '248']. Событие: PaymentScreenSuccessful\n",
      "p-значение:  0.7275718682261119\n",
      "Не получилось отвергнуть нулевую гипотезу, нет оснований считать доли разными\n",
      "Проверка гипотезы о равенстве долей между группами ['246+247', '248']. Событие: MainScreenAppear\n",
      "p-значение:  0.3486684291093256\n",
      "Не получилось отвергнуть нулевую гипотезу, нет оснований считать доли разными\n",
      "Проверка гипотезы о равенстве долей между группами ['246+247', '248']. Событие: OffersScreenAppear\n",
      "p-значение:  0.44582745409482394\n",
      "Не получилось отвергнуть нулевую гипотезу, нет оснований считать доли разными\n",
      "Проверка гипотезы о равенстве долей между группами ['246+247', '248']. Событие: CartScreenAppear\n",
      "p-значение:  0.18683558686831558\n",
      "Не получилось отвергнуть нулевую гипотезу, нет оснований считать доли разными\n",
      "Проверка гипотезы о равенстве долей между группами ['246+247', '248']. Событие: PaymentScreenSuccessful\n",
      "p-значение:  0.6107918742187335\n",
      "Не получилось отвергнуть нулевую гипотезу, нет оснований считать доли разными\n"
     ]
    }
   ],
   "source": [
    "for ex in [['246','247'],['246','248'], ['247','248'],['246+247','248']]:# цикл по парам значений\n",
    "    for ev in users_per_event['event_name']:# цикл по событиям\n",
    "        # условие для определение n - размеры групп\n",
    "        if ex == ['246','247']:\n",
    "            n = user_per_gr.loc[:1]['user_id']\n",
    "        elif ex == ['246','248']:\n",
    "            n = user_per_gr.loc[user_per_gr['exp_id'].isin([246,248])]['user_id']\n",
    "        elif ex == ['247','248']:\n",
    "            n = user_per_gr.loc[1:2]['user_id']\n",
    "        else:\n",
    "            n = [user_per_gr.loc[:1]['user_id'].sum(axis=0),user_per_gr.loc[2]['user_id']]\n",
    "        check_rate(ex,ev,n ,a=0.05)   # вызов функции"
   ]
  },
  {
   "cell_type": "markdown",
   "metadata": {},
   "source": [
    "Так как было проведено несколько сравнений на одних и тех же данных, то это множественнй тест. Скорректируем уровень значимости методом Бонферрони с целью уменьшения вероятности ошибки первого рода. Всего произведено 16 сравнений. "
   ]
  },
  {
   "cell_type": "code",
   "execution_count": 39,
   "metadata": {},
   "outputs": [
    {
     "name": "stdout",
     "output_type": "stream",
     "text": [
      "Проверка гипотезы о равенстве долей между группами ['246', '247']. Событие: MainScreenAppear\n",
      "p-значение:  0.7526703436483038\n",
      "Не получилось отвергнуть нулевую гипотезу, нет оснований считать доли разными\n",
      "Проверка гипотезы о равенстве долей между группами ['246', '247']. Событие: OffersScreenAppear\n",
      "p-значение:  0.24786096925282264\n",
      "Не получилось отвергнуть нулевую гипотезу, нет оснований считать доли разными\n",
      "Проверка гипотезы о равенстве долей между группами ['246', '247']. Событие: CartScreenAppear\n",
      "p-значение:  0.22867643757335676\n",
      "Не получилось отвергнуть нулевую гипотезу, нет оснований считать доли разными\n",
      "Проверка гипотезы о равенстве долей между группами ['246', '247']. Событие: PaymentScreenSuccessful\n",
      "p-значение:  0.11446627829276612\n",
      "Не получилось отвергнуть нулевую гипотезу, нет оснований считать доли разными\n",
      "Проверка гипотезы о равенстве долей между группами ['246', '248']. Событие: MainScreenAppear\n",
      "p-значение:  0.3387114076159288\n",
      "Не получилось отвергнуть нулевую гипотезу, нет оснований считать доли разными\n",
      "Проверка гипотезы о равенстве долей между группами ['246', '248']. Событие: OffersScreenAppear\n",
      "p-значение:  0.21442476639710506\n",
      "Не получилось отвергнуть нулевую гипотезу, нет оснований считать доли разными\n",
      "Проверка гипотезы о равенстве долей между группами ['246', '248']. Событие: CartScreenAppear\n",
      "p-значение:  0.08067367598823139\n",
      "Не получилось отвергнуть нулевую гипотезу, нет оснований считать доли разными\n",
      "Проверка гипотезы о равенстве долей между группами ['246', '248']. Событие: PaymentScreenSuccessful\n",
      "p-значение:  0.21693033984516674\n",
      "Не получилось отвергнуть нулевую гипотезу, нет оснований считать доли разными\n",
      "Проверка гипотезы о равенстве долей между группами ['247', '248']. Событие: MainScreenAppear\n",
      "p-значение:  0.5194964354051703\n",
      "Не получилось отвергнуть нулевую гипотезу, нет оснований считать доли разными\n",
      "Проверка гипотезы о равенстве долей между группами ['247', '248']. Событие: OffersScreenAppear\n",
      "p-значение:  0.9333751305879443\n",
      "Не получилось отвергнуть нулевую гипотезу, нет оснований считать доли разными\n",
      "Проверка гипотезы о равенстве долей между группами ['247', '248']. Событие: CartScreenAppear\n",
      "p-значение:  0.5878284605111943\n",
      "Не получилось отвергнуть нулевую гипотезу, нет оснований считать доли разными\n",
      "Проверка гипотезы о равенстве долей между группами ['247', '248']. Событие: PaymentScreenSuccessful\n",
      "p-значение:  0.7275718682261119\n",
      "Не получилось отвергнуть нулевую гипотезу, нет оснований считать доли разными\n",
      "Проверка гипотезы о равенстве долей между группами ['246+247', '248']. Событие: MainScreenAppear\n",
      "p-значение:  0.3486684291093256\n",
      "Не получилось отвергнуть нулевую гипотезу, нет оснований считать доли разными\n",
      "Проверка гипотезы о равенстве долей между группами ['246+247', '248']. Событие: OffersScreenAppear\n",
      "p-значение:  0.44582745409482394\n",
      "Не получилось отвергнуть нулевую гипотезу, нет оснований считать доли разными\n",
      "Проверка гипотезы о равенстве долей между группами ['246+247', '248']. Событие: CartScreenAppear\n",
      "p-значение:  0.18683558686831558\n",
      "Не получилось отвергнуть нулевую гипотезу, нет оснований считать доли разными\n",
      "Проверка гипотезы о равенстве долей между группами ['246+247', '248']. Событие: PaymentScreenSuccessful\n",
      "p-значение:  0.6107918742187335\n",
      "Не получилось отвергнуть нулевую гипотезу, нет оснований считать доли разными\n"
     ]
    }
   ],
   "source": [
    "for ex in [['246','247'],['246','248'], ['247','248'],['246+247','248']]:\n",
    "    for ev in users_per_event['event_name']:\n",
    "        if ex == ['246','247']:\n",
    "            n = user_per_gr.loc[:1]['user_id']\n",
    "        elif ex == ['246','248']:\n",
    "            n = user_per_gr.loc[user_per_gr['exp_id'].isin([246,248])]['user_id']\n",
    "        elif ex == ['247','248']:\n",
    "            n = user_per_gr.loc[1:2]['user_id']\n",
    "        else:\n",
    "            n = [user_per_gr.loc[:1]['user_id'].sum(axis=0),user_per_gr.loc[2]['user_id']]\n",
    "        check_rate(ex,ev,n ,a=0.05/16)     "
   ]
  },
  {
   "cell_type": "markdown",
   "metadata": {},
   "source": [
    "**Вывод**\n",
    "\n",
    "Статистически значимых различий между группами А и А1 нет. Значит можно сказать, что разбиение на группы работает корректно.  Также нет статистически достоверных отличий между контрольными группами и экспериментальной, даже с учетом поправки Бонферрони. Соотвественно, изменение шрифта не приводит к желаемым результатам. "
   ]
  },
  {
   "cell_type": "markdown",
   "metadata": {},
   "source": [
    "**ИТОГИ**\n",
    "\n",
    "Данные были представлены в период с 25 июля по 7 августа 2019 года. В среднем всего по 20 событий на пользователя.При анализе были учтены только логи с 1 августа. При удалении старых событий утеряно всего 1.16% данных. Также при этом сохранились пользователи из всех трёх экспериментальных групп.\n",
    "\n",
    "Согласно воронке событий больше всего пользователей теряется на втором шаге: при переходе от главной экрана к экрану с предложением.(40%) \n",
    "И только 48% клиентов доходят до оплаты. \n",
    "\n",
    "Статистически значимых различий между двумя контрольными группами нет. Значит можно сказать, что разбиение на группы работает корректно.  Также нет статистически достоверных отличий между контрольными группами и экспериментальной.\n",
    "Соотвественно, изменение шрифта не приводит к какому-либо влиянию на метрику. Нет оснований считать доли  экспериментальной группы (с новыми шрифтами) по каждому событию и доли контрольных групп - разными."
   ]
  },
  {
   "cell_type": "code",
   "execution_count": null,
   "metadata": {},
   "outputs": [],
   "source": []
  }
 ],
 "metadata": {
  "ExecuteTimeLog": [
   {
    "duration": 1423,
    "start_time": "2023-01-17T13:38:53.259Z"
   },
   {
    "duration": 1106,
    "start_time": "2023-01-17T13:41:11.555Z"
   },
   {
    "duration": 49,
    "start_time": "2023-01-18T10:46:11.940Z"
   },
   {
    "duration": 1379,
    "start_time": "2023-01-18T10:46:15.075Z"
   },
   {
    "duration": 697,
    "start_time": "2023-01-18T10:46:16.456Z"
   },
   {
    "duration": 17,
    "start_time": "2023-01-18T10:46:17.154Z"
   },
   {
    "duration": 171,
    "start_time": "2023-01-18T10:49:29.022Z"
   },
   {
    "duration": 15,
    "start_time": "2023-01-18T10:49:30.716Z"
   },
   {
    "duration": 1984,
    "start_time": "2023-01-18T10:49:32.767Z"
   },
   {
    "duration": 3,
    "start_time": "2023-01-18T10:49:40.942Z"
   },
   {
    "duration": 172,
    "start_time": "2023-01-18T10:49:40.947Z"
   },
   {
    "duration": 13,
    "start_time": "2023-01-18T10:49:41.121Z"
   },
   {
    "duration": 20,
    "start_time": "2023-01-18T10:50:17.085Z"
   },
   {
    "duration": 65,
    "start_time": "2023-01-18T10:56:11.469Z"
   },
   {
    "duration": 3,
    "start_time": "2023-01-18T10:56:17.582Z"
   },
   {
    "duration": 35,
    "start_time": "2023-01-18T10:57:13.666Z"
   },
   {
    "duration": 44,
    "start_time": "2023-01-18T10:57:18.666Z"
   },
   {
    "duration": 11,
    "start_time": "2023-01-18T11:01:38.684Z"
   },
   {
    "duration": 79,
    "start_time": "2023-01-18T11:01:48.286Z"
   },
   {
    "duration": 110,
    "start_time": "2023-01-18T11:03:42.124Z"
   },
   {
    "duration": 87,
    "start_time": "2023-01-18T11:03:49.769Z"
   },
   {
    "duration": 91,
    "start_time": "2023-01-18T11:04:04.475Z"
   },
   {
    "duration": 4,
    "start_time": "2023-01-18T11:05:16.237Z"
   },
   {
    "duration": 212,
    "start_time": "2023-01-18T11:05:16.244Z"
   },
   {
    "duration": 24,
    "start_time": "2023-01-18T11:05:16.459Z"
   },
   {
    "duration": 29,
    "start_time": "2023-01-18T11:05:16.485Z"
   },
   {
    "duration": 18,
    "start_time": "2023-01-18T11:05:16.518Z"
   },
   {
    "duration": 61,
    "start_time": "2023-01-18T11:05:16.539Z"
   },
   {
    "duration": 132,
    "start_time": "2023-01-18T11:05:16.602Z"
   },
   {
    "duration": 90,
    "start_time": "2023-01-18T11:05:32.444Z"
   },
   {
    "duration": 4,
    "start_time": "2023-01-18T11:05:35.778Z"
   },
   {
    "duration": 178,
    "start_time": "2023-01-18T11:05:35.784Z"
   },
   {
    "duration": 21,
    "start_time": "2023-01-18T11:05:35.964Z"
   },
   {
    "duration": 36,
    "start_time": "2023-01-18T11:05:35.987Z"
   },
   {
    "duration": 19,
    "start_time": "2023-01-18T11:05:36.025Z"
   },
   {
    "duration": 59,
    "start_time": "2023-01-18T11:05:36.046Z"
   },
   {
    "duration": 94,
    "start_time": "2023-01-18T11:05:36.107Z"
   },
   {
    "duration": 92,
    "start_time": "2023-01-18T11:06:35.161Z"
   },
   {
    "duration": 92,
    "start_time": "2023-01-18T11:10:25.526Z"
   },
   {
    "duration": 78,
    "start_time": "2023-01-18T11:10:30.278Z"
   },
   {
    "duration": 11,
    "start_time": "2023-01-18T11:11:14.747Z"
   },
   {
    "duration": 102,
    "start_time": "2023-01-18T11:11:35.474Z"
   },
   {
    "duration": 109,
    "start_time": "2023-01-18T11:11:45.243Z"
   },
   {
    "duration": 87,
    "start_time": "2023-01-18T11:11:49.465Z"
   },
   {
    "duration": 98,
    "start_time": "2023-01-18T11:12:41.555Z"
   },
   {
    "duration": 3,
    "start_time": "2023-01-18T11:12:43.829Z"
   },
   {
    "duration": 163,
    "start_time": "2023-01-18T11:12:43.834Z"
   },
   {
    "duration": 15,
    "start_time": "2023-01-18T11:12:43.999Z"
   },
   {
    "duration": 21,
    "start_time": "2023-01-18T11:12:44.016Z"
   },
   {
    "duration": 3,
    "start_time": "2023-01-18T11:12:44.039Z"
   },
   {
    "duration": 76,
    "start_time": "2023-01-18T11:12:44.044Z"
   },
   {
    "duration": 68,
    "start_time": "2023-01-18T11:12:44.121Z"
   },
   {
    "duration": 91,
    "start_time": "2023-01-18T11:12:44.191Z"
   },
   {
    "duration": 109,
    "start_time": "2023-01-18T11:13:04.121Z"
   },
   {
    "duration": 5,
    "start_time": "2023-01-18T11:13:06.225Z"
   },
   {
    "duration": 176,
    "start_time": "2023-01-18T11:13:06.232Z"
   },
   {
    "duration": 14,
    "start_time": "2023-01-18T11:13:06.410Z"
   },
   {
    "duration": 32,
    "start_time": "2023-01-18T11:13:06.426Z"
   },
   {
    "duration": 15,
    "start_time": "2023-01-18T11:13:06.461Z"
   },
   {
    "duration": 86,
    "start_time": "2023-01-18T11:13:06.478Z"
   },
   {
    "duration": 64,
    "start_time": "2023-01-18T11:13:06.566Z"
   },
   {
    "duration": 105,
    "start_time": "2023-01-18T11:13:06.632Z"
   },
   {
    "duration": 97,
    "start_time": "2023-01-18T11:13:21.939Z"
   },
   {
    "duration": 3,
    "start_time": "2023-01-18T11:13:25.298Z"
   },
   {
    "duration": 159,
    "start_time": "2023-01-18T11:13:25.303Z"
   },
   {
    "duration": 12,
    "start_time": "2023-01-18T11:13:25.464Z"
   },
   {
    "duration": 19,
    "start_time": "2023-01-18T11:13:25.477Z"
   },
   {
    "duration": 2,
    "start_time": "2023-01-18T11:13:25.498Z"
   },
   {
    "duration": 54,
    "start_time": "2023-01-18T11:13:25.502Z"
   },
   {
    "duration": 75,
    "start_time": "2023-01-18T11:13:25.558Z"
   },
   {
    "duration": 78,
    "start_time": "2023-01-18T11:13:25.634Z"
   },
   {
    "duration": 4,
    "start_time": "2023-01-18T14:09:42.050Z"
   },
   {
    "duration": 157,
    "start_time": "2023-01-18T14:09:42.057Z"
   },
   {
    "duration": 14,
    "start_time": "2023-01-18T14:09:42.216Z"
   },
   {
    "duration": 20,
    "start_time": "2023-01-18T14:09:42.232Z"
   },
   {
    "duration": 3,
    "start_time": "2023-01-18T14:09:42.255Z"
   },
   {
    "duration": 79,
    "start_time": "2023-01-18T14:09:42.259Z"
   },
   {
    "duration": 83,
    "start_time": "2023-01-18T14:09:42.340Z"
   },
   {
    "duration": 89,
    "start_time": "2023-01-18T14:09:42.424Z"
   },
   {
    "duration": 956,
    "start_time": "2023-01-18T14:13:02.538Z"
   },
   {
    "duration": 34,
    "start_time": "2023-01-18T14:13:06.879Z"
   },
   {
    "duration": 23,
    "start_time": "2023-01-18T14:13:29.901Z"
   },
   {
    "duration": 70,
    "start_time": "2023-01-18T14:14:29.150Z"
   },
   {
    "duration": 77,
    "start_time": "2023-01-18T14:14:35.504Z"
   },
   {
    "duration": 44,
    "start_time": "2023-01-18T14:14:48.476Z"
   },
   {
    "duration": 42,
    "start_time": "2023-01-18T14:14:52.301Z"
   },
   {
    "duration": 42,
    "start_time": "2023-01-18T14:14:59.501Z"
   },
   {
    "duration": 47,
    "start_time": "2023-01-18T14:15:09.097Z"
   },
   {
    "duration": 12,
    "start_time": "2023-01-18T14:30:01.691Z"
   },
   {
    "duration": 9,
    "start_time": "2023-01-18T14:30:12.833Z"
   },
   {
    "duration": 9,
    "start_time": "2023-01-18T14:30:17.477Z"
   },
   {
    "duration": 4,
    "start_time": "2023-01-18T14:30:47.883Z"
   },
   {
    "duration": 8,
    "start_time": "2023-01-18T14:31:58.984Z"
   },
   {
    "duration": 11,
    "start_time": "2023-01-18T14:33:25.099Z"
   },
   {
    "duration": 9,
    "start_time": "2023-01-18T14:33:26.710Z"
   },
   {
    "duration": 4,
    "start_time": "2023-01-18T14:34:17.050Z"
   },
   {
    "duration": 8,
    "start_time": "2023-01-18T14:34:23.781Z"
   },
   {
    "duration": 12,
    "start_time": "2023-01-18T14:34:27.828Z"
   },
   {
    "duration": 4,
    "start_time": "2023-01-18T14:34:49.410Z"
   },
   {
    "duration": 31,
    "start_time": "2023-01-18T14:46:22.524Z"
   },
   {
    "duration": 28,
    "start_time": "2023-01-18T14:46:30.133Z"
   },
   {
    "duration": 27,
    "start_time": "2023-01-18T14:46:52.586Z"
   },
   {
    "duration": 17,
    "start_time": "2023-01-18T14:52:00.406Z"
   },
   {
    "duration": 38,
    "start_time": "2023-01-18T14:52:17.451Z"
   },
   {
    "duration": 61,
    "start_time": "2023-01-18T14:52:47.282Z"
   },
   {
    "duration": 62,
    "start_time": "2023-01-18T14:52:52.449Z"
   },
   {
    "duration": 59,
    "start_time": "2023-01-18T14:53:38.211Z"
   },
   {
    "duration": 61,
    "start_time": "2023-01-18T14:53:43.270Z"
   },
   {
    "duration": 97,
    "start_time": "2023-01-18T14:54:12.810Z"
   },
   {
    "duration": 102,
    "start_time": "2023-01-18T14:54:23.871Z"
   },
   {
    "duration": 98,
    "start_time": "2023-01-18T14:54:27.738Z"
   },
   {
    "duration": 92,
    "start_time": "2023-01-18T14:54:39.223Z"
   },
   {
    "duration": 3,
    "start_time": "2023-01-18T14:54:43.585Z"
   },
   {
    "duration": 162,
    "start_time": "2023-01-18T14:54:43.591Z"
   },
   {
    "duration": 14,
    "start_time": "2023-01-18T14:54:43.754Z"
   },
   {
    "duration": 24,
    "start_time": "2023-01-18T14:54:43.770Z"
   },
   {
    "duration": 3,
    "start_time": "2023-01-18T14:54:43.797Z"
   },
   {
    "duration": 80,
    "start_time": "2023-01-18T14:54:43.802Z"
   },
   {
    "duration": 73,
    "start_time": "2023-01-18T14:54:43.885Z"
   },
   {
    "duration": 107,
    "start_time": "2023-01-18T14:54:43.960Z"
   },
   {
    "duration": 39,
    "start_time": "2023-01-18T14:54:44.068Z"
   },
   {
    "duration": 76,
    "start_time": "2023-01-18T14:54:44.109Z"
   },
   {
    "duration": 12,
    "start_time": "2023-01-18T14:54:44.187Z"
   },
   {
    "duration": 10,
    "start_time": "2023-01-18T14:54:44.201Z"
   },
   {
    "duration": 4,
    "start_time": "2023-01-18T14:54:44.212Z"
   },
   {
    "duration": 122,
    "start_time": "2023-01-18T14:54:44.219Z"
   },
   {
    "duration": 9,
    "start_time": "2023-01-18T15:19:00.669Z"
   },
   {
    "duration": 3,
    "start_time": "2023-01-18T15:19:08.417Z"
   },
   {
    "duration": 53,
    "start_time": "2023-01-18T15:19:11.250Z"
   },
   {
    "duration": 427,
    "start_time": "2023-01-18T15:20:14.833Z"
   },
   {
    "duration": 27,
    "start_time": "2023-01-18T15:20:39.280Z"
   },
   {
    "duration": 173,
    "start_time": "2023-01-18T15:26:38.304Z"
   },
   {
    "duration": 241,
    "start_time": "2023-01-18T15:27:07.177Z"
   },
   {
    "duration": 20,
    "start_time": "2023-01-18T15:28:24.718Z"
   },
   {
    "duration": 52,
    "start_time": "2023-01-18T15:28:40.505Z"
   },
   {
    "duration": 9,
    "start_time": "2023-01-18T15:28:44.852Z"
   },
   {
    "duration": 5,
    "start_time": "2023-01-18T15:29:01.584Z"
   },
   {
    "duration": 13,
    "start_time": "2023-01-18T15:30:13.035Z"
   },
   {
    "duration": 338,
    "start_time": "2023-01-18T15:36:13.163Z"
   },
   {
    "duration": 395,
    "start_time": "2023-01-18T15:37:03.178Z"
   },
   {
    "duration": 408,
    "start_time": "2023-01-18T15:37:43.471Z"
   },
   {
    "duration": 347,
    "start_time": "2023-01-18T15:37:54.242Z"
   },
   {
    "duration": 347,
    "start_time": "2023-01-18T15:39:01.449Z"
   },
   {
    "duration": 562,
    "start_time": "2023-01-18T15:39:19.540Z"
   },
   {
    "duration": 347,
    "start_time": "2023-01-18T15:39:29.182Z"
   },
   {
    "duration": 588,
    "start_time": "2023-01-18T15:39:31.482Z"
   },
   {
    "duration": 259,
    "start_time": "2023-01-18T15:39:47.432Z"
   },
   {
    "duration": 273,
    "start_time": "2023-01-18T15:40:09.895Z"
   },
   {
    "duration": 355,
    "start_time": "2023-01-18T15:41:04.417Z"
   },
   {
    "duration": 268,
    "start_time": "2023-01-18T15:41:14.691Z"
   },
   {
    "duration": 40,
    "start_time": "2023-01-18T15:43:14.836Z"
   },
   {
    "duration": 62,
    "start_time": "2023-01-18T15:43:35.485Z"
   },
   {
    "duration": 55,
    "start_time": "2023-01-18T15:44:24.081Z"
   },
   {
    "duration": 39,
    "start_time": "2023-01-18T15:44:39.732Z"
   },
   {
    "duration": 39,
    "start_time": "2023-01-18T15:44:58.300Z"
   },
   {
    "duration": 40,
    "start_time": "2023-01-18T15:45:01.998Z"
   },
   {
    "duration": 40,
    "start_time": "2023-01-18T15:45:23.652Z"
   },
   {
    "duration": 38,
    "start_time": "2023-01-18T15:45:31.502Z"
   },
   {
    "duration": 42,
    "start_time": "2023-01-18T15:45:34.315Z"
   },
   {
    "duration": 394,
    "start_time": "2023-01-18T15:46:55.967Z"
   },
   {
    "duration": 16,
    "start_time": "2023-01-18T15:48:06.024Z"
   },
   {
    "duration": 25,
    "start_time": "2023-01-18T15:48:14.654Z"
   },
   {
    "duration": 28,
    "start_time": "2023-01-18T15:50:42.804Z"
   },
   {
    "duration": 40,
    "start_time": "2023-01-18T15:53:09.879Z"
   },
   {
    "duration": 13,
    "start_time": "2023-01-18T15:55:13.284Z"
   },
   {
    "duration": 5,
    "start_time": "2023-01-18T15:55:24.672Z"
   },
   {
    "duration": 161,
    "start_time": "2023-01-18T15:55:24.680Z"
   },
   {
    "duration": 16,
    "start_time": "2023-01-18T15:55:24.843Z"
   },
   {
    "duration": 29,
    "start_time": "2023-01-18T15:55:24.861Z"
   },
   {
    "duration": 3,
    "start_time": "2023-01-18T15:55:24.893Z"
   },
   {
    "duration": 76,
    "start_time": "2023-01-18T15:55:24.898Z"
   },
   {
    "duration": 71,
    "start_time": "2023-01-18T15:55:24.981Z"
   },
   {
    "duration": 101,
    "start_time": "2023-01-18T15:55:25.054Z"
   },
   {
    "duration": 29,
    "start_time": "2023-01-18T15:55:25.156Z"
   },
   {
    "duration": 67,
    "start_time": "2023-01-18T15:55:25.187Z"
   },
   {
    "duration": 27,
    "start_time": "2023-01-18T15:55:25.255Z"
   },
   {
    "duration": 9,
    "start_time": "2023-01-18T15:55:25.284Z"
   },
   {
    "duration": 4,
    "start_time": "2023-01-18T15:55:25.294Z"
   },
   {
    "duration": 21,
    "start_time": "2023-01-18T15:55:25.301Z"
   },
   {
    "duration": 18,
    "start_time": "2023-01-18T15:55:25.323Z"
   },
   {
    "duration": 404,
    "start_time": "2023-01-18T15:55:25.343Z"
   },
   {
    "duration": 10,
    "start_time": "2023-01-18T15:55:25.749Z"
   },
   {
    "duration": 0,
    "start_time": "2023-01-18T15:55:25.760Z"
   },
   {
    "duration": 195,
    "start_time": "2023-01-18T15:55:33.351Z"
   },
   {
    "duration": 4,
    "start_time": "2023-01-18T15:55:50.895Z"
   },
   {
    "duration": 201,
    "start_time": "2023-01-18T15:58:32.966Z"
   },
   {
    "duration": 224,
    "start_time": "2023-01-18T15:58:45.611Z"
   },
   {
    "duration": 1219,
    "start_time": "2023-01-18T16:00:23.216Z"
   },
   {
    "duration": 170,
    "start_time": "2023-01-18T16:00:24.437Z"
   },
   {
    "duration": 22,
    "start_time": "2023-01-18T16:00:24.612Z"
   },
   {
    "duration": 29,
    "start_time": "2023-01-18T16:00:24.636Z"
   },
   {
    "duration": 21,
    "start_time": "2023-01-18T16:00:24.667Z"
   },
   {
    "duration": 85,
    "start_time": "2023-01-18T16:00:24.690Z"
   },
   {
    "duration": 83,
    "start_time": "2023-01-18T16:00:24.777Z"
   },
   {
    "duration": 106,
    "start_time": "2023-01-18T16:00:24.862Z"
   },
   {
    "duration": 24,
    "start_time": "2023-01-18T16:00:24.980Z"
   },
   {
    "duration": 85,
    "start_time": "2023-01-18T16:00:25.006Z"
   },
   {
    "duration": 20,
    "start_time": "2023-01-18T16:00:25.093Z"
   },
   {
    "duration": 20,
    "start_time": "2023-01-18T16:00:25.115Z"
   },
   {
    "duration": 4,
    "start_time": "2023-01-18T16:00:25.137Z"
   },
   {
    "duration": 21,
    "start_time": "2023-01-18T16:00:25.143Z"
   },
   {
    "duration": 22,
    "start_time": "2023-01-18T16:00:25.181Z"
   },
   {
    "duration": 458,
    "start_time": "2023-01-18T16:00:25.205Z"
   },
   {
    "duration": 332,
    "start_time": "2023-01-18T16:00:25.665Z"
   },
   {
    "duration": 0,
    "start_time": "2023-01-18T16:00:25.999Z"
   },
   {
    "duration": 234,
    "start_time": "2023-01-18T16:00:35.788Z"
   },
   {
    "duration": 29,
    "start_time": "2023-01-18T16:02:09.999Z"
   },
   {
    "duration": 28,
    "start_time": "2023-01-18T16:05:03.251Z"
   },
   {
    "duration": 97,
    "start_time": "2023-01-18T16:05:25.375Z"
   },
   {
    "duration": 29,
    "start_time": "2023-01-18T16:05:33.904Z"
   },
   {
    "duration": 5,
    "start_time": "2023-01-18T16:05:40.038Z"
   },
   {
    "duration": 169,
    "start_time": "2023-01-18T16:05:40.045Z"
   },
   {
    "duration": 15,
    "start_time": "2023-01-18T16:05:40.215Z"
   },
   {
    "duration": 22,
    "start_time": "2023-01-18T16:05:40.232Z"
   },
   {
    "duration": 3,
    "start_time": "2023-01-18T16:05:40.257Z"
   },
   {
    "duration": 79,
    "start_time": "2023-01-18T16:05:40.261Z"
   },
   {
    "duration": 88,
    "start_time": "2023-01-18T16:05:40.342Z"
   },
   {
    "duration": 101,
    "start_time": "2023-01-18T16:05:40.432Z"
   },
   {
    "duration": 27,
    "start_time": "2023-01-18T16:05:40.535Z"
   },
   {
    "duration": 25,
    "start_time": "2023-01-18T16:05:40.581Z"
   },
   {
    "duration": 91,
    "start_time": "2023-01-18T16:05:40.608Z"
   },
   {
    "duration": 15,
    "start_time": "2023-01-18T16:05:40.701Z"
   },
   {
    "duration": 14,
    "start_time": "2023-01-18T16:05:40.720Z"
   },
   {
    "duration": 8,
    "start_time": "2023-01-18T16:05:40.737Z"
   },
   {
    "duration": 43,
    "start_time": "2023-01-18T16:05:40.748Z"
   },
   {
    "duration": 19,
    "start_time": "2023-01-18T16:05:40.794Z"
   },
   {
    "duration": 381,
    "start_time": "2023-01-18T16:05:40.815Z"
   },
   {
    "duration": 235,
    "start_time": "2023-01-18T16:05:41.198Z"
   },
   {
    "duration": 0,
    "start_time": "2023-01-18T16:05:41.435Z"
   },
   {
    "duration": 26,
    "start_time": "2023-01-18T16:10:24.877Z"
   },
   {
    "duration": 29,
    "start_time": "2023-01-18T16:10:31.961Z"
   },
   {
    "duration": 90,
    "start_time": "2023-01-18T16:15:03.966Z"
   },
   {
    "duration": 15,
    "start_time": "2023-01-18T16:15:17.730Z"
   },
   {
    "duration": 5,
    "start_time": "2023-01-18T16:15:38.488Z"
   },
   {
    "duration": 5,
    "start_time": "2023-01-18T16:16:06.681Z"
   },
   {
    "duration": 5,
    "start_time": "2023-01-18T16:16:36.755Z"
   },
   {
    "duration": 4,
    "start_time": "2023-01-18T16:16:42.060Z"
   },
   {
    "duration": 165,
    "start_time": "2023-01-18T16:16:42.068Z"
   },
   {
    "duration": 17,
    "start_time": "2023-01-18T16:16:42.236Z"
   },
   {
    "duration": 37,
    "start_time": "2023-01-18T16:16:42.256Z"
   },
   {
    "duration": 5,
    "start_time": "2023-01-18T16:16:42.295Z"
   },
   {
    "duration": 89,
    "start_time": "2023-01-18T16:16:42.303Z"
   },
   {
    "duration": 63,
    "start_time": "2023-01-18T16:16:42.394Z"
   },
   {
    "duration": 95,
    "start_time": "2023-01-18T16:16:42.459Z"
   },
   {
    "duration": 26,
    "start_time": "2023-01-18T16:16:42.556Z"
   },
   {
    "duration": 64,
    "start_time": "2023-01-18T16:16:42.584Z"
   },
   {
    "duration": 12,
    "start_time": "2023-01-18T16:16:42.650Z"
   },
   {
    "duration": 9,
    "start_time": "2023-01-18T16:16:42.682Z"
   },
   {
    "duration": 4,
    "start_time": "2023-01-18T16:16:42.693Z"
   },
   {
    "duration": 16,
    "start_time": "2023-01-18T16:16:42.699Z"
   },
   {
    "duration": 16,
    "start_time": "2023-01-18T16:16:42.718Z"
   },
   {
    "duration": 385,
    "start_time": "2023-01-18T16:16:42.735Z"
   },
   {
    "duration": 38,
    "start_time": "2023-01-18T16:16:43.122Z"
   },
   {
    "duration": 26,
    "start_time": "2023-01-18T16:16:43.162Z"
   },
   {
    "duration": 4,
    "start_time": "2023-01-18T16:16:43.191Z"
   },
   {
    "duration": 5,
    "start_time": "2023-01-18T16:16:56.564Z"
   },
   {
    "duration": 3,
    "start_time": "2023-01-18T16:17:01.990Z"
   },
   {
    "duration": 197,
    "start_time": "2023-01-18T16:17:01.996Z"
   },
   {
    "duration": 13,
    "start_time": "2023-01-18T16:17:02.195Z"
   },
   {
    "duration": 39,
    "start_time": "2023-01-18T16:17:02.210Z"
   },
   {
    "duration": 6,
    "start_time": "2023-01-18T16:17:02.250Z"
   },
   {
    "duration": 72,
    "start_time": "2023-01-18T16:17:02.258Z"
   },
   {
    "duration": 55,
    "start_time": "2023-01-18T16:17:02.331Z"
   },
   {
    "duration": 75,
    "start_time": "2023-01-18T16:17:02.387Z"
   },
   {
    "duration": 34,
    "start_time": "2023-01-18T16:17:02.464Z"
   },
   {
    "duration": 73,
    "start_time": "2023-01-18T16:17:02.500Z"
   },
   {
    "duration": 11,
    "start_time": "2023-01-18T16:17:02.574Z"
   },
   {
    "duration": 33,
    "start_time": "2023-01-18T16:17:02.587Z"
   },
   {
    "duration": 17,
    "start_time": "2023-01-18T16:17:02.621Z"
   },
   {
    "duration": 24,
    "start_time": "2023-01-18T16:17:02.639Z"
   },
   {
    "duration": 33,
    "start_time": "2023-01-18T16:17:02.664Z"
   },
   {
    "duration": 362,
    "start_time": "2023-01-18T16:17:02.699Z"
   },
   {
    "duration": 44,
    "start_time": "2023-01-18T16:17:03.063Z"
   },
   {
    "duration": 12,
    "start_time": "2023-01-18T16:17:03.108Z"
   },
   {
    "duration": 10,
    "start_time": "2023-01-18T16:17:03.122Z"
   },
   {
    "duration": 12,
    "start_time": "2023-01-18T16:22:29.507Z"
   },
   {
    "duration": 21,
    "start_time": "2023-01-18T16:22:34.279Z"
   },
   {
    "duration": 14,
    "start_time": "2023-01-18T16:22:44.487Z"
   },
   {
    "duration": 39,
    "start_time": "2023-01-18T16:27:37.849Z"
   },
   {
    "duration": 16,
    "start_time": "2023-01-18T16:32:34.195Z"
   },
   {
    "duration": 18,
    "start_time": "2023-01-18T16:32:53.319Z"
   },
   {
    "duration": 3,
    "start_time": "2023-01-18T16:34:34.315Z"
   },
   {
    "duration": 157,
    "start_time": "2023-01-18T16:34:34.321Z"
   },
   {
    "duration": 19,
    "start_time": "2023-01-18T16:34:34.481Z"
   },
   {
    "duration": 20,
    "start_time": "2023-01-18T16:34:34.503Z"
   },
   {
    "duration": 3,
    "start_time": "2023-01-18T16:34:34.525Z"
   },
   {
    "duration": 75,
    "start_time": "2023-01-18T16:34:34.530Z"
   },
   {
    "duration": 59,
    "start_time": "2023-01-18T16:34:34.607Z"
   },
   {
    "duration": 94,
    "start_time": "2023-01-18T16:34:34.668Z"
   },
   {
    "duration": 32,
    "start_time": "2023-01-18T16:34:34.763Z"
   },
   {
    "duration": 145,
    "start_time": "2023-01-18T16:34:34.798Z"
   },
   {
    "duration": 11,
    "start_time": "2023-01-18T16:34:34.945Z"
   },
   {
    "duration": 9,
    "start_time": "2023-01-18T16:34:34.958Z"
   },
   {
    "duration": 4,
    "start_time": "2023-01-18T16:34:34.982Z"
   },
   {
    "duration": 20,
    "start_time": "2023-01-18T16:34:34.988Z"
   },
   {
    "duration": 16,
    "start_time": "2023-01-18T16:34:35.010Z"
   },
   {
    "duration": 365,
    "start_time": "2023-01-18T16:34:35.027Z"
   },
   {
    "duration": 38,
    "start_time": "2023-01-18T16:34:35.394Z"
   },
   {
    "duration": 14,
    "start_time": "2023-01-18T16:34:35.433Z"
   },
   {
    "duration": 4,
    "start_time": "2023-01-18T16:34:35.449Z"
   },
   {
    "duration": 62,
    "start_time": "2023-01-18T16:34:35.455Z"
   },
   {
    "duration": 16,
    "start_time": "2023-01-18T16:43:50.029Z"
   },
   {
    "duration": 41,
    "start_time": "2023-01-18T16:44:01.291Z"
   },
   {
    "duration": 40,
    "start_time": "2023-01-18T16:44:06.873Z"
   },
   {
    "duration": 27,
    "start_time": "2023-01-18T16:44:57.929Z"
   },
   {
    "duration": 30,
    "start_time": "2023-01-18T16:45:35.576Z"
   },
   {
    "duration": 56,
    "start_time": "2023-01-18T16:46:27.184Z"
   },
   {
    "duration": 59,
    "start_time": "2023-01-18T16:46:32.177Z"
   },
   {
    "duration": 86,
    "start_time": "2023-01-18T16:48:04.317Z"
   },
   {
    "duration": 89,
    "start_time": "2023-01-18T16:48:17.445Z"
   },
   {
    "duration": 84,
    "start_time": "2023-01-18T16:48:24.402Z"
   },
   {
    "duration": 85,
    "start_time": "2023-01-18T16:48:28.307Z"
   },
   {
    "duration": 87,
    "start_time": "2023-01-18T16:48:36.296Z"
   },
   {
    "duration": 82,
    "start_time": "2023-01-18T16:48:50.746Z"
   },
   {
    "duration": 50,
    "start_time": "2023-01-18T16:49:16.645Z"
   },
   {
    "duration": 56,
    "start_time": "2023-01-18T16:49:23.291Z"
   },
   {
    "duration": 60,
    "start_time": "2023-01-18T16:49:27.240Z"
   },
   {
    "duration": 4,
    "start_time": "2023-01-18T16:49:29.019Z"
   },
   {
    "duration": 148,
    "start_time": "2023-01-18T16:49:29.025Z"
   },
   {
    "duration": 19,
    "start_time": "2023-01-18T16:49:29.174Z"
   },
   {
    "duration": 19,
    "start_time": "2023-01-18T16:49:29.195Z"
   },
   {
    "duration": 3,
    "start_time": "2023-01-18T16:49:29.216Z"
   },
   {
    "duration": 69,
    "start_time": "2023-01-18T16:49:29.221Z"
   },
   {
    "duration": 51,
    "start_time": "2023-01-18T16:49:29.292Z"
   },
   {
    "duration": 98,
    "start_time": "2023-01-18T16:49:29.345Z"
   },
   {
    "duration": 22,
    "start_time": "2023-01-18T16:49:29.445Z"
   },
   {
    "duration": 53,
    "start_time": "2023-01-18T16:49:29.483Z"
   },
   {
    "duration": 12,
    "start_time": "2023-01-18T16:49:29.538Z"
   },
   {
    "duration": 21,
    "start_time": "2023-01-18T16:49:29.551Z"
   },
   {
    "duration": 9,
    "start_time": "2023-01-18T16:49:29.582Z"
   },
   {
    "duration": 17,
    "start_time": "2023-01-18T16:49:29.593Z"
   },
   {
    "duration": 16,
    "start_time": "2023-01-18T16:49:29.612Z"
   },
   {
    "duration": 363,
    "start_time": "2023-01-18T16:49:29.630Z"
   },
   {
    "duration": 37,
    "start_time": "2023-01-18T16:49:29.995Z"
   },
   {
    "duration": 14,
    "start_time": "2023-01-18T16:49:30.034Z"
   },
   {
    "duration": 13,
    "start_time": "2023-01-18T16:49:30.049Z"
   },
   {
    "duration": 56,
    "start_time": "2023-01-18T16:49:30.064Z"
   },
   {
    "duration": 50,
    "start_time": "2023-01-18T16:49:30.121Z"
   },
   {
    "duration": 0,
    "start_time": "2023-01-18T16:49:30.173Z"
   },
   {
    "duration": 87,
    "start_time": "2023-01-18T16:49:35.610Z"
   },
   {
    "duration": 403,
    "start_time": "2023-01-18T16:49:41.649Z"
   },
   {
    "duration": 88,
    "start_time": "2023-01-18T16:49:47.947Z"
   },
   {
    "duration": 82,
    "start_time": "2023-01-18T16:50:34.294Z"
   },
   {
    "duration": 86,
    "start_time": "2023-01-18T16:50:53.954Z"
   },
   {
    "duration": 87,
    "start_time": "2023-01-18T16:51:03.033Z"
   },
   {
    "duration": 5,
    "start_time": "2023-01-18T16:57:02.261Z"
   },
   {
    "duration": 12,
    "start_time": "2023-01-18T16:57:06.605Z"
   },
   {
    "duration": 90,
    "start_time": "2023-01-18T16:57:22.050Z"
   },
   {
    "duration": 10,
    "start_time": "2023-01-18T16:57:26.011Z"
   },
   {
    "duration": 1348,
    "start_time": "2023-01-19T16:15:10.867Z"
   },
   {
    "duration": 659,
    "start_time": "2023-01-19T16:15:12.217Z"
   },
   {
    "duration": 20,
    "start_time": "2023-01-19T16:15:12.877Z"
   },
   {
    "duration": 24,
    "start_time": "2023-01-19T16:15:12.899Z"
   },
   {
    "duration": 3,
    "start_time": "2023-01-19T16:15:12.925Z"
   },
   {
    "duration": 77,
    "start_time": "2023-01-19T16:15:12.929Z"
   },
   {
    "duration": 66,
    "start_time": "2023-01-19T16:15:13.008Z"
   },
   {
    "duration": 104,
    "start_time": "2023-01-19T16:15:13.075Z"
   },
   {
    "duration": 37,
    "start_time": "2023-01-19T16:15:13.180Z"
   },
   {
    "duration": 86,
    "start_time": "2023-01-19T16:15:13.219Z"
   },
   {
    "duration": 12,
    "start_time": "2023-01-19T16:15:13.307Z"
   },
   {
    "duration": 9,
    "start_time": "2023-01-19T16:15:13.321Z"
   },
   {
    "duration": 4,
    "start_time": "2023-01-19T16:15:13.331Z"
   },
   {
    "duration": 18,
    "start_time": "2023-01-19T16:15:13.337Z"
   },
   {
    "duration": 37,
    "start_time": "2023-01-19T16:15:13.357Z"
   },
   {
    "duration": 452,
    "start_time": "2023-01-19T16:15:13.396Z"
   },
   {
    "duration": 50,
    "start_time": "2023-01-19T16:15:13.850Z"
   },
   {
    "duration": 20,
    "start_time": "2023-01-19T16:15:13.902Z"
   },
   {
    "duration": 6,
    "start_time": "2023-01-19T16:15:13.924Z"
   },
   {
    "duration": 64,
    "start_time": "2023-01-19T16:15:13.932Z"
   },
   {
    "duration": 120,
    "start_time": "2023-01-19T16:15:14.001Z"
   },
   {
    "duration": 12,
    "start_time": "2023-01-19T16:15:14.124Z"
   },
   {
    "duration": 9,
    "start_time": "2023-01-19T16:24:05.461Z"
   },
   {
    "duration": 4,
    "start_time": "2023-01-19T16:24:11.490Z"
   },
   {
    "duration": 171,
    "start_time": "2023-01-19T16:24:11.497Z"
   },
   {
    "duration": 11,
    "start_time": "2023-01-19T16:24:11.670Z"
   },
   {
    "duration": 29,
    "start_time": "2023-01-19T16:24:11.683Z"
   },
   {
    "duration": 3,
    "start_time": "2023-01-19T16:24:11.714Z"
   },
   {
    "duration": 52,
    "start_time": "2023-01-19T16:24:11.718Z"
   },
   {
    "duration": 67,
    "start_time": "2023-01-19T16:24:11.771Z"
   },
   {
    "duration": 92,
    "start_time": "2023-01-19T16:24:11.840Z"
   },
   {
    "duration": 20,
    "start_time": "2023-01-19T16:24:11.933Z"
   },
   {
    "duration": 91,
    "start_time": "2023-01-19T16:24:11.955Z"
   },
   {
    "duration": 12,
    "start_time": "2023-01-19T16:24:12.048Z"
   },
   {
    "duration": 12,
    "start_time": "2023-01-19T16:24:12.062Z"
   },
   {
    "duration": 3,
    "start_time": "2023-01-19T16:24:12.076Z"
   },
   {
    "duration": 29,
    "start_time": "2023-01-19T16:24:12.093Z"
   },
   {
    "duration": 15,
    "start_time": "2023-01-19T16:24:12.124Z"
   },
   {
    "duration": 345,
    "start_time": "2023-01-19T16:24:12.140Z"
   },
   {
    "duration": 40,
    "start_time": "2023-01-19T16:24:12.486Z"
   },
   {
    "duration": 12,
    "start_time": "2023-01-19T16:24:12.528Z"
   },
   {
    "duration": 4,
    "start_time": "2023-01-19T16:24:12.541Z"
   },
   {
    "duration": 67,
    "start_time": "2023-01-19T16:24:12.547Z"
   },
   {
    "duration": 102,
    "start_time": "2023-01-19T16:24:12.616Z"
   },
   {
    "duration": 7,
    "start_time": "2023-01-19T16:24:12.720Z"
   },
   {
    "duration": 11,
    "start_time": "2023-01-19T16:25:05.612Z"
   },
   {
    "duration": 60,
    "start_time": "2023-01-19T16:25:37.553Z"
   },
   {
    "duration": 12,
    "start_time": "2023-01-19T16:26:04.607Z"
   },
   {
    "duration": 22,
    "start_time": "2023-01-19T16:34:16.447Z"
   },
   {
    "duration": 22,
    "start_time": "2023-01-19T16:34:24.548Z"
   },
   {
    "duration": 19,
    "start_time": "2023-01-19T16:34:38.380Z"
   },
   {
    "duration": 80,
    "start_time": "2023-01-19T16:48:18.975Z"
   },
   {
    "duration": 9,
    "start_time": "2023-01-19T16:48:23.676Z"
   },
   {
    "duration": 3,
    "start_time": "2023-01-19T16:48:27.438Z"
   },
   {
    "duration": 147,
    "start_time": "2023-01-19T16:48:27.443Z"
   },
   {
    "duration": 11,
    "start_time": "2023-01-19T16:48:27.591Z"
   },
   {
    "duration": 18,
    "start_time": "2023-01-19T16:48:27.604Z"
   },
   {
    "duration": 2,
    "start_time": "2023-01-19T16:48:27.624Z"
   },
   {
    "duration": 47,
    "start_time": "2023-01-19T16:48:27.628Z"
   },
   {
    "duration": 50,
    "start_time": "2023-01-19T16:48:27.692Z"
   },
   {
    "duration": 87,
    "start_time": "2023-01-19T16:48:27.744Z"
   },
   {
    "duration": 19,
    "start_time": "2023-01-19T16:48:27.833Z"
   },
   {
    "duration": 66,
    "start_time": "2023-01-19T16:48:27.854Z"
   },
   {
    "duration": 11,
    "start_time": "2023-01-19T16:48:27.921Z"
   },
   {
    "duration": 11,
    "start_time": "2023-01-19T16:48:27.934Z"
   },
   {
    "duration": 3,
    "start_time": "2023-01-19T16:48:27.947Z"
   },
   {
    "duration": 18,
    "start_time": "2023-01-19T16:48:27.953Z"
   },
   {
    "duration": 32,
    "start_time": "2023-01-19T16:48:27.973Z"
   },
   {
    "duration": 329,
    "start_time": "2023-01-19T16:48:28.006Z"
   },
   {
    "duration": 36,
    "start_time": "2023-01-19T16:48:28.337Z"
   },
   {
    "duration": 23,
    "start_time": "2023-01-19T16:48:28.374Z"
   },
   {
    "duration": 4,
    "start_time": "2023-01-19T16:48:28.398Z"
   },
   {
    "duration": 38,
    "start_time": "2023-01-19T16:48:28.404Z"
   },
   {
    "duration": 99,
    "start_time": "2023-01-19T16:48:28.444Z"
   },
   {
    "duration": 8,
    "start_time": "2023-01-19T16:48:28.544Z"
   },
   {
    "duration": 29,
    "start_time": "2023-01-19T16:48:28.554Z"
   },
   {
    "duration": 867,
    "start_time": "2023-01-19T16:58:29.233Z"
   },
   {
    "duration": 4,
    "start_time": "2023-01-19T16:58:56.951Z"
   },
   {
    "duration": 10,
    "start_time": "2023-01-19T16:59:02.380Z"
   },
   {
    "duration": 10,
    "start_time": "2023-01-19T17:06:19.965Z"
   },
   {
    "duration": 8,
    "start_time": "2023-01-19T17:07:23.679Z"
   },
   {
    "duration": 11,
    "start_time": "2023-01-19T17:11:53.152Z"
   },
   {
    "duration": 12,
    "start_time": "2023-01-19T17:12:26.156Z"
   },
   {
    "duration": 19,
    "start_time": "2023-01-19T17:20:57.138Z"
   },
   {
    "duration": 10,
    "start_time": "2023-01-19T17:21:02.230Z"
   },
   {
    "duration": 18,
    "start_time": "2023-01-19T17:23:44.656Z"
   },
   {
    "duration": 13,
    "start_time": "2023-01-19T17:23:57.711Z"
   },
   {
    "duration": 17,
    "start_time": "2023-01-19T17:25:46.821Z"
   },
   {
    "duration": 10,
    "start_time": "2023-01-19T17:25:58.245Z"
   },
   {
    "duration": 711,
    "start_time": "2023-01-19T17:29:34.442Z"
   },
   {
    "duration": 1176,
    "start_time": "2023-01-19T17:30:03.760Z"
   },
   {
    "duration": 4,
    "start_time": "2023-01-19T17:32:47.013Z"
   },
   {
    "duration": 771,
    "start_time": "2023-01-19T17:33:09.153Z"
   },
   {
    "duration": 739,
    "start_time": "2023-01-19T17:34:12.401Z"
   },
   {
    "duration": 284,
    "start_time": "2023-01-19T17:35:27.673Z"
   },
   {
    "duration": 4,
    "start_time": "2023-01-19T17:35:34.834Z"
   },
   {
    "duration": 146,
    "start_time": "2023-01-19T17:35:34.840Z"
   },
   {
    "duration": 13,
    "start_time": "2023-01-19T17:35:34.987Z"
   },
   {
    "duration": 19,
    "start_time": "2023-01-19T17:35:35.001Z"
   },
   {
    "duration": 3,
    "start_time": "2023-01-19T17:35:35.022Z"
   },
   {
    "duration": 67,
    "start_time": "2023-01-19T17:35:35.026Z"
   },
   {
    "duration": 52,
    "start_time": "2023-01-19T17:35:35.095Z"
   },
   {
    "duration": 100,
    "start_time": "2023-01-19T17:35:35.149Z"
   },
   {
    "duration": 23,
    "start_time": "2023-01-19T17:35:35.251Z"
   },
   {
    "duration": 54,
    "start_time": "2023-01-19T17:35:35.291Z"
   },
   {
    "duration": 11,
    "start_time": "2023-01-19T17:35:35.347Z"
   },
   {
    "duration": 9,
    "start_time": "2023-01-19T17:35:35.360Z"
   },
   {
    "duration": 23,
    "start_time": "2023-01-19T17:35:35.370Z"
   },
   {
    "duration": 15,
    "start_time": "2023-01-19T17:35:35.396Z"
   },
   {
    "duration": 18,
    "start_time": "2023-01-19T17:35:35.413Z"
   },
   {
    "duration": 334,
    "start_time": "2023-01-19T17:35:35.432Z"
   },
   {
    "duration": 43,
    "start_time": "2023-01-19T17:35:35.769Z"
   },
   {
    "duration": 11,
    "start_time": "2023-01-19T17:35:35.813Z"
   },
   {
    "duration": 4,
    "start_time": "2023-01-19T17:35:35.826Z"
   },
   {
    "duration": 55,
    "start_time": "2023-01-19T17:35:35.831Z"
   },
   {
    "duration": 264,
    "start_time": "2023-01-19T17:35:35.888Z"
   },
   {
    "duration": 0,
    "start_time": "2023-01-19T17:35:36.154Z"
   },
   {
    "duration": 0,
    "start_time": "2023-01-19T17:35:36.156Z"
   },
   {
    "duration": 0,
    "start_time": "2023-01-19T17:35:36.157Z"
   },
   {
    "duration": 0,
    "start_time": "2023-01-19T17:35:36.159Z"
   },
   {
    "duration": 79,
    "start_time": "2023-01-19T17:35:47.236Z"
   },
   {
    "duration": 9,
    "start_time": "2023-01-19T17:35:51.406Z"
   },
   {
    "duration": 24,
    "start_time": "2023-01-19T17:35:54.066Z"
   },
   {
    "duration": 12,
    "start_time": "2023-01-19T17:35:55.362Z"
   },
   {
    "duration": 6,
    "start_time": "2023-01-19T17:35:57.632Z"
   },
   {
    "duration": 4,
    "start_time": "2023-01-19T17:37:10.105Z"
   },
   {
    "duration": 6,
    "start_time": "2023-01-19T17:38:03.573Z"
   },
   {
    "duration": 3,
    "start_time": "2023-01-19T17:38:25.858Z"
   },
   {
    "duration": 6,
    "start_time": "2023-01-19T17:38:30.163Z"
   },
   {
    "duration": 5,
    "start_time": "2023-01-19T17:38:45.151Z"
   },
   {
    "duration": 96,
    "start_time": "2023-01-19T17:41:31.173Z"
   },
   {
    "duration": 8,
    "start_time": "2023-01-19T17:43:07.558Z"
   },
   {
    "duration": 752,
    "start_time": "2023-01-19T17:45:02.640Z"
   },
   {
    "duration": 23,
    "start_time": "2023-01-19T17:54:30.365Z"
   },
   {
    "duration": 4,
    "start_time": "2023-01-19T17:54:32.773Z"
   },
   {
    "duration": 160,
    "start_time": "2023-01-19T17:54:32.778Z"
   },
   {
    "duration": 12,
    "start_time": "2023-01-19T17:54:32.940Z"
   },
   {
    "duration": 19,
    "start_time": "2023-01-19T17:54:32.953Z"
   },
   {
    "duration": 18,
    "start_time": "2023-01-19T17:54:32.974Z"
   },
   {
    "duration": 56,
    "start_time": "2023-01-19T17:54:32.994Z"
   },
   {
    "duration": 63,
    "start_time": "2023-01-19T17:54:33.052Z"
   },
   {
    "duration": 89,
    "start_time": "2023-01-19T17:54:33.117Z"
   },
   {
    "duration": 23,
    "start_time": "2023-01-19T17:54:33.208Z"
   },
   {
    "duration": 63,
    "start_time": "2023-01-19T17:54:33.233Z"
   },
   {
    "duration": 10,
    "start_time": "2023-01-19T17:54:33.298Z"
   },
   {
    "duration": 8,
    "start_time": "2023-01-19T17:54:33.310Z"
   },
   {
    "duration": 3,
    "start_time": "2023-01-19T17:54:33.320Z"
   },
   {
    "duration": 15,
    "start_time": "2023-01-19T17:54:33.326Z"
   },
   {
    "duration": 15,
    "start_time": "2023-01-19T17:54:33.342Z"
   },
   {
    "duration": 352,
    "start_time": "2023-01-19T17:54:33.359Z"
   },
   {
    "duration": 36,
    "start_time": "2023-01-19T17:54:33.713Z"
   },
   {
    "duration": 12,
    "start_time": "2023-01-19T17:54:33.751Z"
   },
   {
    "duration": 3,
    "start_time": "2023-01-19T17:54:33.765Z"
   },
   {
    "duration": 55,
    "start_time": "2023-01-19T17:54:33.770Z"
   },
   {
    "duration": 103,
    "start_time": "2023-01-19T17:54:33.827Z"
   },
   {
    "duration": 8,
    "start_time": "2023-01-19T17:54:33.931Z"
   },
   {
    "duration": 25,
    "start_time": "2023-01-19T17:54:33.941Z"
   },
   {
    "duration": 27,
    "start_time": "2023-01-19T17:54:33.967Z"
   },
   {
    "duration": 7,
    "start_time": "2023-01-19T17:54:33.995Z"
   },
   {
    "duration": 43,
    "start_time": "2023-01-19T17:54:34.004Z"
   },
   {
    "duration": 38,
    "start_time": "2023-01-19T17:55:51.824Z"
   },
   {
    "duration": 66,
    "start_time": "2023-01-19T17:58:29.681Z"
   },
   {
    "duration": 14,
    "start_time": "2023-01-19T17:58:53.648Z"
   },
   {
    "duration": 10,
    "start_time": "2023-01-19T17:59:51.118Z"
   },
   {
    "duration": 4,
    "start_time": "2023-01-19T17:59:58.284Z"
   },
   {
    "duration": 163,
    "start_time": "2023-01-19T17:59:58.290Z"
   },
   {
    "duration": 16,
    "start_time": "2023-01-19T17:59:58.455Z"
   },
   {
    "duration": 27,
    "start_time": "2023-01-19T17:59:58.473Z"
   },
   {
    "duration": 3,
    "start_time": "2023-01-19T17:59:58.502Z"
   },
   {
    "duration": 54,
    "start_time": "2023-01-19T17:59:58.506Z"
   },
   {
    "duration": 74,
    "start_time": "2023-01-19T17:59:58.562Z"
   },
   {
    "duration": 84,
    "start_time": "2023-01-19T17:59:58.638Z"
   },
   {
    "duration": 21,
    "start_time": "2023-01-19T17:59:58.725Z"
   },
   {
    "duration": 75,
    "start_time": "2023-01-19T17:59:58.748Z"
   },
   {
    "duration": 10,
    "start_time": "2023-01-19T17:59:58.825Z"
   },
   {
    "duration": 11,
    "start_time": "2023-01-19T17:59:58.837Z"
   },
   {
    "duration": 4,
    "start_time": "2023-01-19T17:59:58.849Z"
   },
   {
    "duration": 14,
    "start_time": "2023-01-19T17:59:58.855Z"
   },
   {
    "duration": 15,
    "start_time": "2023-01-19T17:59:58.892Z"
   },
   {
    "duration": 356,
    "start_time": "2023-01-19T17:59:58.909Z"
   },
   {
    "duration": 44,
    "start_time": "2023-01-19T17:59:59.267Z"
   },
   {
    "duration": 12,
    "start_time": "2023-01-19T17:59:59.314Z"
   },
   {
    "duration": 5,
    "start_time": "2023-01-19T17:59:59.330Z"
   },
   {
    "duration": 60,
    "start_time": "2023-01-19T17:59:59.336Z"
   },
   {
    "duration": 83,
    "start_time": "2023-01-19T17:59:59.397Z"
   },
   {
    "duration": 9,
    "start_time": "2023-01-19T17:59:59.492Z"
   },
   {
    "duration": 27,
    "start_time": "2023-01-19T17:59:59.503Z"
   },
   {
    "duration": 12,
    "start_time": "2023-01-19T17:59:59.533Z"
   },
   {
    "duration": 6,
    "start_time": "2023-01-19T17:59:59.547Z"
   },
   {
    "duration": 38,
    "start_time": "2023-01-19T17:59:59.554Z"
   },
   {
    "duration": 3,
    "start_time": "2023-01-19T18:00:33.690Z"
   },
   {
    "duration": 52,
    "start_time": "2023-01-19T18:00:50.455Z"
   },
   {
    "duration": 4,
    "start_time": "2023-01-19T18:01:43.095Z"
   },
   {
    "duration": 16,
    "start_time": "2023-01-19T18:02:05.456Z"
   },
   {
    "duration": 40,
    "start_time": "2023-01-19T18:05:07.609Z"
   },
   {
    "duration": 39,
    "start_time": "2023-01-19T18:09:19.674Z"
   },
   {
    "duration": 5,
    "start_time": "2023-01-19T18:09:44.286Z"
   },
   {
    "duration": 1476,
    "start_time": "2023-01-20T08:37:54.331Z"
   },
   {
    "duration": 539,
    "start_time": "2023-01-20T08:37:55.809Z"
   },
   {
    "duration": 18,
    "start_time": "2023-01-20T08:37:56.349Z"
   },
   {
    "duration": 23,
    "start_time": "2023-01-20T08:37:56.369Z"
   },
   {
    "duration": 2,
    "start_time": "2023-01-20T08:37:56.395Z"
   },
   {
    "duration": 75,
    "start_time": "2023-01-20T08:37:56.399Z"
   },
   {
    "duration": 70,
    "start_time": "2023-01-20T08:37:56.476Z"
   },
   {
    "duration": 91,
    "start_time": "2023-01-20T08:37:56.548Z"
   },
   {
    "duration": 30,
    "start_time": "2023-01-20T08:37:56.640Z"
   },
   {
    "duration": 69,
    "start_time": "2023-01-20T08:37:56.672Z"
   },
   {
    "duration": 31,
    "start_time": "2023-01-20T08:37:56.742Z"
   },
   {
    "duration": 10,
    "start_time": "2023-01-20T08:37:56.775Z"
   },
   {
    "duration": 9,
    "start_time": "2023-01-20T08:37:56.787Z"
   },
   {
    "duration": 24,
    "start_time": "2023-01-20T08:37:56.799Z"
   },
   {
    "duration": 45,
    "start_time": "2023-01-20T08:37:56.825Z"
   },
   {
    "duration": 403,
    "start_time": "2023-01-20T08:37:56.872Z"
   },
   {
    "duration": 41,
    "start_time": "2023-01-20T08:37:57.276Z"
   },
   {
    "duration": 17,
    "start_time": "2023-01-20T08:37:57.319Z"
   },
   {
    "duration": 5,
    "start_time": "2023-01-20T08:37:57.337Z"
   },
   {
    "duration": 44,
    "start_time": "2023-01-20T08:37:57.368Z"
   },
   {
    "duration": 113,
    "start_time": "2023-01-20T08:37:57.414Z"
   },
   {
    "duration": 9,
    "start_time": "2023-01-20T08:37:57.528Z"
   },
   {
    "duration": 44,
    "start_time": "2023-01-20T08:37:57.539Z"
   },
   {
    "duration": 426,
    "start_time": "2023-01-20T08:37:57.585Z"
   },
   {
    "duration": 14,
    "start_time": "2023-01-20T08:37:58.012Z"
   },
   {
    "duration": 9,
    "start_time": "2023-01-20T08:37:58.027Z"
   },
   {
    "duration": 56,
    "start_time": "2023-01-20T08:37:58.037Z"
   },
   {
    "duration": 4,
    "start_time": "2023-01-20T09:35:37.533Z"
   },
   {
    "duration": 168,
    "start_time": "2023-01-20T09:35:37.538Z"
   },
   {
    "duration": 12,
    "start_time": "2023-01-20T09:35:37.708Z"
   },
   {
    "duration": 33,
    "start_time": "2023-01-20T09:35:37.722Z"
   },
   {
    "duration": 3,
    "start_time": "2023-01-20T09:35:37.757Z"
   },
   {
    "duration": 53,
    "start_time": "2023-01-20T09:35:37.767Z"
   },
   {
    "duration": 67,
    "start_time": "2023-01-20T09:35:37.821Z"
   },
   {
    "duration": 90,
    "start_time": "2023-01-20T09:35:37.890Z"
   },
   {
    "duration": 23,
    "start_time": "2023-01-20T09:35:37.981Z"
   },
   {
    "duration": 71,
    "start_time": "2023-01-20T09:35:38.005Z"
   },
   {
    "duration": 13,
    "start_time": "2023-01-20T09:35:38.077Z"
   },
   {
    "duration": 12,
    "start_time": "2023-01-20T09:35:38.092Z"
   },
   {
    "duration": 5,
    "start_time": "2023-01-20T09:35:38.106Z"
   },
   {
    "duration": 24,
    "start_time": "2023-01-20T09:35:38.114Z"
   },
   {
    "duration": 38,
    "start_time": "2023-01-20T09:35:38.140Z"
   },
   {
    "duration": 346,
    "start_time": "2023-01-20T09:35:38.179Z"
   },
   {
    "duration": 47,
    "start_time": "2023-01-20T09:35:38.527Z"
   },
   {
    "duration": 13,
    "start_time": "2023-01-20T09:35:38.576Z"
   },
   {
    "duration": 5,
    "start_time": "2023-01-20T09:35:38.590Z"
   },
   {
    "duration": 43,
    "start_time": "2023-01-20T09:35:38.596Z"
   },
   {
    "duration": 101,
    "start_time": "2023-01-20T09:35:38.640Z"
   },
   {
    "duration": 9,
    "start_time": "2023-01-20T09:35:38.743Z"
   },
   {
    "duration": 27,
    "start_time": "2023-01-20T09:35:38.768Z"
   },
   {
    "duration": 45,
    "start_time": "2023-01-20T09:35:38.797Z"
   },
   {
    "duration": 25,
    "start_time": "2023-01-20T09:35:38.844Z"
   },
   {
    "duration": 13,
    "start_time": "2023-01-20T09:35:38.870Z"
   },
   {
    "duration": 42,
    "start_time": "2023-01-20T09:35:38.885Z"
   },
   {
    "duration": 4,
    "start_time": "2023-01-20T10:47:17.823Z"
   },
   {
    "duration": 168,
    "start_time": "2023-01-20T10:47:17.829Z"
   },
   {
    "duration": 14,
    "start_time": "2023-01-20T10:47:17.999Z"
   },
   {
    "duration": 24,
    "start_time": "2023-01-20T10:47:18.014Z"
   },
   {
    "duration": 27,
    "start_time": "2023-01-20T10:47:18.040Z"
   },
   {
    "duration": 54,
    "start_time": "2023-01-20T10:47:18.068Z"
   },
   {
    "duration": 67,
    "start_time": "2023-01-20T10:47:18.124Z"
   },
   {
    "duration": 79,
    "start_time": "2023-01-20T10:47:18.192Z"
   },
   {
    "duration": 21,
    "start_time": "2023-01-20T10:47:18.273Z"
   },
   {
    "duration": 57,
    "start_time": "2023-01-20T10:47:18.295Z"
   },
   {
    "duration": 12,
    "start_time": "2023-01-20T10:47:18.367Z"
   },
   {
    "duration": 12,
    "start_time": "2023-01-20T10:47:18.381Z"
   },
   {
    "duration": 4,
    "start_time": "2023-01-20T10:47:18.395Z"
   },
   {
    "duration": 19,
    "start_time": "2023-01-20T10:47:18.401Z"
   },
   {
    "duration": 18,
    "start_time": "2023-01-20T10:47:18.421Z"
   },
   {
    "duration": 355,
    "start_time": "2023-01-20T10:47:18.441Z"
   },
   {
    "duration": 68,
    "start_time": "2023-01-20T10:47:18.798Z"
   },
   {
    "duration": 17,
    "start_time": "2023-01-20T10:47:18.868Z"
   },
   {
    "duration": 5,
    "start_time": "2023-01-20T10:47:18.887Z"
   },
   {
    "duration": 48,
    "start_time": "2023-01-20T10:47:18.894Z"
   },
   {
    "duration": 117,
    "start_time": "2023-01-20T10:47:18.966Z"
   },
   {
    "duration": 9,
    "start_time": "2023-01-20T10:47:19.085Z"
   },
   {
    "duration": 34,
    "start_time": "2023-01-20T10:47:19.096Z"
   },
   {
    "duration": 85,
    "start_time": "2023-01-20T10:47:19.132Z"
   },
   {
    "duration": 16,
    "start_time": "2023-01-20T10:47:19.219Z"
   },
   {
    "duration": 8,
    "start_time": "2023-01-20T10:47:19.237Z"
   },
   {
    "duration": 56,
    "start_time": "2023-01-20T10:47:19.246Z"
   },
   {
    "duration": 66,
    "start_time": "2023-01-20T10:50:00.641Z"
   },
   {
    "duration": 67,
    "start_time": "2023-01-20T10:50:05.851Z"
   },
   {
    "duration": 4,
    "start_time": "2023-01-20T10:50:09.881Z"
   },
   {
    "duration": 150,
    "start_time": "2023-01-20T10:50:09.886Z"
   },
   {
    "duration": 12,
    "start_time": "2023-01-20T10:50:10.037Z"
   },
   {
    "duration": 24,
    "start_time": "2023-01-20T10:50:10.051Z"
   },
   {
    "duration": 3,
    "start_time": "2023-01-20T10:50:10.077Z"
   },
   {
    "duration": 47,
    "start_time": "2023-01-20T10:50:10.081Z"
   },
   {
    "duration": 69,
    "start_time": "2023-01-20T10:50:10.130Z"
   },
   {
    "duration": 83,
    "start_time": "2023-01-20T10:50:10.201Z"
   },
   {
    "duration": 22,
    "start_time": "2023-01-20T10:50:10.286Z"
   },
   {
    "duration": 61,
    "start_time": "2023-01-20T10:50:10.309Z"
   },
   {
    "duration": 12,
    "start_time": "2023-01-20T10:50:10.372Z"
   },
   {
    "duration": 8,
    "start_time": "2023-01-20T10:50:10.385Z"
   },
   {
    "duration": 3,
    "start_time": "2023-01-20T10:50:10.395Z"
   },
   {
    "duration": 17,
    "start_time": "2023-01-20T10:50:10.402Z"
   },
   {
    "duration": 16,
    "start_time": "2023-01-20T10:50:10.420Z"
   },
   {
    "duration": 312,
    "start_time": "2023-01-20T10:50:10.467Z"
   },
   {
    "duration": 38,
    "start_time": "2023-01-20T10:50:10.781Z"
   },
   {
    "duration": 12,
    "start_time": "2023-01-20T10:50:10.820Z"
   },
   {
    "duration": 4,
    "start_time": "2023-01-20T10:50:10.834Z"
   },
   {
    "duration": 59,
    "start_time": "2023-01-20T10:50:10.839Z"
   },
   {
    "duration": 99,
    "start_time": "2023-01-20T10:50:10.899Z"
   },
   {
    "duration": 8,
    "start_time": "2023-01-20T10:50:11.000Z"
   },
   {
    "duration": 28,
    "start_time": "2023-01-20T10:50:11.010Z"
   },
   {
    "duration": 49,
    "start_time": "2023-01-20T10:50:11.040Z"
   },
   {
    "duration": 12,
    "start_time": "2023-01-20T10:50:11.091Z"
   },
   {
    "duration": 4,
    "start_time": "2023-01-20T10:50:11.104Z"
   },
   {
    "duration": 59,
    "start_time": "2023-01-20T10:50:11.109Z"
   },
   {
    "duration": 71,
    "start_time": "2023-01-20T10:50:11.170Z"
   },
   {
    "duration": 45,
    "start_time": "2023-01-20T10:50:21.392Z"
   },
   {
    "duration": 1189,
    "start_time": "2023-01-20T10:50:30.824Z"
   },
   {
    "duration": 154,
    "start_time": "2023-01-20T10:50:32.017Z"
   },
   {
    "duration": 16,
    "start_time": "2023-01-20T10:50:32.173Z"
   },
   {
    "duration": 18,
    "start_time": "2023-01-20T10:50:32.190Z"
   },
   {
    "duration": 3,
    "start_time": "2023-01-20T10:50:32.210Z"
   },
   {
    "duration": 86,
    "start_time": "2023-01-20T10:50:32.214Z"
   },
   {
    "duration": 75,
    "start_time": "2023-01-20T10:50:32.301Z"
   },
   {
    "duration": 93,
    "start_time": "2023-01-20T10:50:32.377Z"
   },
   {
    "duration": 23,
    "start_time": "2023-01-20T10:50:32.472Z"
   },
   {
    "duration": 84,
    "start_time": "2023-01-20T10:50:32.498Z"
   },
   {
    "duration": 14,
    "start_time": "2023-01-20T10:50:32.583Z"
   },
   {
    "duration": 16,
    "start_time": "2023-01-20T10:50:32.599Z"
   },
   {
    "duration": 11,
    "start_time": "2023-01-20T10:50:32.617Z"
   },
   {
    "duration": 37,
    "start_time": "2023-01-20T10:50:32.630Z"
   },
   {
    "duration": 18,
    "start_time": "2023-01-20T10:50:32.669Z"
   },
   {
    "duration": 454,
    "start_time": "2023-01-20T10:50:32.688Z"
   },
   {
    "duration": 50,
    "start_time": "2023-01-20T10:50:33.144Z"
   },
   {
    "duration": 18,
    "start_time": "2023-01-20T10:50:33.195Z"
   },
   {
    "duration": 4,
    "start_time": "2023-01-20T10:50:33.215Z"
   },
   {
    "duration": 64,
    "start_time": "2023-01-20T10:50:33.220Z"
   },
   {
    "duration": 110,
    "start_time": "2023-01-20T10:50:33.286Z"
   },
   {
    "duration": 8,
    "start_time": "2023-01-20T10:50:33.398Z"
   },
   {
    "duration": 36,
    "start_time": "2023-01-20T10:50:33.408Z"
   },
   {
    "duration": 470,
    "start_time": "2023-01-20T10:50:33.445Z"
   },
   {
    "duration": 13,
    "start_time": "2023-01-20T10:50:33.917Z"
   },
   {
    "duration": 22,
    "start_time": "2023-01-20T10:50:33.932Z"
   },
   {
    "duration": 100,
    "start_time": "2023-01-20T10:50:33.968Z"
   },
   {
    "duration": 75,
    "start_time": "2023-01-20T10:50:34.072Z"
   },
   {
    "duration": 94,
    "start_time": "2023-01-20T10:51:32.925Z"
   },
   {
    "duration": 3,
    "start_time": "2023-01-20T10:51:51.824Z"
   },
   {
    "duration": 161,
    "start_time": "2023-01-20T10:51:51.829Z"
   },
   {
    "duration": 16,
    "start_time": "2023-01-20T10:51:51.992Z"
   },
   {
    "duration": 25,
    "start_time": "2023-01-20T10:51:52.010Z"
   },
   {
    "duration": 5,
    "start_time": "2023-01-20T10:51:52.037Z"
   },
   {
    "duration": 74,
    "start_time": "2023-01-20T10:51:52.044Z"
   },
   {
    "duration": 66,
    "start_time": "2023-01-20T10:51:52.119Z"
   },
   {
    "duration": 93,
    "start_time": "2023-01-20T10:51:52.187Z"
   },
   {
    "duration": 25,
    "start_time": "2023-01-20T10:51:52.282Z"
   },
   {
    "duration": 70,
    "start_time": "2023-01-20T10:51:52.308Z"
   },
   {
    "duration": 14,
    "start_time": "2023-01-20T10:51:52.380Z"
   },
   {
    "duration": 14,
    "start_time": "2023-01-20T10:51:52.395Z"
   },
   {
    "duration": 4,
    "start_time": "2023-01-20T10:51:52.411Z"
   },
   {
    "duration": 21,
    "start_time": "2023-01-20T10:51:52.417Z"
   },
   {
    "duration": 19,
    "start_time": "2023-01-20T10:51:52.467Z"
   },
   {
    "duration": 345,
    "start_time": "2023-01-20T10:51:52.487Z"
   },
   {
    "duration": 46,
    "start_time": "2023-01-20T10:51:52.834Z"
   },
   {
    "duration": 11,
    "start_time": "2023-01-20T10:51:52.882Z"
   },
   {
    "duration": 4,
    "start_time": "2023-01-20T10:51:52.895Z"
   },
   {
    "duration": 38,
    "start_time": "2023-01-20T10:51:52.900Z"
   },
   {
    "duration": 105,
    "start_time": "2023-01-20T10:51:52.940Z"
   },
   {
    "duration": 10,
    "start_time": "2023-01-20T10:51:53.047Z"
   },
   {
    "duration": 30,
    "start_time": "2023-01-20T10:51:53.068Z"
   },
   {
    "duration": 39,
    "start_time": "2023-01-20T10:51:53.100Z"
   },
   {
    "duration": 33,
    "start_time": "2023-01-20T10:51:53.141Z"
   },
   {
    "duration": 6,
    "start_time": "2023-01-20T10:51:53.175Z"
   },
   {
    "duration": 39,
    "start_time": "2023-01-20T10:51:53.182Z"
   },
   {
    "duration": 82,
    "start_time": "2023-01-20T10:51:53.222Z"
   },
   {
    "duration": 211,
    "start_time": "2023-01-20T10:53:43.986Z"
   },
   {
    "duration": 80,
    "start_time": "2023-01-20T10:53:53.639Z"
   },
   {
    "duration": 82,
    "start_time": "2023-01-20T10:54:05.098Z"
   },
   {
    "duration": 78,
    "start_time": "2023-01-20T10:54:16.379Z"
   },
   {
    "duration": 3,
    "start_time": "2023-01-20T10:54:20.942Z"
   },
   {
    "duration": 166,
    "start_time": "2023-01-20T10:54:20.948Z"
   },
   {
    "duration": 12,
    "start_time": "2023-01-20T10:54:21.115Z"
   },
   {
    "duration": 41,
    "start_time": "2023-01-20T10:54:21.129Z"
   },
   {
    "duration": 2,
    "start_time": "2023-01-20T10:54:21.173Z"
   },
   {
    "duration": 64,
    "start_time": "2023-01-20T10:54:21.177Z"
   },
   {
    "duration": 55,
    "start_time": "2023-01-20T10:54:21.243Z"
   },
   {
    "duration": 80,
    "start_time": "2023-01-20T10:54:21.300Z"
   },
   {
    "duration": 33,
    "start_time": "2023-01-20T10:54:21.382Z"
   },
   {
    "duration": 70,
    "start_time": "2023-01-20T10:54:21.417Z"
   },
   {
    "duration": 12,
    "start_time": "2023-01-20T10:54:21.488Z"
   },
   {
    "duration": 24,
    "start_time": "2023-01-20T10:54:21.501Z"
   },
   {
    "duration": 10,
    "start_time": "2023-01-20T10:54:21.527Z"
   },
   {
    "duration": 31,
    "start_time": "2023-01-20T10:54:21.539Z"
   },
   {
    "duration": 17,
    "start_time": "2023-01-20T10:54:21.571Z"
   },
   {
    "duration": 352,
    "start_time": "2023-01-20T10:54:21.590Z"
   },
   {
    "duration": 62,
    "start_time": "2023-01-20T10:54:21.944Z"
   },
   {
    "duration": 14,
    "start_time": "2023-01-20T10:54:22.009Z"
   },
   {
    "duration": 5,
    "start_time": "2023-01-20T10:54:22.024Z"
   },
   {
    "duration": 73,
    "start_time": "2023-01-20T10:54:22.031Z"
   },
   {
    "duration": 88,
    "start_time": "2023-01-20T10:54:22.106Z"
   },
   {
    "duration": 8,
    "start_time": "2023-01-20T10:54:22.196Z"
   },
   {
    "duration": 36,
    "start_time": "2023-01-20T10:54:22.205Z"
   },
   {
    "duration": 53,
    "start_time": "2023-01-20T10:54:22.242Z"
   },
   {
    "duration": 11,
    "start_time": "2023-01-20T10:54:22.297Z"
   },
   {
    "duration": 7,
    "start_time": "2023-01-20T10:54:22.310Z"
   },
   {
    "duration": 55,
    "start_time": "2023-01-20T10:54:22.319Z"
   },
   {
    "duration": 70,
    "start_time": "2023-01-20T10:54:22.376Z"
   },
   {
    "duration": 1374,
    "start_time": "2023-01-20T11:03:15.692Z"
   },
   {
    "duration": 72,
    "start_time": "2023-01-20T11:03:57.502Z"
   },
   {
    "duration": 4,
    "start_time": "2023-01-20T11:04:01.972Z"
   },
   {
    "duration": 5,
    "start_time": "2023-01-20T11:04:20.066Z"
   },
   {
    "duration": 5,
    "start_time": "2023-01-20T11:04:40.476Z"
   },
   {
    "duration": 7,
    "start_time": "2023-01-20T11:08:22.494Z"
   },
   {
    "duration": 12,
    "start_time": "2023-01-20T11:08:27.179Z"
   },
   {
    "duration": 4,
    "start_time": "2023-01-20T11:11:00.498Z"
   },
   {
    "duration": 4,
    "start_time": "2023-01-20T11:11:02.069Z"
   },
   {
    "duration": 170,
    "start_time": "2023-01-20T11:11:02.075Z"
   },
   {
    "duration": 12,
    "start_time": "2023-01-20T11:11:02.247Z"
   },
   {
    "duration": 48,
    "start_time": "2023-01-20T11:11:02.267Z"
   },
   {
    "duration": 7,
    "start_time": "2023-01-20T11:11:02.317Z"
   },
   {
    "duration": 77,
    "start_time": "2023-01-20T11:11:02.326Z"
   },
   {
    "duration": 62,
    "start_time": "2023-01-20T11:11:02.405Z"
   },
   {
    "duration": 77,
    "start_time": "2023-01-20T11:11:02.469Z"
   },
   {
    "duration": 34,
    "start_time": "2023-01-20T11:11:02.548Z"
   },
   {
    "duration": 58,
    "start_time": "2023-01-20T11:11:02.584Z"
   },
   {
    "duration": 24,
    "start_time": "2023-01-20T11:11:02.645Z"
   },
   {
    "duration": 19,
    "start_time": "2023-01-20T11:11:02.671Z"
   },
   {
    "duration": 6,
    "start_time": "2023-01-20T11:11:02.692Z"
   },
   {
    "duration": 20,
    "start_time": "2023-01-20T11:11:02.700Z"
   },
   {
    "duration": 31,
    "start_time": "2023-01-20T11:11:02.721Z"
   },
   {
    "duration": 365,
    "start_time": "2023-01-20T11:11:02.768Z"
   },
   {
    "duration": 48,
    "start_time": "2023-01-20T11:11:03.135Z"
   },
   {
    "duration": 12,
    "start_time": "2023-01-20T11:11:03.185Z"
   },
   {
    "duration": 4,
    "start_time": "2023-01-20T11:11:03.199Z"
   },
   {
    "duration": 37,
    "start_time": "2023-01-20T11:11:03.205Z"
   },
   {
    "duration": 98,
    "start_time": "2023-01-20T11:11:03.244Z"
   },
   {
    "duration": 8,
    "start_time": "2023-01-20T11:11:03.344Z"
   },
   {
    "duration": 27,
    "start_time": "2023-01-20T11:11:03.367Z"
   },
   {
    "duration": 70,
    "start_time": "2023-01-20T11:11:03.409Z"
   },
   {
    "duration": 18,
    "start_time": "2023-01-20T11:11:03.482Z"
   },
   {
    "duration": 6,
    "start_time": "2023-01-20T11:11:03.503Z"
   },
   {
    "duration": 57,
    "start_time": "2023-01-20T11:11:03.511Z"
   },
   {
    "duration": 64,
    "start_time": "2023-01-20T11:11:03.570Z"
   },
   {
    "duration": 30,
    "start_time": "2023-01-20T11:11:03.637Z"
   },
   {
    "duration": 5,
    "start_time": "2023-01-20T11:17:05.096Z"
   },
   {
    "duration": 36,
    "start_time": "2023-01-20T11:18:40.201Z"
   },
   {
    "duration": 56,
    "start_time": "2023-01-20T11:18:46.525Z"
   },
   {
    "duration": 864,
    "start_time": "2023-01-20T11:19:00.239Z"
   },
   {
    "duration": 22,
    "start_time": "2023-01-20T11:19:14.179Z"
   },
   {
    "duration": 6,
    "start_time": "2023-01-20T11:19:30.951Z"
   },
   {
    "duration": 26,
    "start_time": "2023-01-20T11:19:47.657Z"
   },
   {
    "duration": 4,
    "start_time": "2023-01-20T11:19:57.109Z"
   },
   {
    "duration": 174,
    "start_time": "2023-01-20T11:19:57.116Z"
   },
   {
    "duration": 14,
    "start_time": "2023-01-20T11:19:57.291Z"
   },
   {
    "duration": 22,
    "start_time": "2023-01-20T11:19:57.306Z"
   },
   {
    "duration": 8,
    "start_time": "2023-01-20T11:19:57.331Z"
   },
   {
    "duration": 66,
    "start_time": "2023-01-20T11:19:57.341Z"
   },
   {
    "duration": 64,
    "start_time": "2023-01-20T11:19:57.408Z"
   },
   {
    "duration": 80,
    "start_time": "2023-01-20T11:19:57.475Z"
   },
   {
    "duration": 32,
    "start_time": "2023-01-20T11:19:57.557Z"
   },
   {
    "duration": 54,
    "start_time": "2023-01-20T11:19:57.591Z"
   },
   {
    "duration": 29,
    "start_time": "2023-01-20T11:19:57.647Z"
   },
   {
    "duration": 16,
    "start_time": "2023-01-20T11:19:57.678Z"
   },
   {
    "duration": 9,
    "start_time": "2023-01-20T11:19:57.696Z"
   },
   {
    "duration": 33,
    "start_time": "2023-01-20T11:19:57.709Z"
   },
   {
    "duration": 29,
    "start_time": "2023-01-20T11:19:57.744Z"
   },
   {
    "duration": 345,
    "start_time": "2023-01-20T11:19:57.775Z"
   },
   {
    "duration": 55,
    "start_time": "2023-01-20T11:19:58.122Z"
   },
   {
    "duration": 13,
    "start_time": "2023-01-20T11:19:58.179Z"
   },
   {
    "duration": 6,
    "start_time": "2023-01-20T11:19:58.194Z"
   },
   {
    "duration": 67,
    "start_time": "2023-01-20T11:19:58.201Z"
   },
   {
    "duration": 104,
    "start_time": "2023-01-20T11:19:58.271Z"
   },
   {
    "duration": 10,
    "start_time": "2023-01-20T11:19:58.377Z"
   },
   {
    "duration": 30,
    "start_time": "2023-01-20T11:19:58.389Z"
   },
   {
    "duration": 57,
    "start_time": "2023-01-20T11:19:58.421Z"
   },
   {
    "duration": 11,
    "start_time": "2023-01-20T11:19:58.480Z"
   },
   {
    "duration": 10,
    "start_time": "2023-01-20T11:19:58.493Z"
   },
   {
    "duration": 58,
    "start_time": "2023-01-20T11:19:58.505Z"
   },
   {
    "duration": 74,
    "start_time": "2023-01-20T11:19:58.568Z"
   },
   {
    "duration": 28,
    "start_time": "2023-01-20T11:19:58.644Z"
   },
   {
    "duration": 14,
    "start_time": "2023-01-20T11:19:58.673Z"
   },
   {
    "duration": 5,
    "start_time": "2023-01-20T11:20:25.516Z"
   },
   {
    "duration": 3,
    "start_time": "2023-01-20T11:20:38.758Z"
   },
   {
    "duration": 5,
    "start_time": "2023-01-20T11:20:44.912Z"
   },
   {
    "duration": 5,
    "start_time": "2023-01-20T11:21:04.970Z"
   },
   {
    "duration": 7,
    "start_time": "2023-01-20T11:21:22.982Z"
   },
   {
    "duration": 44,
    "start_time": "2023-01-20T11:22:24.546Z"
   },
   {
    "duration": 6,
    "start_time": "2023-01-20T11:22:50.224Z"
   },
   {
    "duration": 5,
    "start_time": "2023-01-20T11:22:57.658Z"
   },
   {
    "duration": 6,
    "start_time": "2023-01-20T11:23:04.024Z"
   },
   {
    "duration": 14,
    "start_time": "2023-01-20T11:23:26.172Z"
   },
   {
    "duration": 5,
    "start_time": "2023-01-20T11:23:36.028Z"
   },
   {
    "duration": 181,
    "start_time": "2023-01-20T11:23:36.036Z"
   },
   {
    "duration": 14,
    "start_time": "2023-01-20T11:23:36.218Z"
   },
   {
    "duration": 21,
    "start_time": "2023-01-20T11:23:36.234Z"
   },
   {
    "duration": 6,
    "start_time": "2023-01-20T11:23:36.274Z"
   },
   {
    "duration": 57,
    "start_time": "2023-01-20T11:23:36.281Z"
   },
   {
    "duration": 57,
    "start_time": "2023-01-20T11:23:36.340Z"
   },
   {
    "duration": 101,
    "start_time": "2023-01-20T11:23:36.399Z"
   },
   {
    "duration": 26,
    "start_time": "2023-01-20T11:23:36.502Z"
   },
   {
    "duration": 86,
    "start_time": "2023-01-20T11:23:36.530Z"
   },
   {
    "duration": 14,
    "start_time": "2023-01-20T11:23:36.618Z"
   },
   {
    "duration": 9,
    "start_time": "2023-01-20T11:23:36.633Z"
   },
   {
    "duration": 4,
    "start_time": "2023-01-20T11:23:36.643Z"
   },
   {
    "duration": 32,
    "start_time": "2023-01-20T11:23:36.669Z"
   },
   {
    "duration": 27,
    "start_time": "2023-01-20T11:23:36.703Z"
   },
   {
    "duration": 463,
    "start_time": "2023-01-20T11:23:36.732Z"
   },
   {
    "duration": 42,
    "start_time": "2023-01-20T11:23:37.197Z"
   },
   {
    "duration": 40,
    "start_time": "2023-01-20T11:23:37.241Z"
   },
   {
    "duration": 4,
    "start_time": "2023-01-20T11:23:37.284Z"
   },
   {
    "duration": 50,
    "start_time": "2023-01-20T11:23:37.290Z"
   },
   {
    "duration": 93,
    "start_time": "2023-01-20T11:23:37.342Z"
   },
   {
    "duration": 8,
    "start_time": "2023-01-20T11:23:37.436Z"
   },
   {
    "duration": 46,
    "start_time": "2023-01-20T11:23:37.446Z"
   },
   {
    "duration": 41,
    "start_time": "2023-01-20T11:23:37.494Z"
   },
   {
    "duration": 12,
    "start_time": "2023-01-20T11:23:37.536Z"
   },
   {
    "duration": 6,
    "start_time": "2023-01-20T11:23:37.569Z"
   },
   {
    "duration": 39,
    "start_time": "2023-01-20T11:23:37.584Z"
   },
   {
    "duration": 78,
    "start_time": "2023-01-20T11:23:37.625Z"
   },
   {
    "duration": 15,
    "start_time": "2023-01-20T11:23:37.705Z"
   },
   {
    "duration": 9,
    "start_time": "2023-01-20T11:23:37.721Z"
   },
   {
    "duration": 7,
    "start_time": "2023-01-20T11:25:05.983Z"
   },
   {
    "duration": 10,
    "start_time": "2023-01-20T11:36:14.776Z"
   },
   {
    "duration": 6,
    "start_time": "2023-01-20T11:36:29.094Z"
   },
   {
    "duration": 1051,
    "start_time": "2023-01-20T11:37:48.663Z"
   },
   {
    "duration": 9,
    "start_time": "2023-01-20T11:37:59.931Z"
   },
   {
    "duration": 6,
    "start_time": "2023-01-20T11:38:23.624Z"
   },
   {
    "duration": 5,
    "start_time": "2023-01-20T11:38:40.089Z"
   },
   {
    "duration": 7,
    "start_time": "2023-01-20T11:39:25.425Z"
   },
   {
    "duration": 9,
    "start_time": "2023-01-20T11:39:59.986Z"
   },
   {
    "duration": 14,
    "start_time": "2023-01-20T11:40:47.786Z"
   },
   {
    "duration": 6,
    "start_time": "2023-01-20T11:41:38.580Z"
   },
   {
    "duration": 4,
    "start_time": "2023-01-20T11:43:01.005Z"
   },
   {
    "duration": 49,
    "start_time": "2023-01-20T11:43:21.600Z"
   },
   {
    "duration": 5,
    "start_time": "2023-01-20T11:43:28.103Z"
   },
   {
    "duration": 10,
    "start_time": "2023-01-20T11:44:10.761Z"
   },
   {
    "duration": 754,
    "start_time": "2023-01-20T11:44:18.375Z"
   },
   {
    "duration": 37,
    "start_time": "2023-01-20T11:44:47.722Z"
   },
   {
    "duration": 6,
    "start_time": "2023-01-20T11:44:52.854Z"
   },
   {
    "duration": 4,
    "start_time": "2023-01-20T11:45:20.316Z"
   },
   {
    "duration": 5,
    "start_time": "2023-01-20T11:46:08.855Z"
   },
   {
    "duration": 6,
    "start_time": "2023-01-20T11:46:39.740Z"
   },
   {
    "duration": 6,
    "start_time": "2023-01-20T11:47:03.504Z"
   },
   {
    "duration": 8,
    "start_time": "2023-01-20T11:47:37.231Z"
   },
   {
    "duration": 68,
    "start_time": "2023-01-20T11:48:21.677Z"
   },
   {
    "duration": 50,
    "start_time": "2023-01-20T11:48:28.598Z"
   },
   {
    "duration": 6,
    "start_time": "2023-01-20T11:48:38.352Z"
   },
   {
    "duration": 5,
    "start_time": "2023-01-20T11:51:33.679Z"
   },
   {
    "duration": 8,
    "start_time": "2023-01-20T11:52:11.488Z"
   },
   {
    "duration": 10,
    "start_time": "2023-01-20T11:52:26.260Z"
   },
   {
    "duration": 4,
    "start_time": "2023-01-20T11:52:28.832Z"
   },
   {
    "duration": 174,
    "start_time": "2023-01-20T11:52:28.837Z"
   },
   {
    "duration": 15,
    "start_time": "2023-01-20T11:52:29.014Z"
   },
   {
    "duration": 46,
    "start_time": "2023-01-20T11:52:29.031Z"
   },
   {
    "duration": 3,
    "start_time": "2023-01-20T11:52:29.081Z"
   },
   {
    "duration": 58,
    "start_time": "2023-01-20T11:52:29.086Z"
   },
   {
    "duration": 65,
    "start_time": "2023-01-20T11:52:29.145Z"
   },
   {
    "duration": 104,
    "start_time": "2023-01-20T11:52:29.212Z"
   },
   {
    "duration": 25,
    "start_time": "2023-01-20T11:52:29.318Z"
   },
   {
    "duration": 83,
    "start_time": "2023-01-20T11:52:29.345Z"
   },
   {
    "duration": 12,
    "start_time": "2023-01-20T11:52:29.429Z"
   },
   {
    "duration": 13,
    "start_time": "2023-01-20T11:52:29.443Z"
   },
   {
    "duration": 16,
    "start_time": "2023-01-20T11:52:29.458Z"
   },
   {
    "duration": 21,
    "start_time": "2023-01-20T11:52:29.479Z"
   },
   {
    "duration": 25,
    "start_time": "2023-01-20T11:52:29.502Z"
   },
   {
    "duration": 462,
    "start_time": "2023-01-20T11:52:29.529Z"
   },
   {
    "duration": 36,
    "start_time": "2023-01-20T11:52:29.992Z"
   },
   {
    "duration": 11,
    "start_time": "2023-01-20T11:52:30.030Z"
   },
   {
    "duration": 16,
    "start_time": "2023-01-20T11:52:30.042Z"
   },
   {
    "duration": 51,
    "start_time": "2023-01-20T11:52:30.071Z"
   },
   {
    "duration": 80,
    "start_time": "2023-01-20T11:52:30.123Z"
   },
   {
    "duration": 9,
    "start_time": "2023-01-20T11:52:30.205Z"
   },
   {
    "duration": 63,
    "start_time": "2023-01-20T11:52:30.216Z"
   },
   {
    "duration": 48,
    "start_time": "2023-01-20T11:52:30.282Z"
   },
   {
    "duration": 11,
    "start_time": "2023-01-20T11:52:30.332Z"
   },
   {
    "duration": 38,
    "start_time": "2023-01-20T11:52:30.345Z"
   },
   {
    "duration": 66,
    "start_time": "2023-01-20T11:52:30.384Z"
   },
   {
    "duration": 76,
    "start_time": "2023-01-20T11:52:30.451Z"
   },
   {
    "duration": 13,
    "start_time": "2023-01-20T11:52:30.529Z"
   },
   {
    "duration": 49,
    "start_time": "2023-01-20T11:52:30.543Z"
   },
   {
    "duration": 44,
    "start_time": "2023-01-20T11:52:30.594Z"
   },
   {
    "duration": 25,
    "start_time": "2023-01-20T11:52:30.640Z"
   },
   {
    "duration": 9,
    "start_time": "2023-01-20T11:53:48.852Z"
   },
   {
    "duration": 7,
    "start_time": "2023-01-20T11:54:10.047Z"
   },
   {
    "duration": 5,
    "start_time": "2023-01-20T12:00:31.776Z"
   },
   {
    "duration": 14,
    "start_time": "2023-01-20T12:00:33.705Z"
   },
   {
    "duration": 8,
    "start_time": "2023-01-20T12:00:44.302Z"
   },
   {
    "duration": 6,
    "start_time": "2023-01-20T12:01:13.705Z"
   },
   {
    "duration": 8,
    "start_time": "2023-01-20T12:01:31.043Z"
   },
   {
    "duration": 7,
    "start_time": "2023-01-20T12:02:02.991Z"
   },
   {
    "duration": 7,
    "start_time": "2023-01-20T12:02:04.717Z"
   },
   {
    "duration": 8,
    "start_time": "2023-01-20T12:03:10.779Z"
   },
   {
    "duration": 7,
    "start_time": "2023-01-20T12:03:28.973Z"
   },
   {
    "duration": 6,
    "start_time": "2023-01-20T12:03:54.699Z"
   },
   {
    "duration": 6,
    "start_time": "2023-01-20T12:03:56.485Z"
   },
   {
    "duration": 7,
    "start_time": "2023-01-20T12:05:17.861Z"
   },
   {
    "duration": 6,
    "start_time": "2023-01-20T12:05:19.731Z"
   },
   {
    "duration": 7,
    "start_time": "2023-01-20T12:05:21.601Z"
   },
   {
    "duration": 7,
    "start_time": "2023-01-20T12:05:23.719Z"
   },
   {
    "duration": 1532,
    "start_time": "2023-01-21T09:03:24.818Z"
   },
   {
    "duration": 816,
    "start_time": "2023-01-21T09:03:26.352Z"
   },
   {
    "duration": 23,
    "start_time": "2023-01-21T09:03:27.170Z"
   },
   {
    "duration": 26,
    "start_time": "2023-01-21T09:03:27.195Z"
   },
   {
    "duration": 5,
    "start_time": "2023-01-21T09:03:27.226Z"
   },
   {
    "duration": 105,
    "start_time": "2023-01-21T09:03:27.233Z"
   },
   {
    "duration": 120,
    "start_time": "2023-01-21T09:03:27.341Z"
   },
   {
    "duration": 103,
    "start_time": "2023-01-21T09:03:27.463Z"
   },
   {
    "duration": 36,
    "start_time": "2023-01-21T09:03:27.568Z"
   },
   {
    "duration": 95,
    "start_time": "2023-01-21T09:03:27.606Z"
   },
   {
    "duration": 14,
    "start_time": "2023-01-21T09:03:27.703Z"
   },
   {
    "duration": 23,
    "start_time": "2023-01-21T09:03:27.719Z"
   },
   {
    "duration": 21,
    "start_time": "2023-01-21T09:03:27.744Z"
   },
   {
    "duration": 37,
    "start_time": "2023-01-21T09:03:27.769Z"
   },
   {
    "duration": 35,
    "start_time": "2023-01-21T09:03:27.808Z"
   },
   {
    "duration": 500,
    "start_time": "2023-01-21T09:03:27.845Z"
   },
   {
    "duration": 63,
    "start_time": "2023-01-21T09:03:28.347Z"
   },
   {
    "duration": 29,
    "start_time": "2023-01-21T09:03:28.412Z"
   },
   {
    "duration": 6,
    "start_time": "2023-01-21T09:03:28.443Z"
   },
   {
    "duration": 88,
    "start_time": "2023-01-21T09:03:28.451Z"
   },
   {
    "duration": 132,
    "start_time": "2023-01-21T09:03:28.541Z"
   },
   {
    "duration": 20,
    "start_time": "2023-01-21T09:03:28.674Z"
   },
   {
    "duration": 49,
    "start_time": "2023-01-21T09:03:28.697Z"
   },
   {
    "duration": 583,
    "start_time": "2023-01-21T09:03:28.749Z"
   },
   {
    "duration": 18,
    "start_time": "2023-01-21T09:03:29.335Z"
   },
   {
    "duration": 28,
    "start_time": "2023-01-21T09:03:29.356Z"
   },
   {
    "duration": 110,
    "start_time": "2023-01-21T09:03:29.387Z"
   },
   {
    "duration": 125,
    "start_time": "2023-01-21T09:03:29.499Z"
   },
   {
    "duration": 8,
    "start_time": "2023-01-21T09:03:29.626Z"
   },
   {
    "duration": 49,
    "start_time": "2023-01-21T09:03:29.636Z"
   },
   {
    "duration": 10,
    "start_time": "2023-01-21T09:03:29.687Z"
   },
   {
    "duration": 32,
    "start_time": "2023-01-21T09:03:29.700Z"
   },
   {
    "duration": 28,
    "start_time": "2023-01-21T09:03:29.734Z"
   },
   {
    "duration": 27,
    "start_time": "2023-01-21T09:03:29.765Z"
   },
   {
    "duration": 29,
    "start_time": "2023-01-21T09:03:29.795Z"
   },
   {
    "duration": 24,
    "start_time": "2023-01-21T09:03:29.827Z"
   },
   {
    "duration": 18,
    "start_time": "2023-01-21T09:03:29.853Z"
   },
   {
    "duration": 23,
    "start_time": "2023-01-21T09:03:29.874Z"
   },
   {
    "duration": 22,
    "start_time": "2023-01-21T09:03:29.900Z"
   },
   {
    "duration": 29,
    "start_time": "2023-01-21T09:03:29.925Z"
   },
   {
    "duration": 19,
    "start_time": "2023-01-21T09:03:29.960Z"
   },
   {
    "duration": 12,
    "start_time": "2023-01-21T09:03:29.981Z"
   },
   {
    "duration": 11,
    "start_time": "2023-01-21T09:03:29.995Z"
   },
   {
    "duration": 21,
    "start_time": "2023-01-21T09:03:30.009Z"
   },
   {
    "duration": 26,
    "start_time": "2023-01-21T09:03:30.032Z"
   },
   {
    "duration": 30,
    "start_time": "2023-01-21T09:03:30.060Z"
   },
   {
    "duration": 14,
    "start_time": "2023-01-21T09:03:30.093Z"
   },
   {
    "duration": 1461,
    "start_time": "2023-01-21T09:09:08.402Z"
   },
   {
    "duration": 10,
    "start_time": "2023-01-21T09:09:38.121Z"
   },
   {
    "duration": 15,
    "start_time": "2023-01-21T09:10:06.323Z"
   },
   {
    "duration": 9,
    "start_time": "2023-01-21T09:10:54.999Z"
   },
   {
    "duration": 12,
    "start_time": "2023-01-21T09:11:11.439Z"
   },
   {
    "duration": 5,
    "start_time": "2023-01-21T09:11:29.062Z"
   },
   {
    "duration": 260,
    "start_time": "2023-01-21T09:11:29.070Z"
   },
   {
    "duration": 18,
    "start_time": "2023-01-21T09:11:29.332Z"
   },
   {
    "duration": 44,
    "start_time": "2023-01-21T09:11:29.353Z"
   },
   {
    "duration": 5,
    "start_time": "2023-01-21T09:11:29.399Z"
   },
   {
    "duration": 109,
    "start_time": "2023-01-21T09:11:29.406Z"
   },
   {
    "duration": 79,
    "start_time": "2023-01-21T09:11:29.520Z"
   },
   {
    "duration": 145,
    "start_time": "2023-01-21T09:11:29.601Z"
   },
   {
    "duration": 38,
    "start_time": "2023-01-21T09:11:29.748Z"
   },
   {
    "duration": 92,
    "start_time": "2023-01-21T09:11:29.789Z"
   },
   {
    "duration": 33,
    "start_time": "2023-01-21T09:11:29.884Z"
   },
   {
    "duration": 20,
    "start_time": "2023-01-21T09:11:29.919Z"
   },
   {
    "duration": 13,
    "start_time": "2023-01-21T09:11:29.941Z"
   },
   {
    "duration": 63,
    "start_time": "2023-01-21T09:11:29.956Z"
   },
   {
    "duration": 34,
    "start_time": "2023-01-21T09:11:30.022Z"
   },
   {
    "duration": 535,
    "start_time": "2023-01-21T09:11:30.061Z"
   },
   {
    "duration": 17,
    "start_time": "2023-01-21T09:11:30.603Z"
   },
   {
    "duration": 30,
    "start_time": "2023-01-21T09:11:30.622Z"
   },
   {
    "duration": 48,
    "start_time": "2023-01-21T09:11:30.655Z"
   },
   {
    "duration": 21,
    "start_time": "2023-01-21T09:11:30.706Z"
   },
   {
    "duration": 81,
    "start_time": "2023-01-21T09:11:30.729Z"
   },
   {
    "duration": 201,
    "start_time": "2023-01-21T09:11:30.813Z"
   },
   {
    "duration": 12,
    "start_time": "2023-01-21T09:11:31.016Z"
   },
   {
    "duration": 103,
    "start_time": "2023-01-21T09:11:31.029Z"
   },
   {
    "duration": 96,
    "start_time": "2023-01-21T09:11:31.134Z"
   },
   {
    "duration": 14,
    "start_time": "2023-01-21T09:11:31.233Z"
   },
   {
    "duration": 27,
    "start_time": "2023-01-21T09:11:31.249Z"
   },
   {
    "duration": 68,
    "start_time": "2023-01-21T09:11:31.280Z"
   },
   {
    "duration": 97,
    "start_time": "2023-01-21T09:11:31.350Z"
   },
   {
    "duration": 4,
    "start_time": "2023-01-21T09:11:31.449Z"
   },
   {
    "duration": 52,
    "start_time": "2023-01-21T09:11:31.455Z"
   },
   {
    "duration": 11,
    "start_time": "2023-01-21T09:11:31.509Z"
   },
   {
    "duration": 25,
    "start_time": "2023-01-21T09:11:31.522Z"
   },
   {
    "duration": 20,
    "start_time": "2023-01-21T09:11:31.550Z"
   },
   {
    "duration": 30,
    "start_time": "2023-01-21T09:11:31.573Z"
   },
   {
    "duration": 18,
    "start_time": "2023-01-21T09:11:31.612Z"
   },
   {
    "duration": 14,
    "start_time": "2023-01-21T09:11:31.633Z"
   },
   {
    "duration": 14,
    "start_time": "2023-01-21T09:11:31.650Z"
   },
   {
    "duration": 11,
    "start_time": "2023-01-21T09:11:31.666Z"
   },
   {
    "duration": 28,
    "start_time": "2023-01-21T09:11:31.679Z"
   },
   {
    "duration": 17,
    "start_time": "2023-01-21T09:11:31.710Z"
   },
   {
    "duration": 13,
    "start_time": "2023-01-21T09:11:31.729Z"
   },
   {
    "duration": 11,
    "start_time": "2023-01-21T09:11:31.744Z"
   },
   {
    "duration": 15,
    "start_time": "2023-01-21T09:11:31.758Z"
   },
   {
    "duration": 14,
    "start_time": "2023-01-21T09:11:31.775Z"
   },
   {
    "duration": 26,
    "start_time": "2023-01-21T09:11:31.792Z"
   },
   {
    "duration": 14,
    "start_time": "2023-01-21T09:11:31.820Z"
   },
   {
    "duration": 10,
    "start_time": "2023-01-21T09:11:31.837Z"
   },
   {
    "duration": 50,
    "start_time": "2023-01-21T09:14:19.552Z"
   },
   {
    "duration": 14,
    "start_time": "2023-01-21T09:14:49.201Z"
   },
   {
    "duration": 83,
    "start_time": "2023-01-21T09:16:11.399Z"
   },
   {
    "duration": 17,
    "start_time": "2023-01-21T09:17:19.397Z"
   },
   {
    "duration": 62,
    "start_time": "2023-01-21T09:17:25.750Z"
   },
   {
    "duration": 16,
    "start_time": "2023-01-21T09:19:58.325Z"
   },
   {
    "duration": 7,
    "start_time": "2023-01-21T09:20:36.912Z"
   },
   {
    "duration": 4,
    "start_time": "2023-01-21T09:36:27.916Z"
   },
   {
    "duration": 205,
    "start_time": "2023-01-21T09:36:27.923Z"
   },
   {
    "duration": 14,
    "start_time": "2023-01-21T09:36:28.130Z"
   },
   {
    "duration": 28,
    "start_time": "2023-01-21T09:36:28.146Z"
   },
   {
    "duration": 15,
    "start_time": "2023-01-21T09:36:28.178Z"
   },
   {
    "duration": 84,
    "start_time": "2023-01-21T09:36:28.195Z"
   },
   {
    "duration": 79,
    "start_time": "2023-01-21T09:36:28.281Z"
   },
   {
    "duration": 113,
    "start_time": "2023-01-21T09:36:28.362Z"
   },
   {
    "duration": 47,
    "start_time": "2023-01-21T09:36:28.477Z"
   },
   {
    "duration": 78,
    "start_time": "2023-01-21T09:36:28.525Z"
   },
   {
    "duration": 28,
    "start_time": "2023-01-21T09:36:28.605Z"
   },
   {
    "duration": 19,
    "start_time": "2023-01-21T09:36:28.635Z"
   },
   {
    "duration": 11,
    "start_time": "2023-01-21T09:36:28.656Z"
   },
   {
    "duration": 51,
    "start_time": "2023-01-21T09:36:28.672Z"
   },
   {
    "duration": 23,
    "start_time": "2023-01-21T09:36:28.725Z"
   },
   {
    "duration": 548,
    "start_time": "2023-01-21T09:36:28.751Z"
   },
   {
    "duration": 21,
    "start_time": "2023-01-21T09:36:29.303Z"
   },
   {
    "duration": 19,
    "start_time": "2023-01-21T09:36:29.326Z"
   },
   {
    "duration": 16,
    "start_time": "2023-01-21T09:36:29.347Z"
   },
   {
    "duration": 28,
    "start_time": "2023-01-21T09:36:29.366Z"
   },
   {
    "duration": 78,
    "start_time": "2023-01-21T09:36:29.396Z"
   },
   {
    "duration": 155,
    "start_time": "2023-01-21T09:36:29.475Z"
   },
   {
    "duration": 15,
    "start_time": "2023-01-21T09:36:29.632Z"
   },
   {
    "duration": 86,
    "start_time": "2023-01-21T09:36:29.650Z"
   },
   {
    "duration": 85,
    "start_time": "2023-01-21T09:36:29.740Z"
   },
   {
    "duration": 35,
    "start_time": "2023-01-21T09:36:29.828Z"
   },
   {
    "duration": 24,
    "start_time": "2023-01-21T09:36:29.866Z"
   },
   {
    "duration": 90,
    "start_time": "2023-01-21T09:36:29.892Z"
   },
   {
    "duration": 123,
    "start_time": "2023-01-21T09:36:29.986Z"
   },
   {
    "duration": 6,
    "start_time": "2023-01-21T09:36:30.111Z"
   },
   {
    "duration": 42,
    "start_time": "2023-01-21T09:36:30.120Z"
   },
   {
    "duration": 59,
    "start_time": "2023-01-21T09:36:30.165Z"
   },
   {
    "duration": 55,
    "start_time": "2023-01-21T09:36:30.226Z"
   },
   {
    "duration": 77,
    "start_time": "2023-01-21T09:36:30.283Z"
   },
   {
    "duration": 62,
    "start_time": "2023-01-21T09:36:30.362Z"
   },
   {
    "duration": 20,
    "start_time": "2023-01-21T09:36:30.427Z"
   },
   {
    "duration": 25,
    "start_time": "2023-01-21T09:36:30.449Z"
   },
   {
    "duration": 53,
    "start_time": "2023-01-21T09:36:30.476Z"
   },
   {
    "duration": 17,
    "start_time": "2023-01-21T09:36:30.531Z"
   },
   {
    "duration": 16,
    "start_time": "2023-01-21T09:36:30.550Z"
   },
   {
    "duration": 23,
    "start_time": "2023-01-21T09:36:30.573Z"
   },
   {
    "duration": 30,
    "start_time": "2023-01-21T09:36:30.599Z"
   },
   {
    "duration": 19,
    "start_time": "2023-01-21T09:36:30.631Z"
   },
   {
    "duration": 12,
    "start_time": "2023-01-21T09:36:30.652Z"
   },
   {
    "duration": 28,
    "start_time": "2023-01-21T09:36:30.667Z"
   },
   {
    "duration": 36,
    "start_time": "2023-01-21T09:36:30.698Z"
   },
   {
    "duration": 14,
    "start_time": "2023-01-21T09:36:30.737Z"
   },
   {
    "duration": 28,
    "start_time": "2023-01-21T09:36:30.753Z"
   },
   {
    "duration": 16,
    "start_time": "2023-01-21T09:54:00.084Z"
   },
   {
    "duration": 101,
    "start_time": "2023-01-21T09:54:07.148Z"
   },
   {
    "duration": 82,
    "start_time": "2023-01-21T09:54:15.363Z"
   },
   {
    "duration": 7,
    "start_time": "2023-01-21T09:54:18.646Z"
   },
   {
    "duration": 16,
    "start_time": "2023-01-21T09:54:20.481Z"
   },
   {
    "duration": 240,
    "start_time": "2023-01-21T09:54:20.505Z"
   },
   {
    "duration": 18,
    "start_time": "2023-01-21T09:54:20.748Z"
   },
   {
    "duration": 80,
    "start_time": "2023-01-21T09:54:20.769Z"
   },
   {
    "duration": 10,
    "start_time": "2023-01-21T09:54:20.851Z"
   },
   {
    "duration": 140,
    "start_time": "2023-01-21T09:54:20.864Z"
   },
   {
    "duration": 94,
    "start_time": "2023-01-21T09:54:21.013Z"
   },
   {
    "duration": 128,
    "start_time": "2023-01-21T09:54:21.111Z"
   },
   {
    "duration": 50,
    "start_time": "2023-01-21T09:54:21.242Z"
   },
   {
    "duration": 99,
    "start_time": "2023-01-21T09:54:21.296Z"
   },
   {
    "duration": 20,
    "start_time": "2023-01-21T09:54:21.398Z"
   },
   {
    "duration": 21,
    "start_time": "2023-01-21T09:54:21.420Z"
   },
   {
    "duration": 23,
    "start_time": "2023-01-21T09:54:21.443Z"
   },
   {
    "duration": 42,
    "start_time": "2023-01-21T09:54:21.468Z"
   },
   {
    "duration": 36,
    "start_time": "2023-01-21T09:54:21.512Z"
   },
   {
    "duration": 558,
    "start_time": "2023-01-21T09:54:21.550Z"
   },
   {
    "duration": 18,
    "start_time": "2023-01-21T09:54:22.110Z"
   },
   {
    "duration": 13,
    "start_time": "2023-01-21T09:54:22.130Z"
   },
   {
    "duration": 44,
    "start_time": "2023-01-21T09:54:22.146Z"
   },
   {
    "duration": 23,
    "start_time": "2023-01-21T09:54:22.192Z"
   },
   {
    "duration": 52,
    "start_time": "2023-01-21T09:54:22.217Z"
   },
   {
    "duration": 133,
    "start_time": "2023-01-21T09:54:22.271Z"
   },
   {
    "duration": 12,
    "start_time": "2023-01-21T09:54:22.406Z"
   },
   {
    "duration": 53,
    "start_time": "2023-01-21T09:54:22.421Z"
   },
   {
    "duration": 65,
    "start_time": "2023-01-21T09:54:22.477Z"
   },
   {
    "duration": 21,
    "start_time": "2023-01-21T09:54:22.544Z"
   },
   {
    "duration": 9,
    "start_time": "2023-01-21T09:54:22.604Z"
   },
   {
    "duration": 50,
    "start_time": "2023-01-21T09:54:22.617Z"
   },
   {
    "duration": 113,
    "start_time": "2023-01-21T09:54:22.669Z"
   },
   {
    "duration": 7,
    "start_time": "2023-01-21T09:54:22.784Z"
   },
   {
    "duration": 47,
    "start_time": "2023-01-21T09:54:22.793Z"
   },
   {
    "duration": 17,
    "start_time": "2023-01-21T09:54:22.842Z"
   },
   {
    "duration": 86,
    "start_time": "2023-01-21T09:54:22.862Z"
   },
   {
    "duration": 0,
    "start_time": "2023-01-21T09:54:22.951Z"
   },
   {
    "duration": 0,
    "start_time": "2023-01-21T09:54:22.952Z"
   },
   {
    "duration": 0,
    "start_time": "2023-01-21T09:54:22.954Z"
   },
   {
    "duration": 0,
    "start_time": "2023-01-21T09:54:22.957Z"
   },
   {
    "duration": 0,
    "start_time": "2023-01-21T09:54:22.959Z"
   },
   {
    "duration": 0,
    "start_time": "2023-01-21T09:54:22.960Z"
   },
   {
    "duration": 0,
    "start_time": "2023-01-21T09:54:22.961Z"
   },
   {
    "duration": 0,
    "start_time": "2023-01-21T09:54:22.962Z"
   },
   {
    "duration": 0,
    "start_time": "2023-01-21T09:54:22.964Z"
   },
   {
    "duration": 0,
    "start_time": "2023-01-21T09:54:22.965Z"
   },
   {
    "duration": 0,
    "start_time": "2023-01-21T09:54:22.967Z"
   },
   {
    "duration": 0,
    "start_time": "2023-01-21T09:54:22.969Z"
   },
   {
    "duration": 0,
    "start_time": "2023-01-21T09:54:22.970Z"
   },
   {
    "duration": 0,
    "start_time": "2023-01-21T09:54:22.972Z"
   },
   {
    "duration": 0,
    "start_time": "2023-01-21T09:54:22.973Z"
   },
   {
    "duration": 9,
    "start_time": "2023-01-21T09:54:36.470Z"
   },
   {
    "duration": 10,
    "start_time": "2023-01-21T09:55:08.406Z"
   },
   {
    "duration": 5,
    "start_time": "2023-01-21T09:56:06.154Z"
   },
   {
    "duration": 307,
    "start_time": "2023-01-21T09:56:06.161Z"
   },
   {
    "duration": 41,
    "start_time": "2023-01-21T09:56:06.470Z"
   },
   {
    "duration": 43,
    "start_time": "2023-01-21T09:56:06.513Z"
   },
   {
    "duration": 19,
    "start_time": "2023-01-21T09:56:06.559Z"
   },
   {
    "duration": 145,
    "start_time": "2023-01-21T09:56:06.580Z"
   },
   {
    "duration": 80,
    "start_time": "2023-01-21T09:56:06.727Z"
   },
   {
    "duration": 132,
    "start_time": "2023-01-21T09:56:06.810Z"
   },
   {
    "duration": 32,
    "start_time": "2023-01-21T09:56:06.944Z"
   },
   {
    "duration": 116,
    "start_time": "2023-01-21T09:56:06.988Z"
   },
   {
    "duration": 22,
    "start_time": "2023-01-21T09:56:07.106Z"
   },
   {
    "duration": 15,
    "start_time": "2023-01-21T09:56:07.130Z"
   },
   {
    "duration": 13,
    "start_time": "2023-01-21T09:56:07.147Z"
   },
   {
    "duration": 38,
    "start_time": "2023-01-21T09:56:07.163Z"
   },
   {
    "duration": 37,
    "start_time": "2023-01-21T09:56:07.206Z"
   },
   {
    "duration": 517,
    "start_time": "2023-01-21T09:56:07.245Z"
   },
   {
    "duration": 16,
    "start_time": "2023-01-21T09:56:07.764Z"
   },
   {
    "duration": 39,
    "start_time": "2023-01-21T09:56:07.782Z"
   },
   {
    "duration": 24,
    "start_time": "2023-01-21T09:56:07.823Z"
   },
   {
    "duration": 10,
    "start_time": "2023-01-21T09:56:07.849Z"
   },
   {
    "duration": 69,
    "start_time": "2023-01-21T09:56:07.861Z"
   },
   {
    "duration": 133,
    "start_time": "2023-01-21T09:56:07.933Z"
   },
   {
    "duration": 11,
    "start_time": "2023-01-21T09:56:08.068Z"
   },
   {
    "duration": 68,
    "start_time": "2023-01-21T09:56:08.089Z"
   },
   {
    "duration": 67,
    "start_time": "2023-01-21T09:56:08.159Z"
   },
   {
    "duration": 14,
    "start_time": "2023-01-21T09:56:08.228Z"
   },
   {
    "duration": 10,
    "start_time": "2023-01-21T09:56:08.244Z"
   },
   {
    "duration": 87,
    "start_time": "2023-01-21T09:56:08.256Z"
   },
   {
    "duration": 135,
    "start_time": "2023-01-21T09:56:08.346Z"
   },
   {
    "duration": 10,
    "start_time": "2023-01-21T09:56:08.483Z"
   },
   {
    "duration": 45,
    "start_time": "2023-01-21T09:56:08.495Z"
   },
   {
    "duration": 6,
    "start_time": "2023-01-21T09:56:08.543Z"
   },
   {
    "duration": 15,
    "start_time": "2023-01-21T09:56:08.552Z"
   },
   {
    "duration": 11,
    "start_time": "2023-01-21T09:56:08.569Z"
   },
   {
    "duration": 54,
    "start_time": "2023-01-21T09:56:08.582Z"
   },
   {
    "duration": 16,
    "start_time": "2023-01-21T09:56:08.638Z"
   },
   {
    "duration": 11,
    "start_time": "2023-01-21T09:56:08.657Z"
   },
   {
    "duration": 12,
    "start_time": "2023-01-21T09:56:08.671Z"
   },
   {
    "duration": 42,
    "start_time": "2023-01-21T09:56:08.688Z"
   },
   {
    "duration": 9,
    "start_time": "2023-01-21T09:56:08.734Z"
   },
   {
    "duration": 10,
    "start_time": "2023-01-21T09:56:08.749Z"
   },
   {
    "duration": 10,
    "start_time": "2023-01-21T09:56:08.762Z"
   },
   {
    "duration": 18,
    "start_time": "2023-01-21T09:56:08.775Z"
   },
   {
    "duration": 32,
    "start_time": "2023-01-21T09:56:08.796Z"
   },
   {
    "duration": 13,
    "start_time": "2023-01-21T09:56:08.830Z"
   },
   {
    "duration": 13,
    "start_time": "2023-01-21T09:56:08.846Z"
   },
   {
    "duration": 10,
    "start_time": "2023-01-21T09:56:08.862Z"
   },
   {
    "duration": 20,
    "start_time": "2023-01-21T09:56:08.875Z"
   },
   {
    "duration": 6,
    "start_time": "2023-01-21T10:21:17.052Z"
   },
   {
    "duration": 211,
    "start_time": "2023-01-21T10:21:17.062Z"
   },
   {
    "duration": 18,
    "start_time": "2023-01-21T10:21:17.275Z"
   },
   {
    "duration": 25,
    "start_time": "2023-01-21T10:21:17.295Z"
   },
   {
    "duration": 4,
    "start_time": "2023-01-21T10:21:17.324Z"
   },
   {
    "duration": 121,
    "start_time": "2023-01-21T10:21:17.331Z"
   },
   {
    "duration": 118,
    "start_time": "2023-01-21T10:21:17.455Z"
   },
   {
    "duration": 130,
    "start_time": "2023-01-21T10:21:17.576Z"
   },
   {
    "duration": 30,
    "start_time": "2023-01-21T10:21:17.708Z"
   },
   {
    "duration": 114,
    "start_time": "2023-01-21T10:21:17.740Z"
   },
   {
    "duration": 29,
    "start_time": "2023-01-21T10:21:17.856Z"
   },
   {
    "duration": 10,
    "start_time": "2023-01-21T10:21:17.889Z"
   },
   {
    "duration": 10,
    "start_time": "2023-01-21T10:21:17.902Z"
   },
   {
    "duration": 33,
    "start_time": "2023-01-21T10:21:17.917Z"
   },
   {
    "duration": 29,
    "start_time": "2023-01-21T10:21:17.985Z"
   },
   {
    "duration": 427,
    "start_time": "2023-01-21T10:21:18.017Z"
   },
   {
    "duration": 16,
    "start_time": "2023-01-21T10:21:18.447Z"
   },
   {
    "duration": 23,
    "start_time": "2023-01-21T10:21:18.466Z"
   },
   {
    "duration": 17,
    "start_time": "2023-01-21T10:21:18.491Z"
   },
   {
    "duration": 7,
    "start_time": "2023-01-21T10:21:18.510Z"
   },
   {
    "duration": 81,
    "start_time": "2023-01-21T10:21:18.519Z"
   },
   {
    "duration": 111,
    "start_time": "2023-01-21T10:21:18.604Z"
   },
   {
    "duration": 12,
    "start_time": "2023-01-21T10:21:18.718Z"
   },
   {
    "duration": 53,
    "start_time": "2023-01-21T10:21:18.733Z"
   },
   {
    "duration": 81,
    "start_time": "2023-01-21T10:21:18.788Z"
   },
   {
    "duration": 29,
    "start_time": "2023-01-21T10:21:18.872Z"
   },
   {
    "duration": 8,
    "start_time": "2023-01-21T10:21:18.904Z"
   },
   {
    "duration": 97,
    "start_time": "2023-01-21T10:21:18.915Z"
   },
   {
    "duration": 123,
    "start_time": "2023-01-21T10:21:19.015Z"
   },
   {
    "duration": 6,
    "start_time": "2023-01-21T10:21:19.140Z"
   },
   {
    "duration": 38,
    "start_time": "2023-01-21T10:21:19.149Z"
   },
   {
    "duration": 16,
    "start_time": "2023-01-21T10:21:19.190Z"
   },
   {
    "duration": 30,
    "start_time": "2023-01-21T10:21:19.209Z"
   },
   {
    "duration": 19,
    "start_time": "2023-01-21T10:21:19.243Z"
   },
   {
    "duration": 36,
    "start_time": "2023-01-21T10:21:19.265Z"
   },
   {
    "duration": 13,
    "start_time": "2023-01-21T10:21:19.306Z"
   },
   {
    "duration": 15,
    "start_time": "2023-01-21T10:21:19.322Z"
   },
   {
    "duration": 18,
    "start_time": "2023-01-21T10:21:19.339Z"
   },
   {
    "duration": 26,
    "start_time": "2023-01-21T10:21:19.360Z"
   },
   {
    "duration": 21,
    "start_time": "2023-01-21T10:21:19.388Z"
   },
   {
    "duration": 13,
    "start_time": "2023-01-21T10:21:19.417Z"
   },
   {
    "duration": 21,
    "start_time": "2023-01-21T10:21:19.433Z"
   },
   {
    "duration": 24,
    "start_time": "2023-01-21T10:21:19.456Z"
   },
   {
    "duration": 9,
    "start_time": "2023-01-21T10:21:19.485Z"
   },
   {
    "duration": 15,
    "start_time": "2023-01-21T10:21:19.497Z"
   },
   {
    "duration": 15,
    "start_time": "2023-01-21T10:21:19.515Z"
   },
   {
    "duration": 13,
    "start_time": "2023-01-21T10:21:19.533Z"
   },
   {
    "duration": 40,
    "start_time": "2023-01-21T10:21:19.548Z"
   },
   {
    "duration": 9,
    "start_time": "2023-01-21T10:21:44.728Z"
   },
   {
    "duration": 9,
    "start_time": "2023-01-21T10:22:02.604Z"
   },
   {
    "duration": 5,
    "start_time": "2023-01-21T10:22:05.834Z"
   },
   {
    "duration": 221,
    "start_time": "2023-01-21T10:22:05.843Z"
   },
   {
    "duration": 21,
    "start_time": "2023-01-21T10:22:06.067Z"
   },
   {
    "duration": 42,
    "start_time": "2023-01-21T10:22:06.092Z"
   },
   {
    "duration": 5,
    "start_time": "2023-01-21T10:22:06.139Z"
   },
   {
    "duration": 83,
    "start_time": "2023-01-21T10:22:06.147Z"
   },
   {
    "duration": 84,
    "start_time": "2023-01-21T10:22:06.233Z"
   },
   {
    "duration": 108,
    "start_time": "2023-01-21T10:22:06.320Z"
   },
   {
    "duration": 54,
    "start_time": "2023-01-21T10:22:06.432Z"
   },
   {
    "duration": 106,
    "start_time": "2023-01-21T10:22:06.489Z"
   },
   {
    "duration": 26,
    "start_time": "2023-01-21T10:22:06.600Z"
   },
   {
    "duration": 22,
    "start_time": "2023-01-21T10:22:06.629Z"
   },
   {
    "duration": 6,
    "start_time": "2023-01-21T10:22:06.653Z"
   },
   {
    "duration": 37,
    "start_time": "2023-01-21T10:22:06.687Z"
   },
   {
    "duration": 31,
    "start_time": "2023-01-21T10:22:06.727Z"
   },
   {
    "duration": 592,
    "start_time": "2023-01-21T10:22:06.761Z"
   },
   {
    "duration": 30,
    "start_time": "2023-01-21T10:22:07.356Z"
   },
   {
    "duration": 15,
    "start_time": "2023-01-21T10:22:07.389Z"
   },
   {
    "duration": 29,
    "start_time": "2023-01-21T10:22:07.407Z"
   },
   {
    "duration": 15,
    "start_time": "2023-01-21T10:22:07.439Z"
   },
   {
    "duration": 87,
    "start_time": "2023-01-21T10:22:07.457Z"
   },
   {
    "duration": 168,
    "start_time": "2023-01-21T10:22:07.546Z"
   },
   {
    "duration": 16,
    "start_time": "2023-01-21T10:22:07.717Z"
   },
   {
    "duration": 67,
    "start_time": "2023-01-21T10:22:07.735Z"
   },
   {
    "duration": 85,
    "start_time": "2023-01-21T10:22:07.804Z"
   },
   {
    "duration": 16,
    "start_time": "2023-01-21T10:22:07.891Z"
   },
   {
    "duration": 12,
    "start_time": "2023-01-21T10:22:07.910Z"
   },
   {
    "duration": 85,
    "start_time": "2023-01-21T10:22:07.925Z"
   },
   {
    "duration": 142,
    "start_time": "2023-01-21T10:22:08.014Z"
   },
   {
    "duration": 5,
    "start_time": "2023-01-21T10:22:08.158Z"
   },
   {
    "duration": 32,
    "start_time": "2023-01-21T10:22:08.165Z"
   },
   {
    "duration": 12,
    "start_time": "2023-01-21T10:22:08.199Z"
   },
   {
    "duration": 16,
    "start_time": "2023-01-21T10:22:08.214Z"
   },
   {
    "duration": 17,
    "start_time": "2023-01-21T10:22:08.233Z"
   },
   {
    "duration": 35,
    "start_time": "2023-01-21T10:22:08.253Z"
   },
   {
    "duration": 9,
    "start_time": "2023-01-21T10:22:08.290Z"
   },
   {
    "duration": 13,
    "start_time": "2023-01-21T10:22:08.301Z"
   },
   {
    "duration": 13,
    "start_time": "2023-01-21T10:22:08.317Z"
   },
   {
    "duration": 13,
    "start_time": "2023-01-21T10:22:08.332Z"
   },
   {
    "duration": 43,
    "start_time": "2023-01-21T10:22:08.347Z"
   },
   {
    "duration": 10,
    "start_time": "2023-01-21T10:22:08.397Z"
   },
   {
    "duration": 17,
    "start_time": "2023-01-21T10:22:08.410Z"
   },
   {
    "duration": 20,
    "start_time": "2023-01-21T10:22:08.429Z"
   },
   {
    "duration": 35,
    "start_time": "2023-01-21T10:22:08.451Z"
   },
   {
    "duration": 11,
    "start_time": "2023-01-21T10:22:08.488Z"
   },
   {
    "duration": 12,
    "start_time": "2023-01-21T10:22:08.502Z"
   },
   {
    "duration": 10,
    "start_time": "2023-01-21T10:22:08.517Z"
   },
   {
    "duration": 10,
    "start_time": "2023-01-21T10:22:08.529Z"
   },
   {
    "duration": 43,
    "start_time": "2023-01-21T10:22:08.543Z"
   },
   {
    "duration": 15,
    "start_time": "2023-01-21T10:22:08.588Z"
   },
   {
    "duration": 9,
    "start_time": "2023-01-21T10:23:20.975Z"
   },
   {
    "duration": 14,
    "start_time": "2023-01-21T10:23:35.125Z"
   },
   {
    "duration": 15,
    "start_time": "2023-01-21T10:23:38.255Z"
   },
   {
    "duration": 12,
    "start_time": "2023-01-21T10:23:41.007Z"
   },
   {
    "duration": 250,
    "start_time": "2023-01-21T10:23:41.031Z"
   },
   {
    "duration": 25,
    "start_time": "2023-01-21T10:23:41.285Z"
   },
   {
    "duration": 61,
    "start_time": "2023-01-21T10:23:41.316Z"
   },
   {
    "duration": 17,
    "start_time": "2023-01-21T10:23:41.380Z"
   },
   {
    "duration": 102,
    "start_time": "2023-01-21T10:23:41.399Z"
   },
   {
    "duration": 105,
    "start_time": "2023-01-21T10:23:41.503Z"
   },
   {
    "duration": 153,
    "start_time": "2023-01-21T10:23:41.614Z"
   },
   {
    "duration": 48,
    "start_time": "2023-01-21T10:23:41.771Z"
   },
   {
    "duration": 94,
    "start_time": "2023-01-21T10:23:41.823Z"
   },
   {
    "duration": 23,
    "start_time": "2023-01-21T10:23:41.920Z"
   },
   {
    "duration": 11,
    "start_time": "2023-01-21T10:23:41.946Z"
   },
   {
    "duration": 28,
    "start_time": "2023-01-21T10:23:41.959Z"
   },
   {
    "duration": 40,
    "start_time": "2023-01-21T10:23:41.992Z"
   },
   {
    "duration": 52,
    "start_time": "2023-01-21T10:23:42.036Z"
   },
   {
    "duration": 633,
    "start_time": "2023-01-21T10:23:42.090Z"
   },
   {
    "duration": 17,
    "start_time": "2023-01-21T10:23:42.726Z"
   },
   {
    "duration": 12,
    "start_time": "2023-01-21T10:23:42.747Z"
   },
   {
    "duration": 29,
    "start_time": "2023-01-21T10:23:42.785Z"
   },
   {
    "duration": 13,
    "start_time": "2023-01-21T10:23:42.817Z"
   },
   {
    "duration": 70,
    "start_time": "2023-01-21T10:23:42.833Z"
   },
   {
    "duration": 168,
    "start_time": "2023-01-21T10:23:42.905Z"
   },
   {
    "duration": 24,
    "start_time": "2023-01-21T10:23:43.077Z"
   },
   {
    "duration": 51,
    "start_time": "2023-01-21T10:23:43.105Z"
   },
   {
    "duration": 87,
    "start_time": "2023-01-21T10:23:43.159Z"
   },
   {
    "duration": 37,
    "start_time": "2023-01-21T10:23:43.249Z"
   },
   {
    "duration": 9,
    "start_time": "2023-01-21T10:23:43.289Z"
   },
   {
    "duration": 82,
    "start_time": "2023-01-21T10:23:43.302Z"
   },
   {
    "duration": 125,
    "start_time": "2023-01-21T10:23:43.387Z"
   },
   {
    "duration": 6,
    "start_time": "2023-01-21T10:23:43.514Z"
   },
   {
    "duration": 30,
    "start_time": "2023-01-21T10:23:43.523Z"
   },
   {
    "duration": 29,
    "start_time": "2023-01-21T10:23:43.556Z"
   },
   {
    "duration": 28,
    "start_time": "2023-01-21T10:23:43.587Z"
   },
   {
    "duration": 16,
    "start_time": "2023-01-21T10:23:43.617Z"
   },
   {
    "duration": 25,
    "start_time": "2023-01-21T10:23:43.636Z"
   },
   {
    "duration": 25,
    "start_time": "2023-01-21T10:23:43.665Z"
   },
   {
    "duration": 11,
    "start_time": "2023-01-21T10:23:43.693Z"
   },
   {
    "duration": 22,
    "start_time": "2023-01-21T10:23:43.707Z"
   },
   {
    "duration": 16,
    "start_time": "2023-01-21T10:23:43.733Z"
   },
   {
    "duration": 37,
    "start_time": "2023-01-21T10:23:43.753Z"
   },
   {
    "duration": 10,
    "start_time": "2023-01-21T10:23:43.797Z"
   },
   {
    "duration": 20,
    "start_time": "2023-01-21T10:23:43.809Z"
   },
   {
    "duration": 30,
    "start_time": "2023-01-21T10:23:43.831Z"
   },
   {
    "duration": 32,
    "start_time": "2023-01-21T10:23:43.867Z"
   },
   {
    "duration": 32,
    "start_time": "2023-01-21T10:23:43.901Z"
   },
   {
    "duration": 25,
    "start_time": "2023-01-21T10:23:43.936Z"
   },
   {
    "duration": 23,
    "start_time": "2023-01-21T10:23:43.964Z"
   },
   {
    "duration": 27,
    "start_time": "2023-01-21T10:23:43.990Z"
   },
   {
    "duration": 25,
    "start_time": "2023-01-21T10:23:44.019Z"
   },
   {
    "duration": 17,
    "start_time": "2023-01-21T10:23:44.046Z"
   },
   {
    "duration": 21,
    "start_time": "2023-01-21T10:23:44.065Z"
   },
   {
    "duration": 38,
    "start_time": "2023-01-21T10:23:44.089Z"
   },
   {
    "duration": 11,
    "start_time": "2023-01-21T10:32:31.695Z"
   },
   {
    "duration": 17,
    "start_time": "2023-01-21T10:32:51.974Z"
   },
   {
    "duration": 11,
    "start_time": "2023-01-21T10:33:07.885Z"
   },
   {
    "duration": 8,
    "start_time": "2023-01-21T10:33:12.080Z"
   },
   {
    "duration": 10,
    "start_time": "2023-01-21T10:33:27.577Z"
   },
   {
    "duration": 11,
    "start_time": "2023-01-21T10:33:31.922Z"
   },
   {
    "duration": 11,
    "start_time": "2023-01-21T10:33:46.253Z"
   },
   {
    "duration": 10,
    "start_time": "2023-01-21T10:34:02.464Z"
   },
   {
    "duration": 11,
    "start_time": "2023-01-21T10:34:03.749Z"
   },
   {
    "duration": 9,
    "start_time": "2023-01-21T10:34:18.832Z"
   },
   {
    "duration": 9,
    "start_time": "2023-01-21T10:34:32.981Z"
   },
   {
    "duration": 11,
    "start_time": "2023-01-21T10:35:07.399Z"
   },
   {
    "duration": 18,
    "start_time": "2023-01-21T10:35:20.379Z"
   },
   {
    "duration": 5,
    "start_time": "2023-01-21T10:36:52.240Z"
   },
   {
    "duration": 300,
    "start_time": "2023-01-21T10:36:52.248Z"
   },
   {
    "duration": 16,
    "start_time": "2023-01-21T10:36:52.551Z"
   },
   {
    "duration": 53,
    "start_time": "2023-01-21T10:36:52.569Z"
   },
   {
    "duration": 3,
    "start_time": "2023-01-21T10:36:52.625Z"
   },
   {
    "duration": 87,
    "start_time": "2023-01-21T10:36:52.630Z"
   },
   {
    "duration": 92,
    "start_time": "2023-01-21T10:36:52.720Z"
   },
   {
    "duration": 136,
    "start_time": "2023-01-21T10:36:52.815Z"
   },
   {
    "duration": 48,
    "start_time": "2023-01-21T10:36:52.953Z"
   },
   {
    "duration": 112,
    "start_time": "2023-01-21T10:36:53.008Z"
   },
   {
    "duration": 26,
    "start_time": "2023-01-21T10:36:53.123Z"
   },
   {
    "duration": 19,
    "start_time": "2023-01-21T10:36:53.151Z"
   },
   {
    "duration": 14,
    "start_time": "2023-01-21T10:36:53.183Z"
   },
   {
    "duration": 43,
    "start_time": "2023-01-21T10:36:53.202Z"
   },
   {
    "duration": 53,
    "start_time": "2023-01-21T10:36:53.247Z"
   },
   {
    "duration": 537,
    "start_time": "2023-01-21T10:36:53.307Z"
   },
   {
    "duration": 18,
    "start_time": "2023-01-21T10:36:53.846Z"
   },
   {
    "duration": 33,
    "start_time": "2023-01-21T10:36:53.867Z"
   },
   {
    "duration": 64,
    "start_time": "2023-01-21T10:36:53.903Z"
   },
   {
    "duration": 45,
    "start_time": "2023-01-21T10:36:53.969Z"
   },
   {
    "duration": 47,
    "start_time": "2023-01-21T10:36:54.016Z"
   },
   {
    "duration": 176,
    "start_time": "2023-01-21T10:36:54.065Z"
   },
   {
    "duration": 13,
    "start_time": "2023-01-21T10:36:54.243Z"
   },
   {
    "duration": 57,
    "start_time": "2023-01-21T10:36:54.259Z"
   },
   {
    "duration": 73,
    "start_time": "2023-01-21T10:36:54.318Z"
   },
   {
    "duration": 21,
    "start_time": "2023-01-21T10:36:54.394Z"
   },
   {
    "duration": 7,
    "start_time": "2023-01-21T10:36:54.417Z"
   },
   {
    "duration": 96,
    "start_time": "2023-01-21T10:36:54.426Z"
   },
   {
    "duration": 124,
    "start_time": "2023-01-21T10:36:54.524Z"
   },
   {
    "duration": 4,
    "start_time": "2023-01-21T10:36:54.651Z"
   },
   {
    "duration": 30,
    "start_time": "2023-01-21T10:36:54.657Z"
   },
   {
    "duration": 27,
    "start_time": "2023-01-21T10:36:54.691Z"
   },
   {
    "duration": 13,
    "start_time": "2023-01-21T10:36:54.721Z"
   },
   {
    "duration": 16,
    "start_time": "2023-01-21T10:36:54.736Z"
   },
   {
    "duration": 9,
    "start_time": "2023-01-21T10:36:54.754Z"
   },
   {
    "duration": 33,
    "start_time": "2023-01-21T10:36:54.765Z"
   },
   {
    "duration": 17,
    "start_time": "2023-01-21T10:36:54.804Z"
   },
   {
    "duration": 15,
    "start_time": "2023-01-21T10:36:54.824Z"
   },
   {
    "duration": 10,
    "start_time": "2023-01-21T10:36:54.841Z"
   },
   {
    "duration": 13,
    "start_time": "2023-01-21T10:36:54.854Z"
   },
   {
    "duration": 19,
    "start_time": "2023-01-21T10:36:54.887Z"
   },
   {
    "duration": 12,
    "start_time": "2023-01-21T10:36:54.908Z"
   },
   {
    "duration": 13,
    "start_time": "2023-01-21T10:36:54.922Z"
   },
   {
    "duration": 14,
    "start_time": "2023-01-21T10:36:54.938Z"
   },
   {
    "duration": 32,
    "start_time": "2023-01-21T10:36:54.955Z"
   },
   {
    "duration": 14,
    "start_time": "2023-01-21T10:36:54.994Z"
   },
   {
    "duration": 17,
    "start_time": "2023-01-21T10:36:55.010Z"
   },
   {
    "duration": 15,
    "start_time": "2023-01-21T10:36:55.029Z"
   },
   {
    "duration": 10,
    "start_time": "2023-01-21T10:36:55.046Z"
   },
   {
    "duration": 36,
    "start_time": "2023-01-21T10:36:55.058Z"
   },
   {
    "duration": 17,
    "start_time": "2023-01-21T10:36:55.100Z"
   },
   {
    "duration": 16,
    "start_time": "2023-01-21T10:36:55.120Z"
   },
   {
    "duration": 14,
    "start_time": "2023-01-21T10:36:55.139Z"
   },
   {
    "duration": 25,
    "start_time": "2023-01-21T10:36:55.155Z"
   },
   {
    "duration": 42,
    "start_time": "2023-01-21T10:36:55.185Z"
   },
   {
    "duration": 27,
    "start_time": "2023-01-21T10:36:55.230Z"
   },
   {
    "duration": 22,
    "start_time": "2023-01-21T10:36:55.260Z"
   },
   {
    "duration": 42,
    "start_time": "2023-01-21T10:36:55.284Z"
   },
   {
    "duration": 21,
    "start_time": "2023-01-21T10:36:55.329Z"
   },
   {
    "duration": 36,
    "start_time": "2023-01-21T10:36:55.353Z"
   },
   {
    "duration": 39,
    "start_time": "2023-01-21T10:36:55.392Z"
   },
   {
    "duration": 39,
    "start_time": "2023-01-21T10:36:55.434Z"
   },
   {
    "duration": 21,
    "start_time": "2023-01-21T10:36:55.475Z"
   },
   {
    "duration": 33,
    "start_time": "2023-01-21T10:36:55.498Z"
   },
   {
    "duration": 4,
    "start_time": "2023-01-21T10:50:56.719Z"
   },
   {
    "duration": 228,
    "start_time": "2023-01-21T10:50:56.726Z"
   },
   {
    "duration": 20,
    "start_time": "2023-01-21T10:50:56.956Z"
   },
   {
    "duration": 57,
    "start_time": "2023-01-21T10:50:56.986Z"
   },
   {
    "duration": 3,
    "start_time": "2023-01-21T10:50:57.047Z"
   },
   {
    "duration": 76,
    "start_time": "2023-01-21T10:50:57.052Z"
   },
   {
    "duration": 68,
    "start_time": "2023-01-21T10:50:57.130Z"
   },
   {
    "duration": 109,
    "start_time": "2023-01-21T10:50:57.205Z"
   },
   {
    "duration": 46,
    "start_time": "2023-01-21T10:50:57.320Z"
   },
   {
    "duration": 126,
    "start_time": "2023-01-21T10:50:57.368Z"
   },
   {
    "duration": 28,
    "start_time": "2023-01-21T10:50:57.497Z"
   },
   {
    "duration": 14,
    "start_time": "2023-01-21T10:50:57.527Z"
   },
   {
    "duration": 5,
    "start_time": "2023-01-21T10:50:57.543Z"
   },
   {
    "duration": 20,
    "start_time": "2023-01-21T10:50:57.553Z"
   },
   {
    "duration": 50,
    "start_time": "2023-01-21T10:50:57.575Z"
   },
   {
    "duration": 581,
    "start_time": "2023-01-21T10:50:57.627Z"
   },
   {
    "duration": 17,
    "start_time": "2023-01-21T10:50:58.210Z"
   },
   {
    "duration": 10,
    "start_time": "2023-01-21T10:50:58.229Z"
   },
   {
    "duration": 15,
    "start_time": "2023-01-21T10:50:58.240Z"
   },
   {
    "duration": 49,
    "start_time": "2023-01-21T10:50:58.257Z"
   },
   {
    "duration": 86,
    "start_time": "2023-01-21T10:50:58.310Z"
   },
   {
    "duration": 154,
    "start_time": "2023-01-21T10:50:58.398Z"
   },
   {
    "duration": 10,
    "start_time": "2023-01-21T10:50:58.554Z"
   },
   {
    "duration": 54,
    "start_time": "2023-01-21T10:50:58.566Z"
   },
   {
    "duration": 48,
    "start_time": "2023-01-21T10:50:58.623Z"
   },
   {
    "duration": 46,
    "start_time": "2023-01-21T10:50:58.672Z"
   },
   {
    "duration": 6,
    "start_time": "2023-01-21T10:50:58.720Z"
   },
   {
    "duration": 66,
    "start_time": "2023-01-21T10:50:58.728Z"
   },
   {
    "duration": 116,
    "start_time": "2023-01-21T10:50:58.796Z"
   },
   {
    "duration": 4,
    "start_time": "2023-01-21T10:50:58.917Z"
   },
   {
    "duration": 25,
    "start_time": "2023-01-21T10:50:58.923Z"
   },
   {
    "duration": 19,
    "start_time": "2023-01-21T10:50:58.950Z"
   },
   {
    "duration": 47,
    "start_time": "2023-01-21T10:50:58.971Z"
   },
   {
    "duration": 12,
    "start_time": "2023-01-21T10:50:59.021Z"
   },
   {
    "duration": 17,
    "start_time": "2023-01-21T10:50:59.035Z"
   },
   {
    "duration": 24,
    "start_time": "2023-01-21T10:50:59.054Z"
   },
   {
    "duration": 49,
    "start_time": "2023-01-21T10:50:59.080Z"
   },
   {
    "duration": 23,
    "start_time": "2023-01-21T10:50:59.130Z"
   },
   {
    "duration": 27,
    "start_time": "2023-01-21T10:50:59.155Z"
   },
   {
    "duration": 45,
    "start_time": "2023-01-21T10:50:59.188Z"
   },
   {
    "duration": 25,
    "start_time": "2023-01-21T10:50:59.238Z"
   },
   {
    "duration": 14,
    "start_time": "2023-01-21T10:50:59.266Z"
   },
   {
    "duration": 67,
    "start_time": "2023-01-21T10:50:59.282Z"
   },
   {
    "duration": 23,
    "start_time": "2023-01-21T10:50:59.351Z"
   },
   {
    "duration": 12,
    "start_time": "2023-01-21T10:50:59.377Z"
   },
   {
    "duration": 67,
    "start_time": "2023-01-21T10:50:59.391Z"
   },
   {
    "duration": 19,
    "start_time": "2023-01-21T10:50:59.460Z"
   },
   {
    "duration": 51,
    "start_time": "2023-01-21T10:50:59.481Z"
   },
   {
    "duration": 29,
    "start_time": "2023-01-21T10:50:59.534Z"
   },
   {
    "duration": 27,
    "start_time": "2023-01-21T10:50:59.565Z"
   },
   {
    "duration": 53,
    "start_time": "2023-01-21T10:50:59.596Z"
   },
   {
    "duration": 20,
    "start_time": "2023-01-21T10:50:59.652Z"
   },
   {
    "duration": 74,
    "start_time": "2023-01-21T10:50:59.675Z"
   },
   {
    "duration": 70,
    "start_time": "2023-01-21T10:50:59.752Z"
   },
   {
    "duration": 36,
    "start_time": "2023-01-21T10:50:59.824Z"
   },
   {
    "duration": 74,
    "start_time": "2023-01-21T10:50:59.863Z"
   },
   {
    "duration": 52,
    "start_time": "2023-01-21T10:50:59.940Z"
   },
   {
    "duration": 57,
    "start_time": "2023-01-21T10:50:59.997Z"
   },
   {
    "duration": 80,
    "start_time": "2023-01-21T10:51:00.057Z"
   },
   {
    "duration": 39,
    "start_time": "2023-01-21T10:51:00.139Z"
   },
   {
    "duration": 68,
    "start_time": "2023-01-21T10:51:00.180Z"
   },
   {
    "duration": 42,
    "start_time": "2023-01-21T10:51:00.250Z"
   },
   {
    "duration": 45,
    "start_time": "2023-01-21T10:51:00.295Z"
   },
   {
    "duration": 29,
    "start_time": "2023-01-21T10:51:00.342Z"
   },
   {
    "duration": 1709,
    "start_time": "2023-01-21T10:57:43.650Z"
   },
   {
    "duration": 221,
    "start_time": "2023-01-21T10:57:45.361Z"
   },
   {
    "duration": 43,
    "start_time": "2023-01-21T10:57:45.584Z"
   },
   {
    "duration": 33,
    "start_time": "2023-01-21T10:57:45.630Z"
   },
   {
    "duration": 24,
    "start_time": "2023-01-21T10:57:45.666Z"
   },
   {
    "duration": 142,
    "start_time": "2023-01-21T10:57:45.693Z"
   },
   {
    "duration": 101,
    "start_time": "2023-01-21T10:57:45.837Z"
   },
   {
    "duration": 116,
    "start_time": "2023-01-21T10:57:45.940Z"
   },
   {
    "duration": 33,
    "start_time": "2023-01-21T10:57:46.058Z"
   },
   {
    "duration": 116,
    "start_time": "2023-01-21T10:57:46.095Z"
   },
   {
    "duration": 18,
    "start_time": "2023-01-21T10:57:46.212Z"
   },
   {
    "duration": 26,
    "start_time": "2023-01-21T10:57:46.232Z"
   },
   {
    "duration": 7,
    "start_time": "2023-01-21T10:57:46.260Z"
   },
   {
    "duration": 50,
    "start_time": "2023-01-21T10:57:46.269Z"
   },
   {
    "duration": 35,
    "start_time": "2023-01-21T10:57:46.322Z"
   },
   {
    "duration": 651,
    "start_time": "2023-01-21T10:57:46.359Z"
   },
   {
    "duration": 15,
    "start_time": "2023-01-21T10:57:47.016Z"
   },
   {
    "duration": 19,
    "start_time": "2023-01-21T10:57:47.033Z"
   },
   {
    "duration": 59,
    "start_time": "2023-01-21T10:57:47.053Z"
   },
   {
    "duration": 21,
    "start_time": "2023-01-21T10:57:47.116Z"
   },
   {
    "duration": 99,
    "start_time": "2023-01-21T10:57:47.139Z"
   },
   {
    "duration": 141,
    "start_time": "2023-01-21T10:57:47.240Z"
   },
   {
    "duration": 28,
    "start_time": "2023-01-21T10:57:47.385Z"
   },
   {
    "duration": 44,
    "start_time": "2023-01-21T10:57:47.421Z"
   },
   {
    "duration": 1748,
    "start_time": "2023-01-21T10:57:47.467Z"
   },
   {
    "duration": 15,
    "start_time": "2023-01-21T10:57:49.217Z"
   },
   {
    "duration": 12,
    "start_time": "2023-01-21T10:57:49.234Z"
   },
   {
    "duration": 140,
    "start_time": "2023-01-21T10:57:49.250Z"
   },
   {
    "duration": 141,
    "start_time": "2023-01-21T10:57:49.392Z"
   },
   {
    "duration": 4,
    "start_time": "2023-01-21T10:57:49.535Z"
   },
   {
    "duration": 36,
    "start_time": "2023-01-21T10:57:49.541Z"
   },
   {
    "duration": 21,
    "start_time": "2023-01-21T10:57:49.580Z"
   },
   {
    "duration": 36,
    "start_time": "2023-01-21T10:57:49.607Z"
   },
   {
    "duration": 30,
    "start_time": "2023-01-21T10:57:49.645Z"
   },
   {
    "duration": 73,
    "start_time": "2023-01-21T10:57:49.677Z"
   },
   {
    "duration": 29,
    "start_time": "2023-01-21T10:57:49.752Z"
   },
   {
    "duration": 43,
    "start_time": "2023-01-21T10:57:49.787Z"
   },
   {
    "duration": 15,
    "start_time": "2023-01-21T10:57:49.833Z"
   },
   {
    "duration": 22,
    "start_time": "2023-01-21T10:57:49.850Z"
   },
   {
    "duration": 10,
    "start_time": "2023-01-21T10:57:49.875Z"
   },
   {
    "duration": 55,
    "start_time": "2023-01-21T10:57:49.888Z"
   },
   {
    "duration": 21,
    "start_time": "2023-01-21T10:57:49.945Z"
   },
   {
    "duration": 15,
    "start_time": "2023-01-21T10:57:49.968Z"
   },
   {
    "duration": 47,
    "start_time": "2023-01-21T10:57:49.990Z"
   },
   {
    "duration": 27,
    "start_time": "2023-01-21T10:57:50.039Z"
   },
   {
    "duration": 12,
    "start_time": "2023-01-21T10:57:50.068Z"
   },
   {
    "duration": 36,
    "start_time": "2023-01-21T10:57:50.090Z"
   },
   {
    "duration": 17,
    "start_time": "2023-01-21T10:57:50.128Z"
   },
   {
    "duration": 19,
    "start_time": "2023-01-21T10:57:50.147Z"
   },
   {
    "duration": 29,
    "start_time": "2023-01-21T10:57:50.168Z"
   },
   {
    "duration": 28,
    "start_time": "2023-01-21T10:57:50.199Z"
   },
   {
    "duration": 9,
    "start_time": "2023-01-21T10:57:50.230Z"
   },
   {
    "duration": 9,
    "start_time": "2023-01-21T10:57:50.241Z"
   },
   {
    "duration": 9,
    "start_time": "2023-01-21T10:57:50.252Z"
   },
   {
    "duration": 16,
    "start_time": "2023-01-21T10:57:50.264Z"
   },
   {
    "duration": 39,
    "start_time": "2023-01-21T10:57:50.282Z"
   },
   {
    "duration": 13,
    "start_time": "2023-01-21T10:57:50.323Z"
   },
   {
    "duration": 9,
    "start_time": "2023-01-21T10:57:50.338Z"
   },
   {
    "duration": 18,
    "start_time": "2023-01-21T10:57:50.349Z"
   },
   {
    "duration": 52,
    "start_time": "2023-01-21T10:57:50.368Z"
   },
   {
    "duration": 21,
    "start_time": "2023-01-21T10:57:50.423Z"
   },
   {
    "duration": 14,
    "start_time": "2023-01-21T10:57:50.447Z"
   },
   {
    "duration": 17,
    "start_time": "2023-01-21T10:57:50.464Z"
   },
   {
    "duration": 46,
    "start_time": "2023-01-21T10:57:50.484Z"
   },
   {
    "duration": 194,
    "start_time": "2023-01-21T10:59:33.671Z"
   },
   {
    "duration": 4,
    "start_time": "2023-01-21T10:59:40.212Z"
   },
   {
    "duration": 6,
    "start_time": "2023-01-21T10:59:46.707Z"
   },
   {
    "duration": 11,
    "start_time": "2023-01-21T11:00:03.680Z"
   },
   {
    "duration": 5,
    "start_time": "2023-01-21T11:01:22.435Z"
   },
   {
    "duration": 7,
    "start_time": "2023-01-21T11:01:34.009Z"
   },
   {
    "duration": 5,
    "start_time": "2023-01-21T11:02:15.672Z"
   },
   {
    "duration": 2215,
    "start_time": "2023-01-21T11:04:50.347Z"
   },
   {
    "duration": 20,
    "start_time": "2023-01-21T11:04:59.303Z"
   },
   {
    "duration": 30,
    "start_time": "2023-01-21T11:05:30.883Z"
   },
   {
    "duration": 8,
    "start_time": "2023-01-21T11:05:37.780Z"
   },
   {
    "duration": 7,
    "start_time": "2023-01-21T11:05:40.966Z"
   },
   {
    "duration": 6,
    "start_time": "2023-01-21T11:05:48.177Z"
   },
   {
    "duration": 13,
    "start_time": "2023-01-21T11:05:56.739Z"
   },
   {
    "duration": 8,
    "start_time": "2023-01-21T11:11:48.663Z"
   },
   {
    "duration": 8,
    "start_time": "2023-01-21T11:11:59.307Z"
   },
   {
    "duration": 8,
    "start_time": "2023-01-21T11:14:51.613Z"
   },
   {
    "duration": 133,
    "start_time": "2023-01-21T11:24:36.821Z"
   },
   {
    "duration": 8,
    "start_time": "2023-01-21T11:24:48.338Z"
   },
   {
    "duration": 9,
    "start_time": "2023-01-21T11:25:01.313Z"
   },
   {
    "duration": 7,
    "start_time": "2023-01-21T11:25:27.472Z"
   },
   {
    "duration": 7,
    "start_time": "2023-01-21T11:25:37.650Z"
   },
   {
    "duration": 9,
    "start_time": "2023-01-21T11:25:48.029Z"
   },
   {
    "duration": 5,
    "start_time": "2023-01-21T11:25:53.077Z"
   },
   {
    "duration": 6,
    "start_time": "2023-01-21T11:25:54.520Z"
   },
   {
    "duration": 9,
    "start_time": "2023-01-21T11:25:56.479Z"
   },
   {
    "duration": 315,
    "start_time": "2023-01-21T11:25:56.491Z"
   },
   {
    "duration": 28,
    "start_time": "2023-01-21T11:25:56.813Z"
   },
   {
    "duration": 37,
    "start_time": "2023-01-21T11:25:56.844Z"
   },
   {
    "duration": 12,
    "start_time": "2023-01-21T11:25:56.883Z"
   },
   {
    "duration": 135,
    "start_time": "2023-01-21T11:25:56.897Z"
   },
   {
    "duration": 105,
    "start_time": "2023-01-21T11:25:57.035Z"
   },
   {
    "duration": 154,
    "start_time": "2023-01-21T11:25:57.143Z"
   },
   {
    "duration": 45,
    "start_time": "2023-01-21T11:25:57.299Z"
   },
   {
    "duration": 100,
    "start_time": "2023-01-21T11:25:57.351Z"
   },
   {
    "duration": 31,
    "start_time": "2023-01-21T11:25:57.453Z"
   },
   {
    "duration": 17,
    "start_time": "2023-01-21T11:25:57.489Z"
   },
   {
    "duration": 41,
    "start_time": "2023-01-21T11:25:57.510Z"
   },
   {
    "duration": 41,
    "start_time": "2023-01-21T11:25:57.557Z"
   },
   {
    "duration": 79,
    "start_time": "2023-01-21T11:25:57.603Z"
   },
   {
    "duration": 637,
    "start_time": "2023-01-21T11:25:57.684Z"
   },
   {
    "duration": 18,
    "start_time": "2023-01-21T11:25:58.326Z"
   },
   {
    "duration": 15,
    "start_time": "2023-01-21T11:25:58.347Z"
   },
   {
    "duration": 19,
    "start_time": "2023-01-21T11:25:58.364Z"
   },
   {
    "duration": 57,
    "start_time": "2023-01-21T11:25:58.387Z"
   },
   {
    "duration": 68,
    "start_time": "2023-01-21T11:25:58.447Z"
   },
   {
    "duration": 125,
    "start_time": "2023-01-21T11:25:58.517Z"
   },
   {
    "duration": 13,
    "start_time": "2023-01-21T11:25:58.645Z"
   },
   {
    "duration": 73,
    "start_time": "2023-01-21T11:25:58.660Z"
   },
   {
    "duration": 93,
    "start_time": "2023-01-21T11:25:58.737Z"
   },
   {
    "duration": 19,
    "start_time": "2023-01-21T11:25:58.847Z"
   },
   {
    "duration": 42,
    "start_time": "2023-01-21T11:25:58.869Z"
   },
   {
    "duration": 56,
    "start_time": "2023-01-21T11:25:58.914Z"
   },
   {
    "duration": 113,
    "start_time": "2023-01-21T11:25:58.972Z"
   },
   {
    "duration": 8,
    "start_time": "2023-01-21T11:25:59.088Z"
   },
   {
    "duration": 52,
    "start_time": "2023-01-21T11:25:59.099Z"
   },
   {
    "duration": 9,
    "start_time": "2023-01-21T11:25:59.153Z"
   },
   {
    "duration": 10,
    "start_time": "2023-01-21T11:25:59.164Z"
   },
   {
    "duration": 17,
    "start_time": "2023-01-21T11:25:59.176Z"
   },
   {
    "duration": 39,
    "start_time": "2023-01-21T11:25:59.198Z"
   },
   {
    "duration": 11,
    "start_time": "2023-01-21T11:25:59.239Z"
   },
   {
    "duration": 15,
    "start_time": "2023-01-21T11:25:59.253Z"
   },
   {
    "duration": 20,
    "start_time": "2023-01-21T11:25:59.270Z"
   },
   {
    "duration": 48,
    "start_time": "2023-01-21T11:25:59.301Z"
   },
   {
    "duration": 15,
    "start_time": "2023-01-21T11:25:59.352Z"
   },
   {
    "duration": 11,
    "start_time": "2023-01-21T11:25:59.374Z"
   },
   {
    "duration": 48,
    "start_time": "2023-01-21T11:25:59.387Z"
   },
   {
    "duration": 9,
    "start_time": "2023-01-21T11:25:59.437Z"
   },
   {
    "duration": 23,
    "start_time": "2023-01-21T11:25:59.448Z"
   },
   {
    "duration": 24,
    "start_time": "2023-01-21T11:25:59.474Z"
   },
   {
    "duration": 36,
    "start_time": "2023-01-21T11:25:59.505Z"
   },
   {
    "duration": 13,
    "start_time": "2023-01-21T11:25:59.543Z"
   },
   {
    "duration": 24,
    "start_time": "2023-01-21T11:25:59.559Z"
   },
   {
    "duration": 67,
    "start_time": "2023-01-21T11:25:59.586Z"
   },
   {
    "duration": 23,
    "start_time": "2023-01-21T11:25:59.656Z"
   },
   {
    "duration": 76,
    "start_time": "2023-01-21T11:25:59.683Z"
   },
   {
    "duration": 90,
    "start_time": "2023-01-21T11:25:59.765Z"
   },
   {
    "duration": 31,
    "start_time": "2023-01-21T11:25:59.858Z"
   },
   {
    "duration": 60,
    "start_time": "2023-01-21T11:25:59.892Z"
   },
   {
    "duration": 27,
    "start_time": "2023-01-21T11:25:59.954Z"
   },
   {
    "duration": 60,
    "start_time": "2023-01-21T11:25:59.984Z"
   },
   {
    "duration": 43,
    "start_time": "2023-01-21T11:26:00.047Z"
   },
   {
    "duration": 52,
    "start_time": "2023-01-21T11:26:00.094Z"
   },
   {
    "duration": 28,
    "start_time": "2023-01-21T11:26:00.149Z"
   },
   {
    "duration": 71,
    "start_time": "2023-01-21T11:26:00.180Z"
   },
   {
    "duration": 88,
    "start_time": "2023-01-21T11:26:00.254Z"
   },
   {
    "duration": 126,
    "start_time": "2023-01-21T11:26:00.345Z"
   },
   {
    "duration": 152,
    "start_time": "2023-01-21T11:26:00.474Z"
   },
   {
    "duration": 126,
    "start_time": "2023-01-21T11:26:00.634Z"
   },
   {
    "duration": 50,
    "start_time": "2023-01-21T11:26:00.762Z"
   },
   {
    "duration": 31,
    "start_time": "2023-01-21T11:26:00.815Z"
   },
   {
    "duration": 28,
    "start_time": "2023-01-21T11:26:00.848Z"
   },
   {
    "duration": 61,
    "start_time": "2023-01-21T11:26:00.879Z"
   },
   {
    "duration": 19,
    "start_time": "2023-01-21T11:26:42.376Z"
   },
   {
    "duration": 17,
    "start_time": "2023-01-21T11:26:50.218Z"
   },
   {
    "duration": 5,
    "start_time": "2023-01-21T11:26:51.946Z"
   },
   {
    "duration": 357,
    "start_time": "2023-01-21T11:26:51.955Z"
   },
   {
    "duration": 30,
    "start_time": "2023-01-21T11:26:52.314Z"
   },
   {
    "duration": 161,
    "start_time": "2023-01-21T11:26:52.347Z"
   },
   {
    "duration": 43,
    "start_time": "2023-01-21T11:26:52.512Z"
   },
   {
    "duration": 183,
    "start_time": "2023-01-21T11:26:52.558Z"
   },
   {
    "duration": 106,
    "start_time": "2023-01-21T11:26:52.744Z"
   },
   {
    "duration": 175,
    "start_time": "2023-01-21T11:26:52.853Z"
   },
   {
    "duration": 44,
    "start_time": "2023-01-21T11:26:53.032Z"
   },
   {
    "duration": 226,
    "start_time": "2023-01-21T11:26:53.080Z"
   },
   {
    "duration": 26,
    "start_time": "2023-01-21T11:26:53.309Z"
   },
   {
    "duration": 117,
    "start_time": "2023-01-21T11:26:53.337Z"
   },
   {
    "duration": 47,
    "start_time": "2023-01-21T11:26:53.457Z"
   },
   {
    "duration": 139,
    "start_time": "2023-01-21T11:26:53.510Z"
   },
   {
    "duration": 211,
    "start_time": "2023-01-21T11:26:53.652Z"
   },
   {
    "duration": 712,
    "start_time": "2023-01-21T11:26:53.874Z"
   },
   {
    "duration": 22,
    "start_time": "2023-01-21T11:26:54.588Z"
   },
   {
    "duration": 47,
    "start_time": "2023-01-21T11:26:54.612Z"
   },
   {
    "duration": 17,
    "start_time": "2023-01-21T11:26:54.661Z"
   },
   {
    "duration": 60,
    "start_time": "2023-01-21T11:26:54.681Z"
   },
   {
    "duration": 99,
    "start_time": "2023-01-21T11:26:54.743Z"
   },
   {
    "duration": 138,
    "start_time": "2023-01-21T11:26:54.844Z"
   },
   {
    "duration": 20,
    "start_time": "2023-01-21T11:26:54.988Z"
   },
   {
    "duration": 93,
    "start_time": "2023-01-21T11:26:55.010Z"
   },
   {
    "duration": 106,
    "start_time": "2023-01-21T11:26:55.109Z"
   },
   {
    "duration": 30,
    "start_time": "2023-01-21T11:26:55.220Z"
   },
   {
    "duration": 13,
    "start_time": "2023-01-21T11:26:55.252Z"
   },
   {
    "duration": 111,
    "start_time": "2023-01-21T11:26:55.268Z"
   },
   {
    "duration": 166,
    "start_time": "2023-01-21T11:26:55.382Z"
   },
   {
    "duration": 5,
    "start_time": "2023-01-21T11:26:55.550Z"
   },
   {
    "duration": 50,
    "start_time": "2023-01-21T11:26:55.558Z"
   },
   {
    "duration": 61,
    "start_time": "2023-01-21T11:26:55.620Z"
   },
   {
    "duration": 83,
    "start_time": "2023-01-21T11:26:55.683Z"
   },
   {
    "duration": 22,
    "start_time": "2023-01-21T11:26:55.769Z"
   },
   {
    "duration": 64,
    "start_time": "2023-01-21T11:26:55.799Z"
   },
   {
    "duration": 20,
    "start_time": "2023-01-21T11:26:55.866Z"
   },
   {
    "duration": 57,
    "start_time": "2023-01-21T11:26:55.894Z"
   },
   {
    "duration": 27,
    "start_time": "2023-01-21T11:26:55.953Z"
   },
   {
    "duration": 49,
    "start_time": "2023-01-21T11:26:55.982Z"
   },
   {
    "duration": 27,
    "start_time": "2023-01-21T11:26:56.034Z"
   },
   {
    "duration": 8,
    "start_time": "2023-01-21T11:26:56.066Z"
   },
   {
    "duration": 37,
    "start_time": "2023-01-21T11:26:56.077Z"
   },
   {
    "duration": 45,
    "start_time": "2023-01-21T11:26:56.116Z"
   },
   {
    "duration": 28,
    "start_time": "2023-01-21T11:26:56.163Z"
   },
   {
    "duration": 56,
    "start_time": "2023-01-21T11:26:56.193Z"
   },
   {
    "duration": 26,
    "start_time": "2023-01-21T11:26:56.252Z"
   },
   {
    "duration": 69,
    "start_time": "2023-01-21T11:26:56.280Z"
   },
   {
    "duration": 13,
    "start_time": "2023-01-21T11:26:56.353Z"
   },
   {
    "duration": 14,
    "start_time": "2023-01-21T11:26:56.368Z"
   },
   {
    "duration": 52,
    "start_time": "2023-01-21T11:26:56.386Z"
   },
   {
    "duration": 76,
    "start_time": "2023-01-21T11:26:56.441Z"
   },
   {
    "duration": 38,
    "start_time": "2023-01-21T11:26:56.520Z"
   },
   {
    "duration": 66,
    "start_time": "2023-01-21T11:26:56.560Z"
   },
   {
    "duration": 52,
    "start_time": "2023-01-21T11:26:56.629Z"
   },
   {
    "duration": 74,
    "start_time": "2023-01-21T11:26:56.684Z"
   },
   {
    "duration": 14,
    "start_time": "2023-01-21T11:26:56.761Z"
   },
   {
    "duration": 78,
    "start_time": "2023-01-21T11:26:56.777Z"
   },
   {
    "duration": 18,
    "start_time": "2023-01-21T11:26:56.857Z"
   },
   {
    "duration": 74,
    "start_time": "2023-01-21T11:26:56.877Z"
   },
   {
    "duration": 18,
    "start_time": "2023-01-21T11:26:56.953Z"
   },
   {
    "duration": 19,
    "start_time": "2023-01-21T11:26:56.973Z"
   },
   {
    "duration": 60,
    "start_time": "2023-01-21T11:26:57.002Z"
   },
   {
    "duration": 82,
    "start_time": "2023-01-21T11:26:57.065Z"
   },
   {
    "duration": 25,
    "start_time": "2023-01-21T11:26:57.150Z"
   },
   {
    "duration": 68,
    "start_time": "2023-01-21T11:26:57.178Z"
   },
   {
    "duration": 20,
    "start_time": "2023-01-21T11:26:57.248Z"
   },
   {
    "duration": 20,
    "start_time": "2023-01-21T11:26:57.270Z"
   },
   {
    "duration": 59,
    "start_time": "2023-01-21T11:26:57.292Z"
   },
   {
    "duration": 6,
    "start_time": "2023-01-21T11:27:22.110Z"
   },
   {
    "duration": 348,
    "start_time": "2023-01-21T11:27:22.119Z"
   },
   {
    "duration": 23,
    "start_time": "2023-01-21T11:27:22.470Z"
   },
   {
    "duration": 81,
    "start_time": "2023-01-21T11:27:22.497Z"
   },
   {
    "duration": 14,
    "start_time": "2023-01-21T11:27:22.580Z"
   },
   {
    "duration": 141,
    "start_time": "2023-01-21T11:27:22.598Z"
   },
   {
    "duration": 90,
    "start_time": "2023-01-21T11:27:22.745Z"
   },
   {
    "duration": 121,
    "start_time": "2023-01-21T11:27:22.837Z"
   },
   {
    "duration": 51,
    "start_time": "2023-01-21T11:27:22.960Z"
   },
   {
    "duration": 105,
    "start_time": "2023-01-21T11:27:23.019Z"
   },
   {
    "duration": 27,
    "start_time": "2023-01-21T11:27:23.126Z"
   },
   {
    "duration": 41,
    "start_time": "2023-01-21T11:27:23.155Z"
   },
   {
    "duration": 19,
    "start_time": "2023-01-21T11:27:23.210Z"
   },
   {
    "duration": 35,
    "start_time": "2023-01-21T11:27:23.234Z"
   },
   {
    "duration": 45,
    "start_time": "2023-01-21T11:27:23.271Z"
   },
   {
    "duration": 658,
    "start_time": "2023-01-21T11:27:23.319Z"
   },
   {
    "duration": 46,
    "start_time": "2023-01-21T11:27:23.979Z"
   },
   {
    "duration": 38,
    "start_time": "2023-01-21T11:27:24.028Z"
   },
   {
    "duration": 27,
    "start_time": "2023-01-21T11:27:24.069Z"
   },
   {
    "duration": 62,
    "start_time": "2023-01-21T11:27:24.098Z"
   },
   {
    "duration": 79,
    "start_time": "2023-01-21T11:27:24.162Z"
   },
   {
    "duration": 175,
    "start_time": "2023-01-21T11:27:24.243Z"
   },
   {
    "duration": 17,
    "start_time": "2023-01-21T11:27:24.423Z"
   },
   {
    "duration": 75,
    "start_time": "2023-01-21T11:27:24.443Z"
   },
   {
    "duration": 135,
    "start_time": "2023-01-21T11:27:24.521Z"
   },
   {
    "duration": 35,
    "start_time": "2023-01-21T11:27:24.659Z"
   },
   {
    "duration": 74,
    "start_time": "2023-01-21T11:27:24.702Z"
   },
   {
    "duration": 164,
    "start_time": "2023-01-21T11:27:24.785Z"
   },
   {
    "duration": 160,
    "start_time": "2023-01-21T11:27:24.951Z"
   },
   {
    "duration": 12,
    "start_time": "2023-01-21T11:27:25.114Z"
   },
   {
    "duration": 127,
    "start_time": "2023-01-21T11:27:25.129Z"
   },
   {
    "duration": 11,
    "start_time": "2023-01-21T11:27:25.259Z"
   },
   {
    "duration": 77,
    "start_time": "2023-01-21T11:27:25.273Z"
   },
   {
    "duration": 21,
    "start_time": "2023-01-21T11:27:25.352Z"
   },
   {
    "duration": 65,
    "start_time": "2023-01-21T11:27:25.375Z"
   },
   {
    "duration": 26,
    "start_time": "2023-01-21T11:27:25.443Z"
   },
   {
    "duration": 86,
    "start_time": "2023-01-21T11:27:25.472Z"
   },
   {
    "duration": 95,
    "start_time": "2023-01-21T11:27:25.561Z"
   },
   {
    "duration": 26,
    "start_time": "2023-01-21T11:27:25.658Z"
   },
   {
    "duration": 74,
    "start_time": "2023-01-21T11:27:25.686Z"
   },
   {
    "duration": 30,
    "start_time": "2023-01-21T11:27:25.765Z"
   },
   {
    "duration": 69,
    "start_time": "2023-01-21T11:27:25.798Z"
   },
   {
    "duration": 47,
    "start_time": "2023-01-21T11:27:25.869Z"
   },
   {
    "duration": 65,
    "start_time": "2023-01-21T11:27:25.917Z"
   },
   {
    "duration": 97,
    "start_time": "2023-01-21T11:27:25.985Z"
   },
   {
    "duration": 81,
    "start_time": "2023-01-21T11:27:26.085Z"
   },
   {
    "duration": 82,
    "start_time": "2023-01-21T11:27:26.168Z"
   },
   {
    "duration": 64,
    "start_time": "2023-01-21T11:27:26.252Z"
   },
   {
    "duration": 48,
    "start_time": "2023-01-21T11:27:26.319Z"
   },
   {
    "duration": 71,
    "start_time": "2023-01-21T11:27:26.369Z"
   },
   {
    "duration": 36,
    "start_time": "2023-01-21T11:27:26.443Z"
   },
   {
    "duration": 80,
    "start_time": "2023-01-21T11:27:26.481Z"
   },
   {
    "duration": 107,
    "start_time": "2023-01-21T11:27:26.563Z"
   },
   {
    "duration": 90,
    "start_time": "2023-01-21T11:27:26.672Z"
   },
   {
    "duration": 88,
    "start_time": "2023-01-21T11:27:26.764Z"
   },
   {
    "duration": 22,
    "start_time": "2023-01-21T11:27:26.855Z"
   },
   {
    "duration": 80,
    "start_time": "2023-01-21T11:27:26.880Z"
   },
   {
    "duration": 98,
    "start_time": "2023-01-21T11:27:26.962Z"
   },
   {
    "duration": 79,
    "start_time": "2023-01-21T11:27:27.062Z"
   },
   {
    "duration": 37,
    "start_time": "2023-01-21T11:27:27.144Z"
   },
   {
    "duration": 97,
    "start_time": "2023-01-21T11:27:27.185Z"
   },
   {
    "duration": 70,
    "start_time": "2023-01-21T11:27:27.284Z"
   },
   {
    "duration": 19,
    "start_time": "2023-01-21T11:27:27.356Z"
   },
   {
    "duration": 74,
    "start_time": "2023-01-21T11:27:27.378Z"
   },
   {
    "duration": 12,
    "start_time": "2023-01-21T11:27:27.454Z"
   },
   {
    "duration": 51,
    "start_time": "2023-01-21T11:27:27.468Z"
   },
   {
    "duration": 46,
    "start_time": "2023-01-21T11:27:27.522Z"
   },
   {
    "duration": 29,
    "start_time": "2023-01-21T11:27:27.571Z"
   },
   {
    "duration": 9,
    "start_time": "2023-01-21T11:28:15.414Z"
   },
   {
    "duration": 12,
    "start_time": "2023-01-21T11:28:25.811Z"
   },
   {
    "duration": 9,
    "start_time": "2023-01-21T11:28:34.634Z"
   },
   {
    "duration": 1711,
    "start_time": "2023-01-21T11:28:43.451Z"
   },
   {
    "duration": 257,
    "start_time": "2023-01-21T11:28:45.164Z"
   },
   {
    "duration": 33,
    "start_time": "2023-01-21T11:28:45.427Z"
   },
   {
    "duration": 33,
    "start_time": "2023-01-21T11:28:45.463Z"
   },
   {
    "duration": 26,
    "start_time": "2023-01-21T11:28:45.498Z"
   },
   {
    "duration": 138,
    "start_time": "2023-01-21T11:28:45.526Z"
   },
   {
    "duration": 102,
    "start_time": "2023-01-21T11:28:45.668Z"
   },
   {
    "duration": 139,
    "start_time": "2023-01-21T11:28:45.772Z"
   },
   {
    "duration": 34,
    "start_time": "2023-01-21T11:28:45.913Z"
   },
   {
    "duration": 151,
    "start_time": "2023-01-21T11:28:45.952Z"
   },
   {
    "duration": 24,
    "start_time": "2023-01-21T11:28:46.106Z"
   },
   {
    "duration": 34,
    "start_time": "2023-01-21T11:28:46.131Z"
   },
   {
    "duration": 56,
    "start_time": "2023-01-21T11:28:46.167Z"
   },
   {
    "duration": 39,
    "start_time": "2023-01-21T11:28:46.225Z"
   },
   {
    "duration": 69,
    "start_time": "2023-01-21T11:28:46.266Z"
   },
   {
    "duration": 638,
    "start_time": "2023-01-21T11:28:46.337Z"
   },
   {
    "duration": 32,
    "start_time": "2023-01-21T11:28:46.984Z"
   },
   {
    "duration": 31,
    "start_time": "2023-01-21T11:28:47.019Z"
   },
   {
    "duration": 58,
    "start_time": "2023-01-21T11:28:47.053Z"
   },
   {
    "duration": 20,
    "start_time": "2023-01-21T11:28:47.119Z"
   },
   {
    "duration": 102,
    "start_time": "2023-01-21T11:28:47.141Z"
   },
   {
    "duration": 143,
    "start_time": "2023-01-21T11:28:47.245Z"
   },
   {
    "duration": 29,
    "start_time": "2023-01-21T11:28:47.390Z"
   },
   {
    "duration": 89,
    "start_time": "2023-01-21T11:28:47.426Z"
   },
   {
    "duration": 636,
    "start_time": "2023-01-21T11:28:47.519Z"
   },
   {
    "duration": 34,
    "start_time": "2023-01-21T11:28:48.157Z"
   },
   {
    "duration": 66,
    "start_time": "2023-01-21T11:28:48.197Z"
   },
   {
    "duration": 106,
    "start_time": "2023-01-21T11:28:48.267Z"
   },
   {
    "duration": 116,
    "start_time": "2023-01-21T11:28:48.375Z"
   },
   {
    "duration": 10,
    "start_time": "2023-01-21T11:28:48.493Z"
   },
   {
    "duration": 61,
    "start_time": "2023-01-21T11:28:48.510Z"
   },
   {
    "duration": 39,
    "start_time": "2023-01-21T11:28:48.573Z"
   },
   {
    "duration": 59,
    "start_time": "2023-01-21T11:28:48.615Z"
   },
   {
    "duration": 38,
    "start_time": "2023-01-21T11:28:48.677Z"
   },
   {
    "duration": 44,
    "start_time": "2023-01-21T11:28:48.718Z"
   },
   {
    "duration": 50,
    "start_time": "2023-01-21T11:28:48.765Z"
   },
   {
    "duration": 44,
    "start_time": "2023-01-21T11:28:48.818Z"
   },
   {
    "duration": 32,
    "start_time": "2023-01-21T11:28:48.866Z"
   },
   {
    "duration": 40,
    "start_time": "2023-01-21T11:28:48.903Z"
   },
   {
    "duration": 40,
    "start_time": "2023-01-21T11:28:48.946Z"
   },
   {
    "duration": 84,
    "start_time": "2023-01-21T11:28:48.988Z"
   },
   {
    "duration": 50,
    "start_time": "2023-01-21T11:28:49.073Z"
   },
   {
    "duration": 33,
    "start_time": "2023-01-21T11:28:49.125Z"
   },
   {
    "duration": 63,
    "start_time": "2023-01-21T11:28:49.160Z"
   },
   {
    "duration": 36,
    "start_time": "2023-01-21T11:28:49.225Z"
   },
   {
    "duration": 92,
    "start_time": "2023-01-21T11:28:49.263Z"
   },
   {
    "duration": 92,
    "start_time": "2023-01-21T11:28:49.357Z"
   },
   {
    "duration": 31,
    "start_time": "2023-01-21T11:28:49.451Z"
   },
   {
    "duration": 52,
    "start_time": "2023-01-21T11:28:49.488Z"
   },
   {
    "duration": 31,
    "start_time": "2023-01-21T11:28:49.542Z"
   },
   {
    "duration": 92,
    "start_time": "2023-01-21T11:28:49.576Z"
   },
   {
    "duration": 134,
    "start_time": "2023-01-21T11:28:49.670Z"
   },
   {
    "duration": 47,
    "start_time": "2023-01-21T11:28:49.809Z"
   },
   {
    "duration": 80,
    "start_time": "2023-01-21T11:28:49.859Z"
   },
   {
    "duration": 31,
    "start_time": "2023-01-21T11:28:49.941Z"
   },
   {
    "duration": 66,
    "start_time": "2023-01-21T11:28:49.975Z"
   },
   {
    "duration": 105,
    "start_time": "2023-01-21T11:28:50.044Z"
   },
   {
    "duration": 82,
    "start_time": "2023-01-21T11:28:50.151Z"
   },
   {
    "duration": 38,
    "start_time": "2023-01-21T11:28:50.235Z"
   },
   {
    "duration": 96,
    "start_time": "2023-01-21T11:28:50.276Z"
   },
   {
    "duration": 78,
    "start_time": "2023-01-21T11:28:50.374Z"
   },
   {
    "duration": 28,
    "start_time": "2023-01-21T11:28:50.454Z"
   },
   {
    "duration": 70,
    "start_time": "2023-01-21T11:28:50.485Z"
   },
   {
    "duration": 35,
    "start_time": "2023-01-21T11:28:50.559Z"
   },
   {
    "duration": 73,
    "start_time": "2023-01-21T11:28:50.596Z"
   },
   {
    "duration": 73,
    "start_time": "2023-01-21T11:28:50.671Z"
   },
   {
    "duration": 88,
    "start_time": "2023-01-21T11:28:50.747Z"
   },
   {
    "duration": 9,
    "start_time": "2023-01-21T11:29:07.941Z"
   },
   {
    "duration": 12,
    "start_time": "2023-01-21T11:29:26.688Z"
   },
   {
    "duration": 9,
    "start_time": "2023-01-21T11:29:38.077Z"
   },
   {
    "duration": 15,
    "start_time": "2023-01-21T11:29:43.503Z"
   },
   {
    "duration": 11,
    "start_time": "2023-01-21T11:30:18.813Z"
   },
   {
    "duration": 212,
    "start_time": "2023-01-21T11:30:18.827Z"
   },
   {
    "duration": 17,
    "start_time": "2023-01-21T11:30:19.041Z"
   },
   {
    "duration": 58,
    "start_time": "2023-01-21T11:30:19.061Z"
   },
   {
    "duration": 10,
    "start_time": "2023-01-21T11:30:19.123Z"
   },
   {
    "duration": 78,
    "start_time": "2023-01-21T11:30:19.135Z"
   },
   {
    "duration": 75,
    "start_time": "2023-01-21T11:30:19.215Z"
   },
   {
    "duration": 125,
    "start_time": "2023-01-21T11:30:19.293Z"
   },
   {
    "duration": 28,
    "start_time": "2023-01-21T11:30:19.424Z"
   },
   {
    "duration": 103,
    "start_time": "2023-01-21T11:30:19.455Z"
   },
   {
    "duration": 17,
    "start_time": "2023-01-21T11:30:19.560Z"
   },
   {
    "duration": 55,
    "start_time": "2023-01-21T11:30:19.579Z"
   },
   {
    "duration": 41,
    "start_time": "2023-01-21T11:30:19.642Z"
   },
   {
    "duration": 80,
    "start_time": "2023-01-21T11:30:19.690Z"
   },
   {
    "duration": 74,
    "start_time": "2023-01-21T11:30:19.772Z"
   },
   {
    "duration": 681,
    "start_time": "2023-01-21T11:30:19.849Z"
   },
   {
    "duration": 21,
    "start_time": "2023-01-21T11:30:20.533Z"
   },
   {
    "duration": 37,
    "start_time": "2023-01-21T11:30:20.557Z"
   },
   {
    "duration": 47,
    "start_time": "2023-01-21T11:30:20.596Z"
   },
   {
    "duration": 15,
    "start_time": "2023-01-21T11:30:20.647Z"
   },
   {
    "duration": 78,
    "start_time": "2023-01-21T11:30:20.665Z"
   },
   {
    "duration": 161,
    "start_time": "2023-01-21T11:30:20.746Z"
   },
   {
    "duration": 14,
    "start_time": "2023-01-21T11:30:20.916Z"
   },
   {
    "duration": 87,
    "start_time": "2023-01-21T11:30:20.933Z"
   },
   {
    "duration": 114,
    "start_time": "2023-01-21T11:30:21.024Z"
   },
   {
    "duration": 14,
    "start_time": "2023-01-21T11:30:21.140Z"
   },
   {
    "duration": 50,
    "start_time": "2023-01-21T11:30:21.156Z"
   },
   {
    "duration": 61,
    "start_time": "2023-01-21T11:30:21.213Z"
   },
   {
    "duration": 148,
    "start_time": "2023-01-21T11:30:21.276Z"
   },
   {
    "duration": 5,
    "start_time": "2023-01-21T11:30:21.427Z"
   },
   {
    "duration": 28,
    "start_time": "2023-01-21T11:30:21.434Z"
   },
   {
    "duration": 21,
    "start_time": "2023-01-21T11:30:21.464Z"
   },
   {
    "duration": 62,
    "start_time": "2023-01-21T11:30:21.489Z"
   },
   {
    "duration": 27,
    "start_time": "2023-01-21T11:30:21.554Z"
   },
   {
    "duration": 57,
    "start_time": "2023-01-21T11:30:21.584Z"
   },
   {
    "duration": 42,
    "start_time": "2023-01-21T11:30:21.645Z"
   },
   {
    "duration": 58,
    "start_time": "2023-01-21T11:30:21.692Z"
   },
   {
    "duration": 24,
    "start_time": "2023-01-21T11:30:21.752Z"
   },
   {
    "duration": 53,
    "start_time": "2023-01-21T11:30:21.778Z"
   },
   {
    "duration": 16,
    "start_time": "2023-01-21T11:30:21.833Z"
   },
   {
    "duration": 22,
    "start_time": "2023-01-21T11:30:21.851Z"
   },
   {
    "duration": 18,
    "start_time": "2023-01-21T11:30:21.875Z"
   },
   {
    "duration": 51,
    "start_time": "2023-01-21T11:30:21.896Z"
   },
   {
    "duration": 23,
    "start_time": "2023-01-21T11:30:21.950Z"
   },
   {
    "duration": 42,
    "start_time": "2023-01-21T11:30:21.975Z"
   },
   {
    "duration": 15,
    "start_time": "2023-01-21T11:30:22.025Z"
   },
   {
    "duration": 95,
    "start_time": "2023-01-21T11:30:22.042Z"
   },
   {
    "duration": 15,
    "start_time": "2023-01-21T11:30:22.140Z"
   },
   {
    "duration": 35,
    "start_time": "2023-01-21T11:30:22.157Z"
   },
   {
    "duration": 72,
    "start_time": "2023-01-21T11:30:22.198Z"
   },
   {
    "duration": 53,
    "start_time": "2023-01-21T11:30:22.272Z"
   },
   {
    "duration": 23,
    "start_time": "2023-01-21T11:30:22.327Z"
   },
   {
    "duration": 9,
    "start_time": "2023-01-21T11:30:22.352Z"
   },
   {
    "duration": 39,
    "start_time": "2023-01-21T11:30:22.363Z"
   },
   {
    "duration": 46,
    "start_time": "2023-01-21T11:30:22.405Z"
   },
   {
    "duration": 71,
    "start_time": "2023-01-21T11:30:22.453Z"
   },
   {
    "duration": 37,
    "start_time": "2023-01-21T11:30:22.527Z"
   },
   {
    "duration": 27,
    "start_time": "2023-01-21T11:30:22.567Z"
   },
   {
    "duration": 40,
    "start_time": "2023-01-21T11:30:22.598Z"
   },
   {
    "duration": 25,
    "start_time": "2023-01-21T11:30:22.640Z"
   },
   {
    "duration": 29,
    "start_time": "2023-01-21T11:30:22.667Z"
   },
   {
    "duration": 55,
    "start_time": "2023-01-21T11:30:22.700Z"
   },
   {
    "duration": 72,
    "start_time": "2023-01-21T11:30:22.757Z"
   },
   {
    "duration": 8,
    "start_time": "2023-01-21T11:30:22.831Z"
   },
   {
    "duration": 20,
    "start_time": "2023-01-21T11:30:22.841Z"
   },
   {
    "duration": 25,
    "start_time": "2023-01-21T11:30:22.863Z"
   },
   {
    "duration": 10,
    "start_time": "2023-01-21T11:31:00.180Z"
   },
   {
    "duration": 460,
    "start_time": "2023-01-21T11:31:00.193Z"
   },
   {
    "duration": 22,
    "start_time": "2023-01-21T11:31:00.657Z"
   },
   {
    "duration": 116,
    "start_time": "2023-01-21T11:31:00.682Z"
   },
   {
    "duration": 41,
    "start_time": "2023-01-21T11:31:00.802Z"
   },
   {
    "duration": 131,
    "start_time": "2023-01-21T11:31:00.846Z"
   },
   {
    "duration": 94,
    "start_time": "2023-01-21T11:31:00.980Z"
   },
   {
    "duration": 153,
    "start_time": "2023-01-21T11:31:01.076Z"
   },
   {
    "duration": 63,
    "start_time": "2023-01-21T11:31:01.231Z"
   },
   {
    "duration": 147,
    "start_time": "2023-01-21T11:31:01.315Z"
   },
   {
    "duration": 16,
    "start_time": "2023-01-21T11:31:01.465Z"
   },
   {
    "duration": 68,
    "start_time": "2023-01-21T11:31:01.491Z"
   },
   {
    "duration": 20,
    "start_time": "2023-01-21T11:31:01.562Z"
   },
   {
    "duration": 82,
    "start_time": "2023-01-21T11:31:01.590Z"
   },
   {
    "duration": 77,
    "start_time": "2023-01-21T11:31:01.675Z"
   },
   {
    "duration": 619,
    "start_time": "2023-01-21T11:31:01.756Z"
   },
   {
    "duration": 29,
    "start_time": "2023-01-21T11:31:02.378Z"
   },
   {
    "duration": 44,
    "start_time": "2023-01-21T11:31:02.410Z"
   },
   {
    "duration": 16,
    "start_time": "2023-01-21T11:31:02.457Z"
   },
   {
    "duration": 21,
    "start_time": "2023-01-21T11:31:02.475Z"
   },
   {
    "duration": 107,
    "start_time": "2023-01-21T11:31:02.498Z"
   },
   {
    "duration": 145,
    "start_time": "2023-01-21T11:31:02.608Z"
   },
   {
    "duration": 12,
    "start_time": "2023-01-21T11:31:02.755Z"
   },
   {
    "duration": 72,
    "start_time": "2023-01-21T11:31:02.770Z"
   },
   {
    "duration": 80,
    "start_time": "2023-01-21T11:31:02.845Z"
   },
   {
    "duration": 23,
    "start_time": "2023-01-21T11:31:02.927Z"
   },
   {
    "duration": 12,
    "start_time": "2023-01-21T11:31:02.953Z"
   },
   {
    "duration": 78,
    "start_time": "2023-01-21T11:31:02.967Z"
   },
   {
    "duration": 117,
    "start_time": "2023-01-21T11:31:03.047Z"
   },
   {
    "duration": 5,
    "start_time": "2023-01-21T11:31:03.166Z"
   },
   {
    "duration": 42,
    "start_time": "2023-01-21T11:31:03.173Z"
   },
   {
    "duration": 18,
    "start_time": "2023-01-21T11:31:03.218Z"
   },
   {
    "duration": 24,
    "start_time": "2023-01-21T11:31:03.239Z"
   },
   {
    "duration": 9,
    "start_time": "2023-01-21T11:31:03.268Z"
   },
   {
    "duration": 33,
    "start_time": "2023-01-21T11:31:03.290Z"
   },
   {
    "duration": 32,
    "start_time": "2023-01-21T11:31:03.327Z"
   },
   {
    "duration": 9,
    "start_time": "2023-01-21T11:31:03.362Z"
   },
   {
    "duration": 9,
    "start_time": "2023-01-21T11:31:03.373Z"
   },
   {
    "duration": 73,
    "start_time": "2023-01-21T11:31:03.389Z"
   },
   {
    "duration": 24,
    "start_time": "2023-01-21T11:31:03.464Z"
   },
   {
    "duration": 54,
    "start_time": "2023-01-21T11:31:03.499Z"
   },
   {
    "duration": 55,
    "start_time": "2023-01-21T11:31:03.555Z"
   },
   {
    "duration": 36,
    "start_time": "2023-01-21T11:31:03.615Z"
   },
   {
    "duration": 24,
    "start_time": "2023-01-21T11:31:03.654Z"
   },
   {
    "duration": 81,
    "start_time": "2023-01-21T11:31:03.680Z"
   },
   {
    "duration": 20,
    "start_time": "2023-01-21T11:31:03.763Z"
   },
   {
    "duration": 53,
    "start_time": "2023-01-21T11:31:03.791Z"
   },
   {
    "duration": 19,
    "start_time": "2023-01-21T11:31:03.846Z"
   },
   {
    "duration": 12,
    "start_time": "2023-01-21T11:31:03.867Z"
   },
   {
    "duration": 64,
    "start_time": "2023-01-21T11:31:03.882Z"
   },
   {
    "duration": 18,
    "start_time": "2023-01-21T11:31:03.948Z"
   },
   {
    "duration": 13,
    "start_time": "2023-01-21T11:31:03.969Z"
   },
   {
    "duration": 56,
    "start_time": "2023-01-21T11:31:03.984Z"
   },
   {
    "duration": 9,
    "start_time": "2023-01-21T11:31:04.043Z"
   },
   {
    "duration": 12,
    "start_time": "2023-01-21T11:31:04.054Z"
   },
   {
    "duration": 9,
    "start_time": "2023-01-21T11:31:04.069Z"
   },
   {
    "duration": 38,
    "start_time": "2023-01-21T11:31:04.080Z"
   },
   {
    "duration": 34,
    "start_time": "2023-01-21T11:31:04.121Z"
   },
   {
    "duration": 21,
    "start_time": "2023-01-21T11:31:04.158Z"
   },
   {
    "duration": 70,
    "start_time": "2023-01-21T11:31:04.181Z"
   },
   {
    "duration": 10,
    "start_time": "2023-01-21T11:31:04.253Z"
   },
   {
    "duration": 9,
    "start_time": "2023-01-21T11:31:04.266Z"
   },
   {
    "duration": 43,
    "start_time": "2023-01-21T11:31:04.278Z"
   },
   {
    "duration": 30,
    "start_time": "2023-01-21T11:31:04.324Z"
   },
   {
    "duration": 24,
    "start_time": "2023-01-21T11:31:04.357Z"
   },
   {
    "duration": 69,
    "start_time": "2023-01-21T11:31:04.383Z"
   },
   {
    "duration": 9,
    "start_time": "2023-01-21T11:31:23.435Z"
   },
   {
    "duration": 6,
    "start_time": "2023-01-21T11:31:45.137Z"
   },
   {
    "duration": 7,
    "start_time": "2023-01-21T11:32:04.423Z"
   },
   {
    "duration": 9,
    "start_time": "2023-01-21T11:32:14.367Z"
   },
   {
    "duration": 13,
    "start_time": "2023-01-21T11:32:16.043Z"
   },
   {
    "duration": 7,
    "start_time": "2023-01-21T11:32:22.548Z"
   },
   {
    "duration": 6,
    "start_time": "2023-01-21T11:33:05.309Z"
   },
   {
    "duration": 345,
    "start_time": "2023-01-21T11:33:05.319Z"
   },
   {
    "duration": 43,
    "start_time": "2023-01-21T11:33:05.666Z"
   },
   {
    "duration": 110,
    "start_time": "2023-01-21T11:33:05.710Z"
   },
   {
    "duration": 63,
    "start_time": "2023-01-21T11:33:05.823Z"
   },
   {
    "duration": 281,
    "start_time": "2023-01-21T11:33:05.889Z"
   },
   {
    "duration": 135,
    "start_time": "2023-01-21T11:33:06.173Z"
   },
   {
    "duration": 187,
    "start_time": "2023-01-21T11:33:06.310Z"
   },
   {
    "duration": 53,
    "start_time": "2023-01-21T11:33:06.499Z"
   },
   {
    "duration": 113,
    "start_time": "2023-01-21T11:33:06.558Z"
   },
   {
    "duration": 41,
    "start_time": "2023-01-21T11:33:06.674Z"
   },
   {
    "duration": 65,
    "start_time": "2023-01-21T11:33:06.718Z"
   },
   {
    "duration": 75,
    "start_time": "2023-01-21T11:33:06.793Z"
   },
   {
    "duration": 101,
    "start_time": "2023-01-21T11:33:06.876Z"
   },
   {
    "duration": 81,
    "start_time": "2023-01-21T11:33:06.979Z"
   },
   {
    "duration": 699,
    "start_time": "2023-01-21T11:33:07.062Z"
   },
   {
    "duration": 44,
    "start_time": "2023-01-21T11:33:07.772Z"
   },
   {
    "duration": 74,
    "start_time": "2023-01-21T11:33:07.824Z"
   },
   {
    "duration": 111,
    "start_time": "2023-01-21T11:33:07.902Z"
   },
   {
    "duration": 59,
    "start_time": "2023-01-21T11:33:08.016Z"
   },
   {
    "duration": 171,
    "start_time": "2023-01-21T11:33:08.078Z"
   },
   {
    "duration": 165,
    "start_time": "2023-01-21T11:33:08.253Z"
   },
   {
    "duration": 65,
    "start_time": "2023-01-21T11:33:08.421Z"
   },
   {
    "duration": 198,
    "start_time": "2023-01-21T11:33:08.494Z"
   },
   {
    "duration": 168,
    "start_time": "2023-01-21T11:33:08.700Z"
   },
   {
    "duration": 32,
    "start_time": "2023-01-21T11:33:08.871Z"
   },
   {
    "duration": 64,
    "start_time": "2023-01-21T11:33:08.913Z"
   },
   {
    "duration": 136,
    "start_time": "2023-01-21T11:33:08.979Z"
   },
   {
    "duration": 133,
    "start_time": "2023-01-21T11:33:09.126Z"
   },
   {
    "duration": 8,
    "start_time": "2023-01-21T11:33:09.263Z"
   },
   {
    "duration": 120,
    "start_time": "2023-01-21T11:33:09.284Z"
   },
   {
    "duration": 113,
    "start_time": "2023-01-21T11:33:09.406Z"
   },
   {
    "duration": 55,
    "start_time": "2023-01-21T11:33:09.521Z"
   },
   {
    "duration": 168,
    "start_time": "2023-01-21T11:33:09.578Z"
   },
   {
    "duration": 69,
    "start_time": "2023-01-21T11:33:09.750Z"
   },
   {
    "duration": 79,
    "start_time": "2023-01-21T11:33:09.824Z"
   },
   {
    "duration": 140,
    "start_time": "2023-01-21T11:33:09.912Z"
   },
   {
    "duration": 98,
    "start_time": "2023-01-21T11:33:10.058Z"
   },
   {
    "duration": 161,
    "start_time": "2023-01-21T11:33:10.159Z"
   },
   {
    "duration": 131,
    "start_time": "2023-01-21T11:33:10.322Z"
   },
   {
    "duration": 210,
    "start_time": "2023-01-21T11:33:10.464Z"
   },
   {
    "duration": 171,
    "start_time": "2023-01-21T11:33:10.683Z"
   },
   {
    "duration": 101,
    "start_time": "2023-01-21T11:33:10.866Z"
   },
   {
    "duration": 147,
    "start_time": "2023-01-21T11:33:10.970Z"
   },
   {
    "duration": 155,
    "start_time": "2023-01-21T11:33:11.120Z"
   },
   {
    "duration": 94,
    "start_time": "2023-01-21T11:33:11.279Z"
   },
   {
    "duration": 105,
    "start_time": "2023-01-21T11:33:11.375Z"
   },
   {
    "duration": 131,
    "start_time": "2023-01-21T11:33:11.482Z"
   },
   {
    "duration": 166,
    "start_time": "2023-01-21T11:33:11.615Z"
   },
   {
    "duration": 96,
    "start_time": "2023-01-21T11:33:11.783Z"
   },
   {
    "duration": 85,
    "start_time": "2023-01-21T11:33:11.882Z"
   },
   {
    "duration": 76,
    "start_time": "2023-01-21T11:33:11.969Z"
   },
   {
    "duration": 139,
    "start_time": "2023-01-21T11:33:12.048Z"
   },
   {
    "duration": 86,
    "start_time": "2023-01-21T11:33:12.194Z"
   },
   {
    "duration": 81,
    "start_time": "2023-01-21T11:33:12.282Z"
   },
   {
    "duration": 103,
    "start_time": "2023-01-21T11:33:12.366Z"
   },
   {
    "duration": 87,
    "start_time": "2023-01-21T11:33:12.472Z"
   },
   {
    "duration": 86,
    "start_time": "2023-01-21T11:33:12.561Z"
   },
   {
    "duration": 44,
    "start_time": "2023-01-21T11:33:12.650Z"
   },
   {
    "duration": 78,
    "start_time": "2023-01-21T11:33:12.699Z"
   },
   {
    "duration": 87,
    "start_time": "2023-01-21T11:33:12.780Z"
   },
   {
    "duration": 77,
    "start_time": "2023-01-21T11:33:12.870Z"
   },
   {
    "duration": 38,
    "start_time": "2023-01-21T11:33:12.950Z"
   },
   {
    "duration": 79,
    "start_time": "2023-01-21T11:33:12.995Z"
   },
   {
    "duration": 78,
    "start_time": "2023-01-21T11:33:13.076Z"
   },
   {
    "duration": 5,
    "start_time": "2023-01-21T11:34:22.560Z"
   },
   {
    "duration": 347,
    "start_time": "2023-01-21T11:34:22.568Z"
   },
   {
    "duration": 32,
    "start_time": "2023-01-21T11:34:22.918Z"
   },
   {
    "duration": 43,
    "start_time": "2023-01-21T11:34:22.956Z"
   },
   {
    "duration": 55,
    "start_time": "2023-01-21T11:34:23.001Z"
   },
   {
    "duration": 154,
    "start_time": "2023-01-21T11:34:23.058Z"
   },
   {
    "duration": 106,
    "start_time": "2023-01-21T11:34:23.215Z"
   },
   {
    "duration": 146,
    "start_time": "2023-01-21T11:34:23.323Z"
   },
   {
    "duration": 68,
    "start_time": "2023-01-21T11:34:23.471Z"
   },
   {
    "duration": 121,
    "start_time": "2023-01-21T11:34:23.544Z"
   },
   {
    "duration": 28,
    "start_time": "2023-01-21T11:34:23.668Z"
   },
   {
    "duration": 93,
    "start_time": "2023-01-21T11:34:23.699Z"
   },
   {
    "duration": 54,
    "start_time": "2023-01-21T11:34:23.799Z"
   },
   {
    "duration": 55,
    "start_time": "2023-01-21T11:34:23.855Z"
   },
   {
    "duration": 59,
    "start_time": "2023-01-21T11:34:23.915Z"
   },
   {
    "duration": 620,
    "start_time": "2023-01-21T11:34:23.977Z"
   },
   {
    "duration": 25,
    "start_time": "2023-01-21T11:34:24.600Z"
   },
   {
    "duration": 35,
    "start_time": "2023-01-21T11:34:24.629Z"
   },
   {
    "duration": 31,
    "start_time": "2023-01-21T11:34:24.666Z"
   },
   {
    "duration": 48,
    "start_time": "2023-01-21T11:34:24.702Z"
   },
   {
    "duration": 83,
    "start_time": "2023-01-21T11:34:24.752Z"
   },
   {
    "duration": 156,
    "start_time": "2023-01-21T11:34:24.838Z"
   },
   {
    "duration": 23,
    "start_time": "2023-01-21T11:34:24.997Z"
   },
   {
    "duration": 71,
    "start_time": "2023-01-21T11:34:25.024Z"
   },
   {
    "duration": 95,
    "start_time": "2023-01-21T11:34:25.102Z"
   },
   {
    "duration": 61,
    "start_time": "2023-01-21T11:34:25.202Z"
   },
   {
    "duration": 13,
    "start_time": "2023-01-21T11:34:25.265Z"
   },
   {
    "duration": 119,
    "start_time": "2023-01-21T11:34:25.285Z"
   },
   {
    "duration": 149,
    "start_time": "2023-01-21T11:34:25.406Z"
   },
   {
    "duration": 5,
    "start_time": "2023-01-21T11:34:25.557Z"
   },
   {
    "duration": 51,
    "start_time": "2023-01-21T11:34:25.564Z"
   },
   {
    "duration": 64,
    "start_time": "2023-01-21T11:34:25.620Z"
   },
   {
    "duration": 69,
    "start_time": "2023-01-21T11:34:25.692Z"
   },
   {
    "duration": 75,
    "start_time": "2023-01-21T11:34:25.763Z"
   },
   {
    "duration": 28,
    "start_time": "2023-01-21T11:34:25.842Z"
   },
   {
    "duration": 68,
    "start_time": "2023-01-21T11:34:25.872Z"
   },
   {
    "duration": 16,
    "start_time": "2023-01-21T11:34:25.943Z"
   },
   {
    "duration": 34,
    "start_time": "2023-01-21T11:34:25.962Z"
   },
   {
    "duration": 55,
    "start_time": "2023-01-21T11:34:25.999Z"
   },
   {
    "duration": 25,
    "start_time": "2023-01-21T11:34:26.056Z"
   },
   {
    "duration": 73,
    "start_time": "2023-01-21T11:34:26.082Z"
   },
   {
    "duration": 43,
    "start_time": "2023-01-21T11:34:26.158Z"
   },
   {
    "duration": 51,
    "start_time": "2023-01-21T11:34:26.204Z"
   },
   {
    "duration": 30,
    "start_time": "2023-01-21T11:34:26.257Z"
   },
   {
    "duration": 64,
    "start_time": "2023-01-21T11:34:26.290Z"
   },
   {
    "duration": 16,
    "start_time": "2023-01-21T11:34:26.356Z"
   },
   {
    "duration": 65,
    "start_time": "2023-01-21T11:34:26.374Z"
   },
   {
    "duration": 24,
    "start_time": "2023-01-21T11:34:26.443Z"
   },
   {
    "duration": 71,
    "start_time": "2023-01-21T11:34:26.470Z"
   },
   {
    "duration": 17,
    "start_time": "2023-01-21T11:34:26.543Z"
   },
   {
    "duration": 54,
    "start_time": "2023-01-21T11:34:26.563Z"
   },
   {
    "duration": 49,
    "start_time": "2023-01-21T11:34:26.620Z"
   },
   {
    "duration": 67,
    "start_time": "2023-01-21T11:34:26.671Z"
   },
   {
    "duration": 16,
    "start_time": "2023-01-21T11:34:26.741Z"
   },
   {
    "duration": 23,
    "start_time": "2023-01-21T11:34:26.760Z"
   },
   {
    "duration": 69,
    "start_time": "2023-01-21T11:34:26.794Z"
   },
   {
    "duration": 33,
    "start_time": "2023-01-21T11:34:26.865Z"
   },
   {
    "duration": 47,
    "start_time": "2023-01-21T11:34:26.900Z"
   },
   {
    "duration": 21,
    "start_time": "2023-01-21T11:34:26.949Z"
   },
   {
    "duration": 14,
    "start_time": "2023-01-21T11:34:26.972Z"
   },
   {
    "duration": 66,
    "start_time": "2023-01-21T11:34:26.988Z"
   },
   {
    "duration": 22,
    "start_time": "2023-01-21T11:34:27.057Z"
   },
   {
    "duration": 84,
    "start_time": "2023-01-21T11:34:27.081Z"
   },
   {
    "duration": 12,
    "start_time": "2023-01-21T11:34:27.168Z"
   },
   {
    "duration": 66,
    "start_time": "2023-01-21T11:34:27.183Z"
   },
   {
    "duration": 8,
    "start_time": "2023-01-21T11:36:00.117Z"
   },
   {
    "duration": 316,
    "start_time": "2023-01-21T11:36:00.129Z"
   },
   {
    "duration": 20,
    "start_time": "2023-01-21T11:36:00.447Z"
   },
   {
    "duration": 87,
    "start_time": "2023-01-21T11:36:00.469Z"
   },
   {
    "duration": 88,
    "start_time": "2023-01-21T11:36:00.559Z"
   },
   {
    "duration": 180,
    "start_time": "2023-01-21T11:36:00.649Z"
   },
   {
    "duration": 117,
    "start_time": "2023-01-21T11:36:00.831Z"
   },
   {
    "duration": 145,
    "start_time": "2023-01-21T11:36:00.950Z"
   },
   {
    "duration": 54,
    "start_time": "2023-01-21T11:36:01.101Z"
   },
   {
    "duration": 161,
    "start_time": "2023-01-21T11:36:01.157Z"
   },
   {
    "duration": 23,
    "start_time": "2023-01-21T11:36:01.321Z"
   },
   {
    "duration": 34,
    "start_time": "2023-01-21T11:36:01.346Z"
   },
   {
    "duration": 75,
    "start_time": "2023-01-21T11:36:01.382Z"
   },
   {
    "duration": 101,
    "start_time": "2023-01-21T11:36:01.460Z"
   },
   {
    "duration": 122,
    "start_time": "2023-01-21T11:36:01.564Z"
   },
   {
    "duration": 631,
    "start_time": "2023-01-21T11:36:01.688Z"
   },
   {
    "duration": 19,
    "start_time": "2023-01-21T11:36:02.327Z"
   },
   {
    "duration": 25,
    "start_time": "2023-01-21T11:36:02.348Z"
   },
   {
    "duration": 60,
    "start_time": "2023-01-21T11:36:02.375Z"
   },
   {
    "duration": 38,
    "start_time": "2023-01-21T11:36:02.438Z"
   },
   {
    "duration": 94,
    "start_time": "2023-01-21T11:36:02.479Z"
   },
   {
    "duration": 168,
    "start_time": "2023-01-21T11:36:02.575Z"
   },
   {
    "duration": 11,
    "start_time": "2023-01-21T11:36:02.745Z"
   },
   {
    "duration": 73,
    "start_time": "2023-01-21T11:36:02.758Z"
   },
   {
    "duration": 77,
    "start_time": "2023-01-21T11:36:02.833Z"
   },
   {
    "duration": 39,
    "start_time": "2023-01-21T11:36:02.915Z"
   },
   {
    "duration": 25,
    "start_time": "2023-01-21T11:36:02.956Z"
   },
   {
    "duration": 103,
    "start_time": "2023-01-21T11:36:02.984Z"
   },
   {
    "duration": 133,
    "start_time": "2023-01-21T11:36:03.089Z"
   },
   {
    "duration": 8,
    "start_time": "2023-01-21T11:36:03.224Z"
   },
   {
    "duration": 92,
    "start_time": "2023-01-21T11:36:03.238Z"
   },
   {
    "duration": 16,
    "start_time": "2023-01-21T11:36:03.333Z"
   },
   {
    "duration": 23,
    "start_time": "2023-01-21T11:36:03.351Z"
   },
   {
    "duration": 71,
    "start_time": "2023-01-21T11:36:03.375Z"
   },
   {
    "duration": 33,
    "start_time": "2023-01-21T11:36:03.448Z"
   },
   {
    "duration": 62,
    "start_time": "2023-01-21T11:36:03.484Z"
   },
   {
    "duration": 29,
    "start_time": "2023-01-21T11:36:03.548Z"
   },
   {
    "duration": 63,
    "start_time": "2023-01-21T11:36:03.580Z"
   },
   {
    "duration": 77,
    "start_time": "2023-01-21T11:36:03.645Z"
   },
   {
    "duration": 27,
    "start_time": "2023-01-21T11:36:03.724Z"
   },
   {
    "duration": 41,
    "start_time": "2023-01-21T11:36:03.756Z"
   },
   {
    "duration": 56,
    "start_time": "2023-01-21T11:36:03.800Z"
   },
   {
    "duration": 60,
    "start_time": "2023-01-21T11:36:03.858Z"
   },
   {
    "duration": 41,
    "start_time": "2023-01-21T11:36:03.923Z"
   },
   {
    "duration": 31,
    "start_time": "2023-01-21T11:36:03.966Z"
   },
   {
    "duration": 68,
    "start_time": "2023-01-21T11:36:03.999Z"
   },
   {
    "duration": 27,
    "start_time": "2023-01-21T11:36:04.069Z"
   },
   {
    "duration": 69,
    "start_time": "2023-01-21T11:36:04.098Z"
   },
   {
    "duration": 89,
    "start_time": "2023-01-21T11:36:04.169Z"
   },
   {
    "duration": 26,
    "start_time": "2023-01-21T11:36:04.259Z"
   },
   {
    "duration": 57,
    "start_time": "2023-01-21T11:36:04.291Z"
   },
   {
    "duration": 68,
    "start_time": "2023-01-21T11:36:04.350Z"
   },
   {
    "duration": 46,
    "start_time": "2023-01-21T11:36:04.420Z"
   },
   {
    "duration": 66,
    "start_time": "2023-01-21T11:36:04.469Z"
   },
   {
    "duration": 57,
    "start_time": "2023-01-21T11:36:04.537Z"
   },
   {
    "duration": 61,
    "start_time": "2023-01-21T11:36:04.600Z"
   },
   {
    "duration": 70,
    "start_time": "2023-01-21T11:36:04.663Z"
   },
   {
    "duration": 59,
    "start_time": "2023-01-21T11:36:04.736Z"
   },
   {
    "duration": 73,
    "start_time": "2023-01-21T11:36:04.797Z"
   },
   {
    "duration": 70,
    "start_time": "2023-01-21T11:36:04.872Z"
   },
   {
    "duration": 31,
    "start_time": "2023-01-21T11:36:04.944Z"
   },
   {
    "duration": 79,
    "start_time": "2023-01-21T11:36:04.977Z"
   },
   {
    "duration": 68,
    "start_time": "2023-01-21T11:36:05.058Z"
   },
   {
    "duration": 16,
    "start_time": "2023-01-21T11:36:05.129Z"
   },
   {
    "duration": 12,
    "start_time": "2023-01-21T11:36:38.310Z"
   },
   {
    "duration": 8,
    "start_time": "2023-01-21T11:37:04.962Z"
   },
   {
    "duration": 1526,
    "start_time": "2023-01-21T11:37:56.811Z"
   },
   {
    "duration": 217,
    "start_time": "2023-01-21T11:37:58.339Z"
   },
   {
    "duration": 21,
    "start_time": "2023-01-21T11:37:58.557Z"
   },
   {
    "duration": 40,
    "start_time": "2023-01-21T11:37:58.580Z"
   },
   {
    "duration": 3,
    "start_time": "2023-01-21T11:37:58.622Z"
   },
   {
    "duration": 100,
    "start_time": "2023-01-21T11:37:58.627Z"
   },
   {
    "duration": 104,
    "start_time": "2023-01-21T11:37:58.729Z"
   },
   {
    "duration": 112,
    "start_time": "2023-01-21T11:37:58.835Z"
   },
   {
    "duration": 26,
    "start_time": "2023-01-21T11:37:58.948Z"
   },
   {
    "duration": 82,
    "start_time": "2023-01-21T11:37:58.990Z"
   },
   {
    "duration": 43,
    "start_time": "2023-01-21T11:37:59.074Z"
   },
   {
    "duration": 11,
    "start_time": "2023-01-21T11:37:59.119Z"
   },
   {
    "duration": 5,
    "start_time": "2023-01-21T11:37:59.132Z"
   },
   {
    "duration": 20,
    "start_time": "2023-01-21T11:37:59.139Z"
   },
   {
    "duration": 53,
    "start_time": "2023-01-21T11:37:59.161Z"
   },
   {
    "duration": 606,
    "start_time": "2023-01-21T11:37:59.216Z"
   },
   {
    "duration": 18,
    "start_time": "2023-01-21T11:37:59.824Z"
   },
   {
    "duration": 14,
    "start_time": "2023-01-21T11:37:59.844Z"
   },
   {
    "duration": 56,
    "start_time": "2023-01-21T11:37:59.860Z"
   },
   {
    "duration": 10,
    "start_time": "2023-01-21T11:37:59.919Z"
   },
   {
    "duration": 84,
    "start_time": "2023-01-21T11:37:59.931Z"
   },
   {
    "duration": 135,
    "start_time": "2023-01-21T11:38:00.018Z"
   },
   {
    "duration": 12,
    "start_time": "2023-01-21T11:38:00.155Z"
   },
   {
    "duration": 78,
    "start_time": "2023-01-21T11:38:00.169Z"
   },
   {
    "duration": 559,
    "start_time": "2023-01-21T11:38:00.249Z"
   },
   {
    "duration": 15,
    "start_time": "2023-01-21T11:38:00.814Z"
   },
   {
    "duration": 56,
    "start_time": "2023-01-21T11:38:00.830Z"
   },
   {
    "duration": 102,
    "start_time": "2023-01-21T11:38:00.892Z"
   },
   {
    "duration": 94,
    "start_time": "2023-01-21T11:38:01.010Z"
   },
   {
    "duration": 9,
    "start_time": "2023-01-21T11:38:01.107Z"
   },
   {
    "duration": 33,
    "start_time": "2023-01-21T11:38:01.118Z"
   },
   {
    "duration": 24,
    "start_time": "2023-01-21T11:38:01.153Z"
   },
   {
    "duration": 72,
    "start_time": "2023-01-21T11:38:01.179Z"
   },
   {
    "duration": 54,
    "start_time": "2023-01-21T11:38:01.254Z"
   },
   {
    "duration": 61,
    "start_time": "2023-01-21T11:38:01.310Z"
   },
   {
    "duration": 63,
    "start_time": "2023-01-21T11:38:01.373Z"
   },
   {
    "duration": 79,
    "start_time": "2023-01-21T11:38:01.438Z"
   },
   {
    "duration": 26,
    "start_time": "2023-01-21T11:38:01.519Z"
   },
   {
    "duration": 32,
    "start_time": "2023-01-21T11:38:01.547Z"
   },
   {
    "duration": 46,
    "start_time": "2023-01-21T11:38:01.581Z"
   },
   {
    "duration": 30,
    "start_time": "2023-01-21T11:38:01.629Z"
   },
   {
    "duration": 32,
    "start_time": "2023-01-21T11:38:01.661Z"
   },
   {
    "duration": 29,
    "start_time": "2023-01-21T11:38:01.695Z"
   },
   {
    "duration": 16,
    "start_time": "2023-01-21T11:38:01.726Z"
   },
   {
    "duration": 16,
    "start_time": "2023-01-21T11:38:01.744Z"
   },
   {
    "duration": 73,
    "start_time": "2023-01-21T11:38:01.763Z"
   },
   {
    "duration": 111,
    "start_time": "2023-01-21T11:38:01.838Z"
   },
   {
    "duration": 71,
    "start_time": "2023-01-21T11:38:01.951Z"
   },
   {
    "duration": 101,
    "start_time": "2023-01-21T11:38:02.025Z"
   },
   {
    "duration": 38,
    "start_time": "2023-01-21T11:38:02.127Z"
   },
   {
    "duration": 47,
    "start_time": "2023-01-21T11:38:02.166Z"
   },
   {
    "duration": 25,
    "start_time": "2023-01-21T11:38:02.215Z"
   },
   {
    "duration": 69,
    "start_time": "2023-01-21T11:38:02.242Z"
   },
   {
    "duration": 39,
    "start_time": "2023-01-21T11:38:02.313Z"
   },
   {
    "duration": 29,
    "start_time": "2023-01-21T11:38:02.354Z"
   },
   {
    "duration": 41,
    "start_time": "2023-01-21T11:38:02.386Z"
   },
   {
    "duration": 35,
    "start_time": "2023-01-21T11:38:02.429Z"
   },
   {
    "duration": 41,
    "start_time": "2023-01-21T11:38:02.466Z"
   },
   {
    "duration": 30,
    "start_time": "2023-01-21T11:38:02.509Z"
   },
   {
    "duration": 30,
    "start_time": "2023-01-21T11:38:02.541Z"
   },
   {
    "duration": 21,
    "start_time": "2023-01-21T11:38:02.573Z"
   },
   {
    "duration": 30,
    "start_time": "2023-01-21T11:38:02.603Z"
   },
   {
    "duration": 17,
    "start_time": "2023-01-21T11:38:02.635Z"
   },
   {
    "duration": 17,
    "start_time": "2023-01-21T11:38:02.654Z"
   },
   {
    "duration": 1426,
    "start_time": "2023-01-21T14:25:43.935Z"
   },
   {
    "duration": 797,
    "start_time": "2023-01-21T14:25:45.363Z"
   },
   {
    "duration": 18,
    "start_time": "2023-01-21T14:25:46.162Z"
   },
   {
    "duration": 21,
    "start_time": "2023-01-21T14:25:46.181Z"
   },
   {
    "duration": 4,
    "start_time": "2023-01-21T14:25:46.205Z"
   },
   {
    "duration": 74,
    "start_time": "2023-01-21T14:25:46.211Z"
   },
   {
    "duration": 87,
    "start_time": "2023-01-21T14:25:46.286Z"
   },
   {
    "duration": 90,
    "start_time": "2023-01-21T14:25:46.375Z"
   },
   {
    "duration": 23,
    "start_time": "2023-01-21T14:25:46.467Z"
   },
   {
    "duration": 81,
    "start_time": "2023-01-21T14:25:46.491Z"
   },
   {
    "duration": 13,
    "start_time": "2023-01-21T14:25:46.573Z"
   },
   {
    "duration": 9,
    "start_time": "2023-01-21T14:25:46.588Z"
   },
   {
    "duration": 4,
    "start_time": "2023-01-21T14:25:46.599Z"
   },
   {
    "duration": 24,
    "start_time": "2023-01-21T14:25:46.606Z"
   },
   {
    "duration": 41,
    "start_time": "2023-01-21T14:25:46.632Z"
   },
   {
    "duration": 427,
    "start_time": "2023-01-21T14:25:46.675Z"
   },
   {
    "duration": 15,
    "start_time": "2023-01-21T14:25:47.104Z"
   },
   {
    "duration": 10,
    "start_time": "2023-01-21T14:25:47.121Z"
   },
   {
    "duration": 32,
    "start_time": "2023-01-21T14:25:47.132Z"
   },
   {
    "duration": 9,
    "start_time": "2023-01-21T14:25:47.166Z"
   },
   {
    "duration": 52,
    "start_time": "2023-01-21T14:25:47.177Z"
   },
   {
    "duration": 124,
    "start_time": "2023-01-21T14:25:47.231Z"
   },
   {
    "duration": 12,
    "start_time": "2023-01-21T14:25:47.357Z"
   },
   {
    "duration": 50,
    "start_time": "2023-01-21T14:25:47.371Z"
   },
   {
    "duration": 568,
    "start_time": "2023-01-21T14:25:47.423Z"
   },
   {
    "duration": 12,
    "start_time": "2023-01-21T14:25:47.993Z"
   },
   {
    "duration": 24,
    "start_time": "2023-01-21T14:25:48.007Z"
   },
   {
    "duration": 64,
    "start_time": "2023-01-21T14:25:48.032Z"
   },
   {
    "duration": 102,
    "start_time": "2023-01-21T14:25:48.098Z"
   },
   {
    "duration": 4,
    "start_time": "2023-01-21T14:25:48.201Z"
   },
   {
    "duration": 20,
    "start_time": "2023-01-21T14:25:48.206Z"
   },
   {
    "duration": 6,
    "start_time": "2023-01-21T14:25:48.228Z"
   },
   {
    "duration": 8,
    "start_time": "2023-01-21T14:25:48.254Z"
   },
   {
    "duration": 17,
    "start_time": "2023-01-21T14:25:48.263Z"
   },
   {
    "duration": 18,
    "start_time": "2023-01-21T14:25:48.282Z"
   },
   {
    "duration": 13,
    "start_time": "2023-01-21T14:25:48.302Z"
   },
   {
    "duration": 16,
    "start_time": "2023-01-21T14:25:48.317Z"
   },
   {
    "duration": 10,
    "start_time": "2023-01-21T14:25:48.335Z"
   },
   {
    "duration": 15,
    "start_time": "2023-01-21T14:25:48.347Z"
   },
   {
    "duration": 35,
    "start_time": "2023-01-21T14:25:48.363Z"
   },
   {
    "duration": 12,
    "start_time": "2023-01-21T14:25:48.402Z"
   },
   {
    "duration": 15,
    "start_time": "2023-01-21T14:25:48.415Z"
   },
   {
    "duration": 14,
    "start_time": "2023-01-21T14:25:48.432Z"
   },
   {
    "duration": 20,
    "start_time": "2023-01-21T14:25:48.448Z"
   },
   {
    "duration": 18,
    "start_time": "2023-01-21T14:25:48.469Z"
   },
   {
    "duration": 9,
    "start_time": "2023-01-21T14:25:48.489Z"
   },
   {
    "duration": 16,
    "start_time": "2023-01-21T14:25:48.500Z"
   },
   {
    "duration": 8,
    "start_time": "2023-01-21T14:25:48.518Z"
   },
   {
    "duration": 16,
    "start_time": "2023-01-21T14:25:48.528Z"
   },
   {
    "duration": 18,
    "start_time": "2023-01-21T14:25:48.545Z"
   },
   {
    "duration": 12,
    "start_time": "2023-01-21T14:25:48.564Z"
   },
   {
    "duration": 12,
    "start_time": "2023-01-21T14:25:48.578Z"
   },
   {
    "duration": 16,
    "start_time": "2023-01-21T14:25:48.592Z"
   },
   {
    "duration": 9,
    "start_time": "2023-01-21T14:25:48.609Z"
   },
   {
    "duration": 11,
    "start_time": "2023-01-21T14:25:48.620Z"
   },
   {
    "duration": 12,
    "start_time": "2023-01-21T14:25:48.633Z"
   },
   {
    "duration": 13,
    "start_time": "2023-01-21T14:25:48.646Z"
   },
   {
    "duration": 10,
    "start_time": "2023-01-21T14:25:48.661Z"
   },
   {
    "duration": 14,
    "start_time": "2023-01-21T14:25:48.673Z"
   },
   {
    "duration": 9,
    "start_time": "2023-01-21T14:25:48.689Z"
   },
   {
    "duration": 12,
    "start_time": "2023-01-21T14:25:48.700Z"
   },
   {
    "duration": 13,
    "start_time": "2023-01-21T14:25:48.713Z"
   },
   {
    "duration": 17,
    "start_time": "2023-01-21T14:25:48.728Z"
   },
   {
    "duration": 15,
    "start_time": "2023-01-21T14:25:48.746Z"
   },
   {
    "duration": 1347,
    "start_time": "2023-01-21T16:24:33.741Z"
   },
   {
    "duration": 666,
    "start_time": "2023-01-21T16:24:35.090Z"
   },
   {
    "duration": 19,
    "start_time": "2023-01-21T16:24:35.758Z"
   },
   {
    "duration": 19,
    "start_time": "2023-01-21T16:24:35.779Z"
   },
   {
    "duration": 3,
    "start_time": "2023-01-21T16:24:35.799Z"
   },
   {
    "duration": 68,
    "start_time": "2023-01-21T16:24:35.803Z"
   },
   {
    "duration": 84,
    "start_time": "2023-01-21T16:24:35.873Z"
   },
   {
    "duration": 87,
    "start_time": "2023-01-21T16:24:35.959Z"
   },
   {
    "duration": 19,
    "start_time": "2023-01-21T16:24:36.048Z"
   },
   {
    "duration": 81,
    "start_time": "2023-01-21T16:24:36.070Z"
   },
   {
    "duration": 10,
    "start_time": "2023-01-21T16:24:36.153Z"
   },
   {
    "duration": 17,
    "start_time": "2023-01-21T16:24:36.164Z"
   },
   {
    "duration": 4,
    "start_time": "2023-01-21T16:24:36.183Z"
   },
   {
    "duration": 14,
    "start_time": "2023-01-21T16:24:36.199Z"
   },
   {
    "duration": 15,
    "start_time": "2023-01-21T16:24:36.214Z"
   },
   {
    "duration": 428,
    "start_time": "2023-01-21T16:24:36.230Z"
   },
   {
    "duration": 13,
    "start_time": "2023-01-21T16:24:36.659Z"
   },
   {
    "duration": 9,
    "start_time": "2023-01-21T16:24:36.674Z"
   },
   {
    "duration": 10,
    "start_time": "2023-01-21T16:24:36.699Z"
   },
   {
    "duration": 9,
    "start_time": "2023-01-21T16:24:36.711Z"
   },
   {
    "duration": 46,
    "start_time": "2023-01-21T16:24:36.721Z"
   },
   {
    "duration": 102,
    "start_time": "2023-01-21T16:24:36.769Z"
   },
   {
    "duration": 9,
    "start_time": "2023-01-21T16:24:36.873Z"
   },
   {
    "duration": 31,
    "start_time": "2023-01-21T16:24:36.898Z"
   },
   {
    "duration": 467,
    "start_time": "2023-01-21T16:24:36.931Z"
   },
   {
    "duration": 15,
    "start_time": "2023-01-21T16:24:37.400Z"
   },
   {
    "duration": 13,
    "start_time": "2023-01-21T16:24:37.418Z"
   },
   {
    "duration": 91,
    "start_time": "2023-01-21T16:24:37.436Z"
   },
   {
    "duration": 106,
    "start_time": "2023-01-21T16:24:37.528Z"
   },
   {
    "duration": 3,
    "start_time": "2023-01-21T16:24:37.636Z"
   },
   {
    "duration": 20,
    "start_time": "2023-01-21T16:24:37.641Z"
   },
   {
    "duration": 16,
    "start_time": "2023-01-21T16:24:37.663Z"
   },
   {
    "duration": 20,
    "start_time": "2023-01-21T16:24:37.680Z"
   },
   {
    "duration": 11,
    "start_time": "2023-01-21T16:24:37.703Z"
   },
   {
    "duration": 13,
    "start_time": "2023-01-21T16:24:37.716Z"
   },
   {
    "duration": 22,
    "start_time": "2023-01-21T16:24:37.731Z"
   },
   {
    "duration": 9,
    "start_time": "2023-01-21T16:24:37.755Z"
   },
   {
    "duration": 12,
    "start_time": "2023-01-21T16:24:37.766Z"
   },
   {
    "duration": 20,
    "start_time": "2023-01-21T16:24:37.779Z"
   },
   {
    "duration": 11,
    "start_time": "2023-01-21T16:24:37.800Z"
   },
   {
    "duration": 13,
    "start_time": "2023-01-21T16:24:37.813Z"
   },
   {
    "duration": 17,
    "start_time": "2023-01-21T16:24:37.828Z"
   },
   {
    "duration": 16,
    "start_time": "2023-01-21T16:24:37.848Z"
   },
   {
    "duration": 14,
    "start_time": "2023-01-21T16:24:37.866Z"
   },
   {
    "duration": 14,
    "start_time": "2023-01-21T16:24:37.881Z"
   },
   {
    "duration": 14,
    "start_time": "2023-01-21T16:24:37.900Z"
   },
   {
    "duration": 15,
    "start_time": "2023-01-21T16:24:37.916Z"
   },
   {
    "duration": 25,
    "start_time": "2023-01-21T16:24:37.933Z"
   },
   {
    "duration": 12,
    "start_time": "2023-01-21T16:24:37.960Z"
   },
   {
    "duration": 10,
    "start_time": "2023-01-21T16:24:37.974Z"
   },
   {
    "duration": 22,
    "start_time": "2023-01-21T16:24:37.987Z"
   },
   {
    "duration": 10,
    "start_time": "2023-01-21T16:24:38.011Z"
   },
   {
    "duration": 17,
    "start_time": "2023-01-21T16:24:38.023Z"
   },
   {
    "duration": 14,
    "start_time": "2023-01-21T16:24:38.041Z"
   },
   {
    "duration": 11,
    "start_time": "2023-01-21T16:24:38.057Z"
   },
   {
    "duration": 30,
    "start_time": "2023-01-21T16:24:38.070Z"
   },
   {
    "duration": 7,
    "start_time": "2023-01-21T16:24:38.101Z"
   },
   {
    "duration": 46,
    "start_time": "2023-01-21T16:24:38.110Z"
   },
   {
    "duration": 38,
    "start_time": "2023-01-21T16:24:38.158Z"
   },
   {
    "duration": 13,
    "start_time": "2023-01-21T16:24:38.198Z"
   },
   {
    "duration": 14,
    "start_time": "2023-01-21T16:24:38.212Z"
   },
   {
    "duration": 17,
    "start_time": "2023-01-21T16:24:38.228Z"
   },
   {
    "duration": 9,
    "start_time": "2023-01-21T16:24:38.247Z"
   },
   {
    "duration": 11,
    "start_time": "2023-01-21T16:24:38.258Z"
   },
   {
    "duration": 302,
    "start_time": "2023-01-21T16:24:42.844Z"
   },
   {
    "duration": 317,
    "start_time": "2023-01-21T16:24:55.243Z"
   },
   {
    "duration": 404,
    "start_time": "2023-01-21T16:25:12.967Z"
   },
   {
    "duration": 295,
    "start_time": "2023-01-21T16:25:21.071Z"
   },
   {
    "duration": 292,
    "start_time": "2023-01-21T16:25:29.389Z"
   },
   {
    "duration": 4,
    "start_time": "2023-01-21T16:25:32.295Z"
   },
   {
    "duration": 146,
    "start_time": "2023-01-21T16:25:32.301Z"
   },
   {
    "duration": 12,
    "start_time": "2023-01-21T16:25:32.448Z"
   },
   {
    "duration": 20,
    "start_time": "2023-01-21T16:25:32.462Z"
   },
   {
    "duration": 3,
    "start_time": "2023-01-21T16:25:32.485Z"
   },
   {
    "duration": 50,
    "start_time": "2023-01-21T16:25:32.499Z"
   },
   {
    "duration": 69,
    "start_time": "2023-01-21T16:25:32.551Z"
   },
   {
    "duration": 86,
    "start_time": "2023-01-21T16:25:32.622Z"
   },
   {
    "duration": 19,
    "start_time": "2023-01-21T16:25:32.709Z"
   },
   {
    "duration": 59,
    "start_time": "2023-01-21T16:25:32.729Z"
   },
   {
    "duration": 11,
    "start_time": "2023-01-21T16:25:32.799Z"
   },
   {
    "duration": 10,
    "start_time": "2023-01-21T16:25:32.812Z"
   },
   {
    "duration": 4,
    "start_time": "2023-01-21T16:25:32.824Z"
   },
   {
    "duration": 25,
    "start_time": "2023-01-21T16:25:32.832Z"
   },
   {
    "duration": 18,
    "start_time": "2023-01-21T16:25:32.858Z"
   },
   {
    "duration": 316,
    "start_time": "2023-01-21T16:25:32.899Z"
   },
   {
    "duration": 13,
    "start_time": "2023-01-21T16:25:33.216Z"
   },
   {
    "duration": 8,
    "start_time": "2023-01-21T16:25:33.230Z"
   },
   {
    "duration": 11,
    "start_time": "2023-01-21T16:25:33.240Z"
   },
   {
    "duration": 5,
    "start_time": "2023-01-21T16:25:33.252Z"
   },
   {
    "duration": 65,
    "start_time": "2023-01-21T16:25:33.258Z"
   },
   {
    "duration": 91,
    "start_time": "2023-01-21T16:25:33.325Z"
   },
   {
    "duration": 9,
    "start_time": "2023-01-21T16:25:33.418Z"
   },
   {
    "duration": 28,
    "start_time": "2023-01-21T16:25:33.429Z"
   },
   {
    "duration": 57,
    "start_time": "2023-01-21T16:25:33.459Z"
   },
   {
    "duration": 11,
    "start_time": "2023-01-21T16:25:33.518Z"
   },
   {
    "duration": 8,
    "start_time": "2023-01-21T16:25:33.531Z"
   },
   {
    "duration": 58,
    "start_time": "2023-01-21T16:25:33.541Z"
   },
   {
    "duration": 73,
    "start_time": "2023-01-21T16:25:33.600Z"
   },
   {
    "duration": 4,
    "start_time": "2023-01-21T16:25:33.674Z"
   },
   {
    "duration": 32,
    "start_time": "2023-01-21T16:25:33.680Z"
   },
   {
    "duration": 9,
    "start_time": "2023-01-21T16:25:33.714Z"
   },
   {
    "duration": 12,
    "start_time": "2023-01-21T16:25:33.724Z"
   },
   {
    "duration": 9,
    "start_time": "2023-01-21T16:25:33.738Z"
   },
   {
    "duration": 12,
    "start_time": "2023-01-21T16:25:33.749Z"
   },
   {
    "duration": 8,
    "start_time": "2023-01-21T16:25:33.762Z"
   },
   {
    "duration": 30,
    "start_time": "2023-01-21T16:25:33.771Z"
   },
   {
    "duration": 7,
    "start_time": "2023-01-21T16:25:33.803Z"
   },
   {
    "duration": 10,
    "start_time": "2023-01-21T16:25:33.812Z"
   },
   {
    "duration": 9,
    "start_time": "2023-01-21T16:25:33.824Z"
   },
   {
    "duration": 11,
    "start_time": "2023-01-21T16:25:33.836Z"
   },
   {
    "duration": 8,
    "start_time": "2023-01-21T16:25:33.848Z"
   },
   {
    "duration": 9,
    "start_time": "2023-01-21T16:25:33.857Z"
   },
   {
    "duration": 37,
    "start_time": "2023-01-21T16:25:33.867Z"
   },
   {
    "duration": 16,
    "start_time": "2023-01-21T16:25:33.906Z"
   },
   {
    "duration": 26,
    "start_time": "2023-01-21T16:25:33.923Z"
   },
   {
    "duration": 23,
    "start_time": "2023-01-21T16:25:33.951Z"
   },
   {
    "duration": 19,
    "start_time": "2023-01-21T16:25:33.976Z"
   },
   {
    "duration": 17,
    "start_time": "2023-01-21T16:25:33.998Z"
   },
   {
    "duration": 21,
    "start_time": "2023-01-21T16:25:34.017Z"
   },
   {
    "duration": 14,
    "start_time": "2023-01-21T16:25:34.040Z"
   },
   {
    "duration": 14,
    "start_time": "2023-01-21T16:25:34.057Z"
   },
   {
    "duration": 18,
    "start_time": "2023-01-21T16:25:34.073Z"
   },
   {
    "duration": 16,
    "start_time": "2023-01-21T16:25:34.093Z"
   },
   {
    "duration": 32,
    "start_time": "2023-01-21T16:25:34.111Z"
   },
   {
    "duration": 15,
    "start_time": "2023-01-21T16:25:34.145Z"
   },
   {
    "duration": 20,
    "start_time": "2023-01-21T16:25:34.162Z"
   },
   {
    "duration": 11,
    "start_time": "2023-01-21T16:25:34.183Z"
   },
   {
    "duration": 11,
    "start_time": "2023-01-21T16:25:34.195Z"
   },
   {
    "duration": 10,
    "start_time": "2023-01-21T16:25:34.207Z"
   },
   {
    "duration": 9,
    "start_time": "2023-01-21T16:25:34.218Z"
   },
   {
    "duration": 12,
    "start_time": "2023-01-21T16:25:34.228Z"
   },
   {
    "duration": 8,
    "start_time": "2023-01-21T16:25:34.242Z"
   },
   {
    "duration": 9,
    "start_time": "2023-01-21T16:25:34.252Z"
   },
   {
    "duration": 362,
    "start_time": "2023-01-21T16:27:20.321Z"
   },
   {
    "duration": 299,
    "start_time": "2023-01-21T16:27:25.644Z"
   },
   {
    "duration": 428,
    "start_time": "2023-01-21T16:27:29.011Z"
   },
   {
    "duration": 328,
    "start_time": "2023-01-21T16:27:32.844Z"
   },
   {
    "duration": 1245,
    "start_time": "2023-01-21T16:27:39.063Z"
   },
   {
    "duration": 159,
    "start_time": "2023-01-21T16:27:40.310Z"
   },
   {
    "duration": 17,
    "start_time": "2023-01-21T16:27:40.471Z"
   },
   {
    "duration": 22,
    "start_time": "2023-01-21T16:27:40.490Z"
   },
   {
    "duration": 3,
    "start_time": "2023-01-21T16:27:40.513Z"
   },
   {
    "duration": 81,
    "start_time": "2023-01-21T16:27:40.518Z"
   },
   {
    "duration": 73,
    "start_time": "2023-01-21T16:27:40.600Z"
   },
   {
    "duration": 96,
    "start_time": "2023-01-21T16:27:40.675Z"
   },
   {
    "duration": 27,
    "start_time": "2023-01-21T16:27:40.773Z"
   },
   {
    "duration": 64,
    "start_time": "2023-01-21T16:27:40.802Z"
   },
   {
    "duration": 10,
    "start_time": "2023-01-21T16:27:40.868Z"
   },
   {
    "duration": 8,
    "start_time": "2023-01-21T16:27:40.899Z"
   },
   {
    "duration": 3,
    "start_time": "2023-01-21T16:27:40.909Z"
   },
   {
    "duration": 17,
    "start_time": "2023-01-21T16:27:40.914Z"
   },
   {
    "duration": 19,
    "start_time": "2023-01-21T16:27:40.933Z"
   },
   {
    "duration": 407,
    "start_time": "2023-01-21T16:27:40.954Z"
   },
   {
    "duration": 15,
    "start_time": "2023-01-21T16:27:41.362Z"
   },
   {
    "duration": 22,
    "start_time": "2023-01-21T16:27:41.378Z"
   },
   {
    "duration": 10,
    "start_time": "2023-01-21T16:27:41.401Z"
   },
   {
    "duration": 9,
    "start_time": "2023-01-21T16:27:41.413Z"
   },
   {
    "duration": 47,
    "start_time": "2023-01-21T16:27:41.423Z"
   },
   {
    "duration": 101,
    "start_time": "2023-01-21T16:27:41.472Z"
   },
   {
    "duration": 8,
    "start_time": "2023-01-21T16:27:41.575Z"
   },
   {
    "duration": 32,
    "start_time": "2023-01-21T16:27:41.598Z"
   },
   {
    "duration": 418,
    "start_time": "2023-01-21T16:27:41.632Z"
   },
   {
    "duration": 12,
    "start_time": "2023-01-21T16:27:42.052Z"
   },
   {
    "duration": 6,
    "start_time": "2023-01-21T16:27:42.066Z"
   },
   {
    "duration": 55,
    "start_time": "2023-01-21T16:27:42.075Z"
   },
   {
    "duration": 118,
    "start_time": "2023-01-21T16:27:42.132Z"
   },
   {
    "duration": 4,
    "start_time": "2023-01-21T16:27:42.251Z"
   },
   {
    "duration": 21,
    "start_time": "2023-01-21T16:27:42.257Z"
   },
   {
    "duration": 19,
    "start_time": "2023-01-21T16:27:42.280Z"
   },
   {
    "duration": 13,
    "start_time": "2023-01-21T16:27:42.301Z"
   },
   {
    "duration": 8,
    "start_time": "2023-01-21T16:27:42.316Z"
   },
   {
    "duration": 14,
    "start_time": "2023-01-21T16:27:42.326Z"
   },
   {
    "duration": 14,
    "start_time": "2023-01-21T16:27:42.342Z"
   },
   {
    "duration": 24,
    "start_time": "2023-01-21T16:27:42.358Z"
   },
   {
    "duration": 9,
    "start_time": "2023-01-21T16:27:42.384Z"
   },
   {
    "duration": 9,
    "start_time": "2023-01-21T16:27:42.395Z"
   },
   {
    "duration": 11,
    "start_time": "2023-01-21T16:27:42.406Z"
   },
   {
    "duration": 13,
    "start_time": "2023-01-21T16:27:42.418Z"
   },
   {
    "duration": 13,
    "start_time": "2023-01-21T16:27:42.433Z"
   },
   {
    "duration": 9,
    "start_time": "2023-01-21T16:27:42.448Z"
   },
   {
    "duration": 10,
    "start_time": "2023-01-21T16:27:42.459Z"
   },
   {
    "duration": 9,
    "start_time": "2023-01-21T16:27:42.470Z"
   },
   {
    "duration": 19,
    "start_time": "2023-01-21T16:27:42.481Z"
   },
   {
    "duration": 15,
    "start_time": "2023-01-21T16:27:42.501Z"
   },
   {
    "duration": 11,
    "start_time": "2023-01-21T16:27:42.517Z"
   },
   {
    "duration": 8,
    "start_time": "2023-01-21T16:27:42.530Z"
   },
   {
    "duration": 8,
    "start_time": "2023-01-21T16:27:42.540Z"
   },
   {
    "duration": 15,
    "start_time": "2023-01-21T16:27:42.549Z"
   },
   {
    "duration": 13,
    "start_time": "2023-01-21T16:27:42.565Z"
   },
   {
    "duration": 23,
    "start_time": "2023-01-21T16:27:42.579Z"
   },
   {
    "duration": 16,
    "start_time": "2023-01-21T16:27:42.603Z"
   },
   {
    "duration": 12,
    "start_time": "2023-01-21T16:27:42.621Z"
   },
   {
    "duration": 8,
    "start_time": "2023-01-21T16:27:42.634Z"
   },
   {
    "duration": 10,
    "start_time": "2023-01-21T16:27:42.644Z"
   },
   {
    "duration": 12,
    "start_time": "2023-01-21T16:27:42.655Z"
   },
   {
    "duration": 15,
    "start_time": "2023-01-21T16:27:42.669Z"
   },
   {
    "duration": 9,
    "start_time": "2023-01-21T16:27:42.685Z"
   },
   {
    "duration": 8,
    "start_time": "2023-01-21T16:27:42.698Z"
   },
   {
    "duration": 10,
    "start_time": "2023-01-21T16:27:42.708Z"
   },
   {
    "duration": 9,
    "start_time": "2023-01-21T16:27:42.719Z"
   },
   {
    "duration": 9,
    "start_time": "2023-01-21T16:27:42.730Z"
   },
   {
    "duration": 353,
    "start_time": "2023-01-21T16:28:13.565Z"
   },
   {
    "duration": 301,
    "start_time": "2023-01-21T16:29:19.474Z"
   },
   {
    "duration": 298,
    "start_time": "2023-01-21T16:29:25.507Z"
   },
   {
    "duration": 446,
    "start_time": "2023-01-21T16:29:33.234Z"
   },
   {
    "duration": 316,
    "start_time": "2023-01-21T16:29:38.370Z"
   },
   {
    "duration": 338,
    "start_time": "2023-01-21T16:32:31.223Z"
   },
   {
    "duration": 323,
    "start_time": "2023-01-21T16:32:35.357Z"
   },
   {
    "duration": 298,
    "start_time": "2023-01-21T16:32:38.822Z"
   },
   {
    "duration": 1173,
    "start_time": "2023-01-21T16:32:49.109Z"
   },
   {
    "duration": 158,
    "start_time": "2023-01-21T16:32:50.284Z"
   },
   {
    "duration": 22,
    "start_time": "2023-01-21T16:32:50.444Z"
   },
   {
    "duration": 19,
    "start_time": "2023-01-21T16:32:50.468Z"
   },
   {
    "duration": 3,
    "start_time": "2023-01-21T16:32:50.498Z"
   },
   {
    "duration": 70,
    "start_time": "2023-01-21T16:32:50.503Z"
   },
   {
    "duration": 81,
    "start_time": "2023-01-21T16:32:50.575Z"
   },
   {
    "duration": 89,
    "start_time": "2023-01-21T16:32:50.658Z"
   },
   {
    "duration": 20,
    "start_time": "2023-01-21T16:32:50.749Z"
   },
   {
    "duration": 79,
    "start_time": "2023-01-21T16:32:50.772Z"
   },
   {
    "duration": 11,
    "start_time": "2023-01-21T16:32:50.854Z"
   },
   {
    "duration": 10,
    "start_time": "2023-01-21T16:32:50.867Z"
   },
   {
    "duration": 4,
    "start_time": "2023-01-21T16:32:50.878Z"
   },
   {
    "duration": 30,
    "start_time": "2023-01-21T16:32:50.883Z"
   },
   {
    "duration": 20,
    "start_time": "2023-01-21T16:32:50.915Z"
   },
   {
    "duration": 391,
    "start_time": "2023-01-21T16:32:50.937Z"
   },
   {
    "duration": 14,
    "start_time": "2023-01-21T16:32:51.329Z"
   },
   {
    "duration": 14,
    "start_time": "2023-01-21T16:32:51.345Z"
   },
   {
    "duration": 16,
    "start_time": "2023-01-21T16:32:51.360Z"
   },
   {
    "duration": 5,
    "start_time": "2023-01-21T16:32:51.378Z"
   },
   {
    "duration": 45,
    "start_time": "2023-01-21T16:32:51.398Z"
   },
   {
    "duration": 111,
    "start_time": "2023-01-21T16:32:51.445Z"
   },
   {
    "duration": 8,
    "start_time": "2023-01-21T16:32:51.558Z"
   },
   {
    "duration": 44,
    "start_time": "2023-01-21T16:32:51.568Z"
   },
   {
    "duration": 428,
    "start_time": "2023-01-21T16:32:51.614Z"
   },
   {
    "duration": 12,
    "start_time": "2023-01-21T16:32:52.044Z"
   },
   {
    "duration": 11,
    "start_time": "2023-01-21T16:32:52.058Z"
   },
   {
    "duration": 63,
    "start_time": "2023-01-21T16:32:52.072Z"
   },
   {
    "duration": 104,
    "start_time": "2023-01-21T16:32:52.137Z"
   },
   {
    "duration": 4,
    "start_time": "2023-01-21T16:32:52.243Z"
   },
   {
    "duration": 19,
    "start_time": "2023-01-21T16:32:52.248Z"
   },
   {
    "duration": 13,
    "start_time": "2023-01-21T16:32:52.269Z"
   },
   {
    "duration": 22,
    "start_time": "2023-01-21T16:32:52.284Z"
   },
   {
    "duration": 14,
    "start_time": "2023-01-21T16:32:52.308Z"
   },
   {
    "duration": 12,
    "start_time": "2023-01-21T16:32:52.323Z"
   },
   {
    "duration": 8,
    "start_time": "2023-01-21T16:32:52.337Z"
   },
   {
    "duration": 9,
    "start_time": "2023-01-21T16:32:52.347Z"
   },
   {
    "duration": 9,
    "start_time": "2023-01-21T16:32:52.357Z"
   },
   {
    "duration": 14,
    "start_time": "2023-01-21T16:32:52.368Z"
   },
   {
    "duration": 32,
    "start_time": "2023-01-21T16:32:52.384Z"
   },
   {
    "duration": 11,
    "start_time": "2023-01-21T16:32:52.417Z"
   },
   {
    "duration": 11,
    "start_time": "2023-01-21T16:32:52.429Z"
   },
   {
    "duration": 9,
    "start_time": "2023-01-21T16:32:52.442Z"
   },
   {
    "duration": 10,
    "start_time": "2023-01-21T16:32:52.453Z"
   },
   {
    "duration": 11,
    "start_time": "2023-01-21T16:32:52.465Z"
   },
   {
    "duration": 12,
    "start_time": "2023-01-21T16:32:52.478Z"
   },
   {
    "duration": 8,
    "start_time": "2023-01-21T16:32:52.492Z"
   },
   {
    "duration": 10,
    "start_time": "2023-01-21T16:32:52.502Z"
   },
   {
    "duration": 7,
    "start_time": "2023-01-21T16:32:52.513Z"
   },
   {
    "duration": 8,
    "start_time": "2023-01-21T16:32:52.522Z"
   },
   {
    "duration": 7,
    "start_time": "2023-01-21T16:32:52.532Z"
   },
   {
    "duration": 12,
    "start_time": "2023-01-21T16:32:52.540Z"
   },
   {
    "duration": 12,
    "start_time": "2023-01-21T16:32:52.553Z"
   },
   {
    "duration": 18,
    "start_time": "2023-01-21T16:32:52.567Z"
   },
   {
    "duration": 19,
    "start_time": "2023-01-21T16:32:52.587Z"
   },
   {
    "duration": 12,
    "start_time": "2023-01-21T16:32:52.607Z"
   },
   {
    "duration": 9,
    "start_time": "2023-01-21T16:32:52.620Z"
   },
   {
    "duration": 16,
    "start_time": "2023-01-21T16:32:52.631Z"
   },
   {
    "duration": 13,
    "start_time": "2023-01-21T16:32:52.649Z"
   },
   {
    "duration": 16,
    "start_time": "2023-01-21T16:32:52.664Z"
   },
   {
    "duration": 17,
    "start_time": "2023-01-21T16:32:52.682Z"
   },
   {
    "duration": 7,
    "start_time": "2023-01-21T16:32:52.701Z"
   },
   {
    "duration": 8,
    "start_time": "2023-01-21T16:32:52.710Z"
   },
   {
    "duration": 13,
    "start_time": "2023-01-21T16:32:52.720Z"
   },
   {
    "duration": 304,
    "start_time": "2023-01-21T16:33:01.313Z"
   },
   {
    "duration": 225,
    "start_time": "2023-01-21T16:33:24.199Z"
   },
   {
    "duration": 348,
    "start_time": "2023-01-21T16:33:33.769Z"
   },
   {
    "duration": 248,
    "start_time": "2023-01-21T16:33:53.220Z"
   },
   {
    "duration": 256,
    "start_time": "2023-01-21T16:36:41.235Z"
   },
   {
    "duration": 33,
    "start_time": "2023-01-21T16:38:51.355Z"
   },
   {
    "duration": 181,
    "start_time": "2023-01-21T16:39:40.775Z"
   },
   {
    "duration": 37,
    "start_time": "2023-01-21T16:39:50.929Z"
   },
   {
    "duration": 156,
    "start_time": "2023-01-21T16:39:57.874Z"
   },
   {
    "duration": 351,
    "start_time": "2023-01-21T16:40:06.934Z"
   },
   {
    "duration": 44,
    "start_time": "2023-01-21T16:41:17.724Z"
   },
   {
    "duration": 69,
    "start_time": "2023-01-21T16:42:31.281Z"
   },
   {
    "duration": 23,
    "start_time": "2023-01-21T16:42:49.574Z"
   },
   {
    "duration": 31,
    "start_time": "2023-01-21T16:42:54.607Z"
   },
   {
    "duration": 31,
    "start_time": "2023-01-21T16:43:08.311Z"
   },
   {
    "duration": 31,
    "start_time": "2023-01-21T16:43:39.885Z"
   },
   {
    "duration": 71,
    "start_time": "2023-01-21T16:44:04.836Z"
   },
   {
    "duration": 18,
    "start_time": "2023-01-21T16:44:09.646Z"
   },
   {
    "duration": 210,
    "start_time": "2023-01-21T16:44:18.865Z"
   },
   {
    "duration": 281,
    "start_time": "2023-01-21T16:44:36.747Z"
   },
   {
    "duration": 152,
    "start_time": "2023-01-21T16:44:43.565Z"
   },
   {
    "duration": 112,
    "start_time": "2023-01-21T16:47:15.774Z"
   },
   {
    "duration": 155,
    "start_time": "2023-01-21T16:47:20.322Z"
   },
   {
    "duration": 141,
    "start_time": "2023-01-21T16:47:28.643Z"
   },
   {
    "duration": 151,
    "start_time": "2023-01-21T16:47:39.034Z"
   },
   {
    "duration": 145,
    "start_time": "2023-01-21T16:47:58.173Z"
   },
   {
    "duration": 30,
    "start_time": "2023-01-21T16:49:24.831Z"
   },
   {
    "duration": 65,
    "start_time": "2023-01-21T16:50:18.197Z"
   },
   {
    "duration": 499,
    "start_time": "2023-01-21T16:50:22.571Z"
   },
   {
    "duration": 350,
    "start_time": "2023-01-21T16:50:40.300Z"
   },
   {
    "duration": 4,
    "start_time": "2023-01-21T16:50:56.537Z"
   },
   {
    "duration": 149,
    "start_time": "2023-01-21T16:50:56.543Z"
   },
   {
    "duration": 15,
    "start_time": "2023-01-21T16:50:56.693Z"
   },
   {
    "duration": 23,
    "start_time": "2023-01-21T16:50:56.710Z"
   },
   {
    "duration": 3,
    "start_time": "2023-01-21T16:50:56.736Z"
   },
   {
    "duration": 62,
    "start_time": "2023-01-21T16:50:56.741Z"
   },
   {
    "duration": 53,
    "start_time": "2023-01-21T16:50:56.805Z"
   },
   {
    "duration": 86,
    "start_time": "2023-01-21T16:50:56.860Z"
   },
   {
    "duration": 18,
    "start_time": "2023-01-21T16:50:56.947Z"
   },
   {
    "duration": 73,
    "start_time": "2023-01-21T16:50:56.967Z"
   },
   {
    "duration": 11,
    "start_time": "2023-01-21T16:50:57.041Z"
   },
   {
    "duration": 11,
    "start_time": "2023-01-21T16:50:57.053Z"
   },
   {
    "duration": 14,
    "start_time": "2023-01-21T16:50:57.066Z"
   },
   {
    "duration": 37,
    "start_time": "2023-01-21T16:50:57.083Z"
   },
   {
    "duration": 347,
    "start_time": "2023-01-21T16:50:57.122Z"
   },
   {
    "duration": 15,
    "start_time": "2023-01-21T16:50:57.471Z"
   },
   {
    "duration": 26,
    "start_time": "2023-01-21T16:50:57.488Z"
   },
   {
    "duration": 362,
    "start_time": "2023-01-21T16:50:57.516Z"
   },
   {
    "duration": 20,
    "start_time": "2023-01-21T16:50:57.880Z"
   },
   {
    "duration": 7,
    "start_time": "2023-01-21T16:50:57.902Z"
   },
   {
    "duration": 17,
    "start_time": "2023-01-21T16:50:57.911Z"
   },
   {
    "duration": 11,
    "start_time": "2023-01-21T16:50:57.929Z"
   },
   {
    "duration": 42,
    "start_time": "2023-01-21T16:50:57.942Z"
   },
   {
    "duration": 93,
    "start_time": "2023-01-21T16:50:57.986Z"
   },
   {
    "duration": 20,
    "start_time": "2023-01-21T16:50:58.081Z"
   },
   {
    "duration": 31,
    "start_time": "2023-01-21T16:50:58.102Z"
   },
   {
    "duration": 39,
    "start_time": "2023-01-21T16:50:58.134Z"
   },
   {
    "duration": 30,
    "start_time": "2023-01-21T16:50:58.175Z"
   },
   {
    "duration": 8,
    "start_time": "2023-01-21T16:50:58.206Z"
   },
   {
    "duration": 40,
    "start_time": "2023-01-21T16:50:58.215Z"
   },
   {
    "duration": 84,
    "start_time": "2023-01-21T16:50:58.256Z"
   },
   {
    "duration": 7,
    "start_time": "2023-01-21T16:50:58.342Z"
   },
   {
    "duration": 22,
    "start_time": "2023-01-21T16:50:58.352Z"
   },
   {
    "duration": 8,
    "start_time": "2023-01-21T16:50:58.376Z"
   },
   {
    "duration": 21,
    "start_time": "2023-01-21T16:50:58.400Z"
   },
   {
    "duration": 14,
    "start_time": "2023-01-21T16:50:58.424Z"
   },
   {
    "duration": 16,
    "start_time": "2023-01-21T16:50:58.440Z"
   },
   {
    "duration": 10,
    "start_time": "2023-01-21T16:50:58.457Z"
   },
   {
    "duration": 12,
    "start_time": "2023-01-21T16:50:58.469Z"
   },
   {
    "duration": 10,
    "start_time": "2023-01-21T16:50:58.482Z"
   },
   {
    "duration": 8,
    "start_time": "2023-01-21T16:50:58.499Z"
   },
   {
    "duration": 16,
    "start_time": "2023-01-21T16:50:58.509Z"
   },
   {
    "duration": 11,
    "start_time": "2023-01-21T16:50:58.527Z"
   },
   {
    "duration": 12,
    "start_time": "2023-01-21T16:50:58.540Z"
   },
   {
    "duration": 13,
    "start_time": "2023-01-21T16:50:58.553Z"
   },
   {
    "duration": 15,
    "start_time": "2023-01-21T16:50:58.568Z"
   },
   {
    "duration": 22,
    "start_time": "2023-01-21T16:50:58.585Z"
   },
   {
    "duration": 11,
    "start_time": "2023-01-21T16:50:58.608Z"
   },
   {
    "duration": 12,
    "start_time": "2023-01-21T16:50:58.620Z"
   },
   {
    "duration": 13,
    "start_time": "2023-01-21T16:50:58.634Z"
   },
   {
    "duration": 14,
    "start_time": "2023-01-21T16:50:58.649Z"
   },
   {
    "duration": 18,
    "start_time": "2023-01-21T16:50:58.665Z"
   },
   {
    "duration": 14,
    "start_time": "2023-01-21T16:50:58.685Z"
   },
   {
    "duration": 9,
    "start_time": "2023-01-21T16:50:58.701Z"
   },
   {
    "duration": 14,
    "start_time": "2023-01-21T16:50:58.712Z"
   },
   {
    "duration": 12,
    "start_time": "2023-01-21T16:50:58.728Z"
   },
   {
    "duration": 10,
    "start_time": "2023-01-21T16:50:58.742Z"
   },
   {
    "duration": 9,
    "start_time": "2023-01-21T16:50:58.754Z"
   },
   {
    "duration": 10,
    "start_time": "2023-01-21T16:50:58.764Z"
   },
   {
    "duration": 27,
    "start_time": "2023-01-21T16:50:58.775Z"
   },
   {
    "duration": 15,
    "start_time": "2023-01-21T16:50:58.804Z"
   },
   {
    "duration": 14,
    "start_time": "2023-01-21T16:50:58.821Z"
   },
   {
    "duration": 14,
    "start_time": "2023-01-21T16:50:58.837Z"
   },
   {
    "duration": 9,
    "start_time": "2023-01-21T16:50:58.853Z"
   },
   {
    "duration": 16,
    "start_time": "2023-01-21T16:50:58.863Z"
   },
   {
    "duration": 15,
    "start_time": "2023-01-21T16:50:58.880Z"
   },
   {
    "duration": 226,
    "start_time": "2023-01-21T16:51:22.927Z"
   },
   {
    "duration": 260,
    "start_time": "2023-01-21T16:51:29.319Z"
   },
   {
    "duration": 226,
    "start_time": "2023-01-21T16:51:46.788Z"
   },
   {
    "duration": 186,
    "start_time": "2023-01-21T16:52:25.607Z"
   },
   {
    "duration": 336,
    "start_time": "2023-01-21T16:54:41.614Z"
   },
   {
    "duration": 223,
    "start_time": "2023-01-21T16:54:50.433Z"
   },
   {
    "duration": 209,
    "start_time": "2023-01-21T16:54:54.428Z"
   },
   {
    "duration": 199,
    "start_time": "2023-01-21T16:56:51.381Z"
   },
   {
    "duration": 195,
    "start_time": "2023-01-21T16:57:10.368Z"
   },
   {
    "duration": 22,
    "start_time": "2023-01-21T16:57:47.155Z"
   },
   {
    "duration": 189,
    "start_time": "2023-01-21T16:57:52.332Z"
   },
   {
    "duration": 194,
    "start_time": "2023-01-21T16:57:57.284Z"
   },
   {
    "duration": 315,
    "start_time": "2023-01-21T16:58:39.792Z"
   },
   {
    "duration": 214,
    "start_time": "2023-01-21T16:59:11.016Z"
   },
   {
    "duration": 225,
    "start_time": "2023-01-21T16:59:22.530Z"
   },
   {
    "duration": 213,
    "start_time": "2023-01-21T16:59:26.710Z"
   },
   {
    "duration": 214,
    "start_time": "2023-01-21T17:00:00.468Z"
   },
   {
    "duration": 216,
    "start_time": "2023-01-21T17:00:04.217Z"
   },
   {
    "duration": 26,
    "start_time": "2023-01-21T17:00:28.823Z"
   },
   {
    "duration": 4,
    "start_time": "2023-01-21T17:00:59.018Z"
   },
   {
    "duration": 4,
    "start_time": "2023-01-21T17:01:06.138Z"
   },
   {
    "duration": 5,
    "start_time": "2023-01-21T17:01:13.053Z"
   },
   {
    "duration": 5,
    "start_time": "2023-01-21T17:01:21.450Z"
   },
   {
    "duration": 6,
    "start_time": "2023-01-21T17:02:03.976Z"
   },
   {
    "duration": 14,
    "start_time": "2023-01-21T17:09:36.376Z"
   },
   {
    "duration": 9,
    "start_time": "2023-01-21T17:09:48.869Z"
   },
   {
    "duration": 16,
    "start_time": "2023-01-21T17:10:02.950Z"
   },
   {
    "duration": 407,
    "start_time": "2023-01-21T17:13:28.999Z"
   },
   {
    "duration": 158,
    "start_time": "2023-01-21T17:14:18.698Z"
   },
   {
    "duration": 227,
    "start_time": "2023-01-21T17:14:53.093Z"
   },
   {
    "duration": 105,
    "start_time": "2023-01-21T17:15:40.411Z"
   },
   {
    "duration": 380,
    "start_time": "2023-01-21T17:15:48.009Z"
   },
   {
    "duration": 79,
    "start_time": "2023-01-21T17:15:52.034Z"
   },
   {
    "duration": 38,
    "start_time": "2023-01-21T17:18:17.183Z"
   },
   {
    "duration": 17,
    "start_time": "2023-01-21T17:19:08.955Z"
   },
   {
    "duration": 1904,
    "start_time": "2023-01-21T17:19:25.809Z"
   },
   {
    "duration": 1903,
    "start_time": "2023-01-21T17:19:30.303Z"
   },
   {
    "duration": 3,
    "start_time": "2023-01-21T17:21:41.913Z"
   },
   {
    "duration": 148,
    "start_time": "2023-01-21T17:21:41.918Z"
   },
   {
    "duration": 13,
    "start_time": "2023-01-21T17:21:42.068Z"
   },
   {
    "duration": 24,
    "start_time": "2023-01-21T17:21:42.083Z"
   },
   {
    "duration": 3,
    "start_time": "2023-01-21T17:21:42.109Z"
   },
   {
    "duration": 75,
    "start_time": "2023-01-21T17:21:42.114Z"
   },
   {
    "duration": 55,
    "start_time": "2023-01-21T17:21:42.191Z"
   },
   {
    "duration": 78,
    "start_time": "2023-01-21T17:21:42.248Z"
   },
   {
    "duration": 20,
    "start_time": "2023-01-21T17:21:42.328Z"
   },
   {
    "duration": 69,
    "start_time": "2023-01-21T17:21:42.350Z"
   },
   {
    "duration": 11,
    "start_time": "2023-01-21T17:21:42.421Z"
   },
   {
    "duration": 16,
    "start_time": "2023-01-21T17:21:42.433Z"
   },
   {
    "duration": 43,
    "start_time": "2023-01-21T17:21:42.452Z"
   },
   {
    "duration": 235,
    "start_time": "2023-01-21T17:21:42.497Z"
   },
   {
    "duration": 5,
    "start_time": "2023-01-21T17:21:42.734Z"
   },
   {
    "duration": 22,
    "start_time": "2023-01-21T17:21:42.740Z"
   },
   {
    "duration": 15,
    "start_time": "2023-01-21T17:21:42.763Z"
   },
   {
    "duration": 27,
    "start_time": "2023-01-21T17:21:42.781Z"
   },
   {
    "duration": 257,
    "start_time": "2023-01-21T17:21:42.811Z"
   },
   {
    "duration": 11,
    "start_time": "2023-01-21T17:21:43.070Z"
   },
   {
    "duration": 22,
    "start_time": "2023-01-21T17:21:43.083Z"
   },
   {
    "duration": 11,
    "start_time": "2023-01-21T17:21:43.106Z"
   },
   {
    "duration": 19,
    "start_time": "2023-01-21T17:21:43.118Z"
   },
   {
    "duration": 55,
    "start_time": "2023-01-21T17:21:43.139Z"
   },
   {
    "duration": 80,
    "start_time": "2023-01-21T17:21:43.196Z"
   },
   {
    "duration": 21,
    "start_time": "2023-01-21T17:21:43.278Z"
   },
   {
    "duration": 26,
    "start_time": "2023-01-21T17:21:43.301Z"
   },
   {
    "duration": 10,
    "start_time": "2023-01-21T17:21:43.329Z"
   },
   {
    "duration": 49,
    "start_time": "2023-01-21T17:21:43.340Z"
   },
   {
    "duration": 17,
    "start_time": "2023-01-21T17:21:43.391Z"
   },
   {
    "duration": 10,
    "start_time": "2023-01-21T17:21:43.410Z"
   },
   {
    "duration": 45,
    "start_time": "2023-01-21T17:21:43.422Z"
   },
   {
    "duration": 78,
    "start_time": "2023-01-21T17:21:43.469Z"
   },
   {
    "duration": 3,
    "start_time": "2023-01-21T17:21:43.549Z"
   },
   {
    "duration": 21,
    "start_time": "2023-01-21T17:21:43.554Z"
   },
   {
    "duration": 22,
    "start_time": "2023-01-21T17:21:43.576Z"
   },
   {
    "duration": 12,
    "start_time": "2023-01-21T17:21:43.602Z"
   },
   {
    "duration": 31,
    "start_time": "2023-01-21T17:21:43.616Z"
   },
   {
    "duration": 20,
    "start_time": "2023-01-21T17:21:43.649Z"
   },
   {
    "duration": 19,
    "start_time": "2023-01-21T17:21:43.670Z"
   },
   {
    "duration": 17,
    "start_time": "2023-01-21T17:21:43.691Z"
   },
   {
    "duration": 9,
    "start_time": "2023-01-21T17:21:43.710Z"
   },
   {
    "duration": 12,
    "start_time": "2023-01-21T17:21:43.720Z"
   },
   {
    "duration": 13,
    "start_time": "2023-01-21T17:21:43.734Z"
   },
   {
    "duration": 10,
    "start_time": "2023-01-21T17:21:43.748Z"
   },
   {
    "duration": 19,
    "start_time": "2023-01-21T17:21:43.759Z"
   },
   {
    "duration": 11,
    "start_time": "2023-01-21T17:21:43.779Z"
   },
   {
    "duration": 9,
    "start_time": "2023-01-21T17:21:43.791Z"
   },
   {
    "duration": 10,
    "start_time": "2023-01-21T17:21:43.801Z"
   },
   {
    "duration": 12,
    "start_time": "2023-01-21T17:21:43.813Z"
   },
   {
    "duration": 10,
    "start_time": "2023-01-21T17:21:43.827Z"
   },
   {
    "duration": 12,
    "start_time": "2023-01-21T17:21:43.839Z"
   },
   {
    "duration": 16,
    "start_time": "2023-01-21T17:21:43.853Z"
   },
   {
    "duration": 9,
    "start_time": "2023-01-21T17:21:43.870Z"
   },
   {
    "duration": 20,
    "start_time": "2023-01-21T17:21:43.881Z"
   },
   {
    "duration": 17,
    "start_time": "2023-01-21T17:21:43.903Z"
   },
   {
    "duration": 21,
    "start_time": "2023-01-21T17:21:43.922Z"
   },
   {
    "duration": 16,
    "start_time": "2023-01-21T17:21:43.945Z"
   },
   {
    "duration": 14,
    "start_time": "2023-01-21T17:21:43.963Z"
   },
   {
    "duration": 20,
    "start_time": "2023-01-21T17:21:43.979Z"
   },
   {
    "duration": 14,
    "start_time": "2023-01-21T17:21:44.000Z"
   },
   {
    "duration": 28,
    "start_time": "2023-01-21T17:21:44.016Z"
   },
   {
    "duration": 28,
    "start_time": "2023-01-21T17:21:44.046Z"
   },
   {
    "duration": 21,
    "start_time": "2023-01-21T17:21:44.076Z"
   },
   {
    "duration": 19,
    "start_time": "2023-01-21T17:21:44.099Z"
   },
   {
    "duration": 18,
    "start_time": "2023-01-21T17:21:44.120Z"
   },
   {
    "duration": 15,
    "start_time": "2023-01-21T17:21:44.141Z"
   },
   {
    "duration": 26,
    "start_time": "2023-01-21T17:21:44.158Z"
   },
   {
    "duration": 1200,
    "start_time": "2023-01-21T17:21:52.689Z"
   },
   {
    "duration": 176,
    "start_time": "2023-01-21T17:21:53.892Z"
   },
   {
    "duration": 20,
    "start_time": "2023-01-21T17:21:54.072Z"
   },
   {
    "duration": 25,
    "start_time": "2023-01-21T17:21:54.094Z"
   },
   {
    "duration": 3,
    "start_time": "2023-01-21T17:21:54.122Z"
   },
   {
    "duration": 77,
    "start_time": "2023-01-21T17:21:54.126Z"
   },
   {
    "duration": 70,
    "start_time": "2023-01-21T17:21:54.204Z"
   },
   {
    "duration": 98,
    "start_time": "2023-01-21T17:21:54.276Z"
   },
   {
    "duration": 24,
    "start_time": "2023-01-21T17:21:54.376Z"
   },
   {
    "duration": 68,
    "start_time": "2023-01-21T17:21:54.402Z"
   },
   {
    "duration": 10,
    "start_time": "2023-01-21T17:21:54.471Z"
   },
   {
    "duration": 22,
    "start_time": "2023-01-21T17:21:54.482Z"
   },
   {
    "duration": 24,
    "start_time": "2023-01-21T17:21:54.505Z"
   },
   {
    "duration": 214,
    "start_time": "2023-01-21T17:21:54.532Z"
   },
   {
    "duration": 5,
    "start_time": "2023-01-21T17:21:54.747Z"
   },
   {
    "duration": 12,
    "start_time": "2023-01-21T17:21:54.753Z"
   },
   {
    "duration": 27,
    "start_time": "2023-01-21T17:21:54.766Z"
   },
   {
    "duration": 32,
    "start_time": "2023-01-21T17:21:54.795Z"
   },
   {
    "duration": 296,
    "start_time": "2023-01-21T17:21:54.828Z"
   },
   {
    "duration": 14,
    "start_time": "2023-01-21T17:21:55.126Z"
   },
   {
    "duration": 21,
    "start_time": "2023-01-21T17:21:55.142Z"
   },
   {
    "duration": 31,
    "start_time": "2023-01-21T17:21:55.164Z"
   },
   {
    "duration": 18,
    "start_time": "2023-01-21T17:21:55.197Z"
   },
   {
    "duration": 64,
    "start_time": "2023-01-21T17:21:55.216Z"
   },
   {
    "duration": 93,
    "start_time": "2023-01-21T17:21:55.282Z"
   },
   {
    "duration": 10,
    "start_time": "2023-01-21T17:21:55.376Z"
   },
   {
    "duration": 45,
    "start_time": "2023-01-21T17:21:55.387Z"
   },
   {
    "duration": 14,
    "start_time": "2023-01-21T17:21:55.434Z"
   },
   {
    "duration": 418,
    "start_time": "2023-01-21T17:21:55.450Z"
   },
   {
    "duration": 11,
    "start_time": "2023-01-21T17:21:55.870Z"
   },
   {
    "duration": 14,
    "start_time": "2023-01-21T17:21:55.883Z"
   },
   {
    "duration": 53,
    "start_time": "2023-01-21T17:21:55.899Z"
   },
   {
    "duration": 100,
    "start_time": "2023-01-21T17:21:55.954Z"
   },
   {
    "duration": 4,
    "start_time": "2023-01-21T17:21:56.056Z"
   },
   {
    "duration": 30,
    "start_time": "2023-01-21T17:21:56.061Z"
   },
   {
    "duration": 16,
    "start_time": "2023-01-21T17:21:56.093Z"
   },
   {
    "duration": 40,
    "start_time": "2023-01-21T17:21:56.111Z"
   },
   {
    "duration": 28,
    "start_time": "2023-01-21T17:21:56.153Z"
   },
   {
    "duration": 42,
    "start_time": "2023-01-21T17:21:56.183Z"
   },
   {
    "duration": 18,
    "start_time": "2023-01-21T17:21:56.226Z"
   },
   {
    "duration": 29,
    "start_time": "2023-01-21T17:21:56.250Z"
   },
   {
    "duration": 20,
    "start_time": "2023-01-21T17:21:56.281Z"
   },
   {
    "duration": 17,
    "start_time": "2023-01-21T17:21:56.302Z"
   },
   {
    "duration": 41,
    "start_time": "2023-01-21T17:21:56.320Z"
   },
   {
    "duration": 41,
    "start_time": "2023-01-21T17:21:56.364Z"
   },
   {
    "duration": 27,
    "start_time": "2023-01-21T17:21:56.406Z"
   },
   {
    "duration": 12,
    "start_time": "2023-01-21T17:21:56.435Z"
   },
   {
    "duration": 18,
    "start_time": "2023-01-21T17:21:56.449Z"
   },
   {
    "duration": 27,
    "start_time": "2023-01-21T17:21:56.468Z"
   },
   {
    "duration": 13,
    "start_time": "2023-01-21T17:21:56.497Z"
   },
   {
    "duration": 18,
    "start_time": "2023-01-21T17:21:56.512Z"
   },
   {
    "duration": 16,
    "start_time": "2023-01-21T17:21:56.532Z"
   },
   {
    "duration": 14,
    "start_time": "2023-01-21T17:21:56.549Z"
   },
   {
    "duration": 21,
    "start_time": "2023-01-21T17:21:56.565Z"
   },
   {
    "duration": 18,
    "start_time": "2023-01-21T17:21:56.588Z"
   },
   {
    "duration": 22,
    "start_time": "2023-01-21T17:21:56.608Z"
   },
   {
    "duration": 31,
    "start_time": "2023-01-21T17:21:56.631Z"
   },
   {
    "duration": 21,
    "start_time": "2023-01-21T17:21:56.664Z"
   },
   {
    "duration": 23,
    "start_time": "2023-01-21T17:21:56.687Z"
   },
   {
    "duration": 17,
    "start_time": "2023-01-21T17:21:56.712Z"
   },
   {
    "duration": 9,
    "start_time": "2023-01-21T17:21:56.731Z"
   },
   {
    "duration": 11,
    "start_time": "2023-01-21T17:21:56.741Z"
   },
   {
    "duration": 11,
    "start_time": "2023-01-21T17:21:56.754Z"
   },
   {
    "duration": 9,
    "start_time": "2023-01-21T17:21:56.767Z"
   },
   {
    "duration": 32,
    "start_time": "2023-01-21T17:21:56.778Z"
   },
   {
    "duration": 10,
    "start_time": "2023-01-21T17:21:56.811Z"
   },
   {
    "duration": 10,
    "start_time": "2023-01-21T17:21:56.822Z"
   },
   {
    "duration": 11,
    "start_time": "2023-01-21T17:21:56.834Z"
   },
   {
    "duration": 53,
    "start_time": "2023-01-21T17:25:32.678Z"
   },
   {
    "duration": 49,
    "start_time": "2023-01-21T17:25:49.407Z"
   },
   {
    "duration": 1507,
    "start_time": "2023-01-22T11:13:59.286Z"
   },
   {
    "duration": 848,
    "start_time": "2023-01-22T11:14:00.796Z"
   },
   {
    "duration": 18,
    "start_time": "2023-01-22T11:14:01.646Z"
   },
   {
    "duration": 30,
    "start_time": "2023-01-22T11:14:01.666Z"
   },
   {
    "duration": 26,
    "start_time": "2023-01-22T11:14:01.699Z"
   },
   {
    "duration": 88,
    "start_time": "2023-01-22T11:14:01.727Z"
   },
   {
    "duration": 71,
    "start_time": "2023-01-22T11:14:01.817Z"
   },
   {
    "duration": 94,
    "start_time": "2023-01-22T11:14:01.890Z"
   },
   {
    "duration": 23,
    "start_time": "2023-01-22T11:14:01.986Z"
   },
   {
    "duration": 93,
    "start_time": "2023-01-22T11:14:02.011Z"
   },
   {
    "duration": 13,
    "start_time": "2023-01-22T11:14:02.106Z"
   },
   {
    "duration": 22,
    "start_time": "2023-01-22T11:14:02.120Z"
   },
   {
    "duration": 29,
    "start_time": "2023-01-22T11:14:02.143Z"
   },
   {
    "duration": 253,
    "start_time": "2023-01-22T11:14:02.175Z"
   },
   {
    "duration": 12,
    "start_time": "2023-01-22T11:14:02.429Z"
   },
   {
    "duration": 16,
    "start_time": "2023-01-22T11:14:02.443Z"
   },
   {
    "duration": 32,
    "start_time": "2023-01-22T11:14:02.461Z"
   },
   {
    "duration": 19,
    "start_time": "2023-01-22T11:14:02.494Z"
   },
   {
    "duration": 369,
    "start_time": "2023-01-22T11:14:02.516Z"
   },
   {
    "duration": 15,
    "start_time": "2023-01-22T11:14:02.887Z"
   },
   {
    "duration": 28,
    "start_time": "2023-01-22T11:14:02.904Z"
   },
   {
    "duration": 15,
    "start_time": "2023-01-22T11:14:02.934Z"
   },
   {
    "duration": 12,
    "start_time": "2023-01-22T11:14:02.950Z"
   },
   {
    "duration": 58,
    "start_time": "2023-01-22T11:14:02.965Z"
   },
   {
    "duration": 124,
    "start_time": "2023-01-22T11:14:03.025Z"
   },
   {
    "duration": 10,
    "start_time": "2023-01-22T11:14:03.151Z"
   },
   {
    "duration": 41,
    "start_time": "2023-01-22T11:14:03.162Z"
   },
   {
    "duration": 100,
    "start_time": "2023-01-22T11:14:03.205Z"
   },
   {
    "duration": 390,
    "start_time": "2023-01-22T11:14:03.307Z"
   },
   {
    "duration": 13,
    "start_time": "2023-01-22T11:14:03.699Z"
   },
   {
    "duration": 29,
    "start_time": "2023-01-22T11:14:03.714Z"
   },
   {
    "duration": 96,
    "start_time": "2023-01-22T11:14:03.745Z"
   },
   {
    "duration": 96,
    "start_time": "2023-01-22T11:14:03.843Z"
   },
   {
    "duration": 60,
    "start_time": "2023-01-22T11:14:03.941Z"
   },
   {
    "duration": 4,
    "start_time": "2023-01-22T11:14:04.003Z"
   },
   {
    "duration": 39,
    "start_time": "2023-01-22T11:14:04.008Z"
   },
   {
    "duration": 7,
    "start_time": "2023-01-22T11:14:04.048Z"
   },
   {
    "duration": 15,
    "start_time": "2023-01-22T11:14:04.056Z"
   },
   {
    "duration": 14,
    "start_time": "2023-01-22T11:14:04.073Z"
   },
   {
    "duration": 11,
    "start_time": "2023-01-22T11:14:04.089Z"
   },
   {
    "duration": 9,
    "start_time": "2023-01-22T11:14:04.104Z"
   },
   {
    "duration": 28,
    "start_time": "2023-01-22T11:14:04.114Z"
   },
   {
    "duration": 7,
    "start_time": "2023-01-22T11:14:04.144Z"
   },
   {
    "duration": 7,
    "start_time": "2023-01-22T11:14:04.153Z"
   },
   {
    "duration": 7,
    "start_time": "2023-01-22T11:14:04.162Z"
   },
   {
    "duration": 10,
    "start_time": "2023-01-22T11:14:04.171Z"
   },
   {
    "duration": 10,
    "start_time": "2023-01-22T11:14:04.182Z"
   },
   {
    "duration": 8,
    "start_time": "2023-01-22T11:14:04.193Z"
   },
   {
    "duration": 40,
    "start_time": "2023-01-22T11:14:04.203Z"
   },
   {
    "duration": 7,
    "start_time": "2023-01-22T11:14:04.245Z"
   },
   {
    "duration": 13,
    "start_time": "2023-01-22T11:14:04.254Z"
   },
   {
    "duration": 20,
    "start_time": "2023-01-22T11:14:04.268Z"
   },
   {
    "duration": 13,
    "start_time": "2023-01-22T11:14:04.290Z"
   },
   {
    "duration": 14,
    "start_time": "2023-01-22T11:14:04.305Z"
   },
   {
    "duration": 10,
    "start_time": "2023-01-22T11:14:04.339Z"
   },
   {
    "duration": 15,
    "start_time": "2023-01-22T11:14:04.350Z"
   },
   {
    "duration": 7,
    "start_time": "2023-01-22T11:14:04.366Z"
   },
   {
    "duration": 13,
    "start_time": "2023-01-22T11:14:04.375Z"
   },
   {
    "duration": 11,
    "start_time": "2023-01-22T11:14:04.390Z"
   },
   {
    "duration": 9,
    "start_time": "2023-01-22T11:14:04.403Z"
   },
   {
    "duration": 7,
    "start_time": "2023-01-22T11:14:04.439Z"
   },
   {
    "duration": 9,
    "start_time": "2023-01-22T11:14:04.448Z"
   },
   {
    "duration": 10,
    "start_time": "2023-01-22T11:14:04.459Z"
   },
   {
    "duration": 13,
    "start_time": "2023-01-22T11:14:04.470Z"
   },
   {
    "duration": 11,
    "start_time": "2023-01-22T11:14:04.485Z"
   },
   {
    "duration": 8,
    "start_time": "2023-01-22T11:14:04.498Z"
   },
   {
    "duration": 38,
    "start_time": "2023-01-22T11:14:04.508Z"
   },
   {
    "duration": 8,
    "start_time": "2023-01-22T11:14:04.548Z"
   },
   {
    "duration": 10,
    "start_time": "2023-01-22T11:14:04.558Z"
   },
   {
    "duration": 4,
    "start_time": "2023-01-22T11:17:47.468Z"
   },
   {
    "duration": 3,
    "start_time": "2023-01-22T11:18:07.583Z"
   },
   {
    "duration": 4,
    "start_time": "2023-01-22T11:18:17.166Z"
   },
   {
    "duration": 175,
    "start_time": "2023-01-22T11:24:42.886Z"
   },
   {
    "duration": 6,
    "start_time": "2023-01-22T11:29:53.514Z"
   },
   {
    "duration": 4,
    "start_time": "2023-01-22T11:30:57.620Z"
   },
   {
    "duration": 6,
    "start_time": "2023-01-22T11:31:29.222Z"
   },
   {
    "duration": 5,
    "start_time": "2023-01-22T11:32:13.885Z"
   },
   {
    "duration": 5,
    "start_time": "2023-01-22T11:40:57.903Z"
   },
   {
    "duration": 209,
    "start_time": "2023-01-22T11:40:57.910Z"
   },
   {
    "duration": 21,
    "start_time": "2023-01-22T11:40:58.120Z"
   },
   {
    "duration": 21,
    "start_time": "2023-01-22T11:40:58.142Z"
   },
   {
    "duration": 4,
    "start_time": "2023-01-22T11:40:58.166Z"
   },
   {
    "duration": 86,
    "start_time": "2023-01-22T11:40:58.171Z"
   },
   {
    "duration": 75,
    "start_time": "2023-01-22T11:40:58.259Z"
   },
   {
    "duration": 85,
    "start_time": "2023-01-22T11:40:58.335Z"
   },
   {
    "duration": 38,
    "start_time": "2023-01-22T11:40:58.421Z"
   },
   {
    "duration": 58,
    "start_time": "2023-01-22T11:40:58.461Z"
   },
   {
    "duration": 26,
    "start_time": "2023-01-22T11:40:58.525Z"
   },
   {
    "duration": 11,
    "start_time": "2023-01-22T11:40:58.553Z"
   },
   {
    "duration": 32,
    "start_time": "2023-01-22T11:40:58.566Z"
   },
   {
    "duration": 273,
    "start_time": "2023-01-22T11:40:58.601Z"
   },
   {
    "duration": 6,
    "start_time": "2023-01-22T11:40:58.875Z"
   },
   {
    "duration": 10,
    "start_time": "2023-01-22T11:40:58.883Z"
   },
   {
    "duration": 35,
    "start_time": "2023-01-22T11:40:58.895Z"
   },
   {
    "duration": 51,
    "start_time": "2023-01-22T11:40:58.932Z"
   },
   {
    "duration": 480,
    "start_time": "2023-01-22T11:40:58.985Z"
   },
   {
    "duration": 14,
    "start_time": "2023-01-22T11:40:59.467Z"
   },
   {
    "duration": 11,
    "start_time": "2023-01-22T11:40:59.483Z"
   },
   {
    "duration": 14,
    "start_time": "2023-01-22T11:40:59.496Z"
   },
   {
    "duration": 30,
    "start_time": "2023-01-22T11:40:59.512Z"
   },
   {
    "duration": 61,
    "start_time": "2023-01-22T11:40:59.544Z"
   },
   {
    "duration": 147,
    "start_time": "2023-01-22T11:40:59.606Z"
   },
   {
    "duration": 16,
    "start_time": "2023-01-22T11:40:59.756Z"
   },
   {
    "duration": 51,
    "start_time": "2023-01-22T11:40:59.774Z"
   },
   {
    "duration": 24,
    "start_time": "2023-01-22T11:40:59.827Z"
   },
   {
    "duration": 55,
    "start_time": "2023-01-22T11:40:59.853Z"
   },
   {
    "duration": 14,
    "start_time": "2023-01-22T11:40:59.910Z"
   },
   {
    "duration": 6,
    "start_time": "2023-01-22T11:40:59.939Z"
   },
   {
    "duration": 53,
    "start_time": "2023-01-22T11:40:59.946Z"
   },
   {
    "duration": 103,
    "start_time": "2023-01-22T11:41:00.001Z"
   },
   {
    "duration": 66,
    "start_time": "2023-01-22T11:41:00.105Z"
   },
   {
    "duration": 13,
    "start_time": "2023-01-22T11:41:00.173Z"
   },
   {
    "duration": 35,
    "start_time": "2023-01-22T11:41:00.187Z"
   },
   {
    "duration": 14,
    "start_time": "2023-01-22T11:41:00.224Z"
   },
   {
    "duration": 75,
    "start_time": "2023-01-22T11:41:00.240Z"
   },
   {
    "duration": 0,
    "start_time": "2023-01-22T11:41:00.317Z"
   },
   {
    "duration": 0,
    "start_time": "2023-01-22T11:41:00.318Z"
   },
   {
    "duration": 0,
    "start_time": "2023-01-22T11:41:00.319Z"
   },
   {
    "duration": 0,
    "start_time": "2023-01-22T11:41:00.320Z"
   },
   {
    "duration": 0,
    "start_time": "2023-01-22T11:41:00.322Z"
   },
   {
    "duration": 0,
    "start_time": "2023-01-22T11:41:00.323Z"
   },
   {
    "duration": 0,
    "start_time": "2023-01-22T11:41:00.324Z"
   },
   {
    "duration": 0,
    "start_time": "2023-01-22T11:41:00.325Z"
   },
   {
    "duration": 0,
    "start_time": "2023-01-22T11:41:00.326Z"
   },
   {
    "duration": 0,
    "start_time": "2023-01-22T11:41:00.328Z"
   },
   {
    "duration": 0,
    "start_time": "2023-01-22T11:41:00.340Z"
   },
   {
    "duration": 0,
    "start_time": "2023-01-22T11:41:00.342Z"
   },
   {
    "duration": 0,
    "start_time": "2023-01-22T11:41:00.343Z"
   },
   {
    "duration": 0,
    "start_time": "2023-01-22T11:41:00.344Z"
   },
   {
    "duration": 0,
    "start_time": "2023-01-22T11:41:00.345Z"
   },
   {
    "duration": 0,
    "start_time": "2023-01-22T11:41:00.346Z"
   },
   {
    "duration": 0,
    "start_time": "2023-01-22T11:41:00.347Z"
   },
   {
    "duration": 0,
    "start_time": "2023-01-22T11:41:00.348Z"
   },
   {
    "duration": 0,
    "start_time": "2023-01-22T11:41:00.349Z"
   },
   {
    "duration": 0,
    "start_time": "2023-01-22T11:41:00.351Z"
   },
   {
    "duration": 0,
    "start_time": "2023-01-22T11:41:00.352Z"
   },
   {
    "duration": 0,
    "start_time": "2023-01-22T11:41:00.353Z"
   },
   {
    "duration": 0,
    "start_time": "2023-01-22T11:41:00.354Z"
   },
   {
    "duration": 0,
    "start_time": "2023-01-22T11:41:00.355Z"
   },
   {
    "duration": 1,
    "start_time": "2023-01-22T11:41:00.356Z"
   },
   {
    "duration": 0,
    "start_time": "2023-01-22T11:41:00.358Z"
   },
   {
    "duration": 0,
    "start_time": "2023-01-22T11:41:00.359Z"
   },
   {
    "duration": 0,
    "start_time": "2023-01-22T11:41:00.360Z"
   },
   {
    "duration": 0,
    "start_time": "2023-01-22T11:41:00.360Z"
   },
   {
    "duration": 0,
    "start_time": "2023-01-22T11:41:00.361Z"
   },
   {
    "duration": 0,
    "start_time": "2023-01-22T11:41:00.363Z"
   },
   {
    "duration": 0,
    "start_time": "2023-01-22T11:41:00.364Z"
   },
   {
    "duration": 47,
    "start_time": "2023-01-22T12:11:28.885Z"
   },
   {
    "duration": 50,
    "start_time": "2023-01-22T12:11:36.654Z"
   },
   {
    "duration": 8,
    "start_time": "2023-01-22T12:14:17.536Z"
   },
   {
    "duration": 4,
    "start_time": "2023-01-22T12:15:33.093Z"
   },
   {
    "duration": 192,
    "start_time": "2023-01-22T12:15:33.099Z"
   },
   {
    "duration": 15,
    "start_time": "2023-01-22T12:15:33.293Z"
   },
   {
    "duration": 39,
    "start_time": "2023-01-22T12:15:33.310Z"
   },
   {
    "duration": 26,
    "start_time": "2023-01-22T12:15:33.352Z"
   },
   {
    "duration": 87,
    "start_time": "2023-01-22T12:15:33.380Z"
   },
   {
    "duration": 63,
    "start_time": "2023-01-22T12:15:33.469Z"
   },
   {
    "duration": 103,
    "start_time": "2023-01-22T12:15:33.540Z"
   },
   {
    "duration": 30,
    "start_time": "2023-01-22T12:15:33.646Z"
   },
   {
    "duration": 106,
    "start_time": "2023-01-22T12:15:33.678Z"
   },
   {
    "duration": 15,
    "start_time": "2023-01-22T12:15:33.786Z"
   },
   {
    "duration": 30,
    "start_time": "2023-01-22T12:15:33.803Z"
   },
   {
    "duration": 57,
    "start_time": "2023-01-22T12:15:33.835Z"
   },
   {
    "duration": 234,
    "start_time": "2023-01-22T12:15:33.896Z"
   },
   {
    "duration": 5,
    "start_time": "2023-01-22T12:15:34.141Z"
   },
   {
    "duration": 12,
    "start_time": "2023-01-22T12:15:34.147Z"
   },
   {
    "duration": 42,
    "start_time": "2023-01-22T12:15:34.160Z"
   },
   {
    "duration": 48,
    "start_time": "2023-01-22T12:15:34.204Z"
   },
   {
    "duration": 274,
    "start_time": "2023-01-22T12:15:34.254Z"
   },
   {
    "duration": 20,
    "start_time": "2023-01-22T12:15:34.530Z"
   },
   {
    "duration": 20,
    "start_time": "2023-01-22T12:15:34.551Z"
   },
   {
    "duration": 32,
    "start_time": "2023-01-22T12:15:34.573Z"
   },
   {
    "duration": 18,
    "start_time": "2023-01-22T12:15:34.607Z"
   },
   {
    "duration": 67,
    "start_time": "2023-01-22T12:15:34.627Z"
   },
   {
    "duration": 107,
    "start_time": "2023-01-22T12:15:34.695Z"
   },
   {
    "duration": 9,
    "start_time": "2023-01-22T12:15:34.804Z"
   },
   {
    "duration": 49,
    "start_time": "2023-01-22T12:15:34.815Z"
   },
   {
    "duration": 14,
    "start_time": "2023-01-22T12:15:34.866Z"
   },
   {
    "duration": 57,
    "start_time": "2023-01-22T12:15:34.881Z"
   },
   {
    "duration": 13,
    "start_time": "2023-01-22T12:15:34.939Z"
   },
   {
    "duration": 15,
    "start_time": "2023-01-22T12:15:34.954Z"
   },
   {
    "duration": 43,
    "start_time": "2023-01-22T12:15:34.971Z"
   },
   {
    "duration": 91,
    "start_time": "2023-01-22T12:15:35.016Z"
   },
   {
    "duration": 67,
    "start_time": "2023-01-22T12:15:35.109Z"
   },
   {
    "duration": 4,
    "start_time": "2023-01-22T12:15:35.178Z"
   },
   {
    "duration": 46,
    "start_time": "2023-01-22T12:15:35.183Z"
   },
   {
    "duration": 33,
    "start_time": "2023-01-22T12:15:35.230Z"
   },
   {
    "duration": 36,
    "start_time": "2023-01-22T12:15:35.265Z"
   },
   {
    "duration": 90,
    "start_time": "2023-01-22T12:15:35.303Z"
   },
   {
    "duration": 718,
    "start_time": "2023-01-22T12:15:35.395Z"
   },
   {
    "duration": 0,
    "start_time": "2023-01-22T12:15:36.116Z"
   },
   {
    "duration": 0,
    "start_time": "2023-01-22T12:15:36.120Z"
   },
   {
    "duration": 0,
    "start_time": "2023-01-22T12:15:36.121Z"
   },
   {
    "duration": 0,
    "start_time": "2023-01-22T12:15:36.122Z"
   },
   {
    "duration": 0,
    "start_time": "2023-01-22T12:15:36.123Z"
   },
   {
    "duration": 1,
    "start_time": "2023-01-22T12:15:36.124Z"
   },
   {
    "duration": 0,
    "start_time": "2023-01-22T12:15:36.126Z"
   },
   {
    "duration": 0,
    "start_time": "2023-01-22T12:15:36.127Z"
   },
   {
    "duration": 0,
    "start_time": "2023-01-22T12:15:36.128Z"
   },
   {
    "duration": 0,
    "start_time": "2023-01-22T12:15:36.129Z"
   },
   {
    "duration": 0,
    "start_time": "2023-01-22T12:15:36.130Z"
   },
   {
    "duration": 0,
    "start_time": "2023-01-22T12:15:36.131Z"
   },
   {
    "duration": 0,
    "start_time": "2023-01-22T12:15:36.132Z"
   },
   {
    "duration": 0,
    "start_time": "2023-01-22T12:15:36.133Z"
   },
   {
    "duration": 0,
    "start_time": "2023-01-22T12:15:36.134Z"
   },
   {
    "duration": 0,
    "start_time": "2023-01-22T12:15:36.135Z"
   },
   {
    "duration": 0,
    "start_time": "2023-01-22T12:15:36.136Z"
   },
   {
    "duration": 0,
    "start_time": "2023-01-22T12:15:36.137Z"
   },
   {
    "duration": 0,
    "start_time": "2023-01-22T12:15:36.138Z"
   },
   {
    "duration": 0,
    "start_time": "2023-01-22T12:15:36.140Z"
   },
   {
    "duration": 0,
    "start_time": "2023-01-22T12:15:36.140Z"
   },
   {
    "duration": 0,
    "start_time": "2023-01-22T12:15:36.141Z"
   },
   {
    "duration": 0,
    "start_time": "2023-01-22T12:15:36.142Z"
   },
   {
    "duration": 0,
    "start_time": "2023-01-22T12:15:36.144Z"
   },
   {
    "duration": 0,
    "start_time": "2023-01-22T12:15:36.144Z"
   },
   {
    "duration": 0,
    "start_time": "2023-01-22T12:15:36.145Z"
   },
   {
    "duration": 0,
    "start_time": "2023-01-22T12:15:36.146Z"
   },
   {
    "duration": 0,
    "start_time": "2023-01-22T12:15:36.148Z"
   },
   {
    "duration": 0,
    "start_time": "2023-01-22T12:15:36.149Z"
   },
   {
    "duration": 0,
    "start_time": "2023-01-22T12:15:36.150Z"
   },
   {
    "duration": 0,
    "start_time": "2023-01-22T12:15:36.151Z"
   },
   {
    "duration": 7,
    "start_time": "2023-01-22T12:16:18.257Z"
   },
   {
    "duration": 6,
    "start_time": "2023-01-22T12:16:21.840Z"
   },
   {
    "duration": 218,
    "start_time": "2023-01-22T12:16:21.849Z"
   },
   {
    "duration": 13,
    "start_time": "2023-01-22T12:16:22.069Z"
   },
   {
    "duration": 65,
    "start_time": "2023-01-22T12:16:22.084Z"
   },
   {
    "duration": 4,
    "start_time": "2023-01-22T12:16:22.152Z"
   },
   {
    "duration": 81,
    "start_time": "2023-01-22T12:16:22.157Z"
   },
   {
    "duration": 59,
    "start_time": "2023-01-22T12:16:22.240Z"
   },
   {
    "duration": 100,
    "start_time": "2023-01-22T12:16:22.301Z"
   },
   {
    "duration": 27,
    "start_time": "2023-01-22T12:16:22.403Z"
   },
   {
    "duration": 81,
    "start_time": "2023-01-22T12:16:22.431Z"
   },
   {
    "duration": 15,
    "start_time": "2023-01-22T12:16:22.514Z"
   },
   {
    "duration": 71,
    "start_time": "2023-01-22T12:16:22.531Z"
   },
   {
    "duration": 67,
    "start_time": "2023-01-22T12:16:22.604Z"
   },
   {
    "duration": 332,
    "start_time": "2023-01-22T12:16:22.675Z"
   },
   {
    "duration": 5,
    "start_time": "2023-01-22T12:16:23.009Z"
   },
   {
    "duration": 47,
    "start_time": "2023-01-22T12:16:23.015Z"
   },
   {
    "duration": 42,
    "start_time": "2023-01-22T12:16:23.064Z"
   },
   {
    "duration": 57,
    "start_time": "2023-01-22T12:16:23.108Z"
   },
   {
    "duration": 300,
    "start_time": "2023-01-22T12:16:23.167Z"
   },
   {
    "duration": 11,
    "start_time": "2023-01-22T12:16:23.469Z"
   },
   {
    "duration": 27,
    "start_time": "2023-01-22T12:16:23.482Z"
   },
   {
    "duration": 56,
    "start_time": "2023-01-22T12:16:23.511Z"
   },
   {
    "duration": 36,
    "start_time": "2023-01-22T12:16:23.569Z"
   },
   {
    "duration": 79,
    "start_time": "2023-01-22T12:16:23.606Z"
   },
   {
    "duration": 125,
    "start_time": "2023-01-22T12:16:23.686Z"
   },
   {
    "duration": 9,
    "start_time": "2023-01-22T12:16:23.813Z"
   },
   {
    "duration": 134,
    "start_time": "2023-01-22T12:16:23.824Z"
   },
   {
    "duration": 63,
    "start_time": "2023-01-22T12:16:23.959Z"
   },
   {
    "duration": 107,
    "start_time": "2023-01-22T12:16:24.023Z"
   },
   {
    "duration": 41,
    "start_time": "2023-01-22T12:16:24.132Z"
   },
   {
    "duration": 74,
    "start_time": "2023-01-22T12:16:24.174Z"
   },
   {
    "duration": 75,
    "start_time": "2023-01-22T12:16:24.249Z"
   },
   {
    "duration": 82,
    "start_time": "2023-01-22T12:16:24.325Z"
   },
   {
    "duration": 56,
    "start_time": "2023-01-22T12:16:24.409Z"
   },
   {
    "duration": 33,
    "start_time": "2023-01-22T12:16:24.467Z"
   },
   {
    "duration": 74,
    "start_time": "2023-01-22T12:16:24.501Z"
   },
   {
    "duration": 67,
    "start_time": "2023-01-22T12:16:24.576Z"
   },
   {
    "duration": 80,
    "start_time": "2023-01-22T12:16:24.645Z"
   },
   {
    "duration": 112,
    "start_time": "2023-01-22T12:16:24.727Z"
   },
   {
    "duration": 752,
    "start_time": "2023-01-22T12:16:24.841Z"
   },
   {
    "duration": 0,
    "start_time": "2023-01-22T12:16:25.596Z"
   },
   {
    "duration": 0,
    "start_time": "2023-01-22T12:16:25.597Z"
   },
   {
    "duration": 0,
    "start_time": "2023-01-22T12:16:25.598Z"
   },
   {
    "duration": 0,
    "start_time": "2023-01-22T12:16:25.600Z"
   },
   {
    "duration": 0,
    "start_time": "2023-01-22T12:16:25.601Z"
   },
   {
    "duration": 0,
    "start_time": "2023-01-22T12:16:25.603Z"
   },
   {
    "duration": 0,
    "start_time": "2023-01-22T12:16:25.604Z"
   },
   {
    "duration": 0,
    "start_time": "2023-01-22T12:16:25.606Z"
   },
   {
    "duration": 0,
    "start_time": "2023-01-22T12:16:25.607Z"
   },
   {
    "duration": 0,
    "start_time": "2023-01-22T12:16:25.609Z"
   },
   {
    "duration": 0,
    "start_time": "2023-01-22T12:16:25.610Z"
   },
   {
    "duration": 0,
    "start_time": "2023-01-22T12:16:25.612Z"
   },
   {
    "duration": 0,
    "start_time": "2023-01-22T12:16:25.613Z"
   },
   {
    "duration": 0,
    "start_time": "2023-01-22T12:16:25.614Z"
   },
   {
    "duration": 0,
    "start_time": "2023-01-22T12:16:25.616Z"
   },
   {
    "duration": 0,
    "start_time": "2023-01-22T12:16:25.617Z"
   },
   {
    "duration": 0,
    "start_time": "2023-01-22T12:16:25.618Z"
   },
   {
    "duration": 0,
    "start_time": "2023-01-22T12:16:25.619Z"
   },
   {
    "duration": 0,
    "start_time": "2023-01-22T12:16:25.620Z"
   },
   {
    "duration": 0,
    "start_time": "2023-01-22T12:16:25.622Z"
   },
   {
    "duration": 0,
    "start_time": "2023-01-22T12:16:25.623Z"
   },
   {
    "duration": 0,
    "start_time": "2023-01-22T12:16:25.624Z"
   },
   {
    "duration": 0,
    "start_time": "2023-01-22T12:16:25.625Z"
   },
   {
    "duration": 0,
    "start_time": "2023-01-22T12:16:25.627Z"
   },
   {
    "duration": 0,
    "start_time": "2023-01-22T12:16:25.628Z"
   },
   {
    "duration": 0,
    "start_time": "2023-01-22T12:16:25.628Z"
   },
   {
    "duration": 0,
    "start_time": "2023-01-22T12:16:25.630Z"
   },
   {
    "duration": 0,
    "start_time": "2023-01-22T12:16:25.631Z"
   },
   {
    "duration": 0,
    "start_time": "2023-01-22T12:16:25.633Z"
   },
   {
    "duration": 0,
    "start_time": "2023-01-22T12:16:25.640Z"
   },
   {
    "duration": 0,
    "start_time": "2023-01-22T12:16:25.641Z"
   },
   {
    "duration": 687,
    "start_time": "2023-01-22T12:18:03.661Z"
   },
   {
    "duration": 6,
    "start_time": "2023-01-22T12:19:08.157Z"
   },
   {
    "duration": 4,
    "start_time": "2023-01-22T12:19:09.728Z"
   },
   {
    "duration": 188,
    "start_time": "2023-01-22T12:19:09.733Z"
   },
   {
    "duration": 21,
    "start_time": "2023-01-22T12:19:09.923Z"
   },
   {
    "duration": 21,
    "start_time": "2023-01-22T12:19:09.945Z"
   },
   {
    "duration": 2,
    "start_time": "2023-01-22T12:19:09.969Z"
   },
   {
    "duration": 79,
    "start_time": "2023-01-22T12:19:09.973Z"
   },
   {
    "duration": 55,
    "start_time": "2023-01-22T12:19:10.054Z"
   },
   {
    "duration": 108,
    "start_time": "2023-01-22T12:19:10.111Z"
   },
   {
    "duration": 35,
    "start_time": "2023-01-22T12:19:10.220Z"
   },
   {
    "duration": 72,
    "start_time": "2023-01-22T12:19:10.257Z"
   },
   {
    "duration": 23,
    "start_time": "2023-01-22T12:19:10.330Z"
   },
   {
    "duration": 22,
    "start_time": "2023-01-22T12:19:10.354Z"
   },
   {
    "duration": 38,
    "start_time": "2023-01-22T12:19:10.378Z"
   },
   {
    "duration": 216,
    "start_time": "2023-01-22T12:19:10.419Z"
   },
   {
    "duration": 5,
    "start_time": "2023-01-22T12:19:10.640Z"
   },
   {
    "duration": 20,
    "start_time": "2023-01-22T12:19:10.647Z"
   },
   {
    "duration": 42,
    "start_time": "2023-01-22T12:19:10.669Z"
   },
   {
    "duration": 24,
    "start_time": "2023-01-22T12:19:10.713Z"
   },
   {
    "duration": 359,
    "start_time": "2023-01-22T12:19:10.739Z"
   },
   {
    "duration": 12,
    "start_time": "2023-01-22T12:19:11.101Z"
   },
   {
    "duration": 26,
    "start_time": "2023-01-22T12:19:11.115Z"
   },
   {
    "duration": 14,
    "start_time": "2023-01-22T12:19:11.143Z"
   },
   {
    "duration": 4,
    "start_time": "2023-01-22T12:19:11.159Z"
   },
   {
    "duration": 48,
    "start_time": "2023-01-22T12:19:11.166Z"
   },
   {
    "duration": 128,
    "start_time": "2023-01-22T12:19:11.216Z"
   },
   {
    "duration": 11,
    "start_time": "2023-01-22T12:19:11.346Z"
   },
   {
    "duration": 52,
    "start_time": "2023-01-22T12:19:11.359Z"
   },
   {
    "duration": 11,
    "start_time": "2023-01-22T12:19:11.413Z"
   },
   {
    "duration": 55,
    "start_time": "2023-01-22T12:19:11.426Z"
   },
   {
    "duration": 15,
    "start_time": "2023-01-22T12:19:11.483Z"
   },
   {
    "duration": 9,
    "start_time": "2023-01-22T12:19:11.500Z"
   },
   {
    "duration": 65,
    "start_time": "2023-01-22T12:19:11.512Z"
   },
   {
    "duration": 88,
    "start_time": "2023-01-22T12:19:11.579Z"
   },
   {
    "duration": 54,
    "start_time": "2023-01-22T12:19:11.669Z"
   },
   {
    "duration": 16,
    "start_time": "2023-01-22T12:19:11.725Z"
   },
   {
    "duration": 17,
    "start_time": "2023-01-22T12:19:11.743Z"
   },
   {
    "duration": 7,
    "start_time": "2023-01-22T12:19:11.762Z"
   },
   {
    "duration": 13,
    "start_time": "2023-01-22T12:19:11.770Z"
   },
   {
    "duration": 68,
    "start_time": "2023-01-22T12:19:11.784Z"
   },
   {
    "duration": 6,
    "start_time": "2023-01-22T12:19:11.854Z"
   },
   {
    "duration": 8,
    "start_time": "2023-01-22T12:19:11.865Z"
   },
   {
    "duration": 17,
    "start_time": "2023-01-22T12:19:11.874Z"
   },
   {
    "duration": 8,
    "start_time": "2023-01-22T12:19:11.893Z"
   },
   {
    "duration": 12,
    "start_time": "2023-01-22T12:19:11.903Z"
   },
   {
    "duration": 28,
    "start_time": "2023-01-22T12:19:11.917Z"
   },
   {
    "duration": 13,
    "start_time": "2023-01-22T12:19:11.947Z"
   },
   {
    "duration": 7,
    "start_time": "2023-01-22T12:19:11.962Z"
   },
   {
    "duration": 10,
    "start_time": "2023-01-22T12:19:11.970Z"
   },
   {
    "duration": 9,
    "start_time": "2023-01-22T12:19:11.981Z"
   },
   {
    "duration": 9,
    "start_time": "2023-01-22T12:19:11.991Z"
   },
   {
    "duration": 8,
    "start_time": "2023-01-22T12:19:12.001Z"
   },
   {
    "duration": 40,
    "start_time": "2023-01-22T12:19:12.010Z"
   },
   {
    "duration": 10,
    "start_time": "2023-01-22T12:19:12.052Z"
   },
   {
    "duration": 8,
    "start_time": "2023-01-22T12:19:12.063Z"
   },
   {
    "duration": 11,
    "start_time": "2023-01-22T12:19:12.073Z"
   },
   {
    "duration": 8,
    "start_time": "2023-01-22T12:19:12.085Z"
   },
   {
    "duration": 8,
    "start_time": "2023-01-22T12:19:12.095Z"
   },
   {
    "duration": 37,
    "start_time": "2023-01-22T12:19:12.105Z"
   },
   {
    "duration": 13,
    "start_time": "2023-01-22T12:19:12.144Z"
   },
   {
    "duration": 14,
    "start_time": "2023-01-22T12:19:12.158Z"
   },
   {
    "duration": 8,
    "start_time": "2023-01-22T12:19:12.173Z"
   },
   {
    "duration": 6,
    "start_time": "2023-01-22T12:19:12.183Z"
   },
   {
    "duration": 8,
    "start_time": "2023-01-22T12:19:12.191Z"
   },
   {
    "duration": 11,
    "start_time": "2023-01-22T12:19:12.200Z"
   },
   {
    "duration": 33,
    "start_time": "2023-01-22T12:19:12.212Z"
   },
   {
    "duration": 45,
    "start_time": "2023-01-22T12:19:12.247Z"
   },
   {
    "duration": 0,
    "start_time": "2023-01-22T12:19:12.293Z"
   },
   {
    "duration": 0,
    "start_time": "2023-01-22T12:19:12.295Z"
   },
   {
    "duration": 0,
    "start_time": "2023-01-22T12:19:12.296Z"
   },
   {
    "duration": 0,
    "start_time": "2023-01-22T12:19:12.297Z"
   },
   {
    "duration": 0,
    "start_time": "2023-01-22T12:19:12.298Z"
   },
   {
    "duration": 7,
    "start_time": "2023-01-22T12:32:21.808Z"
   },
   {
    "duration": 72,
    "start_time": "2023-01-22T12:32:28.777Z"
   },
   {
    "duration": 6,
    "start_time": "2023-01-22T12:33:27.789Z"
   },
   {
    "duration": 58,
    "start_time": "2023-01-22T12:33:30.575Z"
   },
   {
    "duration": 6,
    "start_time": "2023-01-22T12:33:52.629Z"
   },
   {
    "duration": 51,
    "start_time": "2023-01-22T12:33:55.774Z"
   },
   {
    "duration": 67,
    "start_time": "2023-01-22T12:34:25.695Z"
   },
   {
    "duration": 53,
    "start_time": "2023-01-22T12:34:48.117Z"
   },
   {
    "duration": 7,
    "start_time": "2023-01-22T12:34:54.999Z"
   },
   {
    "duration": 4,
    "start_time": "2023-01-22T12:35:03.227Z"
   },
   {
    "duration": 158,
    "start_time": "2023-01-22T12:35:03.234Z"
   },
   {
    "duration": 14,
    "start_time": "2023-01-22T12:35:03.393Z"
   },
   {
    "duration": 37,
    "start_time": "2023-01-22T12:35:03.409Z"
   },
   {
    "duration": 3,
    "start_time": "2023-01-22T12:35:03.449Z"
   },
   {
    "duration": 55,
    "start_time": "2023-01-22T12:35:03.454Z"
   },
   {
    "duration": 72,
    "start_time": "2023-01-22T12:35:03.511Z"
   },
   {
    "duration": 106,
    "start_time": "2023-01-22T12:35:03.585Z"
   },
   {
    "duration": 28,
    "start_time": "2023-01-22T12:35:03.693Z"
   },
   {
    "duration": 82,
    "start_time": "2023-01-22T12:35:03.723Z"
   },
   {
    "duration": 15,
    "start_time": "2023-01-22T12:35:03.807Z"
   },
   {
    "duration": 9,
    "start_time": "2023-01-22T12:35:03.840Z"
   },
   {
    "duration": 29,
    "start_time": "2023-01-22T12:35:03.850Z"
   },
   {
    "duration": 242,
    "start_time": "2023-01-22T12:35:03.882Z"
   },
   {
    "duration": 14,
    "start_time": "2023-01-22T12:35:04.126Z"
   },
   {
    "duration": 6,
    "start_time": "2023-01-22T12:35:04.141Z"
   },
   {
    "duration": 27,
    "start_time": "2023-01-22T12:35:04.148Z"
   },
   {
    "duration": 19,
    "start_time": "2023-01-22T12:35:04.177Z"
   },
   {
    "duration": 282,
    "start_time": "2023-01-22T12:35:04.198Z"
   },
   {
    "duration": 11,
    "start_time": "2023-01-22T12:35:04.482Z"
   },
   {
    "duration": 8,
    "start_time": "2023-01-22T12:35:04.495Z"
   },
   {
    "duration": 36,
    "start_time": "2023-01-22T12:35:04.505Z"
   },
   {
    "duration": 4,
    "start_time": "2023-01-22T12:35:04.543Z"
   },
   {
    "duration": 52,
    "start_time": "2023-01-22T12:35:04.549Z"
   },
   {
    "duration": 123,
    "start_time": "2023-01-22T12:35:04.603Z"
   },
   {
    "duration": 19,
    "start_time": "2023-01-22T12:35:04.728Z"
   },
   {
    "duration": 40,
    "start_time": "2023-01-22T12:35:04.749Z"
   },
   {
    "duration": 9,
    "start_time": "2023-01-22T12:35:04.791Z"
   },
   {
    "duration": 61,
    "start_time": "2023-01-22T12:35:04.802Z"
   },
   {
    "duration": 13,
    "start_time": "2023-01-22T12:35:04.866Z"
   },
   {
    "duration": 11,
    "start_time": "2023-01-22T12:35:04.880Z"
   },
   {
    "duration": 61,
    "start_time": "2023-01-22T12:35:04.892Z"
   },
   {
    "duration": 71,
    "start_time": "2023-01-22T12:35:04.954Z"
   },
   {
    "duration": 63,
    "start_time": "2023-01-22T12:35:05.027Z"
   },
   {
    "duration": 4,
    "start_time": "2023-01-22T12:35:05.093Z"
   },
   {
    "duration": 43,
    "start_time": "2023-01-22T12:35:05.099Z"
   },
   {
    "duration": 53,
    "start_time": "2023-01-22T12:35:05.143Z"
   },
   {
    "duration": 0,
    "start_time": "2023-01-22T12:35:05.198Z"
   },
   {
    "duration": 0,
    "start_time": "2023-01-22T12:35:05.200Z"
   },
   {
    "duration": 0,
    "start_time": "2023-01-22T12:35:05.201Z"
   },
   {
    "duration": 0,
    "start_time": "2023-01-22T12:35:05.202Z"
   },
   {
    "duration": 0,
    "start_time": "2023-01-22T12:35:05.204Z"
   },
   {
    "duration": 0,
    "start_time": "2023-01-22T12:35:05.206Z"
   },
   {
    "duration": 0,
    "start_time": "2023-01-22T12:35:05.207Z"
   },
   {
    "duration": 0,
    "start_time": "2023-01-22T12:35:05.208Z"
   },
   {
    "duration": 0,
    "start_time": "2023-01-22T12:35:05.211Z"
   },
   {
    "duration": 0,
    "start_time": "2023-01-22T12:35:05.212Z"
   },
   {
    "duration": 0,
    "start_time": "2023-01-22T12:35:05.214Z"
   },
   {
    "duration": 0,
    "start_time": "2023-01-22T12:35:05.215Z"
   },
   {
    "duration": 0,
    "start_time": "2023-01-22T12:35:05.217Z"
   },
   {
    "duration": 0,
    "start_time": "2023-01-22T12:35:05.218Z"
   },
   {
    "duration": 0,
    "start_time": "2023-01-22T12:35:05.220Z"
   },
   {
    "duration": 0,
    "start_time": "2023-01-22T12:35:05.222Z"
   },
   {
    "duration": 0,
    "start_time": "2023-01-22T12:35:05.223Z"
   },
   {
    "duration": 0,
    "start_time": "2023-01-22T12:35:05.225Z"
   },
   {
    "duration": 0,
    "start_time": "2023-01-22T12:35:05.227Z"
   },
   {
    "duration": 0,
    "start_time": "2023-01-22T12:35:05.227Z"
   },
   {
    "duration": 0,
    "start_time": "2023-01-22T12:35:05.240Z"
   },
   {
    "duration": 4,
    "start_time": "2023-01-22T12:35:29.267Z"
   },
   {
    "duration": 174,
    "start_time": "2023-01-22T12:35:29.274Z"
   },
   {
    "duration": 15,
    "start_time": "2023-01-22T12:35:29.450Z"
   },
   {
    "duration": 23,
    "start_time": "2023-01-22T12:35:29.467Z"
   },
   {
    "duration": 3,
    "start_time": "2023-01-22T12:35:29.492Z"
   },
   {
    "duration": 86,
    "start_time": "2023-01-22T12:35:29.497Z"
   },
   {
    "duration": 72,
    "start_time": "2023-01-22T12:35:29.584Z"
   },
   {
    "duration": 87,
    "start_time": "2023-01-22T12:35:29.658Z"
   },
   {
    "duration": 26,
    "start_time": "2023-01-22T12:35:29.747Z"
   },
   {
    "duration": 75,
    "start_time": "2023-01-22T12:35:29.775Z"
   },
   {
    "duration": 15,
    "start_time": "2023-01-22T12:35:29.852Z"
   },
   {
    "duration": 10,
    "start_time": "2023-01-22T12:35:29.869Z"
   },
   {
    "duration": 28,
    "start_time": "2023-01-22T12:35:29.881Z"
   },
   {
    "duration": 255,
    "start_time": "2023-01-22T12:35:29.912Z"
   },
   {
    "duration": 5,
    "start_time": "2023-01-22T12:35:30.169Z"
   },
   {
    "duration": 14,
    "start_time": "2023-01-22T12:35:30.176Z"
   },
   {
    "duration": 36,
    "start_time": "2023-01-22T12:35:30.191Z"
   },
   {
    "duration": 24,
    "start_time": "2023-01-22T12:35:30.229Z"
   },
   {
    "duration": 380,
    "start_time": "2023-01-22T12:35:30.254Z"
   },
   {
    "duration": 11,
    "start_time": "2023-01-22T12:35:30.639Z"
   },
   {
    "duration": 26,
    "start_time": "2023-01-22T12:35:30.652Z"
   },
   {
    "duration": 26,
    "start_time": "2023-01-22T12:35:30.680Z"
   },
   {
    "duration": 18,
    "start_time": "2023-01-22T12:35:30.707Z"
   },
   {
    "duration": 84,
    "start_time": "2023-01-22T12:35:30.727Z"
   },
   {
    "duration": 90,
    "start_time": "2023-01-22T12:35:30.813Z"
   },
   {
    "duration": 9,
    "start_time": "2023-01-22T12:35:30.905Z"
   },
   {
    "duration": 55,
    "start_time": "2023-01-22T12:35:30.917Z"
   },
   {
    "duration": 57,
    "start_time": "2023-01-22T12:35:30.974Z"
   },
   {
    "duration": 56,
    "start_time": "2023-01-22T12:35:31.033Z"
   },
   {
    "duration": 42,
    "start_time": "2023-01-22T12:35:31.091Z"
   },
   {
    "duration": 12,
    "start_time": "2023-01-22T12:35:31.135Z"
   },
   {
    "duration": 54,
    "start_time": "2023-01-22T12:35:31.150Z"
   },
   {
    "duration": 85,
    "start_time": "2023-01-22T12:35:31.210Z"
   },
   {
    "duration": 65,
    "start_time": "2023-01-22T12:35:31.297Z"
   },
   {
    "duration": 18,
    "start_time": "2023-01-22T12:35:31.364Z"
   },
   {
    "duration": 31,
    "start_time": "2023-01-22T12:35:31.384Z"
   },
   {
    "duration": 14,
    "start_time": "2023-01-22T12:35:31.416Z"
   },
   {
    "duration": 26,
    "start_time": "2023-01-22T12:35:31.432Z"
   },
   {
    "duration": 69,
    "start_time": "2023-01-22T12:35:31.460Z"
   },
   {
    "duration": 3,
    "start_time": "2023-01-22T12:35:31.531Z"
   },
   {
    "duration": 57,
    "start_time": "2023-01-22T12:35:31.538Z"
   },
   {
    "duration": 6,
    "start_time": "2023-01-22T12:35:31.597Z"
   },
   {
    "duration": 19,
    "start_time": "2023-01-22T12:35:31.604Z"
   },
   {
    "duration": 22,
    "start_time": "2023-01-22T12:35:31.624Z"
   },
   {
    "duration": 24,
    "start_time": "2023-01-22T12:35:31.647Z"
   },
   {
    "duration": 22,
    "start_time": "2023-01-22T12:35:31.672Z"
   },
   {
    "duration": 15,
    "start_time": "2023-01-22T12:35:31.696Z"
   },
   {
    "duration": 16,
    "start_time": "2023-01-22T12:35:31.713Z"
   },
   {
    "duration": 23,
    "start_time": "2023-01-22T12:35:31.731Z"
   },
   {
    "duration": 9,
    "start_time": "2023-01-22T12:35:31.756Z"
   },
   {
    "duration": 33,
    "start_time": "2023-01-22T12:35:31.766Z"
   },
   {
    "duration": 24,
    "start_time": "2023-01-22T12:35:31.800Z"
   },
   {
    "duration": 19,
    "start_time": "2023-01-22T12:35:31.825Z"
   },
   {
    "duration": 10,
    "start_time": "2023-01-22T12:35:31.846Z"
   },
   {
    "duration": 19,
    "start_time": "2023-01-22T12:35:31.858Z"
   },
   {
    "duration": 18,
    "start_time": "2023-01-22T12:35:31.878Z"
   },
   {
    "duration": 14,
    "start_time": "2023-01-22T12:35:31.898Z"
   },
   {
    "duration": 43,
    "start_time": "2023-01-22T12:37:20.416Z"
   },
   {
    "duration": 53,
    "start_time": "2023-01-22T12:38:33.117Z"
   },
   {
    "duration": 55,
    "start_time": "2023-01-22T12:38:37.494Z"
   },
   {
    "duration": 1319,
    "start_time": "2023-01-22T12:49:05.933Z"
   },
   {
    "duration": 169,
    "start_time": "2023-01-22T12:49:07.254Z"
   },
   {
    "duration": 26,
    "start_time": "2023-01-22T12:49:07.425Z"
   },
   {
    "duration": 20,
    "start_time": "2023-01-22T12:49:07.453Z"
   },
   {
    "duration": 3,
    "start_time": "2023-01-22T12:49:07.476Z"
   },
   {
    "duration": 85,
    "start_time": "2023-01-22T12:49:07.480Z"
   },
   {
    "duration": 84,
    "start_time": "2023-01-22T12:49:07.567Z"
   },
   {
    "duration": 99,
    "start_time": "2023-01-22T12:49:07.653Z"
   },
   {
    "duration": 26,
    "start_time": "2023-01-22T12:49:07.754Z"
   },
   {
    "duration": 85,
    "start_time": "2023-01-22T12:49:07.782Z"
   },
   {
    "duration": 14,
    "start_time": "2023-01-22T12:49:07.868Z"
   },
   {
    "duration": 39,
    "start_time": "2023-01-22T12:49:07.884Z"
   },
   {
    "duration": 46,
    "start_time": "2023-01-22T12:49:07.925Z"
   },
   {
    "duration": 246,
    "start_time": "2023-01-22T12:49:07.974Z"
   },
   {
    "duration": 6,
    "start_time": "2023-01-22T12:49:08.222Z"
   },
   {
    "duration": 18,
    "start_time": "2023-01-22T12:49:08.241Z"
   },
   {
    "duration": 57,
    "start_time": "2023-01-22T12:49:08.261Z"
   },
   {
    "duration": 32,
    "start_time": "2023-01-22T12:49:08.320Z"
   },
   {
    "duration": 356,
    "start_time": "2023-01-22T12:49:08.354Z"
   },
   {
    "duration": 16,
    "start_time": "2023-01-22T12:49:08.712Z"
   },
   {
    "duration": 20,
    "start_time": "2023-01-22T12:49:08.739Z"
   },
   {
    "duration": 21,
    "start_time": "2023-01-22T12:49:08.762Z"
   },
   {
    "duration": 39,
    "start_time": "2023-01-22T12:49:08.785Z"
   },
   {
    "duration": 79,
    "start_time": "2023-01-22T12:49:08.825Z"
   },
   {
    "duration": 126,
    "start_time": "2023-01-22T12:49:08.906Z"
   },
   {
    "duration": 15,
    "start_time": "2023-01-22T12:49:09.034Z"
   },
   {
    "duration": 75,
    "start_time": "2023-01-22T12:49:09.053Z"
   },
   {
    "duration": 44,
    "start_time": "2023-01-22T12:49:09.131Z"
   },
   {
    "duration": 500,
    "start_time": "2023-01-22T12:49:09.177Z"
   },
   {
    "duration": 14,
    "start_time": "2023-01-22T12:49:09.679Z"
   },
   {
    "duration": 47,
    "start_time": "2023-01-22T12:49:09.694Z"
   },
   {
    "duration": 100,
    "start_time": "2023-01-22T12:49:09.743Z"
   },
   {
    "duration": 73,
    "start_time": "2023-01-22T12:49:09.845Z"
   },
   {
    "duration": 66,
    "start_time": "2023-01-22T12:49:09.920Z"
   },
   {
    "duration": 4,
    "start_time": "2023-01-22T12:49:09.988Z"
   },
   {
    "duration": 47,
    "start_time": "2023-01-22T12:49:09.994Z"
   },
   {
    "duration": 33,
    "start_time": "2023-01-22T12:49:10.042Z"
   },
   {
    "duration": 77,
    "start_time": "2023-01-22T12:49:10.076Z"
   },
   {
    "duration": 53,
    "start_time": "2023-01-22T12:49:10.154Z"
   },
   {
    "duration": 8,
    "start_time": "2023-01-22T12:54:25.673Z"
   },
   {
    "duration": 1352,
    "start_time": "2023-01-23T05:57:03.755Z"
   },
   {
    "duration": 521,
    "start_time": "2023-01-23T05:57:05.109Z"
   },
   {
    "duration": 17,
    "start_time": "2023-01-23T05:57:05.632Z"
   },
   {
    "duration": 17,
    "start_time": "2023-01-23T05:57:05.651Z"
   },
   {
    "duration": 5,
    "start_time": "2023-01-23T05:57:05.670Z"
   },
   {
    "duration": 63,
    "start_time": "2023-01-23T05:57:05.676Z"
   },
   {
    "duration": 67,
    "start_time": "2023-01-23T05:57:05.747Z"
   },
   {
    "duration": 92,
    "start_time": "2023-01-23T05:57:05.816Z"
   },
   {
    "duration": 24,
    "start_time": "2023-01-23T05:57:05.910Z"
   },
   {
    "duration": 64,
    "start_time": "2023-01-23T05:57:05.948Z"
   },
   {
    "duration": 13,
    "start_time": "2023-01-23T05:57:06.014Z"
   },
   {
    "duration": 31,
    "start_time": "2023-01-23T05:57:06.028Z"
   },
   {
    "duration": 39,
    "start_time": "2023-01-23T05:57:06.061Z"
   },
   {
    "duration": 207,
    "start_time": "2023-01-23T05:57:06.102Z"
   },
   {
    "duration": 5,
    "start_time": "2023-01-23T05:57:06.311Z"
   },
   {
    "duration": 24,
    "start_time": "2023-01-23T05:57:06.318Z"
   },
   {
    "duration": 30,
    "start_time": "2023-01-23T05:57:06.343Z"
   },
   {
    "duration": 31,
    "start_time": "2023-01-23T05:57:06.375Z"
   },
   {
    "duration": 287,
    "start_time": "2023-01-23T05:57:06.407Z"
   },
   {
    "duration": 14,
    "start_time": "2023-01-23T05:57:06.695Z"
   },
   {
    "duration": 14,
    "start_time": "2023-01-23T05:57:06.711Z"
   },
   {
    "duration": 22,
    "start_time": "2023-01-23T05:57:06.726Z"
   },
   {
    "duration": 14,
    "start_time": "2023-01-23T05:57:06.750Z"
   },
   {
    "duration": 47,
    "start_time": "2023-01-23T05:57:06.765Z"
   },
   {
    "duration": 89,
    "start_time": "2023-01-23T05:57:06.813Z"
   },
   {
    "duration": 8,
    "start_time": "2023-01-23T05:57:06.904Z"
   },
   {
    "duration": 40,
    "start_time": "2023-01-23T05:57:06.913Z"
   },
   {
    "duration": 8,
    "start_time": "2023-01-23T05:57:06.957Z"
   },
   {
    "duration": 453,
    "start_time": "2023-01-23T05:57:06.966Z"
   },
   {
    "duration": 11,
    "start_time": "2023-01-23T05:57:07.421Z"
   },
   {
    "duration": 16,
    "start_time": "2023-01-23T05:57:07.433Z"
   },
   {
    "duration": 37,
    "start_time": "2023-01-23T05:57:07.450Z"
   },
   {
    "duration": 124,
    "start_time": "2023-01-23T05:57:07.488Z"
   },
   {
    "duration": 70,
    "start_time": "2023-01-23T05:57:07.613Z"
   },
   {
    "duration": 3,
    "start_time": "2023-01-23T05:57:07.685Z"
   },
   {
    "duration": 16,
    "start_time": "2023-01-23T05:57:07.689Z"
   },
   {
    "duration": 6,
    "start_time": "2023-01-23T05:57:07.707Z"
   },
   {
    "duration": 61,
    "start_time": "2023-01-23T05:57:07.714Z"
   },
   {
    "duration": 40,
    "start_time": "2023-01-23T05:57:07.777Z"
   }
  ],
  "kernelspec": {
   "display_name": "Python 3 (ipykernel)",
   "language": "python",
   "name": "python3"
  },
  "language_info": {
   "codemirror_mode": {
    "name": "ipython",
    "version": 3
   },
   "file_extension": ".py",
   "mimetype": "text/x-python",
   "name": "python",
   "nbconvert_exporter": "python",
   "pygments_lexer": "ipython3",
   "version": "3.9.12"
  },
  "toc": {
   "base_numbering": 1,
   "nav_menu": {},
   "number_sections": true,
   "sideBar": true,
   "skip_h1_title": true,
   "title_cell": "Table of Contents",
   "title_sidebar": "Contents",
   "toc_cell": false,
   "toc_position": {},
   "toc_section_display": true,
   "toc_window_display": false
  }
 },
 "nbformat": 4,
 "nbformat_minor": 2
}

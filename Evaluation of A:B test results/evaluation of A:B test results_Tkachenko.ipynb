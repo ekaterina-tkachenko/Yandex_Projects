{
 "cells": [
  {
   "cell_type": "markdown",
   "metadata": {},
   "source": [
    "# Анализ гипотез"
   ]
  },
  {
   "cell_type": "markdown",
   "metadata": {},
   "source": [
    "Для крупного интернет магазина проверяются гипотезы с целью увеличения выручки.\n",
    "Задачи:\n",
    "- Приоритизация гипотез\n",
    "- A/B-тест\n",
    "- Анализ результатов "
   ]
  },
  {
   "cell_type": "markdown",
   "metadata": {},
   "source": [
    "## Приоритизация гипотез"
   ]
  },
  {
   "cell_type": "code",
   "execution_count": 1,
   "metadata": {},
   "outputs": [],
   "source": [
    "# импорт библиотек \n",
    "import pandas as pd\n",
    "import datetime as dt\n",
    "import numpy as np\n",
    "import matplotlib.pyplot as plt\n",
    "from pandas.plotting import register_matplotlib_converters\n",
    "import scipy.stats as stats\n",
    "import warnings\n",
    "import pylab\n",
    "warnings.filterwarnings('ignore')\n",
    "register_matplotlib_converters()"
   ]
  },
  {
   "cell_type": "code",
   "execution_count": 2,
   "metadata": {},
   "outputs": [],
   "source": [
    "# чтение файла\n",
    "try:\n",
    "    data = pd.read_csv('/datasets/hypothesis.csv')\n",
    "except:\n",
    "    data = pd.read_csv('https://code.s3.yandex.net/datasets/hypothesis.csv')"
   ]
  },
  {
   "cell_type": "code",
   "execution_count": 3,
   "metadata": {},
   "outputs": [
    {
     "data": {
      "text/html": [
       "<div>\n",
       "<style scoped>\n",
       "    .dataframe tbody tr th:only-of-type {\n",
       "        vertical-align: middle;\n",
       "    }\n",
       "\n",
       "    .dataframe tbody tr th {\n",
       "        vertical-align: top;\n",
       "    }\n",
       "\n",
       "    .dataframe thead th {\n",
       "        text-align: right;\n",
       "    }\n",
       "</style>\n",
       "<table border=\"1\" class=\"dataframe\">\n",
       "  <thead>\n",
       "    <tr style=\"text-align: right;\">\n",
       "      <th></th>\n",
       "      <th>Hypothesis</th>\n",
       "      <th>Reach</th>\n",
       "      <th>Impact</th>\n",
       "      <th>Confidence</th>\n",
       "      <th>Efforts</th>\n",
       "    </tr>\n",
       "  </thead>\n",
       "  <tbody>\n",
       "    <tr>\n",
       "      <th>0</th>\n",
       "      <td>Добавить два новых канала привлечения трафика, что позволит привлекать на 30% больше пользователей</td>\n",
       "      <td>3</td>\n",
       "      <td>10</td>\n",
       "      <td>8</td>\n",
       "      <td>6</td>\n",
       "    </tr>\n",
       "    <tr>\n",
       "      <th>1</th>\n",
       "      <td>Запустить собственную службу доставки, что сократит срок доставки заказов</td>\n",
       "      <td>2</td>\n",
       "      <td>5</td>\n",
       "      <td>4</td>\n",
       "      <td>10</td>\n",
       "    </tr>\n",
       "    <tr>\n",
       "      <th>2</th>\n",
       "      <td>Добавить блоки рекомендаций товаров на сайт интернет магазина, чтобы повысить конверсию и средний чек заказа</td>\n",
       "      <td>8</td>\n",
       "      <td>3</td>\n",
       "      <td>7</td>\n",
       "      <td>3</td>\n",
       "    </tr>\n",
       "    <tr>\n",
       "      <th>3</th>\n",
       "      <td>Изменить структура категорий, что увеличит конверсию, т.к. пользователи быстрее найдут нужный товар</td>\n",
       "      <td>8</td>\n",
       "      <td>3</td>\n",
       "      <td>3</td>\n",
       "      <td>8</td>\n",
       "    </tr>\n",
       "    <tr>\n",
       "      <th>4</th>\n",
       "      <td>Изменить цвет фона главной страницы, чтобы увеличить вовлеченность пользователей</td>\n",
       "      <td>3</td>\n",
       "      <td>1</td>\n",
       "      <td>1</td>\n",
       "      <td>1</td>\n",
       "    </tr>\n",
       "    <tr>\n",
       "      <th>5</th>\n",
       "      <td>Добавить страницу отзывов клиентов о магазине, что позволит увеличить количество заказов</td>\n",
       "      <td>3</td>\n",
       "      <td>2</td>\n",
       "      <td>2</td>\n",
       "      <td>3</td>\n",
       "    </tr>\n",
       "    <tr>\n",
       "      <th>6</th>\n",
       "      <td>Показать на главной странице баннеры с актуальными акциями и распродажами, чтобы увеличить конверсию</td>\n",
       "      <td>5</td>\n",
       "      <td>3</td>\n",
       "      <td>8</td>\n",
       "      <td>3</td>\n",
       "    </tr>\n",
       "    <tr>\n",
       "      <th>7</th>\n",
       "      <td>Добавить форму подписки на все основные страницы, чтобы собрать базу клиентов для email-рассылок</td>\n",
       "      <td>10</td>\n",
       "      <td>7</td>\n",
       "      <td>8</td>\n",
       "      <td>5</td>\n",
       "    </tr>\n",
       "    <tr>\n",
       "      <th>8</th>\n",
       "      <td>Запустить акцию, дающую скидку на товар в день рождения</td>\n",
       "      <td>1</td>\n",
       "      <td>9</td>\n",
       "      <td>9</td>\n",
       "      <td>5</td>\n",
       "    </tr>\n",
       "  </tbody>\n",
       "</table>\n",
       "</div>"
      ],
      "text/plain": [
       "                                                                                                     Hypothesis  \\\n",
       "0            Добавить два новых канала привлечения трафика, что позволит привлекать на 30% больше пользователей   \n",
       "1                                     Запустить собственную службу доставки, что сократит срок доставки заказов   \n",
       "2  Добавить блоки рекомендаций товаров на сайт интернет магазина, чтобы повысить конверсию и средний чек заказа   \n",
       "3           Изменить структура категорий, что увеличит конверсию, т.к. пользователи быстрее найдут нужный товар   \n",
       "4                              Изменить цвет фона главной страницы, чтобы увеличить вовлеченность пользователей   \n",
       "5                      Добавить страницу отзывов клиентов о магазине, что позволит увеличить количество заказов   \n",
       "6          Показать на главной странице баннеры с актуальными акциями и распродажами, чтобы увеличить конверсию   \n",
       "7              Добавить форму подписки на все основные страницы, чтобы собрать базу клиентов для email-рассылок   \n",
       "8                                                       Запустить акцию, дающую скидку на товар в день рождения   \n",
       "\n",
       "   Reach  Impact  Confidence  Efforts  \n",
       "0      3      10           8        6  \n",
       "1      2       5           4       10  \n",
       "2      8       3           7        3  \n",
       "3      8       3           3        8  \n",
       "4      3       1           1        1  \n",
       "5      3       2           2        3  \n",
       "6      5       3           8        3  \n",
       "7     10       7           8        5  \n",
       "8      1       9           9        5  "
      ]
     },
     "execution_count": 3,
     "metadata": {},
     "output_type": "execute_result"
    }
   ],
   "source": [
    "pd.set_option('display.max_colwidth', None)# расширение колонок\n",
    "data"
   ]
  },
  {
   "cell_type": "code",
   "execution_count": 4,
   "metadata": {},
   "outputs": [],
   "source": [
    "data.columns = data.columns.str.lower()# переименуем столбцы "
   ]
  },
  {
   "cell_type": "code",
   "execution_count": 5,
   "metadata": {},
   "outputs": [],
   "source": [
    "data['ICE'] = (data['impact']*data['confidence']/data['efforts']).round(2)# расчет ICE"
   ]
  },
  {
   "cell_type": "code",
   "execution_count": 6,
   "metadata": {},
   "outputs": [
    {
     "data": {
      "text/html": [
       "<div>\n",
       "<style scoped>\n",
       "    .dataframe tbody tr th:only-of-type {\n",
       "        vertical-align: middle;\n",
       "    }\n",
       "\n",
       "    .dataframe tbody tr th {\n",
       "        vertical-align: top;\n",
       "    }\n",
       "\n",
       "    .dataframe thead th {\n",
       "        text-align: right;\n",
       "    }\n",
       "</style>\n",
       "<table border=\"1\" class=\"dataframe\">\n",
       "  <thead>\n",
       "    <tr style=\"text-align: right;\">\n",
       "      <th></th>\n",
       "      <th>hypothesis</th>\n",
       "      <th>reach</th>\n",
       "      <th>impact</th>\n",
       "      <th>confidence</th>\n",
       "      <th>efforts</th>\n",
       "      <th>ICE</th>\n",
       "    </tr>\n",
       "  </thead>\n",
       "  <tbody>\n",
       "    <tr>\n",
       "      <th>8</th>\n",
       "      <td>Запустить акцию, дающую скидку на товар в день рождения</td>\n",
       "      <td>1</td>\n",
       "      <td>9</td>\n",
       "      <td>9</td>\n",
       "      <td>5</td>\n",
       "      <td>16.20</td>\n",
       "    </tr>\n",
       "    <tr>\n",
       "      <th>0</th>\n",
       "      <td>Добавить два новых канала привлечения трафика, что позволит привлекать на 30% больше пользователей</td>\n",
       "      <td>3</td>\n",
       "      <td>10</td>\n",
       "      <td>8</td>\n",
       "      <td>6</td>\n",
       "      <td>13.33</td>\n",
       "    </tr>\n",
       "    <tr>\n",
       "      <th>7</th>\n",
       "      <td>Добавить форму подписки на все основные страницы, чтобы собрать базу клиентов для email-рассылок</td>\n",
       "      <td>10</td>\n",
       "      <td>7</td>\n",
       "      <td>8</td>\n",
       "      <td>5</td>\n",
       "      <td>11.20</td>\n",
       "    </tr>\n",
       "    <tr>\n",
       "      <th>6</th>\n",
       "      <td>Показать на главной странице баннеры с актуальными акциями и распродажами, чтобы увеличить конверсию</td>\n",
       "      <td>5</td>\n",
       "      <td>3</td>\n",
       "      <td>8</td>\n",
       "      <td>3</td>\n",
       "      <td>8.00</td>\n",
       "    </tr>\n",
       "    <tr>\n",
       "      <th>2</th>\n",
       "      <td>Добавить блоки рекомендаций товаров на сайт интернет магазина, чтобы повысить конверсию и средний чек заказа</td>\n",
       "      <td>8</td>\n",
       "      <td>3</td>\n",
       "      <td>7</td>\n",
       "      <td>3</td>\n",
       "      <td>7.00</td>\n",
       "    </tr>\n",
       "    <tr>\n",
       "      <th>1</th>\n",
       "      <td>Запустить собственную службу доставки, что сократит срок доставки заказов</td>\n",
       "      <td>2</td>\n",
       "      <td>5</td>\n",
       "      <td>4</td>\n",
       "      <td>10</td>\n",
       "      <td>2.00</td>\n",
       "    </tr>\n",
       "    <tr>\n",
       "      <th>5</th>\n",
       "      <td>Добавить страницу отзывов клиентов о магазине, что позволит увеличить количество заказов</td>\n",
       "      <td>3</td>\n",
       "      <td>2</td>\n",
       "      <td>2</td>\n",
       "      <td>3</td>\n",
       "      <td>1.33</td>\n",
       "    </tr>\n",
       "    <tr>\n",
       "      <th>3</th>\n",
       "      <td>Изменить структура категорий, что увеличит конверсию, т.к. пользователи быстрее найдут нужный товар</td>\n",
       "      <td>8</td>\n",
       "      <td>3</td>\n",
       "      <td>3</td>\n",
       "      <td>8</td>\n",
       "      <td>1.12</td>\n",
       "    </tr>\n",
       "    <tr>\n",
       "      <th>4</th>\n",
       "      <td>Изменить цвет фона главной страницы, чтобы увеличить вовлеченность пользователей</td>\n",
       "      <td>3</td>\n",
       "      <td>1</td>\n",
       "      <td>1</td>\n",
       "      <td>1</td>\n",
       "      <td>1.00</td>\n",
       "    </tr>\n",
       "  </tbody>\n",
       "</table>\n",
       "</div>"
      ],
      "text/plain": [
       "                                                                                                     hypothesis  \\\n",
       "8                                                       Запустить акцию, дающую скидку на товар в день рождения   \n",
       "0            Добавить два новых канала привлечения трафика, что позволит привлекать на 30% больше пользователей   \n",
       "7              Добавить форму подписки на все основные страницы, чтобы собрать базу клиентов для email-рассылок   \n",
       "6          Показать на главной странице баннеры с актуальными акциями и распродажами, чтобы увеличить конверсию   \n",
       "2  Добавить блоки рекомендаций товаров на сайт интернет магазина, чтобы повысить конверсию и средний чек заказа   \n",
       "1                                     Запустить собственную службу доставки, что сократит срок доставки заказов   \n",
       "5                      Добавить страницу отзывов клиентов о магазине, что позволит увеличить количество заказов   \n",
       "3           Изменить структура категорий, что увеличит конверсию, т.к. пользователи быстрее найдут нужный товар   \n",
       "4                              Изменить цвет фона главной страницы, чтобы увеличить вовлеченность пользователей   \n",
       "\n",
       "   reach  impact  confidence  efforts    ICE  \n",
       "8      1       9           9        5  16.20  \n",
       "0      3      10           8        6  13.33  \n",
       "7     10       7           8        5  11.20  \n",
       "6      5       3           8        3   8.00  \n",
       "2      8       3           7        3   7.00  \n",
       "1      2       5           4       10   2.00  \n",
       "5      3       2           2        3   1.33  \n",
       "3      8       3           3        8   1.12  \n",
       "4      3       1           1        1   1.00  "
      ]
     },
     "execution_count": 6,
     "metadata": {},
     "output_type": "execute_result"
    }
   ],
   "source": [
    "data = data.sort_values(by='ICE', ascending=False)\n",
    "data"
   ]
  },
  {
   "cell_type": "code",
   "execution_count": 7,
   "metadata": {},
   "outputs": [],
   "source": [
    "data['RICE'] = data['reach']*data['impact']*data['confidence']/data['efforts'].round(2)# расчет RICE"
   ]
  },
  {
   "cell_type": "code",
   "execution_count": 8,
   "metadata": {},
   "outputs": [
    {
     "data": {
      "text/html": [
       "<div>\n",
       "<style scoped>\n",
       "    .dataframe tbody tr th:only-of-type {\n",
       "        vertical-align: middle;\n",
       "    }\n",
       "\n",
       "    .dataframe tbody tr th {\n",
       "        vertical-align: top;\n",
       "    }\n",
       "\n",
       "    .dataframe thead th {\n",
       "        text-align: right;\n",
       "    }\n",
       "</style>\n",
       "<table border=\"1\" class=\"dataframe\">\n",
       "  <thead>\n",
       "    <tr style=\"text-align: right;\">\n",
       "      <th></th>\n",
       "      <th>hypothesis</th>\n",
       "      <th>reach</th>\n",
       "      <th>impact</th>\n",
       "      <th>confidence</th>\n",
       "      <th>efforts</th>\n",
       "      <th>ICE</th>\n",
       "      <th>RICE</th>\n",
       "    </tr>\n",
       "  </thead>\n",
       "  <tbody>\n",
       "    <tr>\n",
       "      <th>7</th>\n",
       "      <td>Добавить форму подписки на все основные страницы, чтобы собрать базу клиентов для email-рассылок</td>\n",
       "      <td>10</td>\n",
       "      <td>7</td>\n",
       "      <td>8</td>\n",
       "      <td>5</td>\n",
       "      <td>11.20</td>\n",
       "      <td>112.0</td>\n",
       "    </tr>\n",
       "    <tr>\n",
       "      <th>2</th>\n",
       "      <td>Добавить блоки рекомендаций товаров на сайт интернет магазина, чтобы повысить конверсию и средний чек заказа</td>\n",
       "      <td>8</td>\n",
       "      <td>3</td>\n",
       "      <td>7</td>\n",
       "      <td>3</td>\n",
       "      <td>7.00</td>\n",
       "      <td>56.0</td>\n",
       "    </tr>\n",
       "    <tr>\n",
       "      <th>0</th>\n",
       "      <td>Добавить два новых канала привлечения трафика, что позволит привлекать на 30% больше пользователей</td>\n",
       "      <td>3</td>\n",
       "      <td>10</td>\n",
       "      <td>8</td>\n",
       "      <td>6</td>\n",
       "      <td>13.33</td>\n",
       "      <td>40.0</td>\n",
       "    </tr>\n",
       "    <tr>\n",
       "      <th>6</th>\n",
       "      <td>Показать на главной странице баннеры с актуальными акциями и распродажами, чтобы увеличить конверсию</td>\n",
       "      <td>5</td>\n",
       "      <td>3</td>\n",
       "      <td>8</td>\n",
       "      <td>3</td>\n",
       "      <td>8.00</td>\n",
       "      <td>40.0</td>\n",
       "    </tr>\n",
       "    <tr>\n",
       "      <th>8</th>\n",
       "      <td>Запустить акцию, дающую скидку на товар в день рождения</td>\n",
       "      <td>1</td>\n",
       "      <td>9</td>\n",
       "      <td>9</td>\n",
       "      <td>5</td>\n",
       "      <td>16.20</td>\n",
       "      <td>16.2</td>\n",
       "    </tr>\n",
       "    <tr>\n",
       "      <th>3</th>\n",
       "      <td>Изменить структура категорий, что увеличит конверсию, т.к. пользователи быстрее найдут нужный товар</td>\n",
       "      <td>8</td>\n",
       "      <td>3</td>\n",
       "      <td>3</td>\n",
       "      <td>8</td>\n",
       "      <td>1.12</td>\n",
       "      <td>9.0</td>\n",
       "    </tr>\n",
       "    <tr>\n",
       "      <th>1</th>\n",
       "      <td>Запустить собственную службу доставки, что сократит срок доставки заказов</td>\n",
       "      <td>2</td>\n",
       "      <td>5</td>\n",
       "      <td>4</td>\n",
       "      <td>10</td>\n",
       "      <td>2.00</td>\n",
       "      <td>4.0</td>\n",
       "    </tr>\n",
       "    <tr>\n",
       "      <th>5</th>\n",
       "      <td>Добавить страницу отзывов клиентов о магазине, что позволит увеличить количество заказов</td>\n",
       "      <td>3</td>\n",
       "      <td>2</td>\n",
       "      <td>2</td>\n",
       "      <td>3</td>\n",
       "      <td>1.33</td>\n",
       "      <td>4.0</td>\n",
       "    </tr>\n",
       "    <tr>\n",
       "      <th>4</th>\n",
       "      <td>Изменить цвет фона главной страницы, чтобы увеличить вовлеченность пользователей</td>\n",
       "      <td>3</td>\n",
       "      <td>1</td>\n",
       "      <td>1</td>\n",
       "      <td>1</td>\n",
       "      <td>1.00</td>\n",
       "      <td>3.0</td>\n",
       "    </tr>\n",
       "  </tbody>\n",
       "</table>\n",
       "</div>"
      ],
      "text/plain": [
       "                                                                                                     hypothesis  \\\n",
       "7              Добавить форму подписки на все основные страницы, чтобы собрать базу клиентов для email-рассылок   \n",
       "2  Добавить блоки рекомендаций товаров на сайт интернет магазина, чтобы повысить конверсию и средний чек заказа   \n",
       "0            Добавить два новых канала привлечения трафика, что позволит привлекать на 30% больше пользователей   \n",
       "6          Показать на главной странице баннеры с актуальными акциями и распродажами, чтобы увеличить конверсию   \n",
       "8                                                       Запустить акцию, дающую скидку на товар в день рождения   \n",
       "3           Изменить структура категорий, что увеличит конверсию, т.к. пользователи быстрее найдут нужный товар   \n",
       "1                                     Запустить собственную службу доставки, что сократит срок доставки заказов   \n",
       "5                      Добавить страницу отзывов клиентов о магазине, что позволит увеличить количество заказов   \n",
       "4                              Изменить цвет фона главной страницы, чтобы увеличить вовлеченность пользователей   \n",
       "\n",
       "   reach  impact  confidence  efforts    ICE   RICE  \n",
       "7     10       7           8        5  11.20  112.0  \n",
       "2      8       3           7        3   7.00   56.0  \n",
       "0      3      10           8        6  13.33   40.0  \n",
       "6      5       3           8        3   8.00   40.0  \n",
       "8      1       9           9        5  16.20   16.2  \n",
       "3      8       3           3        8   1.12    9.0  \n",
       "1      2       5           4       10   2.00    4.0  \n",
       "5      3       2           2        3   1.33    4.0  \n",
       "4      3       1           1        1   1.00    3.0  "
      ]
     },
     "execution_count": 8,
     "metadata": {},
     "output_type": "execute_result"
    }
   ],
   "source": [
    "data = data.sort_values(by='RICE', ascending=False)\n",
    "data"
   ]
  },
  {
   "cell_type": "markdown",
   "metadata": {},
   "source": [
    "**Вывод**\n",
    "\n",
    "Согласно способу ICE наиболее приоритетной является гипотеза №8. Но согласно RICE эта гипотеза занимает лишь 5е место. \n",
    "\n",
    "На первом же месте гипотеза о добавлении формы подписки на все основные страницы. Приоритизация изменилась так как 7ая гипотеза затронет всех пользователей и поэтому имеет 10 баллов по этому критерию, в то время как восьмая гипотеза имеет только 1 балл, поскольку день рождения на период акции может быть далеко не у всех пользователей."
   ]
  },
  {
   "cell_type": "markdown",
   "metadata": {},
   "source": [
    "## Анализ A/B-теста"
   ]
  },
  {
   "cell_type": "code",
   "execution_count": 9,
   "metadata": {},
   "outputs": [],
   "source": [
    "# чтение файлов\n",
    "try:\n",
    "    orders = pd.read_csv('/datasets/orders.csv')\n",
    "    visitors = pd.read_csv('/datasets/visitors.csv')\n",
    "except:\n",
    "    data = pd.read_csv('https://code.s3.yandex.net/datasets/orders.csv')\n",
    "    visitors = pd.read_csv('https://code.s3.yandex.net/datasets/visitors.csv')"
   ]
  },
  {
   "cell_type": "code",
   "execution_count": 10,
   "metadata": {},
   "outputs": [
    {
     "data": {
      "text/html": [
       "<div>\n",
       "<style scoped>\n",
       "    .dataframe tbody tr th:only-of-type {\n",
       "        vertical-align: middle;\n",
       "    }\n",
       "\n",
       "    .dataframe tbody tr th {\n",
       "        vertical-align: top;\n",
       "    }\n",
       "\n",
       "    .dataframe thead th {\n",
       "        text-align: right;\n",
       "    }\n",
       "</style>\n",
       "<table border=\"1\" class=\"dataframe\">\n",
       "  <thead>\n",
       "    <tr style=\"text-align: right;\">\n",
       "      <th></th>\n",
       "      <th>transactionId</th>\n",
       "      <th>visitorId</th>\n",
       "      <th>date</th>\n",
       "      <th>revenue</th>\n",
       "      <th>group</th>\n",
       "    </tr>\n",
       "  </thead>\n",
       "  <tbody>\n",
       "    <tr>\n",
       "      <th>677</th>\n",
       "      <td>2348589867</td>\n",
       "      <td>1294878855</td>\n",
       "      <td>2019-08-09</td>\n",
       "      <td>27390</td>\n",
       "      <td>A</td>\n",
       "    </tr>\n",
       "    <tr>\n",
       "      <th>270</th>\n",
       "      <td>1731627062</td>\n",
       "      <td>1100237501</td>\n",
       "      <td>2019-08-18</td>\n",
       "      <td>290</td>\n",
       "      <td>B</td>\n",
       "    </tr>\n",
       "    <tr>\n",
       "      <th>892</th>\n",
       "      <td>69312188</td>\n",
       "      <td>1009464434</td>\n",
       "      <td>2019-08-21</td>\n",
       "      <td>11440</td>\n",
       "      <td>A</td>\n",
       "    </tr>\n",
       "    <tr>\n",
       "      <th>479</th>\n",
       "      <td>1651227034</td>\n",
       "      <td>2927087541</td>\n",
       "      <td>2019-08-24</td>\n",
       "      <td>2190</td>\n",
       "      <td>B</td>\n",
       "    </tr>\n",
       "    <tr>\n",
       "      <th>564</th>\n",
       "      <td>3649785329</td>\n",
       "      <td>1341752722</td>\n",
       "      <td>2019-08-26</td>\n",
       "      <td>990</td>\n",
       "      <td>B</td>\n",
       "    </tr>\n",
       "    <tr>\n",
       "      <th>465</th>\n",
       "      <td>1490093586</td>\n",
       "      <td>1404560065</td>\n",
       "      <td>2019-08-26</td>\n",
       "      <td>9934</td>\n",
       "      <td>B</td>\n",
       "    </tr>\n",
       "    <tr>\n",
       "      <th>1184</th>\n",
       "      <td>1329499668</td>\n",
       "      <td>2949041841</td>\n",
       "      <td>2019-08-14</td>\n",
       "      <td>10380</td>\n",
       "      <td>B</td>\n",
       "    </tr>\n",
       "    <tr>\n",
       "      <th>61</th>\n",
       "      <td>1251767592</td>\n",
       "      <td>2712142231</td>\n",
       "      <td>2019-08-16</td>\n",
       "      <td>790</td>\n",
       "      <td>B</td>\n",
       "    </tr>\n",
       "    <tr>\n",
       "      <th>584</th>\n",
       "      <td>1126146019</td>\n",
       "      <td>2705308997</td>\n",
       "      <td>2019-08-20</td>\n",
       "      <td>50</td>\n",
       "      <td>A</td>\n",
       "    </tr>\n",
       "    <tr>\n",
       "      <th>97</th>\n",
       "      <td>2012801741</td>\n",
       "      <td>414545763</td>\n",
       "      <td>2019-08-01</td>\n",
       "      <td>5555</td>\n",
       "      <td>B</td>\n",
       "    </tr>\n",
       "  </tbody>\n",
       "</table>\n",
       "</div>"
      ],
      "text/plain": [
       "      transactionId   visitorId        date  revenue group\n",
       "677      2348589867  1294878855  2019-08-09    27390     A\n",
       "270      1731627062  1100237501  2019-08-18      290     B\n",
       "892        69312188  1009464434  2019-08-21    11440     A\n",
       "479      1651227034  2927087541  2019-08-24     2190     B\n",
       "564      3649785329  1341752722  2019-08-26      990     B\n",
       "465      1490093586  1404560065  2019-08-26     9934     B\n",
       "1184     1329499668  2949041841  2019-08-14    10380     B\n",
       "61       1251767592  2712142231  2019-08-16      790     B\n",
       "584      1126146019  2705308997  2019-08-20       50     A\n",
       "97       2012801741   414545763  2019-08-01     5555     B"
      ]
     },
     "execution_count": 10,
     "metadata": {},
     "output_type": "execute_result"
    }
   ],
   "source": [
    "orders.sample(10)# рандомные 10 строк"
   ]
  },
  {
   "cell_type": "code",
   "execution_count": 11,
   "metadata": {},
   "outputs": [
    {
     "data": {
      "text/html": [
       "<div>\n",
       "<style scoped>\n",
       "    .dataframe tbody tr th:only-of-type {\n",
       "        vertical-align: middle;\n",
       "    }\n",
       "\n",
       "    .dataframe tbody tr th {\n",
       "        vertical-align: top;\n",
       "    }\n",
       "\n",
       "    .dataframe thead th {\n",
       "        text-align: right;\n",
       "    }\n",
       "</style>\n",
       "<table border=\"1\" class=\"dataframe\">\n",
       "  <thead>\n",
       "    <tr style=\"text-align: right;\">\n",
       "      <th></th>\n",
       "      <th>date</th>\n",
       "      <th>group</th>\n",
       "      <th>visitors</th>\n",
       "    </tr>\n",
       "  </thead>\n",
       "  <tbody>\n",
       "    <tr>\n",
       "      <th>2</th>\n",
       "      <td>2019-08-03</td>\n",
       "      <td>A</td>\n",
       "      <td>507</td>\n",
       "    </tr>\n",
       "    <tr>\n",
       "      <th>12</th>\n",
       "      <td>2019-08-13</td>\n",
       "      <td>A</td>\n",
       "      <td>748</td>\n",
       "    </tr>\n",
       "    <tr>\n",
       "      <th>5</th>\n",
       "      <td>2019-08-06</td>\n",
       "      <td>A</td>\n",
       "      <td>667</td>\n",
       "    </tr>\n",
       "    <tr>\n",
       "      <th>8</th>\n",
       "      <td>2019-08-09</td>\n",
       "      <td>A</td>\n",
       "      <td>617</td>\n",
       "    </tr>\n",
       "    <tr>\n",
       "      <th>57</th>\n",
       "      <td>2019-08-27</td>\n",
       "      <td>B</td>\n",
       "      <td>720</td>\n",
       "    </tr>\n",
       "    <tr>\n",
       "      <th>1</th>\n",
       "      <td>2019-08-02</td>\n",
       "      <td>A</td>\n",
       "      <td>619</td>\n",
       "    </tr>\n",
       "    <tr>\n",
       "      <th>30</th>\n",
       "      <td>2019-08-31</td>\n",
       "      <td>A</td>\n",
       "      <td>699</td>\n",
       "    </tr>\n",
       "    <tr>\n",
       "      <th>61</th>\n",
       "      <td>2019-08-31</td>\n",
       "      <td>B</td>\n",
       "      <td>718</td>\n",
       "    </tr>\n",
       "    <tr>\n",
       "      <th>15</th>\n",
       "      <td>2019-08-16</td>\n",
       "      <td>A</td>\n",
       "      <td>361</td>\n",
       "    </tr>\n",
       "    <tr>\n",
       "      <th>50</th>\n",
       "      <td>2019-08-20</td>\n",
       "      <td>B</td>\n",
       "      <td>560</td>\n",
       "    </tr>\n",
       "  </tbody>\n",
       "</table>\n",
       "</div>"
      ],
      "text/plain": [
       "          date group  visitors\n",
       "2   2019-08-03     A       507\n",
       "12  2019-08-13     A       748\n",
       "5   2019-08-06     A       667\n",
       "8   2019-08-09     A       617\n",
       "57  2019-08-27     B       720\n",
       "1   2019-08-02     A       619\n",
       "30  2019-08-31     A       699\n",
       "61  2019-08-31     B       718\n",
       "15  2019-08-16     A       361\n",
       "50  2019-08-20     B       560"
      ]
     },
     "execution_count": 11,
     "metadata": {},
     "output_type": "execute_result"
    }
   ],
   "source": [
    "visitors.sample(10)# рандомные 10 строк"
   ]
  },
  {
   "cell_type": "code",
   "execution_count": 12,
   "metadata": {},
   "outputs": [
    {
     "name": "stdout",
     "output_type": "stream",
     "text": [
      "<class 'pandas.core.frame.DataFrame'>\n",
      "RangeIndex: 1197 entries, 0 to 1196\n",
      "Data columns (total 5 columns):\n",
      " #   Column         Non-Null Count  Dtype \n",
      "---  ------         --------------  ----- \n",
      " 0   transactionId  1197 non-null   int64 \n",
      " 1   visitorId      1197 non-null   int64 \n",
      " 2   date           1197 non-null   object\n",
      " 3   revenue        1197 non-null   int64 \n",
      " 4   group          1197 non-null   object\n",
      "dtypes: int64(3), object(2)\n",
      "memory usage: 46.9+ KB\n"
     ]
    }
   ],
   "source": [
    "orders.info()# общая информация"
   ]
  },
  {
   "cell_type": "code",
   "execution_count": 13,
   "metadata": {},
   "outputs": [
    {
     "name": "stdout",
     "output_type": "stream",
     "text": [
      "<class 'pandas.core.frame.DataFrame'>\n",
      "RangeIndex: 62 entries, 0 to 61\n",
      "Data columns (total 3 columns):\n",
      " #   Column    Non-Null Count  Dtype \n",
      "---  ------    --------------  ----- \n",
      " 0   date      62 non-null     object\n",
      " 1   group     62 non-null     object\n",
      " 2   visitors  62 non-null     int64 \n",
      "dtypes: int64(1), object(2)\n",
      "memory usage: 1.6+ KB\n"
     ]
    }
   ],
   "source": [
    "visitors.info()# общая информация"
   ]
  },
  {
   "cell_type": "markdown",
   "metadata": {},
   "source": [
    "### Предобработка данных"
   ]
  },
  {
   "cell_type": "code",
   "execution_count": 14,
   "metadata": {},
   "outputs": [],
   "source": [
    "# переименуем столбцы \n",
    "orders.columns=['order_id','visitor_id','date','revenue','group']"
   ]
  },
  {
   "cell_type": "code",
   "execution_count": 15,
   "metadata": {},
   "outputs": [],
   "source": [
    "orders['date'] = pd.to_datetime(orders['date'])# изменение типа данных\n",
    "visitors['date'] = pd.to_datetime(visitors['date'])"
   ]
  },
  {
   "cell_type": "code",
   "execution_count": 16,
   "metadata": {},
   "outputs": [
    {
     "data": {
      "text/html": [
       "<div>\n",
       "<style scoped>\n",
       "    .dataframe tbody tr th:only-of-type {\n",
       "        vertical-align: middle;\n",
       "    }\n",
       "\n",
       "    .dataframe tbody tr th {\n",
       "        vertical-align: top;\n",
       "    }\n",
       "\n",
       "    .dataframe thead th {\n",
       "        text-align: right;\n",
       "    }\n",
       "</style>\n",
       "<table border=\"1\" class=\"dataframe\">\n",
       "  <thead>\n",
       "    <tr style=\"text-align: right;\">\n",
       "      <th></th>\n",
       "      <th>date</th>\n",
       "      <th>group</th>\n",
       "      <th>visitors</th>\n",
       "    </tr>\n",
       "  </thead>\n",
       "  <tbody>\n",
       "  </tbody>\n",
       "</table>\n",
       "</div>"
      ],
      "text/plain": [
       "Empty DataFrame\n",
       "Columns: [date, group, visitors]\n",
       "Index: []"
      ]
     },
     "execution_count": 16,
     "metadata": {},
     "output_type": "execute_result"
    }
   ],
   "source": [
    "visitors[visitors.duplicated()]# поиск дубликатов"
   ]
  },
  {
   "cell_type": "code",
   "execution_count": 17,
   "metadata": {},
   "outputs": [
    {
     "data": {
      "text/html": [
       "<div>\n",
       "<style scoped>\n",
       "    .dataframe tbody tr th:only-of-type {\n",
       "        vertical-align: middle;\n",
       "    }\n",
       "\n",
       "    .dataframe tbody tr th {\n",
       "        vertical-align: top;\n",
       "    }\n",
       "\n",
       "    .dataframe thead th {\n",
       "        text-align: right;\n",
       "    }\n",
       "</style>\n",
       "<table border=\"1\" class=\"dataframe\">\n",
       "  <thead>\n",
       "    <tr style=\"text-align: right;\">\n",
       "      <th></th>\n",
       "      <th>order_id</th>\n",
       "      <th>visitor_id</th>\n",
       "      <th>date</th>\n",
       "      <th>revenue</th>\n",
       "      <th>group</th>\n",
       "    </tr>\n",
       "  </thead>\n",
       "  <tbody>\n",
       "  </tbody>\n",
       "</table>\n",
       "</div>"
      ],
      "text/plain": [
       "Empty DataFrame\n",
       "Columns: [order_id, visitor_id, date, revenue, group]\n",
       "Index: []"
      ]
     },
     "execution_count": 17,
     "metadata": {},
     "output_type": "execute_result"
    }
   ],
   "source": [
    "orders[orders.duplicated()]# поиск дубликатов"
   ]
  },
  {
   "cell_type": "code",
   "execution_count": 18,
   "metadata": {},
   "outputs": [
    {
     "data": {
      "text/plain": [
       "group    58\n",
       "dtype: int64"
      ]
     },
     "execution_count": 18,
     "metadata": {},
     "output_type": "execute_result"
    }
   ],
   "source": [
    "qn_visitors = orders.pivot_table(index='visitor_id', values='group', aggfunc='nunique')\n",
    "qn_visitors.query('group>1').count()# проверка наличия пользователей в 2х группах сразу"
   ]
  },
  {
   "cell_type": "code",
   "execution_count": 19,
   "metadata": {},
   "outputs": [
    {
     "data": {
      "text/html": [
       "<div>\n",
       "<style scoped>\n",
       "    .dataframe tbody tr th:only-of-type {\n",
       "        vertical-align: middle;\n",
       "    }\n",
       "\n",
       "    .dataframe tbody tr th {\n",
       "        vertical-align: top;\n",
       "    }\n",
       "\n",
       "    .dataframe thead th {\n",
       "        text-align: right;\n",
       "    }\n",
       "</style>\n",
       "<table border=\"1\" class=\"dataframe\">\n",
       "  <thead>\n",
       "    <tr style=\"text-align: right;\">\n",
       "      <th></th>\n",
       "      <th>visitor_id</th>\n",
       "    </tr>\n",
       "    <tr>\n",
       "      <th>group</th>\n",
       "      <th></th>\n",
       "    </tr>\n",
       "  </thead>\n",
       "  <tbody>\n",
       "    <tr>\n",
       "      <th>A</th>\n",
       "      <td>503</td>\n",
       "    </tr>\n",
       "    <tr>\n",
       "      <th>B</th>\n",
       "      <td>586</td>\n",
       "    </tr>\n",
       "  </tbody>\n",
       "</table>\n",
       "</div>"
      ],
      "text/plain": [
       "       visitor_id\n",
       "group            \n",
       "A             503\n",
       "B             586"
      ]
     },
     "execution_count": 19,
     "metadata": {},
     "output_type": "execute_result"
    }
   ],
   "source": [
    "orders.pivot_table(index='group', values='visitor_id', aggfunc='nunique')# расчет кол-ва пользователей в группах"
   ]
  },
  {
   "cell_type": "markdown",
   "metadata": {},
   "source": [
    "**Вывод**\n",
    "\n",
    "Датасеты не содержат пропусков и дубликатов. Для столбцов с датами - типы данных были изменены на соответствующие.\n",
    "Но количество пользователей в  группах различается  более, чем на 1% и также есть клиенты, которые попали в 2 группы сразу.\n",
    "В реальной практике необходимо бы было обратиться к коллегам по наладке системы тестирования и провести эксперимент заново.\n",
    "В текущем случае проанализируем данные - как есть."
   ]
  },
  {
   "cell_type": "markdown",
   "metadata": {},
   "source": [
    "###  Кумулятивные метрики"
   ]
  },
  {
   "cell_type": "code",
   "execution_count": 20,
   "metadata": {},
   "outputs": [
    {
     "data": {
      "text/html": [
       "<div>\n",
       "<style scoped>\n",
       "    .dataframe tbody tr th:only-of-type {\n",
       "        vertical-align: middle;\n",
       "    }\n",
       "\n",
       "    .dataframe tbody tr th {\n",
       "        vertical-align: top;\n",
       "    }\n",
       "\n",
       "    .dataframe thead th {\n",
       "        text-align: right;\n",
       "    }\n",
       "</style>\n",
       "<table border=\"1\" class=\"dataframe\">\n",
       "  <thead>\n",
       "    <tr style=\"text-align: right;\">\n",
       "      <th></th>\n",
       "      <th>date</th>\n",
       "      <th>group</th>\n",
       "      <th>orders</th>\n",
       "      <th>buyers</th>\n",
       "      <th>revenue</th>\n",
       "      <th>visitors</th>\n",
       "    </tr>\n",
       "  </thead>\n",
       "  <tbody>\n",
       "    <tr>\n",
       "      <th>0</th>\n",
       "      <td>2019-08-01</td>\n",
       "      <td>A</td>\n",
       "      <td>24</td>\n",
       "      <td>20</td>\n",
       "      <td>148579</td>\n",
       "      <td>719</td>\n",
       "    </tr>\n",
       "    <tr>\n",
       "      <th>1</th>\n",
       "      <td>2019-08-01</td>\n",
       "      <td>B</td>\n",
       "      <td>21</td>\n",
       "      <td>20</td>\n",
       "      <td>101217</td>\n",
       "      <td>713</td>\n",
       "    </tr>\n",
       "    <tr>\n",
       "      <th>2</th>\n",
       "      <td>2019-08-02</td>\n",
       "      <td>A</td>\n",
       "      <td>44</td>\n",
       "      <td>38</td>\n",
       "      <td>242401</td>\n",
       "      <td>1338</td>\n",
       "    </tr>\n",
       "    <tr>\n",
       "      <th>3</th>\n",
       "      <td>2019-08-02</td>\n",
       "      <td>B</td>\n",
       "      <td>45</td>\n",
       "      <td>43</td>\n",
       "      <td>266748</td>\n",
       "      <td>1294</td>\n",
       "    </tr>\n",
       "    <tr>\n",
       "      <th>4</th>\n",
       "      <td>2019-08-03</td>\n",
       "      <td>A</td>\n",
       "      <td>68</td>\n",
       "      <td>62</td>\n",
       "      <td>354874</td>\n",
       "      <td>1845</td>\n",
       "    </tr>\n",
       "  </tbody>\n",
       "</table>\n",
       "</div>"
      ],
      "text/plain": [
       "        date group  orders  buyers  revenue  visitors\n",
       "0 2019-08-01     A      24      20   148579       719\n",
       "1 2019-08-01     B      21      20   101217       713\n",
       "2 2019-08-02     A      44      38   242401      1338\n",
       "3 2019-08-02     B      45      43   266748      1294\n",
       "4 2019-08-03     A      68      62   354874      1845"
      ]
     },
     "execution_count": 20,
     "metadata": {},
     "output_type": "execute_result"
    }
   ],
   "source": [
    "# массив уникальных пар значений дат и групп теста\n",
    "datesGroups = orders[['date','group']].drop_duplicates()\n",
    "\n",
    "# агрегированные кумулятивные по дням данные о заказах \n",
    "ordersAggregated = datesGroups.\\\n",
    "apply(lambda x: orders[np.logical_and(orders['date'] <= x['date'], orders['group'] == x['group'])]\\\n",
    ".agg({'date' : 'max', 'group' : 'max', 'order_id' : 'nunique', 'visitor_id' : 'nunique', 'revenue' : 'sum'}), axis=1)\\\n",
    ".sort_values(by=['date','group']) \n",
    "# агрегированные кумулятивные по дням данные о посетителях интернет-магазина \n",
    "visitorsAggregated = datesGroups.\\\n",
    "apply(lambda x: visitors[np.logical_and(visitors['date'] <= x['date'], visitors['group'] == x['group'])].\\\n",
    "agg({'date' : 'max', 'group' : 'max', 'visitors' : 'sum'}), axis=1).sort_values(by=['date','group'])\n",
    "\n",
    "# объединение кумулятивные данных в одной таблице и присваиваем ее столбцам понятные названия\n",
    "cumulativeData = ordersAggregated.merge(visitorsAggregated, left_on=['date', 'group'], right_on=['date', 'group'])\n",
    "cumulativeData.columns = ['date', 'group', 'orders', 'buyers', 'revenue', 'visitors']\n",
    "\n",
    "cumulativeData.head(5)"
   ]
  },
  {
   "cell_type": "code",
   "execution_count": 21,
   "metadata": {},
   "outputs": [
    {
     "data": {
      "image/png": "[encoded data removed]",
      "text/plain": [
       "<Figure size 1080x504 with 1 Axes>"
      ]
     },
     "metadata": {
      "needs_background": "light"
     },
     "output_type": "display_data"
    }
   ],
   "source": [
    "# датафрейм с кумулятивным количеством заказов и кумулятивной выручкой по дням в группе А\n",
    "cumulativeRevenueA = cumulativeData[cumulativeData['group']=='A'][['date','revenue', 'orders']]\n",
    "\n",
    "# датафрейм с кумулятивным количеством заказов и кумулятивной выручкой по дням в группе B\n",
    "cumulativeRevenueB = cumulativeData[cumulativeData['group']=='B'][['date','revenue', 'orders']]\n",
    "plt.figure(figsize=(15,7))\n",
    "# график выручки группы А\n",
    "plt.plot(cumulativeRevenueA['date'], cumulativeRevenueA['revenue'], label='A')\n",
    "\n",
    "# график выручки группы B\n",
    "plt.plot(cumulativeRevenueB['date'], cumulativeRevenueB['revenue'], label='B')\n",
    "\n",
    "\n",
    "plt.title('График кумулятивной выручки по группам')\n",
    "plt.xlabel('Временной интервал')\n",
    "plt.ylabel('Выручка')\n",
    "plt.grid()\n",
    "plt.xticks(rotation=45 )\n",
    "plt.legend();"
   ]
  },
  {
   "cell_type": "markdown",
   "metadata": {},
   "source": [
    "Выручка почти равномерно увеличивается в течение всего теста. \n",
    "Однако график выручки группы В резко растет в одной точке. Это может сигнализировать о всплесках числа заказов, либо о появлении очень дорогих заказов в выборке. У группы А также есть небольшой скачок. Необходимо будет проанализировать выбросы"
   ]
  },
  {
   "cell_type": "code",
   "execution_count": 22,
   "metadata": {},
   "outputs": [
    {
     "data": {
      "image/png": "[encoded data removed]",
      "text/plain": [
       "<Figure size 1080x504 with 1 Axes>"
      ]
     },
     "metadata": {
      "needs_background": "light"
     },
     "output_type": "display_data"
    }
   ],
   "source": [
    "# графики среднего чека по группам\n",
    "plt.figure(figsize=(15,7))\n",
    "plt.plot(cumulativeRevenueA['date'], cumulativeRevenueA['revenue']/cumulativeRevenueA['orders'], label='A')\n",
    "plt.plot(cumulativeRevenueB['date'], cumulativeRevenueB['revenue']/cumulativeRevenueB['orders'], label='B')\n",
    "plt.title('График кумулятивного среднего чека по группам')\n",
    "plt.xlabel('Временной интервал')\n",
    "plt.ylabel('Средний чек')\n",
    "plt.grid()\n",
    "plt.xticks(rotation=45 )\n",
    "plt.legend();"
   ]
  },
  {
   "cell_type": "markdown",
   "metadata": {},
   "source": [
    "Средний чек тоже становится равномерным ближе к концу теста. Но есть большие всплески и падения в обеих группах в первой половине.  Возможно, нужно больше данных, чтобы прийти к реальному среднему чеку и установиться на его уровне."
   ]
  },
  {
   "cell_type": "code",
   "execution_count": 23,
   "metadata": {},
   "outputs": [
    {
     "data": {
      "image/png": "[encoded data removed]",
      "text/plain": [
       "<Figure size 1080x504 with 1 Axes>"
      ]
     },
     "metadata": {
      "needs_background": "light"
     },
     "output_type": "display_data"
    }
   ],
   "source": [
    "# сборка данных в одном датафрейме\n",
    "mergedCumulativeRevenue = cumulativeRevenueA.\\\n",
    "merge(cumulativeRevenueB, left_on='date', right_on='date', how='left', suffixes=['A', 'B'])\n",
    "plt.figure(figsize=(15,7))\n",
    "# отношение средних чеков\n",
    "plt.plot(mergedCumulativeRevenue['date'],\\\n",
    "         (mergedCumulativeRevenue['revenueB']/mergedCumulativeRevenue['ordersB'])\\\n",
    "         /(mergedCumulativeRevenue['revenueA']/mergedCumulativeRevenue['ordersA'])-1)\n",
    "\n",
    "# ось X\n",
    "plt.axhline(y=0, color='black', linestyle='--')\n",
    "plt.title('График относительного изменения кумулятивного среднего чека группы B к группе A')\n",
    "plt.xlabel('Временной интервал')\n",
    "plt.ylabel('Изменение среднего чека')\n",
    "plt.grid()\n",
    "plt.xticks(rotation=45 );"
   ]
  },
  {
   "cell_type": "markdown",
   "metadata": {},
   "source": [
    "В нескольких точках график различия между сегментами резко «скачет», что доказывает наличие выбросов. В основном средний чек группы В превышает чек группы А, но есть и одноразавое резкое падение."
   ]
  },
  {
   "cell_type": "code",
   "execution_count": 24,
   "metadata": {},
   "outputs": [
    {
     "data": {
      "image/png": "[encoded data removed]",
      "text/plain": [
       "<Figure size 1080x504 with 1 Axes>"
      ]
     },
     "metadata": {
      "needs_background": "light"
     },
     "output_type": "display_data"
    }
   ],
   "source": [
    "# кумулятивное количество заказов\n",
    "cumulativeData['conversion'] = cumulativeData['orders']/cumulativeData['visitors']\n",
    "\n",
    "# данные по группе A\n",
    "cumulativeDataA = cumulativeData[cumulativeData['group']=='A']\n",
    "\n",
    "# данные по группе B\n",
    "cumulativeDataB = cumulativeData[cumulativeData['group']=='B']\n",
    "plt.figure(figsize=(15,7))\n",
    "#  графики\n",
    "plt.plot(cumulativeDataA['date'], cumulativeDataA['conversion'], label='A')\n",
    "plt.plot(cumulativeDataB['date'], cumulativeDataB['conversion'], label='B')\n",
    "plt.title('График кумулятивного среднего количества заказов на посетителя по группам')\n",
    "plt.xlabel('Временной интервал')\n",
    "plt.ylabel('Количество заказов')\n",
    "plt.grid()\n",
    "plt.xticks(rotation=45 )\n",
    "plt.legend();"
   ]
  },
  {
   "cell_type": "markdown",
   "metadata": {},
   "source": [
    "График симметричный. Группы колебались около одного значения, но затем количество заказов зафиксировалось. Количество заказов группы В превышает заказы группы А."
   ]
  },
  {
   "cell_type": "code",
   "execution_count": 25,
   "metadata": {},
   "outputs": [
    {
     "data": {
      "image/png": "[encoded data removed]",
      "text/plain": [
       "<Figure size 1080x504 with 1 Axes>"
      ]
     },
     "metadata": {
      "needs_background": "light"
     },
     "output_type": "display_data"
    }
   ],
   "source": [
    "#  графики\n",
    "mergedCumulativeConversions = cumulativeDataA[['date','conversion']]\\\n",
    ".merge(cumulativeDataB[['date','conversion']], left_on='date', right_on='date', how='left', suffixes=['A', 'B'])\n",
    "#  графики\n",
    "plt.figure(figsize=(15,7))\n",
    "plt.plot(mergedCumulativeConversions['date'], \\\n",
    "         mergedCumulativeConversions['conversionB']\\\n",
    "         /mergedCumulativeConversions['conversionA']-1, label=\"Относительный прирост конверсии группы B относительно группы A\")\n",
    "plt.title('График относительного изменения кумулятивного среднего количества заказов на посетителя группы B к группе A')\n",
    "plt.xlabel('Временной интервал')\n",
    "plt.ylabel('Изменение количества заказов')\n",
    "plt.grid()\n",
    "plt.xticks(rotation=45 )\n",
    "plt.legend()\n",
    "\n",
    "plt.axhline(y=0, color='black', linestyle='--')\n",
    "plt.axhline(y=-0.1, color='grey', linestyle='--');\n",
    "plt.axhline(y=0.1, color='black', linestyle='--');"
   ]
  },
  {
   "cell_type": "markdown",
   "metadata": {},
   "source": [
    "Количество заказов группы В почти на протяжении всего теста превышало количество заказов группы А более чем на 10%. В начале теста имелся большой спад."
   ]
  },
  {
   "cell_type": "markdown",
   "metadata": {},
   "source": [
    "### Анализ выбросов и всплесков"
   ]
  },
  {
   "cell_type": "code",
   "execution_count": 26,
   "metadata": {},
   "outputs": [
    {
     "data": {
      "text/html": [
       "<div>\n",
       "<style scoped>\n",
       "    .dataframe tbody tr th:only-of-type {\n",
       "        vertical-align: middle;\n",
       "    }\n",
       "\n",
       "    .dataframe tbody tr th {\n",
       "        vertical-align: top;\n",
       "    }\n",
       "\n",
       "    .dataframe thead th {\n",
       "        text-align: right;\n",
       "    }\n",
       "</style>\n",
       "<table border=\"1\" class=\"dataframe\">\n",
       "  <thead>\n",
       "    <tr style=\"text-align: right;\">\n",
       "      <th></th>\n",
       "      <th>visitor_id</th>\n",
       "      <th>order_id</th>\n",
       "    </tr>\n",
       "  </thead>\n",
       "  <tbody>\n",
       "    <tr>\n",
       "      <th>0</th>\n",
       "      <td>5114589</td>\n",
       "      <td>1</td>\n",
       "    </tr>\n",
       "    <tr>\n",
       "      <th>1</th>\n",
       "      <td>6958315</td>\n",
       "      <td>1</td>\n",
       "    </tr>\n",
       "    <tr>\n",
       "      <th>2</th>\n",
       "      <td>8300375</td>\n",
       "      <td>2</td>\n",
       "    </tr>\n",
       "    <tr>\n",
       "      <th>3</th>\n",
       "      <td>11685486</td>\n",
       "      <td>1</td>\n",
       "    </tr>\n",
       "    <tr>\n",
       "      <th>4</th>\n",
       "      <td>39475350</td>\n",
       "      <td>1</td>\n",
       "    </tr>\n",
       "    <tr>\n",
       "      <th>...</th>\n",
       "      <td>...</td>\n",
       "      <td>...</td>\n",
       "    </tr>\n",
       "    <tr>\n",
       "      <th>1026</th>\n",
       "      <td>4266935830</td>\n",
       "      <td>2</td>\n",
       "    </tr>\n",
       "    <tr>\n",
       "      <th>1027</th>\n",
       "      <td>4278982564</td>\n",
       "      <td>1</td>\n",
       "    </tr>\n",
       "    <tr>\n",
       "      <th>1028</th>\n",
       "      <td>4279090005</td>\n",
       "      <td>1</td>\n",
       "    </tr>\n",
       "    <tr>\n",
       "      <th>1029</th>\n",
       "      <td>4281247801</td>\n",
       "      <td>1</td>\n",
       "    </tr>\n",
       "    <tr>\n",
       "      <th>1030</th>\n",
       "      <td>4283872382</td>\n",
       "      <td>1</td>\n",
       "    </tr>\n",
       "  </tbody>\n",
       "</table>\n",
       "<p>1031 rows × 2 columns</p>\n",
       "</div>"
      ],
      "text/plain": [
       "      visitor_id  order_id\n",
       "0        5114589         1\n",
       "1        6958315         1\n",
       "2        8300375         2\n",
       "3       11685486         1\n",
       "4       39475350         1\n",
       "...          ...       ...\n",
       "1026  4266935830         2\n",
       "1027  4278982564         1\n",
       "1028  4279090005         1\n",
       "1029  4281247801         1\n",
       "1030  4283872382         1\n",
       "\n",
       "[1031 rows x 2 columns]"
      ]
     },
     "execution_count": 26,
     "metadata": {},
     "output_type": "execute_result"
    }
   ],
   "source": [
    "#количество заказов по пользователям\n",
    "ordersByUsers = (\n",
    "    orders.groupby('visitor_id', as_index=False)\n",
    "    .agg({'order_id': 'nunique'})\n",
    ")\n",
    "ordersByUsers"
   ]
  },
  {
   "cell_type": "code",
   "execution_count": 27,
   "metadata": {},
   "outputs": [
    {
     "data": {
      "image/png": "[encoded data removed]",
      "text/plain": [
       "<Figure size 432x288 with 1 Axes>"
      ]
     },
     "metadata": {
      "needs_background": "light"
     },
     "output_type": "display_data"
    }
   ],
   "source": [
    "# точечная диаграмма числа заказов на одного пользователя\n",
    "x_values = pd.Series(range(0,len(ordersByUsers)))\n",
    "plt.scatter(x_values, ordersByUsers['order_id'])\n",
    "plt.xlabel('Пользователи')\n",
    "plt.ylabel('Заказы')\n",
    "plt.grid()\n",
    "plt.title('Точечный график количества заказов по пользователям');"
   ]
  },
  {
   "cell_type": "markdown",
   "metadata": {},
   "source": [
    "Согласно графику много пользователей с 2-4 заказами. Их точная доля не ясна — непонятно, считать их аномалиями или нет. "
   ]
  },
  {
   "cell_type": "code",
   "execution_count": 28,
   "metadata": {},
   "outputs": [
    {
     "data": {
      "text/plain": [
       "array([2., 4.])"
      ]
     },
     "execution_count": 28,
     "metadata": {},
     "output_type": "execute_result"
    }
   ],
   "source": [
    "# расчет перцентилей\n",
    "np.percentile(ordersByUsers['order_id'], [95, 99])"
   ]
  },
  {
   "cell_type": "markdown",
   "metadata": {},
   "source": [
    "Не более 5% пользователей оформляли больше чем 2 заказа. И 1% пользователей заказывали более 4 раз. "
   ]
  },
  {
   "cell_type": "code",
   "execution_count": 44,
   "metadata": {},
   "outputs": [
    {
     "data": {
      "image/png": "[encoded data removed]",
      "text/plain": [
       "<Figure size 1080x360 with 2 Axes>"
      ]
     },
     "metadata": {
      "needs_background": "light"
     },
     "output_type": "display_data"
    }
   ],
   "source": [
    "# точечная диаграмма стоимости заказов\n",
    "plt.figure(figsize=(15, 5))\n",
    "pylab.subplot (1, 2, 1)\n",
    "x_values = pd.Series(range(0, len(orders['revenue'])))\n",
    "plt.scatter(x_values,orders['revenue']) \n",
    "plt.xlabel('Заказы')\n",
    "plt.ylabel('Стоимость')\n",
    "plt.grid()\n",
    "plt.title('Точечный график стоимостей заказов');\n",
    "# точечная диаграмма стоимости заказов без выбросов\n",
    "pylab.subplot (1, 2, 2)\n",
    "x_values = pd.Series(range(0, len(orders['revenue'])-2))\n",
    "plt.scatter(x_values, orders.query('revenue<=200000')['revenue']);\n",
    "plt.xlabel('Заказы')\n",
    "plt.ylabel('Стоимость')\n",
    "plt.grid()\n",
    "plt.title('Точечный график стоимостей заказов без аномалий');"
   ]
  },
  {
   "cell_type": "markdown",
   "metadata": {},
   "source": [
    "В основном все заказы до 40 000 рублей. Есть выбросы в 200 тысяч и больше миллиона. "
   ]
  },
  {
   "cell_type": "code",
   "execution_count": 30,
   "metadata": {},
   "outputs": [
    {
     "data": {
      "text/plain": [
       "array([28000. , 58233.2])"
      ]
     },
     "execution_count": 30,
     "metadata": {},
     "output_type": "execute_result"
    }
   ],
   "source": [
    "# расчет перцентилей\n",
    "np.percentile(orders['revenue'], [95, 99])"
   ]
  },
  {
   "cell_type": "markdown",
   "metadata": {},
   "source": [
    "Не более у 5% заказов чек дороже 28 тысяч и только у 1% больше чем 58 тысяч.\n",
    "\n",
    "В дальнейшем аналазие примем за аномальных пользователей тех, кто совершил от 2 заказов или совершил заказ дороже 28 000 рублей. Так мы уберём 5% пользователей с наибольшим числом заказов и самыми дорогими заказами. "
   ]
  },
  {
   "cell_type": "markdown",
   "metadata": {},
   "source": [
    "### Статистическая значимость по «сырым» данным"
   ]
  },
  {
   "cell_type": "markdown",
   "metadata": {},
   "source": [
    "***Гипотезы***\n",
    "\n",
    "Нулевая: различий в среднем количестве заказов между группами нет.\n",
    "\n",
    "Альтернативная: различия в среднем между группами есть."
   ]
  },
  {
   "cell_type": "code",
   "execution_count": 31,
   "metadata": {},
   "outputs": [],
   "source": [
    "# число совершённых заказов по пользователям\n",
    "ordersByUsersA = (\n",
    "    orders[orders['group'] == 'A']\n",
    "    .groupby('visitor_id', as_index=False)\n",
    "    .agg({'order_id': pd.Series.nunique})\n",
    ")\n",
    "ordersByUsersA.columns = ['visitor_id', 'orders']\n",
    "\n",
    "ordersByUsersB = (\n",
    "    orders[orders['group'] == 'B']\n",
    "    .groupby('visitor_id', as_index=False)\n",
    "    .agg({'order_id': pd.Series.nunique})\n",
    ")\n",
    "ordersByUsersB.columns = ['visitor_id', 'orders'] "
   ]
  },
  {
   "cell_type": "code",
   "execution_count": 32,
   "metadata": {},
   "outputs": [
    {
     "data": {
      "text/html": [
       "<div>\n",
       "<style scoped>\n",
       "    .dataframe tbody tr th:only-of-type {\n",
       "        vertical-align: middle;\n",
       "    }\n",
       "\n",
       "    .dataframe tbody tr th {\n",
       "        vertical-align: top;\n",
       "    }\n",
       "\n",
       "    .dataframe thead th {\n",
       "        text-align: right;\n",
       "    }\n",
       "</style>\n",
       "<table border=\"1\" class=\"dataframe\">\n",
       "  <thead>\n",
       "    <tr style=\"text-align: right;\">\n",
       "      <th></th>\n",
       "      <th>date</th>\n",
       "      <th>A</th>\n",
       "      <th>B</th>\n",
       "    </tr>\n",
       "  </thead>\n",
       "  <tbody>\n",
       "    <tr>\n",
       "      <th>0</th>\n",
       "      <td>2019-08-01</td>\n",
       "      <td>719</td>\n",
       "      <td>713</td>\n",
       "    </tr>\n",
       "    <tr>\n",
       "      <th>1</th>\n",
       "      <td>2019-08-02</td>\n",
       "      <td>619</td>\n",
       "      <td>581</td>\n",
       "    </tr>\n",
       "    <tr>\n",
       "      <th>2</th>\n",
       "      <td>2019-08-03</td>\n",
       "      <td>507</td>\n",
       "      <td>509</td>\n",
       "    </tr>\n",
       "    <tr>\n",
       "      <th>3</th>\n",
       "      <td>2019-08-04</td>\n",
       "      <td>717</td>\n",
       "      <td>770</td>\n",
       "    </tr>\n",
       "    <tr>\n",
       "      <th>4</th>\n",
       "      <td>2019-08-05</td>\n",
       "      <td>756</td>\n",
       "      <td>707</td>\n",
       "    </tr>\n",
       "  </tbody>\n",
       "</table>\n",
       "</div>"
      ],
      "text/plain": [
       "        date    A    B\n",
       "0 2019-08-01  719  713\n",
       "1 2019-08-02  619  581\n",
       "2 2019-08-03  507  509\n",
       "3 2019-08-04  717  770\n",
       "4 2019-08-05  756  707"
      ]
     },
     "execution_count": 32,
     "metadata": {},
     "output_type": "execute_result"
    }
   ],
   "source": [
    "# количество посещений \n",
    "visitorsPerDate = visitors.pivot_table(index='date', columns='group', values='visitors', aggfunc=['sum']).reset_index()\n",
    "visitorsPerDate.columns=['date','A','B']\n",
    "visitorsPerDate.head()"
   ]
  },
  {
   "cell_type": "code",
   "execution_count": 33,
   "metadata": {},
   "outputs": [],
   "source": [
    "# объединение последовательностей для определения числа заказов по пользователям\n",
    "sampleA = pd.concat([ordersByUsersA['orders'],\\\n",
    "pd.Series(0, \\\n",
    "index=np.arange(visitorsPerDate['A'].sum() - len(ordersByUsersA['orders'])), name='orders')],axis=0)\n",
    "\n",
    "sampleB = pd.concat([ordersByUsersB['orders'],\\\n",
    "pd.Series(0, \\\n",
    "index=np.arange(visitorsPerDate['B'].sum() - len(ordersByUsersB['orders'])), name='orders')],axis=0) "
   ]
  },
  {
   "cell_type": "code",
   "execution_count": 34,
   "metadata": {},
   "outputs": [
    {
     "name": "stdout",
     "output_type": "stream",
     "text": [
      "0.017\n",
      "0.138\n"
     ]
    }
   ],
   "source": [
    "# расчет критерия Манна-Уитни\n",
    "print(\"{0:.3f}\".format(stats.mannwhitneyu(sampleA, sampleB)[1]))\n",
    "\n",
    "print(\"{0:.3f}\".format(sampleB.mean() / sampleA.mean() - 1))"
   ]
  },
  {
   "cell_type": "markdown",
   "metadata": {},
   "source": [
    "Вывод: По «сырым» данным есть различия в среднем числе заказов групп A и B. \n",
    "Первое число — p-value = 0.017 меньше 0.05. Значит, нулевую гипотезу можно отвергнуть. \n",
    "Относительное превосходство группы B равно 13.8%."
   ]
  },
  {
   "cell_type": "markdown",
   "metadata": {},
   "source": [
    "***Гипотезы***\n",
    "\n",
    "Нулевая гипотеза: различий в среднем чеке между группами нет. \n",
    "\n",
    "Альтернативная гипотеза: различия в среднем чеке между группами есть. "
   ]
  },
  {
   "cell_type": "code",
   "execution_count": 35,
   "metadata": {},
   "outputs": [
    {
     "name": "stdout",
     "output_type": "stream",
     "text": [
      "0.729\n",
      "0.259\n"
     ]
    }
   ],
   "source": [
    "# расчет критерия Манна-Уитни\n",
    "print('{0:.3f}'.\\\n",
    "format(stats.mannwhitneyu(orders[orders['group']=='A']['revenue'], \\\n",
    "                        orders[orders['group']=='B']['revenue'])[1]))\n",
    "print('{0:.3f}'.\\\n",
    "format(orders[orders['group']=='B']['revenue'].\\\n",
    "       mean()/orders[orders['group']=='A']['revenue'].mean()-1)) "
   ]
  },
  {
   "cell_type": "markdown",
   "metadata": {},
   "source": [
    "P-value значительно больше 0.05. Следовательно мы не можем  отвергнуть нулевую гипотезу и считать, что в среднем чеке есть различия. Cредний чек группы B выше среднего чека группы A на 25.9%, что свидетельствует о влиянии выбросов. "
   ]
  },
  {
   "cell_type": "markdown",
   "metadata": {},
   "source": [
    "Ранее приняли за аномальных пользователей тех, кто совершил от 2 заказов или совершил заказ дороже 28 000 рублей. "
   ]
  },
  {
   "cell_type": "code",
   "execution_count": 36,
   "metadata": {},
   "outputs": [
    {
     "data": {
      "text/plain": [
       "74"
      ]
     },
     "execution_count": 36,
     "metadata": {},
     "output_type": "execute_result"
    }
   ],
   "source": [
    "# срезы пользователей с числом заказов больше 2 \n",
    "usersWithManyOrders = pd.concat(\n",
    "    [\n",
    "        ordersByUsersA[ordersByUsersA['orders'] > 2]['visitor_id'],\n",
    "        ordersByUsersB[ordersByUsersB['orders'] > 2]['visitor_id'],\n",
    "    ],\n",
    "    axis=0,\n",
    ")\n",
    "\n",
    "# и пользователей, совершивших заказы дороже 28 000\n",
    "usersWithExpensiveOrders = orders[orders['revenue'] > 28000]['visitor_id']\n",
    "abnormalUsers = (\n",
    "    pd.concat([usersWithManyOrders, usersWithExpensiveOrders], axis=0)\n",
    "    .drop_duplicates()\n",
    "    .sort_values()\n",
    ")\n",
    "abnormalUsers.shape[0]"
   ]
  },
  {
   "cell_type": "markdown",
   "metadata": {},
   "source": [
    "Всего 74 аномальных пользователя"
   ]
  },
  {
   "cell_type": "code",
   "execution_count": 37,
   "metadata": {},
   "outputs": [],
   "source": [
    "# выборки количества заказов по пользователям по группам теста\n",
    "sampleAFiltered = pd.concat(\n",
    "    [\n",
    "        ordersByUsersA[\n",
    "            np.logical_not(ordersByUsersA['visitor_id'].isin(abnormalUsers))\n",
    "        ]['orders'],\n",
    "        pd.Series(\n",
    "            0,\n",
    "            index=np.arange(\n",
    "                visitorsPerDate['A'].sum() - len(ordersByUsersA['orders'])\n",
    "            ),\n",
    "            name='orders',\n",
    "        ),\n",
    "    ],\n",
    "    axis=0,\n",
    ")\n",
    "\n",
    "sampleBFiltered = pd.concat(\n",
    "    [\n",
    "        ordersByUsersB[\n",
    "            np.logical_not(ordersByUsersB['visitor_id'].isin(abnormalUsers))\n",
    "        ]['orders'],\n",
    "        pd.Series(\n",
    "            0,\n",
    "            index=np.arange(\n",
    "                visitorsPerDate['B'].sum() - len(ordersByUsersB['orders'])\n",
    "            ),\n",
    "            name='orders',\n",
    "        ),\n",
    "    ],\n",
    "    axis=0,\n",
    ") "
   ]
  },
  {
   "cell_type": "code",
   "execution_count": 38,
   "metadata": {},
   "outputs": [
    {
     "name": "stdout",
     "output_type": "stream",
     "text": [
      "0.013\n",
      "0.173\n"
     ]
    }
   ],
   "source": [
    "#критерий Манна-Уитни\n",
    "print('{0:.3f}'.format(stats.mannwhitneyu(sampleAFiltered, sampleBFiltered)[1]))\n",
    "print('{0:.3f}'.format(sampleBFiltered.mean()/sampleAFiltered.mean()-1))"
   ]
  },
  {
   "cell_type": "markdown",
   "metadata": {},
   "source": [
    "p-value все также  меньше 0.05. Относительный выигрыш группы B стал 17.3%."
   ]
  },
  {
   "cell_type": "code",
   "execution_count": 39,
   "metadata": {},
   "outputs": [
    {
     "name": "stdout",
     "output_type": "stream",
     "text": [
      "0.738\n",
      "-0.020\n"
     ]
    }
   ],
   "source": [
    "#критерий Манна-Уитни\n",
    "print(\n",
    "    '{0:.3f}'.format(\n",
    "        stats.mannwhitneyu(\n",
    "            orders[\n",
    "                np.logical_and(\n",
    "                    orders['group'] == 'A',\n",
    "                    np.logical_not(orders['visitor_id'].isin(abnormalUsers)),\n",
    "                )\n",
    "            ]['revenue'],\n",
    "            orders[\n",
    "                np.logical_and(\n",
    "                    orders['group'] == 'B',\n",
    "                    np.logical_not(orders['visitor_id'].isin(abnormalUsers)),\n",
    "                )\n",
    "            ]['revenue'],\n",
    "        )[1]\n",
    "    )\n",
    ")\n",
    "\n",
    "print(\n",
    "    \"{0:.3f}\".format(\n",
    "        orders[\n",
    "            np.logical_and(\n",
    "                orders['group'] == 'B',\n",
    "                np.logical_not(orders['visitor_id'].isin(abnormalUsers)),\n",
    "            )\n",
    "        ]['revenue'].mean()\n",
    "        / orders[\n",
    "            np.logical_and(\n",
    "                orders['group'] == 'A',\n",
    "                np.logical_not(orders['visitor_id'].isin(abnormalUsers)),\n",
    "            )\n",
    "        ]['revenue'].mean()\n",
    "        - 1\n",
    "    )\n",
    ") "
   ]
  },
  {
   "cell_type": "markdown",
   "metadata": {},
   "source": [
    "P-value увеличился, но и разница между сегментами сократилась с 25% до 2% в обратную сторону. Что еще раз наглядно демонстрирует влияние аномалий."
   ]
  },
  {
   "cell_type": "markdown",
   "metadata": {},
   "source": [
    "**Вывод**\n",
    "\n",
    "Существует статистически значимое различие по среднему количеству заказов между группами и  по «сырым» и  по данным после фильтрации аномалий\n",
    "\n",
    "Нет статистически значимого различия по среднему чеку между группами ни по «сырым», ни по данным после фильтрации аномалий\n",
    "\n",
    "Количество заказов группы B лучше группы A. .\n",
    "Следовательно, тест следует остановить и признать победу группы В.\n",
    "Внедрение изменений поможет увеличить количество заказов (при сохранении среднего чека), что приведет к росту выручки компании.\n"
   ]
  },
  {
   "cell_type": "code",
   "execution_count": null,
   "metadata": {},
   "outputs": [],
   "source": []
  }
 ],
 "metadata": {
  "ExecuteTimeLog": [
   {
    "duration": 815,
    "start_time": "2022-12-30T07:09:22.482Z"
   },
   {
    "duration": 70,
    "start_time": "2022-12-30T07:11:28.778Z"
   },
   {
    "duration": 412,
    "start_time": "2022-12-30T07:11:41.187Z"
   },
   {
    "duration": 27,
    "start_time": "2022-12-30T07:11:52.301Z"
   },
   {
    "duration": 323,
    "start_time": "2022-12-30T07:11:55.101Z"
   },
   {
    "duration": 13,
    "start_time": "2022-12-30T07:12:05.646Z"
   },
   {
    "duration": 8,
    "start_time": "2022-12-30T07:12:59.291Z"
   },
   {
    "duration": 1162,
    "start_time": "2022-12-30T07:17:05.827Z"
   },
   {
    "duration": 3,
    "start_time": "2022-12-30T07:21:42.297Z"
   },
   {
    "duration": 6,
    "start_time": "2022-12-30T07:21:45.232Z"
   },
   {
    "duration": 3,
    "start_time": "2022-12-30T07:22:05.760Z"
   },
   {
    "duration": 13,
    "start_time": "2022-12-30T07:22:55.405Z"
   },
   {
    "duration": 6,
    "start_time": "2022-12-30T07:23:09.313Z"
   },
   {
    "duration": 16,
    "start_time": "2022-12-30T07:23:10.977Z"
   },
   {
    "duration": 3,
    "start_time": "2022-12-30T07:28:26.049Z"
   },
   {
    "duration": 12,
    "start_time": "2022-12-30T07:28:28.574Z"
   },
   {
    "duration": 4,
    "start_time": "2022-12-30T07:29:39.255Z"
   },
   {
    "duration": 3,
    "start_time": "2022-12-30T07:31:20.195Z"
   },
   {
    "duration": 39,
    "start_time": "2022-12-30T07:31:20.200Z"
   },
   {
    "duration": 8,
    "start_time": "2022-12-30T07:31:20.241Z"
   },
   {
    "duration": 6,
    "start_time": "2022-12-30T07:31:20.251Z"
   },
   {
    "duration": 43,
    "start_time": "2022-12-30T07:31:20.259Z"
   },
   {
    "duration": 44,
    "start_time": "2022-12-30T07:31:20.304Z"
   },
   {
    "duration": 13,
    "start_time": "2022-12-30T07:31:20.350Z"
   },
   {
    "duration": 11,
    "start_time": "2022-12-30T07:31:40.958Z"
   },
   {
    "duration": 44,
    "start_time": "2022-12-30T15:15:17.660Z"
   },
   {
    "duration": 760,
    "start_time": "2022-12-30T15:15:23.875Z"
   },
   {
    "duration": 58,
    "start_time": "2022-12-30T15:15:24.639Z"
   },
   {
    "duration": 11,
    "start_time": "2022-12-30T15:15:24.698Z"
   },
   {
    "duration": 22,
    "start_time": "2022-12-30T15:15:24.711Z"
   },
   {
    "duration": 35,
    "start_time": "2022-12-30T15:15:24.735Z"
   },
   {
    "duration": 29,
    "start_time": "2022-12-30T15:15:24.771Z"
   },
   {
    "duration": 37,
    "start_time": "2022-12-30T15:15:24.801Z"
   },
   {
    "duration": 19,
    "start_time": "2022-12-30T15:15:24.840Z"
   },
   {
    "duration": 14,
    "start_time": "2022-12-30T15:16:19.949Z"
   },
   {
    "duration": 13,
    "start_time": "2022-12-30T15:16:27.882Z"
   },
   {
    "duration": 4,
    "start_time": "2022-12-30T15:16:29.340Z"
   },
   {
    "duration": 4,
    "start_time": "2022-12-30T15:16:32.685Z"
   },
   {
    "duration": 78,
    "start_time": "2022-12-30T15:16:32.692Z"
   },
   {
    "duration": 10,
    "start_time": "2022-12-30T15:16:32.772Z"
   },
   {
    "duration": 55,
    "start_time": "2022-12-30T15:16:32.784Z"
   },
   {
    "duration": 45,
    "start_time": "2022-12-30T15:16:32.841Z"
   },
   {
    "duration": 41,
    "start_time": "2022-12-30T15:16:32.888Z"
   },
   {
    "duration": 53,
    "start_time": "2022-12-30T15:16:32.931Z"
   },
   {
    "duration": 49,
    "start_time": "2022-12-30T15:16:32.986Z"
   },
   {
    "duration": 11,
    "start_time": "2022-12-30T15:18:00.736Z"
   },
   {
    "duration": 45,
    "start_time": "2022-12-30T15:18:14.477Z"
   },
   {
    "duration": 42,
    "start_time": "2022-12-30T15:18:18.891Z"
   },
   {
    "duration": 10,
    "start_time": "2022-12-30T15:18:28.497Z"
   },
   {
    "duration": 3,
    "start_time": "2022-12-30T15:18:32.543Z"
   },
   {
    "duration": 30,
    "start_time": "2022-12-30T15:18:32.548Z"
   },
   {
    "duration": 8,
    "start_time": "2022-12-30T15:18:32.580Z"
   },
   {
    "duration": 8,
    "start_time": "2022-12-30T15:18:32.590Z"
   },
   {
    "duration": 18,
    "start_time": "2022-12-30T15:18:32.600Z"
   },
   {
    "duration": 36,
    "start_time": "2022-12-30T15:18:32.620Z"
   },
   {
    "duration": 12,
    "start_time": "2022-12-30T15:18:32.658Z"
   },
   {
    "duration": 18,
    "start_time": "2022-12-30T15:18:32.672Z"
   },
   {
    "duration": 4,
    "start_time": "2022-12-30T15:18:39.566Z"
   },
   {
    "duration": 35,
    "start_time": "2022-12-30T15:18:39.573Z"
   },
   {
    "duration": 8,
    "start_time": "2022-12-30T15:18:39.609Z"
   },
   {
    "duration": 20,
    "start_time": "2022-12-30T15:18:39.619Z"
   },
   {
    "duration": 29,
    "start_time": "2022-12-30T15:18:39.641Z"
   },
   {
    "duration": 17,
    "start_time": "2022-12-30T15:18:39.672Z"
   },
   {
    "duration": 12,
    "start_time": "2022-12-30T15:18:39.691Z"
   },
   {
    "duration": 32,
    "start_time": "2022-12-30T15:18:39.720Z"
   },
   {
    "duration": 4,
    "start_time": "2022-12-30T15:18:52.161Z"
   },
   {
    "duration": 33,
    "start_time": "2022-12-30T15:18:52.167Z"
   },
   {
    "duration": 7,
    "start_time": "2022-12-30T15:18:52.202Z"
   },
   {
    "duration": 10,
    "start_time": "2022-12-30T15:18:52.210Z"
   },
   {
    "duration": 21,
    "start_time": "2022-12-30T15:18:52.222Z"
   },
   {
    "duration": 12,
    "start_time": "2022-12-30T15:18:52.244Z"
   },
   {
    "duration": 7,
    "start_time": "2022-12-30T15:18:52.257Z"
   },
   {
    "duration": 13,
    "start_time": "2022-12-30T15:18:52.266Z"
   },
   {
    "duration": 4,
    "start_time": "2022-12-30T15:19:08.568Z"
   },
   {
    "duration": 35,
    "start_time": "2022-12-30T15:19:08.574Z"
   },
   {
    "duration": 8,
    "start_time": "2022-12-30T15:19:08.610Z"
   },
   {
    "duration": 21,
    "start_time": "2022-12-30T15:19:08.620Z"
   },
   {
    "duration": 21,
    "start_time": "2022-12-30T15:19:08.643Z"
   },
   {
    "duration": 13,
    "start_time": "2022-12-30T15:19:08.665Z"
   },
   {
    "duration": 15,
    "start_time": "2022-12-30T15:19:08.680Z"
   },
   {
    "duration": 16,
    "start_time": "2022-12-30T15:19:08.696Z"
   },
   {
    "duration": 106,
    "start_time": "2022-12-30T15:33:22.517Z"
   },
   {
    "duration": 9,
    "start_time": "2022-12-30T15:34:27.303Z"
   },
   {
    "duration": 192,
    "start_time": "2022-12-30T15:34:36.913Z"
   },
   {
    "duration": 10,
    "start_time": "2022-12-30T15:34:49.220Z"
   },
   {
    "duration": 107,
    "start_time": "2022-12-30T15:35:04.120Z"
   },
   {
    "duration": 8,
    "start_time": "2022-12-30T15:35:10.577Z"
   },
   {
    "duration": 12,
    "start_time": "2022-12-30T15:39:21.163Z"
   },
   {
    "duration": 11,
    "start_time": "2022-12-30T15:39:33.063Z"
   },
   {
    "duration": 3,
    "start_time": "2022-12-30T15:42:18.645Z"
   },
   {
    "duration": 7,
    "start_time": "2022-12-30T15:42:25.665Z"
   },
   {
    "duration": 5,
    "start_time": "2022-12-30T16:39:44.554Z"
   },
   {
    "duration": 6,
    "start_time": "2022-12-30T16:40:01.779Z"
   },
   {
    "duration": 8,
    "start_time": "2022-12-30T16:40:24.690Z"
   },
   {
    "duration": 8,
    "start_time": "2022-12-30T16:40:39.198Z"
   },
   {
    "duration": 8,
    "start_time": "2022-12-30T16:46:15.266Z"
   },
   {
    "duration": 32,
    "start_time": "2022-12-30T16:46:31.204Z"
   },
   {
    "duration": 154,
    "start_time": "2022-12-30T16:47:14.120Z"
   },
   {
    "duration": 151,
    "start_time": "2022-12-30T16:47:16.669Z"
   },
   {
    "duration": 113,
    "start_time": "2022-12-30T16:47:47.524Z"
   },
   {
    "duration": 24,
    "start_time": "2022-12-30T16:48:06.800Z"
   },
   {
    "duration": 262,
    "start_time": "2022-12-30T16:48:41.271Z"
   },
   {
    "duration": 253,
    "start_time": "2022-12-30T16:49:30.329Z"
   },
   {
    "duration": 842,
    "start_time": "2022-12-31T09:32:25.691Z"
   },
   {
    "duration": 73,
    "start_time": "2022-12-31T09:32:26.535Z"
   },
   {
    "duration": 14,
    "start_time": "2022-12-31T09:32:26.610Z"
   },
   {
    "duration": 7,
    "start_time": "2022-12-31T09:32:26.625Z"
   },
   {
    "duration": 10,
    "start_time": "2022-12-31T09:32:26.634Z"
   },
   {
    "duration": 16,
    "start_time": "2022-12-31T09:32:26.646Z"
   },
   {
    "duration": 12,
    "start_time": "2022-12-31T09:32:26.664Z"
   },
   {
    "duration": 27,
    "start_time": "2022-12-31T09:32:26.678Z"
   },
   {
    "duration": 148,
    "start_time": "2022-12-31T09:32:26.707Z"
   },
   {
    "duration": 10,
    "start_time": "2022-12-31T09:32:26.857Z"
   },
   {
    "duration": 15,
    "start_time": "2022-12-31T09:32:26.869Z"
   },
   {
    "duration": 20,
    "start_time": "2022-12-31T09:32:26.886Z"
   },
   {
    "duration": 16,
    "start_time": "2022-12-31T09:32:26.908Z"
   },
   {
    "duration": 6,
    "start_time": "2022-12-31T09:32:26.926Z"
   },
   {
    "duration": 18,
    "start_time": "2022-12-31T09:32:26.933Z"
   },
   {
    "duration": 13,
    "start_time": "2022-12-31T09:32:26.953Z"
   },
   {
    "duration": 12,
    "start_time": "2022-12-31T09:32:26.968Z"
   },
   {
    "duration": 6,
    "start_time": "2022-12-31T09:32:26.982Z"
   },
   {
    "duration": 204,
    "start_time": "2022-12-31T09:32:26.989Z"
   },
   {
    "duration": 142,
    "start_time": "2022-12-31T09:32:27.194Z"
   },
   {
    "duration": 316,
    "start_time": "2022-12-31T09:32:27.338Z"
   },
   {
    "duration": 296,
    "start_time": "2022-12-31T09:32:27.655Z"
   },
   {
    "duration": 225,
    "start_time": "2022-12-31T09:36:52.121Z"
   },
   {
    "duration": 277,
    "start_time": "2022-12-31T09:37:04.092Z"
   },
   {
    "duration": 228,
    "start_time": "2022-12-31T09:37:50.523Z"
   },
   {
    "duration": 222,
    "start_time": "2022-12-31T09:37:58.447Z"
   },
   {
    "duration": 223,
    "start_time": "2022-12-31T09:38:05.290Z"
   },
   {
    "duration": 215,
    "start_time": "2022-12-31T09:38:15.658Z"
   },
   {
    "duration": 204,
    "start_time": "2022-12-31T09:38:24.415Z"
   },
   {
    "duration": 209,
    "start_time": "2022-12-31T09:39:17.183Z"
   },
   {
    "duration": 317,
    "start_time": "2022-12-31T09:39:27.262Z"
   },
   {
    "duration": 239,
    "start_time": "2022-12-31T09:39:40.699Z"
   },
   {
    "duration": 218,
    "start_time": "2022-12-31T09:39:47.835Z"
   },
   {
    "duration": 361,
    "start_time": "2022-12-31T09:40:42.355Z"
   },
   {
    "duration": 385,
    "start_time": "2022-12-31T09:40:48.988Z"
   },
   {
    "duration": 252,
    "start_time": "2022-12-31T09:41:01.217Z"
   },
   {
    "duration": 255,
    "start_time": "2022-12-31T09:41:09.344Z"
   },
   {
    "duration": 237,
    "start_time": "2022-12-31T09:41:14.923Z"
   },
   {
    "duration": 4,
    "start_time": "2022-12-31T09:48:54.519Z"
   },
   {
    "duration": 36,
    "start_time": "2022-12-31T09:48:54.525Z"
   },
   {
    "duration": 8,
    "start_time": "2022-12-31T09:48:54.563Z"
   },
   {
    "duration": 9,
    "start_time": "2022-12-31T09:48:54.573Z"
   },
   {
    "duration": 17,
    "start_time": "2022-12-31T09:48:54.585Z"
   },
   {
    "duration": 18,
    "start_time": "2022-12-31T09:48:54.604Z"
   },
   {
    "duration": 22,
    "start_time": "2022-12-31T09:48:54.623Z"
   },
   {
    "duration": 27,
    "start_time": "2022-12-31T09:48:54.647Z"
   },
   {
    "duration": 64,
    "start_time": "2022-12-31T09:48:54.675Z"
   },
   {
    "duration": 9,
    "start_time": "2022-12-31T09:48:54.741Z"
   },
   {
    "duration": 12,
    "start_time": "2022-12-31T09:48:54.751Z"
   },
   {
    "duration": 16,
    "start_time": "2022-12-31T09:48:54.764Z"
   },
   {
    "duration": 12,
    "start_time": "2022-12-31T09:48:54.782Z"
   },
   {
    "duration": 4,
    "start_time": "2022-12-31T09:48:54.797Z"
   },
   {
    "duration": 8,
    "start_time": "2022-12-31T09:48:54.803Z"
   },
   {
    "duration": 39,
    "start_time": "2022-12-31T09:48:54.813Z"
   },
   {
    "duration": 10,
    "start_time": "2022-12-31T09:48:54.854Z"
   },
   {
    "duration": 6,
    "start_time": "2022-12-31T09:48:54.866Z"
   },
   {
    "duration": 304,
    "start_time": "2022-12-31T09:48:54.874Z"
   },
   {
    "duration": 255,
    "start_time": "2022-12-31T09:48:55.179Z"
   },
   {
    "duration": 77,
    "start_time": "2022-12-31T09:50:17.334Z"
   },
   {
    "duration": 10,
    "start_time": "2022-12-31T09:50:22.524Z"
   },
   {
    "duration": 16,
    "start_time": "2022-12-31T09:50:37.471Z"
   },
   {
    "duration": 12,
    "start_time": "2022-12-31T09:51:29.392Z"
   },
   {
    "duration": 4,
    "start_time": "2022-12-31T09:52:20.016Z"
   },
   {
    "duration": 32,
    "start_time": "2022-12-31T09:52:20.023Z"
   },
   {
    "duration": 8,
    "start_time": "2022-12-31T09:52:20.057Z"
   },
   {
    "duration": 9,
    "start_time": "2022-12-31T09:52:20.066Z"
   },
   {
    "duration": 6,
    "start_time": "2022-12-31T09:52:20.077Z"
   },
   {
    "duration": 14,
    "start_time": "2022-12-31T09:52:20.084Z"
   },
   {
    "duration": 11,
    "start_time": "2022-12-31T09:52:20.100Z"
   },
   {
    "duration": 15,
    "start_time": "2022-12-31T09:52:20.113Z"
   },
   {
    "duration": 73,
    "start_time": "2022-12-31T09:52:20.130Z"
   },
   {
    "duration": 10,
    "start_time": "2022-12-31T09:52:20.205Z"
   },
   {
    "duration": 11,
    "start_time": "2022-12-31T09:52:20.217Z"
   },
   {
    "duration": 16,
    "start_time": "2022-12-31T09:52:20.230Z"
   },
   {
    "duration": 13,
    "start_time": "2022-12-31T09:52:20.248Z"
   },
   {
    "duration": 6,
    "start_time": "2022-12-31T09:52:20.264Z"
   },
   {
    "duration": 8,
    "start_time": "2022-12-31T09:52:20.271Z"
   },
   {
    "duration": 10,
    "start_time": "2022-12-31T09:52:20.281Z"
   },
   {
    "duration": 11,
    "start_time": "2022-12-31T09:52:20.293Z"
   },
   {
    "duration": 13,
    "start_time": "2022-12-31T09:52:20.306Z"
   },
   {
    "duration": 331,
    "start_time": "2022-12-31T09:52:20.320Z"
   },
   {
    "duration": 265,
    "start_time": "2022-12-31T09:52:20.653Z"
   },
   {
    "duration": 14,
    "start_time": "2022-12-31T09:52:39.448Z"
   },
   {
    "duration": 15,
    "start_time": "2022-12-31T09:56:42.461Z"
   },
   {
    "duration": 217,
    "start_time": "2022-12-31T09:57:21.049Z"
   },
   {
    "duration": 23,
    "start_time": "2022-12-31T09:57:39.452Z"
   },
   {
    "duration": 9,
    "start_time": "2022-12-31T09:57:52.253Z"
   },
   {
    "duration": 10,
    "start_time": "2022-12-31T09:58:59.970Z"
   },
   {
    "duration": 15,
    "start_time": "2022-12-31T09:59:05.980Z"
   },
   {
    "duration": 47,
    "start_time": "2022-12-31T09:59:17.182Z"
   },
   {
    "duration": 230,
    "start_time": "2022-12-31T09:59:51.757Z"
   },
   {
    "duration": 1118,
    "start_time": "2022-12-31T09:59:56.214Z"
   },
   {
    "duration": 108,
    "start_time": "2022-12-31T10:00:09.168Z"
   },
   {
    "duration": 20,
    "start_time": "2022-12-31T10:00:16.899Z"
   },
   {
    "duration": 866,
    "start_time": "2022-12-31T10:00:40.964Z"
   },
   {
    "duration": 17,
    "start_time": "2022-12-31T10:00:54.309Z"
   },
   {
    "duration": 18,
    "start_time": "2022-12-31T10:01:39.740Z"
   },
   {
    "duration": 17,
    "start_time": "2022-12-31T10:02:20.622Z"
   },
   {
    "duration": 15,
    "start_time": "2022-12-31T10:02:28.030Z"
   },
   {
    "duration": 20,
    "start_time": "2022-12-31T10:02:42.842Z"
   },
   {
    "duration": 4,
    "start_time": "2022-12-31T10:02:44.943Z"
   },
   {
    "duration": 62,
    "start_time": "2022-12-31T10:02:44.949Z"
   },
   {
    "duration": 9,
    "start_time": "2022-12-31T10:02:45.013Z"
   },
   {
    "duration": 23,
    "start_time": "2022-12-31T10:02:45.024Z"
   },
   {
    "duration": 13,
    "start_time": "2022-12-31T10:02:45.049Z"
   },
   {
    "duration": 24,
    "start_time": "2022-12-31T10:02:45.064Z"
   },
   {
    "duration": 12,
    "start_time": "2022-12-31T10:02:45.090Z"
   },
   {
    "duration": 18,
    "start_time": "2022-12-31T10:02:45.104Z"
   },
   {
    "duration": 56,
    "start_time": "2022-12-31T10:02:45.124Z"
   },
   {
    "duration": 11,
    "start_time": "2022-12-31T10:02:45.182Z"
   },
   {
    "duration": 18,
    "start_time": "2022-12-31T10:02:45.195Z"
   },
   {
    "duration": 14,
    "start_time": "2022-12-31T10:02:45.215Z"
   },
   {
    "duration": 15,
    "start_time": "2022-12-31T10:02:45.231Z"
   },
   {
    "duration": 6,
    "start_time": "2022-12-31T10:02:45.249Z"
   },
   {
    "duration": 16,
    "start_time": "2022-12-31T10:02:45.259Z"
   },
   {
    "duration": 12,
    "start_time": "2022-12-31T10:02:45.277Z"
   },
   {
    "duration": 12,
    "start_time": "2022-12-31T10:02:45.291Z"
   },
   {
    "duration": 14,
    "start_time": "2022-12-31T10:02:45.305Z"
   },
   {
    "duration": 377,
    "start_time": "2022-12-31T10:02:45.321Z"
   },
   {
    "duration": 289,
    "start_time": "2022-12-31T10:02:45.699Z"
   },
   {
    "duration": 209,
    "start_time": "2022-12-31T10:17:39.117Z"
   },
   {
    "duration": 253,
    "start_time": "2022-12-31T10:18:40.271Z"
   },
   {
    "duration": 167,
    "start_time": "2022-12-31T10:18:54.179Z"
   },
   {
    "duration": 261,
    "start_time": "2022-12-31T10:19:06.038Z"
   },
   {
    "duration": 181,
    "start_time": "2022-12-31T10:19:21.766Z"
   },
   {
    "duration": 207,
    "start_time": "2022-12-31T10:19:26.697Z"
   },
   {
    "duration": 234,
    "start_time": "2022-12-31T10:20:11.981Z"
   },
   {
    "duration": 273,
    "start_time": "2022-12-31T10:20:24.670Z"
   },
   {
    "duration": 238,
    "start_time": "2022-12-31T10:21:27.604Z"
   },
   {
    "duration": 320,
    "start_time": "2022-12-31T10:26:23.668Z"
   },
   {
    "duration": 312,
    "start_time": "2022-12-31T10:26:29.353Z"
   },
   {
    "duration": 316,
    "start_time": "2022-12-31T10:26:38.556Z"
   },
   {
    "duration": 446,
    "start_time": "2022-12-31T10:27:55.781Z"
   },
   {
    "duration": 410,
    "start_time": "2022-12-31T10:28:04.312Z"
   },
   {
    "duration": 113,
    "start_time": "2022-12-31T10:35:50.501Z"
   },
   {
    "duration": 178,
    "start_time": "2022-12-31T10:36:20.324Z"
   },
   {
    "duration": 230,
    "start_time": "2022-12-31T10:36:37.456Z"
   },
   {
    "duration": 249,
    "start_time": "2022-12-31T10:36:48.876Z"
   },
   {
    "duration": 301,
    "start_time": "2022-12-31T10:37:00.637Z"
   },
   {
    "duration": 182,
    "start_time": "2022-12-31T10:48:34.959Z"
   },
   {
    "duration": 215,
    "start_time": "2022-12-31T10:48:46.942Z"
   },
   {
    "duration": 281,
    "start_time": "2022-12-31T10:50:45.291Z"
   },
   {
    "duration": 284,
    "start_time": "2022-12-31T10:52:15.281Z"
   },
   {
    "duration": 289,
    "start_time": "2022-12-31T10:55:38.590Z"
   },
   {
    "duration": 317,
    "start_time": "2022-12-31T10:55:48.385Z"
   },
   {
    "duration": 353,
    "start_time": "2022-12-31T10:56:18.463Z"
   },
   {
    "duration": 719,
    "start_time": "2023-01-04T07:02:34.045Z"
   },
   {
    "duration": 58,
    "start_time": "2023-01-04T07:02:34.766Z"
   },
   {
    "duration": 13,
    "start_time": "2023-01-04T07:02:34.826Z"
   },
   {
    "duration": 5,
    "start_time": "2023-01-04T07:02:34.840Z"
   },
   {
    "duration": 7,
    "start_time": "2023-01-04T07:02:34.847Z"
   },
   {
    "duration": 11,
    "start_time": "2023-01-04T07:02:34.855Z"
   },
   {
    "duration": 8,
    "start_time": "2023-01-04T07:02:34.868Z"
   },
   {
    "duration": 19,
    "start_time": "2023-01-04T07:02:34.878Z"
   },
   {
    "duration": 129,
    "start_time": "2023-01-04T07:02:34.899Z"
   },
   {
    "duration": 9,
    "start_time": "2023-01-04T07:02:35.029Z"
   },
   {
    "duration": 18,
    "start_time": "2023-01-04T07:02:35.039Z"
   },
   {
    "duration": 26,
    "start_time": "2023-01-04T07:02:35.058Z"
   },
   {
    "duration": 11,
    "start_time": "2023-01-04T07:02:35.085Z"
   },
   {
    "duration": 19,
    "start_time": "2023-01-04T07:02:35.099Z"
   },
   {
    "duration": 13,
    "start_time": "2023-01-04T07:02:35.119Z"
   },
   {
    "duration": 14,
    "start_time": "2023-01-04T07:02:35.133Z"
   },
   {
    "duration": 15,
    "start_time": "2023-01-04T07:02:35.149Z"
   },
   {
    "duration": 18,
    "start_time": "2023-01-04T07:02:35.166Z"
   },
   {
    "duration": 314,
    "start_time": "2023-01-04T07:02:35.186Z"
   },
   {
    "duration": 289,
    "start_time": "2023-01-04T07:02:35.501Z"
   },
   {
    "duration": 205,
    "start_time": "2023-01-04T07:02:35.792Z"
   },
   {
    "duration": 392,
    "start_time": "2023-01-04T07:02:35.998Z"
   },
   {
    "duration": 256,
    "start_time": "2023-01-04T07:02:36.392Z"
   },
   {
    "duration": 391,
    "start_time": "2023-01-04T07:02:36.650Z"
   },
   {
    "duration": 0,
    "start_time": "2023-01-04T07:02:37.042Z"
   },
   {
    "duration": 343,
    "start_time": "2023-01-04T07:02:52.827Z"
   },
   {
    "duration": 12,
    "start_time": "2023-01-04T07:04:31.104Z"
   },
   {
    "duration": 6,
    "start_time": "2023-01-04T07:05:29.878Z"
   },
   {
    "duration": 723,
    "start_time": "2023-01-04T07:05:52.456Z"
   },
   {
    "duration": 110,
    "start_time": "2023-01-04T07:06:17.075Z"
   },
   {
    "duration": 121,
    "start_time": "2023-01-04T07:07:18.013Z"
   },
   {
    "duration": 105,
    "start_time": "2023-01-04T07:07:33.426Z"
   },
   {
    "duration": 91,
    "start_time": "2023-01-04T07:13:47.533Z"
   },
   {
    "duration": 99,
    "start_time": "2023-01-04T07:14:03.765Z"
   },
   {
    "duration": 98,
    "start_time": "2023-01-04T07:14:20.611Z"
   },
   {
    "duration": 100,
    "start_time": "2023-01-04T07:14:43.775Z"
   },
   {
    "duration": 222,
    "start_time": "2023-01-04T07:18:12.060Z"
   },
   {
    "duration": 70,
    "start_time": "2023-01-04T07:18:35.230Z"
   },
   {
    "duration": 900,
    "start_time": "2023-01-04T07:18:45.647Z"
   },
   {
    "duration": 208,
    "start_time": "2023-01-04T07:19:10.569Z"
   },
   {
    "duration": 211,
    "start_time": "2023-01-04T07:19:21.350Z"
   },
   {
    "duration": 325,
    "start_time": "2023-01-04T07:19:42.942Z"
   },
   {
    "duration": 109,
    "start_time": "2023-01-04T07:20:34.271Z"
   },
   {
    "duration": 103,
    "start_time": "2023-01-04T07:22:20.659Z"
   },
   {
    "duration": 96,
    "start_time": "2023-01-04T07:22:46.695Z"
   },
   {
    "duration": 10,
    "start_time": "2023-01-04T07:23:03.384Z"
   },
   {
    "duration": 123,
    "start_time": "2023-01-04T07:23:24.505Z"
   },
   {
    "duration": 4,
    "start_time": "2023-01-04T07:25:17.447Z"
   },
   {
    "duration": 4,
    "start_time": "2023-01-04T07:25:46.141Z"
   },
   {
    "duration": 8,
    "start_time": "2023-01-04T07:40:40.523Z"
   },
   {
    "duration": 118,
    "start_time": "2023-01-04T07:40:55.583Z"
   },
   {
    "duration": 183,
    "start_time": "2023-01-04T07:41:18.386Z"
   },
   {
    "duration": 5,
    "start_time": "2023-01-04T07:44:02.243Z"
   },
   {
    "duration": 12,
    "start_time": "2023-01-04T07:48:19.394Z"
   },
   {
    "duration": 121,
    "start_time": "2023-01-04T07:48:58.914Z"
   },
   {
    "duration": 129,
    "start_time": "2023-01-04T07:49:07.195Z"
   },
   {
    "duration": 768,
    "start_time": "2023-01-04T07:49:30.596Z"
   },
   {
    "duration": 199,
    "start_time": "2023-01-04T07:50:08.765Z"
   },
   {
    "duration": 6,
    "start_time": "2023-01-04T07:50:12.807Z"
   },
   {
    "duration": 7,
    "start_time": "2023-01-04T07:51:07.542Z"
   },
   {
    "duration": 389,
    "start_time": "2023-01-04T07:51:49.025Z"
   },
   {
    "duration": 3,
    "start_time": "2023-01-04T07:51:51.524Z"
   },
   {
    "duration": 36,
    "start_time": "2023-01-04T07:51:51.529Z"
   },
   {
    "duration": 6,
    "start_time": "2023-01-04T07:51:51.567Z"
   },
   {
    "duration": 17,
    "start_time": "2023-01-04T07:51:51.574Z"
   },
   {
    "duration": 7,
    "start_time": "2023-01-04T07:51:51.593Z"
   },
   {
    "duration": 22,
    "start_time": "2023-01-04T07:51:51.601Z"
   },
   {
    "duration": 8,
    "start_time": "2023-01-04T07:51:51.624Z"
   },
   {
    "duration": 17,
    "start_time": "2023-01-04T07:51:51.633Z"
   },
   {
    "duration": 58,
    "start_time": "2023-01-04T07:51:51.652Z"
   },
   {
    "duration": 8,
    "start_time": "2023-01-04T07:51:51.711Z"
   },
   {
    "duration": 24,
    "start_time": "2023-01-04T07:51:51.720Z"
   },
   {
    "duration": 13,
    "start_time": "2023-01-04T07:51:51.745Z"
   },
   {
    "duration": 13,
    "start_time": "2023-01-04T07:51:51.759Z"
   },
   {
    "duration": 3,
    "start_time": "2023-01-04T07:51:51.775Z"
   },
   {
    "duration": 10,
    "start_time": "2023-01-04T07:51:51.779Z"
   },
   {
    "duration": 13,
    "start_time": "2023-01-04T07:51:51.790Z"
   },
   {
    "duration": 13,
    "start_time": "2023-01-04T07:51:51.804Z"
   },
   {
    "duration": 15,
    "start_time": "2023-01-04T07:51:51.818Z"
   },
   {
    "duration": 257,
    "start_time": "2023-01-04T07:51:51.835Z"
   },
   {
    "duration": 218,
    "start_time": "2023-01-04T07:51:52.093Z"
   },
   {
    "duration": 213,
    "start_time": "2023-01-04T07:51:52.312Z"
   },
   {
    "duration": 329,
    "start_time": "2023-01-04T07:51:52.526Z"
   },
   {
    "duration": 303,
    "start_time": "2023-01-04T07:51:52.857Z"
   },
   {
    "duration": 314,
    "start_time": "2023-01-04T07:51:53.162Z"
   },
   {
    "duration": 11,
    "start_time": "2023-01-04T07:51:53.478Z"
   },
   {
    "duration": 121,
    "start_time": "2023-01-04T07:51:53.490Z"
   },
   {
    "duration": 8,
    "start_time": "2023-01-04T07:51:53.613Z"
   },
   {
    "duration": 118,
    "start_time": "2023-01-04T07:51:53.622Z"
   },
   {
    "duration": 4,
    "start_time": "2023-01-04T07:51:53.742Z"
   },
   {
    "duration": 210,
    "start_time": "2023-01-04T07:51:53.748Z"
   },
   {
    "duration": 125,
    "start_time": "2023-01-04T07:51:53.960Z"
   },
   {
    "duration": 5,
    "start_time": "2023-01-04T07:51:54.086Z"
   },
   {
    "duration": 37,
    "start_time": "2023-01-04T07:51:54.092Z"
   },
   {
    "duration": 9,
    "start_time": "2023-01-04T07:57:03.356Z"
   },
   {
    "duration": 56,
    "start_time": "2023-01-04T08:06:21.275Z"
   },
   {
    "duration": 47,
    "start_time": "2023-01-04T08:06:26.595Z"
   },
   {
    "duration": 8,
    "start_time": "2023-01-04T08:06:52.067Z"
   },
   {
    "duration": 50,
    "start_time": "2023-01-04T08:08:57.236Z"
   },
   {
    "duration": 8,
    "start_time": "2023-01-04T08:10:51.602Z"
   },
   {
    "duration": 21,
    "start_time": "2023-01-04T08:11:01.866Z"
   },
   {
    "duration": 21,
    "start_time": "2023-01-04T08:11:35.553Z"
   },
   {
    "duration": 13,
    "start_time": "2023-01-04T08:16:46.335Z"
   },
   {
    "duration": 1190,
    "start_time": "2023-01-05T13:19:45.938Z"
   },
   {
    "duration": 72,
    "start_time": "2023-01-05T13:19:47.130Z"
   },
   {
    "duration": 11,
    "start_time": "2023-01-05T13:19:47.204Z"
   },
   {
    "duration": 16,
    "start_time": "2023-01-05T13:19:47.216Z"
   },
   {
    "duration": 29,
    "start_time": "2023-01-05T13:19:47.234Z"
   },
   {
    "duration": 15,
    "start_time": "2023-01-05T13:19:47.265Z"
   },
   {
    "duration": 20,
    "start_time": "2023-01-05T13:19:47.281Z"
   },
   {
    "duration": 26,
    "start_time": "2023-01-05T13:19:47.302Z"
   },
   {
    "duration": 152,
    "start_time": "2023-01-05T13:19:47.330Z"
   },
   {
    "duration": 9,
    "start_time": "2023-01-05T13:19:47.485Z"
   },
   {
    "duration": 14,
    "start_time": "2023-01-05T13:19:47.495Z"
   },
   {
    "duration": 16,
    "start_time": "2023-01-05T13:19:47.510Z"
   },
   {
    "duration": 11,
    "start_time": "2023-01-05T13:19:47.527Z"
   },
   {
    "duration": 9,
    "start_time": "2023-01-05T13:19:47.539Z"
   },
   {
    "duration": 8,
    "start_time": "2023-01-05T13:19:47.549Z"
   },
   {
    "duration": 9,
    "start_time": "2023-01-05T13:19:47.558Z"
   },
   {
    "duration": 8,
    "start_time": "2023-01-05T13:19:47.578Z"
   },
   {
    "duration": 12,
    "start_time": "2023-01-05T13:19:47.588Z"
   },
   {
    "duration": 286,
    "start_time": "2023-01-05T13:19:47.602Z"
   },
   {
    "duration": 298,
    "start_time": "2023-01-05T13:19:47.889Z"
   },
   {
    "duration": 222,
    "start_time": "2023-01-05T13:19:48.189Z"
   },
   {
    "duration": 327,
    "start_time": "2023-01-05T13:19:48.413Z"
   },
   {
    "duration": 274,
    "start_time": "2023-01-05T13:19:48.742Z"
   },
   {
    "duration": 328,
    "start_time": "2023-01-05T13:19:49.018Z"
   },
   {
    "duration": 12,
    "start_time": "2023-01-05T13:19:49.348Z"
   },
   {
    "duration": 124,
    "start_time": "2023-01-05T13:19:49.362Z"
   },
   {
    "duration": 5,
    "start_time": "2023-01-05T13:19:49.488Z"
   },
   {
    "duration": 137,
    "start_time": "2023-01-05T13:19:49.497Z"
   },
   {
    "duration": 5,
    "start_time": "2023-01-05T13:19:49.636Z"
   },
   {
    "duration": 224,
    "start_time": "2023-01-05T13:19:49.642Z"
   },
   {
    "duration": 123,
    "start_time": "2023-01-05T13:19:49.868Z"
   },
   {
    "duration": 6,
    "start_time": "2023-01-05T13:19:49.993Z"
   },
   {
    "duration": 25,
    "start_time": "2023-01-05T13:19:50.001Z"
   },
   {
    "duration": 11,
    "start_time": "2023-01-05T13:19:50.028Z"
   },
   {
    "duration": 11,
    "start_time": "2023-01-05T13:19:50.041Z"
   },
   {
    "duration": 9,
    "start_time": "2023-01-05T13:19:50.077Z"
   },
   {
    "duration": 40,
    "start_time": "2023-01-05T13:19:50.088Z"
   },
   {
    "duration": 14,
    "start_time": "2023-01-05T13:19:50.130Z"
   },
   {
    "duration": 15,
    "start_time": "2023-01-05T13:21:11.416Z"
   },
   {
    "duration": 3,
    "start_time": "2023-01-05T13:21:20.282Z"
   },
   {
    "duration": 32,
    "start_time": "2023-01-05T13:21:20.287Z"
   },
   {
    "duration": 8,
    "start_time": "2023-01-05T13:21:20.320Z"
   },
   {
    "duration": 6,
    "start_time": "2023-01-05T13:21:20.329Z"
   },
   {
    "duration": 9,
    "start_time": "2023-01-05T13:21:20.336Z"
   },
   {
    "duration": 14,
    "start_time": "2023-01-05T13:21:20.346Z"
   },
   {
    "duration": 5,
    "start_time": "2023-01-05T13:21:20.363Z"
   },
   {
    "duration": 17,
    "start_time": "2023-01-05T13:21:20.370Z"
   },
   {
    "duration": 53,
    "start_time": "2023-01-05T13:21:20.389Z"
   },
   {
    "duration": 10,
    "start_time": "2023-01-05T13:21:20.445Z"
   },
   {
    "duration": 11,
    "start_time": "2023-01-05T13:21:20.456Z"
   },
   {
    "duration": 12,
    "start_time": "2023-01-05T13:21:20.468Z"
   },
   {
    "duration": 11,
    "start_time": "2023-01-05T13:21:20.482Z"
   },
   {
    "duration": 5,
    "start_time": "2023-01-05T13:21:20.494Z"
   },
   {
    "duration": 8,
    "start_time": "2023-01-05T13:21:20.500Z"
   },
   {
    "duration": 13,
    "start_time": "2023-01-05T13:21:20.509Z"
   },
   {
    "duration": 13,
    "start_time": "2023-01-05T13:21:20.524Z"
   },
   {
    "duration": 13,
    "start_time": "2023-01-05T13:21:20.539Z"
   },
   {
    "duration": 353,
    "start_time": "2023-01-05T13:21:20.554Z"
   },
   {
    "duration": 256,
    "start_time": "2023-01-05T13:21:20.909Z"
   },
   {
    "duration": 223,
    "start_time": "2023-01-05T13:21:21.167Z"
   },
   {
    "duration": 329,
    "start_time": "2023-01-05T13:21:21.392Z"
   },
   {
    "duration": 232,
    "start_time": "2023-01-05T13:21:21.723Z"
   },
   {
    "duration": 375,
    "start_time": "2023-01-05T13:21:21.956Z"
   },
   {
    "duration": 14,
    "start_time": "2023-01-05T13:21:22.333Z"
   },
   {
    "duration": 138,
    "start_time": "2023-01-05T13:21:22.349Z"
   },
   {
    "duration": 4,
    "start_time": "2023-01-05T13:21:22.488Z"
   },
   {
    "duration": 150,
    "start_time": "2023-01-05T13:21:22.495Z"
   },
   {
    "duration": 5,
    "start_time": "2023-01-05T13:21:22.647Z"
   },
   {
    "duration": 229,
    "start_time": "2023-01-05T13:21:22.654Z"
   },
   {
    "duration": 126,
    "start_time": "2023-01-05T13:21:22.884Z"
   },
   {
    "duration": 6,
    "start_time": "2023-01-05T13:21:23.011Z"
   },
   {
    "duration": 23,
    "start_time": "2023-01-05T13:21:23.018Z"
   },
   {
    "duration": 9,
    "start_time": "2023-01-05T13:21:23.043Z"
   },
   {
    "duration": 28,
    "start_time": "2023-01-05T13:21:23.054Z"
   },
   {
    "duration": 12,
    "start_time": "2023-01-05T13:21:23.083Z"
   },
   {
    "duration": 26,
    "start_time": "2023-01-05T13:21:23.096Z"
   },
   {
    "duration": 15,
    "start_time": "2023-01-05T13:21:23.123Z"
   },
   {
    "duration": 8,
    "start_time": "2023-01-05T13:24:47.374Z"
   },
   {
    "duration": 13,
    "start_time": "2023-01-05T13:28:03.004Z"
   },
   {
    "duration": 264,
    "start_time": "2023-01-05T13:50:57.571Z"
   },
   {
    "duration": 4,
    "start_time": "2023-01-05T13:51:00.722Z"
   },
   {
    "duration": 40,
    "start_time": "2023-01-05T13:51:00.729Z"
   },
   {
    "duration": 12,
    "start_time": "2023-01-05T13:51:00.771Z"
   },
   {
    "duration": 23,
    "start_time": "2023-01-05T13:51:00.784Z"
   },
   {
    "duration": 40,
    "start_time": "2023-01-05T13:51:00.809Z"
   },
   {
    "duration": 25,
    "start_time": "2023-01-05T13:51:00.851Z"
   },
   {
    "duration": 25,
    "start_time": "2023-01-05T13:51:00.878Z"
   },
   {
    "duration": 21,
    "start_time": "2023-01-05T13:51:00.905Z"
   },
   {
    "duration": 57,
    "start_time": "2023-01-05T13:51:00.928Z"
   },
   {
    "duration": 9,
    "start_time": "2023-01-05T13:51:00.987Z"
   },
   {
    "duration": 31,
    "start_time": "2023-01-05T13:51:00.998Z"
   },
   {
    "duration": 50,
    "start_time": "2023-01-05T13:51:01.030Z"
   },
   {
    "duration": 32,
    "start_time": "2023-01-05T13:51:01.081Z"
   },
   {
    "duration": 8,
    "start_time": "2023-01-05T13:51:01.116Z"
   },
   {
    "duration": 25,
    "start_time": "2023-01-05T13:51:01.125Z"
   },
   {
    "duration": 32,
    "start_time": "2023-01-05T13:51:01.152Z"
   },
   {
    "duration": 21,
    "start_time": "2023-01-05T13:51:01.186Z"
   },
   {
    "duration": 25,
    "start_time": "2023-01-05T13:51:01.208Z"
   },
   {
    "duration": 20,
    "start_time": "2023-01-05T13:51:01.235Z"
   },
   {
    "duration": 287,
    "start_time": "2023-01-05T13:51:01.257Z"
   },
   {
    "duration": 238,
    "start_time": "2023-01-05T13:51:01.546Z"
   },
   {
    "duration": 235,
    "start_time": "2023-01-05T13:51:01.785Z"
   },
   {
    "duration": 301,
    "start_time": "2023-01-05T13:51:02.022Z"
   },
   {
    "duration": 317,
    "start_time": "2023-01-05T13:51:02.325Z"
   },
   {
    "duration": 379,
    "start_time": "2023-01-05T13:51:02.644Z"
   },
   {
    "duration": 12,
    "start_time": "2023-01-05T13:51:03.025Z"
   },
   {
    "duration": 166,
    "start_time": "2023-01-05T13:51:03.039Z"
   },
   {
    "duration": 5,
    "start_time": "2023-01-05T13:51:03.207Z"
   },
   {
    "duration": 134,
    "start_time": "2023-01-05T13:51:03.213Z"
   },
   {
    "duration": 5,
    "start_time": "2023-01-05T13:51:03.348Z"
   },
   {
    "duration": 234,
    "start_time": "2023-01-05T13:51:03.355Z"
   },
   {
    "duration": 141,
    "start_time": "2023-01-05T13:51:03.590Z"
   },
   {
    "duration": 6,
    "start_time": "2023-01-05T13:51:03.733Z"
   },
   {
    "duration": 37,
    "start_time": "2023-01-05T13:51:03.741Z"
   },
   {
    "duration": 10,
    "start_time": "2023-01-05T13:51:03.780Z"
   },
   {
    "duration": 8,
    "start_time": "2023-01-05T13:51:03.792Z"
   },
   {
    "duration": 8,
    "start_time": "2023-01-05T13:51:03.802Z"
   },
   {
    "duration": 24,
    "start_time": "2023-01-05T13:51:03.812Z"
   },
   {
    "duration": 12,
    "start_time": "2023-01-05T13:51:03.838Z"
   },
   {
    "duration": 288,
    "start_time": "2023-01-05T13:51:41.121Z"
   },
   {
    "duration": 3,
    "start_time": "2023-01-05T13:51:44.327Z"
   },
   {
    "duration": 35,
    "start_time": "2023-01-05T13:51:44.332Z"
   },
   {
    "duration": 8,
    "start_time": "2023-01-05T13:51:44.368Z"
   },
   {
    "duration": 9,
    "start_time": "2023-01-05T13:51:44.378Z"
   },
   {
    "duration": 16,
    "start_time": "2023-01-05T13:51:44.389Z"
   },
   {
    "duration": 22,
    "start_time": "2023-01-05T13:51:44.406Z"
   },
   {
    "duration": 13,
    "start_time": "2023-01-05T13:51:44.429Z"
   },
   {
    "duration": 16,
    "start_time": "2023-01-05T13:51:44.443Z"
   },
   {
    "duration": 57,
    "start_time": "2023-01-05T13:51:44.460Z"
   },
   {
    "duration": 8,
    "start_time": "2023-01-05T13:51:44.519Z"
   },
   {
    "duration": 12,
    "start_time": "2023-01-05T13:51:44.528Z"
   },
   {
    "duration": 14,
    "start_time": "2023-01-05T13:51:44.542Z"
   },
   {
    "duration": 12,
    "start_time": "2023-01-05T13:51:44.557Z"
   },
   {
    "duration": 7,
    "start_time": "2023-01-05T13:51:44.572Z"
   },
   {
    "duration": 14,
    "start_time": "2023-01-05T13:51:44.580Z"
   },
   {
    "duration": 11,
    "start_time": "2023-01-05T13:51:44.595Z"
   },
   {
    "duration": 11,
    "start_time": "2023-01-05T13:51:44.608Z"
   },
   {
    "duration": 13,
    "start_time": "2023-01-05T13:51:44.621Z"
   },
   {
    "duration": 12,
    "start_time": "2023-01-05T13:51:44.635Z"
   },
   {
    "duration": 273,
    "start_time": "2023-01-05T13:51:44.648Z"
   },
   {
    "duration": 223,
    "start_time": "2023-01-05T13:51:44.923Z"
   },
   {
    "duration": 211,
    "start_time": "2023-01-05T13:51:45.148Z"
   },
   {
    "duration": 362,
    "start_time": "2023-01-05T13:51:45.361Z"
   },
   {
    "duration": 265,
    "start_time": "2023-01-05T13:51:45.725Z"
   },
   {
    "duration": 338,
    "start_time": "2023-01-05T13:51:45.991Z"
   },
   {
    "duration": 13,
    "start_time": "2023-01-05T13:51:46.331Z"
   },
   {
    "duration": 135,
    "start_time": "2023-01-05T13:51:46.345Z"
   },
   {
    "duration": 4,
    "start_time": "2023-01-05T13:51:46.481Z"
   },
   {
    "duration": 219,
    "start_time": "2023-01-05T13:51:46.486Z"
   },
   {
    "duration": 4,
    "start_time": "2023-01-05T13:51:46.707Z"
   },
   {
    "duration": 217,
    "start_time": "2023-01-05T13:51:46.713Z"
   },
   {
    "duration": 154,
    "start_time": "2023-01-05T13:51:46.931Z"
   },
   {
    "duration": 6,
    "start_time": "2023-01-05T13:51:47.087Z"
   },
   {
    "duration": 22,
    "start_time": "2023-01-05T13:51:47.094Z"
   },
   {
    "duration": 10,
    "start_time": "2023-01-05T13:51:47.117Z"
   },
   {
    "duration": 9,
    "start_time": "2023-01-05T13:51:47.128Z"
   },
   {
    "duration": 7,
    "start_time": "2023-01-05T13:51:47.138Z"
   },
   {
    "duration": 48,
    "start_time": "2023-01-05T13:51:47.147Z"
   },
   {
    "duration": 13,
    "start_time": "2023-01-05T13:51:47.197Z"
   },
   {
    "duration": 323,
    "start_time": "2023-01-05T13:52:25.765Z"
   },
   {
    "duration": 3,
    "start_time": "2023-01-05T13:52:29.577Z"
   },
   {
    "duration": 32,
    "start_time": "2023-01-05T13:52:29.582Z"
   },
   {
    "duration": 8,
    "start_time": "2023-01-05T13:52:29.616Z"
   },
   {
    "duration": 7,
    "start_time": "2023-01-05T13:52:29.625Z"
   },
   {
    "duration": 14,
    "start_time": "2023-01-05T13:52:29.634Z"
   },
   {
    "duration": 16,
    "start_time": "2023-01-05T13:52:29.650Z"
   },
   {
    "duration": 9,
    "start_time": "2023-01-05T13:52:29.668Z"
   },
   {
    "duration": 17,
    "start_time": "2023-01-05T13:52:29.678Z"
   },
   {
    "duration": 53,
    "start_time": "2023-01-05T13:52:29.697Z"
   },
   {
    "duration": 8,
    "start_time": "2023-01-05T13:52:29.752Z"
   },
   {
    "duration": 12,
    "start_time": "2023-01-05T13:52:29.761Z"
   },
   {
    "duration": 18,
    "start_time": "2023-01-05T13:52:29.774Z"
   },
   {
    "duration": 22,
    "start_time": "2023-01-05T13:52:29.794Z"
   },
   {
    "duration": 9,
    "start_time": "2023-01-05T13:52:29.820Z"
   },
   {
    "duration": 14,
    "start_time": "2023-01-05T13:52:29.831Z"
   },
   {
    "duration": 13,
    "start_time": "2023-01-05T13:52:29.847Z"
   },
   {
    "duration": 13,
    "start_time": "2023-01-05T13:52:29.862Z"
   },
   {
    "duration": 13,
    "start_time": "2023-01-05T13:52:29.876Z"
   },
   {
    "duration": 12,
    "start_time": "2023-01-05T13:52:29.890Z"
   },
   {
    "duration": 269,
    "start_time": "2023-01-05T13:52:29.903Z"
   },
   {
    "duration": 220,
    "start_time": "2023-01-05T13:52:30.174Z"
   },
   {
    "duration": 219,
    "start_time": "2023-01-05T13:52:30.396Z"
   },
   {
    "duration": 297,
    "start_time": "2023-01-05T13:52:30.618Z"
   },
   {
    "duration": 251,
    "start_time": "2023-01-05T13:52:30.916Z"
   },
   {
    "duration": 347,
    "start_time": "2023-01-05T13:52:31.168Z"
   },
   {
    "duration": 10,
    "start_time": "2023-01-05T13:52:31.516Z"
   },
   {
    "duration": 129,
    "start_time": "2023-01-05T13:52:31.528Z"
   },
   {
    "duration": 4,
    "start_time": "2023-01-05T13:52:31.659Z"
   },
   {
    "duration": 165,
    "start_time": "2023-01-05T13:52:31.664Z"
   },
   {
    "duration": 5,
    "start_time": "2023-01-05T13:52:31.831Z"
   },
   {
    "duration": 214,
    "start_time": "2023-01-05T13:52:31.837Z"
   },
   {
    "duration": 157,
    "start_time": "2023-01-05T13:52:32.053Z"
   },
   {
    "duration": 6,
    "start_time": "2023-01-05T13:52:32.212Z"
   },
   {
    "duration": 26,
    "start_time": "2023-01-05T13:52:32.220Z"
   },
   {
    "duration": 10,
    "start_time": "2023-01-05T13:52:32.248Z"
   },
   {
    "duration": 25,
    "start_time": "2023-01-05T13:52:32.260Z"
   },
   {
    "duration": 13,
    "start_time": "2023-01-05T13:52:32.287Z"
   },
   {
    "duration": 31,
    "start_time": "2023-01-05T13:52:32.302Z"
   },
   {
    "duration": 13,
    "start_time": "2023-01-05T13:52:32.335Z"
   },
   {
    "duration": 347,
    "start_time": "2023-01-05T13:52:48.259Z"
   },
   {
    "duration": 1007,
    "start_time": "2023-01-05T13:52:54.932Z"
   },
   {
    "duration": 27,
    "start_time": "2023-01-05T13:52:55.941Z"
   },
   {
    "duration": 11,
    "start_time": "2023-01-05T13:52:55.970Z"
   },
   {
    "duration": 11,
    "start_time": "2023-01-05T13:52:55.983Z"
   },
   {
    "duration": 9,
    "start_time": "2023-01-05T13:52:55.995Z"
   },
   {
    "duration": 12,
    "start_time": "2023-01-05T13:52:56.006Z"
   },
   {
    "duration": 12,
    "start_time": "2023-01-05T13:52:56.020Z"
   },
   {
    "duration": 30,
    "start_time": "2023-01-05T13:52:56.033Z"
   },
   {
    "duration": 65,
    "start_time": "2023-01-05T13:52:56.065Z"
   },
   {
    "duration": 9,
    "start_time": "2023-01-05T13:52:56.133Z"
   },
   {
    "duration": 13,
    "start_time": "2023-01-05T13:52:56.143Z"
   },
   {
    "duration": 18,
    "start_time": "2023-01-05T13:52:56.158Z"
   },
   {
    "duration": 16,
    "start_time": "2023-01-05T13:52:56.178Z"
   },
   {
    "duration": 9,
    "start_time": "2023-01-05T13:52:56.196Z"
   },
   {
    "duration": 15,
    "start_time": "2023-01-05T13:52:56.206Z"
   },
   {
    "duration": 13,
    "start_time": "2023-01-05T13:52:56.223Z"
   },
   {
    "duration": 12,
    "start_time": "2023-01-05T13:52:56.237Z"
   },
   {
    "duration": 15,
    "start_time": "2023-01-05T13:52:56.250Z"
   },
   {
    "duration": 21,
    "start_time": "2023-01-05T13:52:56.266Z"
   },
   {
    "duration": 283,
    "start_time": "2023-01-05T13:52:56.289Z"
   },
   {
    "duration": 306,
    "start_time": "2023-01-05T13:52:56.573Z"
   },
   {
    "duration": 237,
    "start_time": "2023-01-05T13:52:56.880Z"
   },
   {
    "duration": 326,
    "start_time": "2023-01-05T13:52:57.119Z"
   },
   {
    "duration": 306,
    "start_time": "2023-01-05T13:52:57.446Z"
   },
   {
    "duration": 364,
    "start_time": "2023-01-05T13:52:57.754Z"
   },
   {
    "duration": 11,
    "start_time": "2023-01-05T13:52:58.120Z"
   },
   {
    "duration": 137,
    "start_time": "2023-01-05T13:52:58.133Z"
   },
   {
    "duration": 5,
    "start_time": "2023-01-05T13:52:58.277Z"
   },
   {
    "duration": 152,
    "start_time": "2023-01-05T13:52:58.284Z"
   },
   {
    "duration": 6,
    "start_time": "2023-01-05T13:52:58.437Z"
   },
   {
    "duration": 237,
    "start_time": "2023-01-05T13:52:58.445Z"
   },
   {
    "duration": 159,
    "start_time": "2023-01-05T13:52:58.684Z"
   },
   {
    "duration": 7,
    "start_time": "2023-01-05T13:52:58.845Z"
   },
   {
    "duration": 36,
    "start_time": "2023-01-05T13:52:58.854Z"
   },
   {
    "duration": 10,
    "start_time": "2023-01-05T13:52:58.892Z"
   },
   {
    "duration": 9,
    "start_time": "2023-01-05T13:52:58.903Z"
   },
   {
    "duration": 9,
    "start_time": "2023-01-05T13:52:58.914Z"
   },
   {
    "duration": 54,
    "start_time": "2023-01-05T13:52:58.925Z"
   },
   {
    "duration": 13,
    "start_time": "2023-01-05T13:52:58.981Z"
   },
   {
    "duration": 478,
    "start_time": "2023-01-05T13:54:10.626Z"
   },
   {
    "duration": 363,
    "start_time": "2023-01-05T13:54:23.804Z"
   },
   {
    "duration": 4,
    "start_time": "2023-01-05T14:11:48.320Z"
   },
   {
    "duration": 5,
    "start_time": "2023-01-05T14:11:59.864Z"
   },
   {
    "duration": 139,
    "start_time": "2023-01-05T14:12:40.563Z"
   },
   {
    "duration": 235,
    "start_time": "2023-01-05T14:23:20.908Z"
   },
   {
    "duration": 210,
    "start_time": "2023-01-05T14:26:50.043Z"
   },
   {
    "duration": 226,
    "start_time": "2023-01-05T14:27:10.413Z"
   },
   {
    "duration": 8,
    "start_time": "2023-01-05T14:27:52.527Z"
   },
   {
    "duration": 19,
    "start_time": "2023-01-05T14:32:32.809Z"
   },
   {
    "duration": 5,
    "start_time": "2023-01-05T14:32:49.596Z"
   },
   {
    "duration": 22,
    "start_time": "2023-01-05T14:36:12.172Z"
   },
   {
    "duration": 6,
    "start_time": "2023-01-05T14:36:57.116Z"
   },
   {
    "duration": 6,
    "start_time": "2023-01-05T14:37:15.425Z"
   },
   {
    "duration": 3,
    "start_time": "2023-01-05T14:37:18.478Z"
   },
   {
    "duration": 30,
    "start_time": "2023-01-05T14:37:18.483Z"
   },
   {
    "duration": 7,
    "start_time": "2023-01-05T14:37:18.515Z"
   },
   {
    "duration": 13,
    "start_time": "2023-01-05T14:37:18.525Z"
   },
   {
    "duration": 10,
    "start_time": "2023-01-05T14:37:18.540Z"
   },
   {
    "duration": 13,
    "start_time": "2023-01-05T14:37:18.552Z"
   },
   {
    "duration": 7,
    "start_time": "2023-01-05T14:37:18.566Z"
   },
   {
    "duration": 15,
    "start_time": "2023-01-05T14:37:18.574Z"
   },
   {
    "duration": 56,
    "start_time": "2023-01-05T14:37:18.592Z"
   },
   {
    "duration": 9,
    "start_time": "2023-01-05T14:37:18.650Z"
   },
   {
    "duration": 12,
    "start_time": "2023-01-05T14:37:18.660Z"
   },
   {
    "duration": 14,
    "start_time": "2023-01-05T14:37:18.674Z"
   },
   {
    "duration": 13,
    "start_time": "2023-01-05T14:37:18.689Z"
   },
   {
    "duration": 7,
    "start_time": "2023-01-05T14:37:18.704Z"
   },
   {
    "duration": 12,
    "start_time": "2023-01-05T14:37:18.712Z"
   },
   {
    "duration": 15,
    "start_time": "2023-01-05T14:37:18.726Z"
   },
   {
    "duration": 11,
    "start_time": "2023-01-05T14:37:18.743Z"
   },
   {
    "duration": 26,
    "start_time": "2023-01-05T14:37:18.755Z"
   },
   {
    "duration": 13,
    "start_time": "2023-01-05T14:37:18.783Z"
   },
   {
    "duration": 320,
    "start_time": "2023-01-05T14:37:18.798Z"
   },
   {
    "duration": 250,
    "start_time": "2023-01-05T14:37:19.120Z"
   },
   {
    "duration": 219,
    "start_time": "2023-01-05T14:37:19.371Z"
   },
   {
    "duration": 326,
    "start_time": "2023-01-05T14:37:19.591Z"
   },
   {
    "duration": 249,
    "start_time": "2023-01-05T14:37:19.919Z"
   },
   {
    "duration": 377,
    "start_time": "2023-01-05T14:37:20.170Z"
   },
   {
    "duration": 16,
    "start_time": "2023-01-05T14:37:20.549Z"
   },
   {
    "duration": 126,
    "start_time": "2023-01-05T14:37:20.578Z"
   },
   {
    "duration": 4,
    "start_time": "2023-01-05T14:37:20.706Z"
   },
   {
    "duration": 136,
    "start_time": "2023-01-05T14:37:20.712Z"
   },
   {
    "duration": 6,
    "start_time": "2023-01-05T14:37:20.850Z"
   },
   {
    "duration": 253,
    "start_time": "2023-01-05T14:37:20.857Z"
   },
   {
    "duration": 140,
    "start_time": "2023-01-05T14:37:21.112Z"
   },
   {
    "duration": 6,
    "start_time": "2023-01-05T14:37:21.253Z"
   },
   {
    "duration": 30,
    "start_time": "2023-01-05T14:37:21.261Z"
   },
   {
    "duration": 9,
    "start_time": "2023-01-05T14:37:21.292Z"
   },
   {
    "duration": 17,
    "start_time": "2023-01-05T14:37:21.303Z"
   },
   {
    "duration": 16,
    "start_time": "2023-01-05T14:37:21.322Z"
   },
   {
    "duration": 24,
    "start_time": "2023-01-05T14:37:21.340Z"
   },
   {
    "duration": 19,
    "start_time": "2023-01-05T14:37:21.366Z"
   },
   {
    "duration": 10,
    "start_time": "2023-01-05T14:38:05.440Z"
   },
   {
    "duration": 1232,
    "start_time": "2023-01-05T14:38:13.065Z"
   },
   {
    "duration": 32,
    "start_time": "2023-01-05T14:38:14.299Z"
   },
   {
    "duration": 14,
    "start_time": "2023-01-05T14:38:14.332Z"
   },
   {
    "duration": 4,
    "start_time": "2023-01-05T14:38:14.348Z"
   },
   {
    "duration": 14,
    "start_time": "2023-01-05T14:38:14.354Z"
   },
   {
    "duration": 15,
    "start_time": "2023-01-05T14:38:14.370Z"
   },
   {
    "duration": 8,
    "start_time": "2023-01-05T14:38:14.386Z"
   },
   {
    "duration": 17,
    "start_time": "2023-01-05T14:38:14.396Z"
   },
   {
    "duration": 56,
    "start_time": "2023-01-05T14:38:14.415Z"
   },
   {
    "duration": 9,
    "start_time": "2023-01-05T14:38:14.474Z"
   },
   {
    "duration": 13,
    "start_time": "2023-01-05T14:38:14.485Z"
   },
   {
    "duration": 15,
    "start_time": "2023-01-05T14:38:14.500Z"
   },
   {
    "duration": 18,
    "start_time": "2023-01-05T14:38:14.517Z"
   },
   {
    "duration": 10,
    "start_time": "2023-01-05T14:38:14.537Z"
   },
   {
    "duration": 9,
    "start_time": "2023-01-05T14:38:14.549Z"
   },
   {
    "duration": 22,
    "start_time": "2023-01-05T14:38:14.560Z"
   },
   {
    "duration": 14,
    "start_time": "2023-01-05T14:38:14.583Z"
   },
   {
    "duration": 19,
    "start_time": "2023-01-05T14:38:14.598Z"
   },
   {
    "duration": 13,
    "start_time": "2023-01-05T14:38:14.619Z"
   },
   {
    "duration": 306,
    "start_time": "2023-01-05T14:38:14.634Z"
   },
   {
    "duration": 303,
    "start_time": "2023-01-05T14:38:14.941Z"
   },
   {
    "duration": 211,
    "start_time": "2023-01-05T14:38:15.245Z"
   },
   {
    "duration": 358,
    "start_time": "2023-01-05T14:38:15.458Z"
   },
   {
    "duration": 258,
    "start_time": "2023-01-05T14:38:15.818Z"
   },
   {
    "duration": 351,
    "start_time": "2023-01-05T14:38:16.078Z"
   },
   {
    "duration": 13,
    "start_time": "2023-01-05T14:38:16.431Z"
   },
   {
    "duration": 133,
    "start_time": "2023-01-05T14:38:16.445Z"
   },
   {
    "duration": 4,
    "start_time": "2023-01-05T14:38:16.581Z"
   },
   {
    "duration": 127,
    "start_time": "2023-01-05T14:38:16.587Z"
   },
   {
    "duration": 5,
    "start_time": "2023-01-05T14:38:16.715Z"
   },
   {
    "duration": 224,
    "start_time": "2023-01-05T14:38:16.721Z"
   },
   {
    "duration": 146,
    "start_time": "2023-01-05T14:38:16.946Z"
   },
   {
    "duration": 6,
    "start_time": "2023-01-05T14:38:17.093Z"
   },
   {
    "duration": 23,
    "start_time": "2023-01-05T14:38:17.100Z"
   },
   {
    "duration": 11,
    "start_time": "2023-01-05T14:38:17.124Z"
   },
   {
    "duration": 9,
    "start_time": "2023-01-05T14:38:17.136Z"
   },
   {
    "duration": 32,
    "start_time": "2023-01-05T14:38:17.146Z"
   },
   {
    "duration": 19,
    "start_time": "2023-01-05T14:38:17.180Z"
   },
   {
    "duration": 14,
    "start_time": "2023-01-05T14:38:17.201Z"
   },
   {
    "duration": 9,
    "start_time": "2023-01-05T14:43:58.479Z"
   },
   {
    "duration": 9,
    "start_time": "2023-01-05T14:44:08.221Z"
   },
   {
    "duration": 10,
    "start_time": "2023-01-05T14:44:15.485Z"
   },
   {
    "duration": 7,
    "start_time": "2023-01-05T14:45:22.012Z"
   },
   {
    "duration": 1122,
    "start_time": "2023-01-05T15:06:29.413Z"
   },
   {
    "duration": 28,
    "start_time": "2023-01-05T15:06:30.536Z"
   },
   {
    "duration": 11,
    "start_time": "2023-01-05T15:06:30.566Z"
   },
   {
    "duration": 13,
    "start_time": "2023-01-05T15:06:30.579Z"
   },
   {
    "duration": 15,
    "start_time": "2023-01-05T15:06:30.593Z"
   },
   {
    "duration": 57,
    "start_time": "2023-01-05T15:06:30.609Z"
   },
   {
    "duration": 61,
    "start_time": "2023-01-05T15:06:30.667Z"
   },
   {
    "duration": 49,
    "start_time": "2023-01-05T15:06:30.730Z"
   },
   {
    "duration": 79,
    "start_time": "2023-01-05T15:06:30.782Z"
   },
   {
    "duration": 10,
    "start_time": "2023-01-05T15:06:30.863Z"
   },
   {
    "duration": 44,
    "start_time": "2023-01-05T15:06:30.875Z"
   },
   {
    "duration": 25,
    "start_time": "2023-01-05T15:06:30.921Z"
   },
   {
    "duration": 27,
    "start_time": "2023-01-05T15:06:30.948Z"
   },
   {
    "duration": 24,
    "start_time": "2023-01-05T15:06:30.976Z"
   },
   {
    "duration": 26,
    "start_time": "2023-01-05T15:06:31.001Z"
   },
   {
    "duration": 53,
    "start_time": "2023-01-05T15:06:31.029Z"
   },
   {
    "duration": 46,
    "start_time": "2023-01-05T15:06:31.084Z"
   },
   {
    "duration": 26,
    "start_time": "2023-01-05T15:06:31.132Z"
   },
   {
    "duration": 28,
    "start_time": "2023-01-05T15:06:31.160Z"
   },
   {
    "duration": 299,
    "start_time": "2023-01-05T15:06:31.189Z"
   },
   {
    "duration": 305,
    "start_time": "2023-01-05T15:06:31.490Z"
   },
   {
    "duration": 232,
    "start_time": "2023-01-05T15:06:31.797Z"
   },
   {
    "duration": 321,
    "start_time": "2023-01-05T15:06:32.031Z"
   },
   {
    "duration": 274,
    "start_time": "2023-01-05T15:06:32.354Z"
   },
   {
    "duration": 361,
    "start_time": "2023-01-05T15:06:32.631Z"
   },
   {
    "duration": 13,
    "start_time": "2023-01-05T15:06:32.994Z"
   },
   {
    "duration": 125,
    "start_time": "2023-01-05T15:06:33.008Z"
   },
   {
    "duration": 5,
    "start_time": "2023-01-05T15:06:33.136Z"
   },
   {
    "duration": 149,
    "start_time": "2023-01-05T15:06:33.142Z"
   },
   {
    "duration": 7,
    "start_time": "2023-01-05T15:06:33.293Z"
   },
   {
    "duration": 233,
    "start_time": "2023-01-05T15:06:33.302Z"
   },
   {
    "duration": 159,
    "start_time": "2023-01-05T15:06:33.537Z"
   },
   {
    "duration": 7,
    "start_time": "2023-01-05T15:06:33.697Z"
   },
   {
    "duration": 23,
    "start_time": "2023-01-05T15:06:33.705Z"
   },
   {
    "duration": 11,
    "start_time": "2023-01-05T15:06:33.730Z"
   },
   {
    "duration": 35,
    "start_time": "2023-01-05T15:06:33.744Z"
   },
   {
    "duration": 11,
    "start_time": "2023-01-05T15:06:33.781Z"
   },
   {
    "duration": 25,
    "start_time": "2023-01-05T15:06:33.794Z"
   },
   {
    "duration": 18,
    "start_time": "2023-01-05T15:06:33.821Z"
   },
   {
    "duration": 1069,
    "start_time": "2023-01-05T15:07:58.152Z"
   },
   {
    "duration": 28,
    "start_time": "2023-01-05T15:07:59.223Z"
   },
   {
    "duration": 10,
    "start_time": "2023-01-05T15:07:59.252Z"
   },
   {
    "duration": 5,
    "start_time": "2023-01-05T15:07:59.264Z"
   },
   {
    "duration": 7,
    "start_time": "2023-01-05T15:07:59.270Z"
   },
   {
    "duration": 13,
    "start_time": "2023-01-05T15:07:59.278Z"
   },
   {
    "duration": 8,
    "start_time": "2023-01-05T15:07:59.293Z"
   },
   {
    "duration": 16,
    "start_time": "2023-01-05T15:07:59.302Z"
   },
   {
    "duration": 54,
    "start_time": "2023-01-05T15:07:59.319Z"
   },
   {
    "duration": 8,
    "start_time": "2023-01-05T15:07:59.375Z"
   },
   {
    "duration": 13,
    "start_time": "2023-01-05T15:07:59.385Z"
   },
   {
    "duration": 15,
    "start_time": "2023-01-05T15:07:59.400Z"
   },
   {
    "duration": 13,
    "start_time": "2023-01-05T15:07:59.417Z"
   },
   {
    "duration": 4,
    "start_time": "2023-01-05T15:07:59.433Z"
   },
   {
    "duration": 8,
    "start_time": "2023-01-05T15:07:59.439Z"
   },
   {
    "duration": 33,
    "start_time": "2023-01-05T15:07:59.449Z"
   },
   {
    "duration": 8,
    "start_time": "2023-01-05T15:07:59.484Z"
   },
   {
    "duration": 14,
    "start_time": "2023-01-05T15:07:59.494Z"
   },
   {
    "duration": 11,
    "start_time": "2023-01-05T15:07:59.510Z"
   },
   {
    "duration": 302,
    "start_time": "2023-01-05T15:07:59.522Z"
   },
   {
    "duration": 319,
    "start_time": "2023-01-05T15:07:59.826Z"
   },
   {
    "duration": 236,
    "start_time": "2023-01-05T15:08:00.148Z"
   },
   {
    "duration": 346,
    "start_time": "2023-01-05T15:08:00.385Z"
   },
   {
    "duration": 286,
    "start_time": "2023-01-05T15:08:00.734Z"
   },
   {
    "duration": 326,
    "start_time": "2023-01-05T15:08:01.022Z"
   },
   {
    "duration": 11,
    "start_time": "2023-01-05T15:08:01.350Z"
   },
   {
    "duration": 120,
    "start_time": "2023-01-05T15:08:01.362Z"
   },
   {
    "duration": 5,
    "start_time": "2023-01-05T15:08:01.483Z"
   },
   {
    "duration": 161,
    "start_time": "2023-01-05T15:08:01.489Z"
   },
   {
    "duration": 5,
    "start_time": "2023-01-05T15:08:01.652Z"
   },
   {
    "duration": 254,
    "start_time": "2023-01-05T15:08:01.658Z"
   },
   {
    "duration": 136,
    "start_time": "2023-01-05T15:08:01.914Z"
   },
   {
    "duration": 8,
    "start_time": "2023-01-05T15:08:02.052Z"
   },
   {
    "duration": 33,
    "start_time": "2023-01-05T15:08:02.061Z"
   },
   {
    "duration": 12,
    "start_time": "2023-01-05T15:08:02.096Z"
   },
   {
    "duration": 16,
    "start_time": "2023-01-05T15:08:02.110Z"
   },
   {
    "duration": 48,
    "start_time": "2023-01-05T15:08:02.128Z"
   },
   {
    "duration": 46,
    "start_time": "2023-01-05T15:08:02.178Z"
   },
   {
    "duration": 25,
    "start_time": "2023-01-05T15:08:02.226Z"
   },
   {
    "duration": 1201,
    "start_time": "2023-01-05T16:20:03.138Z"
   },
   {
    "duration": 69,
    "start_time": "2023-01-05T16:20:04.341Z"
   },
   {
    "duration": 12,
    "start_time": "2023-01-05T16:20:04.412Z"
   },
   {
    "duration": 5,
    "start_time": "2023-01-05T16:20:04.425Z"
   },
   {
    "duration": 11,
    "start_time": "2023-01-05T16:20:04.432Z"
   },
   {
    "duration": 12,
    "start_time": "2023-01-05T16:20:04.445Z"
   },
   {
    "duration": 6,
    "start_time": "2023-01-05T16:20:04.459Z"
   },
   {
    "duration": 14,
    "start_time": "2023-01-05T16:20:04.466Z"
   },
   {
    "duration": 126,
    "start_time": "2023-01-05T16:20:04.482Z"
   },
   {
    "duration": 9,
    "start_time": "2023-01-05T16:20:04.610Z"
   },
   {
    "duration": 10,
    "start_time": "2023-01-05T16:20:04.620Z"
   },
   {
    "duration": 13,
    "start_time": "2023-01-05T16:20:04.631Z"
   },
   {
    "duration": 16,
    "start_time": "2023-01-05T16:20:04.646Z"
   },
   {
    "duration": 6,
    "start_time": "2023-01-05T16:20:04.665Z"
   },
   {
    "duration": 9,
    "start_time": "2023-01-05T16:20:04.672Z"
   },
   {
    "duration": 10,
    "start_time": "2023-01-05T16:20:04.683Z"
   },
   {
    "duration": 28,
    "start_time": "2023-01-05T16:20:04.695Z"
   },
   {
    "duration": 14,
    "start_time": "2023-01-05T16:20:04.725Z"
   },
   {
    "duration": 12,
    "start_time": "2023-01-05T16:20:04.741Z"
   },
   {
    "duration": 308,
    "start_time": "2023-01-05T16:20:04.755Z"
   },
   {
    "duration": 321,
    "start_time": "2023-01-05T16:20:05.065Z"
   },
   {
    "duration": 260,
    "start_time": "2023-01-05T16:20:05.388Z"
   },
   {
    "duration": 339,
    "start_time": "2023-01-05T16:20:05.650Z"
   },
   {
    "duration": 296,
    "start_time": "2023-01-05T16:20:05.992Z"
   },
   {
    "duration": 372,
    "start_time": "2023-01-05T16:20:06.289Z"
   },
   {
    "duration": 11,
    "start_time": "2023-01-05T16:20:06.663Z"
   },
   {
    "duration": 127,
    "start_time": "2023-01-05T16:20:06.676Z"
   },
   {
    "duration": 4,
    "start_time": "2023-01-05T16:20:06.805Z"
   },
   {
    "duration": 129,
    "start_time": "2023-01-05T16:20:06.811Z"
   },
   {
    "duration": 5,
    "start_time": "2023-01-05T16:20:06.941Z"
   },
   {
    "duration": 231,
    "start_time": "2023-01-05T16:20:06.947Z"
   },
   {
    "duration": 125,
    "start_time": "2023-01-05T16:20:07.180Z"
   },
   {
    "duration": 6,
    "start_time": "2023-01-05T16:20:07.307Z"
   },
   {
    "duration": 23,
    "start_time": "2023-01-05T16:20:07.322Z"
   },
   {
    "duration": 11,
    "start_time": "2023-01-05T16:20:07.346Z"
   },
   {
    "duration": 12,
    "start_time": "2023-01-05T16:20:07.359Z"
   },
   {
    "duration": 23,
    "start_time": "2023-01-05T16:20:07.373Z"
   },
   {
    "duration": 35,
    "start_time": "2023-01-05T16:20:07.398Z"
   },
   {
    "duration": 13,
    "start_time": "2023-01-05T16:20:07.435Z"
   },
   {
    "duration": 1101,
    "start_time": "2023-01-07T09:19:33.859Z"
   },
   {
    "duration": 74,
    "start_time": "2023-01-07T09:19:34.962Z"
   },
   {
    "duration": 10,
    "start_time": "2023-01-07T09:19:35.038Z"
   },
   {
    "duration": 3,
    "start_time": "2023-01-07T09:19:35.050Z"
   },
   {
    "duration": 7,
    "start_time": "2023-01-07T09:19:35.054Z"
   },
   {
    "duration": 9,
    "start_time": "2023-01-07T09:19:35.062Z"
   },
   {
    "duration": 5,
    "start_time": "2023-01-07T09:19:35.073Z"
   },
   {
    "duration": 12,
    "start_time": "2023-01-07T09:19:35.079Z"
   },
   {
    "duration": 142,
    "start_time": "2023-01-07T09:19:35.093Z"
   },
   {
    "duration": 8,
    "start_time": "2023-01-07T09:19:35.238Z"
   },
   {
    "duration": 8,
    "start_time": "2023-01-07T09:19:35.248Z"
   },
   {
    "duration": 10,
    "start_time": "2023-01-07T09:19:35.258Z"
   },
   {
    "duration": 13,
    "start_time": "2023-01-07T09:19:35.270Z"
   },
   {
    "duration": 6,
    "start_time": "2023-01-07T09:19:35.284Z"
   },
   {
    "duration": 8,
    "start_time": "2023-01-07T09:19:35.292Z"
   },
   {
    "duration": 9,
    "start_time": "2023-01-07T09:19:35.301Z"
   },
   {
    "duration": 9,
    "start_time": "2023-01-07T09:19:35.311Z"
   },
   {
    "duration": 12,
    "start_time": "2023-01-07T09:19:35.322Z"
   },
   {
    "duration": 12,
    "start_time": "2023-01-07T09:19:35.335Z"
   },
   {
    "duration": 267,
    "start_time": "2023-01-07T09:19:35.349Z"
   },
   {
    "duration": 298,
    "start_time": "2023-01-07T09:19:35.618Z"
   },
   {
    "duration": 224,
    "start_time": "2023-01-07T09:19:35.918Z"
   },
   {
    "duration": 370,
    "start_time": "2023-01-07T09:19:36.143Z"
   },
   {
    "duration": 264,
    "start_time": "2023-01-07T09:19:36.515Z"
   },
   {
    "duration": 343,
    "start_time": "2023-01-07T09:19:36.781Z"
   },
   {
    "duration": 10,
    "start_time": "2023-01-07T09:19:37.126Z"
   },
   {
    "duration": 118,
    "start_time": "2023-01-07T09:19:37.138Z"
   },
   {
    "duration": 5,
    "start_time": "2023-01-07T09:19:37.259Z"
   },
   {
    "duration": 134,
    "start_time": "2023-01-07T09:19:37.265Z"
   },
   {
    "duration": 4,
    "start_time": "2023-01-07T09:19:37.400Z"
   },
   {
    "duration": 217,
    "start_time": "2023-01-07T09:19:37.406Z"
   },
   {
    "duration": 129,
    "start_time": "2023-01-07T09:19:37.624Z"
   },
   {
    "duration": 5,
    "start_time": "2023-01-07T09:19:37.754Z"
   },
   {
    "duration": 22,
    "start_time": "2023-01-07T09:19:37.761Z"
   },
   {
    "duration": 9,
    "start_time": "2023-01-07T09:19:37.785Z"
   },
   {
    "duration": 8,
    "start_time": "2023-01-07T09:19:37.815Z"
   },
   {
    "duration": 8,
    "start_time": "2023-01-07T09:19:37.824Z"
   },
   {
    "duration": 22,
    "start_time": "2023-01-07T09:19:37.833Z"
   },
   {
    "duration": 12,
    "start_time": "2023-01-07T09:19:37.857Z"
   },
   {
    "duration": 284,
    "start_time": "2023-01-07T09:26:35.495Z"
   },
   {
    "duration": 46,
    "start_time": "2023-01-07T09:27:09.491Z"
   },
   {
    "duration": 201,
    "start_time": "2023-01-07T09:27:44.791Z"
   },
   {
    "duration": 311,
    "start_time": "2023-01-07T09:28:18.556Z"
   },
   {
    "duration": 369,
    "start_time": "2023-01-07T09:28:42.166Z"
   },
   {
    "duration": 235,
    "start_time": "2023-01-07T09:28:51.339Z"
   },
   {
    "duration": 227,
    "start_time": "2023-01-07T09:29:40.515Z"
   },
   {
    "duration": 317,
    "start_time": "2023-01-07T09:31:18.841Z"
   },
   {
    "duration": 370,
    "start_time": "2023-01-07T09:33:30.404Z"
   },
   {
    "duration": 339,
    "start_time": "2023-01-07T09:33:44.710Z"
   },
   {
    "duration": 113,
    "start_time": "2023-01-07T09:37:26.643Z"
   },
   {
    "duration": 110,
    "start_time": "2023-01-07T09:37:37.964Z"
   },
   {
    "duration": 183,
    "start_time": "2023-01-07T09:37:42.957Z"
   },
   {
    "duration": 135,
    "start_time": "2023-01-07T09:38:16.353Z"
   },
   {
    "duration": 130,
    "start_time": "2023-01-07T09:39:33.581Z"
   },
   {
    "duration": 44,
    "start_time": "2023-01-07T09:47:59.053Z"
   },
   {
    "duration": 41,
    "start_time": "2023-01-07T09:48:49.071Z"
   },
   {
    "duration": 9,
    "start_time": "2023-01-07T09:49:01.132Z"
   },
   {
    "duration": 44,
    "start_time": "2023-01-07T09:49:53.069Z"
   },
   {
    "duration": 3,
    "start_time": "2023-01-07T10:10:34.898Z"
   },
   {
    "duration": 30,
    "start_time": "2023-01-07T10:10:34.903Z"
   },
   {
    "duration": 7,
    "start_time": "2023-01-07T10:10:34.934Z"
   },
   {
    "duration": 5,
    "start_time": "2023-01-07T10:10:34.942Z"
   },
   {
    "duration": 5,
    "start_time": "2023-01-07T10:10:34.949Z"
   },
   {
    "duration": 11,
    "start_time": "2023-01-07T10:10:34.956Z"
   },
   {
    "duration": 6,
    "start_time": "2023-01-07T10:10:34.969Z"
   },
   {
    "duration": 13,
    "start_time": "2023-01-07T10:10:34.976Z"
   },
   {
    "duration": 56,
    "start_time": "2023-01-07T10:10:34.991Z"
   },
   {
    "duration": 8,
    "start_time": "2023-01-07T10:10:35.049Z"
   },
   {
    "duration": 11,
    "start_time": "2023-01-07T10:10:35.059Z"
   },
   {
    "duration": 12,
    "start_time": "2023-01-07T10:10:35.071Z"
   },
   {
    "duration": 11,
    "start_time": "2023-01-07T10:10:35.084Z"
   },
   {
    "duration": 13,
    "start_time": "2023-01-07T10:10:35.098Z"
   },
   {
    "duration": 8,
    "start_time": "2023-01-07T10:10:35.112Z"
   },
   {
    "duration": 8,
    "start_time": "2023-01-07T10:10:35.121Z"
   },
   {
    "duration": 8,
    "start_time": "2023-01-07T10:10:35.130Z"
   },
   {
    "duration": 11,
    "start_time": "2023-01-07T10:10:35.140Z"
   },
   {
    "duration": 11,
    "start_time": "2023-01-07T10:10:35.152Z"
   },
   {
    "duration": 277,
    "start_time": "2023-01-07T10:10:35.164Z"
   },
   {
    "duration": 213,
    "start_time": "2023-01-07T10:10:35.442Z"
   },
   {
    "duration": 223,
    "start_time": "2023-01-07T10:10:35.657Z"
   },
   {
    "duration": 358,
    "start_time": "2023-01-07T10:10:35.882Z"
   },
   {
    "duration": 286,
    "start_time": "2023-01-07T10:10:36.242Z"
   },
   {
    "duration": 329,
    "start_time": "2023-01-07T10:10:36.529Z"
   },
   {
    "duration": 10,
    "start_time": "2023-01-07T10:10:36.860Z"
   },
   {
    "duration": 131,
    "start_time": "2023-01-07T10:10:36.871Z"
   },
   {
    "duration": 5,
    "start_time": "2023-01-07T10:10:37.003Z"
   },
   {
    "duration": 145,
    "start_time": "2023-01-07T10:10:37.016Z"
   },
   {
    "duration": 4,
    "start_time": "2023-01-07T10:10:37.163Z"
   },
   {
    "duration": 129,
    "start_time": "2023-01-07T10:10:37.169Z"
   },
   {
    "duration": 787,
    "start_time": "2023-01-07T10:10:37.300Z"
   },
   {
    "duration": 0,
    "start_time": "2023-01-07T10:10:38.088Z"
   },
   {
    "duration": 0,
    "start_time": "2023-01-07T10:10:38.090Z"
   },
   {
    "duration": 0,
    "start_time": "2023-01-07T10:10:38.091Z"
   },
   {
    "duration": 0,
    "start_time": "2023-01-07T10:10:38.092Z"
   },
   {
    "duration": 0,
    "start_time": "2023-01-07T10:10:38.093Z"
   },
   {
    "duration": 0,
    "start_time": "2023-01-07T10:10:38.094Z"
   },
   {
    "duration": 8,
    "start_time": "2023-01-07T10:11:25.411Z"
   },
   {
    "duration": 8,
    "start_time": "2023-01-07T10:11:31.852Z"
   },
   {
    "duration": 209,
    "start_time": "2023-01-07T10:12:12.872Z"
   },
   {
    "duration": 5,
    "start_time": "2023-01-07T10:13:04.290Z"
   },
   {
    "duration": 8,
    "start_time": "2023-01-07T10:14:50.383Z"
   },
   {
    "duration": 12,
    "start_time": "2023-01-07T10:15:20.978Z"
   },
   {
    "duration": 19,
    "start_time": "2023-01-07T10:15:28.941Z"
   },
   {
    "duration": 20,
    "start_time": "2023-01-07T10:15:49.614Z"
   },
   {
    "duration": 19,
    "start_time": "2023-01-07T10:15:57.637Z"
   },
   {
    "duration": 244,
    "start_time": "2023-01-07T10:17:58.867Z"
   },
   {
    "duration": 17,
    "start_time": "2023-01-07T10:18:08.693Z"
   },
   {
    "duration": 10,
    "start_time": "2023-01-07T10:18:26.946Z"
   },
   {
    "duration": 8,
    "start_time": "2023-01-07T10:19:03.363Z"
   },
   {
    "duration": 6,
    "start_time": "2023-01-07T10:19:54.377Z"
   },
   {
    "duration": 20,
    "start_time": "2023-01-07T10:19:57.503Z"
   },
   {
    "duration": 17,
    "start_time": "2023-01-07T10:20:29.411Z"
   },
   {
    "duration": 4,
    "start_time": "2023-01-07T10:20:36.339Z"
   },
   {
    "duration": 48,
    "start_time": "2023-01-07T10:20:36.344Z"
   },
   {
    "duration": 7,
    "start_time": "2023-01-07T10:20:36.393Z"
   },
   {
    "duration": 4,
    "start_time": "2023-01-07T10:20:36.402Z"
   },
   {
    "duration": 5,
    "start_time": "2023-01-07T10:20:36.408Z"
   },
   {
    "duration": 18,
    "start_time": "2023-01-07T10:20:36.415Z"
   },
   {
    "duration": 7,
    "start_time": "2023-01-07T10:20:36.435Z"
   },
   {
    "duration": 11,
    "start_time": "2023-01-07T10:20:36.444Z"
   },
   {
    "duration": 52,
    "start_time": "2023-01-07T10:20:36.457Z"
   },
   {
    "duration": 12,
    "start_time": "2023-01-07T10:20:36.513Z"
   },
   {
    "duration": 11,
    "start_time": "2023-01-07T10:20:36.527Z"
   },
   {
    "duration": 10,
    "start_time": "2023-01-07T10:20:36.540Z"
   },
   {
    "duration": 11,
    "start_time": "2023-01-07T10:20:36.552Z"
   },
   {
    "duration": 4,
    "start_time": "2023-01-07T10:20:36.566Z"
   },
   {
    "duration": 8,
    "start_time": "2023-01-07T10:20:36.571Z"
   },
   {
    "duration": 10,
    "start_time": "2023-01-07T10:20:36.580Z"
   },
   {
    "duration": 23,
    "start_time": "2023-01-07T10:20:36.592Z"
   },
   {
    "duration": 11,
    "start_time": "2023-01-07T10:20:36.617Z"
   },
   {
    "duration": 10,
    "start_time": "2023-01-07T10:20:36.629Z"
   },
   {
    "duration": 270,
    "start_time": "2023-01-07T10:20:36.640Z"
   },
   {
    "duration": 281,
    "start_time": "2023-01-07T10:20:36.912Z"
   },
   {
    "duration": 211,
    "start_time": "2023-01-07T10:20:37.195Z"
   },
   {
    "duration": 334,
    "start_time": "2023-01-07T10:20:37.407Z"
   },
   {
    "duration": 242,
    "start_time": "2023-01-07T10:20:37.743Z"
   },
   {
    "duration": 360,
    "start_time": "2023-01-07T10:20:37.987Z"
   },
   {
    "duration": 10,
    "start_time": "2023-01-07T10:20:38.349Z"
   },
   {
    "duration": 125,
    "start_time": "2023-01-07T10:20:38.361Z"
   },
   {
    "duration": 5,
    "start_time": "2023-01-07T10:20:38.487Z"
   },
   {
    "duration": 145,
    "start_time": "2023-01-07T10:20:38.493Z"
   },
   {
    "duration": 5,
    "start_time": "2023-01-07T10:20:38.639Z"
   },
   {
    "duration": 139,
    "start_time": "2023-01-07T10:20:38.645Z"
   },
   {
    "duration": 17,
    "start_time": "2023-01-07T10:20:38.785Z"
   },
   {
    "duration": 15,
    "start_time": "2023-01-07T10:20:38.803Z"
   },
   {
    "duration": 26,
    "start_time": "2023-01-07T10:20:38.820Z"
   },
   {
    "duration": 9,
    "start_time": "2023-01-07T10:20:38.848Z"
   },
   {
    "duration": 9,
    "start_time": "2023-01-07T10:20:38.858Z"
   },
   {
    "duration": 701,
    "start_time": "2023-01-07T10:20:38.868Z"
   },
   {
    "duration": 0,
    "start_time": "2023-01-07T10:20:39.571Z"
   },
   {
    "duration": 0,
    "start_time": "2023-01-07T10:20:39.572Z"
   },
   {
    "duration": 9,
    "start_time": "2023-01-07T10:22:12.043Z"
   },
   {
    "duration": 23,
    "start_time": "2023-01-07T10:22:15.309Z"
   },
   {
    "duration": 8,
    "start_time": "2023-01-07T10:22:32.588Z"
   },
   {
    "duration": 13,
    "start_time": "2023-01-07T10:22:56.649Z"
   },
   {
    "duration": 1001,
    "start_time": "2023-01-07T10:25:09.654Z"
   },
   {
    "duration": 28,
    "start_time": "2023-01-07T10:25:10.657Z"
   },
   {
    "duration": 10,
    "start_time": "2023-01-07T10:25:10.686Z"
   },
   {
    "duration": 3,
    "start_time": "2023-01-07T10:25:10.698Z"
   },
   {
    "duration": 7,
    "start_time": "2023-01-07T10:25:10.703Z"
   },
   {
    "duration": 16,
    "start_time": "2023-01-07T10:25:10.711Z"
   },
   {
    "duration": 6,
    "start_time": "2023-01-07T10:25:10.728Z"
   },
   {
    "duration": 11,
    "start_time": "2023-01-07T10:25:10.735Z"
   },
   {
    "duration": 53,
    "start_time": "2023-01-07T10:25:10.748Z"
   },
   {
    "duration": 8,
    "start_time": "2023-01-07T10:25:10.804Z"
   },
   {
    "duration": 9,
    "start_time": "2023-01-07T10:25:10.814Z"
   },
   {
    "duration": 15,
    "start_time": "2023-01-07T10:25:10.824Z"
   },
   {
    "duration": 9,
    "start_time": "2023-01-07T10:25:10.842Z"
   },
   {
    "duration": 4,
    "start_time": "2023-01-07T10:25:10.852Z"
   },
   {
    "duration": 11,
    "start_time": "2023-01-07T10:25:10.858Z"
   },
   {
    "duration": 10,
    "start_time": "2023-01-07T10:25:10.871Z"
   },
   {
    "duration": 8,
    "start_time": "2023-01-07T10:25:10.883Z"
   },
   {
    "duration": 25,
    "start_time": "2023-01-07T10:25:10.892Z"
   },
   {
    "duration": 12,
    "start_time": "2023-01-07T10:25:10.918Z"
   },
   {
    "duration": 269,
    "start_time": "2023-01-07T10:25:10.931Z"
   },
   {
    "duration": 287,
    "start_time": "2023-01-07T10:25:11.201Z"
   },
   {
    "duration": 219,
    "start_time": "2023-01-07T10:25:11.490Z"
   },
   {
    "duration": 329,
    "start_time": "2023-01-07T10:25:11.711Z"
   },
   {
    "duration": 269,
    "start_time": "2023-01-07T10:25:12.042Z"
   },
   {
    "duration": 363,
    "start_time": "2023-01-07T10:25:12.314Z"
   },
   {
    "duration": 11,
    "start_time": "2023-01-07T10:25:12.679Z"
   },
   {
    "duration": 127,
    "start_time": "2023-01-07T10:25:12.692Z"
   },
   {
    "duration": 4,
    "start_time": "2023-01-07T10:25:12.822Z"
   },
   {
    "duration": 141,
    "start_time": "2023-01-07T10:25:12.828Z"
   },
   {
    "duration": 5,
    "start_time": "2023-01-07T10:25:12.970Z"
   },
   {
    "duration": 131,
    "start_time": "2023-01-07T10:25:12.976Z"
   },
   {
    "duration": 19,
    "start_time": "2023-01-07T10:25:13.108Z"
   },
   {
    "duration": 8,
    "start_time": "2023-01-07T10:25:13.129Z"
   },
   {
    "duration": 24,
    "start_time": "2023-01-07T10:25:13.138Z"
   },
   {
    "duration": 9,
    "start_time": "2023-01-07T10:25:13.164Z"
   },
   {
    "duration": 11,
    "start_time": "2023-01-07T10:25:13.174Z"
   },
   {
    "duration": 31,
    "start_time": "2023-01-07T10:25:13.187Z"
   },
   {
    "duration": 20,
    "start_time": "2023-01-07T10:25:13.220Z"
   },
   {
    "duration": 12,
    "start_time": "2023-01-07T10:25:13.242Z"
   },
   {
    "duration": 13,
    "start_time": "2023-01-07T10:30:13.980Z"
   },
   {
    "duration": 7,
    "start_time": "2023-01-07T10:30:30.493Z"
   },
   {
    "duration": 184,
    "start_time": "2023-01-07T10:30:57.522Z"
   },
   {
    "duration": 201,
    "start_time": "2023-01-07T10:31:15.200Z"
   },
   {
    "duration": 100,
    "start_time": "2023-01-07T10:31:38.104Z"
   },
   {
    "duration": 129,
    "start_time": "2023-01-07T10:31:49.801Z"
   },
   {
    "duration": 133,
    "start_time": "2023-01-07T10:31:55.086Z"
   },
   {
    "duration": 98,
    "start_time": "2023-01-07T10:32:10.337Z"
   },
   {
    "duration": 98,
    "start_time": "2023-01-07T10:32:39.733Z"
   },
   {
    "duration": 14,
    "start_time": "2023-01-07T10:33:50.588Z"
   },
   {
    "duration": 11,
    "start_time": "2023-01-07T10:34:12.907Z"
   },
   {
    "duration": 9,
    "start_time": "2023-01-07T10:34:19.722Z"
   },
   {
    "duration": 129,
    "start_time": "2023-01-07T10:35:54.110Z"
   },
   {
    "duration": 98,
    "start_time": "2023-01-07T10:36:09.781Z"
   },
   {
    "duration": 129,
    "start_time": "2023-01-07T10:36:16.515Z"
   },
   {
    "duration": 131,
    "start_time": "2023-01-07T10:36:30.007Z"
   },
   {
    "duration": 99,
    "start_time": "2023-01-07T10:36:34.580Z"
   },
   {
    "duration": 121,
    "start_time": "2023-01-07T10:36:38.769Z"
   },
   {
    "duration": 100,
    "start_time": "2023-01-07T10:38:29.930Z"
   },
   {
    "duration": 162,
    "start_time": "2023-01-07T10:38:54.989Z"
   },
   {
    "duration": 134,
    "start_time": "2023-01-07T10:39:00.573Z"
   },
   {
    "duration": 9,
    "start_time": "2023-01-07T10:41:50.701Z"
   },
   {
    "duration": 226,
    "start_time": "2023-01-07T10:43:56.202Z"
   },
   {
    "duration": 170,
    "start_time": "2023-01-07T10:44:19.151Z"
   },
   {
    "duration": 51,
    "start_time": "2023-01-07T10:44:39.371Z"
   },
   {
    "duration": 128,
    "start_time": "2023-01-07T10:49:25.484Z"
   },
   {
    "duration": 118,
    "start_time": "2023-01-07T10:50:45.448Z"
   },
   {
    "duration": 117,
    "start_time": "2023-01-07T10:51:45.418Z"
   },
   {
    "duration": 189,
    "start_time": "2023-01-07T10:52:55.038Z"
   },
   {
    "duration": 4,
    "start_time": "2023-01-07T10:55:39.277Z"
   },
   {
    "duration": 254,
    "start_time": "2023-01-07T10:56:49.447Z"
   },
   {
    "duration": 93,
    "start_time": "2023-01-07T10:57:37.689Z"
   },
   {
    "duration": 239,
    "start_time": "2023-01-07T10:57:57.350Z"
   },
   {
    "duration": 162,
    "start_time": "2023-01-07T10:58:05.085Z"
   },
   {
    "duration": 252,
    "start_time": "2023-01-07T10:58:29.719Z"
   },
   {
    "duration": 228,
    "start_time": "2023-01-07T10:58:40.386Z"
   },
   {
    "duration": 244,
    "start_time": "2023-01-07T10:59:00.463Z"
   },
   {
    "duration": 282,
    "start_time": "2023-01-07T10:59:13.621Z"
   },
   {
    "duration": 240,
    "start_time": "2023-01-07T10:59:59.006Z"
   },
   {
    "duration": 253,
    "start_time": "2023-01-07T11:01:39.680Z"
   },
   {
    "duration": 997,
    "start_time": "2023-01-07T11:04:11.056Z"
   },
   {
    "duration": 36,
    "start_time": "2023-01-07T11:04:12.056Z"
   },
   {
    "duration": 11,
    "start_time": "2023-01-07T11:04:12.093Z"
   },
   {
    "duration": 33,
    "start_time": "2023-01-07T11:04:12.106Z"
   },
   {
    "duration": 33,
    "start_time": "2023-01-07T11:04:12.142Z"
   },
   {
    "duration": 23,
    "start_time": "2023-01-07T11:04:12.176Z"
   },
   {
    "duration": 14,
    "start_time": "2023-01-07T11:04:12.201Z"
   },
   {
    "duration": 17,
    "start_time": "2023-01-07T11:04:12.217Z"
   },
   {
    "duration": 63,
    "start_time": "2023-01-07T11:04:12.236Z"
   },
   {
    "duration": 8,
    "start_time": "2023-01-07T11:04:12.301Z"
   },
   {
    "duration": 48,
    "start_time": "2023-01-07T11:04:12.311Z"
   },
   {
    "duration": 19,
    "start_time": "2023-01-07T11:04:12.361Z"
   },
   {
    "duration": 39,
    "start_time": "2023-01-07T11:04:12.382Z"
   },
   {
    "duration": 7,
    "start_time": "2023-01-07T11:04:12.425Z"
   },
   {
    "duration": 14,
    "start_time": "2023-01-07T11:04:12.433Z"
   },
   {
    "duration": 39,
    "start_time": "2023-01-07T11:04:12.448Z"
   },
   {
    "duration": 21,
    "start_time": "2023-01-07T11:04:12.489Z"
   },
   {
    "duration": 21,
    "start_time": "2023-01-07T11:04:12.512Z"
   },
   {
    "duration": 24,
    "start_time": "2023-01-07T11:04:12.535Z"
   },
   {
    "duration": 264,
    "start_time": "2023-01-07T11:04:12.560Z"
   },
   {
    "duration": 292,
    "start_time": "2023-01-07T11:04:12.826Z"
   },
   {
    "duration": 224,
    "start_time": "2023-01-07T11:04:13.120Z"
   },
   {
    "duration": 319,
    "start_time": "2023-01-07T11:04:13.345Z"
   },
   {
    "duration": 265,
    "start_time": "2023-01-07T11:04:13.666Z"
   },
   {
    "duration": 342,
    "start_time": "2023-01-07T11:04:13.933Z"
   },
   {
    "duration": 11,
    "start_time": "2023-01-07T11:04:14.277Z"
   },
   {
    "duration": 129,
    "start_time": "2023-01-07T11:04:14.289Z"
   },
   {
    "duration": 4,
    "start_time": "2023-01-07T11:04:14.420Z"
   },
   {
    "duration": 251,
    "start_time": "2023-01-07T11:04:14.425Z"
   },
   {
    "duration": 4,
    "start_time": "2023-01-07T11:04:14.678Z"
   },
   {
    "duration": 126,
    "start_time": "2023-01-07T11:04:14.683Z"
   },
   {
    "duration": 16,
    "start_time": "2023-01-07T11:04:14.816Z"
   },
   {
    "duration": 5,
    "start_time": "2023-01-07T11:04:14.833Z"
   },
   {
    "duration": 27,
    "start_time": "2023-01-07T11:04:14.839Z"
   },
   {
    "duration": 11,
    "start_time": "2023-01-07T11:04:14.867Z"
   },
   {
    "duration": 8,
    "start_time": "2023-01-07T11:04:14.879Z"
   },
   {
    "duration": 32,
    "start_time": "2023-01-07T11:04:14.888Z"
   },
   {
    "duration": 24,
    "start_time": "2023-01-07T11:04:14.921Z"
   },
   {
    "duration": 12,
    "start_time": "2023-01-07T11:04:14.946Z"
   },
   {
    "duration": 230,
    "start_time": "2023-01-07T11:04:56.872Z"
   },
   {
    "duration": 335,
    "start_time": "2023-01-07T11:05:01.872Z"
   },
   {
    "duration": 230,
    "start_time": "2023-01-07T11:05:07.597Z"
   },
   {
    "duration": 226,
    "start_time": "2023-01-07T11:05:11.663Z"
   },
   {
    "duration": 245,
    "start_time": "2023-01-07T11:05:16.638Z"
   }
  ],
  "kernelspec": {
   "display_name": "Python 3 (ipykernel)",
   "language": "python",
   "name": "python3"
  },
  "language_info": {
   "codemirror_mode": {
    "name": "ipython",
    "version": 3
   },
   "file_extension": ".py",
   "mimetype": "text/x-python",
   "name": "python",
   "nbconvert_exporter": "python",
   "pygments_lexer": "ipython3",
   "version": "3.9.12"
  },
  "toc": {
   "base_numbering": 1,
   "nav_menu": {},
   "number_sections": false,
   "sideBar": true,
   "skip_h1_title": false,
   "title_cell": "Table of Contents",
   "title_sidebar": "Contents",
   "toc_cell": false,
   "toc_position": {
    "height": "calc(100% - 180px)",
    "left": "10px",
    "top": "150px",
    "width": "165px"
   },
   "toc_section_display": true,
   "toc_window_display": true
  }
 },
 "nbformat": 4,
 "nbformat_minor": 2
}
